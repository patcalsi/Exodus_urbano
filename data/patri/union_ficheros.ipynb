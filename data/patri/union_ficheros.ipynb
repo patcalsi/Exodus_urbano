{
 "cells": [
  {
   "cell_type": "code",
   "execution_count": 1,
   "metadata": {},
   "outputs": [],
   "source": [
    "import pandas as pd\n",
    "import matplotlib.pyplot as plt\n",
    "import numpy as np\n",
    "import re\n",
    "import unidecode\n",
    "import os"
   ]
  },
  {
   "cell_type": "markdown",
   "metadata": {},
   "source": [
    "#### Funciones"
   ]
  },
  {
   "cell_type": "code",
   "execution_count": 2,
   "metadata": {},
   "outputs": [],
   "source": [
    "def doClean(text):   \n",
    "    \n",
    "    # Quitar las expresiones tras la barra /\n",
    "    a = re.sub('\\/.*', '', text)\n",
    "    # Quitar las aclaraciones entre paréntesis\n",
    "    a = re.sub('\\(.*\\)', '', a)\n",
    "    # Quitar acentos \n",
    "    a = unidecode.unidecode(a)\n",
    "    # Quitar aquello que no sean palabras o cosa que se le parezca\n",
    "    a = re.sub('\\W', ' ', a) \n",
    "    # Quitar espacios extra en caso de haber\n",
    "    a = re.sub('\\s+', ' ', a)\n",
    "    # Pasar el texto a minúsulas\n",
    "    a = a.lower() \n",
    "    a = a.lstrip()\n",
    "    # Quitar espacio derecha\n",
    "    a = a.rstrip()\n",
    "    a = re.sub(' ', '_', a)\n",
    "    #a = a.strip() \n",
    "    \n",
    "    return a"
   ]
  },
  {
   "cell_type": "markdown",
   "metadata": {},
   "source": [
    "#### Carga y union de ficheros"
   ]
  },
  {
   "cell_type": "code",
   "execution_count": 3,
   "metadata": {},
   "outputs": [
    {
     "data": {
      "text/plain": [
       "'/home/patcalsi/projects/Exodus_urbano/data/patri'"
      ]
     },
     "execution_count": 3,
     "metadata": {},
     "output_type": "execute_result"
    }
   ],
   "source": [
    "os.getcwd()"
   ]
  },
  {
   "cell_type": "code",
   "execution_count": 4,
   "metadata": {},
   "outputs": [
    {
     "data": {
      "text/plain": [
       "['sociedad_seguridad_guardia_civil_2019_limpio.csv',\n",
       " 'limpieza_universidades.ipynb',\n",
       " 'union_ficheros.ipynb',\n",
       " 'wine-prediction-Plantilla.ipynb',\n",
       " 'sociedad_educacion_universidad_2018_limpio.csv',\n",
       " 'sociedad_sanidad_hospitales_2019_limpio.csv',\n",
       " '222450592859675.ipynb',\n",
       " 'sociedad_educacion_colegios_2020_limpio.csv',\n",
       " 'limpieza_establecimientos.ipynb',\n",
       " '.ipynb_checkpoints',\n",
       " 'limpieza_hospitales.ipynb',\n",
       " 'limpieza_usos_suelo.ipynb',\n",
       " 'limpieza_bibliotecas.ipynb',\n",
       " 'Challenge_CityRentals.ipynb',\n",
       " 'tratamiento',\n",
       " 'limpieza_guardia_civil.ipynb',\n",
       " 'fichero_municipios.ipynb',\n",
       " 'sociedad_usos_suelo_2019_limpio.csv',\n",
       " 'economia_turismo_establecimientos_20??_limpio.csv',\n",
       " 'manual.txt',\n",
       " 'sociedad_cultura_bibliotecas_2017_limipio.csv',\n",
       " 'limpieza_colegios.ipynb',\n",
       " 'sociedad_educacion_nivel_formacion_ccaa_2018.csv']"
      ]
     },
     "execution_count": 4,
     "metadata": {},
     "output_type": "execute_result"
    }
   ],
   "source": [
    "os.listdir()"
   ]
  },
  {
   "cell_type": "markdown",
   "metadata": {},
   "source": [
    "## Fichero maestro"
   ]
  },
  {
   "cell_type": "code",
   "execution_count": 167,
   "metadata": {},
   "outputs": [],
   "source": [
    "maestro_municipios = pd.read_csv(\"../maestro_idiomas_ine.csv\", index_col=0, dtype={'postal_code': object})"
   ]
  },
  {
   "cell_type": "code",
   "execution_count": 168,
   "metadata": {},
   "outputs": [
    {
     "data": {
      "text/plain": [
       "(14729, 17)"
      ]
     },
     "execution_count": 168,
     "metadata": {},
     "output_type": "execute_result"
    }
   ],
   "source": [
    "maestro_municipios.shape"
   ]
  },
  {
   "cell_type": "code",
   "execution_count": 169,
   "metadata": {
    "scrolled": false
   },
   "outputs": [
    {
     "data": {
      "text/html": [
       "<div>\n",
       "<style scoped>\n",
       "    .dataframe tbody tr th:only-of-type {\n",
       "        vertical-align: middle;\n",
       "    }\n",
       "\n",
       "    .dataframe tbody tr th {\n",
       "        vertical-align: top;\n",
       "    }\n",
       "\n",
       "    .dataframe thead th {\n",
       "        text-align: right;\n",
       "    }\n",
       "</style>\n",
       "<table border=\"1\" class=\"dataframe\">\n",
       "  <thead>\n",
       "    <tr style=\"text-align: right;\">\n",
       "      <th></th>\n",
       "      <th>ine_code</th>\n",
       "      <th>postal_code</th>\n",
       "      <th>cities_es</th>\n",
       "      <th>cities</th>\n",
       "      <th>province_es</th>\n",
       "      <th>province</th>\n",
       "      <th>ccaa_es</th>\n",
       "      <th>ccaa</th>\n",
       "      <th>cities_es/province_es</th>\n",
       "      <th>cities_es/province</th>\n",
       "      <th>cities_es/ccaa_es</th>\n",
       "      <th>cities_es/ccaa</th>\n",
       "      <th>cities/province_es</th>\n",
       "      <th>province_es/ccaa_es</th>\n",
       "      <th>province_es/ccaa</th>\n",
       "      <th>province/ccaa_es</th>\n",
       "      <th>province/ccaa</th>\n",
       "    </tr>\n",
       "  </thead>\n",
       "  <tbody>\n",
       "    <tr>\n",
       "      <th>0</th>\n",
       "      <td>1001</td>\n",
       "      <td>01240</td>\n",
       "      <td>alegria_dulantzi</td>\n",
       "      <td>alegria_dulantzi</td>\n",
       "      <td>alava</td>\n",
       "      <td>araba</td>\n",
       "      <td>pais_vasco</td>\n",
       "      <td>pais_vasco</td>\n",
       "      <td>alegria_dulantzi/alava</td>\n",
       "      <td>alegria_dulantzi/araba</td>\n",
       "      <td>alegria_dulantzi/pais_vasco</td>\n",
       "      <td>alegria_dulantzi/pais_vasco</td>\n",
       "      <td>alegria_dulantzi/alava</td>\n",
       "      <td>alava/pais_vasco</td>\n",
       "      <td>alava/pais_vasco</td>\n",
       "      <td>araba/pais_vasco</td>\n",
       "      <td>araba/pais_vasco</td>\n",
       "    </tr>\n",
       "    <tr>\n",
       "      <th>1</th>\n",
       "      <td>1001</td>\n",
       "      <td>01193</td>\n",
       "      <td>alegria_dulantzi</td>\n",
       "      <td>alegria_dulantzi</td>\n",
       "      <td>alava</td>\n",
       "      <td>araba</td>\n",
       "      <td>pais_vasco</td>\n",
       "      <td>pais_vasco</td>\n",
       "      <td>alegria_dulantzi/alava</td>\n",
       "      <td>alegria_dulantzi/araba</td>\n",
       "      <td>alegria_dulantzi/pais_vasco</td>\n",
       "      <td>alegria_dulantzi/pais_vasco</td>\n",
       "      <td>alegria_dulantzi/alava</td>\n",
       "      <td>alava/pais_vasco</td>\n",
       "      <td>alava/pais_vasco</td>\n",
       "      <td>araba/pais_vasco</td>\n",
       "      <td>araba/pais_vasco</td>\n",
       "    </tr>\n",
       "    <tr>\n",
       "      <th>2</th>\n",
       "      <td>1002</td>\n",
       "      <td>01450</td>\n",
       "      <td>amurrio</td>\n",
       "      <td>amurrio</td>\n",
       "      <td>alava</td>\n",
       "      <td>araba</td>\n",
       "      <td>pais_vasco</td>\n",
       "      <td>pais_vasco</td>\n",
       "      <td>amurrio/alava</td>\n",
       "      <td>amurrio/araba</td>\n",
       "      <td>amurrio/pais_vasco</td>\n",
       "      <td>amurrio/pais_vasco</td>\n",
       "      <td>amurrio/alava</td>\n",
       "      <td>alava/pais_vasco</td>\n",
       "      <td>alava/pais_vasco</td>\n",
       "      <td>araba/pais_vasco</td>\n",
       "      <td>araba/pais_vasco</td>\n",
       "    </tr>\n",
       "    <tr>\n",
       "      <th>3</th>\n",
       "      <td>1002</td>\n",
       "      <td>01468</td>\n",
       "      <td>amurrio</td>\n",
       "      <td>amurrio</td>\n",
       "      <td>alava</td>\n",
       "      <td>araba</td>\n",
       "      <td>pais_vasco</td>\n",
       "      <td>pais_vasco</td>\n",
       "      <td>amurrio/alava</td>\n",
       "      <td>amurrio/araba</td>\n",
       "      <td>amurrio/pais_vasco</td>\n",
       "      <td>amurrio/pais_vasco</td>\n",
       "      <td>amurrio/alava</td>\n",
       "      <td>alava/pais_vasco</td>\n",
       "      <td>alava/pais_vasco</td>\n",
       "      <td>araba/pais_vasco</td>\n",
       "      <td>araba/pais_vasco</td>\n",
       "    </tr>\n",
       "    <tr>\n",
       "      <th>4</th>\n",
       "      <td>1002</td>\n",
       "      <td>01470</td>\n",
       "      <td>amurrio</td>\n",
       "      <td>amurrio</td>\n",
       "      <td>alava</td>\n",
       "      <td>araba</td>\n",
       "      <td>pais_vasco</td>\n",
       "      <td>pais_vasco</td>\n",
       "      <td>amurrio/alava</td>\n",
       "      <td>amurrio/araba</td>\n",
       "      <td>amurrio/pais_vasco</td>\n",
       "      <td>amurrio/pais_vasco</td>\n",
       "      <td>amurrio/alava</td>\n",
       "      <td>alava/pais_vasco</td>\n",
       "      <td>alava/pais_vasco</td>\n",
       "      <td>araba/pais_vasco</td>\n",
       "      <td>araba/pais_vasco</td>\n",
       "    </tr>\n",
       "  </tbody>\n",
       "</table>\n",
       "</div>"
      ],
      "text/plain": [
       "   ine_code postal_code         cities_es            cities province_es  \\\n",
       "0      1001       01240  alegria_dulantzi  alegria_dulantzi       alava   \n",
       "1      1001       01193  alegria_dulantzi  alegria_dulantzi       alava   \n",
       "2      1002       01450           amurrio           amurrio       alava   \n",
       "3      1002       01468           amurrio           amurrio       alava   \n",
       "4      1002       01470           amurrio           amurrio       alava   \n",
       "\n",
       "  province     ccaa_es        ccaa   cities_es/province_es  \\\n",
       "0    araba  pais_vasco  pais_vasco  alegria_dulantzi/alava   \n",
       "1    araba  pais_vasco  pais_vasco  alegria_dulantzi/alava   \n",
       "2    araba  pais_vasco  pais_vasco           amurrio/alava   \n",
       "3    araba  pais_vasco  pais_vasco           amurrio/alava   \n",
       "4    araba  pais_vasco  pais_vasco           amurrio/alava   \n",
       "\n",
       "       cities_es/province            cities_es/ccaa_es  \\\n",
       "0  alegria_dulantzi/araba  alegria_dulantzi/pais_vasco   \n",
       "1  alegria_dulantzi/araba  alegria_dulantzi/pais_vasco   \n",
       "2           amurrio/araba           amurrio/pais_vasco   \n",
       "3           amurrio/araba           amurrio/pais_vasco   \n",
       "4           amurrio/araba           amurrio/pais_vasco   \n",
       "\n",
       "                cities_es/ccaa      cities/province_es province_es/ccaa_es  \\\n",
       "0  alegria_dulantzi/pais_vasco  alegria_dulantzi/alava    alava/pais_vasco   \n",
       "1  alegria_dulantzi/pais_vasco  alegria_dulantzi/alava    alava/pais_vasco   \n",
       "2           amurrio/pais_vasco           amurrio/alava    alava/pais_vasco   \n",
       "3           amurrio/pais_vasco           amurrio/alava    alava/pais_vasco   \n",
       "4           amurrio/pais_vasco           amurrio/alava    alava/pais_vasco   \n",
       "\n",
       "   province_es/ccaa  province/ccaa_es     province/ccaa  \n",
       "0  alava/pais_vasco  araba/pais_vasco  araba/pais_vasco  \n",
       "1  alava/pais_vasco  araba/pais_vasco  araba/pais_vasco  \n",
       "2  alava/pais_vasco  araba/pais_vasco  araba/pais_vasco  \n",
       "3  alava/pais_vasco  araba/pais_vasco  araba/pais_vasco  \n",
       "4  alava/pais_vasco  araba/pais_vasco  araba/pais_vasco  "
      ]
     },
     "execution_count": 169,
     "metadata": {},
     "output_type": "execute_result"
    }
   ],
   "source": [
    "maestro_municipios.head()"
   ]
  },
  {
   "cell_type": "code",
   "execution_count": 182,
   "metadata": {
    "scrolled": false
   },
   "outputs": [
    {
     "data": {
      "text/html": [
       "<div>\n",
       "<style scoped>\n",
       "    .dataframe tbody tr th:only-of-type {\n",
       "        vertical-align: middle;\n",
       "    }\n",
       "\n",
       "    .dataframe tbody tr th {\n",
       "        vertical-align: top;\n",
       "    }\n",
       "\n",
       "    .dataframe thead th {\n",
       "        text-align: right;\n",
       "    }\n",
       "</style>\n",
       "<table border=\"1\" class=\"dataframe\">\n",
       "  <thead>\n",
       "    <tr style=\"text-align: right;\">\n",
       "      <th></th>\n",
       "      <th>ine_code</th>\n",
       "      <th>postal_code</th>\n",
       "      <th>cities_es</th>\n",
       "      <th>cities</th>\n",
       "      <th>province_es</th>\n",
       "      <th>province</th>\n",
       "      <th>ccaa_es</th>\n",
       "      <th>ccaa</th>\n",
       "      <th>cities_es/province_es</th>\n",
       "      <th>cities_es/province</th>\n",
       "      <th>cities_es/ccaa_es</th>\n",
       "      <th>cities_es/ccaa</th>\n",
       "      <th>cities/province_es</th>\n",
       "      <th>province_es/ccaa_es</th>\n",
       "      <th>province_es/ccaa</th>\n",
       "      <th>province/ccaa_es</th>\n",
       "      <th>province/ccaa</th>\n",
       "    </tr>\n",
       "  </thead>\n",
       "  <tbody>\n",
       "    <tr>\n",
       "      <th>2994</th>\n",
       "      <td>12104</td>\n",
       "      <td>12400</td>\n",
       "      <td>segorbe</td>\n",
       "      <td>segorbe</td>\n",
       "      <td>castellon</td>\n",
       "      <td>castellon</td>\n",
       "      <td>comunidad_valenciana</td>\n",
       "      <td>comunidad_valenciana</td>\n",
       "      <td>segorbe/castellon</td>\n",
       "      <td>segorbe/castellon</td>\n",
       "      <td>segorbe/comunidad_valenciana</td>\n",
       "      <td>segorbe/comunidad_valenciana</td>\n",
       "      <td>segorbe/castellon</td>\n",
       "      <td>castellon/comunidad_valenciana</td>\n",
       "      <td>castellon/comunidad_valenciana</td>\n",
       "      <td>castellon/comunidad_valenciana</td>\n",
       "      <td>castellon/comunidad_valenciana</td>\n",
       "    </tr>\n",
       "  </tbody>\n",
       "</table>\n",
       "</div>"
      ],
      "text/plain": [
       "      ine_code postal_code cities_es   cities province_es   province  \\\n",
       "2994     12104       12400   segorbe  segorbe   castellon  castellon   \n",
       "\n",
       "                   ccaa_es                  ccaa cities_es/province_es  \\\n",
       "2994  comunidad_valenciana  comunidad_valenciana     segorbe/castellon   \n",
       "\n",
       "     cities_es/province             cities_es/ccaa_es  \\\n",
       "2994  segorbe/castellon  segorbe/comunidad_valenciana   \n",
       "\n",
       "                    cities_es/ccaa cities/province_es  \\\n",
       "2994  segorbe/comunidad_valenciana  segorbe/castellon   \n",
       "\n",
       "                 province_es/ccaa_es                province_es/ccaa  \\\n",
       "2994  castellon/comunidad_valenciana  castellon/comunidad_valenciana   \n",
       "\n",
       "                    province/ccaa_es                   province/ccaa  \n",
       "2994  castellon/comunidad_valenciana  castellon/comunidad_valenciana  "
      ]
     },
     "execution_count": 182,
     "metadata": {},
     "output_type": "execute_result"
    }
   ],
   "source": [
    "maestro_municipios[maestro_municipios['cities_es']=='segorbe']"
   ]
  },
  {
   "cell_type": "markdown",
   "metadata": {},
   "source": [
    "## Ficheros especificos"
   ]
  },
  {
   "cell_type": "markdown",
   "metadata": {},
   "source": [
    "##### Bibliotecas"
   ]
  },
  {
   "cell_type": "code",
   "execution_count": 210,
   "metadata": {},
   "outputs": [],
   "source": [
    "bibliotecas = pd.read_csv(\"sociedad_cultura_bibliotecas_2017_limipio.csv\", index_col=0)"
   ]
  },
  {
   "cell_type": "code",
   "execution_count": 211,
   "metadata": {},
   "outputs": [
    {
     "data": {
      "text/plain": [
       "(3323, 4)"
      ]
     },
     "execution_count": 211,
     "metadata": {},
     "output_type": "execute_result"
    }
   ],
   "source": [
    "bibliotecas.shape"
   ]
  },
  {
   "cell_type": "code",
   "execution_count": 212,
   "metadata": {
    "scrolled": false
   },
   "outputs": [
    {
     "data": {
      "text/html": [
       "<div>\n",
       "<style scoped>\n",
       "    .dataframe tbody tr th:only-of-type {\n",
       "        vertical-align: middle;\n",
       "    }\n",
       "\n",
       "    .dataframe tbody tr th {\n",
       "        vertical-align: top;\n",
       "    }\n",
       "\n",
       "    .dataframe thead th {\n",
       "        text-align: right;\n",
       "    }\n",
       "</style>\n",
       "<table border=\"1\" class=\"dataframe\">\n",
       "  <thead>\n",
       "    <tr style=\"text-align: right;\">\n",
       "      <th></th>\n",
       "      <th>municipio_limpio</th>\n",
       "      <th>ccaa</th>\n",
       "      <th>provincia</th>\n",
       "      <th>total_bibliotecas</th>\n",
       "    </tr>\n",
       "  </thead>\n",
       "  <tbody>\n",
       "    <tr>\n",
       "      <th>0</th>\n",
       "      <td>alaior</td>\n",
       "      <td>illes_balears</td>\n",
       "      <td>illes_balears</td>\n",
       "      <td>1</td>\n",
       "    </tr>\n",
       "    <tr>\n",
       "      <th>1</th>\n",
       "      <td>alaro</td>\n",
       "      <td>illes_balears</td>\n",
       "      <td>illes_balears</td>\n",
       "      <td>1</td>\n",
       "    </tr>\n",
       "  </tbody>\n",
       "</table>\n",
       "</div>"
      ],
      "text/plain": [
       "  municipio_limpio           ccaa      provincia  total_bibliotecas\n",
       "0           alaior  illes_balears  illes_balears                  1\n",
       "1            alaro  illes_balears  illes_balears                  1"
      ]
     },
     "execution_count": 212,
     "metadata": {},
     "output_type": "execute_result"
    }
   ],
   "source": [
    "bibliotecas.head(2)"
   ]
  },
  {
   "cell_type": "code",
   "execution_count": 213,
   "metadata": {},
   "outputs": [
    {
     "data": {
      "text/html": [
       "<div>\n",
       "<style scoped>\n",
       "    .dataframe tbody tr th:only-of-type {\n",
       "        vertical-align: middle;\n",
       "    }\n",
       "\n",
       "    .dataframe tbody tr th {\n",
       "        vertical-align: top;\n",
       "    }\n",
       "\n",
       "    .dataframe thead th {\n",
       "        text-align: right;\n",
       "    }\n",
       "</style>\n",
       "<table border=\"1\" class=\"dataframe\">\n",
       "  <thead>\n",
       "    <tr style=\"text-align: right;\">\n",
       "      <th></th>\n",
       "      <th>municipio_limpio</th>\n",
       "      <th>ccaa</th>\n",
       "      <th>provincia</th>\n",
       "      <th>total_bibliotecas</th>\n",
       "    </tr>\n",
       "  </thead>\n",
       "  <tbody>\n",
       "    <tr>\n",
       "      <th>3313</th>\n",
       "      <td>segorbe</td>\n",
       "      <td>comunidad_valenciana</td>\n",
       "      <td>castellon_castello</td>\n",
       "      <td>2</td>\n",
       "    </tr>\n",
       "  </tbody>\n",
       "</table>\n",
       "</div>"
      ],
      "text/plain": [
       "     municipio_limpio                  ccaa           provincia  \\\n",
       "3313          segorbe  comunidad_valenciana  castellon_castello   \n",
       "\n",
       "      total_bibliotecas  \n",
       "3313                  2  "
      ]
     },
     "execution_count": 213,
     "metadata": {},
     "output_type": "execute_result"
    }
   ],
   "source": [
    "bibliotecas[bibliotecas['municipio_limpio']=='segorbe']"
   ]
  },
  {
   "cell_type": "code",
   "execution_count": 214,
   "metadata": {},
   "outputs": [],
   "source": [
    "bibliotecas['cities_es/ccaa_es'] = bibliotecas['municipio_limpio']+\"/\"+bibliotecas['ccaa']"
   ]
  },
  {
   "cell_type": "code",
   "execution_count": 215,
   "metadata": {},
   "outputs": [],
   "source": [
    "bibliotecas = bibliotecas.drop(columns=['municipio_limpio', 'ccaa', 'provincia'])"
   ]
  },
  {
   "cell_type": "code",
   "execution_count": 217,
   "metadata": {},
   "outputs": [],
   "source": [
    "union = pd.merge(maestro_municipios, bibliotecas, left_on='cities_es/ccaa_es', right_on='cities_es/ccaa_es', how='left')"
   ]
  },
  {
   "cell_type": "code",
   "execution_count": 218,
   "metadata": {},
   "outputs": [
    {
     "data": {
      "text/plain": [
       "(7653, 18)"
      ]
     },
     "execution_count": 218,
     "metadata": {},
     "output_type": "execute_result"
    }
   ],
   "source": [
    "union[~union['total_bibliotecas'].isnull()].shape"
   ]
  },
  {
   "cell_type": "code",
   "execution_count": 219,
   "metadata": {
    "scrolled": true
   },
   "outputs": [
    {
     "data": {
      "text/html": [
       "<div>\n",
       "<style scoped>\n",
       "    .dataframe tbody tr th:only-of-type {\n",
       "        vertical-align: middle;\n",
       "    }\n",
       "\n",
       "    .dataframe tbody tr th {\n",
       "        vertical-align: top;\n",
       "    }\n",
       "\n",
       "    .dataframe thead th {\n",
       "        text-align: right;\n",
       "    }\n",
       "</style>\n",
       "<table border=\"1\" class=\"dataframe\">\n",
       "  <thead>\n",
       "    <tr style=\"text-align: right;\">\n",
       "      <th></th>\n",
       "      <th>ine_code</th>\n",
       "      <th>postal_code</th>\n",
       "      <th>cities_es</th>\n",
       "      <th>cities</th>\n",
       "      <th>province_es</th>\n",
       "      <th>province</th>\n",
       "      <th>ccaa_es</th>\n",
       "      <th>ccaa</th>\n",
       "      <th>cities_es/province_es</th>\n",
       "      <th>cities_es/province</th>\n",
       "      <th>cities_es/ccaa_es</th>\n",
       "      <th>cities_es/ccaa</th>\n",
       "      <th>cities/province_es</th>\n",
       "      <th>province_es/ccaa_es</th>\n",
       "      <th>province_es/ccaa</th>\n",
       "      <th>province/ccaa_es</th>\n",
       "      <th>province/ccaa</th>\n",
       "      <th>total_bibliotecas</th>\n",
       "    </tr>\n",
       "  </thead>\n",
       "  <tbody>\n",
       "    <tr>\n",
       "      <th>0</th>\n",
       "      <td>1001</td>\n",
       "      <td>01240</td>\n",
       "      <td>alegria_dulantzi</td>\n",
       "      <td>alegria_dulantzi</td>\n",
       "      <td>alava</td>\n",
       "      <td>araba</td>\n",
       "      <td>pais_vasco</td>\n",
       "      <td>pais_vasco</td>\n",
       "      <td>alegria_dulantzi/alava</td>\n",
       "      <td>alegria_dulantzi/araba</td>\n",
       "      <td>alegria_dulantzi/pais_vasco</td>\n",
       "      <td>alegria_dulantzi/pais_vasco</td>\n",
       "      <td>alegria_dulantzi/alava</td>\n",
       "      <td>alava/pais_vasco</td>\n",
       "      <td>alava/pais_vasco</td>\n",
       "      <td>araba/pais_vasco</td>\n",
       "      <td>araba/pais_vasco</td>\n",
       "      <td>1.0</td>\n",
       "    </tr>\n",
       "    <tr>\n",
       "      <th>1</th>\n",
       "      <td>1001</td>\n",
       "      <td>01193</td>\n",
       "      <td>alegria_dulantzi</td>\n",
       "      <td>alegria_dulantzi</td>\n",
       "      <td>alava</td>\n",
       "      <td>araba</td>\n",
       "      <td>pais_vasco</td>\n",
       "      <td>pais_vasco</td>\n",
       "      <td>alegria_dulantzi/alava</td>\n",
       "      <td>alegria_dulantzi/araba</td>\n",
       "      <td>alegria_dulantzi/pais_vasco</td>\n",
       "      <td>alegria_dulantzi/pais_vasco</td>\n",
       "      <td>alegria_dulantzi/alava</td>\n",
       "      <td>alava/pais_vasco</td>\n",
       "      <td>alava/pais_vasco</td>\n",
       "      <td>araba/pais_vasco</td>\n",
       "      <td>araba/pais_vasco</td>\n",
       "      <td>1.0</td>\n",
       "    </tr>\n",
       "  </tbody>\n",
       "</table>\n",
       "</div>"
      ],
      "text/plain": [
       "   ine_code postal_code         cities_es            cities province_es  \\\n",
       "0      1001       01240  alegria_dulantzi  alegria_dulantzi       alava   \n",
       "1      1001       01193  alegria_dulantzi  alegria_dulantzi       alava   \n",
       "\n",
       "  province     ccaa_es        ccaa   cities_es/province_es  \\\n",
       "0    araba  pais_vasco  pais_vasco  alegria_dulantzi/alava   \n",
       "1    araba  pais_vasco  pais_vasco  alegria_dulantzi/alava   \n",
       "\n",
       "       cities_es/province            cities_es/ccaa_es  \\\n",
       "0  alegria_dulantzi/araba  alegria_dulantzi/pais_vasco   \n",
       "1  alegria_dulantzi/araba  alegria_dulantzi/pais_vasco   \n",
       "\n",
       "                cities_es/ccaa      cities/province_es province_es/ccaa_es  \\\n",
       "0  alegria_dulantzi/pais_vasco  alegria_dulantzi/alava    alava/pais_vasco   \n",
       "1  alegria_dulantzi/pais_vasco  alegria_dulantzi/alava    alava/pais_vasco   \n",
       "\n",
       "   province_es/ccaa  province/ccaa_es     province/ccaa  total_bibliotecas  \n",
       "0  alava/pais_vasco  araba/pais_vasco  araba/pais_vasco                1.0  \n",
       "1  alava/pais_vasco  araba/pais_vasco  araba/pais_vasco                1.0  "
      ]
     },
     "execution_count": 219,
     "metadata": {},
     "output_type": "execute_result"
    }
   ],
   "source": [
    "union.head(2)"
   ]
  },
  {
   "cell_type": "code",
   "execution_count": 220,
   "metadata": {},
   "outputs": [
    {
     "data": {
      "text/plain": [
       "(14729, 18)"
      ]
     },
     "execution_count": 220,
     "metadata": {},
     "output_type": "execute_result"
    }
   ],
   "source": [
    "union.shape"
   ]
  },
  {
   "cell_type": "markdown",
   "metadata": {},
   "source": [
    "##### Hospitales"
   ]
  },
  {
   "cell_type": "code",
   "execution_count": 221,
   "metadata": {},
   "outputs": [],
   "source": [
    "hospitales = pd.read_csv(\"sociedad_sanidad_hospitales_2019_limpio.csv\", index_col=0, dtype={'cp': object})"
   ]
  },
  {
   "cell_type": "code",
   "execution_count": 222,
   "metadata": {},
   "outputs": [
    {
     "data": {
      "text/plain": [
       "(613, 2)"
      ]
     },
     "execution_count": 222,
     "metadata": {},
     "output_type": "execute_result"
    }
   ],
   "source": [
    "hospitales.shape"
   ]
  },
  {
   "cell_type": "code",
   "execution_count": 223,
   "metadata": {
    "scrolled": false
   },
   "outputs": [
    {
     "data": {
      "text/html": [
       "<div>\n",
       "<style scoped>\n",
       "    .dataframe tbody tr th:only-of-type {\n",
       "        vertical-align: middle;\n",
       "    }\n",
       "\n",
       "    .dataframe tbody tr th {\n",
       "        vertical-align: top;\n",
       "    }\n",
       "\n",
       "    .dataframe thead th {\n",
       "        text-align: right;\n",
       "    }\n",
       "</style>\n",
       "<table border=\"1\" class=\"dataframe\">\n",
       "  <thead>\n",
       "    <tr style=\"text-align: right;\">\n",
       "      <th></th>\n",
       "      <th>cp</th>\n",
       "      <th>uds_hospiatales</th>\n",
       "    </tr>\n",
       "  </thead>\n",
       "  <tbody>\n",
       "    <tr>\n",
       "      <th>0</th>\n",
       "      <td>01002</td>\n",
       "      <td>1</td>\n",
       "    </tr>\n",
       "    <tr>\n",
       "      <th>1</th>\n",
       "      <td>01006</td>\n",
       "      <td>1</td>\n",
       "    </tr>\n",
       "  </tbody>\n",
       "</table>\n",
       "</div>"
      ],
      "text/plain": [
       "      cp  uds_hospiatales\n",
       "0  01002                1\n",
       "1  01006                1"
      ]
     },
     "execution_count": 223,
     "metadata": {},
     "output_type": "execute_result"
    }
   ],
   "source": [
    "hospitales.head(2)"
   ]
  },
  {
   "cell_type": "code",
   "execution_count": 104,
   "metadata": {
    "scrolled": true
   },
   "outputs": [
    {
     "data": {
      "text/html": [
       "<div>\n",
       "<style scoped>\n",
       "    .dataframe tbody tr th:only-of-type {\n",
       "        vertical-align: middle;\n",
       "    }\n",
       "\n",
       "    .dataframe tbody tr th {\n",
       "        vertical-align: top;\n",
       "    }\n",
       "\n",
       "    .dataframe thead th {\n",
       "        text-align: right;\n",
       "    }\n",
       "</style>\n",
       "<table border=\"1\" class=\"dataframe\">\n",
       "  <thead>\n",
       "    <tr style=\"text-align: right;\">\n",
       "      <th></th>\n",
       "      <th>cp</th>\n",
       "      <th>uds_hospiatales</th>\n",
       "    </tr>\n",
       "  </thead>\n",
       "  <tbody>\n",
       "  </tbody>\n",
       "</table>\n",
       "</div>"
      ],
      "text/plain": [
       "Empty DataFrame\n",
       "Columns: [cp, uds_hospiatales]\n",
       "Index: []"
      ]
     },
     "execution_count": 104,
     "metadata": {},
     "output_type": "execute_result"
    }
   ],
   "source": [
    "hospitales[hospitales['cp']=='12400']"
   ]
  },
  {
   "cell_type": "code",
   "execution_count": 224,
   "metadata": {},
   "outputs": [],
   "source": [
    "union = pd.merge(union, hospitales, left_on='postal_code', right_on='cp', how='left')"
   ]
  },
  {
   "cell_type": "code",
   "execution_count": 225,
   "metadata": {},
   "outputs": [
    {
     "data": {
      "text/plain": [
       "(650, 20)"
      ]
     },
     "execution_count": 225,
     "metadata": {},
     "output_type": "execute_result"
    }
   ],
   "source": [
    "union[~union['uds_hospiatales'].isnull()].shape"
   ]
  },
  {
   "cell_type": "code",
   "execution_count": 226,
   "metadata": {
    "scrolled": true
   },
   "outputs": [
    {
     "data": {
      "text/html": [
       "<div>\n",
       "<style scoped>\n",
       "    .dataframe tbody tr th:only-of-type {\n",
       "        vertical-align: middle;\n",
       "    }\n",
       "\n",
       "    .dataframe tbody tr th {\n",
       "        vertical-align: top;\n",
       "    }\n",
       "\n",
       "    .dataframe thead th {\n",
       "        text-align: right;\n",
       "    }\n",
       "</style>\n",
       "<table border=\"1\" class=\"dataframe\">\n",
       "  <thead>\n",
       "    <tr style=\"text-align: right;\">\n",
       "      <th></th>\n",
       "      <th>ine_code</th>\n",
       "      <th>postal_code</th>\n",
       "      <th>cities_es</th>\n",
       "      <th>cities</th>\n",
       "      <th>province_es</th>\n",
       "      <th>province</th>\n",
       "      <th>ccaa_es</th>\n",
       "      <th>ccaa</th>\n",
       "      <th>cities_es/province_es</th>\n",
       "      <th>cities_es/province</th>\n",
       "      <th>cities_es/ccaa_es</th>\n",
       "      <th>cities_es/ccaa</th>\n",
       "      <th>cities/province_es</th>\n",
       "      <th>province_es/ccaa_es</th>\n",
       "      <th>province_es/ccaa</th>\n",
       "      <th>province/ccaa_es</th>\n",
       "      <th>province/ccaa</th>\n",
       "      <th>total_bibliotecas</th>\n",
       "      <th>cp</th>\n",
       "      <th>uds_hospiatales</th>\n",
       "    </tr>\n",
       "  </thead>\n",
       "  <tbody>\n",
       "    <tr>\n",
       "      <th>0</th>\n",
       "      <td>1001</td>\n",
       "      <td>01240</td>\n",
       "      <td>alegria_dulantzi</td>\n",
       "      <td>alegria_dulantzi</td>\n",
       "      <td>alava</td>\n",
       "      <td>araba</td>\n",
       "      <td>pais_vasco</td>\n",
       "      <td>pais_vasco</td>\n",
       "      <td>alegria_dulantzi/alava</td>\n",
       "      <td>alegria_dulantzi/araba</td>\n",
       "      <td>alegria_dulantzi/pais_vasco</td>\n",
       "      <td>alegria_dulantzi/pais_vasco</td>\n",
       "      <td>alegria_dulantzi/alava</td>\n",
       "      <td>alava/pais_vasco</td>\n",
       "      <td>alava/pais_vasco</td>\n",
       "      <td>araba/pais_vasco</td>\n",
       "      <td>araba/pais_vasco</td>\n",
       "      <td>1.0</td>\n",
       "      <td>NaN</td>\n",
       "      <td>NaN</td>\n",
       "    </tr>\n",
       "    <tr>\n",
       "      <th>1</th>\n",
       "      <td>1001</td>\n",
       "      <td>01193</td>\n",
       "      <td>alegria_dulantzi</td>\n",
       "      <td>alegria_dulantzi</td>\n",
       "      <td>alava</td>\n",
       "      <td>araba</td>\n",
       "      <td>pais_vasco</td>\n",
       "      <td>pais_vasco</td>\n",
       "      <td>alegria_dulantzi/alava</td>\n",
       "      <td>alegria_dulantzi/araba</td>\n",
       "      <td>alegria_dulantzi/pais_vasco</td>\n",
       "      <td>alegria_dulantzi/pais_vasco</td>\n",
       "      <td>alegria_dulantzi/alava</td>\n",
       "      <td>alava/pais_vasco</td>\n",
       "      <td>alava/pais_vasco</td>\n",
       "      <td>araba/pais_vasco</td>\n",
       "      <td>araba/pais_vasco</td>\n",
       "      <td>1.0</td>\n",
       "      <td>NaN</td>\n",
       "      <td>NaN</td>\n",
       "    </tr>\n",
       "  </tbody>\n",
       "</table>\n",
       "</div>"
      ],
      "text/plain": [
       "   ine_code postal_code         cities_es            cities province_es  \\\n",
       "0      1001       01240  alegria_dulantzi  alegria_dulantzi       alava   \n",
       "1      1001       01193  alegria_dulantzi  alegria_dulantzi       alava   \n",
       "\n",
       "  province     ccaa_es        ccaa   cities_es/province_es  \\\n",
       "0    araba  pais_vasco  pais_vasco  alegria_dulantzi/alava   \n",
       "1    araba  pais_vasco  pais_vasco  alegria_dulantzi/alava   \n",
       "\n",
       "       cities_es/province            cities_es/ccaa_es  \\\n",
       "0  alegria_dulantzi/araba  alegria_dulantzi/pais_vasco   \n",
       "1  alegria_dulantzi/araba  alegria_dulantzi/pais_vasco   \n",
       "\n",
       "                cities_es/ccaa      cities/province_es province_es/ccaa_es  \\\n",
       "0  alegria_dulantzi/pais_vasco  alegria_dulantzi/alava    alava/pais_vasco   \n",
       "1  alegria_dulantzi/pais_vasco  alegria_dulantzi/alava    alava/pais_vasco   \n",
       "\n",
       "   province_es/ccaa  province/ccaa_es     province/ccaa  total_bibliotecas  \\\n",
       "0  alava/pais_vasco  araba/pais_vasco  araba/pais_vasco                1.0   \n",
       "1  alava/pais_vasco  araba/pais_vasco  araba/pais_vasco                1.0   \n",
       "\n",
       "    cp  uds_hospiatales  \n",
       "0  NaN              NaN  \n",
       "1  NaN              NaN  "
      ]
     },
     "execution_count": 226,
     "metadata": {},
     "output_type": "execute_result"
    }
   ],
   "source": [
    "union.head(2)"
   ]
  },
  {
   "cell_type": "code",
   "execution_count": 227,
   "metadata": {},
   "outputs": [],
   "source": [
    "union = union.drop(columns=['cp'])"
   ]
  },
  {
   "cell_type": "code",
   "execution_count": 228,
   "metadata": {},
   "outputs": [
    {
     "data": {
      "text/plain": [
       "(14729, 19)"
      ]
     },
     "execution_count": 228,
     "metadata": {},
     "output_type": "execute_result"
    }
   ],
   "source": [
    "union.shape"
   ]
  },
  {
   "cell_type": "markdown",
   "metadata": {},
   "source": [
    "##### Colegios"
   ]
  },
  {
   "cell_type": "code",
   "execution_count": 284,
   "metadata": {},
   "outputs": [],
   "source": [
    "colegios = pd.read_csv(\"sociedad_educacion_colegios_2020_limpio.csv\", index_col=0, dtype={'codigo_postal': object})"
   ]
  },
  {
   "cell_type": "code",
   "execution_count": 285,
   "metadata": {},
   "outputs": [
    {
     "data": {
      "text/plain": [
       "(7838, 5)"
      ]
     },
     "execution_count": 285,
     "metadata": {},
     "output_type": "execute_result"
    }
   ],
   "source": [
    "colegios.shape"
   ]
  },
  {
   "cell_type": "code",
   "execution_count": 290,
   "metadata": {
    "scrolled": true
   },
   "outputs": [
    {
     "data": {
      "text/html": [
       "<div>\n",
       "<style scoped>\n",
       "    .dataframe tbody tr th:only-of-type {\n",
       "        vertical-align: middle;\n",
       "    }\n",
       "\n",
       "    .dataframe tbody tr th {\n",
       "        vertical-align: top;\n",
       "    }\n",
       "\n",
       "    .dataframe thead th {\n",
       "        text-align: right;\n",
       "    }\n",
       "</style>\n",
       "<table border=\"1\" class=\"dataframe\">\n",
       "  <thead>\n",
       "    <tr style=\"text-align: right;\">\n",
       "      <th></th>\n",
       "      <th>cities_es/province_es</th>\n",
       "      <th>num_colegios_privados</th>\n",
       "      <th>num_colegios_publicos</th>\n",
       "    </tr>\n",
       "  </thead>\n",
       "  <tbody>\n",
       "    <tr>\n",
       "      <th>0</th>\n",
       "      <td>a_abelaira/lugo</td>\n",
       "      <td>0.0</td>\n",
       "      <td>2.0</td>\n",
       "    </tr>\n",
       "    <tr>\n",
       "      <th>1</th>\n",
       "      <td>a_abelleira/pontevedra</td>\n",
       "      <td>1.0</td>\n",
       "      <td>0.0</td>\n",
       "    </tr>\n",
       "  </tbody>\n",
       "</table>\n",
       "</div>"
      ],
      "text/plain": [
       "    cities_es/province_es  num_colegios_privados  num_colegios_publicos\n",
       "0         a_abelaira/lugo                    0.0                    2.0\n",
       "1  a_abelleira/pontevedra                    1.0                    0.0"
      ]
     },
     "execution_count": 290,
     "metadata": {},
     "output_type": "execute_result"
    }
   ],
   "source": [
    "colegios.head(2)"
   ]
  },
  {
   "cell_type": "code",
   "execution_count": 287,
   "metadata": {
    "scrolled": false
   },
   "outputs": [
    {
     "data": {
      "text/html": [
       "<div>\n",
       "<style scoped>\n",
       "    .dataframe tbody tr th:only-of-type {\n",
       "        vertical-align: middle;\n",
       "    }\n",
       "\n",
       "    .dataframe tbody tr th {\n",
       "        vertical-align: top;\n",
       "    }\n",
       "\n",
       "    .dataframe thead th {\n",
       "        text-align: right;\n",
       "    }\n",
       "</style>\n",
       "<table border=\"1\" class=\"dataframe\">\n",
       "  <thead>\n",
       "    <tr style=\"text-align: right;\">\n",
       "      <th></th>\n",
       "      <th>codigo_postal</th>\n",
       "      <th>municipio_limpio</th>\n",
       "      <th>provincia</th>\n",
       "      <th>num_colegios_privados</th>\n",
       "      <th>num_colegios_publicos</th>\n",
       "    </tr>\n",
       "  </thead>\n",
       "  <tbody>\n",
       "    <tr>\n",
       "      <th>1755</th>\n",
       "      <td>12410</td>\n",
       "      <td>altura</td>\n",
       "      <td>castellon</td>\n",
       "      <td>1.0</td>\n",
       "      <td>1.0</td>\n",
       "    </tr>\n",
       "  </tbody>\n",
       "</table>\n",
       "</div>"
      ],
      "text/plain": [
       "     codigo_postal municipio_limpio  provincia  num_colegios_privados  \\\n",
       "1755         12410           altura  castellon                    1.0   \n",
       "\n",
       "      num_colegios_publicos  \n",
       "1755                    1.0  "
      ]
     },
     "execution_count": 287,
     "metadata": {},
     "output_type": "execute_result"
    }
   ],
   "source": [
    "colegios[colegios['codigo_postal']=='12410']"
   ]
  },
  {
   "cell_type": "code",
   "execution_count": 288,
   "metadata": {},
   "outputs": [],
   "source": [
    "colegios['cities_es/province_es'] = colegios['municipio_limpio']+\"/\"+colegios['provincia']"
   ]
  },
  {
   "cell_type": "code",
   "execution_count": 289,
   "metadata": {},
   "outputs": [],
   "source": [
    "colegios = colegios.groupby(by='cities_es/province_es', as_index=False).agg({'num_colegios_privados':'sum', 'num_colegios_publicos':'sum'})"
   ]
  },
  {
   "cell_type": "code",
   "execution_count": 291,
   "metadata": {},
   "outputs": [],
   "source": [
    "union = pd.merge(union, colegios, left_on='cities_es/province_es', right_on='cities_es/province_es', how='left')"
   ]
  },
  {
   "cell_type": "code",
   "execution_count": 292,
   "metadata": {},
   "outputs": [
    {
     "ename": "KeyError",
     "evalue": "'num_colegios_publicos'",
     "output_type": "error",
     "traceback": [
      "\u001b[0;31m---------------------------------------------------------------------------\u001b[0m",
      "\u001b[0;31mKeyError\u001b[0m                                  Traceback (most recent call last)",
      "\u001b[0;32m~/miniconda/envs/exodus/lib/python3.8/site-packages/pandas/core/indexes/base.py\u001b[0m in \u001b[0;36mget_loc\u001b[0;34m(self, key, method, tolerance)\u001b[0m\n\u001b[1;32m   2645\u001b[0m             \u001b[0;32mtry\u001b[0m\u001b[0;34m:\u001b[0m\u001b[0;34m\u001b[0m\u001b[0;34m\u001b[0m\u001b[0m\n\u001b[0;32m-> 2646\u001b[0;31m                 \u001b[0;32mreturn\u001b[0m \u001b[0mself\u001b[0m\u001b[0;34m.\u001b[0m\u001b[0m_engine\u001b[0m\u001b[0;34m.\u001b[0m\u001b[0mget_loc\u001b[0m\u001b[0;34m(\u001b[0m\u001b[0mkey\u001b[0m\u001b[0;34m)\u001b[0m\u001b[0;34m\u001b[0m\u001b[0;34m\u001b[0m\u001b[0m\n\u001b[0m\u001b[1;32m   2647\u001b[0m             \u001b[0;32mexcept\u001b[0m \u001b[0mKeyError\u001b[0m\u001b[0;34m:\u001b[0m\u001b[0;34m\u001b[0m\u001b[0;34m\u001b[0m\u001b[0m\n",
      "\u001b[0;32mpandas/_libs/index.pyx\u001b[0m in \u001b[0;36mpandas._libs.index.IndexEngine.get_loc\u001b[0;34m()\u001b[0m\n",
      "\u001b[0;32mpandas/_libs/index.pyx\u001b[0m in \u001b[0;36mpandas._libs.index.IndexEngine.get_loc\u001b[0;34m()\u001b[0m\n",
      "\u001b[0;32mpandas/_libs/index.pyx\u001b[0m in \u001b[0;36mpandas._libs.index.IndexEngine._get_loc_duplicates\u001b[0;34m()\u001b[0m\n",
      "\u001b[0;32mpandas/_libs/index.pyx\u001b[0m in \u001b[0;36mpandas._libs.index.IndexEngine._maybe_get_bool_indexer\u001b[0;34m()\u001b[0m\n",
      "\u001b[0;31mKeyError\u001b[0m: 'num_colegios_publicos'",
      "\nDuring handling of the above exception, another exception occurred:\n",
      "\u001b[0;31mKeyError\u001b[0m                                  Traceback (most recent call last)",
      "\u001b[0;32m<ipython-input-292-021244be0194>\u001b[0m in \u001b[0;36m<module>\u001b[0;34m\u001b[0m\n\u001b[0;32m----> 1\u001b[0;31m \u001b[0munion\u001b[0m\u001b[0;34m[\u001b[0m\u001b[0;34m~\u001b[0m\u001b[0munion\u001b[0m\u001b[0;34m[\u001b[0m\u001b[0;34m'num_colegios_publicos'\u001b[0m\u001b[0;34m]\u001b[0m\u001b[0;34m.\u001b[0m\u001b[0misnull\u001b[0m\u001b[0;34m(\u001b[0m\u001b[0;34m)\u001b[0m\u001b[0;34m]\u001b[0m\u001b[0;34m.\u001b[0m\u001b[0mshape\u001b[0m\u001b[0;34m\u001b[0m\u001b[0;34m\u001b[0m\u001b[0m\n\u001b[0m",
      "\u001b[0;32m~/miniconda/envs/exodus/lib/python3.8/site-packages/pandas/core/frame.py\u001b[0m in \u001b[0;36m__getitem__\u001b[0;34m(self, key)\u001b[0m\n\u001b[1;32m   2798\u001b[0m             \u001b[0;32mif\u001b[0m \u001b[0mself\u001b[0m\u001b[0;34m.\u001b[0m\u001b[0mcolumns\u001b[0m\u001b[0;34m.\u001b[0m\u001b[0mnlevels\u001b[0m \u001b[0;34m>\u001b[0m \u001b[0;36m1\u001b[0m\u001b[0;34m:\u001b[0m\u001b[0;34m\u001b[0m\u001b[0;34m\u001b[0m\u001b[0m\n\u001b[1;32m   2799\u001b[0m                 \u001b[0;32mreturn\u001b[0m \u001b[0mself\u001b[0m\u001b[0;34m.\u001b[0m\u001b[0m_getitem_multilevel\u001b[0m\u001b[0;34m(\u001b[0m\u001b[0mkey\u001b[0m\u001b[0;34m)\u001b[0m\u001b[0;34m\u001b[0m\u001b[0;34m\u001b[0m\u001b[0m\n\u001b[0;32m-> 2800\u001b[0;31m             \u001b[0mindexer\u001b[0m \u001b[0;34m=\u001b[0m \u001b[0mself\u001b[0m\u001b[0;34m.\u001b[0m\u001b[0mcolumns\u001b[0m\u001b[0;34m.\u001b[0m\u001b[0mget_loc\u001b[0m\u001b[0;34m(\u001b[0m\u001b[0mkey\u001b[0m\u001b[0;34m)\u001b[0m\u001b[0;34m\u001b[0m\u001b[0;34m\u001b[0m\u001b[0m\n\u001b[0m\u001b[1;32m   2801\u001b[0m             \u001b[0;32mif\u001b[0m \u001b[0mis_integer\u001b[0m\u001b[0;34m(\u001b[0m\u001b[0mindexer\u001b[0m\u001b[0;34m)\u001b[0m\u001b[0;34m:\u001b[0m\u001b[0;34m\u001b[0m\u001b[0;34m\u001b[0m\u001b[0m\n\u001b[1;32m   2802\u001b[0m                 \u001b[0mindexer\u001b[0m \u001b[0;34m=\u001b[0m \u001b[0;34m[\u001b[0m\u001b[0mindexer\u001b[0m\u001b[0;34m]\u001b[0m\u001b[0;34m\u001b[0m\u001b[0;34m\u001b[0m\u001b[0m\n",
      "\u001b[0;32m~/miniconda/envs/exodus/lib/python3.8/site-packages/pandas/core/indexes/base.py\u001b[0m in \u001b[0;36mget_loc\u001b[0;34m(self, key, method, tolerance)\u001b[0m\n\u001b[1;32m   2646\u001b[0m                 \u001b[0;32mreturn\u001b[0m \u001b[0mself\u001b[0m\u001b[0;34m.\u001b[0m\u001b[0m_engine\u001b[0m\u001b[0;34m.\u001b[0m\u001b[0mget_loc\u001b[0m\u001b[0;34m(\u001b[0m\u001b[0mkey\u001b[0m\u001b[0;34m)\u001b[0m\u001b[0;34m\u001b[0m\u001b[0;34m\u001b[0m\u001b[0m\n\u001b[1;32m   2647\u001b[0m             \u001b[0;32mexcept\u001b[0m \u001b[0mKeyError\u001b[0m\u001b[0;34m:\u001b[0m\u001b[0;34m\u001b[0m\u001b[0;34m\u001b[0m\u001b[0m\n\u001b[0;32m-> 2648\u001b[0;31m                 \u001b[0;32mreturn\u001b[0m \u001b[0mself\u001b[0m\u001b[0;34m.\u001b[0m\u001b[0m_engine\u001b[0m\u001b[0;34m.\u001b[0m\u001b[0mget_loc\u001b[0m\u001b[0;34m(\u001b[0m\u001b[0mself\u001b[0m\u001b[0;34m.\u001b[0m\u001b[0m_maybe_cast_indexer\u001b[0m\u001b[0;34m(\u001b[0m\u001b[0mkey\u001b[0m\u001b[0;34m)\u001b[0m\u001b[0;34m)\u001b[0m\u001b[0;34m\u001b[0m\u001b[0;34m\u001b[0m\u001b[0m\n\u001b[0m\u001b[1;32m   2649\u001b[0m         \u001b[0mindexer\u001b[0m \u001b[0;34m=\u001b[0m \u001b[0mself\u001b[0m\u001b[0;34m.\u001b[0m\u001b[0mget_indexer\u001b[0m\u001b[0;34m(\u001b[0m\u001b[0;34m[\u001b[0m\u001b[0mkey\u001b[0m\u001b[0;34m]\u001b[0m\u001b[0;34m,\u001b[0m \u001b[0mmethod\u001b[0m\u001b[0;34m=\u001b[0m\u001b[0mmethod\u001b[0m\u001b[0;34m,\u001b[0m \u001b[0mtolerance\u001b[0m\u001b[0;34m=\u001b[0m\u001b[0mtolerance\u001b[0m\u001b[0;34m)\u001b[0m\u001b[0;34m\u001b[0m\u001b[0;34m\u001b[0m\u001b[0m\n\u001b[1;32m   2650\u001b[0m         \u001b[0;32mif\u001b[0m \u001b[0mindexer\u001b[0m\u001b[0;34m.\u001b[0m\u001b[0mndim\u001b[0m \u001b[0;34m>\u001b[0m \u001b[0;36m1\u001b[0m \u001b[0;32mor\u001b[0m \u001b[0mindexer\u001b[0m\u001b[0;34m.\u001b[0m\u001b[0msize\u001b[0m \u001b[0;34m>\u001b[0m \u001b[0;36m1\u001b[0m\u001b[0;34m:\u001b[0m\u001b[0;34m\u001b[0m\u001b[0;34m\u001b[0m\u001b[0m\n",
      "\u001b[0;32mpandas/_libs/index.pyx\u001b[0m in \u001b[0;36mpandas._libs.index.IndexEngine.get_loc\u001b[0;34m()\u001b[0m\n",
      "\u001b[0;32mpandas/_libs/index.pyx\u001b[0m in \u001b[0;36mpandas._libs.index.IndexEngine.get_loc\u001b[0;34m()\u001b[0m\n",
      "\u001b[0;32mpandas/_libs/index.pyx\u001b[0m in \u001b[0;36mpandas._libs.index.IndexEngine._get_loc_duplicates\u001b[0;34m()\u001b[0m\n",
      "\u001b[0;32mpandas/_libs/index.pyx\u001b[0m in \u001b[0;36mpandas._libs.index.IndexEngine._maybe_get_bool_indexer\u001b[0;34m()\u001b[0m\n",
      "\u001b[0;31mKeyError\u001b[0m: 'num_colegios_publicos'"
     ]
    }
   ],
   "source": [
    "union[~union['num_colegios_publicos'].isnull()].shape"
   ]
  },
  {
   "cell_type": "code",
   "execution_count": 237,
   "metadata": {
    "scrolled": false
   },
   "outputs": [
    {
     "data": {
      "text/plain": [
       "Index(['ine_code', 'postal_code', 'cities_es', 'cities', 'province_es',\n",
       "       'province', 'ccaa_es', 'ccaa', 'cities_es/province_es',\n",
       "       'cities_es/province', 'cities_es/ccaa_es', 'cities_es/ccaa',\n",
       "       'cities/province_es', 'province_es/ccaa_es', 'province_es/ccaa',\n",
       "       'province/ccaa_es', 'province/ccaa', 'total_bibliotecas',\n",
       "       'uds_hospiatales', 'codigo_postal', 'num_colegios_privados',\n",
       "       'num_colegios_publicos'],\n",
       "      dtype='object')"
      ]
     },
     "execution_count": 237,
     "metadata": {},
     "output_type": "execute_result"
    }
   ],
   "source": [
    "union.columns"
   ]
  },
  {
   "cell_type": "code",
   "execution_count": 241,
   "metadata": {},
   "outputs": [
    {
     "data": {
      "text/html": [
       "<div>\n",
       "<style scoped>\n",
       "    .dataframe tbody tr th:only-of-type {\n",
       "        vertical-align: middle;\n",
       "    }\n",
       "\n",
       "    .dataframe tbody tr th {\n",
       "        vertical-align: top;\n",
       "    }\n",
       "\n",
       "    .dataframe thead th {\n",
       "        text-align: right;\n",
       "    }\n",
       "</style>\n",
       "<table border=\"1\" class=\"dataframe\">\n",
       "  <thead>\n",
       "    <tr style=\"text-align: right;\">\n",
       "      <th></th>\n",
       "      <th>ine_code</th>\n",
       "      <th>postal_code</th>\n",
       "      <th>cities_es</th>\n",
       "      <th>cities</th>\n",
       "      <th>province_es</th>\n",
       "      <th>province</th>\n",
       "      <th>ccaa_es</th>\n",
       "      <th>ccaa</th>\n",
       "      <th>cities_es/province_es</th>\n",
       "      <th>cities_es/province</th>\n",
       "      <th>...</th>\n",
       "      <th>cities/province_es</th>\n",
       "      <th>province_es/ccaa_es</th>\n",
       "      <th>province_es/ccaa</th>\n",
       "      <th>province/ccaa_es</th>\n",
       "      <th>province/ccaa</th>\n",
       "      <th>total_bibliotecas</th>\n",
       "      <th>uds_hospiatales</th>\n",
       "      <th>codigo_postal</th>\n",
       "      <th>num_colegios_privados</th>\n",
       "      <th>num_colegios_publicos</th>\n",
       "    </tr>\n",
       "  </thead>\n",
       "  <tbody>\n",
       "    <tr>\n",
       "      <th>18</th>\n",
       "      <td>1010</td>\n",
       "      <td>01470</td>\n",
       "      <td>amurrio</td>\n",
       "      <td>amurrio</td>\n",
       "      <td>alava</td>\n",
       "      <td>araba</td>\n",
       "      <td>pais_vasco</td>\n",
       "      <td>pais_vasco</td>\n",
       "      <td>amurrio/alava</td>\n",
       "      <td>amurrio/araba</td>\n",
       "      <td>...</td>\n",
       "      <td>amurrio/alava</td>\n",
       "      <td>alava/pais_vasco</td>\n",
       "      <td>alava/pais_vasco</td>\n",
       "      <td>araba/pais_vasco</td>\n",
       "      <td>araba/pais_vasco</td>\n",
       "      <td>1.0</td>\n",
       "      <td>NaN</td>\n",
       "      <td>01470</td>\n",
       "      <td>3.0</td>\n",
       "      <td>6.0</td>\n",
       "    </tr>\n",
       "    <tr>\n",
       "      <th>21</th>\n",
       "      <td>1010</td>\n",
       "      <td>01477</td>\n",
       "      <td>ayala</td>\n",
       "      <td>aiara</td>\n",
       "      <td>alava</td>\n",
       "      <td>araba</td>\n",
       "      <td>pais_vasco</td>\n",
       "      <td>pais_vasco</td>\n",
       "      <td>ayala/alava</td>\n",
       "      <td>ayala/araba</td>\n",
       "      <td>...</td>\n",
       "      <td>aiara/alava</td>\n",
       "      <td>alava/pais_vasco</td>\n",
       "      <td>alava/pais_vasco</td>\n",
       "      <td>araba/pais_vasco</td>\n",
       "      <td>araba/pais_vasco</td>\n",
       "      <td>NaN</td>\n",
       "      <td>NaN</td>\n",
       "      <td>01477</td>\n",
       "      <td>NaN</td>\n",
       "      <td>1.0</td>\n",
       "    </tr>\n",
       "    <tr>\n",
       "      <th>22</th>\n",
       "      <td>1010</td>\n",
       "      <td>01477</td>\n",
       "      <td>ayala</td>\n",
       "      <td>aiara</td>\n",
       "      <td>alava</td>\n",
       "      <td>araba</td>\n",
       "      <td>pais_vasco</td>\n",
       "      <td>pais_vasco</td>\n",
       "      <td>ayala/alava</td>\n",
       "      <td>ayala/araba</td>\n",
       "      <td>...</td>\n",
       "      <td>aiara/alava</td>\n",
       "      <td>alava/pais_vasco</td>\n",
       "      <td>alava/pais_vasco</td>\n",
       "      <td>araba/pais_vasco</td>\n",
       "      <td>araba/pais_vasco</td>\n",
       "      <td>NaN</td>\n",
       "      <td>NaN</td>\n",
       "      <td>01477</td>\n",
       "      <td>NaN</td>\n",
       "      <td>1.0</td>\n",
       "    </tr>\n",
       "    <tr>\n",
       "      <th>23</th>\n",
       "      <td>1010</td>\n",
       "      <td>01478</td>\n",
       "      <td>artziniega</td>\n",
       "      <td>artziniega</td>\n",
       "      <td>alava</td>\n",
       "      <td>araba</td>\n",
       "      <td>pais_vasco</td>\n",
       "      <td>pais_vasco</td>\n",
       "      <td>artziniega/alava</td>\n",
       "      <td>artziniega/araba</td>\n",
       "      <td>...</td>\n",
       "      <td>artziniega/alava</td>\n",
       "      <td>alava/pais_vasco</td>\n",
       "      <td>alava/pais_vasco</td>\n",
       "      <td>araba/pais_vasco</td>\n",
       "      <td>araba/pais_vasco</td>\n",
       "      <td>1.0</td>\n",
       "      <td>NaN</td>\n",
       "      <td>NaN</td>\n",
       "      <td>NaN</td>\n",
       "      <td>NaN</td>\n",
       "    </tr>\n",
       "    <tr>\n",
       "      <th>26</th>\n",
       "      <td>1011</td>\n",
       "      <td>01307</td>\n",
       "      <td>banos_de_ebro</td>\n",
       "      <td>manueta</td>\n",
       "      <td>alava</td>\n",
       "      <td>araba</td>\n",
       "      <td>pais_vasco</td>\n",
       "      <td>pais_vasco</td>\n",
       "      <td>banos_de_ebro/alava</td>\n",
       "      <td>banos_de_ebro/araba</td>\n",
       "      <td>...</td>\n",
       "      <td>manueta/alava</td>\n",
       "      <td>alava/pais_vasco</td>\n",
       "      <td>alava/pais_vasco</td>\n",
       "      <td>araba/pais_vasco</td>\n",
       "      <td>araba/pais_vasco</td>\n",
       "      <td>NaN</td>\n",
       "      <td>NaN</td>\n",
       "      <td>01307</td>\n",
       "      <td>1.0</td>\n",
       "      <td>1.0</td>\n",
       "    </tr>\n",
       "    <tr>\n",
       "      <th>...</th>\n",
       "      <td>...</td>\n",
       "      <td>...</td>\n",
       "      <td>...</td>\n",
       "      <td>...</td>\n",
       "      <td>...</td>\n",
       "      <td>...</td>\n",
       "      <td>...</td>\n",
       "      <td>...</td>\n",
       "      <td>...</td>\n",
       "      <td>...</td>\n",
       "      <td>...</td>\n",
       "      <td>...</td>\n",
       "      <td>...</td>\n",
       "      <td>...</td>\n",
       "      <td>...</td>\n",
       "      <td>...</td>\n",
       "      <td>...</td>\n",
       "      <td>...</td>\n",
       "      <td>...</td>\n",
       "      <td>...</td>\n",
       "      <td>...</td>\n",
       "    </tr>\n",
       "    <tr>\n",
       "      <th>16633</th>\n",
       "      <td>50297</td>\n",
       "      <td>50015</td>\n",
       "      <td>zaragoza</td>\n",
       "      <td>zaragoza</td>\n",
       "      <td>zaragoza</td>\n",
       "      <td>zaragoza</td>\n",
       "      <td>aragon</td>\n",
       "      <td>aragon</td>\n",
       "      <td>zaragoza/zaragoza</td>\n",
       "      <td>zaragoza/zaragoza</td>\n",
       "      <td>...</td>\n",
       "      <td>zaragoza/zaragoza</td>\n",
       "      <td>zaragoza/aragon</td>\n",
       "      <td>zaragoza/aragon</td>\n",
       "      <td>zaragoza/aragon</td>\n",
       "      <td>zaragoza/aragon</td>\n",
       "      <td>28.0</td>\n",
       "      <td>2.0</td>\n",
       "      <td>50015</td>\n",
       "      <td>7.0</td>\n",
       "      <td>12.0</td>\n",
       "    </tr>\n",
       "    <tr>\n",
       "      <th>16638</th>\n",
       "      <td>50298</td>\n",
       "      <td>50830</td>\n",
       "      <td>alagon</td>\n",
       "      <td>alagon</td>\n",
       "      <td>zaragoza</td>\n",
       "      <td>zaragoza</td>\n",
       "      <td>aragon</td>\n",
       "      <td>aragon</td>\n",
       "      <td>alagon/zaragoza</td>\n",
       "      <td>alagon/zaragoza</td>\n",
       "      <td>...</td>\n",
       "      <td>alagon/zaragoza</td>\n",
       "      <td>zaragoza/aragon</td>\n",
       "      <td>zaragoza/aragon</td>\n",
       "      <td>zaragoza/aragon</td>\n",
       "      <td>zaragoza/aragon</td>\n",
       "      <td>1.0</td>\n",
       "      <td>NaN</td>\n",
       "      <td>50830</td>\n",
       "      <td>1.0</td>\n",
       "      <td>4.0</td>\n",
       "    </tr>\n",
       "    <tr>\n",
       "      <th>16640</th>\n",
       "      <td>50901</td>\n",
       "      <td>50619</td>\n",
       "      <td>asin</td>\n",
       "      <td>asin</td>\n",
       "      <td>zaragoza</td>\n",
       "      <td>zaragoza</td>\n",
       "      <td>aragon</td>\n",
       "      <td>aragon</td>\n",
       "      <td>asin/zaragoza</td>\n",
       "      <td>asin/zaragoza</td>\n",
       "      <td>...</td>\n",
       "      <td>asin/zaragoza</td>\n",
       "      <td>zaragoza/aragon</td>\n",
       "      <td>zaragoza/aragon</td>\n",
       "      <td>zaragoza/aragon</td>\n",
       "      <td>zaragoza/aragon</td>\n",
       "      <td>NaN</td>\n",
       "      <td>NaN</td>\n",
       "      <td>NaN</td>\n",
       "      <td>NaN</td>\n",
       "      <td>NaN</td>\n",
       "    </tr>\n",
       "    <tr>\n",
       "      <th>16641</th>\n",
       "      <td>50902</td>\n",
       "      <td>50616</td>\n",
       "      <td>piedratajada</td>\n",
       "      <td>piedratajada</td>\n",
       "      <td>zaragoza</td>\n",
       "      <td>zaragoza</td>\n",
       "      <td>aragon</td>\n",
       "      <td>aragon</td>\n",
       "      <td>piedratajada/zaragoza</td>\n",
       "      <td>piedratajada/zaragoza</td>\n",
       "      <td>...</td>\n",
       "      <td>piedratajada/zaragoza</td>\n",
       "      <td>zaragoza/aragon</td>\n",
       "      <td>zaragoza/aragon</td>\n",
       "      <td>zaragoza/aragon</td>\n",
       "      <td>zaragoza/aragon</td>\n",
       "      <td>NaN</td>\n",
       "      <td>NaN</td>\n",
       "      <td>NaN</td>\n",
       "      <td>NaN</td>\n",
       "      <td>NaN</td>\n",
       "    </tr>\n",
       "    <tr>\n",
       "      <th>16647</th>\n",
       "      <td>51001</td>\n",
       "      <td>51004</td>\n",
       "      <td>ceuta</td>\n",
       "      <td>ceuta</td>\n",
       "      <td>ceuta</td>\n",
       "      <td>ceuta</td>\n",
       "      <td>ceuta</td>\n",
       "      <td>ceuta</td>\n",
       "      <td>ceuta/ceuta</td>\n",
       "      <td>ceuta/ceuta</td>\n",
       "      <td>...</td>\n",
       "      <td>ceuta/ceuta</td>\n",
       "      <td>ceuta/ceuta</td>\n",
       "      <td>ceuta/ceuta</td>\n",
       "      <td>ceuta/ceuta</td>\n",
       "      <td>ceuta/ceuta</td>\n",
       "      <td>1.0</td>\n",
       "      <td>NaN</td>\n",
       "      <td>51004</td>\n",
       "      <td>NaN</td>\n",
       "      <td>2.0</td>\n",
       "    </tr>\n",
       "  </tbody>\n",
       "</table>\n",
       "<p>5985 rows × 22 columns</p>\n",
       "</div>"
      ],
      "text/plain": [
       "       ine_code postal_code      cities_es        cities province_es  \\\n",
       "18         1010       01470        amurrio       amurrio       alava   \n",
       "21         1010       01477          ayala         aiara       alava   \n",
       "22         1010       01477          ayala         aiara       alava   \n",
       "23         1010       01478     artziniega    artziniega       alava   \n",
       "26         1011       01307  banos_de_ebro       manueta       alava   \n",
       "...         ...         ...            ...           ...         ...   \n",
       "16633     50297       50015       zaragoza      zaragoza    zaragoza   \n",
       "16638     50298       50830         alagon        alagon    zaragoza   \n",
       "16640     50901       50619           asin          asin    zaragoza   \n",
       "16641     50902       50616   piedratajada  piedratajada    zaragoza   \n",
       "16647     51001       51004          ceuta         ceuta       ceuta   \n",
       "\n",
       "       province     ccaa_es        ccaa  cities_es/province_es  \\\n",
       "18        araba  pais_vasco  pais_vasco          amurrio/alava   \n",
       "21        araba  pais_vasco  pais_vasco            ayala/alava   \n",
       "22        araba  pais_vasco  pais_vasco            ayala/alava   \n",
       "23        araba  pais_vasco  pais_vasco       artziniega/alava   \n",
       "26        araba  pais_vasco  pais_vasco    banos_de_ebro/alava   \n",
       "...         ...         ...         ...                    ...   \n",
       "16633  zaragoza      aragon      aragon      zaragoza/zaragoza   \n",
       "16638  zaragoza      aragon      aragon        alagon/zaragoza   \n",
       "16640  zaragoza      aragon      aragon          asin/zaragoza   \n",
       "16641  zaragoza      aragon      aragon  piedratajada/zaragoza   \n",
       "16647     ceuta       ceuta       ceuta            ceuta/ceuta   \n",
       "\n",
       "          cities_es/province  ...     cities/province_es province_es/ccaa_es  \\\n",
       "18             amurrio/araba  ...          amurrio/alava    alava/pais_vasco   \n",
       "21               ayala/araba  ...            aiara/alava    alava/pais_vasco   \n",
       "22               ayala/araba  ...            aiara/alava    alava/pais_vasco   \n",
       "23          artziniega/araba  ...       artziniega/alava    alava/pais_vasco   \n",
       "26       banos_de_ebro/araba  ...          manueta/alava    alava/pais_vasco   \n",
       "...                      ...  ...                    ...                 ...   \n",
       "16633      zaragoza/zaragoza  ...      zaragoza/zaragoza     zaragoza/aragon   \n",
       "16638        alagon/zaragoza  ...        alagon/zaragoza     zaragoza/aragon   \n",
       "16640          asin/zaragoza  ...          asin/zaragoza     zaragoza/aragon   \n",
       "16641  piedratajada/zaragoza  ...  piedratajada/zaragoza     zaragoza/aragon   \n",
       "16647            ceuta/ceuta  ...            ceuta/ceuta         ceuta/ceuta   \n",
       "\n",
       "       province_es/ccaa  province/ccaa_es     province/ccaa total_bibliotecas  \\\n",
       "18     alava/pais_vasco  araba/pais_vasco  araba/pais_vasco               1.0   \n",
       "21     alava/pais_vasco  araba/pais_vasco  araba/pais_vasco               NaN   \n",
       "22     alava/pais_vasco  araba/pais_vasco  araba/pais_vasco               NaN   \n",
       "23     alava/pais_vasco  araba/pais_vasco  araba/pais_vasco               1.0   \n",
       "26     alava/pais_vasco  araba/pais_vasco  araba/pais_vasco               NaN   \n",
       "...                 ...               ...               ...               ...   \n",
       "16633   zaragoza/aragon   zaragoza/aragon   zaragoza/aragon              28.0   \n",
       "16638   zaragoza/aragon   zaragoza/aragon   zaragoza/aragon               1.0   \n",
       "16640   zaragoza/aragon   zaragoza/aragon   zaragoza/aragon               NaN   \n",
       "16641   zaragoza/aragon   zaragoza/aragon   zaragoza/aragon               NaN   \n",
       "16647       ceuta/ceuta       ceuta/ceuta       ceuta/ceuta               1.0   \n",
       "\n",
       "      uds_hospiatales  codigo_postal  num_colegios_privados  \\\n",
       "18                NaN          01470                    3.0   \n",
       "21                NaN          01477                    NaN   \n",
       "22                NaN          01477                    NaN   \n",
       "23                NaN            NaN                    NaN   \n",
       "26                NaN          01307                    1.0   \n",
       "...               ...            ...                    ...   \n",
       "16633             2.0          50015                    7.0   \n",
       "16638             NaN          50830                    1.0   \n",
       "16640             NaN            NaN                    NaN   \n",
       "16641             NaN            NaN                    NaN   \n",
       "16647             NaN          51004                    NaN   \n",
       "\n",
       "      num_colegios_publicos  \n",
       "18                      6.0  \n",
       "21                      1.0  \n",
       "22                      1.0  \n",
       "23                      NaN  \n",
       "26                      1.0  \n",
       "...                     ...  \n",
       "16633                  12.0  \n",
       "16638                   4.0  \n",
       "16640                   NaN  \n",
       "16641                   NaN  \n",
       "16647                   2.0  \n",
       "\n",
       "[5985 rows x 22 columns]"
      ]
     },
     "execution_count": 241,
     "metadata": {},
     "output_type": "execute_result"
    }
   ],
   "source": [
    "union[union.duplicated(subset=['postal_code','cities_es'])]"
   ]
  },
  {
   "cell_type": "code",
   "execution_count": 279,
   "metadata": {},
   "outputs": [
    {
     "data": {
      "text/plain": [
       "(571738, 26)"
      ]
     },
     "execution_count": 279,
     "metadata": {},
     "output_type": "execute_result"
    }
   ],
   "source": [
    "union.shape"
   ]
  },
  {
   "cell_type": "markdown",
   "metadata": {},
   "source": [
    "##### Guardia Civil"
   ]
  },
  {
   "cell_type": "code",
   "execution_count": 118,
   "metadata": {},
   "outputs": [],
   "source": [
    "guardia_civil = pd.read_csv(\"sociedad_seguridad_guardia_civil_2019_limpio.csv\", index_col=0, dtype={'cp': object})"
   ]
  },
  {
   "cell_type": "code",
   "execution_count": 119,
   "metadata": {},
   "outputs": [
    {
     "data": {
      "text/plain": [
       "(2237, 4)"
      ]
     },
     "execution_count": 119,
     "metadata": {},
     "output_type": "execute_result"
    }
   ],
   "source": [
    "guardia_civil.shape"
   ]
  },
  {
   "cell_type": "code",
   "execution_count": 120,
   "metadata": {
    "scrolled": true
   },
   "outputs": [
    {
     "data": {
      "text/html": [
       "<div>\n",
       "<style scoped>\n",
       "    .dataframe tbody tr th:only-of-type {\n",
       "        vertical-align: middle;\n",
       "    }\n",
       "\n",
       "    .dataframe tbody tr th {\n",
       "        vertical-align: top;\n",
       "    }\n",
       "\n",
       "    .dataframe thead th {\n",
       "        text-align: right;\n",
       "    }\n",
       "</style>\n",
       "<table border=\"1\" class=\"dataframe\">\n",
       "  <thead>\n",
       "    <tr style=\"text-align: right;\">\n",
       "      <th></th>\n",
       "      <th>cp</th>\n",
       "      <th>municipio_limpio</th>\n",
       "      <th>provincia</th>\n",
       "      <th>uds_guardia_civil</th>\n",
       "    </tr>\n",
       "  </thead>\n",
       "  <tbody>\n",
       "    <tr>\n",
       "      <th>0</th>\n",
       "      <td>10003</td>\n",
       "      <td>caceres</td>\n",
       "      <td>caceres</td>\n",
       "      <td>1</td>\n",
       "    </tr>\n",
       "    <tr>\n",
       "      <th>1</th>\n",
       "      <td>1010</td>\n",
       "      <td>vitoria</td>\n",
       "      <td>alava</td>\n",
       "      <td>1</td>\n",
       "    </tr>\n",
       "  </tbody>\n",
       "</table>\n",
       "</div>"
      ],
      "text/plain": [
       "      cp municipio_limpio provincia  uds_guardia_civil\n",
       "0  10003          caceres   caceres                  1\n",
       "1   1010          vitoria     alava                  1"
      ]
     },
     "execution_count": 120,
     "metadata": {},
     "output_type": "execute_result"
    }
   ],
   "source": [
    "guardia_civil.head(2)"
   ]
  },
  {
   "cell_type": "code",
   "execution_count": 124,
   "metadata": {},
   "outputs": [],
   "source": [
    "guardia_civil['cities_es/province_es'] = guardia_civil['municipio_limpio']+\"/\"+guardia_civil['provincia']"
   ]
  },
  {
   "cell_type": "code",
   "execution_count": 125,
   "metadata": {},
   "outputs": [
    {
     "data": {
      "text/html": [
       "<div>\n",
       "<style scoped>\n",
       "    .dataframe tbody tr th:only-of-type {\n",
       "        vertical-align: middle;\n",
       "    }\n",
       "\n",
       "    .dataframe tbody tr th {\n",
       "        vertical-align: top;\n",
       "    }\n",
       "\n",
       "    .dataframe thead th {\n",
       "        text-align: right;\n",
       "    }\n",
       "</style>\n",
       "<table border=\"1\" class=\"dataframe\">\n",
       "  <thead>\n",
       "    <tr style=\"text-align: right;\">\n",
       "      <th></th>\n",
       "      <th>cp</th>\n",
       "      <th>municipio_limpio</th>\n",
       "      <th>provincia</th>\n",
       "      <th>uds_guardia_civil</th>\n",
       "      <th>cities_es/ccaa</th>\n",
       "      <th>cities_es/province_es</th>\n",
       "    </tr>\n",
       "  </thead>\n",
       "  <tbody>\n",
       "    <tr>\n",
       "      <th>143</th>\n",
       "      <td>12400</td>\n",
       "      <td>segorbe</td>\n",
       "      <td>castellon</td>\n",
       "      <td>1</td>\n",
       "      <td>segorbe/castellon</td>\n",
       "      <td>segorbe/castellon</td>\n",
       "    </tr>\n",
       "  </tbody>\n",
       "</table>\n",
       "</div>"
      ],
      "text/plain": [
       "        cp municipio_limpio  provincia  uds_guardia_civil     cities_es/ccaa  \\\n",
       "143  12400          segorbe  castellon                  1  segorbe/castellon   \n",
       "\n",
       "    cities_es/province_es  \n",
       "143     segorbe/castellon  "
      ]
     },
     "execution_count": 125,
     "metadata": {},
     "output_type": "execute_result"
    }
   ],
   "source": [
    "guardia_civil[guardia_civil['municipio_limpio']=='segorbe']"
   ]
  },
  {
   "cell_type": "code",
   "execution_count": 127,
   "metadata": {},
   "outputs": [],
   "source": [
    "union = pd.merge(union, guardia_civil, left_on='cities_es/province_es', right_on='cities_es/province_es', how='left')"
   ]
  },
  {
   "cell_type": "code",
   "execution_count": 128,
   "metadata": {},
   "outputs": [
    {
     "data": {
      "text/plain": [
       "(5103, 26)"
      ]
     },
     "execution_count": 128,
     "metadata": {},
     "output_type": "execute_result"
    }
   ],
   "source": [
    "union[~union['uds_guardia_civil'].isnull()].shape"
   ]
  },
  {
   "cell_type": "code",
   "execution_count": 129,
   "metadata": {
    "scrolled": true
   },
   "outputs": [
    {
     "data": {
      "text/html": [
       "<div>\n",
       "<style scoped>\n",
       "    .dataframe tbody tr th:only-of-type {\n",
       "        vertical-align: middle;\n",
       "    }\n",
       "\n",
       "    .dataframe tbody tr th {\n",
       "        vertical-align: top;\n",
       "    }\n",
       "\n",
       "    .dataframe thead th {\n",
       "        text-align: right;\n",
       "    }\n",
       "</style>\n",
       "<table border=\"1\" class=\"dataframe\">\n",
       "  <thead>\n",
       "    <tr style=\"text-align: right;\">\n",
       "      <th></th>\n",
       "      <th>postal_code</th>\n",
       "      <th>cities_es</th>\n",
       "      <th>cities</th>\n",
       "      <th>province_es</th>\n",
       "      <th>province</th>\n",
       "      <th>ccaa_es</th>\n",
       "      <th>ccaa_x</th>\n",
       "      <th>cities_es/province_es</th>\n",
       "      <th>cities_es/province</th>\n",
       "      <th>cities_es/ccaa_es</th>\n",
       "      <th>...</th>\n",
       "      <th>total_bibliotecas</th>\n",
       "      <th>uds_hospiatales</th>\n",
       "      <th>codigo_postal</th>\n",
       "      <th>num_colegios_privados</th>\n",
       "      <th>num_colegios_publicos</th>\n",
       "      <th>cp</th>\n",
       "      <th>municipio_limpio</th>\n",
       "      <th>provincia</th>\n",
       "      <th>uds_guardia_civil</th>\n",
       "      <th>cities_es/ccaa</th>\n",
       "    </tr>\n",
       "  </thead>\n",
       "  <tbody>\n",
       "    <tr>\n",
       "      <th>0</th>\n",
       "      <td>01001</td>\n",
       "      <td>vitoria-gasteiz</td>\n",
       "      <td>vitoria-gasteiz</td>\n",
       "      <td>alava</td>\n",
       "      <td>araba</td>\n",
       "      <td>pais vasco</td>\n",
       "      <td>pais vasco</td>\n",
       "      <td>vitoria-gasteiz/alava</td>\n",
       "      <td>vitoria-gasteiz/araba</td>\n",
       "      <td>vitoria-gasteiz/pais vasco</td>\n",
       "      <td>...</td>\n",
       "      <td>NaN</td>\n",
       "      <td>NaN</td>\n",
       "      <td>01001</td>\n",
       "      <td>1.0</td>\n",
       "      <td>3.0</td>\n",
       "      <td>NaN</td>\n",
       "      <td>NaN</td>\n",
       "      <td>NaN</td>\n",
       "      <td>NaN</td>\n",
       "      <td>NaN</td>\n",
       "    </tr>\n",
       "    <tr>\n",
       "      <th>1</th>\n",
       "      <td>01002</td>\n",
       "      <td>vitoria-gasteiz</td>\n",
       "      <td>vitoria-gasteiz</td>\n",
       "      <td>alava</td>\n",
       "      <td>araba</td>\n",
       "      <td>pais vasco</td>\n",
       "      <td>pais vasco</td>\n",
       "      <td>vitoria-gasteiz/alava</td>\n",
       "      <td>vitoria-gasteiz/araba</td>\n",
       "      <td>vitoria-gasteiz/pais vasco</td>\n",
       "      <td>...</td>\n",
       "      <td>NaN</td>\n",
       "      <td>1.0</td>\n",
       "      <td>01002</td>\n",
       "      <td>3.0</td>\n",
       "      <td>11.0</td>\n",
       "      <td>NaN</td>\n",
       "      <td>NaN</td>\n",
       "      <td>NaN</td>\n",
       "      <td>NaN</td>\n",
       "      <td>NaN</td>\n",
       "    </tr>\n",
       "  </tbody>\n",
       "</table>\n",
       "<p>2 rows × 26 columns</p>\n",
       "</div>"
      ],
      "text/plain": [
       "  postal_code        cities_es           cities province_es province  \\\n",
       "0       01001  vitoria-gasteiz  vitoria-gasteiz       alava    araba   \n",
       "1       01002  vitoria-gasteiz  vitoria-gasteiz       alava    araba   \n",
       "\n",
       "      ccaa_es      ccaa_x  cities_es/province_es     cities_es/province  \\\n",
       "0  pais vasco  pais vasco  vitoria-gasteiz/alava  vitoria-gasteiz/araba   \n",
       "1  pais vasco  pais vasco  vitoria-gasteiz/alava  vitoria-gasteiz/araba   \n",
       "\n",
       "            cities_es/ccaa_es  ... total_bibliotecas uds_hospiatales  \\\n",
       "0  vitoria-gasteiz/pais vasco  ...               NaN             NaN   \n",
       "1  vitoria-gasteiz/pais vasco  ...               NaN             1.0   \n",
       "\n",
       "  codigo_postal num_colegios_privados num_colegios_publicos   cp  \\\n",
       "0         01001                   1.0                   3.0  NaN   \n",
       "1         01002                   3.0                  11.0  NaN   \n",
       "\n",
       "   municipio_limpio  provincia uds_guardia_civil  cities_es/ccaa  \n",
       "0               NaN        NaN               NaN             NaN  \n",
       "1               NaN        NaN               NaN             NaN  \n",
       "\n",
       "[2 rows x 26 columns]"
      ]
     },
     "execution_count": 129,
     "metadata": {},
     "output_type": "execute_result"
    }
   ],
   "source": [
    "union.head(2)"
   ]
  },
  {
   "cell_type": "code",
   "execution_count": 130,
   "metadata": {},
   "outputs": [],
   "source": [
    "union = union.drop(columns=['municipio_limpio', 'provincia', 'cities_es/ccaa', 'cp'])"
   ]
  },
  {
   "cell_type": "code",
   "execution_count": 144,
   "metadata": {},
   "outputs": [
    {
     "data": {
      "text/plain": [
       "(10696, 23)"
      ]
     },
     "execution_count": 144,
     "metadata": {},
     "output_type": "execute_result"
    }
   ],
   "source": [
    "union.shape"
   ]
  },
  {
   "cell_type": "markdown",
   "metadata": {},
   "source": [
    "##### Universidades"
   ]
  },
  {
   "cell_type": "code",
   "execution_count": 137,
   "metadata": {},
   "outputs": [],
   "source": [
    "universidad = pd.read_csv('sociedad_educacion_universidad_2018_limpio.csv', index_col=0, dtype={'cp': object})"
   ]
  },
  {
   "cell_type": "code",
   "execution_count": 138,
   "metadata": {},
   "outputs": [
    {
     "data": {
      "text/plain": [
       "(165, 6)"
      ]
     },
     "execution_count": 138,
     "metadata": {},
     "output_type": "execute_result"
    }
   ],
   "source": [
    "universidad.shape"
   ]
  },
  {
   "cell_type": "code",
   "execution_count": 139,
   "metadata": {
    "scrolled": false
   },
   "outputs": [
    {
     "data": {
      "text/html": [
       "<div>\n",
       "<style scoped>\n",
       "    .dataframe tbody tr th:only-of-type {\n",
       "        vertical-align: middle;\n",
       "    }\n",
       "\n",
       "    .dataframe tbody tr th {\n",
       "        vertical-align: top;\n",
       "    }\n",
       "\n",
       "    .dataframe thead th {\n",
       "        text-align: right;\n",
       "    }\n",
       "</style>\n",
       "<table border=\"1\" class=\"dataframe\">\n",
       "  <thead>\n",
       "    <tr style=\"text-align: right;\">\n",
       "      <th></th>\n",
       "      <th>municipio_limpio</th>\n",
       "      <th>ccaa</th>\n",
       "      <th>num_universidades_privadas</th>\n",
       "      <th>num_universidades_publicas</th>\n",
       "      <th>num_tit_uni_privadas</th>\n",
       "      <th>num_tit_uni_publicas</th>\n",
       "    </tr>\n",
       "  </thead>\n",
       "  <tbody>\n",
       "    <tr>\n",
       "      <th>0</th>\n",
       "      <td>albacete</td>\n",
       "      <td>castilla_la_mancha</td>\n",
       "      <td>NaN</td>\n",
       "      <td>1.0</td>\n",
       "      <td>NaN</td>\n",
       "      <td>52.0</td>\n",
       "    </tr>\n",
       "    <tr>\n",
       "      <th>1</th>\n",
       "      <td>alcala_de_henares</td>\n",
       "      <td>madrid</td>\n",
       "      <td>1.0</td>\n",
       "      <td>1.0</td>\n",
       "      <td>5.0</td>\n",
       "      <td>114.0</td>\n",
       "    </tr>\n",
       "  </tbody>\n",
       "</table>\n",
       "</div>"
      ],
      "text/plain": [
       "    municipio_limpio                ccaa  num_universidades_privadas  \\\n",
       "0           albacete  castilla_la_mancha                         NaN   \n",
       "1  alcala_de_henares              madrid                         1.0   \n",
       "\n",
       "   num_universidades_publicas  num_tit_uni_privadas  num_tit_uni_publicas  \n",
       "0                         1.0                   NaN                  52.0  \n",
       "1                         1.0                   5.0                 114.0  "
      ]
     },
     "execution_count": 139,
     "metadata": {},
     "output_type": "execute_result"
    }
   ],
   "source": [
    "universidad.head(2)"
   ]
  },
  {
   "cell_type": "code",
   "execution_count": 140,
   "metadata": {},
   "outputs": [],
   "source": [
    "universidad['cities_es/ccaa'] = universidad['municipio_limpio']+\"/\"+universidad['ccaa']"
   ]
  },
  {
   "cell_type": "code",
   "execution_count": 141,
   "metadata": {},
   "outputs": [
    {
     "data": {
      "text/html": [
       "<div>\n",
       "<style scoped>\n",
       "    .dataframe tbody tr th:only-of-type {\n",
       "        vertical-align: middle;\n",
       "    }\n",
       "\n",
       "    .dataframe tbody tr th {\n",
       "        vertical-align: top;\n",
       "    }\n",
       "\n",
       "    .dataframe thead th {\n",
       "        text-align: right;\n",
       "    }\n",
       "</style>\n",
       "<table border=\"1\" class=\"dataframe\">\n",
       "  <thead>\n",
       "    <tr style=\"text-align: right;\">\n",
       "      <th></th>\n",
       "      <th>municipio_limpio</th>\n",
       "      <th>ccaa</th>\n",
       "      <th>num_universidades_privadas</th>\n",
       "      <th>num_universidades_publicas</th>\n",
       "      <th>num_tit_uni_privadas</th>\n",
       "      <th>num_tit_uni_publicas</th>\n",
       "      <th>cities_es/ccaa</th>\n",
       "    </tr>\n",
       "  </thead>\n",
       "  <tbody>\n",
       "  </tbody>\n",
       "</table>\n",
       "</div>"
      ],
      "text/plain": [
       "Empty DataFrame\n",
       "Columns: [municipio_limpio, ccaa, num_universidades_privadas, num_universidades_publicas, num_tit_uni_privadas, num_tit_uni_publicas, cities_es/ccaa]\n",
       "Index: []"
      ]
     },
     "execution_count": 141,
     "metadata": {},
     "output_type": "execute_result"
    }
   ],
   "source": [
    "universidad[universidad['municipio_limpio']=='segorbe']"
   ]
  },
  {
   "cell_type": "code",
   "execution_count": 135,
   "metadata": {},
   "outputs": [],
   "source": [
    "union = pd.merge(maestro_municipios, universidad, left_on='cities_es/ccaa_es', right_on='cities_es/ccaa', how='left')"
   ]
  },
  {
   "cell_type": "code",
   "execution_count": 142,
   "metadata": {},
   "outputs": [
    {
     "data": {
      "text/plain": [
       "(491, 23)"
      ]
     },
     "execution_count": 142,
     "metadata": {},
     "output_type": "execute_result"
    }
   ],
   "source": [
    "union[~union['num_universidades_publicas'].isnull()].shape"
   ]
  },
  {
   "cell_type": "code",
   "execution_count": 143,
   "metadata": {
    "scrolled": true
   },
   "outputs": [
    {
     "data": {
      "text/html": [
       "<div>\n",
       "<style scoped>\n",
       "    .dataframe tbody tr th:only-of-type {\n",
       "        vertical-align: middle;\n",
       "    }\n",
       "\n",
       "    .dataframe tbody tr th {\n",
       "        vertical-align: top;\n",
       "    }\n",
       "\n",
       "    .dataframe thead th {\n",
       "        text-align: right;\n",
       "    }\n",
       "</style>\n",
       "<table border=\"1\" class=\"dataframe\">\n",
       "  <thead>\n",
       "    <tr style=\"text-align: right;\">\n",
       "      <th></th>\n",
       "      <th>postal_code</th>\n",
       "      <th>cities_es</th>\n",
       "      <th>cities</th>\n",
       "      <th>province_es</th>\n",
       "      <th>province</th>\n",
       "      <th>ccaa_es</th>\n",
       "      <th>ccaa_x</th>\n",
       "      <th>cities_es/province_es</th>\n",
       "      <th>cities_es/province</th>\n",
       "      <th>cities_es/ccaa_es</th>\n",
       "      <th>...</th>\n",
       "      <th>province_es/ccaa</th>\n",
       "      <th>province/ccaa_es</th>\n",
       "      <th>province/ccaa</th>\n",
       "      <th>municipio_limpio</th>\n",
       "      <th>ccaa_y</th>\n",
       "      <th>num_universidades_privadas</th>\n",
       "      <th>num_universidades_publicas</th>\n",
       "      <th>num_tit_uni_privadas</th>\n",
       "      <th>num_tit_uni_publicas</th>\n",
       "      <th>cities_es/ccaa_y</th>\n",
       "    </tr>\n",
       "  </thead>\n",
       "  <tbody>\n",
       "    <tr>\n",
       "      <th>0</th>\n",
       "      <td>01001</td>\n",
       "      <td>vitoria-gasteiz</td>\n",
       "      <td>vitoria-gasteiz</td>\n",
       "      <td>alava</td>\n",
       "      <td>araba</td>\n",
       "      <td>pais vasco</td>\n",
       "      <td>pais vasco</td>\n",
       "      <td>vitoria-gasteiz/alava</td>\n",
       "      <td>vitoria-gasteiz/araba</td>\n",
       "      <td>vitoria-gasteiz/pais vasco</td>\n",
       "      <td>...</td>\n",
       "      <td>alava/pais vasco</td>\n",
       "      <td>araba/pais vasco</td>\n",
       "      <td>araba/pais vasco</td>\n",
       "      <td>NaN</td>\n",
       "      <td>NaN</td>\n",
       "      <td>NaN</td>\n",
       "      <td>NaN</td>\n",
       "      <td>NaN</td>\n",
       "      <td>NaN</td>\n",
       "      <td>NaN</td>\n",
       "    </tr>\n",
       "    <tr>\n",
       "      <th>1</th>\n",
       "      <td>01002</td>\n",
       "      <td>vitoria-gasteiz</td>\n",
       "      <td>vitoria-gasteiz</td>\n",
       "      <td>alava</td>\n",
       "      <td>araba</td>\n",
       "      <td>pais vasco</td>\n",
       "      <td>pais vasco</td>\n",
       "      <td>vitoria-gasteiz/alava</td>\n",
       "      <td>vitoria-gasteiz/araba</td>\n",
       "      <td>vitoria-gasteiz/pais vasco</td>\n",
       "      <td>...</td>\n",
       "      <td>alava/pais vasco</td>\n",
       "      <td>araba/pais vasco</td>\n",
       "      <td>araba/pais vasco</td>\n",
       "      <td>NaN</td>\n",
       "      <td>NaN</td>\n",
       "      <td>NaN</td>\n",
       "      <td>NaN</td>\n",
       "      <td>NaN</td>\n",
       "      <td>NaN</td>\n",
       "      <td>NaN</td>\n",
       "    </tr>\n",
       "  </tbody>\n",
       "</table>\n",
       "<p>2 rows × 23 columns</p>\n",
       "</div>"
      ],
      "text/plain": [
       "  postal_code        cities_es           cities province_es province  \\\n",
       "0       01001  vitoria-gasteiz  vitoria-gasteiz       alava    araba   \n",
       "1       01002  vitoria-gasteiz  vitoria-gasteiz       alava    araba   \n",
       "\n",
       "      ccaa_es      ccaa_x  cities_es/province_es     cities_es/province  \\\n",
       "0  pais vasco  pais vasco  vitoria-gasteiz/alava  vitoria-gasteiz/araba   \n",
       "1  pais vasco  pais vasco  vitoria-gasteiz/alava  vitoria-gasteiz/araba   \n",
       "\n",
       "            cities_es/ccaa_es  ...  province_es/ccaa  province/ccaa_es  \\\n",
       "0  vitoria-gasteiz/pais vasco  ...  alava/pais vasco  araba/pais vasco   \n",
       "1  vitoria-gasteiz/pais vasco  ...  alava/pais vasco  araba/pais vasco   \n",
       "\n",
       "      province/ccaa municipio_limpio ccaa_y num_universidades_privadas  \\\n",
       "0  araba/pais vasco              NaN    NaN                        NaN   \n",
       "1  araba/pais vasco              NaN    NaN                        NaN   \n",
       "\n",
       "  num_universidades_publicas num_tit_uni_privadas  num_tit_uni_publicas  \\\n",
       "0                        NaN                  NaN                   NaN   \n",
       "1                        NaN                  NaN                   NaN   \n",
       "\n",
       "   cities_es/ccaa_y  \n",
       "0               NaN  \n",
       "1               NaN  \n",
       "\n",
       "[2 rows x 23 columns]"
      ]
     },
     "execution_count": 143,
     "metadata": {},
     "output_type": "execute_result"
    }
   ],
   "source": [
    "union.head(2)"
   ]
  },
  {
   "cell_type": "code",
   "execution_count": 100,
   "metadata": {},
   "outputs": [],
   "source": [
    "union = union.drop(columns=['municipio_limpio', 'ccaa_y', 'cities_es/ccaa_y'])"
   ]
  },
  {
   "cell_type": "code",
   "execution_count": 144,
   "metadata": {},
   "outputs": [
    {
     "data": {
      "text/plain": [
       "(10696, 23)"
      ]
     },
     "execution_count": 144,
     "metadata": {},
     "output_type": "execute_result"
    }
   ],
   "source": [
    "union.shape"
   ]
  },
  {
   "cell_type": "markdown",
   "metadata": {},
   "source": [
    "##### Establecimientos"
   ]
  },
  {
   "cell_type": "code",
   "execution_count": 145,
   "metadata": {},
   "outputs": [],
   "source": [
    "establecimientos = pd.read_csv(\"economia_turismo_establecimientos_20??_limpio.csv\", index_col=0, dtype={'codigo_postal': object})"
   ]
  },
  {
   "cell_type": "code",
   "execution_count": 146,
   "metadata": {},
   "outputs": [
    {
     "data": {
      "text/plain": [
       "(2063, 35)"
      ]
     },
     "execution_count": 146,
     "metadata": {},
     "output_type": "execute_result"
    }
   ],
   "source": [
    "establecimientos.shape"
   ]
  },
  {
   "cell_type": "code",
   "execution_count": 147,
   "metadata": {
    "scrolled": true
   },
   "outputs": [
    {
     "data": {
      "text/html": [
       "<div>\n",
       "<style scoped>\n",
       "    .dataframe tbody tr th:only-of-type {\n",
       "        vertical-align: middle;\n",
       "    }\n",
       "\n",
       "    .dataframe tbody tr th {\n",
       "        vertical-align: top;\n",
       "    }\n",
       "\n",
       "    .dataframe thead th {\n",
       "        text-align: right;\n",
       "    }\n",
       "</style>\n",
       "<table border=\"1\" class=\"dataframe\">\n",
       "  <thead>\n",
       "    <tr style=\"text-align: right;\">\n",
       "      <th></th>\n",
       "      <th>codigo_postal</th>\n",
       "      <th>municipio_limpio</th>\n",
       "      <th>ccaa</th>\n",
       "      <th>agencias_de_viajes</th>\n",
       "      <th>albergues</th>\n",
       "      <th>alojamientos_rurales</th>\n",
       "      <th>artesanos</th>\n",
       "      <th>atraque_de_cruceros_y_ferries</th>\n",
       "      <th>bares_y_cafeterías</th>\n",
       "      <th>bodegas</th>\n",
       "      <th>...</th>\n",
       "      <th>otros_servicios</th>\n",
       "      <th>palacios_de_congresos</th>\n",
       "      <th>playas</th>\n",
       "      <th>puertos_deportivos</th>\n",
       "      <th>restaurantes_y_empresas_turísticas_de_catering</th>\n",
       "      <th>seguridad_ciudadana</th>\n",
       "      <th>servicios_de_limpieza</th>\n",
       "      <th>servicios_turísticos_de_salud</th>\n",
       "      <th>taxis</th>\n",
       "      <th>turismo_industrial</th>\n",
       "    </tr>\n",
       "  </thead>\n",
       "  <tbody>\n",
       "    <tr>\n",
       "      <th>0</th>\n",
       "      <td>00000</td>\n",
       "      <td>aldea_de_cuenca_hinojares</td>\n",
       "      <td>andalucia</td>\n",
       "      <td>NaN</td>\n",
       "      <td>NaN</td>\n",
       "      <td>NaN</td>\n",
       "      <td>NaN</td>\n",
       "      <td>NaN</td>\n",
       "      <td>NaN</td>\n",
       "      <td>NaN</td>\n",
       "      <td>...</td>\n",
       "      <td>NaN</td>\n",
       "      <td>NaN</td>\n",
       "      <td>NaN</td>\n",
       "      <td>NaN</td>\n",
       "      <td>NaN</td>\n",
       "      <td>NaN</td>\n",
       "      <td>NaN</td>\n",
       "      <td>NaN</td>\n",
       "      <td>NaN</td>\n",
       "      <td>NaN</td>\n",
       "    </tr>\n",
       "    <tr>\n",
       "      <th>1</th>\n",
       "      <td>00000</td>\n",
       "      <td>arroyo_frio_la_iruela</td>\n",
       "      <td>andalucia</td>\n",
       "      <td>NaN</td>\n",
       "      <td>NaN</td>\n",
       "      <td>NaN</td>\n",
       "      <td>NaN</td>\n",
       "      <td>NaN</td>\n",
       "      <td>NaN</td>\n",
       "      <td>NaN</td>\n",
       "      <td>...</td>\n",
       "      <td>NaN</td>\n",
       "      <td>NaN</td>\n",
       "      <td>NaN</td>\n",
       "      <td>NaN</td>\n",
       "      <td>1.0</td>\n",
       "      <td>NaN</td>\n",
       "      <td>NaN</td>\n",
       "      <td>NaN</td>\n",
       "      <td>NaN</td>\n",
       "      <td>NaN</td>\n",
       "    </tr>\n",
       "  </tbody>\n",
       "</table>\n",
       "<p>2 rows × 35 columns</p>\n",
       "</div>"
      ],
      "text/plain": [
       "  codigo_postal           municipio_limpio       ccaa  agencias_de_viajes  \\\n",
       "0         00000  aldea_de_cuenca_hinojares  andalucia                 NaN   \n",
       "1         00000      arroyo_frio_la_iruela  andalucia                 NaN   \n",
       "\n",
       "   albergues  alojamientos_rurales  artesanos  atraque_de_cruceros_y_ferries  \\\n",
       "0        NaN                   NaN        NaN                            NaN   \n",
       "1        NaN                   NaN        NaN                            NaN   \n",
       "\n",
       "   bares_y_cafeterías  bodegas  ...  otros_servicios  palacios_de_congresos  \\\n",
       "0                 NaN      NaN  ...              NaN                    NaN   \n",
       "1                 NaN      NaN  ...              NaN                    NaN   \n",
       "\n",
       "   playas  puertos_deportivos  restaurantes_y_empresas_turísticas_de_catering  \\\n",
       "0     NaN                 NaN                                             NaN   \n",
       "1     NaN                 NaN                                             1.0   \n",
       "\n",
       "   seguridad_ciudadana  servicios_de_limpieza  servicios_turísticos_de_salud  \\\n",
       "0                  NaN                    NaN                            NaN   \n",
       "1                  NaN                    NaN                            NaN   \n",
       "\n",
       "   taxis  turismo_industrial  \n",
       "0    NaN                 NaN  \n",
       "1    NaN                 NaN  \n",
       "\n",
       "[2 rows x 35 columns]"
      ]
     },
     "execution_count": 147,
     "metadata": {},
     "output_type": "execute_result"
    }
   ],
   "source": [
    "establecimientos.head(2)"
   ]
  },
  {
   "cell_type": "code",
   "execution_count": 149,
   "metadata": {
    "scrolled": true
   },
   "outputs": [
    {
     "data": {
      "text/html": [
       "<div>\n",
       "<style scoped>\n",
       "    .dataframe tbody tr th:only-of-type {\n",
       "        vertical-align: middle;\n",
       "    }\n",
       "\n",
       "    .dataframe tbody tr th {\n",
       "        vertical-align: top;\n",
       "    }\n",
       "\n",
       "    .dataframe thead th {\n",
       "        text-align: right;\n",
       "    }\n",
       "</style>\n",
       "<table border=\"1\" class=\"dataframe\">\n",
       "  <thead>\n",
       "    <tr style=\"text-align: right;\">\n",
       "      <th></th>\n",
       "      <th>codigo_postal</th>\n",
       "      <th>municipio_limpio</th>\n",
       "      <th>ccaa</th>\n",
       "      <th>agencias_de_viajes</th>\n",
       "      <th>albergues</th>\n",
       "      <th>alojamientos_rurales</th>\n",
       "      <th>artesanos</th>\n",
       "      <th>atraque_de_cruceros_y_ferries</th>\n",
       "      <th>bares_y_cafeterías</th>\n",
       "      <th>bodegas</th>\n",
       "      <th>...</th>\n",
       "      <th>otros_servicios</th>\n",
       "      <th>palacios_de_congresos</th>\n",
       "      <th>playas</th>\n",
       "      <th>puertos_deportivos</th>\n",
       "      <th>restaurantes_y_empresas_turísticas_de_catering</th>\n",
       "      <th>seguridad_ciudadana</th>\n",
       "      <th>servicios_de_limpieza</th>\n",
       "      <th>servicios_turísticos_de_salud</th>\n",
       "      <th>taxis</th>\n",
       "      <th>turismo_industrial</th>\n",
       "    </tr>\n",
       "  </thead>\n",
       "  <tbody>\n",
       "    <tr>\n",
       "      <th>692</th>\n",
       "      <td>12400</td>\n",
       "      <td>segorbe</td>\n",
       "      <td>comunitat_valenciana</td>\n",
       "      <td>1.0</td>\n",
       "      <td>NaN</td>\n",
       "      <td>4.0</td>\n",
       "      <td>NaN</td>\n",
       "      <td>NaN</td>\n",
       "      <td>NaN</td>\n",
       "      <td>1.0</td>\n",
       "      <td>...</td>\n",
       "      <td>NaN</td>\n",
       "      <td>NaN</td>\n",
       "      <td>NaN</td>\n",
       "      <td>NaN</td>\n",
       "      <td>2.0</td>\n",
       "      <td>1.0</td>\n",
       "      <td>NaN</td>\n",
       "      <td>NaN</td>\n",
       "      <td>NaN</td>\n",
       "      <td>NaN</td>\n",
       "    </tr>\n",
       "  </tbody>\n",
       "</table>\n",
       "<p>1 rows × 35 columns</p>\n",
       "</div>"
      ],
      "text/plain": [
       "    codigo_postal municipio_limpio                  ccaa  agencias_de_viajes  \\\n",
       "692         12400          segorbe  comunitat_valenciana                 1.0   \n",
       "\n",
       "     albergues  alojamientos_rurales  artesanos  \\\n",
       "692        NaN                   4.0        NaN   \n",
       "\n",
       "     atraque_de_cruceros_y_ferries  bares_y_cafeterías  bodegas  ...  \\\n",
       "692                            NaN                 NaN      1.0  ...   \n",
       "\n",
       "     otros_servicios  palacios_de_congresos  playas  puertos_deportivos  \\\n",
       "692              NaN                    NaN     NaN                 NaN   \n",
       "\n",
       "     restaurantes_y_empresas_turísticas_de_catering  seguridad_ciudadana  \\\n",
       "692                                             2.0                  1.0   \n",
       "\n",
       "     servicios_de_limpieza  servicios_turísticos_de_salud  taxis  \\\n",
       "692                    NaN                            NaN    NaN   \n",
       "\n",
       "     turismo_industrial  \n",
       "692                 NaN  \n",
       "\n",
       "[1 rows x 35 columns]"
      ]
     },
     "execution_count": 149,
     "metadata": {},
     "output_type": "execute_result"
    }
   ],
   "source": [
    "establecimientos[establecimientos['codigo_postal']=='12400']"
   ]
  },
  {
   "cell_type": "code",
   "execution_count": 151,
   "metadata": {},
   "outputs": [],
   "source": [
    "union = pd.merge(union, establecimientos, left_on='postal_code', right_on='codigo_postal', how='left')"
   ]
  },
  {
   "cell_type": "code",
   "execution_count": 152,
   "metadata": {},
   "outputs": [
    {
     "data": {
      "text/plain": [
       "(149, 58)"
      ]
     },
     "execution_count": 152,
     "metadata": {},
     "output_type": "execute_result"
    }
   ],
   "source": [
    "union[~union['agencias_de_viajes'].isnull()].shape"
   ]
  },
  {
   "cell_type": "code",
   "execution_count": 155,
   "metadata": {
    "scrolled": true
   },
   "outputs": [
    {
     "data": {
      "text/plain": [
       "Index(['postal_code', 'cities_es', 'cities', 'province_es', 'province',\n",
       "       'ccaa_es', 'ccaa_x', 'cities_es/province_es', 'cities_es/province',\n",
       "       'cities_es/ccaa_es', 'cities_es/ccaa_x', 'cities/province_es',\n",
       "       'province_es/ccaa_es', 'province_es/ccaa', 'province/ccaa_es',\n",
       "       'province/ccaa', 'municipio_limpio_x', 'ccaa_y',\n",
       "       'num_universidades_privadas', 'num_universidades_publicas',\n",
       "       'num_tit_uni_privadas', 'num_tit_uni_publicas', 'cities_es/ccaa_y',\n",
       "       'codigo_postal', 'municipio_limpio_y', 'ccaa', 'agencias_de_viajes',\n",
       "       'albergues', 'alojamientos_rurales', 'artesanos',\n",
       "       'atraque_de_cruceros_y_ferries', 'bares_y_cafeterías', 'bodegas',\n",
       "       'campings', 'campos_de_golf_y_campos_de_pitch&putt', 'comercios',\n",
       "       'convention_bureaux',\n",
       "       'empresas_de_alquiler_de_vehículos_y_embarcaciones',\n",
       "       'empresas_de_transporte_turístico', 'empresas_de_turismo_activo',\n",
       "       'escuelas_de_español_para_extranjeros', 'espacios_naturales_protegidos',\n",
       "       'estaciones_de_esquí_y_montaña', 'guías_turísticos',\n",
       "       'hoteles_y_apartamentos_turísticos',\n",
       "       'museos_y_centros_de_interés_turístico_visitable', 'opc',\n",
       "       'oficinas_de_información_turística', 'otros_servicios',\n",
       "       'palacios_de_congresos', 'playas', 'puertos_deportivos',\n",
       "       'restaurantes_y_empresas_turísticas_de_catering', 'seguridad_ciudadana',\n",
       "       'servicios_de_limpieza', 'servicios_turísticos_de_salud', 'taxis',\n",
       "       'turismo_industrial'],\n",
       "      dtype='object')"
      ]
     },
     "execution_count": 155,
     "metadata": {},
     "output_type": "execute_result"
    }
   ],
   "source": [
    "union.columns"
   ]
  },
  {
   "cell_type": "code",
   "execution_count": 108,
   "metadata": {},
   "outputs": [],
   "source": [
    "union = union.drop(columns=['cp'])"
   ]
  },
  {
   "cell_type": "code",
   "execution_count": 144,
   "metadata": {},
   "outputs": [
    {
     "data": {
      "text/plain": [
       "(10696, 23)"
      ]
     },
     "execution_count": 144,
     "metadata": {},
     "output_type": "execute_result"
    }
   ],
   "source": [
    "union.shape"
   ]
  },
  {
   "cell_type": "markdown",
   "metadata": {},
   "source": [
    "##### Usos suelo"
   ]
  },
  {
   "cell_type": "code",
   "execution_count": 157,
   "metadata": {},
   "outputs": [],
   "source": [
    "usos_suelo = pd.read_csv(\"sociedad_usos_suelo_2019_limpio.csv\", index_col=0)"
   ]
  },
  {
   "cell_type": "code",
   "execution_count": 158,
   "metadata": {},
   "outputs": [
    {
     "data": {
      "text/plain": [
       "(7610, 12)"
      ]
     },
     "execution_count": 158,
     "metadata": {},
     "output_type": "execute_result"
    }
   ],
   "source": [
    "usos_suelo.shape"
   ]
  },
  {
   "cell_type": "code",
   "execution_count": 159,
   "metadata": {
    "scrolled": false
   },
   "outputs": [
    {
     "data": {
      "text/html": [
       "<div>\n",
       "<style scoped>\n",
       "    .dataframe tbody tr th:only-of-type {\n",
       "        vertical-align: middle;\n",
       "    }\n",
       "\n",
       "    .dataframe tbody tr th {\n",
       "        vertical-align: top;\n",
       "    }\n",
       "\n",
       "    .dataframe thead th {\n",
       "        text-align: right;\n",
       "    }\n",
       "</style>\n",
       "<table border=\"1\" class=\"dataframe\">\n",
       "  <thead>\n",
       "    <tr style=\"text-align: right;\">\n",
       "      <th></th>\n",
       "      <th>municipio_limpio</th>\n",
       "      <th>provincia</th>\n",
       "      <th>superficie_urbana</th>\n",
       "      <th>uds_almacen</th>\n",
       "      <th>uds_comercial</th>\n",
       "      <th>uds_cultural</th>\n",
       "      <th>uds_hosteleria</th>\n",
       "      <th>uds_industrial</th>\n",
       "      <th>uds_deportivo</th>\n",
       "      <th>uds_oficinas</th>\n",
       "      <th>uds_religioso</th>\n",
       "      <th>uds_espectaculos</th>\n",
       "    </tr>\n",
       "  </thead>\n",
       "  <tbody>\n",
       "    <tr>\n",
       "      <th>0</th>\n",
       "      <td>abengibre</td>\n",
       "      <td>albacete</td>\n",
       "      <td>302,079</td>\n",
       "      <td>13</td>\n",
       "      <td>3</td>\n",
       "      <td>2</td>\n",
       "      <td>1</td>\n",
       "      <td>169</td>\n",
       "      <td>1</td>\n",
       "      <td>2</td>\n",
       "      <td>1</td>\n",
       "      <td>0</td>\n",
       "    </tr>\n",
       "    <tr>\n",
       "      <th>1</th>\n",
       "      <td>alatoz</td>\n",
       "      <td>albacete</td>\n",
       "      <td>339,890</td>\n",
       "      <td>41</td>\n",
       "      <td>2</td>\n",
       "      <td>1</td>\n",
       "      <td>1</td>\n",
       "      <td>140</td>\n",
       "      <td>4</td>\n",
       "      <td>2</td>\n",
       "      <td>2</td>\n",
       "      <td>0</td>\n",
       "    </tr>\n",
       "  </tbody>\n",
       "</table>\n",
       "</div>"
      ],
      "text/plain": [
       "  municipio_limpio provincia superficie_urbana uds_almacen uds_comercial  \\\n",
       "0        abengibre  albacete           302,079          13             3   \n",
       "1           alatoz  albacete           339,890          41             2   \n",
       "\n",
       "  uds_cultural uds_hosteleria uds_industrial uds_deportivo uds_oficinas  \\\n",
       "0            2              1            169             1            2   \n",
       "1            1              1            140             4            2   \n",
       "\n",
       "   uds_religioso  uds_espectaculos  \n",
       "0              1                 0  \n",
       "1              2                 0  "
      ]
     },
     "execution_count": 159,
     "metadata": {},
     "output_type": "execute_result"
    }
   ],
   "source": [
    "usos_suelo.head(2)"
   ]
  },
  {
   "cell_type": "code",
   "execution_count": 160,
   "metadata": {},
   "outputs": [],
   "source": [
    "usos_suelo['cities_es/province_es'] = usos_suelo['municipio_limpio']+\"/\"+usos_suelo['provincia']"
   ]
  },
  {
   "cell_type": "code",
   "execution_count": 161,
   "metadata": {},
   "outputs": [
    {
     "data": {
      "text/html": [
       "<div>\n",
       "<style scoped>\n",
       "    .dataframe tbody tr th:only-of-type {\n",
       "        vertical-align: middle;\n",
       "    }\n",
       "\n",
       "    .dataframe tbody tr th {\n",
       "        vertical-align: top;\n",
       "    }\n",
       "\n",
       "    .dataframe thead th {\n",
       "        text-align: right;\n",
       "    }\n",
       "</style>\n",
       "<table border=\"1\" class=\"dataframe\">\n",
       "  <thead>\n",
       "    <tr style=\"text-align: right;\">\n",
       "      <th></th>\n",
       "      <th>municipio_limpio</th>\n",
       "      <th>provincia</th>\n",
       "      <th>superficie_urbana</th>\n",
       "      <th>uds_almacen</th>\n",
       "      <th>uds_comercial</th>\n",
       "      <th>uds_cultural</th>\n",
       "      <th>uds_hosteleria</th>\n",
       "      <th>uds_industrial</th>\n",
       "      <th>uds_deportivo</th>\n",
       "      <th>uds_oficinas</th>\n",
       "      <th>uds_religioso</th>\n",
       "      <th>uds_espectaculos</th>\n",
       "      <th>cities_es/province_es</th>\n",
       "    </tr>\n",
       "  </thead>\n",
       "  <tbody>\n",
       "    <tr>\n",
       "      <th>1855</th>\n",
       "      <td>segorbe</td>\n",
       "      <td>castellon</td>\n",
       "      <td>2,448,844</td>\n",
       "      <td>3,314</td>\n",
       "      <td>322</td>\n",
       "      <td>12</td>\n",
       "      <td>15</td>\n",
       "      <td>378</td>\n",
       "      <td>26</td>\n",
       "      <td>89</td>\n",
       "      <td>11</td>\n",
       "      <td>19</td>\n",
       "      <td>segorbe/castellon</td>\n",
       "    </tr>\n",
       "  </tbody>\n",
       "</table>\n",
       "</div>"
      ],
      "text/plain": [
       "     municipio_limpio  provincia superficie_urbana uds_almacen uds_comercial  \\\n",
       "1855          segorbe  castellon         2,448,844       3,314           322   \n",
       "\n",
       "     uds_cultural uds_hosteleria uds_industrial uds_deportivo uds_oficinas  \\\n",
       "1855           12             15            378            26           89   \n",
       "\n",
       "      uds_religioso  uds_espectaculos cities_es/province_es  \n",
       "1855             11                19     segorbe/castellon  "
      ]
     },
     "execution_count": 161,
     "metadata": {},
     "output_type": "execute_result"
    }
   ],
   "source": [
    "usos_suelo[usos_suelo['municipio_limpio']=='segorbe']"
   ]
  },
  {
   "cell_type": "code",
   "execution_count": 162,
   "metadata": {},
   "outputs": [],
   "source": [
    "union = pd.merge(union, usos_suelo, left_on='cities_es/province_es', right_on='cities_es/province_es', how='left')"
   ]
  },
  {
   "cell_type": "code",
   "execution_count": 164,
   "metadata": {},
   "outputs": [
    {
     "data": {
      "text/plain": [
       "(5872, 70)"
      ]
     },
     "execution_count": 164,
     "metadata": {},
     "output_type": "execute_result"
    }
   ],
   "source": [
    "union[~union['uds_hosteleria'].isnull()].shape"
   ]
  },
  {
   "cell_type": "code",
   "execution_count": 165,
   "metadata": {
    "scrolled": true
   },
   "outputs": [
    {
     "data": {
      "text/html": [
       "<div>\n",
       "<style scoped>\n",
       "    .dataframe tbody tr th:only-of-type {\n",
       "        vertical-align: middle;\n",
       "    }\n",
       "\n",
       "    .dataframe tbody tr th {\n",
       "        vertical-align: top;\n",
       "    }\n",
       "\n",
       "    .dataframe thead th {\n",
       "        text-align: right;\n",
       "    }\n",
       "</style>\n",
       "<table border=\"1\" class=\"dataframe\">\n",
       "  <thead>\n",
       "    <tr style=\"text-align: right;\">\n",
       "      <th></th>\n",
       "      <th>postal_code</th>\n",
       "      <th>cities_es</th>\n",
       "      <th>cities</th>\n",
       "      <th>province_es</th>\n",
       "      <th>province</th>\n",
       "      <th>ccaa_es</th>\n",
       "      <th>ccaa_x</th>\n",
       "      <th>cities_es/province_es</th>\n",
       "      <th>cities_es/province</th>\n",
       "      <th>cities_es/ccaa_es</th>\n",
       "      <th>...</th>\n",
       "      <th>superficie_urbana</th>\n",
       "      <th>uds_almacen</th>\n",
       "      <th>uds_comercial</th>\n",
       "      <th>uds_cultural</th>\n",
       "      <th>uds_hosteleria</th>\n",
       "      <th>uds_industrial</th>\n",
       "      <th>uds_deportivo</th>\n",
       "      <th>uds_oficinas</th>\n",
       "      <th>uds_religioso</th>\n",
       "      <th>uds_espectaculos</th>\n",
       "    </tr>\n",
       "  </thead>\n",
       "  <tbody>\n",
       "    <tr>\n",
       "      <th>0</th>\n",
       "      <td>01001</td>\n",
       "      <td>vitoria-gasteiz</td>\n",
       "      <td>vitoria-gasteiz</td>\n",
       "      <td>alava</td>\n",
       "      <td>araba</td>\n",
       "      <td>pais vasco</td>\n",
       "      <td>pais vasco</td>\n",
       "      <td>vitoria-gasteiz/alava</td>\n",
       "      <td>vitoria-gasteiz/araba</td>\n",
       "      <td>vitoria-gasteiz/pais vasco</td>\n",
       "      <td>...</td>\n",
       "      <td>NaN</td>\n",
       "      <td>NaN</td>\n",
       "      <td>NaN</td>\n",
       "      <td>NaN</td>\n",
       "      <td>NaN</td>\n",
       "      <td>NaN</td>\n",
       "      <td>NaN</td>\n",
       "      <td>NaN</td>\n",
       "      <td>NaN</td>\n",
       "      <td>NaN</td>\n",
       "    </tr>\n",
       "    <tr>\n",
       "      <th>1</th>\n",
       "      <td>01002</td>\n",
       "      <td>vitoria-gasteiz</td>\n",
       "      <td>vitoria-gasteiz</td>\n",
       "      <td>alava</td>\n",
       "      <td>araba</td>\n",
       "      <td>pais vasco</td>\n",
       "      <td>pais vasco</td>\n",
       "      <td>vitoria-gasteiz/alava</td>\n",
       "      <td>vitoria-gasteiz/araba</td>\n",
       "      <td>vitoria-gasteiz/pais vasco</td>\n",
       "      <td>...</td>\n",
       "      <td>NaN</td>\n",
       "      <td>NaN</td>\n",
       "      <td>NaN</td>\n",
       "      <td>NaN</td>\n",
       "      <td>NaN</td>\n",
       "      <td>NaN</td>\n",
       "      <td>NaN</td>\n",
       "      <td>NaN</td>\n",
       "      <td>NaN</td>\n",
       "      <td>NaN</td>\n",
       "    </tr>\n",
       "  </tbody>\n",
       "</table>\n",
       "<p>2 rows × 70 columns</p>\n",
       "</div>"
      ],
      "text/plain": [
       "  postal_code        cities_es           cities province_es province  \\\n",
       "0       01001  vitoria-gasteiz  vitoria-gasteiz       alava    araba   \n",
       "1       01002  vitoria-gasteiz  vitoria-gasteiz       alava    araba   \n",
       "\n",
       "      ccaa_es      ccaa_x  cities_es/province_es     cities_es/province  \\\n",
       "0  pais vasco  pais vasco  vitoria-gasteiz/alava  vitoria-gasteiz/araba   \n",
       "1  pais vasco  pais vasco  vitoria-gasteiz/alava  vitoria-gasteiz/araba   \n",
       "\n",
       "            cities_es/ccaa_es  ... superficie_urbana uds_almacen  \\\n",
       "0  vitoria-gasteiz/pais vasco  ...               NaN         NaN   \n",
       "1  vitoria-gasteiz/pais vasco  ...               NaN         NaN   \n",
       "\n",
       "  uds_comercial uds_cultural uds_hosteleria uds_industrial uds_deportivo  \\\n",
       "0           NaN          NaN            NaN            NaN           NaN   \n",
       "1           NaN          NaN            NaN            NaN           NaN   \n",
       "\n",
       "  uds_oficinas  uds_religioso  uds_espectaculos  \n",
       "0          NaN            NaN               NaN  \n",
       "1          NaN            NaN               NaN  \n",
       "\n",
       "[2 rows x 70 columns]"
      ]
     },
     "execution_count": 165,
     "metadata": {},
     "output_type": "execute_result"
    }
   ],
   "source": [
    "union.head(2)"
   ]
  },
  {
   "cell_type": "code",
   "execution_count": 130,
   "metadata": {},
   "outputs": [],
   "source": [
    "union = union.drop(columns=['municipio_limpio', 'provincia', 'cities_es/ccaa', 'cp'])"
   ]
  },
  {
   "cell_type": "code",
   "execution_count": 144,
   "metadata": {},
   "outputs": [
    {
     "data": {
      "text/plain": [
       "(10696, 23)"
      ]
     },
     "execution_count": 144,
     "metadata": {},
     "output_type": "execute_result"
    }
   ],
   "source": [
    "union.shape"
   ]
  },
  {
   "cell_type": "code",
   "execution_count": null,
   "metadata": {},
   "outputs": [],
   "source": []
  }
 ],
 "metadata": {
  "kernelspec": {
   "display_name": "Python 3",
   "language": "python",
   "name": "python3"
  },
  "language_info": {
   "codemirror_mode": {
    "name": "ipython",
    "version": 3
   },
   "file_extension": ".py",
   "mimetype": "text/x-python",
   "name": "python",
   "nbconvert_exporter": "python",
   "pygments_lexer": "ipython3",
   "version": "3.8.2"
  }
 },
 "nbformat": 4,
 "nbformat_minor": 4
}
