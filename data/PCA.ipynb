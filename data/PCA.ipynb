{
 "cells": [
  {
   "cell_type": "code",
   "execution_count": 1,
   "metadata": {},
   "outputs": [],
   "source": [
    "import pandas as pd\n",
    "import numpy as np\n",
    "import seaborn as sns\n",
    "from sklearn.cluster import KMeans\n",
    "import matplotlib.pyplot as plt\n",
    "from sklearn.model_selection import train_test_split  \n",
    "from sklearn.decomposition import PCA\n",
    "from sklearn.preprocessing import StandardScaler"
   ]
  },
  {
   "cell_type": "code",
   "execution_count": 188,
   "metadata": {},
   "outputs": [],
   "source": [
    "union = pd.read_csv('union_todo.csv')"
   ]
  },
  {
   "cell_type": "code",
   "execution_count": 189,
   "metadata": {},
   "outputs": [
    {
     "data": {
      "text/plain": [
       "(6066, 152)"
      ]
     },
     "execution_count": 189,
     "metadata": {},
     "output_type": "execute_result"
    }
   ],
   "source": [
    "union.shape"
   ]
  },
  {
   "cell_type": "code",
   "execution_count": 159,
   "metadata": {},
   "outputs": [
    {
     "data": {
      "text/html": [
       "<div>\n",
       "<style scoped>\n",
       "    .dataframe tbody tr th:only-of-type {\n",
       "        vertical-align: middle;\n",
       "    }\n",
       "\n",
       "    .dataframe tbody tr th {\n",
       "        vertical-align: top;\n",
       "    }\n",
       "\n",
       "    .dataframe thead th {\n",
       "        text-align: right;\n",
       "    }\n",
       "</style>\n",
       "<table border=\"1\" class=\"dataframe\">\n",
       "  <thead>\n",
       "    <tr style=\"text-align: right;\">\n",
       "      <th></th>\n",
       "      <th>Unnamed: 0</th>\n",
       "      <th>cities_es</th>\n",
       "      <th>cities</th>\n",
       "      <th>province_es</th>\n",
       "      <th>province</th>\n",
       "      <th>ccaa_es</th>\n",
       "      <th>ccaa</th>\n",
       "      <th>cities_es/province</th>\n",
       "      <th>provincia_original</th>\n",
       "      <th>municipio_original</th>\n",
       "      <th>...</th>\n",
       "      <th>f_construccion</th>\n",
       "      <th>comercio_transporte_y_hosteleria</th>\n",
       "      <th>j_informacion_y_comunicaciones</th>\n",
       "      <th>k_actividades_financieras_y_de_seguros</th>\n",
       "      <th>l_actividades_inmobiliarias</th>\n",
       "      <th>actividades_profesionales_y_tecnicas</th>\n",
       "      <th>educacion_sanidad_y_servicios_sociales</th>\n",
       "      <th>otros_servicios_personales</th>\n",
       "      <th>total_servicios</th>\n",
       "      <th>prov_pib</th>\n",
       "    </tr>\n",
       "  </thead>\n",
       "  <tbody>\n",
       "    <tr>\n",
       "      <td>0</td>\n",
       "      <td>0</td>\n",
       "      <td>alegria_dulantzi</td>\n",
       "      <td>alegria_dulantzi</td>\n",
       "      <td>alava</td>\n",
       "      <td>araba</td>\n",
       "      <td>pais_vasco</td>\n",
       "      <td>pais_vasco</td>\n",
       "      <td>alegria_dulantzi/araba</td>\n",
       "      <td>Araba/Álava</td>\n",
       "      <td>Alegría-Dulantzi</td>\n",
       "      <td>...</td>\n",
       "      <td>0.0</td>\n",
       "      <td>0.0</td>\n",
       "      <td>0.0</td>\n",
       "      <td>0.0</td>\n",
       "      <td>0.0</td>\n",
       "      <td>0.0</td>\n",
       "      <td>0.0</td>\n",
       "      <td>0.0</td>\n",
       "      <td>0.0</td>\n",
       "      <td>11983377</td>\n",
       "    </tr>\n",
       "    <tr>\n",
       "      <td>1</td>\n",
       "      <td>1</td>\n",
       "      <td>amurrio</td>\n",
       "      <td>amurrio</td>\n",
       "      <td>alava</td>\n",
       "      <td>araba</td>\n",
       "      <td>pais_vasco</td>\n",
       "      <td>pais_vasco</td>\n",
       "      <td>amurrio/araba</td>\n",
       "      <td>Araba/Álava</td>\n",
       "      <td>Amurrio</td>\n",
       "      <td>...</td>\n",
       "      <td>0.0</td>\n",
       "      <td>0.0</td>\n",
       "      <td>0.0</td>\n",
       "      <td>0.0</td>\n",
       "      <td>0.0</td>\n",
       "      <td>0.0</td>\n",
       "      <td>0.0</td>\n",
       "      <td>0.0</td>\n",
       "      <td>0.0</td>\n",
       "      <td>11983377</td>\n",
       "    </tr>\n",
       "    <tr>\n",
       "      <td>2</td>\n",
       "      <td>2</td>\n",
       "      <td>aramaio</td>\n",
       "      <td>aramaio</td>\n",
       "      <td>alava</td>\n",
       "      <td>araba</td>\n",
       "      <td>pais_vasco</td>\n",
       "      <td>pais_vasco</td>\n",
       "      <td>aramaio/araba</td>\n",
       "      <td>Araba/Álava</td>\n",
       "      <td>Aramaio</td>\n",
       "      <td>...</td>\n",
       "      <td>0.0</td>\n",
       "      <td>0.0</td>\n",
       "      <td>0.0</td>\n",
       "      <td>0.0</td>\n",
       "      <td>0.0</td>\n",
       "      <td>0.0</td>\n",
       "      <td>0.0</td>\n",
       "      <td>0.0</td>\n",
       "      <td>0.0</td>\n",
       "      <td>11983377</td>\n",
       "    </tr>\n",
       "    <tr>\n",
       "      <td>3</td>\n",
       "      <td>3</td>\n",
       "      <td>artziniega</td>\n",
       "      <td>artziniega</td>\n",
       "      <td>alava</td>\n",
       "      <td>araba</td>\n",
       "      <td>pais_vasco</td>\n",
       "      <td>pais_vasco</td>\n",
       "      <td>artziniega/araba</td>\n",
       "      <td>Araba/Álava</td>\n",
       "      <td>Artziniega</td>\n",
       "      <td>...</td>\n",
       "      <td>0.0</td>\n",
       "      <td>0.0</td>\n",
       "      <td>0.0</td>\n",
       "      <td>0.0</td>\n",
       "      <td>0.0</td>\n",
       "      <td>0.0</td>\n",
       "      <td>0.0</td>\n",
       "      <td>0.0</td>\n",
       "      <td>0.0</td>\n",
       "      <td>11983377</td>\n",
       "    </tr>\n",
       "    <tr>\n",
       "      <td>4</td>\n",
       "      <td>4</td>\n",
       "      <td>arminon</td>\n",
       "      <td>arminon</td>\n",
       "      <td>alava</td>\n",
       "      <td>araba</td>\n",
       "      <td>pais_vasco</td>\n",
       "      <td>pais_vasco</td>\n",
       "      <td>arminon/araba</td>\n",
       "      <td>Araba/Álava</td>\n",
       "      <td>Armiñón</td>\n",
       "      <td>...</td>\n",
       "      <td>0.0</td>\n",
       "      <td>0.0</td>\n",
       "      <td>0.0</td>\n",
       "      <td>0.0</td>\n",
       "      <td>0.0</td>\n",
       "      <td>0.0</td>\n",
       "      <td>0.0</td>\n",
       "      <td>0.0</td>\n",
       "      <td>0.0</td>\n",
       "      <td>11983377</td>\n",
       "    </tr>\n",
       "  </tbody>\n",
       "</table>\n",
       "<p>5 rows × 152 columns</p>\n",
       "</div>"
      ],
      "text/plain": [
       "   Unnamed: 0         cities_es            cities province_es province  \\\n",
       "0           0  alegria_dulantzi  alegria_dulantzi       alava    araba   \n",
       "1           1           amurrio           amurrio       alava    araba   \n",
       "2           2           aramaio           aramaio       alava    araba   \n",
       "3           3        artziniega        artziniega       alava    araba   \n",
       "4           4           arminon           arminon       alava    araba   \n",
       "\n",
       "      ccaa_es        ccaa      cities_es/province provincia_original  \\\n",
       "0  pais_vasco  pais_vasco  alegria_dulantzi/araba        Araba/Álava   \n",
       "1  pais_vasco  pais_vasco           amurrio/araba        Araba/Álava   \n",
       "2  pais_vasco  pais_vasco           aramaio/araba        Araba/Álava   \n",
       "3  pais_vasco  pais_vasco        artziniega/araba        Araba/Álava   \n",
       "4  pais_vasco  pais_vasco           arminon/araba        Araba/Álava   \n",
       "\n",
       "  municipio_original  ...  f_construccion  comercio_transporte_y_hosteleria  \\\n",
       "0   Alegría-Dulantzi  ...             0.0                               0.0   \n",
       "1            Amurrio  ...             0.0                               0.0   \n",
       "2            Aramaio  ...             0.0                               0.0   \n",
       "3         Artziniega  ...             0.0                               0.0   \n",
       "4            Armiñón  ...             0.0                               0.0   \n",
       "\n",
       "   j_informacion_y_comunicaciones  k_actividades_financieras_y_de_seguros  \\\n",
       "0                             0.0                                     0.0   \n",
       "1                             0.0                                     0.0   \n",
       "2                             0.0                                     0.0   \n",
       "3                             0.0                                     0.0   \n",
       "4                             0.0                                     0.0   \n",
       "\n",
       "   l_actividades_inmobiliarias  actividades_profesionales_y_tecnicas  \\\n",
       "0                          0.0                                   0.0   \n",
       "1                          0.0                                   0.0   \n",
       "2                          0.0                                   0.0   \n",
       "3                          0.0                                   0.0   \n",
       "4                          0.0                                   0.0   \n",
       "\n",
       "   educacion_sanidad_y_servicios_sociales  otros_servicios_personales  \\\n",
       "0                                     0.0                         0.0   \n",
       "1                                     0.0                         0.0   \n",
       "2                                     0.0                         0.0   \n",
       "3                                     0.0                         0.0   \n",
       "4                                     0.0                         0.0   \n",
       "\n",
       "   total_servicios  prov_pib  \n",
       "0              0.0  11983377  \n",
       "1              0.0  11983377  \n",
       "2              0.0  11983377  \n",
       "3              0.0  11983377  \n",
       "4              0.0  11983377  \n",
       "\n",
       "[5 rows x 152 columns]"
      ]
     },
     "execution_count": 159,
     "metadata": {},
     "output_type": "execute_result"
    }
   ],
   "source": [
    "union.head()"
   ]
  },
  {
   "cell_type": "code",
   "execution_count": 160,
   "metadata": {},
   "outputs": [
    {
     "data": {
      "text/html": [
       "<div>\n",
       "<style scoped>\n",
       "    .dataframe tbody tr th:only-of-type {\n",
       "        vertical-align: middle;\n",
       "    }\n",
       "\n",
       "    .dataframe tbody tr th {\n",
       "        vertical-align: top;\n",
       "    }\n",
       "\n",
       "    .dataframe thead th {\n",
       "        text-align: right;\n",
       "    }\n",
       "</style>\n",
       "<table border=\"1\" class=\"dataframe\">\n",
       "  <thead>\n",
       "    <tr style=\"text-align: right;\">\n",
       "      <th></th>\n",
       "      <th>Unnamed: 0</th>\n",
       "      <th>num_bibliotecas</th>\n",
       "      <th>num_hospitales</th>\n",
       "      <th>num_centros_salud</th>\n",
       "      <th>num_colegios_privados</th>\n",
       "      <th>num_colegios_publicos</th>\n",
       "      <th>num_guardia_civil</th>\n",
       "      <th>num_universidades_privadas</th>\n",
       "      <th>num_universidades_publicas</th>\n",
       "      <th>num_tit_uni_privadas</th>\n",
       "      <th>...</th>\n",
       "      <th>f_construccion</th>\n",
       "      <th>comercio_transporte_y_hosteleria</th>\n",
       "      <th>j_informacion_y_comunicaciones</th>\n",
       "      <th>k_actividades_financieras_y_de_seguros</th>\n",
       "      <th>l_actividades_inmobiliarias</th>\n",
       "      <th>actividades_profesionales_y_tecnicas</th>\n",
       "      <th>educacion_sanidad_y_servicios_sociales</th>\n",
       "      <th>otros_servicios_personales</th>\n",
       "      <th>total_servicios</th>\n",
       "      <th>prov_pib</th>\n",
       "    </tr>\n",
       "  </thead>\n",
       "  <tbody>\n",
       "    <tr>\n",
       "      <td>count</td>\n",
       "      <td>6066.000000</td>\n",
       "      <td>6066.000000</td>\n",
       "      <td>6066.000000</td>\n",
       "      <td>6066.000000</td>\n",
       "      <td>6066.000000</td>\n",
       "      <td>6066.000000</td>\n",
       "      <td>6066.000000</td>\n",
       "      <td>6066.000000</td>\n",
       "      <td>6066.000000</td>\n",
       "      <td>6066.000000</td>\n",
       "      <td>...</td>\n",
       "      <td>6066.000000</td>\n",
       "      <td>6066.000000</td>\n",
       "      <td>6066.000000</td>\n",
       "      <td>6066.000000</td>\n",
       "      <td>6066.000000</td>\n",
       "      <td>6066.000000</td>\n",
       "      <td>6066.000000</td>\n",
       "      <td>6066.000000</td>\n",
       "      <td>6066.000000</td>\n",
       "      <td>6.066000e+03</td>\n",
       "    </tr>\n",
       "    <tr>\n",
       "      <td>mean</td>\n",
       "      <td>3032.500000</td>\n",
       "      <td>0.512529</td>\n",
       "      <td>0.147379</td>\n",
       "      <td>2.129245</td>\n",
       "      <td>17.229146</td>\n",
       "      <td>17.000824</td>\n",
       "      <td>0.948071</td>\n",
       "      <td>-0.944609</td>\n",
       "      <td>-0.870755</td>\n",
       "      <td>-0.411062</td>\n",
       "      <td>...</td>\n",
       "      <td>18.662216</td>\n",
       "      <td>55.374052</td>\n",
       "      <td>3.507748</td>\n",
       "      <td>3.391691</td>\n",
       "      <td>9.103693</td>\n",
       "      <td>29.912793</td>\n",
       "      <td>12.910979</td>\n",
       "      <td>13.417573</td>\n",
       "      <td>75.424003</td>\n",
       "      <td>2.718132e+07</td>\n",
       "    </tr>\n",
       "    <tr>\n",
       "      <td>std</td>\n",
       "      <td>1751.247698</td>\n",
       "      <td>2.094060</td>\n",
       "      <td>1.354802</td>\n",
       "      <td>3.263091</td>\n",
       "      <td>67.383287</td>\n",
       "      <td>46.894973</td>\n",
       "      <td>2.005542</td>\n",
       "      <td>0.362138</td>\n",
       "      <td>0.519158</td>\n",
       "      <td>5.410795</td>\n",
       "      <td>...</td>\n",
       "      <td>324.157839</td>\n",
       "      <td>1031.495460</td>\n",
       "      <td>109.474392</td>\n",
       "      <td>74.408845</td>\n",
       "      <td>242.304763</td>\n",
       "      <td>796.748260</td>\n",
       "      <td>315.061748</td>\n",
       "      <td>281.461272</td>\n",
       "      <td>1834.193391</td>\n",
       "      <td>4.468276e+07</td>\n",
       "    </tr>\n",
       "    <tr>\n",
       "      <td>min</td>\n",
       "      <td>0.000000</td>\n",
       "      <td>-1.000000</td>\n",
       "      <td>0.000000</td>\n",
       "      <td>0.000000</td>\n",
       "      <td>-1.000000</td>\n",
       "      <td>-1.000000</td>\n",
       "      <td>-1.000000</td>\n",
       "      <td>-1.000000</td>\n",
       "      <td>-1.000000</td>\n",
       "      <td>-1.000000</td>\n",
       "      <td>...</td>\n",
       "      <td>0.000000</td>\n",
       "      <td>0.000000</td>\n",
       "      <td>0.000000</td>\n",
       "      <td>0.000000</td>\n",
       "      <td>0.000000</td>\n",
       "      <td>0.000000</td>\n",
       "      <td>0.000000</td>\n",
       "      <td>0.000000</td>\n",
       "      <td>0.000000</td>\n",
       "      <td>1.520977e+06</td>\n",
       "    </tr>\n",
       "    <tr>\n",
       "      <td>25%</td>\n",
       "      <td>1516.250000</td>\n",
       "      <td>-1.000000</td>\n",
       "      <td>0.000000</td>\n",
       "      <td>1.000000</td>\n",
       "      <td>0.000000</td>\n",
       "      <td>1.000000</td>\n",
       "      <td>-1.000000</td>\n",
       "      <td>-1.000000</td>\n",
       "      <td>-1.000000</td>\n",
       "      <td>-1.000000</td>\n",
       "      <td>...</td>\n",
       "      <td>0.000000</td>\n",
       "      <td>0.000000</td>\n",
       "      <td>0.000000</td>\n",
       "      <td>0.000000</td>\n",
       "      <td>0.000000</td>\n",
       "      <td>0.000000</td>\n",
       "      <td>0.000000</td>\n",
       "      <td>0.000000</td>\n",
       "      <td>0.000000</td>\n",
       "      <td>6.905532e+06</td>\n",
       "    </tr>\n",
       "    <tr>\n",
       "      <td>50%</td>\n",
       "      <td>3032.500000</td>\n",
       "      <td>1.000000</td>\n",
       "      <td>0.000000</td>\n",
       "      <td>1.000000</td>\n",
       "      <td>0.000000</td>\n",
       "      <td>2.000000</td>\n",
       "      <td>1.000000</td>\n",
       "      <td>-1.000000</td>\n",
       "      <td>-1.000000</td>\n",
       "      <td>-1.000000</td>\n",
       "      <td>...</td>\n",
       "      <td>0.000000</td>\n",
       "      <td>0.000000</td>\n",
       "      <td>0.000000</td>\n",
       "      <td>0.000000</td>\n",
       "      <td>0.000000</td>\n",
       "      <td>0.000000</td>\n",
       "      <td>0.000000</td>\n",
       "      <td>0.000000</td>\n",
       "      <td>0.000000</td>\n",
       "      <td>1.243523e+07</td>\n",
       "    </tr>\n",
       "    <tr>\n",
       "      <td>75%</td>\n",
       "      <td>4548.750000</td>\n",
       "      <td>1.000000</td>\n",
       "      <td>0.000000</td>\n",
       "      <td>2.000000</td>\n",
       "      <td>6.000000</td>\n",
       "      <td>12.000000</td>\n",
       "      <td>1.000000</td>\n",
       "      <td>-1.000000</td>\n",
       "      <td>-1.000000</td>\n",
       "      <td>-1.000000</td>\n",
       "      <td>...</td>\n",
       "      <td>0.000000</td>\n",
       "      <td>0.000000</td>\n",
       "      <td>0.000000</td>\n",
       "      <td>0.000000</td>\n",
       "      <td>0.000000</td>\n",
       "      <td>0.000000</td>\n",
       "      <td>0.000000</td>\n",
       "      <td>0.000000</td>\n",
       "      <td>0.000000</td>\n",
       "      <td>2.374248e+07</td>\n",
       "    </tr>\n",
       "    <tr>\n",
       "      <td>max</td>\n",
       "      <td>6065.000000</td>\n",
       "      <td>74.000000</td>\n",
       "      <td>63.000000</td>\n",
       "      <td>129.000000</td>\n",
       "      <td>1041.000000</td>\n",
       "      <td>615.000000</td>\n",
       "      <td>17.000000</td>\n",
       "      <td>5.000000</td>\n",
       "      <td>7.000000</td>\n",
       "      <td>140.000000</td>\n",
       "      <td>...</td>\n",
       "      <td>19307.000000</td>\n",
       "      <td>64191.000000</td>\n",
       "      <td>7831.000000</td>\n",
       "      <td>4602.000000</td>\n",
       "      <td>16966.000000</td>\n",
       "      <td>54793.000000</td>\n",
       "      <td>20983.000000</td>\n",
       "      <td>17697.000000</td>\n",
       "      <td>124306.000000</td>\n",
       "      <td>2.214326e+08</td>\n",
       "    </tr>\n",
       "  </tbody>\n",
       "</table>\n",
       "<p>8 rows × 140 columns</p>\n",
       "</div>"
      ],
      "text/plain": [
       "        Unnamed: 0  num_bibliotecas  num_hospitales  num_centros_salud  \\\n",
       "count  6066.000000      6066.000000     6066.000000        6066.000000   \n",
       "mean   3032.500000         0.512529        0.147379           2.129245   \n",
       "std    1751.247698         2.094060        1.354802           3.263091   \n",
       "min       0.000000        -1.000000        0.000000           0.000000   \n",
       "25%    1516.250000        -1.000000        0.000000           1.000000   \n",
       "50%    3032.500000         1.000000        0.000000           1.000000   \n",
       "75%    4548.750000         1.000000        0.000000           2.000000   \n",
       "max    6065.000000        74.000000       63.000000         129.000000   \n",
       "\n",
       "       num_colegios_privados  num_colegios_publicos  num_guardia_civil  \\\n",
       "count            6066.000000            6066.000000        6066.000000   \n",
       "mean               17.229146              17.000824           0.948071   \n",
       "std                67.383287              46.894973           2.005542   \n",
       "min                -1.000000              -1.000000          -1.000000   \n",
       "25%                 0.000000               1.000000          -1.000000   \n",
       "50%                 0.000000               2.000000           1.000000   \n",
       "75%                 6.000000              12.000000           1.000000   \n",
       "max              1041.000000             615.000000          17.000000   \n",
       "\n",
       "       num_universidades_privadas  num_universidades_publicas  \\\n",
       "count                 6066.000000                 6066.000000   \n",
       "mean                    -0.944609                   -0.870755   \n",
       "std                      0.362138                    0.519158   \n",
       "min                     -1.000000                   -1.000000   \n",
       "25%                     -1.000000                   -1.000000   \n",
       "50%                     -1.000000                   -1.000000   \n",
       "75%                     -1.000000                   -1.000000   \n",
       "max                      5.000000                    7.000000   \n",
       "\n",
       "       num_tit_uni_privadas  ...  f_construccion  \\\n",
       "count           6066.000000  ...     6066.000000   \n",
       "mean              -0.411062  ...       18.662216   \n",
       "std                5.410795  ...      324.157839   \n",
       "min               -1.000000  ...        0.000000   \n",
       "25%               -1.000000  ...        0.000000   \n",
       "50%               -1.000000  ...        0.000000   \n",
       "75%               -1.000000  ...        0.000000   \n",
       "max              140.000000  ...    19307.000000   \n",
       "\n",
       "       comercio_transporte_y_hosteleria  j_informacion_y_comunicaciones  \\\n",
       "count                       6066.000000                     6066.000000   \n",
       "mean                          55.374052                        3.507748   \n",
       "std                         1031.495460                      109.474392   \n",
       "min                            0.000000                        0.000000   \n",
       "25%                            0.000000                        0.000000   \n",
       "50%                            0.000000                        0.000000   \n",
       "75%                            0.000000                        0.000000   \n",
       "max                        64191.000000                     7831.000000   \n",
       "\n",
       "       k_actividades_financieras_y_de_seguros  l_actividades_inmobiliarias  \\\n",
       "count                             6066.000000                  6066.000000   \n",
       "mean                                 3.391691                     9.103693   \n",
       "std                                 74.408845                   242.304763   \n",
       "min                                  0.000000                     0.000000   \n",
       "25%                                  0.000000                     0.000000   \n",
       "50%                                  0.000000                     0.000000   \n",
       "75%                                  0.000000                     0.000000   \n",
       "max                               4602.000000                 16966.000000   \n",
       "\n",
       "       actividades_profesionales_y_tecnicas  \\\n",
       "count                           6066.000000   \n",
       "mean                              29.912793   \n",
       "std                              796.748260   \n",
       "min                                0.000000   \n",
       "25%                                0.000000   \n",
       "50%                                0.000000   \n",
       "75%                                0.000000   \n",
       "max                            54793.000000   \n",
       "\n",
       "       educacion_sanidad_y_servicios_sociales  otros_servicios_personales  \\\n",
       "count                             6066.000000                 6066.000000   \n",
       "mean                                12.910979                   13.417573   \n",
       "std                                315.061748                  281.461272   \n",
       "min                                  0.000000                    0.000000   \n",
       "25%                                  0.000000                    0.000000   \n",
       "50%                                  0.000000                    0.000000   \n",
       "75%                                  0.000000                    0.000000   \n",
       "max                              20983.000000                17697.000000   \n",
       "\n",
       "       total_servicios      prov_pib  \n",
       "count      6066.000000  6.066000e+03  \n",
       "mean         75.424003  2.718132e+07  \n",
       "std        1834.193391  4.468276e+07  \n",
       "min           0.000000  1.520977e+06  \n",
       "25%           0.000000  6.905532e+06  \n",
       "50%           0.000000  1.243523e+07  \n",
       "75%           0.000000  2.374248e+07  \n",
       "max      124306.000000  2.214326e+08  \n",
       "\n",
       "[8 rows x 140 columns]"
      ]
     },
     "execution_count": 160,
     "metadata": {},
     "output_type": "execute_result"
    }
   ],
   "source": [
    "union.describe()"
   ]
  },
  {
   "cell_type": "code",
   "execution_count": 161,
   "metadata": {},
   "outputs": [
    {
     "data": {
      "text/plain": [
       "Unnamed: 0                                  int64\n",
       "cities_es                                  object\n",
       "cities                                     object\n",
       "province_es                                object\n",
       "province                                   object\n",
       "                                           ...   \n",
       "actividades_profesionales_y_tecnicas      float64\n",
       "educacion_sanidad_y_servicios_sociales    float64\n",
       "otros_servicios_personales                float64\n",
       "total_servicios                           float64\n",
       "prov_pib                                    int64\n",
       "Length: 152, dtype: object"
      ]
     },
     "execution_count": 161,
     "metadata": {},
     "output_type": "execute_result"
    }
   ],
   "source": [
    "union.dtypes"
   ]
  },
  {
   "cell_type": "code",
   "execution_count": 162,
   "metadata": {},
   "outputs": [
    {
     "data": {
      "text/plain": [
       "dtype('O')"
      ]
     },
     "execution_count": 162,
     "metadata": {},
     "output_type": "execute_result"
    }
   ],
   "source": [
    "union['prov_ta_min_anual'].dtypes"
   ]
  },
  {
   "cell_type": "code",
   "execution_count": 163,
   "metadata": {},
   "outputs": [
    {
     "data": {
      "text/plain": [
       "dtype('O')"
      ]
     },
     "execution_count": 163,
     "metadata": {},
     "output_type": "execute_result"
    }
   ],
   "source": [
    "union['prov_ta_max_anual'].dtypes"
   ]
  },
  {
   "cell_type": "code",
   "execution_count": 164,
   "metadata": {},
   "outputs": [
    {
     "data": {
      "text/plain": [
       "['Unnamed: 0',\n",
       " 'cities_es',\n",
       " 'cities',\n",
       " 'province_es',\n",
       " 'province',\n",
       " 'ccaa_es',\n",
       " 'ccaa',\n",
       " 'cities_es/province',\n",
       " 'provincia_original',\n",
       " 'municipio_original',\n",
       " 'num_bibliotecas',\n",
       " 'num_hospitales',\n",
       " 'num_centros_salud',\n",
       " 'num_colegios_privados',\n",
       " 'num_colegios_publicos',\n",
       " 'num_guardia_civil',\n",
       " 'num_universidades_privadas',\n",
       " 'num_universidades_publicas',\n",
       " 'num_tit_uni_privadas',\n",
       " 'num_tit_uni_publicas',\n",
       " 'num_establec_agencias_de_viajes',\n",
       " 'num_establec_albergues',\n",
       " 'num_establec_alojamientos_rurales',\n",
       " 'num_establec_artesanos',\n",
       " 'num_establec_atraque_de_cruceros_y_ferries',\n",
       " 'num_establec_bares_y_cafeterías',\n",
       " 'num_establec_bodegas',\n",
       " 'num_establec_campings',\n",
       " 'num_establec_campos_de_golf_y_campos_de_pitch&putt',\n",
       " 'num_establec_comercios',\n",
       " 'num_establec_convention_bureaux',\n",
       " 'num_establec_empresas_de_alquiler_de_vehículos_y_embarcaciones',\n",
       " 'num_establec_empresas_de_transporte_turístico',\n",
       " 'num_establec_empresas_de_turismo_activo',\n",
       " 'num_establec_escuelas_de_español_para_extranjeros',\n",
       " 'num_establec_espacios_naturales_protegidos',\n",
       " 'num_establec_estaciones_de_esquí_y_montaña',\n",
       " 'num_establec_guías_turísticos',\n",
       " 'num_establec_hoteles_y_apartamentos_turísticos',\n",
       " 'num_establec_museos_y_centros_de_interés_turístico_visitable',\n",
       " 'num_establec_opc',\n",
       " 'num_establec_oficinas_de_información_turística',\n",
       " 'num_establec_otros_servicios',\n",
       " 'num_establec_palacios_de_congresos',\n",
       " 'num_establec_playas',\n",
       " 'num_establec_puertos_deportivos',\n",
       " 'num_establec_restaurantes_y_empresas_turísticas_de_catering',\n",
       " 'num_establec_seguridad_ciudadana',\n",
       " 'num_establec_servicios_de_limpieza',\n",
       " 'num_establec_servicios_turísticos_de_salud',\n",
       " 'num_establec_taxis',\n",
       " 'num_establec_turismo_industrial',\n",
       " 'hombres_total',\n",
       " 'hombres_de_0_4',\n",
       " 'hombres_de_5_9',\n",
       " 'hombres_de_10_4',\n",
       " 'hombres_de_15_19',\n",
       " 'hombres_de_20_24',\n",
       " 'hombres_de_25_29',\n",
       " 'hombres_de_30_34',\n",
       " 'hombres_de_35_39',\n",
       " 'hombres_de_40_44',\n",
       " 'hombres_de_45_49',\n",
       " 'hombres_de_50_54',\n",
       " 'hombres_de_55_59',\n",
       " 'hombres_de_60_64',\n",
       " 'hombres_de_65_69',\n",
       " 'hombres_de_70_74',\n",
       " 'hombres_de_75_79',\n",
       " 'hombres_de_80_84',\n",
       " 'hombres_de_85_89',\n",
       " 'hombres_de_90_94',\n",
       " 'hombres_de_95_99',\n",
       " 'hombres_de_100_y_mas',\n",
       " 'mujeres_total',\n",
       " 'mujeres_de_0_4',\n",
       " 'mujeres_de_5_9',\n",
       " 'mujeres_de_10_4',\n",
       " 'mujeres_de_15_19',\n",
       " 'mujeres_de_20_24',\n",
       " 'mujeres_de_25_29',\n",
       " 'mujeres_de_30_34',\n",
       " 'mujeres_de_35_39',\n",
       " 'mujeres_de_40_44',\n",
       " 'mujeres_de_45_49',\n",
       " 'mujeres_de_50_54',\n",
       " 'mujeres_de_55_59',\n",
       " 'mujeres_de_60_64',\n",
       " 'mujeres_de_65_69',\n",
       " 'mujeres_de_70_74',\n",
       " 'mujeres_de_75_79',\n",
       " 'mujeres_de_80_84',\n",
       " 'mujeres_de_85_89',\n",
       " 'mujeres_de_90_94',\n",
       " 'mujeres_de_95_99',\n",
       " 'mujeres_de_100_y_mas',\n",
       " 'prov_camiones',\n",
       " 'prov_furgonetas',\n",
       " 'prov_autobuses',\n",
       " 'prov_turismos',\n",
       " 'prov_motocicletas',\n",
       " 'prov_tractores_industriales',\n",
       " 'prov_r_y_s',\n",
       " 'prov_otros_vehiculos',\n",
       " 'prov_total_vehiculos',\n",
       " 'latitud',\n",
       " 'longitud',\n",
       " 'altitud',\n",
       " 'distanica_km_ciudad_cercana',\n",
       " 'cuidad_mas_cercana',\n",
       " 'prov_n_llu_anual',\n",
       " 'prov_n_nub_anual',\n",
       " 'prov_n_nie_anual',\n",
       " 'prov_n_gra_anual',\n",
       " 'prov_n_fog_anual',\n",
       " 'prov_n_des_anual',\n",
       " 'prov_n_cub_anual',\n",
       " 'prov_n_tor_anual',\n",
       " 'prov_nt_00_anual',\n",
       " 'prov_nt_30_anual',\n",
       " 'prov_nw_55_anual',\n",
       " 'prov_nw_91_anual',\n",
       " 'prov_w_med_anual',\n",
       " 'prov_ta_max_anual',\n",
       " 'prov_ta_min_anual',\n",
       " 'prov_co',\n",
       " 'prov_no2',\n",
       " 'prov_o3',\n",
       " 'prov_pm10',\n",
       " 'prov_pm25',\n",
       " 'prov_so2',\n",
       " 'bus_based_companies_count',\n",
       " 'prov_total_millones_vehiculos_km',\n",
       " 'prov_porcentaje_carreteras_ccaa_y_estado',\n",
       " 'perc_calidad_cobertura_fija_movil',\n",
       " 'ccaa_accessibility_mean',\n",
       " 'tiene_cercanias',\n",
       " 'tiene_feve',\n",
       " 'tiene_ave',\n",
       " 'nume_estaciones_tren',\n",
       " 'total_comercios',\n",
       " 'b_e_industria',\n",
       " 'f_construccion',\n",
       " 'comercio_transporte_y_hosteleria',\n",
       " 'j_informacion_y_comunicaciones',\n",
       " 'k_actividades_financieras_y_de_seguros',\n",
       " 'l_actividades_inmobiliarias',\n",
       " 'actividades_profesionales_y_tecnicas',\n",
       " 'educacion_sanidad_y_servicios_sociales',\n",
       " 'otros_servicios_personales',\n",
       " 'total_servicios',\n",
       " 'prov_pib']"
      ]
     },
     "execution_count": 164,
     "metadata": {},
     "output_type": "execute_result"
    }
   ],
   "source": [
    "union.columns.tolist()"
   ]
  },
  {
   "cell_type": "code",
   "execution_count": 4,
   "metadata": {},
   "outputs": [],
   "source": [
    "## NO EJECUTAR, lo guarda como una lista\n",
    "\n",
    "[['num_bibliotecas',\n",
    " 'num_hospitales',\n",
    " 'num_centros_salud',\n",
    " 'num_colegios_privados',\n",
    " 'num_colegios_publicos',\n",
    " 'num_guardia_civil',\n",
    " 'num_universidades_privadas',\n",
    " 'num_universidades_publicas',\n",
    " 'num_tit_uni_privadas',\n",
    " 'num_tit_uni_publicas',\n",
    " 'num_establec_agencias_de_viajes',\n",
    " 'num_establec_albergues',\n",
    " 'num_establec_alojamientos_rurales',\n",
    " 'num_establec_artesanos',\n",
    " 'num_establec_atraque_de_cruceros_y_ferries',\n",
    " 'num_establec_bares_y_cafeterías',\n",
    " 'num_establec_bodegas',\n",
    " 'num_establec_campings',\n",
    " 'num_establec_campos_de_golf_y_campos_de_pitch&putt',\n",
    " 'num_establec_comercios',\n",
    " 'num_establec_convention_bureaux',\n",
    " 'num_establec_empresas_de_alquiler_de_vehículos_y_embarcaciones',\n",
    " 'num_establec_empresas_de_transporte_turístico',\n",
    " 'num_establec_empresas_de_turismo_activo',\n",
    " 'num_establec_escuelas_de_español_para_extranjeros',\n",
    " 'num_establec_espacios_naturales_protegidos',\n",
    " 'num_establec_estaciones_de_esquí_y_montaña',\n",
    " 'num_establec_guías_turísticos',\n",
    " 'num_establec_hoteles_y_apartamentos_turísticos',\n",
    " 'num_establec_museos_y_centros_de_interés_turístico_visitable',\n",
    " 'num_establec_opc',\n",
    " 'num_establec_oficinas_de_información_turística',\n",
    " 'num_establec_otros_servicios',\n",
    " 'num_establec_palacios_de_congresos',\n",
    " 'num_establec_playas',\n",
    " 'num_establec_puertos_deportivos',\n",
    " 'num_establec_restaurantes_y_empresas_turísticas_de_catering',\n",
    " 'num_establec_seguridad_ciudadana',\n",
    " 'num_establec_servicios_de_limpieza',\n",
    " 'num_establec_servicios_turísticos_de_salud',\n",
    " 'num_establec_taxis',\n",
    " 'num_establec_turismo_industrial',\n",
    " 'hombres_total',\n",
    " 'hombres_de_0_4',\n",
    " 'hombres_de_5_9',\n",
    " 'hombres_de_10_4',\n",
    " 'hombres_de_15_19',\n",
    " 'hombres_de_20_24',\n",
    " 'hombres_de_25_29',\n",
    " 'hombres_de_30_34',\n",
    " 'hombres_de_35_39',\n",
    " 'hombres_de_40_44',\n",
    " 'hombres_de_45_49',\n",
    " 'hombres_de_50_54',\n",
    " 'hombres_de_55_59',\n",
    " 'hombres_de_60_64',\n",
    " 'hombres_de_65_69',\n",
    " 'hombres_de_70_74',\n",
    " 'hombres_de_75_79',\n",
    " 'hombres_de_80_84',\n",
    " 'hombres_de_85_89',\n",
    " 'hombres_de_90_94',\n",
    " 'hombres_de_95_99',\n",
    " 'hombres_de_100_y_mas',\n",
    " 'mujeres_total',\n",
    " 'mujeres_de_0_4',\n",
    " 'mujeres_de_5_9',\n",
    " 'mujeres_de_10_4',\n",
    " 'mujeres_de_15_19',\n",
    " 'mujeres_de_20_24',\n",
    " 'mujeres_de_25_29',\n",
    " 'mujeres_de_30_34',\n",
    " 'mujeres_de_35_39',\n",
    " 'mujeres_de_40_44',\n",
    " 'mujeres_de_45_49',\n",
    " 'mujeres_de_50_54',\n",
    " 'mujeres_de_55_59',\n",
    " 'mujeres_de_60_64',\n",
    " 'mujeres_de_65_69',\n",
    " 'mujeres_de_70_74',\n",
    " 'mujeres_de_75_79',\n",
    " 'mujeres_de_80_84',\n",
    " 'mujeres_de_85_89',\n",
    " 'mujeres_de_90_94',\n",
    " 'mujeres_de_95_99',\n",
    " 'mujeres_de_100_y_mas',\n",
    " 'prov_camiones',\n",
    " 'prov_furgonetas',\n",
    " 'prov_autobuses',\n",
    " 'prov_turismos',\n",
    " 'prov_motocicletas',\n",
    " 'prov_tractores_industriales',\n",
    " 'prov_r_y_s',\n",
    " 'prov_otros_vehiculos',\n",
    " 'prov_total_vehiculos',\n",
    " 'latitud',\n",
    " 'longitud',\n",
    " 'altitud',\n",
    " 'distanica_km_ciudad_cercana',\n",
    " 'cuidad_mas_cercana',\n",
    " 'prov_n_llu_anual',\n",
    " 'prov_n_nub_anual',\n",
    " 'prov_n_nie_anual',\n",
    " 'prov_n_gra_anual',\n",
    " 'prov_n_fog_anual',\n",
    " 'prov_n_des_anual',\n",
    " 'prov_n_cub_anual',\n",
    " 'prov_n_tor_anual',\n",
    " 'prov_nt_00_anual',\n",
    " 'prov_nt_30_anual',\n",
    " 'prov_nw_55_anual',\n",
    " 'prov_nw_91_anual',\n",
    " 'prov_w_med_anual',\n",
    " 'prov_ta_max_anual',\n",
    " 'prov_ta_min_anual',\n",
    " 'prov_co',\n",
    " 'prov_no2',\n",
    " 'prov_o3',\n",
    " 'prov_pm10',\n",
    " 'prov_pm25',\n",
    " 'prov_so2',\n",
    " 'bus_based_companies_count',\n",
    " 'prov_total_millones_vehiculos_km',\n",
    " 'prov_porcentaje_carreteras_ccaa_y_estado',\n",
    " 'perc_calidad_cobertura_fija_movil',\n",
    " 'ccaa_accessibility_mean',\n",
    " 'tiene_cercanias',\n",
    " 'tiene_feve',\n",
    " 'tiene_ave',\n",
    " 'nume_estaciones_tren',\n",
    " 'total_comercios',\n",
    " 'b_e_industria',\n",
    " 'f_construccion',\n",
    " 'comercio_transporte_y_hosteleria',\n",
    " 'j_informacion_y_comunicaciones',\n",
    " 'k_actividades_financieras_y_de_seguros',\n",
    " 'l_actividades_inmobiliarias',\n",
    " 'actividades_profesionales_y_tecnicas',\n",
    " 'educacion_sanidad_y_servicios_sociales',\n",
    " 'otros_servicios_personales',\n",
    " 'total_servicios',\n",
    " 'prov_pib']]"
   ]
  },
  {
   "cell_type": "markdown",
   "metadata": {},
   "source": [
    "# PCA Economia"
   ]
  },
  {
   "cell_type": "code",
   "execution_count": 190,
   "metadata": {},
   "outputs": [],
   "source": [
    "# Separating out the features\n",
    "features_economia = ['total_comercios',\n",
    " 'b_e_industria',\n",
    " 'f_construccion',\n",
    " 'comercio_transporte_y_hosteleria',\n",
    " 'j_informacion_y_comunicaciones',\n",
    " 'k_actividades_financieras_y_de_seguros',\n",
    " 'l_actividades_inmobiliarias',\n",
    " 'actividades_profesionales_y_tecnicas',\n",
    " 'educacion_sanidad_y_servicios_sociales',\n",
    " 'otros_servicios_personales',\n",
    " 'total_servicios',\n",
    " 'prov_pib']\n",
    "x_e = union.loc[:, features_economia].values"
   ]
  },
  {
   "cell_type": "code",
   "execution_count": 191,
   "metadata": {},
   "outputs": [],
   "source": [
    "# Separating out the target\n",
    "y = union.loc[:,['cities_es/province']].values"
   ]
  },
  {
   "cell_type": "code",
   "execution_count": 192,
   "metadata": {},
   "outputs": [],
   "source": [
    "# Standardizing the features\n",
    "x_e = StandardScaler().fit_transform(x_e)"
   ]
  },
  {
   "cell_type": "code",
   "execution_count": 193,
   "metadata": {
    "scrolled": true
   },
   "outputs": [
    {
     "data": {
      "text/html": [
       "<div>\n",
       "<style scoped>\n",
       "    .dataframe tbody tr th:only-of-type {\n",
       "        vertical-align: middle;\n",
       "    }\n",
       "\n",
       "    .dataframe tbody tr th {\n",
       "        vertical-align: top;\n",
       "    }\n",
       "\n",
       "    .dataframe thead th {\n",
       "        text-align: right;\n",
       "    }\n",
       "</style>\n",
       "<table border=\"1\" class=\"dataframe\">\n",
       "  <thead>\n",
       "    <tr style=\"text-align: right;\">\n",
       "      <th></th>\n",
       "      <th>total_comercios</th>\n",
       "      <th>b_e_industria</th>\n",
       "      <th>f_construccion</th>\n",
       "      <th>comercio_transporte_y_hosteleria</th>\n",
       "      <th>j_informacion_y_comunicaciones</th>\n",
       "      <th>k_actividades_financieras_y_de_seguros</th>\n",
       "      <th>l_actividades_inmobiliarias</th>\n",
       "      <th>actividades_profesionales_y_tecnicas</th>\n",
       "      <th>educacion_sanidad_y_servicios_sociales</th>\n",
       "      <th>otros_servicios_personales</th>\n",
       "      <th>total_servicios</th>\n",
       "      <th>prov_pib</th>\n",
       "    </tr>\n",
       "  </thead>\n",
       "  <tbody>\n",
       "    <tr>\n",
       "      <td>0</td>\n",
       "      <td>-0.048835</td>\n",
       "      <td>-0.065013</td>\n",
       "      <td>-0.057576</td>\n",
       "      <td>-0.053688</td>\n",
       "      <td>-0.032044</td>\n",
       "      <td>-0.045586</td>\n",
       "      <td>-0.037574</td>\n",
       "      <td>-0.037547</td>\n",
       "      <td>-0.040983</td>\n",
       "      <td>-0.047675</td>\n",
       "      <td>-0.041124</td>\n",
       "      <td>-0.340158</td>\n",
       "    </tr>\n",
       "    <tr>\n",
       "      <td>1</td>\n",
       "      <td>-0.048835</td>\n",
       "      <td>-0.065013</td>\n",
       "      <td>-0.057576</td>\n",
       "      <td>-0.053688</td>\n",
       "      <td>-0.032044</td>\n",
       "      <td>-0.045586</td>\n",
       "      <td>-0.037574</td>\n",
       "      <td>-0.037547</td>\n",
       "      <td>-0.040983</td>\n",
       "      <td>-0.047675</td>\n",
       "      <td>-0.041124</td>\n",
       "      <td>-0.340158</td>\n",
       "    </tr>\n",
       "    <tr>\n",
       "      <td>2</td>\n",
       "      <td>-0.048835</td>\n",
       "      <td>-0.065013</td>\n",
       "      <td>-0.057576</td>\n",
       "      <td>-0.053688</td>\n",
       "      <td>-0.032044</td>\n",
       "      <td>-0.045586</td>\n",
       "      <td>-0.037574</td>\n",
       "      <td>-0.037547</td>\n",
       "      <td>-0.040983</td>\n",
       "      <td>-0.047675</td>\n",
       "      <td>-0.041124</td>\n",
       "      <td>-0.340158</td>\n",
       "    </tr>\n",
       "    <tr>\n",
       "      <td>3</td>\n",
       "      <td>-0.048835</td>\n",
       "      <td>-0.065013</td>\n",
       "      <td>-0.057576</td>\n",
       "      <td>-0.053688</td>\n",
       "      <td>-0.032044</td>\n",
       "      <td>-0.045586</td>\n",
       "      <td>-0.037574</td>\n",
       "      <td>-0.037547</td>\n",
       "      <td>-0.040983</td>\n",
       "      <td>-0.047675</td>\n",
       "      <td>-0.041124</td>\n",
       "      <td>-0.340158</td>\n",
       "    </tr>\n",
       "    <tr>\n",
       "      <td>4</td>\n",
       "      <td>-0.048835</td>\n",
       "      <td>-0.065013</td>\n",
       "      <td>-0.057576</td>\n",
       "      <td>-0.053688</td>\n",
       "      <td>-0.032044</td>\n",
       "      <td>-0.045586</td>\n",
       "      <td>-0.037574</td>\n",
       "      <td>-0.037547</td>\n",
       "      <td>-0.040983</td>\n",
       "      <td>-0.047675</td>\n",
       "      <td>-0.041124</td>\n",
       "      <td>-0.340158</td>\n",
       "    </tr>\n",
       "  </tbody>\n",
       "</table>\n",
       "</div>"
      ],
      "text/plain": [
       "   total_comercios  b_e_industria  f_construccion  \\\n",
       "0        -0.048835      -0.065013       -0.057576   \n",
       "1        -0.048835      -0.065013       -0.057576   \n",
       "2        -0.048835      -0.065013       -0.057576   \n",
       "3        -0.048835      -0.065013       -0.057576   \n",
       "4        -0.048835      -0.065013       -0.057576   \n",
       "\n",
       "   comercio_transporte_y_hosteleria  j_informacion_y_comunicaciones  \\\n",
       "0                         -0.053688                       -0.032044   \n",
       "1                         -0.053688                       -0.032044   \n",
       "2                         -0.053688                       -0.032044   \n",
       "3                         -0.053688                       -0.032044   \n",
       "4                         -0.053688                       -0.032044   \n",
       "\n",
       "   k_actividades_financieras_y_de_seguros  l_actividades_inmobiliarias  \\\n",
       "0                               -0.045586                    -0.037574   \n",
       "1                               -0.045586                    -0.037574   \n",
       "2                               -0.045586                    -0.037574   \n",
       "3                               -0.045586                    -0.037574   \n",
       "4                               -0.045586                    -0.037574   \n",
       "\n",
       "   actividades_profesionales_y_tecnicas  \\\n",
       "0                             -0.037547   \n",
       "1                             -0.037547   \n",
       "2                             -0.037547   \n",
       "3                             -0.037547   \n",
       "4                             -0.037547   \n",
       "\n",
       "   educacion_sanidad_y_servicios_sociales  otros_servicios_personales  \\\n",
       "0                               -0.040983                   -0.047675   \n",
       "1                               -0.040983                   -0.047675   \n",
       "2                               -0.040983                   -0.047675   \n",
       "3                               -0.040983                   -0.047675   \n",
       "4                               -0.040983                   -0.047675   \n",
       "\n",
       "   total_servicios  prov_pib  \n",
       "0        -0.041124 -0.340158  \n",
       "1        -0.041124 -0.340158  \n",
       "2        -0.041124 -0.340158  \n",
       "3        -0.041124 -0.340158  \n",
       "4        -0.041124 -0.340158  "
      ]
     },
     "execution_count": 193,
     "metadata": {},
     "output_type": "execute_result"
    }
   ],
   "source": [
    "pd.DataFrame(data = x_e, columns = features_economia).head()"
   ]
  },
  {
   "cell_type": "markdown",
   "metadata": {},
   "source": [
    "### Proyección variables"
   ]
  },
  {
   "cell_type": "code",
   "execution_count": 194,
   "metadata": {},
   "outputs": [],
   "source": [
    "pca_e = PCA(n_components=2)"
   ]
  },
  {
   "cell_type": "code",
   "execution_count": 195,
   "metadata": {},
   "outputs": [],
   "source": [
    "principalComponents_e = pca_e.fit_transform(x_e)"
   ]
  },
  {
   "cell_type": "code",
   "execution_count": 196,
   "metadata": {},
   "outputs": [
    {
     "data": {
      "text/plain": [
       "array([0.90020926, 0.08294432])"
      ]
     },
     "execution_count": 196,
     "metadata": {},
     "output_type": "execute_result"
    }
   ],
   "source": [
    "pca_e.explained_variance_ratio_"
   ]
  },
  {
   "cell_type": "code",
   "execution_count": 197,
   "metadata": {},
   "outputs": [],
   "source": [
    "principalDf_e = pd.DataFrame(data = principalComponents_e\n",
    "             , columns = ['PC1_e', 'PC2_e'])"
   ]
  },
  {
   "cell_type": "code",
   "execution_count": 198,
   "metadata": {
    "scrolled": true
   },
   "outputs": [
    {
     "data": {
      "text/html": [
       "<div>\n",
       "<style scoped>\n",
       "    .dataframe tbody tr th:only-of-type {\n",
       "        vertical-align: middle;\n",
       "    }\n",
       "\n",
       "    .dataframe tbody tr th {\n",
       "        vertical-align: top;\n",
       "    }\n",
       "\n",
       "    .dataframe thead th {\n",
       "        text-align: right;\n",
       "    }\n",
       "</style>\n",
       "<table border=\"1\" class=\"dataframe\">\n",
       "  <thead>\n",
       "    <tr style=\"text-align: right;\">\n",
       "      <th></th>\n",
       "      <th>PC1_e</th>\n",
       "      <th>PC2_e</th>\n",
       "    </tr>\n",
       "  </thead>\n",
       "  <tbody>\n",
       "    <tr>\n",
       "      <td>0</td>\n",
       "      <td>-0.160765</td>\n",
       "      <td>-0.337149</td>\n",
       "    </tr>\n",
       "    <tr>\n",
       "      <td>1</td>\n",
       "      <td>-0.160765</td>\n",
       "      <td>-0.337149</td>\n",
       "    </tr>\n",
       "    <tr>\n",
       "      <td>2</td>\n",
       "      <td>-0.160765</td>\n",
       "      <td>-0.337149</td>\n",
       "    </tr>\n",
       "    <tr>\n",
       "      <td>3</td>\n",
       "      <td>-0.160765</td>\n",
       "      <td>-0.337149</td>\n",
       "    </tr>\n",
       "    <tr>\n",
       "      <td>4</td>\n",
       "      <td>-0.160765</td>\n",
       "      <td>-0.337149</td>\n",
       "    </tr>\n",
       "  </tbody>\n",
       "</table>\n",
       "</div>"
      ],
      "text/plain": [
       "      PC1_e     PC2_e\n",
       "0 -0.160765 -0.337149\n",
       "1 -0.160765 -0.337149\n",
       "2 -0.160765 -0.337149\n",
       "3 -0.160765 -0.337149\n",
       "4 -0.160765 -0.337149"
      ]
     },
     "execution_count": 198,
     "metadata": {},
     "output_type": "execute_result"
    }
   ],
   "source": [
    "principalDf_e.head(5)"
   ]
  },
  {
   "cell_type": "code",
   "execution_count": 199,
   "metadata": {},
   "outputs": [
    {
     "data": {
      "text/html": [
       "<div>\n",
       "<style scoped>\n",
       "    .dataframe tbody tr th:only-of-type {\n",
       "        vertical-align: middle;\n",
       "    }\n",
       "\n",
       "    .dataframe tbody tr th {\n",
       "        vertical-align: top;\n",
       "    }\n",
       "\n",
       "    .dataframe thead th {\n",
       "        text-align: right;\n",
       "    }\n",
       "</style>\n",
       "<table border=\"1\" class=\"dataframe\">\n",
       "  <thead>\n",
       "    <tr style=\"text-align: right;\">\n",
       "      <th></th>\n",
       "      <th>cities_es/province</th>\n",
       "    </tr>\n",
       "  </thead>\n",
       "  <tbody>\n",
       "    <tr>\n",
       "      <td>0</td>\n",
       "      <td>alegria_dulantzi/araba</td>\n",
       "    </tr>\n",
       "    <tr>\n",
       "      <td>1</td>\n",
       "      <td>amurrio/araba</td>\n",
       "    </tr>\n",
       "    <tr>\n",
       "      <td>2</td>\n",
       "      <td>aramaio/araba</td>\n",
       "    </tr>\n",
       "    <tr>\n",
       "      <td>3</td>\n",
       "      <td>artziniega/araba</td>\n",
       "    </tr>\n",
       "    <tr>\n",
       "      <td>4</td>\n",
       "      <td>arminon/araba</td>\n",
       "    </tr>\n",
       "  </tbody>\n",
       "</table>\n",
       "</div>"
      ],
      "text/plain": [
       "       cities_es/province\n",
       "0  alegria_dulantzi/araba\n",
       "1           amurrio/araba\n",
       "2           aramaio/araba\n",
       "3        artziniega/araba\n",
       "4           arminon/araba"
      ]
     },
     "execution_count": 199,
     "metadata": {},
     "output_type": "execute_result"
    }
   ],
   "source": [
    "union[['cities_es/province']].head()"
   ]
  },
  {
   "cell_type": "code",
   "execution_count": 200,
   "metadata": {},
   "outputs": [
    {
     "data": {
      "text/html": [
       "<div>\n",
       "<style scoped>\n",
       "    .dataframe tbody tr th:only-of-type {\n",
       "        vertical-align: middle;\n",
       "    }\n",
       "\n",
       "    .dataframe tbody tr th {\n",
       "        vertical-align: top;\n",
       "    }\n",
       "\n",
       "    .dataframe thead th {\n",
       "        text-align: right;\n",
       "    }\n",
       "</style>\n",
       "<table border=\"1\" class=\"dataframe\">\n",
       "  <thead>\n",
       "    <tr style=\"text-align: right;\">\n",
       "      <th></th>\n",
       "      <th>PC1_e</th>\n",
       "      <th>PC2_e</th>\n",
       "      <th>cities_es/province</th>\n",
       "    </tr>\n",
       "  </thead>\n",
       "  <tbody>\n",
       "    <tr>\n",
       "      <td>0</td>\n",
       "      <td>-0.160765</td>\n",
       "      <td>-0.337149</td>\n",
       "      <td>alegria_dulantzi/araba</td>\n",
       "    </tr>\n",
       "    <tr>\n",
       "      <td>1</td>\n",
       "      <td>-0.160765</td>\n",
       "      <td>-0.337149</td>\n",
       "      <td>amurrio/araba</td>\n",
       "    </tr>\n",
       "    <tr>\n",
       "      <td>2</td>\n",
       "      <td>-0.160765</td>\n",
       "      <td>-0.337149</td>\n",
       "      <td>aramaio/araba</td>\n",
       "    </tr>\n",
       "    <tr>\n",
       "      <td>3</td>\n",
       "      <td>-0.160765</td>\n",
       "      <td>-0.337149</td>\n",
       "      <td>artziniega/araba</td>\n",
       "    </tr>\n",
       "    <tr>\n",
       "      <td>4</td>\n",
       "      <td>-0.160765</td>\n",
       "      <td>-0.337149</td>\n",
       "      <td>arminon/araba</td>\n",
       "    </tr>\n",
       "  </tbody>\n",
       "</table>\n",
       "</div>"
      ],
      "text/plain": [
       "      PC1_e     PC2_e      cities_es/province\n",
       "0 -0.160765 -0.337149  alegria_dulantzi/araba\n",
       "1 -0.160765 -0.337149           amurrio/araba\n",
       "2 -0.160765 -0.337149           aramaio/araba\n",
       "3 -0.160765 -0.337149        artziniega/araba\n",
       "4 -0.160765 -0.337149           arminon/araba"
      ]
     },
     "execution_count": 200,
     "metadata": {},
     "output_type": "execute_result"
    }
   ],
   "source": [
    "finalDf_e = pd.concat([principalDf_e, union['cities_es/province']], axis = 1)\n",
    "finalDf_e.head(5)"
   ]
  },
  {
   "cell_type": "code",
   "execution_count": 201,
   "metadata": {},
   "outputs": [
    {
     "data": {
      "text/plain": [
       "(6066, 3)"
      ]
     },
     "execution_count": 201,
     "metadata": {},
     "output_type": "execute_result"
    }
   ],
   "source": [
    "finalDf_e.shape"
   ]
  },
  {
   "cell_type": "markdown",
   "metadata": {},
   "source": [
    "# PCA climatología "
   ]
  },
  {
   "cell_type": "code",
   "execution_count": 202,
   "metadata": {},
   "outputs": [],
   "source": [
    "features_climatologia = [ 'prov_n_llu_anual',\n",
    " 'prov_n_nub_anual',\n",
    " 'prov_n_nie_anual',\n",
    " 'prov_n_gra_anual',\n",
    " 'prov_n_fog_anual',\n",
    " 'prov_n_des_anual',\n",
    " 'prov_n_cub_anual',\n",
    " 'prov_n_tor_anual',\n",
    " 'prov_nt_00_anual',\n",
    " 'prov_nt_30_anual',\n",
    " 'prov_nw_55_anual',\n",
    " 'prov_nw_91_anual',\n",
    "# 'prov_w_med_anual', (string)\n",
    "# 'prov_ta_max_anual',(string)\n",
    "# 'prov_ta_min_anual',(string)\n",
    " 'prov_co',\n",
    " 'prov_no2',\n",
    " 'prov_o3',\n",
    " 'prov_pm10',\n",
    " 'prov_pm25',\n",
    " 'prov_so2']\n",
    "\n",
    "x_c = union.loc[:, features_climatologia].values"
   ]
  },
  {
   "cell_type": "code",
   "execution_count": 203,
   "metadata": {},
   "outputs": [],
   "source": [
    "# Standardizing the features\n",
    "x_c = StandardScaler().fit_transform(x_c)"
   ]
  },
  {
   "cell_type": "code",
   "execution_count": 204,
   "metadata": {
    "scrolled": true
   },
   "outputs": [
    {
     "data": {
      "text/html": [
       "<div>\n",
       "<style scoped>\n",
       "    .dataframe tbody tr th:only-of-type {\n",
       "        vertical-align: middle;\n",
       "    }\n",
       "\n",
       "    .dataframe tbody tr th {\n",
       "        vertical-align: top;\n",
       "    }\n",
       "\n",
       "    .dataframe thead th {\n",
       "        text-align: right;\n",
       "    }\n",
       "</style>\n",
       "<table border=\"1\" class=\"dataframe\">\n",
       "  <thead>\n",
       "    <tr style=\"text-align: right;\">\n",
       "      <th></th>\n",
       "      <th>prov_n_llu_anual</th>\n",
       "      <th>prov_n_nub_anual</th>\n",
       "      <th>prov_n_nie_anual</th>\n",
       "      <th>prov_n_gra_anual</th>\n",
       "      <th>prov_n_fog_anual</th>\n",
       "      <th>prov_n_des_anual</th>\n",
       "      <th>prov_n_cub_anual</th>\n",
       "      <th>prov_n_tor_anual</th>\n",
       "      <th>prov_nt_00_anual</th>\n",
       "      <th>prov_nt_30_anual</th>\n",
       "      <th>prov_nw_55_anual</th>\n",
       "      <th>prov_nw_91_anual</th>\n",
       "      <th>prov_co</th>\n",
       "      <th>prov_no2</th>\n",
       "      <th>prov_o3</th>\n",
       "      <th>prov_pm10</th>\n",
       "      <th>prov_pm25</th>\n",
       "      <th>prov_so2</th>\n",
       "    </tr>\n",
       "  </thead>\n",
       "  <tbody>\n",
       "    <tr>\n",
       "      <td>0</td>\n",
       "      <td>0.627145</td>\n",
       "      <td>0.34835</td>\n",
       "      <td>-0.12395</td>\n",
       "      <td>-0.778833</td>\n",
       "      <td>1.02135</td>\n",
       "      <td>-0.365116</td>\n",
       "      <td>1.46908</td>\n",
       "      <td>0.515503</td>\n",
       "      <td>0.379218</td>\n",
       "      <td>-0.39608</td>\n",
       "      <td>-0.37641</td>\n",
       "      <td>0.037629</td>\n",
       "      <td>-0.214925</td>\n",
       "      <td>-0.438093</td>\n",
       "      <td>0.661678</td>\n",
       "      <td>0.190733</td>\n",
       "      <td>0.96992</td>\n",
       "      <td>-0.776849</td>\n",
       "    </tr>\n",
       "    <tr>\n",
       "      <td>1</td>\n",
       "      <td>0.627145</td>\n",
       "      <td>0.34835</td>\n",
       "      <td>-0.12395</td>\n",
       "      <td>-0.778833</td>\n",
       "      <td>1.02135</td>\n",
       "      <td>-0.365116</td>\n",
       "      <td>1.46908</td>\n",
       "      <td>0.515503</td>\n",
       "      <td>0.379218</td>\n",
       "      <td>-0.39608</td>\n",
       "      <td>-0.37641</td>\n",
       "      <td>0.037629</td>\n",
       "      <td>-0.214925</td>\n",
       "      <td>-0.438093</td>\n",
       "      <td>0.661678</td>\n",
       "      <td>0.190733</td>\n",
       "      <td>0.96992</td>\n",
       "      <td>-0.776849</td>\n",
       "    </tr>\n",
       "    <tr>\n",
       "      <td>2</td>\n",
       "      <td>0.627145</td>\n",
       "      <td>0.34835</td>\n",
       "      <td>-0.12395</td>\n",
       "      <td>-0.778833</td>\n",
       "      <td>1.02135</td>\n",
       "      <td>-0.365116</td>\n",
       "      <td>1.46908</td>\n",
       "      <td>0.515503</td>\n",
       "      <td>0.379218</td>\n",
       "      <td>-0.39608</td>\n",
       "      <td>-0.37641</td>\n",
       "      <td>0.037629</td>\n",
       "      <td>-0.214925</td>\n",
       "      <td>-0.438093</td>\n",
       "      <td>0.661678</td>\n",
       "      <td>0.190733</td>\n",
       "      <td>0.96992</td>\n",
       "      <td>-0.776849</td>\n",
       "    </tr>\n",
       "    <tr>\n",
       "      <td>3</td>\n",
       "      <td>0.627145</td>\n",
       "      <td>0.34835</td>\n",
       "      <td>-0.12395</td>\n",
       "      <td>-0.778833</td>\n",
       "      <td>1.02135</td>\n",
       "      <td>-0.365116</td>\n",
       "      <td>1.46908</td>\n",
       "      <td>0.515503</td>\n",
       "      <td>0.379218</td>\n",
       "      <td>-0.39608</td>\n",
       "      <td>-0.37641</td>\n",
       "      <td>0.037629</td>\n",
       "      <td>-0.214925</td>\n",
       "      <td>-0.438093</td>\n",
       "      <td>0.661678</td>\n",
       "      <td>0.190733</td>\n",
       "      <td>0.96992</td>\n",
       "      <td>-0.776849</td>\n",
       "    </tr>\n",
       "    <tr>\n",
       "      <td>4</td>\n",
       "      <td>0.627145</td>\n",
       "      <td>0.34835</td>\n",
       "      <td>-0.12395</td>\n",
       "      <td>-0.778833</td>\n",
       "      <td>1.02135</td>\n",
       "      <td>-0.365116</td>\n",
       "      <td>1.46908</td>\n",
       "      <td>0.515503</td>\n",
       "      <td>0.379218</td>\n",
       "      <td>-0.39608</td>\n",
       "      <td>-0.37641</td>\n",
       "      <td>0.037629</td>\n",
       "      <td>-0.214925</td>\n",
       "      <td>-0.438093</td>\n",
       "      <td>0.661678</td>\n",
       "      <td>0.190733</td>\n",
       "      <td>0.96992</td>\n",
       "      <td>-0.776849</td>\n",
       "    </tr>\n",
       "  </tbody>\n",
       "</table>\n",
       "</div>"
      ],
      "text/plain": [
       "   prov_n_llu_anual  prov_n_nub_anual  prov_n_nie_anual  prov_n_gra_anual  \\\n",
       "0          0.627145           0.34835          -0.12395         -0.778833   \n",
       "1          0.627145           0.34835          -0.12395         -0.778833   \n",
       "2          0.627145           0.34835          -0.12395         -0.778833   \n",
       "3          0.627145           0.34835          -0.12395         -0.778833   \n",
       "4          0.627145           0.34835          -0.12395         -0.778833   \n",
       "\n",
       "   prov_n_fog_anual  prov_n_des_anual  prov_n_cub_anual  prov_n_tor_anual  \\\n",
       "0           1.02135         -0.365116           1.46908          0.515503   \n",
       "1           1.02135         -0.365116           1.46908          0.515503   \n",
       "2           1.02135         -0.365116           1.46908          0.515503   \n",
       "3           1.02135         -0.365116           1.46908          0.515503   \n",
       "4           1.02135         -0.365116           1.46908          0.515503   \n",
       "\n",
       "   prov_nt_00_anual  prov_nt_30_anual  prov_nw_55_anual  prov_nw_91_anual  \\\n",
       "0          0.379218          -0.39608          -0.37641          0.037629   \n",
       "1          0.379218          -0.39608          -0.37641          0.037629   \n",
       "2          0.379218          -0.39608          -0.37641          0.037629   \n",
       "3          0.379218          -0.39608          -0.37641          0.037629   \n",
       "4          0.379218          -0.39608          -0.37641          0.037629   \n",
       "\n",
       "    prov_co  prov_no2   prov_o3  prov_pm10  prov_pm25  prov_so2  \n",
       "0 -0.214925 -0.438093  0.661678   0.190733    0.96992 -0.776849  \n",
       "1 -0.214925 -0.438093  0.661678   0.190733    0.96992 -0.776849  \n",
       "2 -0.214925 -0.438093  0.661678   0.190733    0.96992 -0.776849  \n",
       "3 -0.214925 -0.438093  0.661678   0.190733    0.96992 -0.776849  \n",
       "4 -0.214925 -0.438093  0.661678   0.190733    0.96992 -0.776849  "
      ]
     },
     "execution_count": 204,
     "metadata": {},
     "output_type": "execute_result"
    }
   ],
   "source": [
    "pd.DataFrame(data = x_c, columns = features_climatologia).head()"
   ]
  },
  {
   "cell_type": "markdown",
   "metadata": {},
   "source": [
    "### Proyección Variables"
   ]
  },
  {
   "cell_type": "code",
   "execution_count": 205,
   "metadata": {},
   "outputs": [],
   "source": [
    "pca_c = PCA(n_components=4)"
   ]
  },
  {
   "cell_type": "code",
   "execution_count": 206,
   "metadata": {},
   "outputs": [],
   "source": [
    "principalComponents_c = pca_c.fit_transform(x_c)"
   ]
  },
  {
   "cell_type": "code",
   "execution_count": 207,
   "metadata": {},
   "outputs": [
    {
     "data": {
      "text/plain": [
       "array([0.43440845, 0.09966181, 0.09840187, 0.08100297])"
      ]
     },
     "execution_count": 207,
     "metadata": {},
     "output_type": "execute_result"
    }
   ],
   "source": [
    "pca_c.explained_variance_ratio_"
   ]
  },
  {
   "cell_type": "code",
   "execution_count": 208,
   "metadata": {},
   "outputs": [],
   "source": [
    "principalDf_c = pd.DataFrame(data = principalComponents_c\n",
    "             , columns = ['PC1_c', 'PC2_c', 'PC3_c', 'PC4_c'])"
   ]
  },
  {
   "cell_type": "code",
   "execution_count": 209,
   "metadata": {
    "scrolled": true
   },
   "outputs": [
    {
     "data": {
      "text/html": [
       "<div>\n",
       "<style scoped>\n",
       "    .dataframe tbody tr th:only-of-type {\n",
       "        vertical-align: middle;\n",
       "    }\n",
       "\n",
       "    .dataframe tbody tr th {\n",
       "        vertical-align: top;\n",
       "    }\n",
       "\n",
       "    .dataframe thead th {\n",
       "        text-align: right;\n",
       "    }\n",
       "</style>\n",
       "<table border=\"1\" class=\"dataframe\">\n",
       "  <thead>\n",
       "    <tr style=\"text-align: right;\">\n",
       "      <th></th>\n",
       "      <th>PC1_c</th>\n",
       "      <th>PC2_c</th>\n",
       "      <th>PC3_c</th>\n",
       "      <th>PC4_c</th>\n",
       "    </tr>\n",
       "  </thead>\n",
       "  <tbody>\n",
       "    <tr>\n",
       "      <td>0</td>\n",
       "      <td>0.647078</td>\n",
       "      <td>-1.486068</td>\n",
       "      <td>0.72729</td>\n",
       "      <td>0.232404</td>\n",
       "    </tr>\n",
       "    <tr>\n",
       "      <td>1</td>\n",
       "      <td>0.647078</td>\n",
       "      <td>-1.486068</td>\n",
       "      <td>0.72729</td>\n",
       "      <td>0.232404</td>\n",
       "    </tr>\n",
       "    <tr>\n",
       "      <td>2</td>\n",
       "      <td>0.647078</td>\n",
       "      <td>-1.486068</td>\n",
       "      <td>0.72729</td>\n",
       "      <td>0.232404</td>\n",
       "    </tr>\n",
       "    <tr>\n",
       "      <td>3</td>\n",
       "      <td>0.647078</td>\n",
       "      <td>-1.486068</td>\n",
       "      <td>0.72729</td>\n",
       "      <td>0.232404</td>\n",
       "    </tr>\n",
       "    <tr>\n",
       "      <td>4</td>\n",
       "      <td>0.647078</td>\n",
       "      <td>-1.486068</td>\n",
       "      <td>0.72729</td>\n",
       "      <td>0.232404</td>\n",
       "    </tr>\n",
       "  </tbody>\n",
       "</table>\n",
       "</div>"
      ],
      "text/plain": [
       "      PC1_c     PC2_c    PC3_c     PC4_c\n",
       "0  0.647078 -1.486068  0.72729  0.232404\n",
       "1  0.647078 -1.486068  0.72729  0.232404\n",
       "2  0.647078 -1.486068  0.72729  0.232404\n",
       "3  0.647078 -1.486068  0.72729  0.232404\n",
       "4  0.647078 -1.486068  0.72729  0.232404"
      ]
     },
     "execution_count": 209,
     "metadata": {},
     "output_type": "execute_result"
    }
   ],
   "source": [
    "principalDf_c.head(5)"
   ]
  },
  {
   "cell_type": "code",
   "execution_count": 262,
   "metadata": {
    "scrolled": true
   },
   "outputs": [
    {
     "data": {
      "text/html": [
       "<div>\n",
       "<style scoped>\n",
       "    .dataframe tbody tr th:only-of-type {\n",
       "        vertical-align: middle;\n",
       "    }\n",
       "\n",
       "    .dataframe tbody tr th {\n",
       "        vertical-align: top;\n",
       "    }\n",
       "\n",
       "    .dataframe thead th {\n",
       "        text-align: right;\n",
       "    }\n",
       "</style>\n",
       "<table border=\"1\" class=\"dataframe\">\n",
       "  <thead>\n",
       "    <tr style=\"text-align: right;\">\n",
       "      <th></th>\n",
       "      <th>PC1_c</th>\n",
       "      <th>PC2_c</th>\n",
       "      <th>PC3_c</th>\n",
       "      <th>PC4_c</th>\n",
       "      <th>cities_es/province</th>\n",
       "    </tr>\n",
       "  </thead>\n",
       "  <tbody>\n",
       "    <tr>\n",
       "      <td>0</td>\n",
       "      <td>0.647078</td>\n",
       "      <td>-1.486068</td>\n",
       "      <td>0.72729</td>\n",
       "      <td>0.232404</td>\n",
       "      <td>alegria_dulantzi/araba</td>\n",
       "    </tr>\n",
       "    <tr>\n",
       "      <td>1</td>\n",
       "      <td>0.647078</td>\n",
       "      <td>-1.486068</td>\n",
       "      <td>0.72729</td>\n",
       "      <td>0.232404</td>\n",
       "      <td>amurrio/araba</td>\n",
       "    </tr>\n",
       "    <tr>\n",
       "      <td>2</td>\n",
       "      <td>0.647078</td>\n",
       "      <td>-1.486068</td>\n",
       "      <td>0.72729</td>\n",
       "      <td>0.232404</td>\n",
       "      <td>aramaio/araba</td>\n",
       "    </tr>\n",
       "    <tr>\n",
       "      <td>3</td>\n",
       "      <td>0.647078</td>\n",
       "      <td>-1.486068</td>\n",
       "      <td>0.72729</td>\n",
       "      <td>0.232404</td>\n",
       "      <td>artziniega/araba</td>\n",
       "    </tr>\n",
       "    <tr>\n",
       "      <td>4</td>\n",
       "      <td>0.647078</td>\n",
       "      <td>-1.486068</td>\n",
       "      <td>0.72729</td>\n",
       "      <td>0.232404</td>\n",
       "      <td>arminon/araba</td>\n",
       "    </tr>\n",
       "  </tbody>\n",
       "</table>\n",
       "</div>"
      ],
      "text/plain": [
       "      PC1_c     PC2_c    PC3_c     PC4_c      cities_es/province\n",
       "0  0.647078 -1.486068  0.72729  0.232404  alegria_dulantzi/araba\n",
       "1  0.647078 -1.486068  0.72729  0.232404           amurrio/araba\n",
       "2  0.647078 -1.486068  0.72729  0.232404           aramaio/araba\n",
       "3  0.647078 -1.486068  0.72729  0.232404        artziniega/araba\n",
       "4  0.647078 -1.486068  0.72729  0.232404           arminon/araba"
      ]
     },
     "execution_count": 262,
     "metadata": {},
     "output_type": "execute_result"
    }
   ],
   "source": [
    "finalDf_c = pd.concat([principalDf_c , union['cities_es/province']], axis = 1)\n",
    "finalDf_c.head(5)"
   ]
  },
  {
   "cell_type": "code",
   "execution_count": 211,
   "metadata": {},
   "outputs": [
    {
     "data": {
      "text/plain": [
       "(6066, 5)"
      ]
     },
     "execution_count": 211,
     "metadata": {},
     "output_type": "execute_result"
    }
   ],
   "source": [
    "finalDf_c.shape"
   ]
  },
  {
   "cell_type": "markdown",
   "metadata": {},
   "source": [
    "# PCA Demografia "
   ]
  },
  {
   "cell_type": "code",
   "execution_count": 212,
   "metadata": {},
   "outputs": [],
   "source": [
    "features_demografia = [ 'hombres_total',\n",
    " 'hombres_de_0_4',\n",
    " 'hombres_de_5_9',\n",
    " 'hombres_de_10_4',\n",
    " 'hombres_de_15_19',\n",
    " 'hombres_de_20_24',\n",
    " 'hombres_de_25_29',\n",
    " 'hombres_de_30_34',\n",
    " 'hombres_de_35_39',\n",
    " 'hombres_de_40_44',\n",
    " 'hombres_de_45_49',\n",
    " 'hombres_de_50_54',\n",
    " 'hombres_de_55_59',\n",
    " 'hombres_de_60_64',\n",
    " 'hombres_de_65_69',\n",
    " 'hombres_de_70_74',\n",
    " 'hombres_de_75_79',\n",
    " 'hombres_de_80_84',\n",
    " 'hombres_de_85_89',\n",
    " 'hombres_de_90_94',\n",
    " 'hombres_de_95_99',\n",
    " 'hombres_de_100_y_mas',\n",
    " 'mujeres_total',\n",
    " 'mujeres_de_0_4',\n",
    " 'mujeres_de_5_9',\n",
    " 'mujeres_de_10_4',\n",
    " 'mujeres_de_15_19',\n",
    " 'mujeres_de_20_24',\n",
    " 'mujeres_de_25_29',\n",
    " 'mujeres_de_30_34',\n",
    " 'mujeres_de_35_39',\n",
    " 'mujeres_de_40_44',\n",
    " 'mujeres_de_45_49',\n",
    " 'mujeres_de_50_54',\n",
    " 'mujeres_de_55_59',\n",
    " 'mujeres_de_60_64',\n",
    " 'mujeres_de_65_69',\n",
    " 'mujeres_de_70_74',\n",
    " 'mujeres_de_75_79',\n",
    " 'mujeres_de_80_84',\n",
    " 'mujeres_de_85_89',\n",
    " 'mujeres_de_90_94',\n",
    " 'mujeres_de_95_99',\n",
    " 'mujeres_de_100_y_mas']\n",
    "\n",
    "x_d = union.loc[:, features_demografia].values"
   ]
  },
  {
   "cell_type": "code",
   "execution_count": 213,
   "metadata": {},
   "outputs": [],
   "source": [
    "# Standardizing the features\n",
    "x_d = StandardScaler().fit_transform(x_d)"
   ]
  },
  {
   "cell_type": "markdown",
   "metadata": {},
   "source": [
    "### Proyección variables"
   ]
  },
  {
   "cell_type": "code",
   "execution_count": 214,
   "metadata": {},
   "outputs": [],
   "source": [
    "pca_d = PCA(n_components=2)"
   ]
  },
  {
   "cell_type": "code",
   "execution_count": 215,
   "metadata": {},
   "outputs": [],
   "source": [
    "principalComponents_d = pca_d.fit_transform(x_d)"
   ]
  },
  {
   "cell_type": "code",
   "execution_count": 216,
   "metadata": {},
   "outputs": [
    {
     "data": {
      "text/plain": [
       "array([0.98067107, 0.00987979])"
      ]
     },
     "execution_count": 216,
     "metadata": {},
     "output_type": "execute_result"
    }
   ],
   "source": [
    "pca_d.explained_variance_ratio_"
   ]
  },
  {
   "cell_type": "code",
   "execution_count": 217,
   "metadata": {},
   "outputs": [],
   "source": [
    "principalDf_d = pd.DataFrame(data = principalComponents_d\n",
    "             , columns = ['PC1_d', 'PC2_d'])"
   ]
  },
  {
   "cell_type": "code",
   "execution_count": 218,
   "metadata": {
    "scrolled": true
   },
   "outputs": [
    {
     "data": {
      "text/html": [
       "<div>\n",
       "<style scoped>\n",
       "    .dataframe tbody tr th:only-of-type {\n",
       "        vertical-align: middle;\n",
       "    }\n",
       "\n",
       "    .dataframe tbody tr th {\n",
       "        vertical-align: top;\n",
       "    }\n",
       "\n",
       "    .dataframe thead th {\n",
       "        text-align: right;\n",
       "    }\n",
       "</style>\n",
       "<table border=\"1\" class=\"dataframe\">\n",
       "  <thead>\n",
       "    <tr style=\"text-align: right;\">\n",
       "      <th></th>\n",
       "      <th>PC1_d</th>\n",
       "      <th>PC2_d</th>\n",
       "    </tr>\n",
       "  </thead>\n",
       "  <tbody>\n",
       "    <tr>\n",
       "      <td>0</td>\n",
       "      <td>24.930752</td>\n",
       "      <td>-0.691866</td>\n",
       "    </tr>\n",
       "    <tr>\n",
       "      <td>1</td>\n",
       "      <td>0.608683</td>\n",
       "      <td>-0.026037</td>\n",
       "    </tr>\n",
       "    <tr>\n",
       "      <td>2</td>\n",
       "      <td>-0.976419</td>\n",
       "      <td>0.053009</td>\n",
       "    </tr>\n",
       "    <tr>\n",
       "      <td>3</td>\n",
       "      <td>-0.645927</td>\n",
       "      <td>0.026926</td>\n",
       "    </tr>\n",
       "    <tr>\n",
       "      <td>4</td>\n",
       "      <td>-0.663376</td>\n",
       "      <td>0.048320</td>\n",
       "    </tr>\n",
       "  </tbody>\n",
       "</table>\n",
       "</div>"
      ],
      "text/plain": [
       "       PC1_d     PC2_d\n",
       "0  24.930752 -0.691866\n",
       "1   0.608683 -0.026037\n",
       "2  -0.976419  0.053009\n",
       "3  -0.645927  0.026926\n",
       "4  -0.663376  0.048320"
      ]
     },
     "execution_count": 218,
     "metadata": {},
     "output_type": "execute_result"
    }
   ],
   "source": [
    "principalDf_d.head(5)"
   ]
  },
  {
   "cell_type": "code",
   "execution_count": 219,
   "metadata": {},
   "outputs": [
    {
     "data": {
      "text/html": [
       "<div>\n",
       "<style scoped>\n",
       "    .dataframe tbody tr th:only-of-type {\n",
       "        vertical-align: middle;\n",
       "    }\n",
       "\n",
       "    .dataframe tbody tr th {\n",
       "        vertical-align: top;\n",
       "    }\n",
       "\n",
       "    .dataframe thead th {\n",
       "        text-align: right;\n",
       "    }\n",
       "</style>\n",
       "<table border=\"1\" class=\"dataframe\">\n",
       "  <thead>\n",
       "    <tr style=\"text-align: right;\">\n",
       "      <th></th>\n",
       "      <th>PC1_d</th>\n",
       "      <th>PC2_d</th>\n",
       "      <th>cities_es/province</th>\n",
       "    </tr>\n",
       "  </thead>\n",
       "  <tbody>\n",
       "    <tr>\n",
       "      <td>0</td>\n",
       "      <td>24.930752</td>\n",
       "      <td>-0.691866</td>\n",
       "      <td>alegria_dulantzi/araba</td>\n",
       "    </tr>\n",
       "    <tr>\n",
       "      <td>1</td>\n",
       "      <td>0.608683</td>\n",
       "      <td>-0.026037</td>\n",
       "      <td>amurrio/araba</td>\n",
       "    </tr>\n",
       "    <tr>\n",
       "      <td>2</td>\n",
       "      <td>-0.976419</td>\n",
       "      <td>0.053009</td>\n",
       "      <td>aramaio/araba</td>\n",
       "    </tr>\n",
       "    <tr>\n",
       "      <td>3</td>\n",
       "      <td>-0.645927</td>\n",
       "      <td>0.026926</td>\n",
       "      <td>artziniega/araba</td>\n",
       "    </tr>\n",
       "    <tr>\n",
       "      <td>4</td>\n",
       "      <td>-0.663376</td>\n",
       "      <td>0.048320</td>\n",
       "      <td>arminon/araba</td>\n",
       "    </tr>\n",
       "  </tbody>\n",
       "</table>\n",
       "</div>"
      ],
      "text/plain": [
       "       PC1_d     PC2_d      cities_es/province\n",
       "0  24.930752 -0.691866  alegria_dulantzi/araba\n",
       "1   0.608683 -0.026037           amurrio/araba\n",
       "2  -0.976419  0.053009           aramaio/araba\n",
       "3  -0.645927  0.026926        artziniega/araba\n",
       "4  -0.663376  0.048320           arminon/araba"
      ]
     },
     "execution_count": 219,
     "metadata": {},
     "output_type": "execute_result"
    }
   ],
   "source": [
    "finalDf_d = pd.concat([principalDf_d, union['cities_es/province']], axis = 1)\n",
    "finalDf_d.head(5)"
   ]
  },
  {
   "cell_type": "code",
   "execution_count": 220,
   "metadata": {},
   "outputs": [
    {
     "data": {
      "text/plain": [
       "(6066, 3)"
      ]
     },
     "execution_count": 220,
     "metadata": {},
     "output_type": "execute_result"
    }
   ],
   "source": [
    "finalDf_d.shape"
   ]
  },
  {
   "cell_type": "markdown",
   "metadata": {},
   "source": [
    "# PCA Geografia"
   ]
  },
  {
   "cell_type": "code",
   "execution_count": 221,
   "metadata": {},
   "outputs": [],
   "source": [
    "# Separating out the features\n",
    "features_geografia = [ 'latitud',\n",
    " 'longitud',\n",
    " 'altitud',\n",
    " 'distanica_km_ciudad_cercana',\n",
    " # 'cuidad_mas_cercana' (string)\n",
    "                     ]\n",
    "x_g = union.loc[:, features_geografia].values"
   ]
  },
  {
   "cell_type": "code",
   "execution_count": 222,
   "metadata": {},
   "outputs": [],
   "source": [
    "# Standardizing the features\n",
    "x_g = StandardScaler().fit_transform(x_g)"
   ]
  },
  {
   "cell_type": "code",
   "execution_count": 223,
   "metadata": {},
   "outputs": [
    {
     "data": {
      "text/html": [
       "<div>\n",
       "<style scoped>\n",
       "    .dataframe tbody tr th:only-of-type {\n",
       "        vertical-align: middle;\n",
       "    }\n",
       "\n",
       "    .dataframe tbody tr th {\n",
       "        vertical-align: top;\n",
       "    }\n",
       "\n",
       "    .dataframe thead th {\n",
       "        text-align: right;\n",
       "    }\n",
       "</style>\n",
       "<table border=\"1\" class=\"dataframe\">\n",
       "  <thead>\n",
       "    <tr style=\"text-align: right;\">\n",
       "      <th></th>\n",
       "      <th>latitud</th>\n",
       "      <th>longitud</th>\n",
       "      <th>altitud</th>\n",
       "      <th>distanica_km_ciudad_cercana</th>\n",
       "    </tr>\n",
       "  </thead>\n",
       "  <tbody>\n",
       "    <tr>\n",
       "      <td>0</td>\n",
       "      <td>0.538223</td>\n",
       "      <td>0.190072</td>\n",
       "      <td>0.055615</td>\n",
       "      <td>-0.262321</td>\n",
       "    </tr>\n",
       "    <tr>\n",
       "      <td>1</td>\n",
       "      <td>0.578331</td>\n",
       "      <td>0.039198</td>\n",
       "      <td>-0.928652</td>\n",
       "      <td>-0.271654</td>\n",
       "    </tr>\n",
       "    <tr>\n",
       "      <td>2</td>\n",
       "      <td>0.578588</td>\n",
       "      <td>0.173826</td>\n",
       "      <td>-0.461870</td>\n",
       "      <td>-1.148541</td>\n",
       "    </tr>\n",
       "    <tr>\n",
       "      <td>3</td>\n",
       "      <td>0.591542</td>\n",
       "      <td>-0.000163</td>\n",
       "      <td>-0.994013</td>\n",
       "      <td>-0.498493</td>\n",
       "    </tr>\n",
       "    <tr>\n",
       "      <td>4</td>\n",
       "      <td>0.515727</td>\n",
       "      <td>0.078950</td>\n",
       "      <td>-0.226731</td>\n",
       "      <td>0.120206</td>\n",
       "    </tr>\n",
       "  </tbody>\n",
       "</table>\n",
       "</div>"
      ],
      "text/plain": [
       "    latitud  longitud   altitud  distanica_km_ciudad_cercana\n",
       "0  0.538223  0.190072  0.055615                    -0.262321\n",
       "1  0.578331  0.039198 -0.928652                    -0.271654\n",
       "2  0.578588  0.173826 -0.461870                    -1.148541\n",
       "3  0.591542 -0.000163 -0.994013                    -0.498493\n",
       "4  0.515727  0.078950 -0.226731                     0.120206"
      ]
     },
     "execution_count": 223,
     "metadata": {},
     "output_type": "execute_result"
    }
   ],
   "source": [
    "pd.DataFrame(data = x_g, columns = features_geografia).head()"
   ]
  },
  {
   "cell_type": "markdown",
   "metadata": {},
   "source": [
    "### Proyección variables"
   ]
  },
  {
   "cell_type": "code",
   "execution_count": 224,
   "metadata": {},
   "outputs": [],
   "source": [
    "pca_g = PCA(n_components=3)"
   ]
  },
  {
   "cell_type": "code",
   "execution_count": 225,
   "metadata": {},
   "outputs": [],
   "source": [
    "principalComponents_g = pca_g.fit_transform(x_g)"
   ]
  },
  {
   "cell_type": "code",
   "execution_count": 226,
   "metadata": {},
   "outputs": [
    {
     "data": {
      "text/plain": [
       "array([0.35611895, 0.27274325, 0.20950668])"
      ]
     },
     "execution_count": 226,
     "metadata": {},
     "output_type": "execute_result"
    }
   ],
   "source": [
    "pca_g.explained_variance_ratio_"
   ]
  },
  {
   "cell_type": "code",
   "execution_count": 227,
   "metadata": {},
   "outputs": [],
   "source": [
    "principalDf_g = pd.DataFrame(data = principalComponents_g\n",
    "             , columns = ['PC1_g', 'PC2_g','PC3_g'])"
   ]
  },
  {
   "cell_type": "code",
   "execution_count": 228,
   "metadata": {},
   "outputs": [
    {
     "data": {
      "text/html": [
       "<div>\n",
       "<style scoped>\n",
       "    .dataframe tbody tr th:only-of-type {\n",
       "        vertical-align: middle;\n",
       "    }\n",
       "\n",
       "    .dataframe tbody tr th {\n",
       "        vertical-align: top;\n",
       "    }\n",
       "\n",
       "    .dataframe thead th {\n",
       "        text-align: right;\n",
       "    }\n",
       "</style>\n",
       "<table border=\"1\" class=\"dataframe\">\n",
       "  <thead>\n",
       "    <tr style=\"text-align: right;\">\n",
       "      <th></th>\n",
       "      <th>PC1_g</th>\n",
       "      <th>PC2_g</th>\n",
       "      <th>PC3_g</th>\n",
       "    </tr>\n",
       "  </thead>\n",
       "  <tbody>\n",
       "    <tr>\n",
       "      <td>0</td>\n",
       "      <td>-0.128416</td>\n",
       "      <td>-0.338092</td>\n",
       "      <td>-0.506805</td>\n",
       "    </tr>\n",
       "    <tr>\n",
       "      <td>1</td>\n",
       "      <td>0.476018</td>\n",
       "      <td>-0.506285</td>\n",
       "      <td>-0.583155</td>\n",
       "    </tr>\n",
       "    <tr>\n",
       "      <td>2</td>\n",
       "      <td>0.708734</td>\n",
       "      <td>-0.416839</td>\n",
       "      <td>-1.094188</td>\n",
       "    </tr>\n",
       "    <tr>\n",
       "      <td>3</td>\n",
       "      <td>0.643944</td>\n",
       "      <td>-0.477536</td>\n",
       "      <td>-0.745111</td>\n",
       "    </tr>\n",
       "    <tr>\n",
       "      <td>4</td>\n",
       "      <td>-0.172121</td>\n",
       "      <td>-0.345537</td>\n",
       "      <td>-0.281665</td>\n",
       "    </tr>\n",
       "  </tbody>\n",
       "</table>\n",
       "</div>"
      ],
      "text/plain": [
       "      PC1_g     PC2_g     PC3_g\n",
       "0 -0.128416 -0.338092 -0.506805\n",
       "1  0.476018 -0.506285 -0.583155\n",
       "2  0.708734 -0.416839 -1.094188\n",
       "3  0.643944 -0.477536 -0.745111\n",
       "4 -0.172121 -0.345537 -0.281665"
      ]
     },
     "execution_count": 228,
     "metadata": {},
     "output_type": "execute_result"
    }
   ],
   "source": [
    "principalDf_g.head(5)"
   ]
  },
  {
   "cell_type": "code",
   "execution_count": 229,
   "metadata": {},
   "outputs": [
    {
     "data": {
      "text/html": [
       "<div>\n",
       "<style scoped>\n",
       "    .dataframe tbody tr th:only-of-type {\n",
       "        vertical-align: middle;\n",
       "    }\n",
       "\n",
       "    .dataframe tbody tr th {\n",
       "        vertical-align: top;\n",
       "    }\n",
       "\n",
       "    .dataframe thead th {\n",
       "        text-align: right;\n",
       "    }\n",
       "</style>\n",
       "<table border=\"1\" class=\"dataframe\">\n",
       "  <thead>\n",
       "    <tr style=\"text-align: right;\">\n",
       "      <th></th>\n",
       "      <th>PC1_g</th>\n",
       "      <th>PC2_g</th>\n",
       "      <th>PC3_g</th>\n",
       "      <th>cities_es/province</th>\n",
       "    </tr>\n",
       "  </thead>\n",
       "  <tbody>\n",
       "    <tr>\n",
       "      <td>0</td>\n",
       "      <td>-0.128416</td>\n",
       "      <td>-0.338092</td>\n",
       "      <td>-0.506805</td>\n",
       "      <td>alegria_dulantzi/araba</td>\n",
       "    </tr>\n",
       "    <tr>\n",
       "      <td>1</td>\n",
       "      <td>0.476018</td>\n",
       "      <td>-0.506285</td>\n",
       "      <td>-0.583155</td>\n",
       "      <td>amurrio/araba</td>\n",
       "    </tr>\n",
       "    <tr>\n",
       "      <td>2</td>\n",
       "      <td>0.708734</td>\n",
       "      <td>-0.416839</td>\n",
       "      <td>-1.094188</td>\n",
       "      <td>aramaio/araba</td>\n",
       "    </tr>\n",
       "    <tr>\n",
       "      <td>3</td>\n",
       "      <td>0.643944</td>\n",
       "      <td>-0.477536</td>\n",
       "      <td>-0.745111</td>\n",
       "      <td>artziniega/araba</td>\n",
       "    </tr>\n",
       "    <tr>\n",
       "      <td>4</td>\n",
       "      <td>-0.172121</td>\n",
       "      <td>-0.345537</td>\n",
       "      <td>-0.281665</td>\n",
       "      <td>arminon/araba</td>\n",
       "    </tr>\n",
       "  </tbody>\n",
       "</table>\n",
       "</div>"
      ],
      "text/plain": [
       "      PC1_g     PC2_g     PC3_g      cities_es/province\n",
       "0 -0.128416 -0.338092 -0.506805  alegria_dulantzi/araba\n",
       "1  0.476018 -0.506285 -0.583155           amurrio/araba\n",
       "2  0.708734 -0.416839 -1.094188           aramaio/araba\n",
       "3  0.643944 -0.477536 -0.745111        artziniega/araba\n",
       "4 -0.172121 -0.345537 -0.281665           arminon/araba"
      ]
     },
     "execution_count": 229,
     "metadata": {},
     "output_type": "execute_result"
    }
   ],
   "source": [
    "finalDf_g = pd.concat([principalDf_g, union['cities_es/province']], axis = 1)\n",
    "finalDf_g.head(5)"
   ]
  },
  {
   "cell_type": "markdown",
   "metadata": {},
   "source": [
    "# PCA Recursos"
   ]
  },
  {
   "cell_type": "code",
   "execution_count": 230,
   "metadata": {},
   "outputs": [],
   "source": [
    "# Separating out the features\n",
    "features_recursos = [ 'num_bibliotecas',\n",
    " 'num_hospitales',\n",
    " 'num_centros_salud',\n",
    " 'num_colegios_privados',\n",
    " 'num_colegios_publicos',\n",
    " 'num_guardia_civil',\n",
    " 'num_universidades_privadas',\n",
    " 'num_universidades_publicas',\n",
    " 'num_tit_uni_privadas',\n",
    " 'num_tit_uni_publicas', \n",
    " 'perc_calidad_cobertura_fija_movil',\n",
    " 'ccaa_accessibility_mean']\n",
    "\n",
    "x_r = union.loc[:, features_recursos].values"
   ]
  },
  {
   "cell_type": "code",
   "execution_count": 231,
   "metadata": {},
   "outputs": [],
   "source": [
    "# Standardizing the features\n",
    "x_r = StandardScaler().fit_transform(x_r)"
   ]
  },
  {
   "cell_type": "code",
   "execution_count": 232,
   "metadata": {
    "scrolled": true
   },
   "outputs": [
    {
     "data": {
      "text/html": [
       "<div>\n",
       "<style scoped>\n",
       "    .dataframe tbody tr th:only-of-type {\n",
       "        vertical-align: middle;\n",
       "    }\n",
       "\n",
       "    .dataframe tbody tr th {\n",
       "        vertical-align: top;\n",
       "    }\n",
       "\n",
       "    .dataframe thead th {\n",
       "        text-align: right;\n",
       "    }\n",
       "</style>\n",
       "<table border=\"1\" class=\"dataframe\">\n",
       "  <thead>\n",
       "    <tr style=\"text-align: right;\">\n",
       "      <th></th>\n",
       "      <th>num_bibliotecas</th>\n",
       "      <th>num_hospitales</th>\n",
       "      <th>num_centros_salud</th>\n",
       "      <th>num_colegios_privados</th>\n",
       "      <th>num_colegios_publicos</th>\n",
       "      <th>num_guardia_civil</th>\n",
       "      <th>num_universidades_privadas</th>\n",
       "      <th>num_universidades_publicas</th>\n",
       "      <th>num_tit_uni_privadas</th>\n",
       "      <th>num_tit_uni_publicas</th>\n",
       "      <th>perc_calidad_cobertura_fija_movil</th>\n",
       "      <th>ccaa_accessibility_mean</th>\n",
       "    </tr>\n",
       "  </thead>\n",
       "  <tbody>\n",
       "    <tr>\n",
       "      <td>0</td>\n",
       "      <td>0.232807</td>\n",
       "      <td>-0.108792</td>\n",
       "      <td>-0.346095</td>\n",
       "      <td>-0.255710</td>\n",
       "      <td>-0.298582</td>\n",
       "      <td>-0.971424</td>\n",
       "      <td>-0.152967</td>\n",
       "      <td>-0.248971</td>\n",
       "      <td>-0.108854</td>\n",
       "      <td>-0.152182</td>\n",
       "      <td>0.017140</td>\n",
       "      <td>-2.189024</td>\n",
       "    </tr>\n",
       "    <tr>\n",
       "      <td>1</td>\n",
       "      <td>0.232807</td>\n",
       "      <td>-0.108792</td>\n",
       "      <td>-0.346095</td>\n",
       "      <td>-0.211185</td>\n",
       "      <td>-0.234604</td>\n",
       "      <td>-0.971424</td>\n",
       "      <td>-0.152967</td>\n",
       "      <td>-0.248971</td>\n",
       "      <td>-0.108854</td>\n",
       "      <td>-0.152182</td>\n",
       "      <td>-0.081327</td>\n",
       "      <td>-2.189024</td>\n",
       "    </tr>\n",
       "    <tr>\n",
       "      <td>2</td>\n",
       "      <td>0.232807</td>\n",
       "      <td>-0.108792</td>\n",
       "      <td>-0.346095</td>\n",
       "      <td>-0.270551</td>\n",
       "      <td>-0.383886</td>\n",
       "      <td>-0.971424</td>\n",
       "      <td>-0.152967</td>\n",
       "      <td>-0.248971</td>\n",
       "      <td>-0.108854</td>\n",
       "      <td>-0.152182</td>\n",
       "      <td>-0.104522</td>\n",
       "      <td>-2.189024</td>\n",
       "    </tr>\n",
       "    <tr>\n",
       "      <td>3</td>\n",
       "      <td>0.232807</td>\n",
       "      <td>-0.108792</td>\n",
       "      <td>-0.346095</td>\n",
       "      <td>-0.240868</td>\n",
       "      <td>-0.319908</td>\n",
       "      <td>-0.971424</td>\n",
       "      <td>-0.152967</td>\n",
       "      <td>-0.248971</td>\n",
       "      <td>-0.108854</td>\n",
       "      <td>-0.152182</td>\n",
       "      <td>-0.076513</td>\n",
       "      <td>-2.189024</td>\n",
       "    </tr>\n",
       "    <tr>\n",
       "      <td>4</td>\n",
       "      <td>-0.722355</td>\n",
       "      <td>-0.108792</td>\n",
       "      <td>-0.346095</td>\n",
       "      <td>-0.270551</td>\n",
       "      <td>-0.383886</td>\n",
       "      <td>-0.971424</td>\n",
       "      <td>-0.152967</td>\n",
       "      <td>-0.248971</td>\n",
       "      <td>-0.108854</td>\n",
       "      <td>-0.152182</td>\n",
       "      <td>0.090224</td>\n",
       "      <td>-2.189024</td>\n",
       "    </tr>\n",
       "  </tbody>\n",
       "</table>\n",
       "</div>"
      ],
      "text/plain": [
       "   num_bibliotecas  num_hospitales  num_centros_salud  num_colegios_privados  \\\n",
       "0         0.232807       -0.108792          -0.346095              -0.255710   \n",
       "1         0.232807       -0.108792          -0.346095              -0.211185   \n",
       "2         0.232807       -0.108792          -0.346095              -0.270551   \n",
       "3         0.232807       -0.108792          -0.346095              -0.240868   \n",
       "4        -0.722355       -0.108792          -0.346095              -0.270551   \n",
       "\n",
       "   num_colegios_publicos  num_guardia_civil  num_universidades_privadas  \\\n",
       "0              -0.298582          -0.971424                   -0.152967   \n",
       "1              -0.234604          -0.971424                   -0.152967   \n",
       "2              -0.383886          -0.971424                   -0.152967   \n",
       "3              -0.319908          -0.971424                   -0.152967   \n",
       "4              -0.383886          -0.971424                   -0.152967   \n",
       "\n",
       "   num_universidades_publicas  num_tit_uni_privadas  num_tit_uni_publicas  \\\n",
       "0                   -0.248971             -0.108854             -0.152182   \n",
       "1                   -0.248971             -0.108854             -0.152182   \n",
       "2                   -0.248971             -0.108854             -0.152182   \n",
       "3                   -0.248971             -0.108854             -0.152182   \n",
       "4                   -0.248971             -0.108854             -0.152182   \n",
       "\n",
       "   perc_calidad_cobertura_fija_movil  ccaa_accessibility_mean  \n",
       "0                           0.017140                -2.189024  \n",
       "1                          -0.081327                -2.189024  \n",
       "2                          -0.104522                -2.189024  \n",
       "3                          -0.076513                -2.189024  \n",
       "4                           0.090224                -2.189024  "
      ]
     },
     "execution_count": 232,
     "metadata": {},
     "output_type": "execute_result"
    }
   ],
   "source": [
    "pd.DataFrame(data = x_r, columns = features_recursos).head()"
   ]
  },
  {
   "cell_type": "markdown",
   "metadata": {},
   "source": [
    "### Proyección variables"
   ]
  },
  {
   "cell_type": "code",
   "execution_count": 233,
   "metadata": {},
   "outputs": [],
   "source": [
    "pca_r = PCA(n_components=3)"
   ]
  },
  {
   "cell_type": "code",
   "execution_count": 234,
   "metadata": {},
   "outputs": [],
   "source": [
    "principalComponents_r = pca_r.fit_transform(x_r)"
   ]
  },
  {
   "cell_type": "code",
   "execution_count": 235,
   "metadata": {},
   "outputs": [
    {
     "data": {
      "text/plain": [
       "array([0.30111137, 0.16992984, 0.11097924])"
      ]
     },
     "execution_count": 235,
     "metadata": {},
     "output_type": "execute_result"
    }
   ],
   "source": [
    "pca_r.explained_variance_ratio_"
   ]
  },
  {
   "cell_type": "code",
   "execution_count": 236,
   "metadata": {},
   "outputs": [],
   "source": [
    "principalDf_r = pd.DataFrame(data = principalComponents_r\n",
    "             , columns = ['PC1_r', 'PC2_r','PC3_r'])"
   ]
  },
  {
   "cell_type": "code",
   "execution_count": 237,
   "metadata": {},
   "outputs": [
    {
     "data": {
      "text/html": [
       "<div>\n",
       "<style scoped>\n",
       "    .dataframe tbody tr th:only-of-type {\n",
       "        vertical-align: middle;\n",
       "    }\n",
       "\n",
       "    .dataframe tbody tr th {\n",
       "        vertical-align: top;\n",
       "    }\n",
       "\n",
       "    .dataframe thead th {\n",
       "        text-align: right;\n",
       "    }\n",
       "</style>\n",
       "<table border=\"1\" class=\"dataframe\">\n",
       "  <thead>\n",
       "    <tr style=\"text-align: right;\">\n",
       "      <th></th>\n",
       "      <th>PC1_r</th>\n",
       "      <th>PC2_r</th>\n",
       "      <th>PC3_r</th>\n",
       "    </tr>\n",
       "  </thead>\n",
       "  <tbody>\n",
       "    <tr>\n",
       "      <td>0</td>\n",
       "      <td>-0.403848</td>\n",
       "      <td>-0.616851</td>\n",
       "      <td>-0.757227</td>\n",
       "    </tr>\n",
       "    <tr>\n",
       "      <td>1</td>\n",
       "      <td>-0.388877</td>\n",
       "      <td>-0.549736</td>\n",
       "      <td>-0.732898</td>\n",
       "    </tr>\n",
       "    <tr>\n",
       "      <td>2</td>\n",
       "      <td>-0.434298</td>\n",
       "      <td>-0.677047</td>\n",
       "      <td>-0.723399</td>\n",
       "    </tr>\n",
       "    <tr>\n",
       "      <td>3</td>\n",
       "      <td>-0.412496</td>\n",
       "      <td>-0.620077</td>\n",
       "      <td>-0.732426</td>\n",
       "    </tr>\n",
       "    <tr>\n",
       "      <td>4</td>\n",
       "      <td>-0.797164</td>\n",
       "      <td>-0.564153</td>\n",
       "      <td>-1.002424</td>\n",
       "    </tr>\n",
       "  </tbody>\n",
       "</table>\n",
       "</div>"
      ],
      "text/plain": [
       "      PC1_r     PC2_r     PC3_r\n",
       "0 -0.403848 -0.616851 -0.757227\n",
       "1 -0.388877 -0.549736 -0.732898\n",
       "2 -0.434298 -0.677047 -0.723399\n",
       "3 -0.412496 -0.620077 -0.732426\n",
       "4 -0.797164 -0.564153 -1.002424"
      ]
     },
     "execution_count": 237,
     "metadata": {},
     "output_type": "execute_result"
    }
   ],
   "source": [
    "principalDf_r.head(5)"
   ]
  },
  {
   "cell_type": "code",
   "execution_count": 238,
   "metadata": {},
   "outputs": [
    {
     "data": {
      "text/html": [
       "<div>\n",
       "<style scoped>\n",
       "    .dataframe tbody tr th:only-of-type {\n",
       "        vertical-align: middle;\n",
       "    }\n",
       "\n",
       "    .dataframe tbody tr th {\n",
       "        vertical-align: top;\n",
       "    }\n",
       "\n",
       "    .dataframe thead th {\n",
       "        text-align: right;\n",
       "    }\n",
       "</style>\n",
       "<table border=\"1\" class=\"dataframe\">\n",
       "  <thead>\n",
       "    <tr style=\"text-align: right;\">\n",
       "      <th></th>\n",
       "      <th>PC1_r</th>\n",
       "      <th>PC2_r</th>\n",
       "      <th>PC3_r</th>\n",
       "      <th>cities_es/province</th>\n",
       "    </tr>\n",
       "  </thead>\n",
       "  <tbody>\n",
       "    <tr>\n",
       "      <td>0</td>\n",
       "      <td>-0.403848</td>\n",
       "      <td>-0.616851</td>\n",
       "      <td>-0.757227</td>\n",
       "      <td>alegria_dulantzi/araba</td>\n",
       "    </tr>\n",
       "    <tr>\n",
       "      <td>1</td>\n",
       "      <td>-0.388877</td>\n",
       "      <td>-0.549736</td>\n",
       "      <td>-0.732898</td>\n",
       "      <td>amurrio/araba</td>\n",
       "    </tr>\n",
       "    <tr>\n",
       "      <td>2</td>\n",
       "      <td>-0.434298</td>\n",
       "      <td>-0.677047</td>\n",
       "      <td>-0.723399</td>\n",
       "      <td>aramaio/araba</td>\n",
       "    </tr>\n",
       "    <tr>\n",
       "      <td>3</td>\n",
       "      <td>-0.412496</td>\n",
       "      <td>-0.620077</td>\n",
       "      <td>-0.732426</td>\n",
       "      <td>artziniega/araba</td>\n",
       "    </tr>\n",
       "    <tr>\n",
       "      <td>4</td>\n",
       "      <td>-0.797164</td>\n",
       "      <td>-0.564153</td>\n",
       "      <td>-1.002424</td>\n",
       "      <td>arminon/araba</td>\n",
       "    </tr>\n",
       "  </tbody>\n",
       "</table>\n",
       "</div>"
      ],
      "text/plain": [
       "      PC1_r     PC2_r     PC3_r      cities_es/province\n",
       "0 -0.403848 -0.616851 -0.757227  alegria_dulantzi/araba\n",
       "1 -0.388877 -0.549736 -0.732898           amurrio/araba\n",
       "2 -0.434298 -0.677047 -0.723399           aramaio/araba\n",
       "3 -0.412496 -0.620077 -0.732426        artziniega/araba\n",
       "4 -0.797164 -0.564153 -1.002424           arminon/araba"
      ]
     },
     "execution_count": 238,
     "metadata": {},
     "output_type": "execute_result"
    }
   ],
   "source": [
    "finalDf_r = pd.concat([principalDf_r, union['cities_es/province']], axis = 1)\n",
    "finalDf_r.head(5)"
   ]
  },
  {
   "cell_type": "code",
   "execution_count": 239,
   "metadata": {},
   "outputs": [
    {
     "data": {
      "text/plain": [
       "(6066, 4)"
      ]
     },
     "execution_count": 239,
     "metadata": {},
     "output_type": "execute_result"
    }
   ],
   "source": [
    "finalDf_r.shape"
   ]
  },
  {
   "cell_type": "markdown",
   "metadata": {},
   "source": [
    "# PCA Transportes"
   ]
  },
  {
   "cell_type": "code",
   "execution_count": 240,
   "metadata": {},
   "outputs": [],
   "source": [
    "# Separating out the features\n",
    "features_transportes = [ 'bus_based_companies_count',\n",
    " 'prov_total_millones_vehiculos_km',\n",
    "# 'prov_porcentaje_carreteras_ccaa_y_estado' (NaN)\n",
    " 'tiene_cercanias',\n",
    " 'tiene_feve',\n",
    " 'tiene_ave',\n",
    "# 'nume_estaciones_tren' (NaN)\n",
    " 'prov_camiones',\n",
    " 'prov_furgonetas',\n",
    " 'prov_autobuses',\n",
    " 'prov_turismos',\n",
    " 'prov_motocicletas',\n",
    " 'prov_tractores_industriales',\n",
    " 'prov_r_y_s',\n",
    " 'prov_otros_vehiculos',\n",
    " 'prov_total_vehiculos']\n",
    "                       \n",
    "x_tr = union.loc[:, features_transportes].values"
   ]
  },
  {
   "cell_type": "code",
   "execution_count": 241,
   "metadata": {},
   "outputs": [],
   "source": [
    "# Standardizing the features\n",
    "x_tr = StandardScaler().fit_transform(x_tr)"
   ]
  },
  {
   "cell_type": "code",
   "execution_count": 242,
   "metadata": {},
   "outputs": [
    {
     "data": {
      "text/html": [
       "<div>\n",
       "<style scoped>\n",
       "    .dataframe tbody tr th:only-of-type {\n",
       "        vertical-align: middle;\n",
       "    }\n",
       "\n",
       "    .dataframe tbody tr th {\n",
       "        vertical-align: top;\n",
       "    }\n",
       "\n",
       "    .dataframe thead th {\n",
       "        text-align: right;\n",
       "    }\n",
       "</style>\n",
       "<table border=\"1\" class=\"dataframe\">\n",
       "  <thead>\n",
       "    <tr style=\"text-align: right;\">\n",
       "      <th></th>\n",
       "      <th>bus_based_companies_count</th>\n",
       "      <th>prov_total_millones_vehiculos_km</th>\n",
       "      <th>tiene_cercanias</th>\n",
       "      <th>tiene_feve</th>\n",
       "      <th>tiene_ave</th>\n",
       "      <th>prov_camiones</th>\n",
       "      <th>prov_furgonetas</th>\n",
       "      <th>prov_autobuses</th>\n",
       "      <th>prov_turismos</th>\n",
       "      <th>prov_motocicletas</th>\n",
       "      <th>prov_tractores_industriales</th>\n",
       "      <th>prov_r_y_s</th>\n",
       "      <th>prov_otros_vehiculos</th>\n",
       "      <th>prov_total_vehiculos</th>\n",
       "    </tr>\n",
       "  </thead>\n",
       "  <tbody>\n",
       "    <tr>\n",
       "      <td>0</td>\n",
       "      <td>-0.099328</td>\n",
       "      <td>-0.711471</td>\n",
       "      <td>0.282693</td>\n",
       "      <td>0.685067</td>\n",
       "      <td>0.050771</td>\n",
       "      <td>-0.68031</td>\n",
       "      <td>-0.53426</td>\n",
       "      <td>-0.413954</td>\n",
       "      <td>-0.515381</td>\n",
       "      <td>-0.484735</td>\n",
       "      <td>-0.703269</td>\n",
       "      <td>-0.650255</td>\n",
       "      <td>-0.526766</td>\n",
       "      <td>-0.534211</td>\n",
       "    </tr>\n",
       "    <tr>\n",
       "      <td>1</td>\n",
       "      <td>-0.099328</td>\n",
       "      <td>-0.711471</td>\n",
       "      <td>1.660054</td>\n",
       "      <td>0.685067</td>\n",
       "      <td>0.050771</td>\n",
       "      <td>-0.68031</td>\n",
       "      <td>-0.53426</td>\n",
       "      <td>-0.413954</td>\n",
       "      <td>-0.515381</td>\n",
       "      <td>-0.484735</td>\n",
       "      <td>-0.703269</td>\n",
       "      <td>-0.650255</td>\n",
       "      <td>-0.526766</td>\n",
       "      <td>-0.534211</td>\n",
       "    </tr>\n",
       "    <tr>\n",
       "      <td>2</td>\n",
       "      <td>-0.099328</td>\n",
       "      <td>-0.711471</td>\n",
       "      <td>-1.094668</td>\n",
       "      <td>-1.203849</td>\n",
       "      <td>-1.120246</td>\n",
       "      <td>-0.68031</td>\n",
       "      <td>-0.53426</td>\n",
       "      <td>-0.413954</td>\n",
       "      <td>-0.515381</td>\n",
       "      <td>-0.484735</td>\n",
       "      <td>-0.703269</td>\n",
       "      <td>-0.650255</td>\n",
       "      <td>-0.526766</td>\n",
       "      <td>-0.534211</td>\n",
       "    </tr>\n",
       "    <tr>\n",
       "      <td>3</td>\n",
       "      <td>-0.099328</td>\n",
       "      <td>-0.711471</td>\n",
       "      <td>-1.094668</td>\n",
       "      <td>-1.203849</td>\n",
       "      <td>-1.120246</td>\n",
       "      <td>-0.68031</td>\n",
       "      <td>-0.53426</td>\n",
       "      <td>-0.413954</td>\n",
       "      <td>-0.515381</td>\n",
       "      <td>-0.484735</td>\n",
       "      <td>-0.703269</td>\n",
       "      <td>-0.650255</td>\n",
       "      <td>-0.526766</td>\n",
       "      <td>-0.534211</td>\n",
       "    </tr>\n",
       "    <tr>\n",
       "      <td>4</td>\n",
       "      <td>-0.099328</td>\n",
       "      <td>-0.711471</td>\n",
       "      <td>-1.094668</td>\n",
       "      <td>-1.203849</td>\n",
       "      <td>-1.120246</td>\n",
       "      <td>-0.68031</td>\n",
       "      <td>-0.53426</td>\n",
       "      <td>-0.413954</td>\n",
       "      <td>-0.515381</td>\n",
       "      <td>-0.484735</td>\n",
       "      <td>-0.703269</td>\n",
       "      <td>-0.650255</td>\n",
       "      <td>-0.526766</td>\n",
       "      <td>-0.534211</td>\n",
       "    </tr>\n",
       "  </tbody>\n",
       "</table>\n",
       "</div>"
      ],
      "text/plain": [
       "   bus_based_companies_count  prov_total_millones_vehiculos_km  \\\n",
       "0                  -0.099328                         -0.711471   \n",
       "1                  -0.099328                         -0.711471   \n",
       "2                  -0.099328                         -0.711471   \n",
       "3                  -0.099328                         -0.711471   \n",
       "4                  -0.099328                         -0.711471   \n",
       "\n",
       "   tiene_cercanias  tiene_feve  tiene_ave  prov_camiones  prov_furgonetas  \\\n",
       "0         0.282693    0.685067   0.050771       -0.68031         -0.53426   \n",
       "1         1.660054    0.685067   0.050771       -0.68031         -0.53426   \n",
       "2        -1.094668   -1.203849  -1.120246       -0.68031         -0.53426   \n",
       "3        -1.094668   -1.203849  -1.120246       -0.68031         -0.53426   \n",
       "4        -1.094668   -1.203849  -1.120246       -0.68031         -0.53426   \n",
       "\n",
       "   prov_autobuses  prov_turismos  prov_motocicletas  \\\n",
       "0       -0.413954      -0.515381          -0.484735   \n",
       "1       -0.413954      -0.515381          -0.484735   \n",
       "2       -0.413954      -0.515381          -0.484735   \n",
       "3       -0.413954      -0.515381          -0.484735   \n",
       "4       -0.413954      -0.515381          -0.484735   \n",
       "\n",
       "   prov_tractores_industriales  prov_r_y_s  prov_otros_vehiculos  \\\n",
       "0                    -0.703269   -0.650255             -0.526766   \n",
       "1                    -0.703269   -0.650255             -0.526766   \n",
       "2                    -0.703269   -0.650255             -0.526766   \n",
       "3                    -0.703269   -0.650255             -0.526766   \n",
       "4                    -0.703269   -0.650255             -0.526766   \n",
       "\n",
       "   prov_total_vehiculos  \n",
       "0             -0.534211  \n",
       "1             -0.534211  \n",
       "2             -0.534211  \n",
       "3             -0.534211  \n",
       "4             -0.534211  "
      ]
     },
     "execution_count": 242,
     "metadata": {},
     "output_type": "execute_result"
    }
   ],
   "source": [
    "pd.DataFrame(data = x_tr, columns = features_transportes).head()"
   ]
  },
  {
   "cell_type": "markdown",
   "metadata": {},
   "source": [
    "### Proyección variables"
   ]
  },
  {
   "cell_type": "code",
   "execution_count": 243,
   "metadata": {},
   "outputs": [],
   "source": [
    "pca_tr = PCA(n_components=2)"
   ]
  },
  {
   "cell_type": "code",
   "execution_count": 244,
   "metadata": {},
   "outputs": [],
   "source": [
    "principalComponents_tr = pca_tr.fit_transform(x_tr)"
   ]
  },
  {
   "cell_type": "code",
   "execution_count": 245,
   "metadata": {},
   "outputs": [
    {
     "data": {
      "text/plain": [
       "array([0.66324852, 0.18357356])"
      ]
     },
     "execution_count": 245,
     "metadata": {},
     "output_type": "execute_result"
    }
   ],
   "source": [
    "pca_tr.explained_variance_ratio_"
   ]
  },
  {
   "cell_type": "code",
   "execution_count": 246,
   "metadata": {},
   "outputs": [],
   "source": [
    "principalDf_tr = pd.DataFrame(data = principalComponents_tr\n",
    "             , columns = ['PC1_tr', 'PC2_tr'])"
   ]
  },
  {
   "cell_type": "code",
   "execution_count": 247,
   "metadata": {},
   "outputs": [
    {
     "data": {
      "text/html": [
       "<div>\n",
       "<style scoped>\n",
       "    .dataframe tbody tr th:only-of-type {\n",
       "        vertical-align: middle;\n",
       "    }\n",
       "\n",
       "    .dataframe tbody tr th {\n",
       "        vertical-align: top;\n",
       "    }\n",
       "\n",
       "    .dataframe thead th {\n",
       "        text-align: right;\n",
       "    }\n",
       "</style>\n",
       "<table border=\"1\" class=\"dataframe\">\n",
       "  <thead>\n",
       "    <tr style=\"text-align: right;\">\n",
       "      <th></th>\n",
       "      <th>PC1_tr</th>\n",
       "      <th>PC2_tr</th>\n",
       "    </tr>\n",
       "  </thead>\n",
       "  <tbody>\n",
       "    <tr>\n",
       "      <td>0</td>\n",
       "      <td>-1.732643</td>\n",
       "      <td>-0.796543</td>\n",
       "    </tr>\n",
       "    <tr>\n",
       "      <td>1</td>\n",
       "      <td>-1.561783</td>\n",
       "      <td>-1.547514</td>\n",
       "    </tr>\n",
       "    <tr>\n",
       "      <td>2</td>\n",
       "      <td>-2.040873</td>\n",
       "      <td>1.740233</td>\n",
       "    </tr>\n",
       "    <tr>\n",
       "      <td>3</td>\n",
       "      <td>-2.040873</td>\n",
       "      <td>1.740233</td>\n",
       "    </tr>\n",
       "    <tr>\n",
       "      <td>4</td>\n",
       "      <td>-2.040873</td>\n",
       "      <td>1.740233</td>\n",
       "    </tr>\n",
       "  </tbody>\n",
       "</table>\n",
       "</div>"
      ],
      "text/plain": [
       "     PC1_tr    PC2_tr\n",
       "0 -1.732643 -0.796543\n",
       "1 -1.561783 -1.547514\n",
       "2 -2.040873  1.740233\n",
       "3 -2.040873  1.740233\n",
       "4 -2.040873  1.740233"
      ]
     },
     "execution_count": 247,
     "metadata": {},
     "output_type": "execute_result"
    }
   ],
   "source": [
    "principalDf_tr.head(5)"
   ]
  },
  {
   "cell_type": "code",
   "execution_count": 248,
   "metadata": {},
   "outputs": [
    {
     "data": {
      "text/html": [
       "<div>\n",
       "<style scoped>\n",
       "    .dataframe tbody tr th:only-of-type {\n",
       "        vertical-align: middle;\n",
       "    }\n",
       "\n",
       "    .dataframe tbody tr th {\n",
       "        vertical-align: top;\n",
       "    }\n",
       "\n",
       "    .dataframe thead th {\n",
       "        text-align: right;\n",
       "    }\n",
       "</style>\n",
       "<table border=\"1\" class=\"dataframe\">\n",
       "  <thead>\n",
       "    <tr style=\"text-align: right;\">\n",
       "      <th></th>\n",
       "      <th>PC1_tr</th>\n",
       "      <th>PC2_tr</th>\n",
       "      <th>cities_es/province</th>\n",
       "    </tr>\n",
       "  </thead>\n",
       "  <tbody>\n",
       "    <tr>\n",
       "      <td>0</td>\n",
       "      <td>-1.732643</td>\n",
       "      <td>-0.796543</td>\n",
       "      <td>alegria_dulantzi/araba</td>\n",
       "    </tr>\n",
       "    <tr>\n",
       "      <td>1</td>\n",
       "      <td>-1.561783</td>\n",
       "      <td>-1.547514</td>\n",
       "      <td>amurrio/araba</td>\n",
       "    </tr>\n",
       "    <tr>\n",
       "      <td>2</td>\n",
       "      <td>-2.040873</td>\n",
       "      <td>1.740233</td>\n",
       "      <td>aramaio/araba</td>\n",
       "    </tr>\n",
       "    <tr>\n",
       "      <td>3</td>\n",
       "      <td>-2.040873</td>\n",
       "      <td>1.740233</td>\n",
       "      <td>artziniega/araba</td>\n",
       "    </tr>\n",
       "    <tr>\n",
       "      <td>4</td>\n",
       "      <td>-2.040873</td>\n",
       "      <td>1.740233</td>\n",
       "      <td>arminon/araba</td>\n",
       "    </tr>\n",
       "  </tbody>\n",
       "</table>\n",
       "</div>"
      ],
      "text/plain": [
       "     PC1_tr    PC2_tr      cities_es/province\n",
       "0 -1.732643 -0.796543  alegria_dulantzi/araba\n",
       "1 -1.561783 -1.547514           amurrio/araba\n",
       "2 -2.040873  1.740233           aramaio/araba\n",
       "3 -2.040873  1.740233        artziniega/araba\n",
       "4 -2.040873  1.740233           arminon/araba"
      ]
     },
     "execution_count": 248,
     "metadata": {},
     "output_type": "execute_result"
    }
   ],
   "source": [
    "finalDf_tr = pd.concat([principalDf_tr, union['cities_es/province']], axis = 1)\n",
    "finalDf_tr.head(5)"
   ]
  },
  {
   "cell_type": "code",
   "execution_count": 249,
   "metadata": {},
   "outputs": [
    {
     "data": {
      "text/plain": [
       "(6066, 3)"
      ]
     },
     "execution_count": 249,
     "metadata": {},
     "output_type": "execute_result"
    }
   ],
   "source": [
    "finalDf_tr.shape"
   ]
  },
  {
   "cell_type": "markdown",
   "metadata": {},
   "source": [
    "# PCA Turismo"
   ]
  },
  {
   "cell_type": "code",
   "execution_count": 250,
   "metadata": {},
   "outputs": [],
   "source": [
    "# Separating out the features\n",
    "features_turismo = ['num_establec_agencias_de_viajes',\n",
    " 'num_establec_albergues',\n",
    " 'num_establec_alojamientos_rurales',\n",
    " 'num_establec_artesanos',\n",
    " 'num_establec_atraque_de_cruceros_y_ferries',\n",
    " 'num_establec_bares_y_cafeterías',\n",
    " 'num_establec_bodegas',\n",
    " 'num_establec_campings',\n",
    " 'num_establec_campos_de_golf_y_campos_de_pitch&putt',\n",
    " 'num_establec_comercios',\n",
    " 'num_establec_convention_bureaux',\n",
    " 'num_establec_empresas_de_alquiler_de_vehículos_y_embarcaciones',\n",
    " 'num_establec_empresas_de_transporte_turístico',\n",
    " 'num_establec_empresas_de_turismo_activo',\n",
    " 'num_establec_escuelas_de_español_para_extranjeros',\n",
    " 'num_establec_espacios_naturales_protegidos',\n",
    " 'num_establec_estaciones_de_esquí_y_montaña',\n",
    " 'num_establec_guías_turísticos',\n",
    " 'num_establec_hoteles_y_apartamentos_turísticos',\n",
    " 'num_establec_museos_y_centros_de_interés_turístico_visitable',\n",
    " 'num_establec_opc',\n",
    " 'num_establec_oficinas_de_información_turística',\n",
    " 'num_establec_otros_servicios',\n",
    " 'num_establec_palacios_de_congresos',\n",
    " 'num_establec_playas',\n",
    " 'num_establec_puertos_deportivos',\n",
    " 'num_establec_restaurantes_y_empresas_turísticas_de_catering',\n",
    " 'num_establec_seguridad_ciudadana',\n",
    " 'num_establec_servicios_de_limpieza',\n",
    " 'num_establec_servicios_turísticos_de_salud',\n",
    " 'num_establec_taxis',\n",
    " 'num_establec_turismo_industrial']\n",
    "\n",
    "x_t = union.loc[:, features_turismo].values"
   ]
  },
  {
   "cell_type": "code",
   "execution_count": 251,
   "metadata": {},
   "outputs": [],
   "source": [
    "# Standardizing the features\n",
    "x_t = StandardScaler().fit_transform(x_t)"
   ]
  },
  {
   "cell_type": "code",
   "execution_count": 252,
   "metadata": {},
   "outputs": [
    {
     "data": {
      "text/html": [
       "<div>\n",
       "<style scoped>\n",
       "    .dataframe tbody tr th:only-of-type {\n",
       "        vertical-align: middle;\n",
       "    }\n",
       "\n",
       "    .dataframe tbody tr th {\n",
       "        vertical-align: top;\n",
       "    }\n",
       "\n",
       "    .dataframe thead th {\n",
       "        text-align: right;\n",
       "    }\n",
       "</style>\n",
       "<table border=\"1\" class=\"dataframe\">\n",
       "  <thead>\n",
       "    <tr style=\"text-align: right;\">\n",
       "      <th></th>\n",
       "      <th>num_establec_agencias_de_viajes</th>\n",
       "      <th>num_establec_albergues</th>\n",
       "      <th>num_establec_alojamientos_rurales</th>\n",
       "      <th>num_establec_artesanos</th>\n",
       "      <th>num_establec_atraque_de_cruceros_y_ferries</th>\n",
       "      <th>num_establec_bares_y_cafeterías</th>\n",
       "      <th>num_establec_bodegas</th>\n",
       "      <th>num_establec_campings</th>\n",
       "      <th>num_establec_campos_de_golf_y_campos_de_pitch&amp;putt</th>\n",
       "      <th>num_establec_comercios</th>\n",
       "      <th>...</th>\n",
       "      <th>num_establec_otros_servicios</th>\n",
       "      <th>num_establec_palacios_de_congresos</th>\n",
       "      <th>num_establec_playas</th>\n",
       "      <th>num_establec_puertos_deportivos</th>\n",
       "      <th>num_establec_restaurantes_y_empresas_turísticas_de_catering</th>\n",
       "      <th>num_establec_seguridad_ciudadana</th>\n",
       "      <th>num_establec_servicios_de_limpieza</th>\n",
       "      <th>num_establec_servicios_turísticos_de_salud</th>\n",
       "      <th>num_establec_taxis</th>\n",
       "      <th>num_establec_turismo_industrial</th>\n",
       "    </tr>\n",
       "  </thead>\n",
       "  <tbody>\n",
       "    <tr>\n",
       "      <td>0</td>\n",
       "      <td>-0.097941</td>\n",
       "      <td>-0.099651</td>\n",
       "      <td>1.26072</td>\n",
       "      <td>-0.070763</td>\n",
       "      <td>-0.017229</td>\n",
       "      <td>-0.10742</td>\n",
       "      <td>-0.085814</td>\n",
       "      <td>-0.098936</td>\n",
       "      <td>-0.0485</td>\n",
       "      <td>-0.090691</td>\n",
       "      <td>...</td>\n",
       "      <td>-0.103268</td>\n",
       "      <td>-0.05164</td>\n",
       "      <td>-0.08003</td>\n",
       "      <td>-0.06667</td>\n",
       "      <td>-0.131645</td>\n",
       "      <td>-0.100356</td>\n",
       "      <td>-0.040636</td>\n",
       "      <td>-0.076056</td>\n",
       "      <td>-0.030821</td>\n",
       "      <td>-0.057415</td>\n",
       "    </tr>\n",
       "    <tr>\n",
       "      <td>1</td>\n",
       "      <td>-0.097941</td>\n",
       "      <td>-0.099651</td>\n",
       "      <td>1.26072</td>\n",
       "      <td>-0.070763</td>\n",
       "      <td>-0.017229</td>\n",
       "      <td>-0.10742</td>\n",
       "      <td>7.350595</td>\n",
       "      <td>-0.098936</td>\n",
       "      <td>-0.0485</td>\n",
       "      <td>-0.090691</td>\n",
       "      <td>...</td>\n",
       "      <td>-0.103268</td>\n",
       "      <td>-0.05164</td>\n",
       "      <td>-0.08003</td>\n",
       "      <td>-0.06667</td>\n",
       "      <td>0.515486</td>\n",
       "      <td>-0.100356</td>\n",
       "      <td>-0.040636</td>\n",
       "      <td>-0.076056</td>\n",
       "      <td>-0.030821</td>\n",
       "      <td>-0.057415</td>\n",
       "    </tr>\n",
       "    <tr>\n",
       "      <td>2</td>\n",
       "      <td>-0.097941</td>\n",
       "      <td>-0.099651</td>\n",
       "      <td>1.26072</td>\n",
       "      <td>19.007043</td>\n",
       "      <td>-0.017229</td>\n",
       "      <td>-0.10742</td>\n",
       "      <td>-0.085814</td>\n",
       "      <td>-0.098936</td>\n",
       "      <td>-0.0485</td>\n",
       "      <td>-0.090691</td>\n",
       "      <td>...</td>\n",
       "      <td>-0.103268</td>\n",
       "      <td>-0.05164</td>\n",
       "      <td>-0.08003</td>\n",
       "      <td>-0.06667</td>\n",
       "      <td>0.515486</td>\n",
       "      <td>-0.100356</td>\n",
       "      <td>-0.040636</td>\n",
       "      <td>-0.076056</td>\n",
       "      <td>-0.030821</td>\n",
       "      <td>-0.057415</td>\n",
       "    </tr>\n",
       "    <tr>\n",
       "      <td>3</td>\n",
       "      <td>-0.097941</td>\n",
       "      <td>-0.099651</td>\n",
       "      <td>1.26072</td>\n",
       "      <td>-0.070763</td>\n",
       "      <td>-0.017229</td>\n",
       "      <td>-0.10742</td>\n",
       "      <td>-0.085814</td>\n",
       "      <td>-0.098936</td>\n",
       "      <td>-0.0485</td>\n",
       "      <td>-0.090691</td>\n",
       "      <td>...</td>\n",
       "      <td>-0.103268</td>\n",
       "      <td>-0.05164</td>\n",
       "      <td>-0.08003</td>\n",
       "      <td>-0.06667</td>\n",
       "      <td>-0.131645</td>\n",
       "      <td>-0.100356</td>\n",
       "      <td>-0.040636</td>\n",
       "      <td>-0.076056</td>\n",
       "      <td>-0.030821</td>\n",
       "      <td>-0.057415</td>\n",
       "    </tr>\n",
       "    <tr>\n",
       "      <td>4</td>\n",
       "      <td>-0.097941</td>\n",
       "      <td>-0.099651</td>\n",
       "      <td>-0.19512</td>\n",
       "      <td>-0.070763</td>\n",
       "      <td>-0.017229</td>\n",
       "      <td>-0.10742</td>\n",
       "      <td>-0.085814</td>\n",
       "      <td>-0.098936</td>\n",
       "      <td>-0.0485</td>\n",
       "      <td>-0.090691</td>\n",
       "      <td>...</td>\n",
       "      <td>-0.103268</td>\n",
       "      <td>-0.05164</td>\n",
       "      <td>-0.08003</td>\n",
       "      <td>-0.06667</td>\n",
       "      <td>-0.131645</td>\n",
       "      <td>-0.100356</td>\n",
       "      <td>-0.040636</td>\n",
       "      <td>-0.076056</td>\n",
       "      <td>-0.030821</td>\n",
       "      <td>-0.057415</td>\n",
       "    </tr>\n",
       "  </tbody>\n",
       "</table>\n",
       "<p>5 rows × 32 columns</p>\n",
       "</div>"
      ],
      "text/plain": [
       "   num_establec_agencias_de_viajes  num_establec_albergues  \\\n",
       "0                        -0.097941               -0.099651   \n",
       "1                        -0.097941               -0.099651   \n",
       "2                        -0.097941               -0.099651   \n",
       "3                        -0.097941               -0.099651   \n",
       "4                        -0.097941               -0.099651   \n",
       "\n",
       "   num_establec_alojamientos_rurales  num_establec_artesanos  \\\n",
       "0                            1.26072               -0.070763   \n",
       "1                            1.26072               -0.070763   \n",
       "2                            1.26072               19.007043   \n",
       "3                            1.26072               -0.070763   \n",
       "4                           -0.19512               -0.070763   \n",
       "\n",
       "   num_establec_atraque_de_cruceros_y_ferries  \\\n",
       "0                                   -0.017229   \n",
       "1                                   -0.017229   \n",
       "2                                   -0.017229   \n",
       "3                                   -0.017229   \n",
       "4                                   -0.017229   \n",
       "\n",
       "   num_establec_bares_y_cafeterías  num_establec_bodegas  \\\n",
       "0                         -0.10742             -0.085814   \n",
       "1                         -0.10742              7.350595   \n",
       "2                         -0.10742             -0.085814   \n",
       "3                         -0.10742             -0.085814   \n",
       "4                         -0.10742             -0.085814   \n",
       "\n",
       "   num_establec_campings  num_establec_campos_de_golf_y_campos_de_pitch&putt  \\\n",
       "0              -0.098936                                            -0.0485    \n",
       "1              -0.098936                                            -0.0485    \n",
       "2              -0.098936                                            -0.0485    \n",
       "3              -0.098936                                            -0.0485    \n",
       "4              -0.098936                                            -0.0485    \n",
       "\n",
       "   num_establec_comercios  ...  num_establec_otros_servicios  \\\n",
       "0               -0.090691  ...                     -0.103268   \n",
       "1               -0.090691  ...                     -0.103268   \n",
       "2               -0.090691  ...                     -0.103268   \n",
       "3               -0.090691  ...                     -0.103268   \n",
       "4               -0.090691  ...                     -0.103268   \n",
       "\n",
       "   num_establec_palacios_de_congresos  num_establec_playas  \\\n",
       "0                            -0.05164             -0.08003   \n",
       "1                            -0.05164             -0.08003   \n",
       "2                            -0.05164             -0.08003   \n",
       "3                            -0.05164             -0.08003   \n",
       "4                            -0.05164             -0.08003   \n",
       "\n",
       "   num_establec_puertos_deportivos  \\\n",
       "0                         -0.06667   \n",
       "1                         -0.06667   \n",
       "2                         -0.06667   \n",
       "3                         -0.06667   \n",
       "4                         -0.06667   \n",
       "\n",
       "   num_establec_restaurantes_y_empresas_turísticas_de_catering  \\\n",
       "0                                          -0.131645             \n",
       "1                                           0.515486             \n",
       "2                                           0.515486             \n",
       "3                                          -0.131645             \n",
       "4                                          -0.131645             \n",
       "\n",
       "   num_establec_seguridad_ciudadana  num_establec_servicios_de_limpieza  \\\n",
       "0                         -0.100356                           -0.040636   \n",
       "1                         -0.100356                           -0.040636   \n",
       "2                         -0.100356                           -0.040636   \n",
       "3                         -0.100356                           -0.040636   \n",
       "4                         -0.100356                           -0.040636   \n",
       "\n",
       "   num_establec_servicios_turísticos_de_salud  num_establec_taxis  \\\n",
       "0                                   -0.076056           -0.030821   \n",
       "1                                   -0.076056           -0.030821   \n",
       "2                                   -0.076056           -0.030821   \n",
       "3                                   -0.076056           -0.030821   \n",
       "4                                   -0.076056           -0.030821   \n",
       "\n",
       "   num_establec_turismo_industrial  \n",
       "0                        -0.057415  \n",
       "1                        -0.057415  \n",
       "2                        -0.057415  \n",
       "3                        -0.057415  \n",
       "4                        -0.057415  \n",
       "\n",
       "[5 rows x 32 columns]"
      ]
     },
     "execution_count": 252,
     "metadata": {},
     "output_type": "execute_result"
    }
   ],
   "source": [
    "pd.DataFrame(data = x_t, columns = features_turismo).head()"
   ]
  },
  {
   "cell_type": "markdown",
   "metadata": {},
   "source": [
    "### Proyección variables"
   ]
  },
  {
   "cell_type": "code",
   "execution_count": 253,
   "metadata": {},
   "outputs": [],
   "source": [
    "pca_t = PCA(n_components=2)"
   ]
  },
  {
   "cell_type": "code",
   "execution_count": 254,
   "metadata": {},
   "outputs": [],
   "source": [
    "principalComponents_t = pca_t.fit_transform(x_t)"
   ]
  },
  {
   "cell_type": "code",
   "execution_count": 255,
   "metadata": {},
   "outputs": [
    {
     "data": {
      "text/plain": [
       "array([0.26274691, 0.07599214])"
      ]
     },
     "execution_count": 255,
     "metadata": {},
     "output_type": "execute_result"
    }
   ],
   "source": [
    "pca_t.explained_variance_ratio_"
   ]
  },
  {
   "cell_type": "code",
   "execution_count": 256,
   "metadata": {},
   "outputs": [],
   "source": [
    "principalDf_t = pd.DataFrame(data = principalComponents_t\n",
    "             , columns = ['PC1_t', 'PC2_t'])"
   ]
  },
  {
   "cell_type": "code",
   "execution_count": 257,
   "metadata": {},
   "outputs": [
    {
     "data": {
      "text/html": [
       "<div>\n",
       "<style scoped>\n",
       "    .dataframe tbody tr th:only-of-type {\n",
       "        vertical-align: middle;\n",
       "    }\n",
       "\n",
       "    .dataframe tbody tr th {\n",
       "        vertical-align: top;\n",
       "    }\n",
       "\n",
       "    .dataframe thead th {\n",
       "        text-align: right;\n",
       "    }\n",
       "</style>\n",
       "<table border=\"1\" class=\"dataframe\">\n",
       "  <thead>\n",
       "    <tr style=\"text-align: right;\">\n",
       "      <th></th>\n",
       "      <th>PC1_t</th>\n",
       "      <th>PC2_t</th>\n",
       "    </tr>\n",
       "  </thead>\n",
       "  <tbody>\n",
       "    <tr>\n",
       "      <td>0</td>\n",
       "      <td>-0.345004</td>\n",
       "      <td>-0.099934</td>\n",
       "    </tr>\n",
       "    <tr>\n",
       "      <td>1</td>\n",
       "      <td>1.319165</td>\n",
       "      <td>-1.752318</td>\n",
       "    </tr>\n",
       "    <tr>\n",
       "      <td>2</td>\n",
       "      <td>1.426462</td>\n",
       "      <td>-0.087477</td>\n",
       "    </tr>\n",
       "    <tr>\n",
       "      <td>3</td>\n",
       "      <td>0.660243</td>\n",
       "      <td>0.043856</td>\n",
       "    </tr>\n",
       "    <tr>\n",
       "      <td>4</td>\n",
       "      <td>-0.477241</td>\n",
       "      <td>0.160344</td>\n",
       "    </tr>\n",
       "  </tbody>\n",
       "</table>\n",
       "</div>"
      ],
      "text/plain": [
       "      PC1_t     PC2_t\n",
       "0 -0.345004 -0.099934\n",
       "1  1.319165 -1.752318\n",
       "2  1.426462 -0.087477\n",
       "3  0.660243  0.043856\n",
       "4 -0.477241  0.160344"
      ]
     },
     "execution_count": 257,
     "metadata": {},
     "output_type": "execute_result"
    }
   ],
   "source": [
    "principalDf_t.head(5)"
   ]
  },
  {
   "cell_type": "code",
   "execution_count": 258,
   "metadata": {},
   "outputs": [
    {
     "data": {
      "text/html": [
       "<div>\n",
       "<style scoped>\n",
       "    .dataframe tbody tr th:only-of-type {\n",
       "        vertical-align: middle;\n",
       "    }\n",
       "\n",
       "    .dataframe tbody tr th {\n",
       "        vertical-align: top;\n",
       "    }\n",
       "\n",
       "    .dataframe thead th {\n",
       "        text-align: right;\n",
       "    }\n",
       "</style>\n",
       "<table border=\"1\" class=\"dataframe\">\n",
       "  <thead>\n",
       "    <tr style=\"text-align: right;\">\n",
       "      <th></th>\n",
       "      <th>PC1_t</th>\n",
       "      <th>PC2_t</th>\n",
       "      <th>cities_es/province</th>\n",
       "    </tr>\n",
       "  </thead>\n",
       "  <tbody>\n",
       "    <tr>\n",
       "      <td>0</td>\n",
       "      <td>-0.345004</td>\n",
       "      <td>-0.099934</td>\n",
       "      <td>alegria_dulantzi/araba</td>\n",
       "    </tr>\n",
       "    <tr>\n",
       "      <td>1</td>\n",
       "      <td>1.319165</td>\n",
       "      <td>-1.752318</td>\n",
       "      <td>amurrio/araba</td>\n",
       "    </tr>\n",
       "    <tr>\n",
       "      <td>2</td>\n",
       "      <td>1.426462</td>\n",
       "      <td>-0.087477</td>\n",
       "      <td>aramaio/araba</td>\n",
       "    </tr>\n",
       "    <tr>\n",
       "      <td>3</td>\n",
       "      <td>0.660243</td>\n",
       "      <td>0.043856</td>\n",
       "      <td>artziniega/araba</td>\n",
       "    </tr>\n",
       "    <tr>\n",
       "      <td>4</td>\n",
       "      <td>-0.477241</td>\n",
       "      <td>0.160344</td>\n",
       "      <td>arminon/araba</td>\n",
       "    </tr>\n",
       "  </tbody>\n",
       "</table>\n",
       "</div>"
      ],
      "text/plain": [
       "      PC1_t     PC2_t      cities_es/province\n",
       "0 -0.345004 -0.099934  alegria_dulantzi/araba\n",
       "1  1.319165 -1.752318           amurrio/araba\n",
       "2  1.426462 -0.087477           aramaio/araba\n",
       "3  0.660243  0.043856        artziniega/araba\n",
       "4 -0.477241  0.160344           arminon/araba"
      ]
     },
     "execution_count": 258,
     "metadata": {},
     "output_type": "execute_result"
    }
   ],
   "source": [
    "finalDf_t = pd.concat([principalDf_t, union['cities_es/province']], axis = 1)\n",
    "finalDf_t.head(5)"
   ]
  },
  {
   "cell_type": "code",
   "execution_count": 259,
   "metadata": {},
   "outputs": [
    {
     "data": {
      "text/plain": [
       "(6066, 3)"
      ]
     },
     "execution_count": 259,
     "metadata": {},
     "output_type": "execute_result"
    }
   ],
   "source": [
    "finalDf_t.shape"
   ]
  },
  {
   "cell_type": "markdown",
   "metadata": {},
   "source": [
    "# Merge finalDf_PCA"
   ]
  },
  {
   "cell_type": "code",
   "execution_count": 263,
   "metadata": {},
   "outputs": [],
   "source": [
    "union_PCA_e_c = pd.merge(finalDf_e, finalDf_c, left_on='cities_es/province',right_on='cities_es/province', how='inner')"
   ]
  },
  {
   "cell_type": "code",
   "execution_count": 264,
   "metadata": {},
   "outputs": [
    {
     "data": {
      "text/plain": [
       "(6066, 7)"
      ]
     },
     "execution_count": 264,
     "metadata": {},
     "output_type": "execute_result"
    }
   ],
   "source": [
    "union_PCA_e_c.shape"
   ]
  },
  {
   "cell_type": "code",
   "execution_count": 265,
   "metadata": {},
   "outputs": [
    {
     "data": {
      "text/html": [
       "<div>\n",
       "<style scoped>\n",
       "    .dataframe tbody tr th:only-of-type {\n",
       "        vertical-align: middle;\n",
       "    }\n",
       "\n",
       "    .dataframe tbody tr th {\n",
       "        vertical-align: top;\n",
       "    }\n",
       "\n",
       "    .dataframe thead th {\n",
       "        text-align: right;\n",
       "    }\n",
       "</style>\n",
       "<table border=\"1\" class=\"dataframe\">\n",
       "  <thead>\n",
       "    <tr style=\"text-align: right;\">\n",
       "      <th></th>\n",
       "      <th>PC1_e</th>\n",
       "      <th>PC2_e</th>\n",
       "      <th>cities_es/province</th>\n",
       "      <th>PC1_c</th>\n",
       "      <th>PC2_c</th>\n",
       "      <th>PC3_c</th>\n",
       "      <th>PC4_c</th>\n",
       "    </tr>\n",
       "  </thead>\n",
       "  <tbody>\n",
       "    <tr>\n",
       "      <td>0</td>\n",
       "      <td>-0.160765</td>\n",
       "      <td>-0.337149</td>\n",
       "      <td>alegria_dulantzi/araba</td>\n",
       "      <td>0.647078</td>\n",
       "      <td>-1.486068</td>\n",
       "      <td>0.72729</td>\n",
       "      <td>0.232404</td>\n",
       "    </tr>\n",
       "    <tr>\n",
       "      <td>1</td>\n",
       "      <td>-0.160765</td>\n",
       "      <td>-0.337149</td>\n",
       "      <td>amurrio/araba</td>\n",
       "      <td>0.647078</td>\n",
       "      <td>-1.486068</td>\n",
       "      <td>0.72729</td>\n",
       "      <td>0.232404</td>\n",
       "    </tr>\n",
       "    <tr>\n",
       "      <td>2</td>\n",
       "      <td>-0.160765</td>\n",
       "      <td>-0.337149</td>\n",
       "      <td>aramaio/araba</td>\n",
       "      <td>0.647078</td>\n",
       "      <td>-1.486068</td>\n",
       "      <td>0.72729</td>\n",
       "      <td>0.232404</td>\n",
       "    </tr>\n",
       "    <tr>\n",
       "      <td>3</td>\n",
       "      <td>-0.160765</td>\n",
       "      <td>-0.337149</td>\n",
       "      <td>artziniega/araba</td>\n",
       "      <td>0.647078</td>\n",
       "      <td>-1.486068</td>\n",
       "      <td>0.72729</td>\n",
       "      <td>0.232404</td>\n",
       "    </tr>\n",
       "    <tr>\n",
       "      <td>4</td>\n",
       "      <td>-0.160765</td>\n",
       "      <td>-0.337149</td>\n",
       "      <td>arminon/araba</td>\n",
       "      <td>0.647078</td>\n",
       "      <td>-1.486068</td>\n",
       "      <td>0.72729</td>\n",
       "      <td>0.232404</td>\n",
       "    </tr>\n",
       "    <tr>\n",
       "      <td>5</td>\n",
       "      <td>-0.160765</td>\n",
       "      <td>-0.337149</td>\n",
       "      <td>arratzua_ubarrundia/araba</td>\n",
       "      <td>0.647078</td>\n",
       "      <td>-1.486068</td>\n",
       "      <td>0.72729</td>\n",
       "      <td>0.232404</td>\n",
       "    </tr>\n",
       "    <tr>\n",
       "      <td>6</td>\n",
       "      <td>-0.160765</td>\n",
       "      <td>-0.337149</td>\n",
       "      <td>asparrena/araba</td>\n",
       "      <td>0.647078</td>\n",
       "      <td>-1.486068</td>\n",
       "      <td>0.72729</td>\n",
       "      <td>0.232404</td>\n",
       "    </tr>\n",
       "    <tr>\n",
       "      <td>7</td>\n",
       "      <td>-0.160765</td>\n",
       "      <td>-0.337149</td>\n",
       "      <td>ayala/araba</td>\n",
       "      <td>0.647078</td>\n",
       "      <td>-1.486068</td>\n",
       "      <td>0.72729</td>\n",
       "      <td>0.232404</td>\n",
       "    </tr>\n",
       "    <tr>\n",
       "      <td>8</td>\n",
       "      <td>-0.160765</td>\n",
       "      <td>-0.337149</td>\n",
       "      <td>banos_de_ebro/araba</td>\n",
       "      <td>0.647078</td>\n",
       "      <td>-1.486068</td>\n",
       "      <td>0.72729</td>\n",
       "      <td>0.232404</td>\n",
       "    </tr>\n",
       "    <tr>\n",
       "      <td>9</td>\n",
       "      <td>-0.160765</td>\n",
       "      <td>-0.337149</td>\n",
       "      <td>barrundia/araba</td>\n",
       "      <td>0.647078</td>\n",
       "      <td>-1.486068</td>\n",
       "      <td>0.72729</td>\n",
       "      <td>0.232404</td>\n",
       "    </tr>\n",
       "  </tbody>\n",
       "</table>\n",
       "</div>"
      ],
      "text/plain": [
       "      PC1_e     PC2_e         cities_es/province     PC1_c     PC2_c    PC3_c  \\\n",
       "0 -0.160765 -0.337149     alegria_dulantzi/araba  0.647078 -1.486068  0.72729   \n",
       "1 -0.160765 -0.337149              amurrio/araba  0.647078 -1.486068  0.72729   \n",
       "2 -0.160765 -0.337149              aramaio/araba  0.647078 -1.486068  0.72729   \n",
       "3 -0.160765 -0.337149           artziniega/araba  0.647078 -1.486068  0.72729   \n",
       "4 -0.160765 -0.337149              arminon/araba  0.647078 -1.486068  0.72729   \n",
       "5 -0.160765 -0.337149  arratzua_ubarrundia/araba  0.647078 -1.486068  0.72729   \n",
       "6 -0.160765 -0.337149            asparrena/araba  0.647078 -1.486068  0.72729   \n",
       "7 -0.160765 -0.337149                ayala/araba  0.647078 -1.486068  0.72729   \n",
       "8 -0.160765 -0.337149        banos_de_ebro/araba  0.647078 -1.486068  0.72729   \n",
       "9 -0.160765 -0.337149            barrundia/araba  0.647078 -1.486068  0.72729   \n",
       "\n",
       "      PC4_c  \n",
       "0  0.232404  \n",
       "1  0.232404  \n",
       "2  0.232404  \n",
       "3  0.232404  \n",
       "4  0.232404  \n",
       "5  0.232404  \n",
       "6  0.232404  \n",
       "7  0.232404  \n",
       "8  0.232404  \n",
       "9  0.232404  "
      ]
     },
     "execution_count": 265,
     "metadata": {},
     "output_type": "execute_result"
    }
   ],
   "source": [
    "union_PCA_e_c.head(10)"
   ]
  },
  {
   "cell_type": "code",
   "execution_count": 266,
   "metadata": {},
   "outputs": [
    {
     "data": {
      "text/plain": [
       "PC1_e                 0\n",
       "PC2_e                 0\n",
       "cities_es/province    0\n",
       "PC1_c                 0\n",
       "PC2_c                 0\n",
       "PC3_c                 0\n",
       "PC4_c                 0\n",
       "dtype: int64"
      ]
     },
     "execution_count": 266,
     "metadata": {},
     "output_type": "execute_result"
    }
   ],
   "source": [
    "union_PCA_e_c.isnull().sum()"
   ]
  },
  {
   "cell_type": "code",
   "execution_count": 267,
   "metadata": {},
   "outputs": [],
   "source": [
    "union_PCA_ec_d = pd.merge(union_PCA_e_c, finalDf_d, left_on='cities_es/province',right_on='cities_es/province', how='inner')"
   ]
  },
  {
   "cell_type": "code",
   "execution_count": 268,
   "metadata": {},
   "outputs": [
    {
     "data": {
      "text/plain": [
       "(6066, 9)"
      ]
     },
     "execution_count": 268,
     "metadata": {},
     "output_type": "execute_result"
    }
   ],
   "source": [
    "union_PCA_ec_d.shape"
   ]
  },
  {
   "cell_type": "code",
   "execution_count": 269,
   "metadata": {},
   "outputs": [
    {
     "data": {
      "text/plain": [
       "PC1_e                 0\n",
       "PC2_e                 0\n",
       "cities_es/province    0\n",
       "PC1_c                 0\n",
       "PC2_c                 0\n",
       "PC3_c                 0\n",
       "PC4_c                 0\n",
       "PC1_d                 0\n",
       "PC2_d                 0\n",
       "dtype: int64"
      ]
     },
     "execution_count": 269,
     "metadata": {},
     "output_type": "execute_result"
    }
   ],
   "source": [
    "union_PCA_ec_d.isnull().sum()"
   ]
  },
  {
   "cell_type": "code",
   "execution_count": 270,
   "metadata": {},
   "outputs": [],
   "source": [
    "union_PCA_ecd_g = pd.merge(union_PCA_ec_d, finalDf_g, left_on='cities_es/province',right_on='cities_es/province', how='inner')"
   ]
  },
  {
   "cell_type": "code",
   "execution_count": 271,
   "metadata": {},
   "outputs": [
    {
     "data": {
      "text/plain": [
       "(6066, 12)"
      ]
     },
     "execution_count": 271,
     "metadata": {},
     "output_type": "execute_result"
    }
   ],
   "source": [
    "union_PCA_ecd_g.shape"
   ]
  },
  {
   "cell_type": "code",
   "execution_count": 272,
   "metadata": {},
   "outputs": [
    {
     "data": {
      "text/plain": [
       "PC1_e                 0\n",
       "PC2_e                 0\n",
       "cities_es/province    0\n",
       "PC1_c                 0\n",
       "PC2_c                 0\n",
       "PC3_c                 0\n",
       "PC4_c                 0\n",
       "PC1_d                 0\n",
       "PC2_d                 0\n",
       "PC1_g                 0\n",
       "PC2_g                 0\n",
       "PC3_g                 0\n",
       "dtype: int64"
      ]
     },
     "execution_count": 272,
     "metadata": {},
     "output_type": "execute_result"
    }
   ],
   "source": [
    "union_PCA_ecd_g.isnull().sum()"
   ]
  },
  {
   "cell_type": "code",
   "execution_count": 273,
   "metadata": {},
   "outputs": [],
   "source": [
    "union_PCA_ecdg_r = pd.merge(union_PCA_ecd_g, finalDf_r, left_on='cities_es/province',right_on='cities_es/province', how='inner')"
   ]
  },
  {
   "cell_type": "code",
   "execution_count": 274,
   "metadata": {},
   "outputs": [
    {
     "data": {
      "text/plain": [
       "(6066, 15)"
      ]
     },
     "execution_count": 274,
     "metadata": {},
     "output_type": "execute_result"
    }
   ],
   "source": [
    "union_PCA_ecdg_r.shape"
   ]
  },
  {
   "cell_type": "code",
   "execution_count": 275,
   "metadata": {},
   "outputs": [
    {
     "data": {
      "text/plain": [
       "PC1_e                 0\n",
       "PC2_e                 0\n",
       "cities_es/province    0\n",
       "PC1_c                 0\n",
       "PC2_c                 0\n",
       "PC3_c                 0\n",
       "PC4_c                 0\n",
       "PC1_d                 0\n",
       "PC2_d                 0\n",
       "PC1_g                 0\n",
       "PC2_g                 0\n",
       "PC3_g                 0\n",
       "PC1_r                 0\n",
       "PC2_r                 0\n",
       "PC3_r                 0\n",
       "dtype: int64"
      ]
     },
     "execution_count": 275,
     "metadata": {},
     "output_type": "execute_result"
    }
   ],
   "source": [
    "union_PCA_ecdg_r.isnull().sum()"
   ]
  },
  {
   "cell_type": "code",
   "execution_count": 276,
   "metadata": {},
   "outputs": [],
   "source": [
    "union_PCA_ecdgr_tr = pd.merge(union_PCA_ecdg_r, finalDf_tr, left_on='cities_es/province',right_on='cities_es/province', how='inner')"
   ]
  },
  {
   "cell_type": "code",
   "execution_count": 277,
   "metadata": {},
   "outputs": [
    {
     "data": {
      "text/plain": [
       "(6066, 17)"
      ]
     },
     "execution_count": 277,
     "metadata": {},
     "output_type": "execute_result"
    }
   ],
   "source": [
    "union_PCA_ecdgr_tr.shape"
   ]
  },
  {
   "cell_type": "code",
   "execution_count": 278,
   "metadata": {},
   "outputs": [
    {
     "data": {
      "text/plain": [
       "PC1_e                 0\n",
       "PC2_e                 0\n",
       "cities_es/province    0\n",
       "PC1_c                 0\n",
       "PC2_c                 0\n",
       "PC3_c                 0\n",
       "PC4_c                 0\n",
       "PC1_d                 0\n",
       "PC2_d                 0\n",
       "PC1_g                 0\n",
       "PC2_g                 0\n",
       "PC3_g                 0\n",
       "PC1_r                 0\n",
       "PC2_r                 0\n",
       "PC3_r                 0\n",
       "PC1_tr                0\n",
       "PC2_tr                0\n",
       "dtype: int64"
      ]
     },
     "execution_count": 278,
     "metadata": {},
     "output_type": "execute_result"
    }
   ],
   "source": [
    "union_PCA_ecdgr_tr.isnull().sum()"
   ]
  },
  {
   "cell_type": "code",
   "execution_count": 279,
   "metadata": {},
   "outputs": [],
   "source": [
    "union_PCA_total = pd.merge(union_PCA_ecdgr_tr, finalDf_t, left_on='cities_es/province',right_on='cities_es/province', how='inner')"
   ]
  },
  {
   "cell_type": "code",
   "execution_count": 280,
   "metadata": {},
   "outputs": [
    {
     "data": {
      "text/plain": [
       "(6066, 19)"
      ]
     },
     "execution_count": 280,
     "metadata": {},
     "output_type": "execute_result"
    }
   ],
   "source": [
    "union_PCA_total.shape"
   ]
  },
  {
   "cell_type": "code",
   "execution_count": 281,
   "metadata": {},
   "outputs": [
    {
     "data": {
      "text/plain": [
       "PC1_e                 0\n",
       "PC2_e                 0\n",
       "cities_es/province    0\n",
       "PC1_c                 0\n",
       "PC2_c                 0\n",
       "PC3_c                 0\n",
       "PC4_c                 0\n",
       "PC1_d                 0\n",
       "PC2_d                 0\n",
       "PC1_g                 0\n",
       "PC2_g                 0\n",
       "PC3_g                 0\n",
       "PC1_r                 0\n",
       "PC2_r                 0\n",
       "PC3_r                 0\n",
       "PC1_tr                0\n",
       "PC2_tr                0\n",
       "PC1_t                 0\n",
       "PC2_t                 0\n",
       "dtype: int64"
      ]
     },
     "execution_count": 281,
     "metadata": {},
     "output_type": "execute_result"
    }
   ],
   "source": [
    "union_PCA_total.isnull().sum()"
   ]
  },
  {
   "cell_type": "markdown",
   "metadata": {},
   "source": [
    "# Exportacion fichero PCA final"
   ]
  },
  {
   "cell_type": "code",
   "execution_count": 282,
   "metadata": {},
   "outputs": [],
   "source": [
    "union_PCA_total.to_csv('union_PCA_total.csv')"
   ]
  },
  {
   "cell_type": "code",
   "execution_count": null,
   "metadata": {},
   "outputs": [],
   "source": []
  }
 ],
 "metadata": {
  "kernelspec": {
   "display_name": "Python 3",
   "language": "python",
   "name": "python3"
  },
  "language_info": {
   "codemirror_mode": {
    "name": "ipython",
    "version": 3
   },
   "file_extension": ".py",
   "mimetype": "text/x-python",
   "name": "python",
   "nbconvert_exporter": "python",
   "pygments_lexer": "ipython3",
   "version": "3.7.4"
  }
 },
 "nbformat": 4,
 "nbformat_minor": 2
}
