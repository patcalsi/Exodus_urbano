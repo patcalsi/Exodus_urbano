{
 "cells": [
  {
   "cell_type": "code",
   "execution_count": 1,
   "metadata": {},
   "outputs": [],
   "source": [
    "import pandas as pd\n",
    "import matplotlib.pyplot as plt\n",
    "import numpy as np\n",
    "import re\n",
    "import unidecode\n",
    "import os"
   ]
  },
  {
   "cell_type": "markdown",
   "metadata": {},
   "source": [
    "#### Funciones"
   ]
  },
  {
   "cell_type": "code",
   "execution_count": 2,
   "metadata": {},
   "outputs": [],
   "source": [
    "def doClean(text):   \n",
    "    \n",
    "    # Quitar las expresiones tras la barra /\n",
    "    a = re.sub('\\/.*', '', text)\n",
    "    # Quitar las aclaraciones entre paréntesis\n",
    "    a = re.sub('\\(.*\\)', '', a)\n",
    "    # Quitar acentos \n",
    "    a = unidecode.unidecode(a)\n",
    "    # Quitar aquello que no sean palabras o cosa que se le parezca\n",
    "    a = re.sub('\\W', ' ', a) \n",
    "    # Quitar espacios extra en caso de haber\n",
    "    a = re.sub('\\s+', ' ', a)\n",
    "    # Pasar el texto a minúsulas\n",
    "    a = a.lower() \n",
    "    # Quitar espacio izq\n",
    "    a = a.lstrip()\n",
    "    # Quitar espacio derecha\n",
    "    a = a.rstrip()\n",
    "    a = re.sub(' ', '_', a)\n",
    "    \n",
    "    return a"
   ]
  },
  {
   "cell_type": "markdown",
   "metadata": {},
   "source": [
    "#### Carga de ficheros"
   ]
  },
  {
   "cell_type": "code",
   "execution_count": 3,
   "metadata": {},
   "outputs": [
    {
     "data": {
      "text/plain": [
       "'/home/patcalsi/projects/Exodus_urbano/data/patri'"
      ]
     },
     "execution_count": 3,
     "metadata": {},
     "output_type": "execute_result"
    }
   ],
   "source": [
    "os.getcwd()"
   ]
  },
  {
   "cell_type": "code",
   "execution_count": 4,
   "metadata": {},
   "outputs": [],
   "source": [
    "usos_suelo = pd.read_csv(\"sociedad_usos_suelo_2019.csv\", sep=';')"
   ]
  },
  {
   "cell_type": "code",
   "execution_count": 5,
   "metadata": {
    "scrolled": true
   },
   "outputs": [
    {
     "data": {
      "text/html": [
       "<div>\n",
       "<style scoped>\n",
       "    .dataframe tbody tr th:only-of-type {\n",
       "        vertical-align: middle;\n",
       "    }\n",
       "\n",
       "    .dataframe tbody tr th {\n",
       "        vertical-align: top;\n",
       "    }\n",
       "\n",
       "    .dataframe thead th {\n",
       "        text-align: right;\n",
       "    }\n",
       "</style>\n",
       "<table border=\"1\" class=\"dataframe\">\n",
       "  <thead>\n",
       "    <tr style=\"text-align: right;\">\n",
       "      <th></th>\n",
       "      <th>AREF</th>\n",
       "      <th>C_INE</th>\n",
       "      <th>C_COMUNI</th>\n",
       "      <th>CODI</th>\n",
       "      <th>CCAA_C_COMUNI</th>\n",
       "      <th>NOM_COMUNI</th>\n",
       "      <th>C_PROVIN</th>\n",
       "      <th>PROVINCIA</th>\n",
       "      <th>CODIGOYNOMBREPROV</th>\n",
       "      <th>C_TIPOFICH</th>\n",
       "      <th>...</th>\n",
       "      <th>UU_SINGULAR</th>\n",
       "      <th>V_CAT_SINGULAR</th>\n",
       "      <th>UU_RELIGIOSO</th>\n",
       "      <th>V_CAT_RELIGIOSO</th>\n",
       "      <th>UU_ESPECTACULOS</th>\n",
       "      <th>V_CAT_ESPECTACULOS</th>\n",
       "      <th>UU_RES</th>\n",
       "      <th>V_CAT_RES</th>\n",
       "      <th>UU_SANIDAD</th>\n",
       "      <th>V_CAT_SANIDAD</th>\n",
       "    </tr>\n",
       "  </thead>\n",
       "  <tbody>\n",
       "    <tr>\n",
       "      <th>0</th>\n",
       "      <td>2019</td>\n",
       "      <td>2001</td>\n",
       "      <td>6</td>\n",
       "      <td>22001</td>\n",
       "      <td>8</td>\n",
       "      <td>Castilla - La Mancha</td>\n",
       "      <td>2</td>\n",
       "      <td>Albacete</td>\n",
       "      <td>02 Albacete</td>\n",
       "      <td>0</td>\n",
       "      <td>...</td>\n",
       "      <td>2</td>\n",
       "      <td>519,581</td>\n",
       "      <td>1</td>\n",
       "      <td>73,320</td>\n",
       "      <td>0</td>\n",
       "      <td>0</td>\n",
       "      <td>482</td>\n",
       "      <td>14,496,564</td>\n",
       "      <td>1</td>\n",
       "      <td>576,497</td>\n",
       "    </tr>\n",
       "    <tr>\n",
       "      <th>1</th>\n",
       "      <td>2019</td>\n",
       "      <td>2002</td>\n",
       "      <td>6</td>\n",
       "      <td>22002</td>\n",
       "      <td>8</td>\n",
       "      <td>Castilla - La Mancha</td>\n",
       "      <td>2</td>\n",
       "      <td>Albacete</td>\n",
       "      <td>02 Albacete</td>\n",
       "      <td>0</td>\n",
       "      <td>...</td>\n",
       "      <td>2</td>\n",
       "      <td>500,208</td>\n",
       "      <td>2</td>\n",
       "      <td>79,018</td>\n",
       "      <td>0</td>\n",
       "      <td>0</td>\n",
       "      <td>574</td>\n",
       "      <td>17,234,864</td>\n",
       "      <td>1</td>\n",
       "      <td>15,481</td>\n",
       "    </tr>\n",
       "    <tr>\n",
       "      <th>2</th>\n",
       "      <td>2019</td>\n",
       "      <td>2003</td>\n",
       "      <td>6</td>\n",
       "      <td>22900</td>\n",
       "      <td>8</td>\n",
       "      <td>Castilla - La Mancha</td>\n",
       "      <td>2</td>\n",
       "      <td>Albacete</td>\n",
       "      <td>02 Albacete</td>\n",
       "      <td>0</td>\n",
       "      <td>...</td>\n",
       "      <td>42</td>\n",
       "      <td>108,514,522</td>\n",
       "      <td>56</td>\n",
       "      <td>22,438,466</td>\n",
       "      <td>9</td>\n",
       "      <td>18,213,307</td>\n",
       "      <td>85,498</td>\n",
       "      <td>6,103,101,797</td>\n",
       "      <td>178</td>\n",
       "      <td>238,226,066</td>\n",
       "    </tr>\n",
       "    <tr>\n",
       "      <th>3</th>\n",
       "      <td>2019</td>\n",
       "      <td>2004</td>\n",
       "      <td>6</td>\n",
       "      <td>22004</td>\n",
       "      <td>8</td>\n",
       "      <td>Castilla - La Mancha</td>\n",
       "      <td>2</td>\n",
       "      <td>Albacete</td>\n",
       "      <td>02 Albacete</td>\n",
       "      <td>0</td>\n",
       "      <td>...</td>\n",
       "      <td>1</td>\n",
       "      <td>57,576</td>\n",
       "      <td>1</td>\n",
       "      <td>14,448</td>\n",
       "      <td>1</td>\n",
       "      <td>36,856</td>\n",
       "      <td>495</td>\n",
       "      <td>9,829,783</td>\n",
       "      <td>0</td>\n",
       "      <td>0</td>\n",
       "    </tr>\n",
       "    <tr>\n",
       "      <th>4</th>\n",
       "      <td>2019</td>\n",
       "      <td>2005</td>\n",
       "      <td>6</td>\n",
       "      <td>22005</td>\n",
       "      <td>8</td>\n",
       "      <td>Castilla - La Mancha</td>\n",
       "      <td>2</td>\n",
       "      <td>Albacete</td>\n",
       "      <td>02 Albacete</td>\n",
       "      <td>0</td>\n",
       "      <td>...</td>\n",
       "      <td>1</td>\n",
       "      <td>80,860</td>\n",
       "      <td>1</td>\n",
       "      <td>100,419</td>\n",
       "      <td>0</td>\n",
       "      <td>0</td>\n",
       "      <td>726</td>\n",
       "      <td>23,307,520</td>\n",
       "      <td>1</td>\n",
       "      <td>38,248</td>\n",
       "    </tr>\n",
       "  </tbody>\n",
       "</table>\n",
       "<p>5 rows × 44 columns</p>\n",
       "</div>"
      ],
      "text/plain": [
       "   AREF  C_INE  C_COMUNI   CODI  CCAA_C_COMUNI            NOM_COMUNI  \\\n",
       "0  2019   2001         6  22001              8  Castilla - La Mancha   \n",
       "1  2019   2002         6  22002              8  Castilla - La Mancha   \n",
       "2  2019   2003         6  22900              8  Castilla - La Mancha   \n",
       "3  2019   2004         6  22004              8  Castilla - La Mancha   \n",
       "4  2019   2005         6  22005              8  Castilla - La Mancha   \n",
       "\n",
       "   C_PROVIN PROVINCIA CODIGOYNOMBREPROV  C_TIPOFICH  ... UU_SINGULAR  \\\n",
       "0         2  Albacete       02 Albacete           0  ...           2   \n",
       "1         2  Albacete       02 Albacete           0  ...           2   \n",
       "2         2  Albacete       02 Albacete           0  ...          42   \n",
       "3         2  Albacete       02 Albacete           0  ...           1   \n",
       "4         2  Albacete       02 Albacete           0  ...           1   \n",
       "\n",
       "  V_CAT_SINGULAR UU_RELIGIOSO V_CAT_RELIGIOSO UU_ESPECTACULOS  \\\n",
       "0        519,581            1          73,320               0   \n",
       "1        500,208            2          79,018               0   \n",
       "2    108,514,522           56      22,438,466               9   \n",
       "3         57,576            1          14,448               1   \n",
       "4         80,860            1         100,419               0   \n",
       "\n",
       "  V_CAT_ESPECTACULOS  UU_RES      V_CAT_RES UU_SANIDAD V_CAT_SANIDAD  \n",
       "0                  0     482     14,496,564          1       576,497  \n",
       "1                  0     574     17,234,864          1        15,481  \n",
       "2         18,213,307  85,498  6,103,101,797        178   238,226,066  \n",
       "3             36,856     495      9,829,783          0             0  \n",
       "4                  0     726     23,307,520          1        38,248  \n",
       "\n",
       "[5 rows x 44 columns]"
      ]
     },
     "execution_count": 5,
     "metadata": {},
     "output_type": "execute_result"
    }
   ],
   "source": [
    "usos_suelo.head(5)"
   ]
  },
  {
   "cell_type": "code",
   "execution_count": 6,
   "metadata": {
    "scrolled": true
   },
   "outputs": [
    {
     "name": "stdout",
     "output_type": "stream",
     "text": [
      "<class 'pandas.core.frame.DataFrame'>\n",
      "RangeIndex: 7610 entries, 0 to 7609\n",
      "Data columns (total 44 columns):\n",
      " #   Column              Non-Null Count  Dtype \n",
      "---  ------              --------------  ----- \n",
      " 0   AREF                7610 non-null   int64 \n",
      " 1   C_INE               7610 non-null   int64 \n",
      " 2   C_COMUNI            7610 non-null   int64 \n",
      " 3   CODI                7610 non-null   int64 \n",
      " 4   CCAA_C_COMUNI       7610 non-null   int64 \n",
      " 5   NOM_COMUNI          7610 non-null   object\n",
      " 6   C_PROVIN            7610 non-null   int64 \n",
      " 7   PROVINCIA           7610 non-null   object\n",
      " 8   CODIGOYNOMBREPROV   7610 non-null   object\n",
      " 9   C_TIPOFICH          7610 non-null   int64 \n",
      " 10  MUNINENOMBRE        7610 non-null   object\n",
      " 11  ULT_REVISION        7610 non-null   object\n",
      " 12  UURBANAS            7610 non-null   object\n",
      " 13  V_CATASTRAL         7610 non-null   object\n",
      " 14  V_CONSTRUCCION      7610 non-null   object\n",
      " 15  V_SUELO             7610 non-null   object\n",
      " 16  SUPERF_URB          7610 non-null   object\n",
      " 17  PARCELAS_URB        7610 non-null   object\n",
      " 18  UU_ALMACEN          7610 non-null   object\n",
      " 19  V_CAT_ALMACEN       7610 non-null   object\n",
      " 20  UU_COMERCIAL        7610 non-null   object\n",
      " 21  V_CAT_COMERCIAL     7610 non-null   object\n",
      " 22  UU_CULTURAL         7610 non-null   object\n",
      " 23  V_CAT_CULTURAL      7610 non-null   object\n",
      " 24  UU_HOSTELERIA       7610 non-null   object\n",
      " 25  V_CAT_HOSTELERIA    7610 non-null   object\n",
      " 26  UU_INDUSTRIAL       7610 non-null   object\n",
      " 27  V_CAT_INDUSTRIAL    7610 non-null   object\n",
      " 28  UU_DEPORTIVO        7610 non-null   object\n",
      " 29  V_CAT_DEPORTIVO     7610 non-null   object\n",
      " 30  UU_SOLAR            7610 non-null   object\n",
      " 31  V_CAT_SOLAR         7610 non-null   object\n",
      " 32  UU_OFICINAS         7610 non-null   object\n",
      " 33  V_CAT_OFICINAS      7610 non-null   object\n",
      " 34  UU_SINGULAR         7610 non-null   int64 \n",
      " 35  V_CAT_SINGULAR      7610 non-null   object\n",
      " 36  UU_RELIGIOSO        7610 non-null   int64 \n",
      " 37  V_CAT_RELIGIOSO     7610 non-null   object\n",
      " 38  UU_ESPECTACULOS     7610 non-null   int64 \n",
      " 39  V_CAT_ESPECTACULOS  7610 non-null   object\n",
      " 40  UU_RES              7610 non-null   object\n",
      " 41  V_CAT_RES           7610 non-null   object\n",
      " 42  UU_SANIDAD          7610 non-null   object\n",
      " 43  V_CAT_SANIDAD       7610 non-null   object\n",
      "dtypes: int64(10), object(34)\n",
      "memory usage: 2.6+ MB\n"
     ]
    }
   ],
   "source": [
    "usos_suelo.info()"
   ]
  },
  {
   "cell_type": "code",
   "execution_count": 7,
   "metadata": {
    "scrolled": false
   },
   "outputs": [
    {
     "data": {
      "text/html": [
       "<div>\n",
       "<style scoped>\n",
       "    .dataframe tbody tr th:only-of-type {\n",
       "        vertical-align: middle;\n",
       "    }\n",
       "\n",
       "    .dataframe tbody tr th {\n",
       "        vertical-align: top;\n",
       "    }\n",
       "\n",
       "    .dataframe thead th {\n",
       "        text-align: right;\n",
       "    }\n",
       "</style>\n",
       "<table border=\"1\" class=\"dataframe\">\n",
       "  <thead>\n",
       "    <tr style=\"text-align: right;\">\n",
       "      <th></th>\n",
       "      <th>AREF</th>\n",
       "      <th>C_INE</th>\n",
       "      <th>C_COMUNI</th>\n",
       "      <th>CODI</th>\n",
       "      <th>CCAA_C_COMUNI</th>\n",
       "      <th>NOM_COMUNI</th>\n",
       "      <th>C_PROVIN</th>\n",
       "      <th>PROVINCIA</th>\n",
       "      <th>CODIGOYNOMBREPROV</th>\n",
       "      <th>C_TIPOFICH</th>\n",
       "      <th>...</th>\n",
       "      <th>UU_SINGULAR</th>\n",
       "      <th>V_CAT_SINGULAR</th>\n",
       "      <th>UU_RELIGIOSO</th>\n",
       "      <th>V_CAT_RELIGIOSO</th>\n",
       "      <th>UU_ESPECTACULOS</th>\n",
       "      <th>V_CAT_ESPECTACULOS</th>\n",
       "      <th>UU_RES</th>\n",
       "      <th>V_CAT_RES</th>\n",
       "      <th>UU_SANIDAD</th>\n",
       "      <th>V_CAT_SANIDAD</th>\n",
       "    </tr>\n",
       "  </thead>\n",
       "  <tbody>\n",
       "  </tbody>\n",
       "</table>\n",
       "<p>0 rows × 44 columns</p>\n",
       "</div>"
      ],
      "text/plain": [
       "Empty DataFrame\n",
       "Columns: [AREF, C_INE, C_COMUNI, CODI, CCAA_C_COMUNI, NOM_COMUNI, C_PROVIN, PROVINCIA, CODIGOYNOMBREPROV, C_TIPOFICH, MUNINENOMBRE, ULT_REVISION, UURBANAS, V_CATASTRAL, V_CONSTRUCCION, V_SUELO, SUPERF_URB, PARCELAS_URB, UU_ALMACEN, V_CAT_ALMACEN, UU_COMERCIAL, V_CAT_COMERCIAL, UU_CULTURAL, V_CAT_CULTURAL, UU_HOSTELERIA, V_CAT_HOSTELERIA, UU_INDUSTRIAL, V_CAT_INDUSTRIAL, UU_DEPORTIVO, V_CAT_DEPORTIVO, UU_SOLAR, V_CAT_SOLAR, UU_OFICINAS, V_CAT_OFICINAS, UU_SINGULAR, V_CAT_SINGULAR, UU_RELIGIOSO, V_CAT_RELIGIOSO, UU_ESPECTACULOS, V_CAT_ESPECTACULOS, UU_RES, V_CAT_RES, UU_SANIDAD, V_CAT_SANIDAD]\n",
       "Index: []\n",
       "\n",
       "[0 rows x 44 columns]"
      ]
     },
     "execution_count": 7,
     "metadata": {},
     "output_type": "execute_result"
    }
   ],
   "source": [
    "usos_suelo[usos_suelo['CODI']==12410]"
   ]
  },
  {
   "cell_type": "code",
   "execution_count": 8,
   "metadata": {},
   "outputs": [
    {
     "data": {
      "text/html": [
       "<div>\n",
       "<style scoped>\n",
       "    .dataframe tbody tr th:only-of-type {\n",
       "        vertical-align: middle;\n",
       "    }\n",
       "\n",
       "    .dataframe tbody tr th {\n",
       "        vertical-align: top;\n",
       "    }\n",
       "\n",
       "    .dataframe thead th {\n",
       "        text-align: right;\n",
       "    }\n",
       "</style>\n",
       "<table border=\"1\" class=\"dataframe\">\n",
       "  <thead>\n",
       "    <tr style=\"text-align: right;\">\n",
       "      <th></th>\n",
       "      <th>AREF</th>\n",
       "      <th>C_INE</th>\n",
       "      <th>C_COMUNI</th>\n",
       "      <th>CODI</th>\n",
       "      <th>CCAA_C_COMUNI</th>\n",
       "      <th>NOM_COMUNI</th>\n",
       "      <th>C_PROVIN</th>\n",
       "      <th>PROVINCIA</th>\n",
       "      <th>CODIGOYNOMBREPROV</th>\n",
       "      <th>C_TIPOFICH</th>\n",
       "      <th>...</th>\n",
       "      <th>UU_SINGULAR</th>\n",
       "      <th>V_CAT_SINGULAR</th>\n",
       "      <th>UU_RELIGIOSO</th>\n",
       "      <th>V_CAT_RELIGIOSO</th>\n",
       "      <th>UU_ESPECTACULOS</th>\n",
       "      <th>V_CAT_ESPECTACULOS</th>\n",
       "      <th>UU_RES</th>\n",
       "      <th>V_CAT_RES</th>\n",
       "      <th>UU_SANIDAD</th>\n",
       "      <th>V_CAT_SANIDAD</th>\n",
       "    </tr>\n",
       "  </thead>\n",
       "  <tbody>\n",
       "    <tr>\n",
       "      <th>1772</th>\n",
       "      <td>2019</td>\n",
       "      <td>12012</td>\n",
       "      <td>15</td>\n",
       "      <td>122012</td>\n",
       "      <td>10</td>\n",
       "      <td>Comunidad Valenciana</td>\n",
       "      <td>12</td>\n",
       "      <td>Castellón</td>\n",
       "      <td>12 Castellón</td>\n",
       "      <td>0</td>\n",
       "      <td>...</td>\n",
       "      <td>3</td>\n",
       "      <td>756,965</td>\n",
       "      <td>2</td>\n",
       "      <td>159,087</td>\n",
       "      <td>1</td>\n",
       "      <td>75,667</td>\n",
       "      <td>2,720</td>\n",
       "      <td>97,624,338</td>\n",
       "      <td>2</td>\n",
       "      <td>529,644</td>\n",
       "    </tr>\n",
       "  </tbody>\n",
       "</table>\n",
       "<p>1 rows × 44 columns</p>\n",
       "</div>"
      ],
      "text/plain": [
       "      AREF  C_INE  C_COMUNI    CODI  CCAA_C_COMUNI            NOM_COMUNI  \\\n",
       "1772  2019  12012        15  122012             10  Comunidad Valenciana   \n",
       "\n",
       "      C_PROVIN  PROVINCIA CODIGOYNOMBREPROV  C_TIPOFICH  ... UU_SINGULAR  \\\n",
       "1772        12  Castellón      12 Castellón           0  ...           3   \n",
       "\n",
       "     V_CAT_SINGULAR UU_RELIGIOSO V_CAT_RELIGIOSO UU_ESPECTACULOS  \\\n",
       "1772        756,965            2         159,087               1   \n",
       "\n",
       "     V_CAT_ESPECTACULOS UU_RES   V_CAT_RES UU_SANIDAD V_CAT_SANIDAD  \n",
       "1772             75,667  2,720  97,624,338          2       529,644  \n",
       "\n",
       "[1 rows x 44 columns]"
      ]
     },
     "execution_count": 8,
     "metadata": {},
     "output_type": "execute_result"
    }
   ],
   "source": [
    "usos_suelo[usos_suelo['MUNINENOMBRE']=='Altura']"
   ]
  },
  {
   "cell_type": "code",
   "execution_count": 9,
   "metadata": {},
   "outputs": [],
   "source": [
    "# no hay codigo postal"
   ]
  },
  {
   "cell_type": "code",
   "execution_count": 10,
   "metadata": {},
   "outputs": [],
   "source": [
    "usos_suelo['municipio_limpio'] = usos_suelo['MUNINENOMBRE'].apply(doClean)"
   ]
  },
  {
   "cell_type": "code",
   "execution_count": 11,
   "metadata": {},
   "outputs": [],
   "source": [
    "usos_suelo['provincia'] = usos_suelo['PROVINCIA'].apply(doClean)"
   ]
  },
  {
   "cell_type": "markdown",
   "metadata": {},
   "source": [
    "##### Seleccion de campos"
   ]
  },
  {
   "cell_type": "code",
   "execution_count": 12,
   "metadata": {},
   "outputs": [],
   "source": [
    "usos_suelo['superficie_urbana'] = usos_suelo['SUPERF_URB']"
   ]
  },
  {
   "cell_type": "code",
   "execution_count": 13,
   "metadata": {},
   "outputs": [],
   "source": [
    "usos_suelo['uds_almacen'] = usos_suelo['UU_ALMACEN']"
   ]
  },
  {
   "cell_type": "code",
   "execution_count": 14,
   "metadata": {},
   "outputs": [],
   "source": [
    "usos_suelo['uds_comercial'] = usos_suelo['UU_COMERCIAL']"
   ]
  },
  {
   "cell_type": "code",
   "execution_count": 15,
   "metadata": {},
   "outputs": [],
   "source": [
    "usos_suelo['uds_cultural'] = usos_suelo['UU_CULTURAL']"
   ]
  },
  {
   "cell_type": "code",
   "execution_count": 16,
   "metadata": {},
   "outputs": [],
   "source": [
    "usos_suelo['uds_hosteleria'] = usos_suelo['UU_HOSTELERIA']"
   ]
  },
  {
   "cell_type": "code",
   "execution_count": 17,
   "metadata": {},
   "outputs": [],
   "source": [
    "usos_suelo['uds_industrial'] = usos_suelo['UU_INDUSTRIAL']"
   ]
  },
  {
   "cell_type": "code",
   "execution_count": 18,
   "metadata": {},
   "outputs": [],
   "source": [
    "usos_suelo['uds_deportivo'] = usos_suelo['UU_DEPORTIVO']"
   ]
  },
  {
   "cell_type": "code",
   "execution_count": 19,
   "metadata": {},
   "outputs": [],
   "source": [
    "usos_suelo['uds_oficinas'] = usos_suelo['UU_OFICINAS']"
   ]
  },
  {
   "cell_type": "code",
   "execution_count": 20,
   "metadata": {},
   "outputs": [],
   "source": [
    "usos_suelo['uds_religioso'] = usos_suelo['UU_RELIGIOSO']"
   ]
  },
  {
   "cell_type": "code",
   "execution_count": 21,
   "metadata": {},
   "outputs": [],
   "source": [
    "usos_suelo['uds_espectaculos'] = usos_suelo['UU_ESPECTACULOS']"
   ]
  },
  {
   "cell_type": "code",
   "execution_count": 22,
   "metadata": {},
   "outputs": [],
   "source": [
    "usos_suelo['uds_sanidad'] = usos_suelo['UU_SANIDAD']"
   ]
  },
  {
   "cell_type": "code",
   "execution_count": 23,
   "metadata": {},
   "outputs": [],
   "source": [
    "usos_suelo = usos_suelo.iloc[:, 44:56]"
   ]
  },
  {
   "cell_type": "code",
   "execution_count": 24,
   "metadata": {
    "scrolled": true
   },
   "outputs": [
    {
     "data": {
      "text/html": [
       "<div>\n",
       "<style scoped>\n",
       "    .dataframe tbody tr th:only-of-type {\n",
       "        vertical-align: middle;\n",
       "    }\n",
       "\n",
       "    .dataframe tbody tr th {\n",
       "        vertical-align: top;\n",
       "    }\n",
       "\n",
       "    .dataframe thead th {\n",
       "        text-align: right;\n",
       "    }\n",
       "</style>\n",
       "<table border=\"1\" class=\"dataframe\">\n",
       "  <thead>\n",
       "    <tr style=\"text-align: right;\">\n",
       "      <th></th>\n",
       "      <th>municipio_limpio</th>\n",
       "      <th>provincia</th>\n",
       "      <th>superficie_urbana</th>\n",
       "      <th>uds_almacen</th>\n",
       "      <th>uds_comercial</th>\n",
       "      <th>uds_cultural</th>\n",
       "      <th>uds_hosteleria</th>\n",
       "      <th>uds_industrial</th>\n",
       "      <th>uds_deportivo</th>\n",
       "      <th>uds_oficinas</th>\n",
       "      <th>uds_religioso</th>\n",
       "      <th>uds_espectaculos</th>\n",
       "    </tr>\n",
       "  </thead>\n",
       "  <tbody>\n",
       "    <tr>\n",
       "      <th>1772</th>\n",
       "      <td>altura</td>\n",
       "      <td>castellon</td>\n",
       "      <td>751,537</td>\n",
       "      <td>672</td>\n",
       "      <td>40</td>\n",
       "      <td>4</td>\n",
       "      <td>11</td>\n",
       "      <td>221</td>\n",
       "      <td>53</td>\n",
       "      <td>9</td>\n",
       "      <td>2</td>\n",
       "      <td>1</td>\n",
       "    </tr>\n",
       "  </tbody>\n",
       "</table>\n",
       "</div>"
      ],
      "text/plain": [
       "     municipio_limpio  provincia superficie_urbana uds_almacen uds_comercial  \\\n",
       "1772           altura  castellon           751,537         672            40   \n",
       "\n",
       "     uds_cultural uds_hosteleria uds_industrial uds_deportivo uds_oficinas  \\\n",
       "1772            4             11            221            53            9   \n",
       "\n",
       "      uds_religioso  uds_espectaculos  \n",
       "1772              2                 1  "
      ]
     },
     "execution_count": 24,
     "metadata": {},
     "output_type": "execute_result"
    }
   ],
   "source": [
    "usos_suelo[usos_suelo['municipio_limpio']=='altura']"
   ]
  },
  {
   "cell_type": "markdown",
   "metadata": {},
   "source": [
    "##### Comprobacion duplicados"
   ]
  },
  {
   "cell_type": "code",
   "execution_count": 25,
   "metadata": {
    "scrolled": true
   },
   "outputs": [
    {
     "data": {
      "text/html": [
       "<div>\n",
       "<style scoped>\n",
       "    .dataframe tbody tr th:only-of-type {\n",
       "        vertical-align: middle;\n",
       "    }\n",
       "\n",
       "    .dataframe tbody tr th {\n",
       "        vertical-align: top;\n",
       "    }\n",
       "\n",
       "    .dataframe thead th {\n",
       "        text-align: right;\n",
       "    }\n",
       "</style>\n",
       "<table border=\"1\" class=\"dataframe\">\n",
       "  <thead>\n",
       "    <tr style=\"text-align: right;\">\n",
       "      <th></th>\n",
       "      <th>municipio_limpio</th>\n",
       "      <th>provincia</th>\n",
       "      <th>superficie_urbana</th>\n",
       "      <th>uds_almacen</th>\n",
       "      <th>uds_comercial</th>\n",
       "      <th>uds_cultural</th>\n",
       "      <th>uds_hosteleria</th>\n",
       "      <th>uds_industrial</th>\n",
       "      <th>uds_deportivo</th>\n",
       "      <th>uds_oficinas</th>\n",
       "      <th>uds_religioso</th>\n",
       "      <th>uds_espectaculos</th>\n",
       "    </tr>\n",
       "  </thead>\n",
       "  <tbody>\n",
       "    <tr>\n",
       "      <th>2795</th>\n",
       "      <td>pinar</td>\n",
       "      <td>granada</td>\n",
       "      <td>223,552</td>\n",
       "      <td>18</td>\n",
       "      <td>7</td>\n",
       "      <td>5</td>\n",
       "      <td>5</td>\n",
       "      <td>145</td>\n",
       "      <td>7</td>\n",
       "      <td>0</td>\n",
       "      <td>4</td>\n",
       "      <td>1</td>\n",
       "    </tr>\n",
       "  </tbody>\n",
       "</table>\n",
       "</div>"
      ],
      "text/plain": [
       "     municipio_limpio provincia superficie_urbana uds_almacen uds_comercial  \\\n",
       "2795            pinar   granada           223,552          18             7   \n",
       "\n",
       "     uds_cultural uds_hosteleria uds_industrial uds_deportivo uds_oficinas  \\\n",
       "2795            5              5            145             7            0   \n",
       "\n",
       "      uds_religioso  uds_espectaculos  \n",
       "2795              4                 1  "
      ]
     },
     "execution_count": 25,
     "metadata": {},
     "output_type": "execute_result"
    }
   ],
   "source": [
    "usos_suelo[usos_suelo.duplicated(subset=['municipio_limpio','provincia'])]"
   ]
  },
  {
   "cell_type": "code",
   "execution_count": 26,
   "metadata": {
    "scrolled": false
   },
   "outputs": [
    {
     "data": {
      "text/html": [
       "<div>\n",
       "<style scoped>\n",
       "    .dataframe tbody tr th:only-of-type {\n",
       "        vertical-align: middle;\n",
       "    }\n",
       "\n",
       "    .dataframe tbody tr th {\n",
       "        vertical-align: top;\n",
       "    }\n",
       "\n",
       "    .dataframe thead th {\n",
       "        text-align: right;\n",
       "    }\n",
       "</style>\n",
       "<table border=\"1\" class=\"dataframe\">\n",
       "  <thead>\n",
       "    <tr style=\"text-align: right;\">\n",
       "      <th></th>\n",
       "      <th>municipio_limpio</th>\n",
       "      <th>provincia</th>\n",
       "      <th>superficie_urbana</th>\n",
       "      <th>uds_almacen</th>\n",
       "      <th>uds_comercial</th>\n",
       "      <th>uds_cultural</th>\n",
       "      <th>uds_hosteleria</th>\n",
       "      <th>uds_industrial</th>\n",
       "      <th>uds_deportivo</th>\n",
       "      <th>uds_oficinas</th>\n",
       "      <th>uds_religioso</th>\n",
       "      <th>uds_espectaculos</th>\n",
       "    </tr>\n",
       "  </thead>\n",
       "  <tbody>\n",
       "    <tr>\n",
       "      <th>0</th>\n",
       "      <td>abengibre</td>\n",
       "      <td>albacete</td>\n",
       "      <td>302,079</td>\n",
       "      <td>13</td>\n",
       "      <td>3</td>\n",
       "      <td>2</td>\n",
       "      <td>1</td>\n",
       "      <td>169</td>\n",
       "      <td>1</td>\n",
       "      <td>2</td>\n",
       "      <td>1</td>\n",
       "      <td>0</td>\n",
       "    </tr>\n",
       "    <tr>\n",
       "      <th>1</th>\n",
       "      <td>alatoz</td>\n",
       "      <td>albacete</td>\n",
       "      <td>339,890</td>\n",
       "      <td>41</td>\n",
       "      <td>2</td>\n",
       "      <td>1</td>\n",
       "      <td>1</td>\n",
       "      <td>140</td>\n",
       "      <td>4</td>\n",
       "      <td>2</td>\n",
       "      <td>2</td>\n",
       "      <td>0</td>\n",
       "    </tr>\n",
       "    <tr>\n",
       "      <th>2</th>\n",
       "      <td>albacete</td>\n",
       "      <td>albacete</td>\n",
       "      <td>29,660,602</td>\n",
       "      <td>38,983</td>\n",
       "      <td>6,164</td>\n",
       "      <td>179</td>\n",
       "      <td>84</td>\n",
       "      <td>4,363</td>\n",
       "      <td>300</td>\n",
       "      <td>1,756</td>\n",
       "      <td>56</td>\n",
       "      <td>9</td>\n",
       "    </tr>\n",
       "    <tr>\n",
       "      <th>3</th>\n",
       "      <td>albatana</td>\n",
       "      <td>albacete</td>\n",
       "      <td>372,491</td>\n",
       "      <td>22</td>\n",
       "      <td>2</td>\n",
       "      <td>1</td>\n",
       "      <td>1</td>\n",
       "      <td>87</td>\n",
       "      <td>5</td>\n",
       "      <td>1</td>\n",
       "      <td>1</td>\n",
       "      <td>1</td>\n",
       "    </tr>\n",
       "    <tr>\n",
       "      <th>4</th>\n",
       "      <td>alborea</td>\n",
       "      <td>albacete</td>\n",
       "      <td>200,096</td>\n",
       "      <td>87</td>\n",
       "      <td>7</td>\n",
       "      <td>2</td>\n",
       "      <td>4</td>\n",
       "      <td>102</td>\n",
       "      <td>4</td>\n",
       "      <td>3</td>\n",
       "      <td>1</td>\n",
       "      <td>0</td>\n",
       "    </tr>\n",
       "  </tbody>\n",
       "</table>\n",
       "</div>"
      ],
      "text/plain": [
       "  municipio_limpio provincia superficie_urbana uds_almacen uds_comercial  \\\n",
       "0        abengibre  albacete           302,079          13             3   \n",
       "1           alatoz  albacete           339,890          41             2   \n",
       "2         albacete  albacete        29,660,602      38,983         6,164   \n",
       "3         albatana  albacete           372,491          22             2   \n",
       "4          alborea  albacete           200,096          87             7   \n",
       "\n",
       "  uds_cultural uds_hosteleria uds_industrial uds_deportivo uds_oficinas  \\\n",
       "0            2              1            169             1            2   \n",
       "1            1              1            140             4            2   \n",
       "2          179             84          4,363           300        1,756   \n",
       "3            1              1             87             5            1   \n",
       "4            2              4            102             4            3   \n",
       "\n",
       "   uds_religioso  uds_espectaculos  \n",
       "0              1                 0  \n",
       "1              2                 0  \n",
       "2             56                 9  \n",
       "3              1                 1  \n",
       "4              1                 0  "
      ]
     },
     "execution_count": 26,
     "metadata": {},
     "output_type": "execute_result"
    }
   ],
   "source": [
    "usos_suelo.head()"
   ]
  },
  {
   "cell_type": "markdown",
   "metadata": {},
   "source": [
    "##### Creación y exportación de fichero maestro"
   ]
  },
  {
   "cell_type": "code",
   "execution_count": 27,
   "metadata": {},
   "outputs": [],
   "source": [
    "usos_suelo.to_csv(\"sociedad_usos_suelo_2019_limpio.csv\")"
   ]
  },
  {
   "cell_type": "code",
   "execution_count": null,
   "metadata": {},
   "outputs": [],
   "source": []
  },
  {
   "cell_type": "code",
   "execution_count": null,
   "metadata": {},
   "outputs": [],
   "source": []
  }
 ],
 "metadata": {
  "kernelspec": {
   "display_name": "Python 3",
   "language": "python",
   "name": "python3"
  },
  "language_info": {
   "codemirror_mode": {
    "name": "ipython",
    "version": 3
   },
   "file_extension": ".py",
   "mimetype": "text/x-python",
   "name": "python",
   "nbconvert_exporter": "python",
   "pygments_lexer": "ipython3",
   "version": "3.8.2"
  }
 },
 "nbformat": 4,
 "nbformat_minor": 4
}
