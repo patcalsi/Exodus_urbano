{
 "cells": [
  {
   "cell_type": "code",
   "execution_count": 1,
   "metadata": {},
   "outputs": [],
   "source": [
    "import pandas as pd\n",
    "import matplotlib.pyplot as plt\n",
    "import numpy as np\n",
    "import re\n",
    "import unidecode\n",
    "import os"
   ]
  },
  {
   "cell_type": "markdown",
   "metadata": {},
   "source": [
    "#### Funciones"
   ]
  },
  {
   "cell_type": "code",
   "execution_count": 2,
   "metadata": {},
   "outputs": [],
   "source": [
    "def doClean(text):   \n",
    "    \n",
    "    # Quitar las expresiones tras la barra /\n",
    "    a = re.sub('\\/.*', '', text)\n",
    "    # Quitar las aclaraciones entre paréntesis\n",
    "    a = re.sub('\\(.*\\)', '', a)\n",
    "    # Quitar acentos \n",
    "    a = unidecode.unidecode(a)\n",
    "    # Quitar aquello que no sean palabras o cosa que se le parezca\n",
    "    a = re.sub('\\W', ' ', a) \n",
    "    # Quitar espacios extra en caso de haber\n",
    "    a = re.sub('\\s+', ' ', a)\n",
    "    # Pasar el texto a minúsulas\n",
    "    a = a.lower() \n",
    "    a = a.lstrip()\n",
    "    # Quitar espacio derecha\n",
    "    a = a.rstrip()\n",
    "    a = re.sub(' ', '_', a)\n",
    "    #a = a.strip() \n",
    "    \n",
    "    return a"
   ]
  },
  {
   "cell_type": "markdown",
   "metadata": {},
   "source": [
    "## Fichero maestro"
   ]
  },
  {
   "cell_type": "code",
   "execution_count": 3,
   "metadata": {},
   "outputs": [],
   "source": [
    "maestro_municipios = pd.read_csv(\"maestro_idiomas_ine.csv\", index_col=0, dtype={'postal_code': object})"
   ]
  },
  {
   "cell_type": "code",
   "execution_count": 4,
   "metadata": {},
   "outputs": [
    {
     "data": {
      "text/plain": [
       "(14729, 17)"
      ]
     },
     "execution_count": 4,
     "metadata": {},
     "output_type": "execute_result"
    }
   ],
   "source": [
    "maestro_municipios.shape"
   ]
  },
  {
   "cell_type": "code",
   "execution_count": 5,
   "metadata": {
    "scrolled": false
   },
   "outputs": [
    {
     "data": {
      "text/html": [
       "<div>\n",
       "<style scoped>\n",
       "    .dataframe tbody tr th:only-of-type {\n",
       "        vertical-align: middle;\n",
       "    }\n",
       "\n",
       "    .dataframe tbody tr th {\n",
       "        vertical-align: top;\n",
       "    }\n",
       "\n",
       "    .dataframe thead th {\n",
       "        text-align: right;\n",
       "    }\n",
       "</style>\n",
       "<table border=\"1\" class=\"dataframe\">\n",
       "  <thead>\n",
       "    <tr style=\"text-align: right;\">\n",
       "      <th></th>\n",
       "      <th>ine_code</th>\n",
       "      <th>postal_code</th>\n",
       "      <th>cities_es</th>\n",
       "      <th>cities</th>\n",
       "      <th>province_es</th>\n",
       "      <th>province</th>\n",
       "      <th>ccaa_es</th>\n",
       "      <th>ccaa</th>\n",
       "      <th>cities_es/province_es</th>\n",
       "      <th>cities_es/province</th>\n",
       "      <th>cities_es/ccaa_es</th>\n",
       "      <th>cities_es/ccaa</th>\n",
       "      <th>cities/province_es</th>\n",
       "      <th>province_es/ccaa_es</th>\n",
       "      <th>province_es/ccaa</th>\n",
       "      <th>province/ccaa_es</th>\n",
       "      <th>province/ccaa</th>\n",
       "    </tr>\n",
       "  </thead>\n",
       "  <tbody>\n",
       "    <tr>\n",
       "      <td>0</td>\n",
       "      <td>1001</td>\n",
       "      <td>01240</td>\n",
       "      <td>alegria_dulantzi</td>\n",
       "      <td>alegria_dulantzi</td>\n",
       "      <td>alava</td>\n",
       "      <td>araba</td>\n",
       "      <td>pais_vasco</td>\n",
       "      <td>pais_vasco</td>\n",
       "      <td>alegria_dulantzi/alava</td>\n",
       "      <td>alegria_dulantzi/araba</td>\n",
       "      <td>alegria_dulantzi/pais_vasco</td>\n",
       "      <td>alegria_dulantzi/pais_vasco</td>\n",
       "      <td>alegria_dulantzi/alava</td>\n",
       "      <td>alava/pais_vasco</td>\n",
       "      <td>alava/pais_vasco</td>\n",
       "      <td>araba/pais_vasco</td>\n",
       "      <td>araba/pais_vasco</td>\n",
       "    </tr>\n",
       "    <tr>\n",
       "      <td>1</td>\n",
       "      <td>1001</td>\n",
       "      <td>01193</td>\n",
       "      <td>alegria_dulantzi</td>\n",
       "      <td>alegria_dulantzi</td>\n",
       "      <td>alava</td>\n",
       "      <td>araba</td>\n",
       "      <td>pais_vasco</td>\n",
       "      <td>pais_vasco</td>\n",
       "      <td>alegria_dulantzi/alava</td>\n",
       "      <td>alegria_dulantzi/araba</td>\n",
       "      <td>alegria_dulantzi/pais_vasco</td>\n",
       "      <td>alegria_dulantzi/pais_vasco</td>\n",
       "      <td>alegria_dulantzi/alava</td>\n",
       "      <td>alava/pais_vasco</td>\n",
       "      <td>alava/pais_vasco</td>\n",
       "      <td>araba/pais_vasco</td>\n",
       "      <td>araba/pais_vasco</td>\n",
       "    </tr>\n",
       "    <tr>\n",
       "      <td>2</td>\n",
       "      <td>1002</td>\n",
       "      <td>01450</td>\n",
       "      <td>amurrio</td>\n",
       "      <td>amurrio</td>\n",
       "      <td>alava</td>\n",
       "      <td>araba</td>\n",
       "      <td>pais_vasco</td>\n",
       "      <td>pais_vasco</td>\n",
       "      <td>amurrio/alava</td>\n",
       "      <td>amurrio/araba</td>\n",
       "      <td>amurrio/pais_vasco</td>\n",
       "      <td>amurrio/pais_vasco</td>\n",
       "      <td>amurrio/alava</td>\n",
       "      <td>alava/pais_vasco</td>\n",
       "      <td>alava/pais_vasco</td>\n",
       "      <td>araba/pais_vasco</td>\n",
       "      <td>araba/pais_vasco</td>\n",
       "    </tr>\n",
       "    <tr>\n",
       "      <td>3</td>\n",
       "      <td>1002</td>\n",
       "      <td>01468</td>\n",
       "      <td>amurrio</td>\n",
       "      <td>amurrio</td>\n",
       "      <td>alava</td>\n",
       "      <td>araba</td>\n",
       "      <td>pais_vasco</td>\n",
       "      <td>pais_vasco</td>\n",
       "      <td>amurrio/alava</td>\n",
       "      <td>amurrio/araba</td>\n",
       "      <td>amurrio/pais_vasco</td>\n",
       "      <td>amurrio/pais_vasco</td>\n",
       "      <td>amurrio/alava</td>\n",
       "      <td>alava/pais_vasco</td>\n",
       "      <td>alava/pais_vasco</td>\n",
       "      <td>araba/pais_vasco</td>\n",
       "      <td>araba/pais_vasco</td>\n",
       "    </tr>\n",
       "    <tr>\n",
       "      <td>4</td>\n",
       "      <td>1002</td>\n",
       "      <td>01470</td>\n",
       "      <td>amurrio</td>\n",
       "      <td>amurrio</td>\n",
       "      <td>alava</td>\n",
       "      <td>araba</td>\n",
       "      <td>pais_vasco</td>\n",
       "      <td>pais_vasco</td>\n",
       "      <td>amurrio/alava</td>\n",
       "      <td>amurrio/araba</td>\n",
       "      <td>amurrio/pais_vasco</td>\n",
       "      <td>amurrio/pais_vasco</td>\n",
       "      <td>amurrio/alava</td>\n",
       "      <td>alava/pais_vasco</td>\n",
       "      <td>alava/pais_vasco</td>\n",
       "      <td>araba/pais_vasco</td>\n",
       "      <td>araba/pais_vasco</td>\n",
       "    </tr>\n",
       "  </tbody>\n",
       "</table>\n",
       "</div>"
      ],
      "text/plain": [
       "   ine_code postal_code         cities_es            cities province_es  \\\n",
       "0      1001       01240  alegria_dulantzi  alegria_dulantzi       alava   \n",
       "1      1001       01193  alegria_dulantzi  alegria_dulantzi       alava   \n",
       "2      1002       01450           amurrio           amurrio       alava   \n",
       "3      1002       01468           amurrio           amurrio       alava   \n",
       "4      1002       01470           amurrio           amurrio       alava   \n",
       "\n",
       "  province     ccaa_es        ccaa   cities_es/province_es  \\\n",
       "0    araba  pais_vasco  pais_vasco  alegria_dulantzi/alava   \n",
       "1    araba  pais_vasco  pais_vasco  alegria_dulantzi/alava   \n",
       "2    araba  pais_vasco  pais_vasco           amurrio/alava   \n",
       "3    araba  pais_vasco  pais_vasco           amurrio/alava   \n",
       "4    araba  pais_vasco  pais_vasco           amurrio/alava   \n",
       "\n",
       "       cities_es/province            cities_es/ccaa_es  \\\n",
       "0  alegria_dulantzi/araba  alegria_dulantzi/pais_vasco   \n",
       "1  alegria_dulantzi/araba  alegria_dulantzi/pais_vasco   \n",
       "2           amurrio/araba           amurrio/pais_vasco   \n",
       "3           amurrio/araba           amurrio/pais_vasco   \n",
       "4           amurrio/araba           amurrio/pais_vasco   \n",
       "\n",
       "                cities_es/ccaa      cities/province_es province_es/ccaa_es  \\\n",
       "0  alegria_dulantzi/pais_vasco  alegria_dulantzi/alava    alava/pais_vasco   \n",
       "1  alegria_dulantzi/pais_vasco  alegria_dulantzi/alava    alava/pais_vasco   \n",
       "2           amurrio/pais_vasco           amurrio/alava    alava/pais_vasco   \n",
       "3           amurrio/pais_vasco           amurrio/alava    alava/pais_vasco   \n",
       "4           amurrio/pais_vasco           amurrio/alava    alava/pais_vasco   \n",
       "\n",
       "   province_es/ccaa  province/ccaa_es     province/ccaa  \n",
       "0  alava/pais_vasco  araba/pais_vasco  araba/pais_vasco  \n",
       "1  alava/pais_vasco  araba/pais_vasco  araba/pais_vasco  \n",
       "2  alava/pais_vasco  araba/pais_vasco  araba/pais_vasco  \n",
       "3  alava/pais_vasco  araba/pais_vasco  araba/pais_vasco  \n",
       "4  alava/pais_vasco  araba/pais_vasco  araba/pais_vasco  "
      ]
     },
     "execution_count": 5,
     "metadata": {},
     "output_type": "execute_result"
    }
   ],
   "source": [
    "maestro_municipios.head()"
   ]
  },
  {
   "cell_type": "markdown",
   "metadata": {},
   "source": [
    "## Ficheros especificos"
   ]
  },
  {
   "cell_type": "markdown",
   "metadata": {},
   "source": [
    "##### Comercios"
   ]
  },
  {
   "cell_type": "code",
   "execution_count": 6,
   "metadata": {},
   "outputs": [],
   "source": [
    "Comercios = pd.read_csv(\"Economia_comercios_municipios_2019.csv\", dtype={'CP': object})"
   ]
  },
  {
   "cell_type": "code",
   "execution_count": 7,
   "metadata": {},
   "outputs": [
    {
     "data": {
      "text/plain": [
       "(8189, 13)"
      ]
     },
     "execution_count": 7,
     "metadata": {},
     "output_type": "execute_result"
    }
   ],
   "source": [
    "Comercios.shape"
   ]
  },
  {
   "cell_type": "code",
   "execution_count": 8,
   "metadata": {
    "scrolled": false
   },
   "outputs": [
    {
     "data": {
      "text/html": [
       "<div>\n",
       "<style scoped>\n",
       "    .dataframe tbody tr th:only-of-type {\n",
       "        vertical-align: middle;\n",
       "    }\n",
       "\n",
       "    .dataframe tbody tr th {\n",
       "        vertical-align: top;\n",
       "    }\n",
       "\n",
       "    .dataframe thead th {\n",
       "        text-align: right;\n",
       "    }\n",
       "</style>\n",
       "<table border=\"1\" class=\"dataframe\">\n",
       "  <thead>\n",
       "    <tr style=\"text-align: right;\">\n",
       "      <th></th>\n",
       "      <th>CP</th>\n",
       "      <th>Municipio</th>\n",
       "      <th>Total Comercios</th>\n",
       "      <th>B_E Industria</th>\n",
       "      <th>F Construcción</th>\n",
       "      <th>Comercio, transporte y hostelería</th>\n",
       "      <th>J Información y comunicaciones</th>\n",
       "      <th>K Actividades financieras y de seguros</th>\n",
       "      <th>L Actividades inmobiliarias</th>\n",
       "      <th>Actividades profesionales y técnicas</th>\n",
       "      <th>Educación, sanidad y servicios sociales</th>\n",
       "      <th>Otros servicios personales</th>\n",
       "      <th>Total servicios</th>\n",
       "    </tr>\n",
       "  </thead>\n",
       "  <tbody>\n",
       "    <tr>\n",
       "      <td>0</td>\n",
       "      <td>0</td>\n",
       "      <td>Total Nacional</td>\n",
       "      <td>3,363,197</td>\n",
       "      <td>199,076</td>\n",
       "      <td>422,350</td>\n",
       "      <td>1,215,680</td>\n",
       "      <td>68,158</td>\n",
       "      <td>77,396</td>\n",
       "      <td>179,484</td>\n",
       "      <td>622,015</td>\n",
       "      <td>272,124</td>\n",
       "      <td>306,914</td>\n",
       "      <td>1,526,091</td>\n",
       "    </tr>\n",
       "    <tr>\n",
       "      <td>1</td>\n",
       "      <td>01</td>\n",
       "      <td>Araba/Álava</td>\n",
       "      <td>18,678</td>\n",
       "      <td>1,942</td>\n",
       "      <td>2,397</td>\n",
       "      <td>7,099</td>\n",
       "      <td>359</td>\n",
       "      <td>326</td>\n",
       "      <td>221</td>\n",
       "      <td>3,132</td>\n",
       "      <td>1,493</td>\n",
       "      <td>1,709</td>\n",
       "      <td>7,240</td>\n",
       "    </tr>\n",
       "  </tbody>\n",
       "</table>\n",
       "</div>"
      ],
      "text/plain": [
       "   CP       Municipio Total Comercios B_E Industria F Construcción  \\\n",
       "0   0  Total Nacional       3,363,197       199,076        422,350   \n",
       "1  01     Araba/Álava          18,678         1,942          2,397   \n",
       "\n",
       "  Comercio, transporte y hostelería J Información y comunicaciones  \\\n",
       "0                         1,215,680                         68,158   \n",
       "1                             7,099                            359   \n",
       "\n",
       "  K Actividades financieras y de seguros L Actividades inmobiliarias  \\\n",
       "0                                 77,396                     179,484   \n",
       "1                                    326                         221   \n",
       "\n",
       "  Actividades profesionales y técnicas  \\\n",
       "0                              622,015   \n",
       "1                                3,132   \n",
       "\n",
       "  Educación, sanidad y servicios sociales Otros servicios personales  \\\n",
       "0                                 272,124                    306,914   \n",
       "1                                   1,493                      1,709   \n",
       "\n",
       "  Total servicios  \n",
       "0       1,526,091  \n",
       "1           7,240  "
      ]
     },
     "execution_count": 8,
     "metadata": {},
     "output_type": "execute_result"
    }
   ],
   "source": [
    "Comercios.head(2)"
   ]
  },
  {
   "cell_type": "code",
   "execution_count": 9,
   "metadata": {},
   "outputs": [
    {
     "name": "stdout",
     "output_type": "stream",
     "text": [
      "<class 'pandas.core.frame.DataFrame'>\n",
      "RangeIndex: 8189 entries, 0 to 8188\n",
      "Data columns (total 13 columns):\n",
      "CP                                         8188 non-null object\n",
      "Municipio                                  8188 non-null object\n",
      "Total Comercios                            8189 non-null object\n",
      "B_E Industria                              8189 non-null object\n",
      "F Construcción                             8189 non-null object\n",
      "Comercio, transporte y hostelería          8189 non-null object\n",
      "J Información y comunicaciones             8189 non-null object\n",
      "K Actividades financieras y de seguros     8189 non-null object\n",
      "L Actividades inmobiliarias                8189 non-null object\n",
      "Actividades profesionales y técnicas       8189 non-null object\n",
      "Educación, sanidad y servicios sociales    8189 non-null object\n",
      "Otros servicios personales                 8189 non-null object\n",
      "Total servicios                            8189 non-null object\n",
      "dtypes: object(13)\n",
      "memory usage: 831.8+ KB\n"
     ]
    }
   ],
   "source": [
    "Comercios.info()"
   ]
  },
  {
   "cell_type": "code",
   "execution_count": 10,
   "metadata": {},
   "outputs": [],
   "source": [
    "# Como me da error en doClean porque el tipo del dato de la columna a la que quiero aplicar la funcion \n",
    "# no es str, cambio el tipo de data en la columna primero:\n",
    "\n",
    "Comercios['Municipio'] = Comercios['Municipio'].astype(str)"
   ]
  },
  {
   "cell_type": "code",
   "execution_count": 11,
   "metadata": {},
   "outputs": [],
   "source": [
    "Comercios['Municipio']=Comercios['Municipio'].apply(doClean)"
   ]
  },
  {
   "cell_type": "code",
   "execution_count": 12,
   "metadata": {},
   "outputs": [
    {
     "data": {
      "text/html": [
       "<div>\n",
       "<style scoped>\n",
       "    .dataframe tbody tr th:only-of-type {\n",
       "        vertical-align: middle;\n",
       "    }\n",
       "\n",
       "    .dataframe tbody tr th {\n",
       "        vertical-align: top;\n",
       "    }\n",
       "\n",
       "    .dataframe thead th {\n",
       "        text-align: right;\n",
       "    }\n",
       "</style>\n",
       "<table border=\"1\" class=\"dataframe\">\n",
       "  <thead>\n",
       "    <tr style=\"text-align: right;\">\n",
       "      <th></th>\n",
       "      <th>CP</th>\n",
       "      <th>Municipio</th>\n",
       "      <th>Total Comercios</th>\n",
       "      <th>B_E Industria</th>\n",
       "      <th>F Construcción</th>\n",
       "      <th>Comercio, transporte y hostelería</th>\n",
       "      <th>J Información y comunicaciones</th>\n",
       "      <th>K Actividades financieras y de seguros</th>\n",
       "      <th>L Actividades inmobiliarias</th>\n",
       "      <th>Actividades profesionales y técnicas</th>\n",
       "      <th>Educación, sanidad y servicios sociales</th>\n",
       "      <th>Otros servicios personales</th>\n",
       "      <th>Total servicios</th>\n",
       "    </tr>\n",
       "  </thead>\n",
       "  <tbody>\n",
       "    <tr>\n",
       "      <td>0</td>\n",
       "      <td>0</td>\n",
       "      <td>total_nacional</td>\n",
       "      <td>3,363,197</td>\n",
       "      <td>199,076</td>\n",
       "      <td>422,350</td>\n",
       "      <td>1,215,680</td>\n",
       "      <td>68,158</td>\n",
       "      <td>77,396</td>\n",
       "      <td>179,484</td>\n",
       "      <td>622,015</td>\n",
       "      <td>272,124</td>\n",
       "      <td>306,914</td>\n",
       "      <td>1,526,091</td>\n",
       "    </tr>\n",
       "    <tr>\n",
       "      <td>1</td>\n",
       "      <td>01</td>\n",
       "      <td>araba</td>\n",
       "      <td>18,678</td>\n",
       "      <td>1,942</td>\n",
       "      <td>2,397</td>\n",
       "      <td>7,099</td>\n",
       "      <td>359</td>\n",
       "      <td>326</td>\n",
       "      <td>221</td>\n",
       "      <td>3,132</td>\n",
       "      <td>1,493</td>\n",
       "      <td>1,709</td>\n",
       "      <td>7,240</td>\n",
       "    </tr>\n",
       "    <tr>\n",
       "      <td>2</td>\n",
       "      <td>01001</td>\n",
       "      <td>alegria_dulantzi</td>\n",
       "      <td>148</td>\n",
       "      <td>20</td>\n",
       "      <td>26</td>\n",
       "      <td>59</td>\n",
       "      <td></td>\n",
       "      <td></td>\n",
       "      <td></td>\n",
       "      <td></td>\n",
       "      <td></td>\n",
       "      <td></td>\n",
       "      <td>43</td>\n",
       "    </tr>\n",
       "    <tr>\n",
       "      <td>3</td>\n",
       "      <td>01002</td>\n",
       "      <td>amurrio</td>\n",
       "      <td>600</td>\n",
       "      <td>63</td>\n",
       "      <td>95</td>\n",
       "      <td>251</td>\n",
       "      <td>6</td>\n",
       "      <td>9</td>\n",
       "      <td>7</td>\n",
       "      <td>90</td>\n",
       "      <td>40</td>\n",
       "      <td>39</td>\n",
       "      <td>191</td>\n",
       "    </tr>\n",
       "    <tr>\n",
       "      <td>4</td>\n",
       "      <td>01003</td>\n",
       "      <td>aramaio</td>\n",
       "      <td>50</td>\n",
       "      <td>8</td>\n",
       "      <td>7</td>\n",
       "      <td>16</td>\n",
       "      <td></td>\n",
       "      <td></td>\n",
       "      <td></td>\n",
       "      <td></td>\n",
       "      <td></td>\n",
       "      <td></td>\n",
       "      <td>19</td>\n",
       "    </tr>\n",
       "    <tr>\n",
       "      <td>...</td>\n",
       "      <td>...</td>\n",
       "      <td>...</td>\n",
       "      <td>...</td>\n",
       "      <td>...</td>\n",
       "      <td>...</td>\n",
       "      <td>...</td>\n",
       "      <td>...</td>\n",
       "      <td>...</td>\n",
       "      <td>...</td>\n",
       "      <td>...</td>\n",
       "      <td>...</td>\n",
       "      <td>...</td>\n",
       "      <td>...</td>\n",
       "    </tr>\n",
       "    <tr>\n",
       "      <td>8184</td>\n",
       "      <td>50901</td>\n",
       "      <td>biel</td>\n",
       "      <td>10</td>\n",
       "      <td></td>\n",
       "      <td></td>\n",
       "      <td></td>\n",
       "      <td></td>\n",
       "      <td></td>\n",
       "      <td></td>\n",
       "      <td></td>\n",
       "      <td></td>\n",
       "      <td></td>\n",
       "      <td></td>\n",
       "    </tr>\n",
       "    <tr>\n",
       "      <td>8185</td>\n",
       "      <td>50902</td>\n",
       "      <td>marracos</td>\n",
       "      <td>.</td>\n",
       "      <td></td>\n",
       "      <td></td>\n",
       "      <td></td>\n",
       "      <td></td>\n",
       "      <td></td>\n",
       "      <td></td>\n",
       "      <td></td>\n",
       "      <td></td>\n",
       "      <td></td>\n",
       "      <td></td>\n",
       "    </tr>\n",
       "    <tr>\n",
       "      <td>8186</td>\n",
       "      <td>50903</td>\n",
       "      <td>villamayor_de_gallego</td>\n",
       "      <td>166</td>\n",
       "      <td>17</td>\n",
       "      <td>18</td>\n",
       "      <td>62</td>\n",
       "      <td></td>\n",
       "      <td></td>\n",
       "      <td></td>\n",
       "      <td></td>\n",
       "      <td></td>\n",
       "      <td></td>\n",
       "      <td>69</td>\n",
       "    </tr>\n",
       "    <tr>\n",
       "      <td>8187</td>\n",
       "      <td>51001</td>\n",
       "      <td>ceuta</td>\n",
       "      <td>3,789</td>\n",
       "      <td>82</td>\n",
       "      <td>290</td>\n",
       "      <td>1,956</td>\n",
       "      <td>33</td>\n",
       "      <td>47</td>\n",
       "      <td>129</td>\n",
       "      <td>530</td>\n",
       "      <td>313</td>\n",
       "      <td>409</td>\n",
       "      <td>1,461</td>\n",
       "    </tr>\n",
       "    <tr>\n",
       "      <td>8188</td>\n",
       "      <td>52001</td>\n",
       "      <td>melilla</td>\n",
       "      <td>5,304</td>\n",
       "      <td>117</td>\n",
       "      <td>377</td>\n",
       "      <td>3,201</td>\n",
       "      <td>49</td>\n",
       "      <td>46</td>\n",
       "      <td>97</td>\n",
       "      <td>593</td>\n",
       "      <td>403</td>\n",
       "      <td>421</td>\n",
       "      <td>1,609</td>\n",
       "    </tr>\n",
       "  </tbody>\n",
       "</table>\n",
       "<p>8189 rows × 13 columns</p>\n",
       "</div>"
      ],
      "text/plain": [
       "          CP              Municipio Total Comercios B_E Industria  \\\n",
       "0          0         total_nacional       3,363,197       199,076   \n",
       "1         01                  araba          18,678         1,942   \n",
       "2      01001       alegria_dulantzi             148            20   \n",
       "3      01002                amurrio             600            63   \n",
       "4      01003                aramaio              50             8   \n",
       "...      ...                    ...             ...           ...   \n",
       "8184   50901                   biel              10                 \n",
       "8185   50902               marracos               .                 \n",
       "8186   50903  villamayor_de_gallego             166            17   \n",
       "8187   51001                  ceuta           3,789            82   \n",
       "8188   52001                melilla           5,304           117   \n",
       "\n",
       "     F Construcción Comercio, transporte y hostelería  \\\n",
       "0           422,350                         1,215,680   \n",
       "1             2,397                             7,099   \n",
       "2                26                                59   \n",
       "3                95                               251   \n",
       "4                 7                                16   \n",
       "...             ...                               ...   \n",
       "8184                                                    \n",
       "8185                                                    \n",
       "8186             18                                62   \n",
       "8187            290                             1,956   \n",
       "8188            377                             3,201   \n",
       "\n",
       "     J Información y comunicaciones K Actividades financieras y de seguros  \\\n",
       "0                            68,158                                 77,396   \n",
       "1                               359                                    326   \n",
       "2                                                                            \n",
       "3                                 6                                      9   \n",
       "4                                                                            \n",
       "...                             ...                                    ...   \n",
       "8184                                                                         \n",
       "8185                                                                         \n",
       "8186                                                                         \n",
       "8187                             33                                     47   \n",
       "8188                             49                                     46   \n",
       "\n",
       "     L Actividades inmobiliarias Actividades profesionales y técnicas  \\\n",
       "0                        179,484                              622,015   \n",
       "1                            221                                3,132   \n",
       "2                                                                       \n",
       "3                              7                                   90   \n",
       "4                                                                       \n",
       "...                          ...                                  ...   \n",
       "8184                                                                    \n",
       "8185                                                                    \n",
       "8186                                                                    \n",
       "8187                         129                                  530   \n",
       "8188                          97                                  593   \n",
       "\n",
       "     Educación, sanidad y servicios sociales Otros servicios personales  \\\n",
       "0                                    272,124                    306,914   \n",
       "1                                      1,493                      1,709   \n",
       "2                                                                         \n",
       "3                                         40                         39   \n",
       "4                                                                         \n",
       "...                                      ...                        ...   \n",
       "8184                                                                      \n",
       "8185                                                                      \n",
       "8186                                                                      \n",
       "8187                                     313                        409   \n",
       "8188                                     403                        421   \n",
       "\n",
       "     Total servicios  \n",
       "0          1,526,091  \n",
       "1              7,240  \n",
       "2                 43  \n",
       "3                191  \n",
       "4                 19  \n",
       "...              ...  \n",
       "8184                  \n",
       "8185                  \n",
       "8186              69  \n",
       "8187           1,461  \n",
       "8188           1,609  \n",
       "\n",
       "[8189 rows x 13 columns]"
      ]
     },
     "execution_count": 12,
     "metadata": {},
     "output_type": "execute_result"
    }
   ],
   "source": [
    "Comercios"
   ]
  },
  {
   "cell_type": "raw",
   "metadata": {},
   "source": [
    "##### Creo la columnas cp/municipio en ambos ficheros para cruzar por ahí  "
   ]
  },
  {
   "cell_type": "code",
   "execution_count": 13,
   "metadata": {},
   "outputs": [],
   "source": [
    "maestro_municipios['cp/citie']=maestro_municipios['postal_code']+'/'+maestro_municipios['cities_es']"
   ]
  },
  {
   "cell_type": "code",
   "execution_count": 14,
   "metadata": {},
   "outputs": [
    {
     "data": {
      "text/plain": [
       "Index(['CP', 'Municipio', 'Total Comercios', 'B_E Industria', 'F Construcción',\n",
       "       'Comercio, transporte y hostelería', 'J Información y comunicaciones',\n",
       "       'K Actividades financieras y de seguros', 'L Actividades inmobiliarias',\n",
       "       'Actividades profesionales y técnicas',\n",
       "       'Educación, sanidad y servicios sociales', 'Otros servicios personales',\n",
       "       'Total servicios'],\n",
       "      dtype='object')"
      ]
     },
     "execution_count": 14,
     "metadata": {},
     "output_type": "execute_result"
    }
   ],
   "source": [
    "Comercios.columns"
   ]
  },
  {
   "cell_type": "code",
   "execution_count": 15,
   "metadata": {},
   "outputs": [],
   "source": [
    "Comercios['CP/Municipio'] = Comercios['CP']+'/'+Comercios['Municipio']"
   ]
  },
  {
   "cell_type": "code",
   "execution_count": 16,
   "metadata": {},
   "outputs": [],
   "source": [
    "## Me quedo con las columnas que necesito del fichero de Comercios, el resto no lo quiero para nada"
   ]
  },
  {
   "cell_type": "code",
   "execution_count": 17,
   "metadata": {},
   "outputs": [],
   "source": [
    "Comercios = Comercios[['CP', 'Municipio', 'CP/Municipio', 'Total Comercios','Total servicios']]"
   ]
  },
  {
   "cell_type": "code",
   "execution_count": 18,
   "metadata": {},
   "outputs": [],
   "source": [
    "# Unión ficheros"
   ]
  },
  {
   "cell_type": "code",
   "execution_count": 19,
   "metadata": {},
   "outputs": [],
   "source": [
    "union = pd.merge(maestro_municipios, Comercios, left_on='cp/citie', right_on='CP/Municipio', how='left')"
   ]
  },
  {
   "cell_type": "code",
   "execution_count": 22,
   "metadata": {},
   "outputs": [
    {
     "data": {
      "text/plain": [
       "(14729, 23)"
      ]
     },
     "execution_count": 22,
     "metadata": {},
     "output_type": "execute_result"
    }
   ],
   "source": [
    "union.shape"
   ]
  },
  {
   "cell_type": "code",
   "execution_count": 20,
   "metadata": {},
   "outputs": [
    {
     "data": {
      "text/plain": [
       "(441, 23)"
      ]
     },
     "execution_count": 20,
     "metadata": {},
     "output_type": "execute_result"
    }
   ],
   "source": [
    "union[~union['Total Comercios'].isnull()].shape"
   ]
  },
  {
   "cell_type": "code",
   "execution_count": 21,
   "metadata": {},
   "outputs": [
    {
     "data": {
      "text/plain": [
       "(441, 23)"
      ]
     },
     "execution_count": 21,
     "metadata": {},
     "output_type": "execute_result"
    }
   ],
   "source": [
    "union[~union['Total servicios'].isnull()].shape"
   ]
  },
  {
   "cell_type": "code",
   "execution_count": 23,
   "metadata": {
    "scrolled": true
   },
   "outputs": [
    {
     "data": {
      "text/html": [
       "<div>\n",
       "<style scoped>\n",
       "    .dataframe tbody tr th:only-of-type {\n",
       "        vertical-align: middle;\n",
       "    }\n",
       "\n",
       "    .dataframe tbody tr th {\n",
       "        vertical-align: top;\n",
       "    }\n",
       "\n",
       "    .dataframe thead th {\n",
       "        text-align: right;\n",
       "    }\n",
       "</style>\n",
       "<table border=\"1\" class=\"dataframe\">\n",
       "  <thead>\n",
       "    <tr style=\"text-align: right;\">\n",
       "      <th></th>\n",
       "      <th>ine_code</th>\n",
       "      <th>postal_code</th>\n",
       "      <th>cities_es</th>\n",
       "      <th>cities</th>\n",
       "      <th>province_es</th>\n",
       "      <th>province</th>\n",
       "      <th>ccaa_es</th>\n",
       "      <th>ccaa</th>\n",
       "      <th>cities_es/province_es</th>\n",
       "      <th>cities_es/province</th>\n",
       "      <th>...</th>\n",
       "      <th>province_es/ccaa_es</th>\n",
       "      <th>province_es/ccaa</th>\n",
       "      <th>province/ccaa_es</th>\n",
       "      <th>province/ccaa</th>\n",
       "      <th>cp/citie</th>\n",
       "      <th>CP</th>\n",
       "      <th>Municipio</th>\n",
       "      <th>CP/Municipio</th>\n",
       "      <th>Total Comercios</th>\n",
       "      <th>Total servicios</th>\n",
       "    </tr>\n",
       "  </thead>\n",
       "  <tbody>\n",
       "    <tr>\n",
       "      <td>0</td>\n",
       "      <td>1001</td>\n",
       "      <td>01240</td>\n",
       "      <td>alegria_dulantzi</td>\n",
       "      <td>alegria_dulantzi</td>\n",
       "      <td>alava</td>\n",
       "      <td>araba</td>\n",
       "      <td>pais_vasco</td>\n",
       "      <td>pais_vasco</td>\n",
       "      <td>alegria_dulantzi/alava</td>\n",
       "      <td>alegria_dulantzi/araba</td>\n",
       "      <td>...</td>\n",
       "      <td>alava/pais_vasco</td>\n",
       "      <td>alava/pais_vasco</td>\n",
       "      <td>araba/pais_vasco</td>\n",
       "      <td>araba/pais_vasco</td>\n",
       "      <td>01240/alegria_dulantzi</td>\n",
       "      <td>NaN</td>\n",
       "      <td>NaN</td>\n",
       "      <td>NaN</td>\n",
       "      <td>NaN</td>\n",
       "      <td>NaN</td>\n",
       "    </tr>\n",
       "    <tr>\n",
       "      <td>1</td>\n",
       "      <td>1001</td>\n",
       "      <td>01193</td>\n",
       "      <td>alegria_dulantzi</td>\n",
       "      <td>alegria_dulantzi</td>\n",
       "      <td>alava</td>\n",
       "      <td>araba</td>\n",
       "      <td>pais_vasco</td>\n",
       "      <td>pais_vasco</td>\n",
       "      <td>alegria_dulantzi/alava</td>\n",
       "      <td>alegria_dulantzi/araba</td>\n",
       "      <td>...</td>\n",
       "      <td>alava/pais_vasco</td>\n",
       "      <td>alava/pais_vasco</td>\n",
       "      <td>araba/pais_vasco</td>\n",
       "      <td>araba/pais_vasco</td>\n",
       "      <td>01193/alegria_dulantzi</td>\n",
       "      <td>NaN</td>\n",
       "      <td>NaN</td>\n",
       "      <td>NaN</td>\n",
       "      <td>NaN</td>\n",
       "      <td>NaN</td>\n",
       "    </tr>\n",
       "    <tr>\n",
       "      <td>2</td>\n",
       "      <td>1002</td>\n",
       "      <td>01450</td>\n",
       "      <td>amurrio</td>\n",
       "      <td>amurrio</td>\n",
       "      <td>alava</td>\n",
       "      <td>araba</td>\n",
       "      <td>pais_vasco</td>\n",
       "      <td>pais_vasco</td>\n",
       "      <td>amurrio/alava</td>\n",
       "      <td>amurrio/araba</td>\n",
       "      <td>...</td>\n",
       "      <td>alava/pais_vasco</td>\n",
       "      <td>alava/pais_vasco</td>\n",
       "      <td>araba/pais_vasco</td>\n",
       "      <td>araba/pais_vasco</td>\n",
       "      <td>01450/amurrio</td>\n",
       "      <td>NaN</td>\n",
       "      <td>NaN</td>\n",
       "      <td>NaN</td>\n",
       "      <td>NaN</td>\n",
       "      <td>NaN</td>\n",
       "    </tr>\n",
       "    <tr>\n",
       "      <td>3</td>\n",
       "      <td>1002</td>\n",
       "      <td>01468</td>\n",
       "      <td>amurrio</td>\n",
       "      <td>amurrio</td>\n",
       "      <td>alava</td>\n",
       "      <td>araba</td>\n",
       "      <td>pais_vasco</td>\n",
       "      <td>pais_vasco</td>\n",
       "      <td>amurrio/alava</td>\n",
       "      <td>amurrio/araba</td>\n",
       "      <td>...</td>\n",
       "      <td>alava/pais_vasco</td>\n",
       "      <td>alava/pais_vasco</td>\n",
       "      <td>araba/pais_vasco</td>\n",
       "      <td>araba/pais_vasco</td>\n",
       "      <td>01468/amurrio</td>\n",
       "      <td>NaN</td>\n",
       "      <td>NaN</td>\n",
       "      <td>NaN</td>\n",
       "      <td>NaN</td>\n",
       "      <td>NaN</td>\n",
       "    </tr>\n",
       "    <tr>\n",
       "      <td>4</td>\n",
       "      <td>1002</td>\n",
       "      <td>01470</td>\n",
       "      <td>amurrio</td>\n",
       "      <td>amurrio</td>\n",
       "      <td>alava</td>\n",
       "      <td>araba</td>\n",
       "      <td>pais_vasco</td>\n",
       "      <td>pais_vasco</td>\n",
       "      <td>amurrio/alava</td>\n",
       "      <td>amurrio/araba</td>\n",
       "      <td>...</td>\n",
       "      <td>alava/pais_vasco</td>\n",
       "      <td>alava/pais_vasco</td>\n",
       "      <td>araba/pais_vasco</td>\n",
       "      <td>araba/pais_vasco</td>\n",
       "      <td>01470/amurrio</td>\n",
       "      <td>NaN</td>\n",
       "      <td>NaN</td>\n",
       "      <td>NaN</td>\n",
       "      <td>NaN</td>\n",
       "      <td>NaN</td>\n",
       "    </tr>\n",
       "    <tr>\n",
       "      <td>5</td>\n",
       "      <td>1003</td>\n",
       "      <td>01160</td>\n",
       "      <td>aramaio</td>\n",
       "      <td>aramaio</td>\n",
       "      <td>alava</td>\n",
       "      <td>araba</td>\n",
       "      <td>pais_vasco</td>\n",
       "      <td>pais_vasco</td>\n",
       "      <td>aramaio/alava</td>\n",
       "      <td>aramaio/araba</td>\n",
       "      <td>...</td>\n",
       "      <td>alava/pais_vasco</td>\n",
       "      <td>alava/pais_vasco</td>\n",
       "      <td>araba/pais_vasco</td>\n",
       "      <td>araba/pais_vasco</td>\n",
       "      <td>01160/aramaio</td>\n",
       "      <td>NaN</td>\n",
       "      <td>NaN</td>\n",
       "      <td>NaN</td>\n",
       "      <td>NaN</td>\n",
       "      <td>NaN</td>\n",
       "    </tr>\n",
       "    <tr>\n",
       "      <td>6</td>\n",
       "      <td>1003</td>\n",
       "      <td>01165</td>\n",
       "      <td>aramaio</td>\n",
       "      <td>aramaio</td>\n",
       "      <td>alava</td>\n",
       "      <td>araba</td>\n",
       "      <td>pais_vasco</td>\n",
       "      <td>pais_vasco</td>\n",
       "      <td>aramaio/alava</td>\n",
       "      <td>aramaio/araba</td>\n",
       "      <td>...</td>\n",
       "      <td>alava/pais_vasco</td>\n",
       "      <td>alava/pais_vasco</td>\n",
       "      <td>araba/pais_vasco</td>\n",
       "      <td>araba/pais_vasco</td>\n",
       "      <td>01165/aramaio</td>\n",
       "      <td>NaN</td>\n",
       "      <td>NaN</td>\n",
       "      <td>NaN</td>\n",
       "      <td>NaN</td>\n",
       "      <td>NaN</td>\n",
       "    </tr>\n",
       "    <tr>\n",
       "      <td>7</td>\n",
       "      <td>1003</td>\n",
       "      <td>01169</td>\n",
       "      <td>aramaio</td>\n",
       "      <td>aramaio</td>\n",
       "      <td>alava</td>\n",
       "      <td>araba</td>\n",
       "      <td>pais_vasco</td>\n",
       "      <td>pais_vasco</td>\n",
       "      <td>aramaio/alava</td>\n",
       "      <td>aramaio/araba</td>\n",
       "      <td>...</td>\n",
       "      <td>alava/pais_vasco</td>\n",
       "      <td>alava/pais_vasco</td>\n",
       "      <td>araba/pais_vasco</td>\n",
       "      <td>araba/pais_vasco</td>\n",
       "      <td>01169/aramaio</td>\n",
       "      <td>NaN</td>\n",
       "      <td>NaN</td>\n",
       "      <td>NaN</td>\n",
       "      <td>NaN</td>\n",
       "      <td>NaN</td>\n",
       "    </tr>\n",
       "    <tr>\n",
       "      <td>8</td>\n",
       "      <td>1004</td>\n",
       "      <td>01474</td>\n",
       "      <td>artziniega</td>\n",
       "      <td>artziniega</td>\n",
       "      <td>alava</td>\n",
       "      <td>araba</td>\n",
       "      <td>pais_vasco</td>\n",
       "      <td>pais_vasco</td>\n",
       "      <td>artziniega/alava</td>\n",
       "      <td>artziniega/araba</td>\n",
       "      <td>...</td>\n",
       "      <td>alava/pais_vasco</td>\n",
       "      <td>alava/pais_vasco</td>\n",
       "      <td>araba/pais_vasco</td>\n",
       "      <td>araba/pais_vasco</td>\n",
       "      <td>01474/artziniega</td>\n",
       "      <td>NaN</td>\n",
       "      <td>NaN</td>\n",
       "      <td>NaN</td>\n",
       "      <td>NaN</td>\n",
       "      <td>NaN</td>\n",
       "    </tr>\n",
       "    <tr>\n",
       "      <td>9</td>\n",
       "      <td>1004</td>\n",
       "      <td>01478</td>\n",
       "      <td>artziniega</td>\n",
       "      <td>artziniega</td>\n",
       "      <td>alava</td>\n",
       "      <td>araba</td>\n",
       "      <td>pais_vasco</td>\n",
       "      <td>pais_vasco</td>\n",
       "      <td>artziniega/alava</td>\n",
       "      <td>artziniega/araba</td>\n",
       "      <td>...</td>\n",
       "      <td>alava/pais_vasco</td>\n",
       "      <td>alava/pais_vasco</td>\n",
       "      <td>araba/pais_vasco</td>\n",
       "      <td>araba/pais_vasco</td>\n",
       "      <td>01478/artziniega</td>\n",
       "      <td>NaN</td>\n",
       "      <td>NaN</td>\n",
       "      <td>NaN</td>\n",
       "      <td>NaN</td>\n",
       "      <td>NaN</td>\n",
       "    </tr>\n",
       "  </tbody>\n",
       "</table>\n",
       "<p>10 rows × 23 columns</p>\n",
       "</div>"
      ],
      "text/plain": [
       "   ine_code postal_code         cities_es            cities province_es  \\\n",
       "0      1001       01240  alegria_dulantzi  alegria_dulantzi       alava   \n",
       "1      1001       01193  alegria_dulantzi  alegria_dulantzi       alava   \n",
       "2      1002       01450           amurrio           amurrio       alava   \n",
       "3      1002       01468           amurrio           amurrio       alava   \n",
       "4      1002       01470           amurrio           amurrio       alava   \n",
       "5      1003       01160           aramaio           aramaio       alava   \n",
       "6      1003       01165           aramaio           aramaio       alava   \n",
       "7      1003       01169           aramaio           aramaio       alava   \n",
       "8      1004       01474        artziniega        artziniega       alava   \n",
       "9      1004       01478        artziniega        artziniega       alava   \n",
       "\n",
       "  province     ccaa_es        ccaa   cities_es/province_es  \\\n",
       "0    araba  pais_vasco  pais_vasco  alegria_dulantzi/alava   \n",
       "1    araba  pais_vasco  pais_vasco  alegria_dulantzi/alava   \n",
       "2    araba  pais_vasco  pais_vasco           amurrio/alava   \n",
       "3    araba  pais_vasco  pais_vasco           amurrio/alava   \n",
       "4    araba  pais_vasco  pais_vasco           amurrio/alava   \n",
       "5    araba  pais_vasco  pais_vasco           aramaio/alava   \n",
       "6    araba  pais_vasco  pais_vasco           aramaio/alava   \n",
       "7    araba  pais_vasco  pais_vasco           aramaio/alava   \n",
       "8    araba  pais_vasco  pais_vasco        artziniega/alava   \n",
       "9    araba  pais_vasco  pais_vasco        artziniega/alava   \n",
       "\n",
       "       cities_es/province  ... province_es/ccaa_es  province_es/ccaa  \\\n",
       "0  alegria_dulantzi/araba  ...    alava/pais_vasco  alava/pais_vasco   \n",
       "1  alegria_dulantzi/araba  ...    alava/pais_vasco  alava/pais_vasco   \n",
       "2           amurrio/araba  ...    alava/pais_vasco  alava/pais_vasco   \n",
       "3           amurrio/araba  ...    alava/pais_vasco  alava/pais_vasco   \n",
       "4           amurrio/araba  ...    alava/pais_vasco  alava/pais_vasco   \n",
       "5           aramaio/araba  ...    alava/pais_vasco  alava/pais_vasco   \n",
       "6           aramaio/araba  ...    alava/pais_vasco  alava/pais_vasco   \n",
       "7           aramaio/araba  ...    alava/pais_vasco  alava/pais_vasco   \n",
       "8        artziniega/araba  ...    alava/pais_vasco  alava/pais_vasco   \n",
       "9        artziniega/araba  ...    alava/pais_vasco  alava/pais_vasco   \n",
       "\n",
       "   province/ccaa_es     province/ccaa                cp/citie   CP Municipio  \\\n",
       "0  araba/pais_vasco  araba/pais_vasco  01240/alegria_dulantzi  NaN       NaN   \n",
       "1  araba/pais_vasco  araba/pais_vasco  01193/alegria_dulantzi  NaN       NaN   \n",
       "2  araba/pais_vasco  araba/pais_vasco           01450/amurrio  NaN       NaN   \n",
       "3  araba/pais_vasco  araba/pais_vasco           01468/amurrio  NaN       NaN   \n",
       "4  araba/pais_vasco  araba/pais_vasco           01470/amurrio  NaN       NaN   \n",
       "5  araba/pais_vasco  araba/pais_vasco           01160/aramaio  NaN       NaN   \n",
       "6  araba/pais_vasco  araba/pais_vasco           01165/aramaio  NaN       NaN   \n",
       "7  araba/pais_vasco  araba/pais_vasco           01169/aramaio  NaN       NaN   \n",
       "8  araba/pais_vasco  araba/pais_vasco        01474/artziniega  NaN       NaN   \n",
       "9  araba/pais_vasco  araba/pais_vasco        01478/artziniega  NaN       NaN   \n",
       "\n",
       "  CP/Municipio Total Comercios Total servicios  \n",
       "0          NaN             NaN             NaN  \n",
       "1          NaN             NaN             NaN  \n",
       "2          NaN             NaN             NaN  \n",
       "3          NaN             NaN             NaN  \n",
       "4          NaN             NaN             NaN  \n",
       "5          NaN             NaN             NaN  \n",
       "6          NaN             NaN             NaN  \n",
       "7          NaN             NaN             NaN  \n",
       "8          NaN             NaN             NaN  \n",
       "9          NaN             NaN             NaN  \n",
       "\n",
       "[10 rows x 23 columns]"
      ]
     },
     "execution_count": 23,
     "metadata": {},
     "output_type": "execute_result"
    }
   ],
   "source": [
    "union.head(10)"
   ]
  },
  {
   "cell_type": "markdown",
   "metadata": {},
   "source": [
    "##### IRPF / Salario"
   ]
  },
  {
   "cell_type": "code",
   "execution_count": 27,
   "metadata": {},
   "outputs": [],
   "source": [
    "IRPF = pd.read_csv(\"Economia_IRPF_municipios_2017.csv\", dtype={'CP_AT': object})\n",
    "\n",
    "#, index_col=0, dtype={'cp': object}"
   ]
  },
  {
   "cell_type": "code",
   "execution_count": 28,
   "metadata": {},
   "outputs": [
    {
     "data": {
      "text/plain": [
       "(2897, 7)"
      ]
     },
     "execution_count": 28,
     "metadata": {},
     "output_type": "execute_result"
    }
   ],
   "source": [
    "IRPF.shape"
   ]
  },
  {
   "cell_type": "code",
   "execution_count": 29,
   "metadata": {
    "scrolled": false
   },
   "outputs": [
    {
     "data": {
      "text/html": [
       "<div>\n",
       "<style scoped>\n",
       "    .dataframe tbody tr th:only-of-type {\n",
       "        vertical-align: middle;\n",
       "    }\n",
       "\n",
       "    .dataframe tbody tr th {\n",
       "        vertical-align: top;\n",
       "    }\n",
       "\n",
       "    .dataframe thead th {\n",
       "        text-align: right;\n",
       "    }\n",
       "</style>\n",
       "<table border=\"1\" class=\"dataframe\">\n",
       "  <thead>\n",
       "    <tr style=\"text-align: right;\">\n",
       "      <th></th>\n",
       "      <th>Unnamed: 0</th>\n",
       "      <th>n_habitantes</th>\n",
       "      <th>Renta_disponible</th>\n",
       "      <th>CCAA</th>\n",
       "      <th>PROVINCIA</th>\n",
       "      <th>MUNICIPIO</th>\n",
       "      <th>CP_AT</th>\n",
       "    </tr>\n",
       "  </thead>\n",
       "  <tbody>\n",
       "    <tr>\n",
       "      <td>0</td>\n",
       "      <td>57</td>\n",
       "      <td>1005.0</td>\n",
       "      <td>8092773.17</td>\n",
       "      <td>aragon</td>\n",
       "      <td>zaragoza</td>\n",
       "      <td>bujaraloz</td>\n",
       "      <td>50059.0</td>\n",
       "    </tr>\n",
       "    <tr>\n",
       "      <td>1</td>\n",
       "      <td>58</td>\n",
       "      <td>1047.0</td>\n",
       "      <td>8434679.97</td>\n",
       "      <td>comunitat_valenciana</td>\n",
       "      <td>valencia</td>\n",
       "      <td>palmera</td>\n",
       "      <td>46188.0</td>\n",
       "    </tr>\n",
       "  </tbody>\n",
       "</table>\n",
       "</div>"
      ],
      "text/plain": [
       "   Unnamed: 0  n_habitantes  Renta_disponible                  CCAA PROVINCIA  \\\n",
       "0          57        1005.0        8092773.17                aragon  zaragoza   \n",
       "1          58        1047.0        8434679.97  comunitat_valenciana  valencia   \n",
       "\n",
       "   MUNICIPIO    CP_AT  \n",
       "0  bujaraloz  50059.0  \n",
       "1    palmera  46188.0  "
      ]
     },
     "execution_count": 29,
     "metadata": {},
     "output_type": "execute_result"
    }
   ],
   "source": [
    "IRPF.head(2)"
   ]
  },
  {
   "cell_type": "code",
   "execution_count": 30,
   "metadata": {},
   "outputs": [
    {
     "data": {
      "text/plain": [
       "Index(['Unnamed: 0', 'n_habitantes', 'Renta_disponible', 'CCAA', 'PROVINCIA',\n",
       "       'MUNICIPIO', 'CP_AT'],\n",
       "      dtype='object')"
      ]
     },
     "execution_count": 30,
     "metadata": {},
     "output_type": "execute_result"
    }
   ],
   "source": [
    "IRPF.columns"
   ]
  },
  {
   "cell_type": "code",
   "execution_count": 31,
   "metadata": {},
   "outputs": [],
   "source": [
    "IRPF=IRPF[['n_habitantes', 'Renta_disponible', 'CCAA', 'PROVINCIA',\n",
    "       'MUNICIPIO', 'CP_AT']]"
   ]
  },
  {
   "cell_type": "code",
   "execution_count": 32,
   "metadata": {},
   "outputs": [],
   "source": [
    "# Voy a cruzar por la combinacion municipio/provincia"
   ]
  },
  {
   "cell_type": "code",
   "execution_count": 33,
   "metadata": {},
   "outputs": [],
   "source": [
    "IRPF['mun/pro'] = IRPF['MUNICIPIO']+'/'+IRPF['PROVINCIA']"
   ]
  },
  {
   "cell_type": "code",
   "execution_count": 34,
   "metadata": {},
   "outputs": [],
   "source": [
    "union['mun/pro']=union['cities_es']+'/'+union['province_es']"
   ]
  },
  {
   "cell_type": "code",
   "execution_count": 35,
   "metadata": {},
   "outputs": [],
   "source": [
    "# concatenación ficheros"
   ]
  },
  {
   "cell_type": "code",
   "execution_count": 36,
   "metadata": {},
   "outputs": [],
   "source": [
    "union_2 = pd.merge(union, IRPF, left_on='mun/pro', right_on='mun/pro', how='left')"
   ]
  },
  {
   "cell_type": "code",
   "execution_count": 37,
   "metadata": {},
   "outputs": [
    {
     "data": {
      "text/plain": [
       "(16052, 30)"
      ]
     },
     "execution_count": 37,
     "metadata": {},
     "output_type": "execute_result"
    }
   ],
   "source": [
    "union_2.shape"
   ]
  },
  {
   "cell_type": "code",
   "execution_count": 38,
   "metadata": {},
   "outputs": [
    {
     "data": {
      "text/plain": [
       "(6725, 30)"
      ]
     },
     "execution_count": 38,
     "metadata": {},
     "output_type": "execute_result"
    }
   ],
   "source": [
    "union_2[~union_2['Renta_disponible'].isnull()].shape"
   ]
  },
  {
   "cell_type": "code",
   "execution_count": null,
   "metadata": {},
   "outputs": [],
   "source": [
    "##!! han aumentado las filas de la unión. +1323\n",
    "\n",
    "# ¿?"
   ]
  },
  {
   "cell_type": "markdown",
   "metadata": {},
   "source": [
    "##### PIB"
   ]
  },
  {
   "cell_type": "code",
   "execution_count": 39,
   "metadata": {},
   "outputs": [],
   "source": [
    "PIB = pd.read_csv(\"Economia_PIB_provincias_2017.csv\")\n",
    "\n",
    "#, index_col=0, dtype={'codigo_postal': object}"
   ]
  },
  {
   "cell_type": "code",
   "execution_count": 40,
   "metadata": {},
   "outputs": [
    {
     "data": {
      "text/plain": [
       "(52, 3)"
      ]
     },
     "execution_count": 40,
     "metadata": {},
     "output_type": "execute_result"
    }
   ],
   "source": [
    "PIB.shape"
   ]
  },
  {
   "cell_type": "code",
   "execution_count": 41,
   "metadata": {},
   "outputs": [
    {
     "data": {
      "text/html": [
       "<div>\n",
       "<style scoped>\n",
       "    .dataframe tbody tr th:only-of-type {\n",
       "        vertical-align: middle;\n",
       "    }\n",
       "\n",
       "    .dataframe tbody tr th {\n",
       "        vertical-align: top;\n",
       "    }\n",
       "\n",
       "    .dataframe thead th {\n",
       "        text-align: right;\n",
       "    }\n",
       "</style>\n",
       "<table border=\"1\" class=\"dataframe\">\n",
       "  <thead>\n",
       "    <tr style=\"text-align: right;\">\n",
       "      <th></th>\n",
       "      <th>Unnamed: 0</th>\n",
       "      <th>provincia</th>\n",
       "      <th>PIB pm</th>\n",
       "    </tr>\n",
       "  </thead>\n",
       "  <tbody>\n",
       "    <tr>\n",
       "      <td>0</td>\n",
       "      <td>0</td>\n",
       "      <td>albacete</td>\n",
       "      <td>7762548</td>\n",
       "    </tr>\n",
       "    <tr>\n",
       "      <td>1</td>\n",
       "      <td>1</td>\n",
       "      <td>alicante</td>\n",
       "      <td>35061866</td>\n",
       "    </tr>\n",
       "  </tbody>\n",
       "</table>\n",
       "</div>"
      ],
      "text/plain": [
       "   Unnamed: 0 provincia    PIB pm\n",
       "0           0  albacete   7762548\n",
       "1           1  alicante  35061866"
      ]
     },
     "execution_count": 41,
     "metadata": {},
     "output_type": "execute_result"
    }
   ],
   "source": [
    "PIB.head(2)"
   ]
  },
  {
   "cell_type": "code",
   "execution_count": 42,
   "metadata": {},
   "outputs": [
    {
     "data": {
      "text/plain": [
       "Index(['Unnamed: 0', 'provincia', 'PIB pm'], dtype='object')"
      ]
     },
     "execution_count": 42,
     "metadata": {},
     "output_type": "execute_result"
    }
   ],
   "source": [
    "PIB.columns"
   ]
  },
  {
   "cell_type": "code",
   "execution_count": 43,
   "metadata": {},
   "outputs": [],
   "source": [
    "PIB=PIB[['provincia', 'PIB pm']]"
   ]
  },
  {
   "cell_type": "code",
   "execution_count": 44,
   "metadata": {},
   "outputs": [],
   "source": [
    "# Concatenación ficheros"
   ]
  },
  {
   "cell_type": "code",
   "execution_count": 45,
   "metadata": {},
   "outputs": [],
   "source": [
    "union_3 = pd.merge(union_2, PIB, left_on='province_es', right_on='provincia', how='left')"
   ]
  },
  {
   "cell_type": "code",
   "execution_count": 46,
   "metadata": {},
   "outputs": [
    {
     "data": {
      "text/plain": [
       "(16052, 32)"
      ]
     },
     "execution_count": 46,
     "metadata": {},
     "output_type": "execute_result"
    }
   ],
   "source": [
    "union_3.shape"
   ]
  },
  {
   "cell_type": "code",
   "execution_count": 47,
   "metadata": {},
   "outputs": [
    {
     "data": {
      "text/plain": [
       "(12895, 32)"
      ]
     },
     "execution_count": 47,
     "metadata": {},
     "output_type": "execute_result"
    }
   ],
   "source": [
    "union_3[~union_3['PIB pm'].isnull()].shape"
   ]
  },
  {
   "cell_type": "code",
   "execution_count": 48,
   "metadata": {},
   "outputs": [
    {
     "data": {
      "text/plain": [
       "Index(['ine_code', 'postal_code', 'cities_es', 'cities', 'province_es',\n",
       "       'province', 'ccaa_es', 'ccaa', 'cities_es/province_es',\n",
       "       'cities_es/province', 'cities_es/ccaa_es', 'cities_es/ccaa',\n",
       "       'cities/province_es', 'province_es/ccaa_es', 'province_es/ccaa',\n",
       "       'province/ccaa_es', 'province/ccaa', 'cp/citie', 'CP', 'Municipio',\n",
       "       'CP/Municipio', 'Total Comercios', 'Total servicios', 'mun/pro',\n",
       "       'n_habitantes', 'Renta_disponible', 'CCAA', 'PROVINCIA', 'MUNICIPIO',\n",
       "       'CP_AT', 'provincia', 'PIB pm'],\n",
       "      dtype='object')"
      ]
     },
     "execution_count": 48,
     "metadata": {},
     "output_type": "execute_result"
    }
   ],
   "source": [
    "union_3.columns"
   ]
  },
  {
   "cell_type": "code",
   "execution_count": 49,
   "metadata": {},
   "outputs": [],
   "source": [
    "union_3=union_3[['ine_code','CP_AT', 'postal_code', 'cities_es', 'cities', 'province_es',\n",
    "       'province', 'ccaa_es', 'ccaa', 'cities_es/province_es',\n",
    "       'cities_es/province', 'cities_es/ccaa_es', 'cities_es/ccaa',\n",
    "       'cities/province_es', 'province_es/ccaa_es', 'province_es/ccaa',\n",
    "       'province/ccaa_es', 'province/ccaa', 'cp/citie', 'CP', 'Municipio',\n",
    "       'CP/Municipio', 'Total Comercios', 'Total servicios', \n",
    "       'n_habitantes', 'Renta_disponible', 'PIB pm']]"
   ]
  },
  {
   "cell_type": "code",
   "execution_count": 50,
   "metadata": {},
   "outputs": [
    {
     "data": {
      "text/plain": [
       "(16052, 27)"
      ]
     },
     "execution_count": 50,
     "metadata": {},
     "output_type": "execute_result"
    }
   ],
   "source": [
    "union_3.shape"
   ]
  },
  {
   "cell_type": "markdown",
   "metadata": {},
   "source": [
    "# Exportación fichero unión Sandra "
   ]
  },
  {
   "cell_type": "code",
   "execution_count": 51,
   "metadata": {},
   "outputs": [],
   "source": [
    "union_3.to_csv(\"union_ficheros_sandra.csv\")"
   ]
  }
 ],
 "metadata": {
  "kernelspec": {
   "display_name": "Python 3",
   "language": "python",
   "name": "python3"
  },
  "language_info": {
   "codemirror_mode": {
    "name": "ipython",
    "version": 3
   },
   "file_extension": ".py",
   "mimetype": "text/x-python",
   "name": "python",
   "nbconvert_exporter": "python",
   "pygments_lexer": "ipython3",
   "version": "3.7.4"
  }
 },
 "nbformat": 4,
 "nbformat_minor": 4
}
