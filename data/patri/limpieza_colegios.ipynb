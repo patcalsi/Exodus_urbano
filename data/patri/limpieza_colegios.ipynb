{
 "cells": [
  {
   "cell_type": "code",
   "execution_count": 2,
   "metadata": {},
   "outputs": [],
   "source": [
    "import pandas as pd\n",
    "import matplotlib.pyplot as plt\n",
    "import numpy as np\n",
    "import re\n",
    "import unidecode\n",
    "import os"
   ]
  },
  {
   "cell_type": "markdown",
   "metadata": {},
   "source": [
    "#### Funciones"
   ]
  },
  {
   "cell_type": "code",
   "execution_count": 3,
   "metadata": {},
   "outputs": [],
   "source": [
    "def doClean(a):   \n",
    "    \n",
    "    # Quitar las expresiones tras la barra /\n",
    "    a = re.sub('\\/.*', '', a)\n",
    "    # Quitar las aclaraciones entre paréntesis\n",
    "    a = re.sub('\\(.*\\)', '', a)\n",
    "    # Quitar acentos \n",
    "    a = unidecode.unidecode(a)\n",
    "    # Quitar aquello que no sean palabras o cosa que se le parezca\n",
    "    a = re.sub('\\W', ' ', a) \n",
    "    # Quitar espacios extra en caso de haber\n",
    "    a = re.sub('\\s+', ' ', a)\n",
    "    # Pasar el texto a minúsulas\n",
    "    a = a.lower() \n",
    "    # Quitar espacio izq\n",
    "    a = a.lstrip()\n",
    "    # Quitar espacio derecha\n",
    "    a = a.rstrip()\n",
    "    a = re.sub(' ', '_', a)\n",
    "    #a = a.strip() \n",
    "    \n",
    "    return a"
   ]
  },
  {
   "cell_type": "markdown",
   "metadata": {},
   "source": [
    "#### Carga de ficheros"
   ]
  },
  {
   "cell_type": "code",
   "execution_count": 48,
   "metadata": {},
   "outputs": [
    {
     "data": {
      "text/plain": [
       "'/home/patcalsi/projects/Exodus_urbano/data/patri'"
      ]
     },
     "execution_count": 48,
     "metadata": {},
     "output_type": "execute_result"
    }
   ],
   "source": [
    "os.getcwd()"
   ]
  },
  {
   "cell_type": "code",
   "execution_count": 66,
   "metadata": {},
   "outputs": [],
   "source": [
    "list_coles_name = os.listdir('./colegios')"
   ]
  },
  {
   "cell_type": "code",
   "execution_count": 67,
   "metadata": {},
   "outputs": [],
   "source": [
    "lista_coles = []\n",
    "\n",
    "for filename in list_coles_name:\n",
    "    df = pd.read_excel(\"colegios/\"+filename, dtype={'C. Postal':object})\n",
    "    lista_coles.append(df)\n",
    "\n",
    "colegios = pd.concat(lista_coles, axis=0, ignore_index=True)"
   ]
  },
  {
   "cell_type": "code",
   "execution_count": 133,
   "metadata": {},
   "outputs": [],
   "source": [
    "colegios.to_csv(\"sociedad_educacion_colegios_2020.csv\")"
   ]
  },
  {
   "cell_type": "code",
   "execution_count": 68,
   "metadata": {},
   "outputs": [
    {
     "data": {
      "text/plain": [
       "(38236, 9)"
      ]
     },
     "execution_count": 68,
     "metadata": {},
     "output_type": "execute_result"
    }
   ],
   "source": [
    "colegios.shape"
   ]
  },
  {
   "cell_type": "code",
   "execution_count": 69,
   "metadata": {},
   "outputs": [
    {
     "name": "stdout",
     "output_type": "stream",
     "text": [
      "<class 'pandas.core.frame.DataFrame'>\n",
      "RangeIndex: 38236 entries, 0 to 38235\n",
      "Data columns (total 9 columns):\n",
      " #   Column                   Non-Null Count  Dtype \n",
      "---  ------                   --------------  ----- \n",
      " 0   Provincia                38236 non-null  object\n",
      " 1   Localidad                38236 non-null  object\n",
      " 2   Denominación genérica    32080 non-null  object\n",
      " 3   Denominación específica  38236 non-null  object\n",
      " 4   Código                   38236 non-null  int64 \n",
      " 5   Naturaleza               38236 non-null  object\n",
      " 6   Domicilio                38236 non-null  object\n",
      " 7   C. Postal                38236 non-null  object\n",
      " 8   Teléfono                 26759 non-null  object\n",
      "dtypes: int64(1), object(8)\n",
      "memory usage: 2.6+ MB\n"
     ]
    }
   ],
   "source": [
    "colegios.info()"
   ]
  },
  {
   "cell_type": "code",
   "execution_count": 70,
   "metadata": {},
   "outputs": [
    {
     "data": {
      "text/html": [
       "<div>\n",
       "<style scoped>\n",
       "    .dataframe tbody tr th:only-of-type {\n",
       "        vertical-align: middle;\n",
       "    }\n",
       "\n",
       "    .dataframe tbody tr th {\n",
       "        vertical-align: top;\n",
       "    }\n",
       "\n",
       "    .dataframe thead th {\n",
       "        text-align: right;\n",
       "    }\n",
       "</style>\n",
       "<table border=\"1\" class=\"dataframe\">\n",
       "  <thead>\n",
       "    <tr style=\"text-align: right;\">\n",
       "      <th></th>\n",
       "      <th>Provincia</th>\n",
       "      <th>Localidad</th>\n",
       "      <th>Denominación genérica</th>\n",
       "      <th>Denominación específica</th>\n",
       "      <th>Código</th>\n",
       "      <th>Naturaleza</th>\n",
       "      <th>Domicilio</th>\n",
       "      <th>C. Postal</th>\n",
       "      <th>Teléfono</th>\n",
       "    </tr>\n",
       "  </thead>\n",
       "  <tbody>\n",
       "    <tr>\n",
       "      <th>0</th>\n",
       "      <td>Cádiz</td>\n",
       "      <td>Alcalá de los Gazules</td>\n",
       "      <td>Centro de Educación de Adultos</td>\n",
       "      <td>Río Verde</td>\n",
       "      <td>11500501</td>\n",
       "      <td>Centro público</td>\n",
       "      <td>Lepanto, 7</td>\n",
       "      <td>11180</td>\n",
       "      <td>9.5642e+08</td>\n",
       "    </tr>\n",
       "    <tr>\n",
       "      <th>1</th>\n",
       "      <td>Cádiz</td>\n",
       "      <td>Alcalá de los Gazules</td>\n",
       "      <td>Centro Docente Privado</td>\n",
       "      <td>Escuelas Profesionales de la Sagrada Familia</td>\n",
       "      <td>11000022</td>\n",
       "      <td>Centro privado</td>\n",
       "      <td>Sánchez Aguayo, 2</td>\n",
       "      <td>11180</td>\n",
       "      <td>NaN</td>\n",
       "    </tr>\n",
       "    <tr>\n",
       "      <th>2</th>\n",
       "      <td>Cádiz</td>\n",
       "      <td>Alcalá de los Gazules</td>\n",
       "      <td>Centro Docente Privado</td>\n",
       "      <td>Jesús, María y José</td>\n",
       "      <td>11000034</td>\n",
       "      <td>Centro privado</td>\n",
       "      <td>Ángel de Viera, 1</td>\n",
       "      <td>11180</td>\n",
       "      <td>NaN</td>\n",
       "    </tr>\n",
       "    <tr>\n",
       "      <th>3</th>\n",
       "      <td>Cádiz</td>\n",
       "      <td>Alcalá de los Gazules</td>\n",
       "      <td>Colegio de Educación Infantil y Primaria</td>\n",
       "      <td>Juan Armario</td>\n",
       "      <td>11000010</td>\n",
       "      <td>Centro público</td>\n",
       "      <td>San Antonio, s/n</td>\n",
       "      <td>11180</td>\n",
       "      <td>NaN</td>\n",
       "    </tr>\n",
       "    <tr>\n",
       "      <th>4</th>\n",
       "      <td>Cádiz</td>\n",
       "      <td>Alcalá de los Gazules</td>\n",
       "      <td>Escuela Hogar</td>\n",
       "      <td>ESCUELA HOGAR JESUS, MARIA Y JOSE</td>\n",
       "      <td>11000061</td>\n",
       "      <td>Centro público</td>\n",
       "      <td>ANGEL DE VIERA 1</td>\n",
       "      <td>11180</td>\n",
       "      <td>9.5642e+08</td>\n",
       "    </tr>\n",
       "  </tbody>\n",
       "</table>\n",
       "</div>"
      ],
      "text/plain": [
       "  Provincia              Localidad                     Denominación genérica  \\\n",
       "0     Cádiz  Alcalá de los Gazules            Centro de Educación de Adultos   \n",
       "1     Cádiz  Alcalá de los Gazules                    Centro Docente Privado   \n",
       "2     Cádiz  Alcalá de los Gazules                    Centro Docente Privado   \n",
       "3     Cádiz  Alcalá de los Gazules  Colegio de Educación Infantil y Primaria   \n",
       "4     Cádiz  Alcalá de los Gazules                             Escuela Hogar   \n",
       "\n",
       "                        Denominación específica    Código      Naturaleza  \\\n",
       "0                                     Río Verde  11500501  Centro público   \n",
       "1  Escuelas Profesionales de la Sagrada Familia  11000022  Centro privado   \n",
       "2                           Jesús, María y José  11000034  Centro privado   \n",
       "3                                  Juan Armario  11000010  Centro público   \n",
       "4             ESCUELA HOGAR JESUS, MARIA Y JOSE  11000061  Centro público   \n",
       "\n",
       "           Domicilio C. Postal    Teléfono  \n",
       "0         Lepanto, 7     11180  9.5642e+08  \n",
       "1  Sánchez Aguayo, 2     11180         NaN  \n",
       "2  Ángel de Viera, 1     11180         NaN  \n",
       "3   San Antonio, s/n     11180         NaN  \n",
       "4   ANGEL DE VIERA 1     11180  9.5642e+08  "
      ]
     },
     "execution_count": 70,
     "metadata": {},
     "output_type": "execute_result"
    }
   ],
   "source": [
    "colegios.head()"
   ]
  },
  {
   "cell_type": "code",
   "execution_count": 71,
   "metadata": {
    "scrolled": false
   },
   "outputs": [
    {
     "name": "stdout",
     "output_type": "stream",
     "text": [
      "<class 'pandas.core.frame.DataFrame'>\n",
      "RangeIndex: 38236 entries, 0 to 38235\n",
      "Data columns (total 9 columns):\n",
      " #   Column                   Non-Null Count  Dtype \n",
      "---  ------                   --------------  ----- \n",
      " 0   Provincia                38236 non-null  object\n",
      " 1   Localidad                38236 non-null  object\n",
      " 2   Denominación genérica    32080 non-null  object\n",
      " 3   Denominación específica  38236 non-null  object\n",
      " 4   Código                   38236 non-null  int64 \n",
      " 5   Naturaleza               38236 non-null  object\n",
      " 6   Domicilio                38236 non-null  object\n",
      " 7   C. Postal                38236 non-null  object\n",
      " 8   Teléfono                 26759 non-null  object\n",
      "dtypes: int64(1), object(8)\n",
      "memory usage: 2.6+ MB\n"
     ]
    }
   ],
   "source": [
    "colegios.info()"
   ]
  },
  {
   "cell_type": "code",
   "execution_count": 72,
   "metadata": {
    "scrolled": false
   },
   "outputs": [
    {
     "data": {
      "text/plain": [
       "Provincia                     52\n",
       "Localidad                   6190\n",
       "Denominación genérica        222\n",
       "Denominación específica    25788\n",
       "Código                     34346\n",
       "Naturaleza                     2\n",
       "Domicilio                  31917\n",
       "C. Postal                   6336\n",
       "Teléfono                   22894\n",
       "dtype: int64"
      ]
     },
     "execution_count": 72,
     "metadata": {},
     "output_type": "execute_result"
    }
   ],
   "source": [
    "colegios.nunique()"
   ]
  },
  {
   "cell_type": "code",
   "execution_count": 73,
   "metadata": {
    "scrolled": false
   },
   "outputs": [
    {
     "data": {
      "text/plain": [
       "array(['A Coruña', 'Albacete', 'Alicante/Alacant', 'Almería',\n",
       "       'Araba/Álava', 'Asturias', 'Badajoz', 'Barcelona', 'Bizkaia',\n",
       "       'Burgos', 'Cantabria', 'Castellón/Castelló', 'Ceuta',\n",
       "       'Ciudad Real', 'Cuenca', 'Cáceres', 'Cádiz', 'Córdoba', 'Gipuzkoa',\n",
       "       'Girona', 'Granada', 'Guadalajara', 'Huelva', 'Huesca',\n",
       "       'Illes Balears', 'Jaén', 'La Rioja', 'Las Palmas', 'León',\n",
       "       'Lleida', 'Lugo', 'Madrid', 'Melilla', 'Murcia', 'Málaga',\n",
       "       'Navarra', 'Ourense', 'Palencia', 'Pontevedra', 'Salamanca',\n",
       "       'Santa Cruz de Tenerife', 'Segovia', 'Sevilla', 'Soria',\n",
       "       'Tarragona', 'Teruel', 'Toledo', 'Valencia/València', 'Valladolid',\n",
       "       'Zamora', 'Zaragoza', 'Ávila'], dtype=object)"
      ]
     },
     "execution_count": 73,
     "metadata": {},
     "output_type": "execute_result"
    }
   ],
   "source": [
    "colegios['Provincia'].sort_values().unique()"
   ]
  },
  {
   "cell_type": "code",
   "execution_count": 74,
   "metadata": {},
   "outputs": [
    {
     "data": {
      "text/plain": [
       "[array(['Cádiz', 'Madrid', 'Murcia', 'Lleida', 'Córdoba', 'Illes Balears',\n",
       "        'Barcelona', 'Las Palmas', 'Navarra', 'Castellón/Castelló',\n",
       "        'Melilla', 'Salamanca', 'Badajoz', 'Santa Cruz de Tenerife',\n",
       "        'Teruel', 'Huelva', 'Soria', 'Tarragona', 'Jaén', 'Araba/Álava',\n",
       "        'Bizkaia', 'Ourense', 'Cáceres', 'Huesca', 'Girona', 'Gipuzkoa',\n",
       "        'A Coruña', 'La Rioja', 'Cuenca', 'Sevilla', 'Burgos', 'Asturias',\n",
       "        'Granada', 'Valencia/València', 'León', 'Alicante/Alacant',\n",
       "        'Zaragoza', 'Zamora', 'Almería', 'Guadalajara', 'Pontevedra',\n",
       "        'Ávila', 'Segovia', 'Málaga', 'Toledo', 'Ciudad Real', 'Ceuta',\n",
       "        'Albacete', 'Valladolid', 'Lugo', 'Cantabria', 'Palencia'],\n",
       "       dtype=object),\n",
       " array(['Alcalá de los Gazules', 'Alcalá del Valle', 'Algar', ...,\n",
       "        'Villamuriel de Cerrato', 'Villarramiel', 'Villaviudas'],\n",
       "       dtype=object),\n",
       " array(['Centro de Educación de Adultos', 'Centro Docente Privado',\n",
       "        'Colegio de Educación Infantil y Primaria', 'Escuela Hogar',\n",
       "        'Escuela Infantil', 'Instituto de Educación Secundaria',\n",
       "        'Centro Autorizado de Enseñanzas Deportivas',\n",
       "        'Centro Específico de Educación Especial',\n",
       "        'Centro Privado de Educación Infantil',\n",
       "        'Colegio de Educación Primaria',\n",
       "        'Conservatorio Profesional de Música', 'Escuela de Arte',\n",
       "        'Escuela Municipal de Música y Danza',\n",
       "        'Escuela Oficial de Idiomas',\n",
       "        'Sección de Instituto Provincial de Formación de Adultos',\n",
       "        'Colegio Público Rural', 'Escuela Municipal de Música',\n",
       "        'Conservatorio Elemental de Música', 'Centro de Convenio',\n",
       "        'Centro Docente Privado de Educación Especial',\n",
       "        'Conservatorio Profesional de Danza',\n",
       "        'Instituto Provincial de Formación de Adultos',\n",
       "        'Escuela Autorizada de Música',\n",
       "        'Centro Docente Privado Extranjero',\n",
       "        'Sección de Educación Secundaria Obligatoria',\n",
       "        'Centro Público Integrado de Formación Profesional',\n",
       "        'Escuela Municipal de Danza',\n",
       "        'Centro Público de Enseñanza a Distancia',\n",
       "        'Centro Público de Educación de Personas Adultas',\n",
       "        'Centro Privado de Educación Infantil Primaria y Secundaria',\n",
       "        'Centro Privado Autorizado de Enseñanzas Deportivas',\n",
       "        'Escuela Municipal de Educación Infantil',\n",
       "        'Extensión de Escuela Oficial de Idiomas',\n",
       "        'Centro de Educación Especial',\n",
       "        'Centro Privado Autorizado Elemental de Danza',\n",
       "        'Centro Privado de Educación de Personas Adultas',\n",
       "        'Centro Privado de Formación Profesional Específica',\n",
       "        'Centro Privado de Formación Profesional',\n",
       "        'Escuela Pública de Música', 'Colegio Rural Agrupado',\n",
       "        'Centro Privado de Educación Infantil, Primaria, Secundaria y Educación Especial',\n",
       "        'Centro Privado Concertado de Educación Infantil, Primaria, Secundaria y Educación Especial',\n",
       "        'Aula Hospitalaria', 'Centro Docente de Formación Militar',\n",
       "        'Centro Privado Autorizado Elemental de Música',\n",
       "        'Centro Privado de Educación Infantil y Primaria',\n",
       "        'Centro Privado de Preescolar',\n",
       "        'Centro Privado de Educación Especial',\n",
       "        'Centro Público de Educación Infantil y Básica',\n",
       "        'Centro Integrado de Formación y Experiencias Agrarias',\n",
       "        'Instituto de Educación Secundaria Obligatoria',\n",
       "        'Centro Docente Privado Extranjero en España',\n",
       "        'Centro Autorizado de Enseñanzas Artísticas Profesionales de Artes Plásticas y Diseño',\n",
       "        'Centro Privado Autorizado Profesional de Música',\n",
       "        'Centro Privado Autorizado Superior de Diseño',\n",
       "        'Centro Privado Integrado de Formación Profesional',\n",
       "        'Conservatorio Superior de Música',\n",
       "        'Escuela Superior de Arte Dramático', 'Escuela Superior de Diseño',\n",
       "        nan, 'Escola de Capacitació Agrària',\n",
       "        \"Escola de Formació de Tècnics d'Esport\",\n",
       "        \"Escola Oficial d'Idiomes\", 'Aula de Educación de Adultos',\n",
       "        \"Col.legi Públic d'Educació Infantil i Primària\",\n",
       "        \"Institut d'Educació Secundària (IES)\",\n",
       "        \"Escola d'Educació Infantil\",\n",
       "        'Centre Privat amb diversos Ensenyaments de Regim General',\n",
       "        \"Centre Públic d'Educació de Persones Adultes (Presencial)\",\n",
       "        \"Centre Privat d'Educació Infantil\",\n",
       "        'Centre Privat de Formació Professional Específica',\n",
       "        \"Escola Oficial d'Idiomes (EOI)\",\n",
       "        'Centro Privado de Educación Secundaria Obligatoria',\n",
       "        'Conservatori Professional de Música i de Dansa',\n",
       "        'Centro Privado de Educación Primaria y Secundaria',\n",
       "        \"Centre Privat d'Educació Especial\",\n",
       "        'Conservatori Professional de Música',\n",
       "        'Centre Privat Integrat de Música i Ensenyaments de Règim General',\n",
       "        'Centre Docent Privat Estranger a Espanya',\n",
       "        'Centre Públic Integrat de Música i Ensenyaments de Règim General',\n",
       "        \"Col.legi Públic d'Educació Primària\",\n",
       "        \"Centre Privat d'Arts Plástiques i Disseny\",\n",
       "        'Centre Privat de Grau Elemental de Dansa',\n",
       "        'Centre Privat de Grau Elemental de Música',\n",
       "        \"Centre Privat d'Educació de Persones Adultes (Presencial)\",\n",
       "        \"Centre Privat d'Educació Primària\",\n",
       "        \"Centre Privat d'Educació Secundària\",\n",
       "        \"Centre Públic d'Ensenyament a Distància\",\n",
       "        'Centro Docente Extranjero de Enseñanzas Profesionales de Diseño',\n",
       "        'Centro Privado de Educación Secundaria',\n",
       "        'Colegio de Educación Infantil Primaria y Primer Ciclo de ESO',\n",
       "        'Escola Superior de Disseny',\n",
       "        \"Ampliació d'Escola Oficial d'Idiomes\", \"Escola d'Art\",\n",
       "        \"Col·legi d'Educació Especial\", \"Aula de Formació d'adults\",\n",
       "        \"Centre de Formació d'Adults\", \"Escola d'Arts\",\n",
       "        \"Centre de Formació de Tècnics d'Esport\",\n",
       "        \"Col·legi d'Educació Infantil i Primària\",\n",
       "        'Centro Privado Docente Extranjero para Alumnado Español y Extranjero',\n",
       "        'Centro de Educación Obligatoria',\n",
       "        'Centro de Educación de Personas Adultas',\n",
       "        'Centro Privado Docente Extranjero para Alumnado Extranjero',\n",
       "        'Escuela Pública de Música y Danza',\n",
       "        'Conservatorio Insular de Música de Grado Elemental',\n",
       "        'Instituto de Formación Profesional Marítimo Pesquera',\n",
       "        'Instituto de Formación Profesional Agraria',\n",
       "        'Centro Autorizado de Música de Grados Elemental y Medio',\n",
       "        'Centro Autorizado Superior de Arte dramático',\n",
       "        'Centro de Educación a Distancia',\n",
       "        'Escuela de Arte y Superior de Diseño',\n",
       "        'Centro Privado de Educación Infantil y Secundaria',\n",
       "        'Colegio Público de Educación Infantil y Primaria/Haur eta Lehen Hezkuntzako Ikastetxe Publikoa',\n",
       "        'Centro Integrado Politécnico/Ikastetxe Integratu Politeknikoa',\n",
       "        'Instituto de Educación Secundaria/Bigarren Hezkuntzako Institutua',\n",
       "        'Instituto de Educación Secundaria Obligatoria/Derrigorrezko Bigarren Hezkuntzako Institutua',\n",
       "        'Centro Privado de Educación Infantil, Primaria y ESO',\n",
       "        'Centro Integrado', 'Escuela Privada de Música',\n",
       "        'Centro Integrado Politécnico',\n",
       "        'Centro Integrado Superior de Energías Renovables',\n",
       "        'Escuela de Educación Infantil/Haur Hezkuntzako Eskola',\n",
       "        'Centro Integrado Privado',\n",
       "        'Centro Integrado en Administración, Comercio e Informática',\n",
       "        'Centro Integrado/Ikastetxe Integratua',\n",
       "        'Centro Privado de Educación Primaria y ESO',\n",
       "        'Escuela Privada de Música y Danza', 'Escuela Pública de Danza',\n",
       "        'Escuela Privada de Danza',\n",
       "        'Colegio Rural Agrupado de Ed. Inf. y Primaria/Haur eta Lehen Hezkuntzako Herri Ikastetxe Bateratua',\n",
       "        'Centro Docente Público de Formación Básica de Personas Adultas',\n",
       "        'Centro Privado de Educación Infantil de Primer Ciclo',\n",
       "        'Escuela Infantil de Primer Ciclo',\n",
       "        'Sección de Instituto de Educación Secundaria',\n",
       "        'Centro Autorizado de Enseñanzas Artísticas Profesionales de Danza',\n",
       "        'Centro Autorizado de Enseñanzas Artísticas Profesionales de Música',\n",
       "        'Centro Docente Privado de Formación Básica de Personas Adultas',\n",
       "        'Centro Público Integrado', 'Escuela Superior de Cerámica',\n",
       "        'Escuela de Música', 'Escuela de Capacitación Agraria',\n",
       "        'Colegio de Educación Obligatoria',\n",
       "        'Centro privado autorizado de enseñanzas deportivas de fútbol',\n",
       "        'Centro Privado Autorizado de Enseñanzas Deportivas de Hípica',\n",
       "        'Escuela Superior de Conservación y Restauración de Bienes Culturales',\n",
       "        'Residencia de Secundaria',\n",
       "        'Centro Privado Autorizado Profesional de Danza',\n",
       "        'Centro Autorizado de Música de Grado Elemental',\n",
       "        'Centro Autorizado de Danza de Grado Elemental',\n",
       "        'Centro Privado Autorizado de Enseñanzas Deportivas y Formación Profesional',\n",
       "        'Extensión de Escuela Superior de Diseño',\n",
       "        'Escuela Autorizada de Danza',\n",
       "        'Centro Autorizado de Música Profesional',\n",
       "        'Centro Privado de Educación Primaria', 'PARTZUERGOKO HAUR ESKOLA',\n",
       "        'Centro Privado Autorizado de Artes Plásticas y Diseño',\n",
       "        'Instituto de Formación Profesional',\n",
       "        'Instituto Municipal de Formación Profesional Básica',\n",
       "        'ARTE DRAMATIKO ETA DANTZA GOI ESKOLA',\n",
       "        'Centro Privado de Educación de Persoas Adultas',\n",
       "        'Centro Público de Enseñanzas Deportivas', 'HAUR-ESKOLA  PRIBATUA',\n",
       "        'Centro Autorizado de Música Elemental',\n",
       "        'Colexio de Educación Infantil e Primaria', 'Centro Privado',\n",
       "        'Instituto de Educación Secundaria (IES)',\n",
       "        'Escola de Educación Infantil', 'Colexio de Educación Especial',\n",
       "        'Escola Privada de Música', 'Escola Pública de Música',\n",
       "        'Centro Integrado de Formación Profesional',\n",
       "        'Centro Público de Educación de Persoas Adultas',\n",
       "        'Escola Oficial de Idiomas', 'Conservatorio Elemental de Danza',\n",
       "        'Conservatorio Municipal Elemental de Música',\n",
       "        'Instituto de Bachillerato',\n",
       "        'Centro Privado Autorizado Superior de Música',\n",
       "        'Conservatorio Municipal Profesional de Música',\n",
       "        'Colexio de Educación Primaria',\n",
       "        'Centro Privado Autorizado de Artes Plásticas e Deseño',\n",
       "        'Centro Privado Autorizado Elemental  de Danza', 'Centro Público',\n",
       "        'Escuela Naútico Pesquera', 'Escola de Capacitación Agraria',\n",
       "        'Centro Privado Estranxeiro en España',\n",
       "        'Escuelas Familiares Agrarias', 'Escola Pública de Danza',\n",
       "        'Escola Privada de Danza',\n",
       "        'Centro Público de Educación General Básica',\n",
       "        'Centro Autorizado de Artes Plásticas y Diseño',\n",
       "        'Escuela Autorizada de Música y Danza',\n",
       "        'Centro Autorizado Superior de Artes Plásticas y Diseño',\n",
       "        'Centro Autorizado de Danza Elemental',\n",
       "        'Escuela de Arte y Superior de Diseño y Conservación y Restauración de Bienes Culturales',\n",
       "        'Centro Privado Integrado de Música y Enseñanzas de Régimen General',\n",
       "        'Escuela de Arte y Superior de Cerámica',\n",
       "        'Escuela de Viticultura y Enología',\n",
       "        'Conservatorio Superior de Danza',\n",
       "        'Centro Privado Autorizado de Enseñanzas Deportivas de Invierno',\n",
       "        'Centro Privado de Bachillerato',\n",
       "        'Instituto de Formación Profesional Superior',\n",
       "        'Centro Privado Autorizado de Enseñanzas Deportivas de Salvamento y Socorrismo',\n",
       "        'Instituto Gallego de Formación Acuícola', 'Escola-Fogar',\n",
       "        'Escuela de Educación Infantil, Casa de Niños',\n",
       "        'Centro de Educación de Personas Adultas en Establecimientos Penitenciarios',\n",
       "        'Escuela Municipal de Educación de Personas Adultas',\n",
       "        'Unidad de Formación e Inserción Laboral',\n",
       "        'Centro Privado Autorizado Superior de Danza',\n",
       "        'Centro Autorizado Profesional de Música y Danza',\n",
       "        'Centro Autorizado Superior de Arte Dramático',\n",
       "        'Centro Integrado de Enseñanzas Artísticas Profesionales de Música y de Educación Secundaria',\n",
       "        'Centro Regional de Enseñanzas Integradas',\n",
       "        'Escuela Superior de Canto',\n",
       "        'Instituto de Formación Profesional Específica',\n",
       "        'Centro Público Integrado de Música y Enseñanzas de Régimen General',\n",
       "        'Escuela de Arte y Superior de Conservación y Restauración de Bienes Culturales',\n",
       "        'Centro Privado Autorizado Superior del Vidrio',\n",
       "        'Escuela de Música y Danza', 'Escuela de Danza',\n",
       "        'Colegio de Educación Infantil, Primaria y Secundaria',\n",
       "        'Centro Docente Privado de Educación de Adultos'], dtype=object),\n",
       " array(['Río Verde', 'Escuelas Profesionales de la Sagrada Familia',\n",
       "        'Jesús, María y José', ..., 'PRADERA DE LA AGUILERA',\n",
       "        'LEONOR DE CASTILLA', 'GLICERIO MARTIN'], dtype=object),\n",
       " array([11500501, 11000022, 11000034, ..., 34002861, 34007172, 34002897]),\n",
       " array(['Centro público', 'Centro privado'], dtype=object),\n",
       " array(['Lepanto, 7', 'Sánchez Aguayo, 2', 'Ángel de Viera, 1', ...,\n",
       "        'AV.DE JOSE HERRERO NIETO ,7', 'AVENIDA JOSÉ HERRERO NIETO, Nº 3',\n",
       "        'VILLAVIUDAS'], dtype=object),\n",
       " array(['11180', '11693', '11639', ..., '34190', '34350', '34249'],\n",
       "       dtype=object),\n",
       " array([956420202.0, nan, 956420010.0, ..., '979 776 920', '979 837 140',\n",
       "        '979 788 028'], dtype=object)]"
      ]
     },
     "execution_count": 74,
     "metadata": {},
     "output_type": "execute_result"
    }
   ],
   "source": [
    "n_values = [colegios[a].unique() for a in colegios.columns]\n",
    "n_values"
   ]
  },
  {
   "cell_type": "code",
   "execution_count": 75,
   "metadata": {
    "scrolled": true
   },
   "outputs": [
    {
     "data": {
      "text/plain": [
       "Provincia                      0\n",
       "Localidad                      0\n",
       "Denominación genérica       6156\n",
       "Denominación específica        0\n",
       "Código                         0\n",
       "Naturaleza                     0\n",
       "Domicilio                      0\n",
       "C. Postal                      0\n",
       "Teléfono                   11477\n",
       "dtype: int64"
      ]
     },
     "execution_count": 75,
     "metadata": {},
     "output_type": "execute_result"
    }
   ],
   "source": [
    "colegios.isnull().sum()"
   ]
  },
  {
   "cell_type": "markdown",
   "metadata": {},
   "source": [
    "##### tratamiento"
   ]
  },
  {
   "cell_type": "code",
   "execution_count": 78,
   "metadata": {},
   "outputs": [],
   "source": [
    "# se elimina el Código 28700519,repetido 3890\n",
    "colegios = colegios.drop_duplicates(subset='Código')"
   ]
  },
  {
   "cell_type": "code",
   "execution_count": 79,
   "metadata": {
    "scrolled": true
   },
   "outputs": [],
   "source": [
    "colegios['municipio_limpio'] = colegios['Localidad'].apply(doClean)"
   ]
  },
  {
   "cell_type": "code",
   "execution_count": 83,
   "metadata": {},
   "outputs": [],
   "source": [
    "colegios['provincia'] = colegios['Provincia'].apply(doClean)"
   ]
  },
  {
   "cell_type": "code",
   "execution_count": 84,
   "metadata": {},
   "outputs": [],
   "source": [
    "colegios['codigo_postal'] = colegios['C. Postal']"
   ]
  },
  {
   "cell_type": "code",
   "execution_count": 119,
   "metadata": {},
   "outputs": [
    {
     "data": {
      "text/html": [
       "<div>\n",
       "<style scoped>\n",
       "    .dataframe tbody tr th:only-of-type {\n",
       "        vertical-align: middle;\n",
       "    }\n",
       "\n",
       "    .dataframe tbody tr th {\n",
       "        vertical-align: top;\n",
       "    }\n",
       "\n",
       "    .dataframe thead th {\n",
       "        text-align: right;\n",
       "    }\n",
       "</style>\n",
       "<table border=\"1\" class=\"dataframe\">\n",
       "  <thead>\n",
       "    <tr style=\"text-align: right;\">\n",
       "      <th></th>\n",
       "      <th>Provincia</th>\n",
       "      <th>Localidad</th>\n",
       "      <th>Denominación genérica</th>\n",
       "      <th>Denominación específica</th>\n",
       "      <th>Código</th>\n",
       "      <th>Naturaleza</th>\n",
       "      <th>Domicilio</th>\n",
       "      <th>C. Postal</th>\n",
       "      <th>Teléfono</th>\n",
       "      <th>municipio_limpio</th>\n",
       "      <th>provincia</th>\n",
       "      <th>codigo_postal</th>\n",
       "    </tr>\n",
       "  </thead>\n",
       "  <tbody>\n",
       "    <tr>\n",
       "      <th>0</th>\n",
       "      <td>Cádiz</td>\n",
       "      <td>Alcalá de los Gazules</td>\n",
       "      <td>Centro de Educación de Adultos</td>\n",
       "      <td>Río Verde</td>\n",
       "      <td>11500501</td>\n",
       "      <td>Centro público</td>\n",
       "      <td>Lepanto, 7</td>\n",
       "      <td>11180</td>\n",
       "      <td>9.5642e+08</td>\n",
       "      <td>alcala_de_los_gazules</td>\n",
       "      <td>cadiz</td>\n",
       "      <td>11180</td>\n",
       "    </tr>\n",
       "    <tr>\n",
       "      <th>1</th>\n",
       "      <td>Cádiz</td>\n",
       "      <td>Alcalá de los Gazules</td>\n",
       "      <td>Centro Docente Privado</td>\n",
       "      <td>Escuelas Profesionales de la Sagrada Familia</td>\n",
       "      <td>11000022</td>\n",
       "      <td>Centro privado</td>\n",
       "      <td>Sánchez Aguayo, 2</td>\n",
       "      <td>11180</td>\n",
       "      <td>NaN</td>\n",
       "      <td>alcala_de_los_gazules</td>\n",
       "      <td>cadiz</td>\n",
       "      <td>11180</td>\n",
       "    </tr>\n",
       "  </tbody>\n",
       "</table>\n",
       "</div>"
      ],
      "text/plain": [
       "  Provincia              Localidad           Denominación genérica  \\\n",
       "0     Cádiz  Alcalá de los Gazules  Centro de Educación de Adultos   \n",
       "1     Cádiz  Alcalá de los Gazules          Centro Docente Privado   \n",
       "\n",
       "                        Denominación específica    Código      Naturaleza  \\\n",
       "0                                     Río Verde  11500501  Centro público   \n",
       "1  Escuelas Profesionales de la Sagrada Familia  11000022  Centro privado   \n",
       "\n",
       "           Domicilio C. Postal    Teléfono       municipio_limpio provincia  \\\n",
       "0         Lepanto, 7     11180  9.5642e+08  alcala_de_los_gazules     cadiz   \n",
       "1  Sánchez Aguayo, 2     11180         NaN  alcala_de_los_gazules     cadiz   \n",
       "\n",
       "  codigo_postal  \n",
       "0         11180  \n",
       "1         11180  "
      ]
     },
     "execution_count": 119,
     "metadata": {},
     "output_type": "execute_result"
    }
   ],
   "source": [
    "colegios.head(2)"
   ]
  },
  {
   "cell_type": "code",
   "execution_count": 120,
   "metadata": {},
   "outputs": [
    {
     "data": {
      "text/html": [
       "<div>\n",
       "<style scoped>\n",
       "    .dataframe tbody tr th:only-of-type {\n",
       "        vertical-align: middle;\n",
       "    }\n",
       "\n",
       "    .dataframe tbody tr th {\n",
       "        vertical-align: top;\n",
       "    }\n",
       "\n",
       "    .dataframe thead th {\n",
       "        text-align: right;\n",
       "    }\n",
       "</style>\n",
       "<table border=\"1\" class=\"dataframe\">\n",
       "  <thead>\n",
       "    <tr style=\"text-align: right;\">\n",
       "      <th></th>\n",
       "      <th>Provincia</th>\n",
       "      <th>Localidad</th>\n",
       "      <th>Denominación genérica</th>\n",
       "      <th>Denominación específica</th>\n",
       "      <th>Código</th>\n",
       "      <th>Naturaleza</th>\n",
       "      <th>Domicilio</th>\n",
       "      <th>C. Postal</th>\n",
       "      <th>Teléfono</th>\n",
       "      <th>municipio_limpio</th>\n",
       "      <th>provincia</th>\n",
       "      <th>codigo_postal</th>\n",
       "    </tr>\n",
       "  </thead>\n",
       "  <tbody>\n",
       "    <tr>\n",
       "      <th>8837</th>\n",
       "      <td>Castellón/Castelló</td>\n",
       "      <td>Altura</td>\n",
       "      <td>Colegio de Educación Infantil y Primaria</td>\n",
       "      <td>VIRGEN DE GRACIA</td>\n",
       "      <td>12000303</td>\n",
       "      <td>Centro público</td>\n",
       "      <td>CL RIVAS S/N</td>\n",
       "      <td>12410</td>\n",
       "      <td>9.64336e+08</td>\n",
       "      <td>altura</td>\n",
       "      <td>castellon</td>\n",
       "      <td>12410</td>\n",
       "    </tr>\n",
       "    <tr>\n",
       "      <th>8838</th>\n",
       "      <td>Castellón/Castelló</td>\n",
       "      <td>Altura</td>\n",
       "      <td>Escuela Privada de Música</td>\n",
       "      <td>UNIÓN MUSICAL Y CULTURAL</td>\n",
       "      <td>12006366</td>\n",
       "      <td>Centro privado</td>\n",
       "      <td>PZ HONDA 15</td>\n",
       "      <td>12410</td>\n",
       "      <td>9.64146e+08</td>\n",
       "      <td>altura</td>\n",
       "      <td>castellon</td>\n",
       "      <td>12410</td>\n",
       "    </tr>\n",
       "  </tbody>\n",
       "</table>\n",
       "</div>"
      ],
      "text/plain": [
       "               Provincia Localidad                     Denominación genérica  \\\n",
       "8837  Castellón/Castelló    Altura  Colegio de Educación Infantil y Primaria   \n",
       "8838  Castellón/Castelló    Altura                 Escuela Privada de Música   \n",
       "\n",
       "       Denominación específica    Código      Naturaleza     Domicilio  \\\n",
       "8837          VIRGEN DE GRACIA  12000303  Centro público  CL RIVAS S/N   \n",
       "8838  UNIÓN MUSICAL Y CULTURAL  12006366  Centro privado   PZ HONDA 15   \n",
       "\n",
       "     C. Postal     Teléfono municipio_limpio  provincia codigo_postal  \n",
       "8837     12410  9.64336e+08           altura  castellon         12410  \n",
       "8838     12410  9.64146e+08           altura  castellon         12410  "
      ]
     },
     "execution_count": 120,
     "metadata": {},
     "output_type": "execute_result"
    }
   ],
   "source": [
    "colegios[colegios['municipio_limpio']=='altura']"
   ]
  },
  {
   "cell_type": "code",
   "execution_count": 121,
   "metadata": {},
   "outputs": [],
   "source": [
    "colegios_group = colegios.groupby(by=['codigo_postal', 'municipio_limpio', 'provincia', 'Naturaleza'], as_index=False)['Código'].count() "
   ]
  },
  {
   "cell_type": "code",
   "execution_count": 122,
   "metadata": {
    "scrolled": true
   },
   "outputs": [
    {
     "data": {
      "text/html": [
       "<div>\n",
       "<style scoped>\n",
       "    .dataframe tbody tr th:only-of-type {\n",
       "        vertical-align: middle;\n",
       "    }\n",
       "\n",
       "    .dataframe tbody tr th {\n",
       "        vertical-align: top;\n",
       "    }\n",
       "\n",
       "    .dataframe thead th {\n",
       "        text-align: right;\n",
       "    }\n",
       "</style>\n",
       "<table border=\"1\" class=\"dataframe\">\n",
       "  <thead>\n",
       "    <tr style=\"text-align: right;\">\n",
       "      <th></th>\n",
       "      <th>codigo_postal</th>\n",
       "      <th>municipio_limpio</th>\n",
       "      <th>provincia</th>\n",
       "      <th>Naturaleza</th>\n",
       "      <th>Código</th>\n",
       "    </tr>\n",
       "  </thead>\n",
       "  <tbody>\n",
       "    <tr>\n",
       "      <th>0</th>\n",
       "      <td>00000</td>\n",
       "      <td>a_coruna</td>\n",
       "      <td>a_coruna</td>\n",
       "      <td>Centro privado</td>\n",
       "      <td>6</td>\n",
       "    </tr>\n",
       "    <tr>\n",
       "      <th>1</th>\n",
       "      <td>00000</td>\n",
       "      <td>a_pontenova</td>\n",
       "      <td>lugo</td>\n",
       "      <td>Centro público</td>\n",
       "      <td>1</td>\n",
       "    </tr>\n",
       "    <tr>\n",
       "      <th>2</th>\n",
       "      <td>00000</td>\n",
       "      <td>abad</td>\n",
       "      <td>pontevedra</td>\n",
       "      <td>Centro privado</td>\n",
       "      <td>1</td>\n",
       "    </tr>\n",
       "    <tr>\n",
       "      <th>3</th>\n",
       "      <td>00000</td>\n",
       "      <td>alivia</td>\n",
       "      <td>a_coruna</td>\n",
       "      <td>Centro público</td>\n",
       "      <td>1</td>\n",
       "    </tr>\n",
       "    <tr>\n",
       "      <th>4</th>\n",
       "      <td>00000</td>\n",
       "      <td>aranda_de_duero</td>\n",
       "      <td>burgos</td>\n",
       "      <td>Centro público</td>\n",
       "      <td>1</td>\n",
       "    </tr>\n",
       "  </tbody>\n",
       "</table>\n",
       "</div>"
      ],
      "text/plain": [
       "  codigo_postal municipio_limpio   provincia      Naturaleza  Código\n",
       "0         00000         a_coruna    a_coruna  Centro privado       6\n",
       "1         00000      a_pontenova        lugo  Centro público       1\n",
       "2         00000             abad  pontevedra  Centro privado       1\n",
       "3         00000           alivia    a_coruna  Centro público       1\n",
       "4         00000  aranda_de_duero      burgos  Centro público       1"
      ]
     },
     "execution_count": 122,
     "metadata": {},
     "output_type": "execute_result"
    }
   ],
   "source": [
    "colegios_group.head()"
   ]
  },
  {
   "cell_type": "code",
   "execution_count": 123,
   "metadata": {
    "scrolled": true
   },
   "outputs": [],
   "source": [
    "colegios_group = colegios_group.pivot_table(index=['codigo_postal', 'municipio_limpio', 'provincia'], columns='Naturaleza',  values=['Código'], aggfunc='sum').reset_index()"
   ]
  },
  {
   "cell_type": "code",
   "execution_count": 124,
   "metadata": {},
   "outputs": [
    {
     "data": {
      "text/html": [
       "<div>\n",
       "<style scoped>\n",
       "    .dataframe tbody tr th:only-of-type {\n",
       "        vertical-align: middle;\n",
       "    }\n",
       "\n",
       "    .dataframe tbody tr th {\n",
       "        vertical-align: top;\n",
       "    }\n",
       "\n",
       "    .dataframe thead tr th {\n",
       "        text-align: left;\n",
       "    }\n",
       "</style>\n",
       "<table border=\"1\" class=\"dataframe\">\n",
       "  <thead>\n",
       "    <tr>\n",
       "      <th></th>\n",
       "      <th>codigo_postal</th>\n",
       "      <th>municipio_limpio</th>\n",
       "      <th>provincia</th>\n",
       "      <th colspan=\"2\" halign=\"left\">Código</th>\n",
       "    </tr>\n",
       "    <tr>\n",
       "      <th>Naturaleza</th>\n",
       "      <th></th>\n",
       "      <th></th>\n",
       "      <th></th>\n",
       "      <th>Centro privado</th>\n",
       "      <th>Centro público</th>\n",
       "    </tr>\n",
       "  </thead>\n",
       "  <tbody>\n",
       "    <tr>\n",
       "      <th>0</th>\n",
       "      <td>00000</td>\n",
       "      <td>a_coruna</td>\n",
       "      <td>a_coruna</td>\n",
       "      <td>6.0</td>\n",
       "      <td>NaN</td>\n",
       "    </tr>\n",
       "    <tr>\n",
       "      <th>1</th>\n",
       "      <td>00000</td>\n",
       "      <td>a_pontenova</td>\n",
       "      <td>lugo</td>\n",
       "      <td>NaN</td>\n",
       "      <td>1.0</td>\n",
       "    </tr>\n",
       "    <tr>\n",
       "      <th>2</th>\n",
       "      <td>00000</td>\n",
       "      <td>abad</td>\n",
       "      <td>pontevedra</td>\n",
       "      <td>1.0</td>\n",
       "      <td>NaN</td>\n",
       "    </tr>\n",
       "    <tr>\n",
       "      <th>3</th>\n",
       "      <td>00000</td>\n",
       "      <td>alivia</td>\n",
       "      <td>a_coruna</td>\n",
       "      <td>NaN</td>\n",
       "      <td>1.0</td>\n",
       "    </tr>\n",
       "    <tr>\n",
       "      <th>4</th>\n",
       "      <td>00000</td>\n",
       "      <td>aranda_de_duero</td>\n",
       "      <td>burgos</td>\n",
       "      <td>NaN</td>\n",
       "      <td>1.0</td>\n",
       "    </tr>\n",
       "  </tbody>\n",
       "</table>\n",
       "</div>"
      ],
      "text/plain": [
       "           codigo_postal municipio_limpio   provincia         Código  \\\n",
       "Naturaleza                                            Centro privado   \n",
       "0                  00000         a_coruna    a_coruna            6.0   \n",
       "1                  00000      a_pontenova        lugo            NaN   \n",
       "2                  00000             abad  pontevedra            1.0   \n",
       "3                  00000           alivia    a_coruna            NaN   \n",
       "4                  00000  aranda_de_duero      burgos            NaN   \n",
       "\n",
       "                           \n",
       "Naturaleza Centro público  \n",
       "0                     NaN  \n",
       "1                     1.0  \n",
       "2                     NaN  \n",
       "3                     1.0  \n",
       "4                     1.0  "
      ]
     },
     "execution_count": 124,
     "metadata": {},
     "output_type": "execute_result"
    }
   ],
   "source": [
    "colegios_group.head()"
   ]
  },
  {
   "cell_type": "code",
   "execution_count": 125,
   "metadata": {},
   "outputs": [],
   "source": [
    "colegios_group.columns = ['codigo_postal', 'municipio_limpio', 'provincia' ,'num_colegios_privados', 'num_colegios_publicos']"
   ]
  },
  {
   "cell_type": "code",
   "execution_count": 126,
   "metadata": {
    "scrolled": true
   },
   "outputs": [
    {
     "data": {
      "text/plain": [
       "(7838, 5)"
      ]
     },
     "execution_count": 126,
     "metadata": {},
     "output_type": "execute_result"
    }
   ],
   "source": [
    "colegios_group.shape"
   ]
  },
  {
   "cell_type": "code",
   "execution_count": 127,
   "metadata": {},
   "outputs": [
    {
     "data": {
      "text/html": [
       "<div>\n",
       "<style scoped>\n",
       "    .dataframe tbody tr th:only-of-type {\n",
       "        vertical-align: middle;\n",
       "    }\n",
       "\n",
       "    .dataframe tbody tr th {\n",
       "        vertical-align: top;\n",
       "    }\n",
       "\n",
       "    .dataframe thead th {\n",
       "        text-align: right;\n",
       "    }\n",
       "</style>\n",
       "<table border=\"1\" class=\"dataframe\">\n",
       "  <thead>\n",
       "    <tr style=\"text-align: right;\">\n",
       "      <th></th>\n",
       "      <th>codigo_postal</th>\n",
       "      <th>municipio_limpio</th>\n",
       "      <th>provincia</th>\n",
       "      <th>num_colegios_privados</th>\n",
       "      <th>num_colegios_publicos</th>\n",
       "    </tr>\n",
       "  </thead>\n",
       "  <tbody>\n",
       "    <tr>\n",
       "      <th>46</th>\n",
       "      <td>01001</td>\n",
       "      <td>vitoria_gasteiz</td>\n",
       "      <td>araba</td>\n",
       "      <td>1.0</td>\n",
       "      <td>3.0</td>\n",
       "    </tr>\n",
       "    <tr>\n",
       "      <th>47</th>\n",
       "      <td>01002</td>\n",
       "      <td>vitoria_gasteiz</td>\n",
       "      <td>araba</td>\n",
       "      <td>3.0</td>\n",
       "      <td>11.0</td>\n",
       "    </tr>\n",
       "    <tr>\n",
       "      <th>48</th>\n",
       "      <td>01003</td>\n",
       "      <td>vitoria_gasteiz</td>\n",
       "      <td>araba</td>\n",
       "      <td>3.0</td>\n",
       "      <td>8.0</td>\n",
       "    </tr>\n",
       "    <tr>\n",
       "      <th>49</th>\n",
       "      <td>01004</td>\n",
       "      <td>vitoria_gasteiz</td>\n",
       "      <td>araba</td>\n",
       "      <td>1.0</td>\n",
       "      <td>1.0</td>\n",
       "    </tr>\n",
       "    <tr>\n",
       "      <th>50</th>\n",
       "      <td>01005</td>\n",
       "      <td>vitoria_gasteiz</td>\n",
       "      <td>araba</td>\n",
       "      <td>7.0</td>\n",
       "      <td>NaN</td>\n",
       "    </tr>\n",
       "    <tr>\n",
       "      <th>...</th>\n",
       "      <td>...</td>\n",
       "      <td>...</td>\n",
       "      <td>...</td>\n",
       "      <td>...</td>\n",
       "      <td>...</td>\n",
       "    </tr>\n",
       "    <tr>\n",
       "      <th>7833</th>\n",
       "      <td>52002</td>\n",
       "      <td>melilla</td>\n",
       "      <td>melilla</td>\n",
       "      <td>2.0</td>\n",
       "      <td>5.0</td>\n",
       "    </tr>\n",
       "    <tr>\n",
       "      <th>7834</th>\n",
       "      <td>52003</td>\n",
       "      <td>melilla</td>\n",
       "      <td>melilla</td>\n",
       "      <td>NaN</td>\n",
       "      <td>3.0</td>\n",
       "    </tr>\n",
       "    <tr>\n",
       "      <th>7835</th>\n",
       "      <td>52004</td>\n",
       "      <td>melilla</td>\n",
       "      <td>melilla</td>\n",
       "      <td>2.0</td>\n",
       "      <td>3.0</td>\n",
       "    </tr>\n",
       "    <tr>\n",
       "      <th>7836</th>\n",
       "      <td>52005</td>\n",
       "      <td>melilla</td>\n",
       "      <td>melilla</td>\n",
       "      <td>3.0</td>\n",
       "      <td>9.0</td>\n",
       "    </tr>\n",
       "    <tr>\n",
       "      <th>7837</th>\n",
       "      <td>52006</td>\n",
       "      <td>melilla</td>\n",
       "      <td>melilla</td>\n",
       "      <td>2.0</td>\n",
       "      <td>6.0</td>\n",
       "    </tr>\n",
       "  </tbody>\n",
       "</table>\n",
       "<p>1507 rows × 5 columns</p>\n",
       "</div>"
      ],
      "text/plain": [
       "     codigo_postal municipio_limpio provincia  num_colegios_privados  \\\n",
       "46           01001  vitoria_gasteiz     araba                    1.0   \n",
       "47           01002  vitoria_gasteiz     araba                    3.0   \n",
       "48           01003  vitoria_gasteiz     araba                    3.0   \n",
       "49           01004  vitoria_gasteiz     araba                    1.0   \n",
       "50           01005  vitoria_gasteiz     araba                    7.0   \n",
       "...            ...              ...       ...                    ...   \n",
       "7833         52002          melilla   melilla                    2.0   \n",
       "7834         52003          melilla   melilla                    NaN   \n",
       "7835         52004          melilla   melilla                    2.0   \n",
       "7836         52005          melilla   melilla                    3.0   \n",
       "7837         52006          melilla   melilla                    2.0   \n",
       "\n",
       "      num_colegios_publicos  \n",
       "46                      3.0  \n",
       "47                     11.0  \n",
       "48                      8.0  \n",
       "49                      1.0  \n",
       "50                      NaN  \n",
       "...                     ...  \n",
       "7833                    5.0  \n",
       "7834                    3.0  \n",
       "7835                    3.0  \n",
       "7836                    9.0  \n",
       "7837                    6.0  \n",
       "\n",
       "[1507 rows x 5 columns]"
      ]
     },
     "execution_count": 127,
     "metadata": {},
     "output_type": "execute_result"
    }
   ],
   "source": [
    "colegios_group[colegios_group.duplicated(subset=['municipio_limpio', 'provincia'])]"
   ]
  },
  {
   "cell_type": "code",
   "execution_count": 128,
   "metadata": {},
   "outputs": [],
   "source": [
    "colegios_group.drop_duplicates(subset=['codigo_postal', 'municipio_limpio', 'provincia'], inplace=True)"
   ]
  },
  {
   "cell_type": "code",
   "execution_count": 129,
   "metadata": {},
   "outputs": [
    {
     "data": {
      "text/plain": [
       "(7838, 5)"
      ]
     },
     "execution_count": 129,
     "metadata": {},
     "output_type": "execute_result"
    }
   ],
   "source": [
    "colegios_group.shape"
   ]
  },
  {
   "cell_type": "markdown",
   "metadata": {},
   "source": [
    "##### Creación y exportación de fichero maestro"
   ]
  },
  {
   "cell_type": "code",
   "execution_count": 130,
   "metadata": {
    "scrolled": false
   },
   "outputs": [
    {
     "data": {
      "text/html": [
       "<div>\n",
       "<style scoped>\n",
       "    .dataframe tbody tr th:only-of-type {\n",
       "        vertical-align: middle;\n",
       "    }\n",
       "\n",
       "    .dataframe tbody tr th {\n",
       "        vertical-align: top;\n",
       "    }\n",
       "\n",
       "    .dataframe thead th {\n",
       "        text-align: right;\n",
       "    }\n",
       "</style>\n",
       "<table border=\"1\" class=\"dataframe\">\n",
       "  <thead>\n",
       "    <tr style=\"text-align: right;\">\n",
       "      <th></th>\n",
       "      <th>codigo_postal</th>\n",
       "      <th>municipio_limpio</th>\n",
       "      <th>provincia</th>\n",
       "      <th>num_colegios_privados</th>\n",
       "      <th>num_colegios_publicos</th>\n",
       "    </tr>\n",
       "  </thead>\n",
       "  <tbody>\n",
       "    <tr>\n",
       "      <th>0</th>\n",
       "      <td>00000</td>\n",
       "      <td>a_coruna</td>\n",
       "      <td>a_coruna</td>\n",
       "      <td>6.0</td>\n",
       "      <td>NaN</td>\n",
       "    </tr>\n",
       "    <tr>\n",
       "      <th>1</th>\n",
       "      <td>00000</td>\n",
       "      <td>a_pontenova</td>\n",
       "      <td>lugo</td>\n",
       "      <td>NaN</td>\n",
       "      <td>1.0</td>\n",
       "    </tr>\n",
       "    <tr>\n",
       "      <th>2</th>\n",
       "      <td>00000</td>\n",
       "      <td>abad</td>\n",
       "      <td>pontevedra</td>\n",
       "      <td>1.0</td>\n",
       "      <td>NaN</td>\n",
       "    </tr>\n",
       "    <tr>\n",
       "      <th>3</th>\n",
       "      <td>00000</td>\n",
       "      <td>alivia</td>\n",
       "      <td>a_coruna</td>\n",
       "      <td>NaN</td>\n",
       "      <td>1.0</td>\n",
       "    </tr>\n",
       "    <tr>\n",
       "      <th>4</th>\n",
       "      <td>00000</td>\n",
       "      <td>aranda_de_duero</td>\n",
       "      <td>burgos</td>\n",
       "      <td>NaN</td>\n",
       "      <td>1.0</td>\n",
       "    </tr>\n",
       "  </tbody>\n",
       "</table>\n",
       "</div>"
      ],
      "text/plain": [
       "  codigo_postal municipio_limpio   provincia  num_colegios_privados  \\\n",
       "0         00000         a_coruna    a_coruna                    6.0   \n",
       "1         00000      a_pontenova        lugo                    NaN   \n",
       "2         00000             abad  pontevedra                    1.0   \n",
       "3         00000           alivia    a_coruna                    NaN   \n",
       "4         00000  aranda_de_duero      burgos                    NaN   \n",
       "\n",
       "   num_colegios_publicos  \n",
       "0                    NaN  \n",
       "1                    1.0  \n",
       "2                    NaN  \n",
       "3                    1.0  \n",
       "4                    1.0  "
      ]
     },
     "execution_count": 130,
     "metadata": {},
     "output_type": "execute_result"
    }
   ],
   "source": [
    "colegios_group.head()"
   ]
  },
  {
   "cell_type": "code",
   "execution_count": 134,
   "metadata": {},
   "outputs": [],
   "source": [
    "colegios_group.to_csv(\"sociedad_educacion_colegios_2020_limpio.csv\")"
   ]
  },
  {
   "cell_type": "code",
   "execution_count": null,
   "metadata": {},
   "outputs": [],
   "source": []
  }
 ],
 "metadata": {
  "kernelspec": {
   "display_name": "Python 3",
   "language": "python",
   "name": "python3"
  },
  "language_info": {
   "codemirror_mode": {
    "name": "ipython",
    "version": 3
   },
   "file_extension": ".py",
   "mimetype": "text/x-python",
   "name": "python",
   "nbconvert_exporter": "python",
   "pygments_lexer": "ipython3",
   "version": "3.8.2"
  }
 },
 "nbformat": 4,
 "nbformat_minor": 4
}
