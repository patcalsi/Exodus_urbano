{
 "cells": [
  {
   "cell_type": "code",
   "execution_count": 18,
   "metadata": {},
   "outputs": [],
   "source": [
    "import pandas as pd\n",
    "import matplotlib.pyplot as plt\n",
    "import numpy as np\n",
    "import re\n",
    "import unidecode\n",
    "import os"
   ]
  },
  {
   "cell_type": "code",
   "execution_count": 19,
   "metadata": {},
   "outputs": [],
   "source": [
    "from fuzzywuzzy import fuzz\n",
    "from fuzzywuzzy import process"
   ]
  },
  {
   "cell_type": "markdown",
   "metadata": {},
   "source": [
    "#### Funciones"
   ]
  },
  {
   "cell_type": "code",
   "execution_count": 20,
   "metadata": {},
   "outputs": [],
   "source": [
    "def doClean(a):   \n",
    "    a = str(a)\n",
    "    # Quitar las expresiones tras la barra /\n",
    "    a = re.sub('\\/.*', '', a)\n",
    "    # Quitar las aclaraciones entre paréntesis\n",
    "    a = re.sub('\\(.*\\)', '', a)\n",
    "    # Quitar acentos \n",
    "    a = unidecode.unidecode(a)\n",
    "    # Quitar aquello que no sean palabras o cosa que se le parezca\n",
    "    a = re.sub('\\W', ' ', a) \n",
    "    # Quitar espacios extra en caso de haber\n",
    "    a = re.sub('\\s+', ' ', a)\n",
    "    # Pasar el texto a minúsulas\n",
    "    a = a.lower() \n",
    "    a = a.lstrip()\n",
    "    # Quitar espacio derecha\n",
    "    a = a.rstrip()\n",
    "    a = re.sub(' ', '_', a)\n",
    "    #a = a.strip() \n",
    "    \n",
    "    return a"
   ]
  },
  {
   "cell_type": "code",
   "execution_count": 21,
   "metadata": {},
   "outputs": [],
   "source": [
    "def fuzzy_merge(df_1, df_2, key1, key2, threshold=90, limit=1):\n",
    "    \"\"\"\n",
    "    df_1 is the left table to join\n",
    "    df_2 is the right table to join\n",
    "    key1 is the key column of the left table\n",
    "    key2 is the key column of the right table\n",
    "    threshold is how close the matches should be to return a match, based on Levenshtein distance\n",
    "    limit is the amount of matches that will get returned, these are sorted high to low\n",
    "    \"\"\"\n",
    "    s = df_2[key2].tolist()\n",
    "\n",
    "    m = df_1[key1].apply(lambda x: process.extract(x, s, limit=limit))    \n",
    "    df_1['matches'] = m\n",
    "\n",
    "    m2 = df_1['matches'].apply(lambda x: ', '.join([i[0] for i in x if i[1] >= threshold]))\n",
    "    df_1['matches'] = m2\n",
    "\n",
    "    return df_1"
   ]
  },
  {
   "cell_type": "code",
   "execution_count": 94,
   "metadata": {},
   "outputs": [],
   "source": [
    "def union_agrup(df_maestro, df_union, agrup_maestro, agrup_union, threshold=85, threshold_mun=90):\n",
    "    \n",
    "    count_maestro = df_maestro.shape[0]\n",
    "    count_union = df_union.shape[0]\n",
    "    print('num registros maestro: {}'.format(count_maestro))\n",
    "    print('num registros fichero para unir: {}'.format(count_union))\n",
    "    \n",
    "    #fuzzy por prov/ccaa\n",
    "    maestro_agrup = pd.DataFrame(df_maestro[agrup_maestro].drop_duplicates())\n",
    "    print('num agrupaciones maestro: {}'.format(maestro_agrup.shape))\n",
    "    union_agrup = pd.DataFrame(df_union[agrup_union].drop_duplicates())\n",
    "    print('num agrupaciones union: {}'.format(union_agrup.shape))\n",
    "\n",
    "    agrup_match = fuzzy_merge(maestro_agrup, union_agrup, agrup_maestro, agrup_union, threshold=threshold)\n",
    "    print('num agrupaciones tras match: {}'.format(agrup_match.shape))\n",
    "    num_matches = (agrup_match[agrup_match['matches']!='']['matches'].nunique())\n",
    "    if (num_matches != agrup_match[agrup_maestro].nunique()):\n",
    "        print('no se han cruzado todos los valores:')\n",
    "        print(agrup_match[agrup_match['matches']==''])\n",
    "        \n",
    "        #se genera un nuevo df con el match y el fichero de union\n",
    "    df_union_agrup_match = pd.merge(df_union, agrup_match, left_on=agrup_union, right_on='matches', how='right')\n",
    "    if (count_union != df_union_agrup_match.shape[0]):\n",
    "        print('el fichero de union no dispone de todos los valores para cruzar')    \n",
    "\n",
    "    print('columnas final: {}'.format(df_union_agrup_match.columns))\n",
    "        #borramos columnas que sobran\n",
    "    df_union_agrup_match.drop(columns=['matches'], inplace=True)\n",
    "    if agrup_maestro != agrup_union:\n",
    "        df_union_agrup_match.drop(columns=agrup_union, inplace=True)\n",
    "    print('num registros tras union: {}'.format(df_union_agrup_match.shape))\n",
    "    \n",
    "    return df_union_agrup_match"
   ]
  },
  {
   "cell_type": "code",
   "execution_count": 124,
   "metadata": {},
   "outputs": [],
   "source": [
    "def union_solo_muni(df_maestro, df_union, muni_maestro, muni_union, threshold=85):\n",
    "    \n",
    "    count_maestro = df_maestro.shape[0]\n",
    "    count_union = df_union.shape[0]\n",
    "    print('num registros maestro: {}'.format(count_maestro))\n",
    "    print('num registros fichero para unir: {}'.format(count_union))\n",
    "    \n",
    "    #fuzzy por municipio\n",
    "    muni_match = fuzzy_merge(df_maestro, df_union, muni_maestro, muni_union, threshold=threshold)\n",
    "    print('num agrupaciones tras match: {}'.format(muni_match.shape))\n",
    "    num_matches = (muni_match[muni_match['matches']!='']['matches'].nunique())\n",
    "    if (num_matches != muni_match[muni_maestro].nunique()):\n",
    "        print('no se han cruzado todos los valores:')\n",
    "        \n",
    "        #se genera un nuevo df con el match y el fichero de union\n",
    "    df_union_muni_match = pd.merge(df_union, muni_match, left_on=muni_union, right_on='matches', how='right')\n",
    "    if (count_union != df_union_muni_match.shape[0]):\n",
    "        print('el fichero de union no dispone de todos los valores para cruzar')    \n",
    "\n",
    "    print('columnas final: {}'.format(df_union_muni_match.columns))\n",
    "        #borramos columnas que sobran\n",
    "    df_union_muni_match.drop(columns=['matches'], inplace=True)\n",
    "    if muni_maestro != muni_union:\n",
    "        df_union_muni_match.drop(columns=muni_union, inplace=True)\n",
    "    print('num registros tras union: {}'.format(df_union_muni_match.shape))\n",
    "    \n",
    "    return df_union_muni_match"
   ]
  },
  {
   "cell_type": "code",
   "execution_count": 23,
   "metadata": {},
   "outputs": [],
   "source": [
    "def union_muni(df_maestro, df_union, muni_maestro, agrup_maestro, muni_union, agrup_union, threshold=85, threshold_mun=90):\n",
    "    \n",
    "    count_maestro = df_maestro.shape[0]\n",
    "    count_union = df_union.shape[0]\n",
    "    print('num registros maestro: {}'.format(count_maestro))\n",
    "    print('num registros fichero para unir: {}'.format(count_union))\n",
    "    \n",
    "    #fuzzy por prov/ccaa\n",
    "    maestro_agrup = pd.DataFrame(df_maestro[agrup_maestro].drop_duplicates())\n",
    "    print('num agrupaciones maestro: {}'.format(maestro_agrup.shape))\n",
    "    union_agrup = pd.DataFrame(df_union[agrup_union].drop_duplicates())\n",
    "    print('num agrupaciones union: {}'.format(union_agrup.shape))\n",
    "\n",
    "    agrup_match = fuzzy_merge(maestro_agrup, union_agrup, agrup_maestro, agrup_union, threshold=threshold)\n",
    "    print('num agrupaciones tras match: {}'.format(agrup_match.shape))\n",
    "    num_matches = (agrup_match[agrup_match['matches']!='']['matches'].nunique())\n",
    "    if (num_matches != agrup_match[agrup_maestro].nunique()):\n",
    "        print('no se han cruzado todos los valores:')\n",
    "        print(agrup_match[agrup_match['matches']==''])\n",
    "\n",
    "        #se genera un nuevo df con el match y el fichero de union\n",
    "    df_union_agrup_match = pd.merge(df_union, agrup_match, left_on=agrup_union, right_on='matches', how='left')\n",
    "    if (count_union != df_union_agrup_match.shape[0]):\n",
    "        print('el fichero de union no dispone de todos los valores para cruzar')    \n",
    "\n",
    "    df_union_agrup_match.drop(columns=['matches'], inplace=True)\n",
    "    \n",
    "    #fuzzy por municipio\n",
    "    df_maestro['muni_agrup'] = df_maestro[muni_maestro]+\"/\"+df_maestro[agrup_maestro]\n",
    "    df_union_agrup_match['muni_agrup'] = df_union_agrup_match[muni_union]+\"/\"+df_union_agrup_match[agrup_maestro]\n",
    "   \n",
    "    muni_match = pd.DataFrame()\n",
    "    maestro_count = 0\n",
    "    for agrup in list(maestro_agrup[agrup_maestro]):\n",
    "        print(agrup)\n",
    "        maestro_agrup_sel = df_maestro[df_maestro[agrup_maestro] == agrup].copy()\n",
    "        maestro_count = maestro_agrup_sel.shape[0] + maestro_count\n",
    "        union_agrup_sel = df_union_agrup_match[df_union_agrup_match[agrup_maestro] == agrup].copy()\n",
    "        if union_agrup_sel.empty == True:\n",
    "            print(f'no existe para {agrup}')\n",
    "        \n",
    "        else:\n",
    "            aux = fuzzy_merge(maestro_agrup_sel, union_agrup_sel, 'muni_agrup', 'muni_agrup', threshold=threshold_mun)\n",
    "            num_matches = (aux[aux['matches']!='']['matches'].nunique())\n",
    "            if (num_matches != aux[muni_maestro].nunique()):\n",
    "                print('no se han cruzado todos los valores:')\n",
    "                #print(aux[aux['matches'].isnull()]) \n",
    "            muni_match = pd.concat([muni_match, aux])\n",
    "        \n",
    "        #comprobacion registros    \n",
    "    print('num muni maestro: {}'.format(maestro_count))\n",
    "    if maestro_count != muni_match.shape[0]:\n",
    "        print(\"se han perdido registros\")       \n",
    "        \n",
    "    muni_match.drop(columns='muni_agrup', inplace=True)\n",
    "    df_union_agrup_match.drop(columns=[agrup_maestro], inplace=True)\n",
    "\n",
    "        #se genera un nuevo df con el match y el fichero de union\n",
    "    df_union_muni_match = pd.merge(muni_match, df_union_agrup_match, left_on='matches', right_on='muni_agrup', how='left')\n",
    "    if (count_union != df_union_muni_match.shape[0]):\n",
    "        print('el fichero de union no dispone de todos los valores para cruzar por municipio')        \n",
    "\n",
    "    #merge maestro con fichero union\n",
    "    #df_tras_union = pd.merge(df_maestro, df_union_muni_match, left_on=muni_maestro, right_on='matches', how='left')\n",
    "    \n",
    "    print('columnas final: {}'.format(df_union_muni_match.columns))\n",
    "        #borramos columnas que sobran\n",
    "    if muni_maestro != muni_union:\n",
    "        df_union_muni_match.drop(columns=muni_union, inplace=True)\n",
    "    if agrup_maestro != agrup_union:\n",
    "        df_union_muni_match.drop(columns=agrup_union, inplace=True)\n",
    "    df_union_muni_match.drop(columns=['matches', 'muni_agrup'], inplace=True)\n",
    "    print('num registros tras union: {}'.format(df_union_muni_match.shape))\n",
    "    \n",
    "    return df_union_muni_match"
   ]
  },
  {
   "cell_type": "code",
   "execution_count": 24,
   "metadata": {},
   "outputs": [],
   "source": [
    "def union_cod_postal(maestro_nivel_cod_postal_1, df_union_2, df_unido_3, cod_postal_1, cod_postal_2, muni_prov, oper_agrup):\n",
    "    union_cp = pd.merge(maestro_nivel_cod_postal_1, df_union_2, left_on=cod_postal_1, right_on=cod_postal_2, how='left')\n",
    "    union_cp.drop(columns=[cod_postal_1, cod_postal_2], inplace=True)\n",
    "    union_cp = union_cp.groupby(by=muni_prov, as_index=False).agg([oper_agrup]).reset_index()\n",
    "    union_cp.columns = union_cp.columns.droplevel(1)  \n",
    "    df = pd.merge(df_unido_3, union_cp, left_on=muni_prov, right_on=muni_prov, how='left')\n",
    "    return df"
   ]
  },
  {
   "cell_type": "markdown",
   "metadata": {},
   "source": [
    "#### Carga y union de ficheros"
   ]
  },
  {
   "cell_type": "code",
   "execution_count": 25,
   "metadata": {},
   "outputs": [
    {
     "data": {
      "text/plain": [
       "'/home/patcalsi/projects/Exodus_urbano/data/patri'"
      ]
     },
     "execution_count": 25,
     "metadata": {},
     "output_type": "execute_result"
    }
   ],
   "source": [
    "os.getcwd()"
   ]
  },
  {
   "cell_type": "code",
   "execution_count": 26,
   "metadata": {},
   "outputs": [
    {
     "data": {
      "text/plain": [
       "['sociedad_seguridad_guardia_civil_2019_limpio.csv',\n",
       " 'maestro_nivel_municipio_ori.csv',\n",
       " 'union_ficheros.ipynb',\n",
       " 'maestro_nivel_ine.csv',\n",
       " 'sociedad_educacion_universidad_2018_limpio.csv',\n",
       " 'maestro_nivel_cod_postal.csv',\n",
       " 'union_ficheros2.ipynb',\n",
       " 'sociedad_sanidad_hospitales_2019_limpio.csv',\n",
       " 'union_patri.csv',\n",
       " 'sociedad_educacion_colegios_2020_limpio.csv',\n",
       " 'sociedad_sanidad_centros_salud_2019_limpio.csv',\n",
       " 'maestro_nuevo.csv',\n",
       " 'maestro_nivel_municipio.csv',\n",
       " 'union_ficheros_todos.ipynb',\n",
       " 'creacion_maestros.ipynb',\n",
       " '.ipynb_checkpoints',\n",
       " '.~lock.Empresas-SICTED2.xls#',\n",
       " 'economia_turismo_establecimientos_20XX_limpio.csv',\n",
       " '.~lock.union_patri.csv#',\n",
       " 'tratamiento',\n",
       " 'sociedad_usos_suelo_2019_limpio.csv',\n",
       " 'manual.txt',\n",
       " 'aaaa.csv',\n",
       " 'sociedad_cultura_bibliotecas_2017_limipio.csv',\n",
       " 'listado-codigos-postales-con-LatyLon.csv',\n",
       " 'sociedad_educacion_nivel_formacion_ccaa_2018.csv',\n",
       " 'maestro_nivel_todo.csv']"
      ]
     },
     "execution_count": 26,
     "metadata": {},
     "output_type": "execute_result"
    }
   ],
   "source": [
    "os.listdir()"
   ]
  },
  {
   "cell_type": "markdown",
   "metadata": {},
   "source": [
    "## Fichero maestro"
   ]
  },
  {
   "cell_type": "markdown",
   "metadata": {},
   "source": [
    "### Creacion maestro nivel cod postal"
   ]
  },
  {
   "cell_type": "code",
   "execution_count": 27,
   "metadata": {},
   "outputs": [],
   "source": [
    "maestro_nivel_cod_postal = pd.read_csv(\"maestro_nivel_cod_postal.csv\", index_col=0, dtype={'postal_code':object})"
   ]
  },
  {
   "cell_type": "markdown",
   "metadata": {},
   "source": [
    "### Creacion maestro nivel municipio"
   ]
  },
  {
   "cell_type": "code",
   "execution_count": 29,
   "metadata": {},
   "outputs": [
    {
     "data": {
      "text/plain": [
       "(6067, 9)"
      ]
     },
     "execution_count": 29,
     "metadata": {},
     "output_type": "execute_result"
    }
   ],
   "source": [
    "maestro_nivel_municipio_ori = pd.read_csv(\"maestro_nivel_municipio_ori.csv\", index_col=0)\n",
    "maestro_nivel_municipio_ori.shape"
   ]
  },
  {
   "cell_type": "markdown",
   "metadata": {},
   "source": [
    "## Ficheros especificos"
   ]
  },
  {
   "cell_type": "markdown",
   "metadata": {},
   "source": [
    "### Ficheros Patri"
   ]
  },
  {
   "cell_type": "markdown",
   "metadata": {},
   "source": [
    "##### Bibliotecas"
   ]
  },
  {
   "cell_type": "code",
   "execution_count": 25,
   "metadata": {},
   "outputs": [
    {
     "data": {
      "text/plain": [
       "(3323, 4)"
      ]
     },
     "execution_count": 25,
     "metadata": {},
     "output_type": "execute_result"
    }
   ],
   "source": [
    "bibliotecas = pd.read_csv(\"sociedad_cultura_bibliotecas_2017_limipio.csv\", index_col=0)\n",
    "bibliotecas.shape"
   ]
  },
  {
   "cell_type": "code",
   "execution_count": 26,
   "metadata": {
    "scrolled": false
   },
   "outputs": [
    {
     "data": {
      "text/html": [
       "<div>\n",
       "<style scoped>\n",
       "    .dataframe tbody tr th:only-of-type {\n",
       "        vertical-align: middle;\n",
       "    }\n",
       "\n",
       "    .dataframe tbody tr th {\n",
       "        vertical-align: top;\n",
       "    }\n",
       "\n",
       "    .dataframe thead th {\n",
       "        text-align: right;\n",
       "    }\n",
       "</style>\n",
       "<table border=\"1\" class=\"dataframe\">\n",
       "  <thead>\n",
       "    <tr style=\"text-align: right;\">\n",
       "      <th></th>\n",
       "      <th>municipio_limpio</th>\n",
       "      <th>ccaa</th>\n",
       "      <th>provincia</th>\n",
       "      <th>total_bibliotecas</th>\n",
       "    </tr>\n",
       "  </thead>\n",
       "  <tbody>\n",
       "    <tr>\n",
       "      <th>0</th>\n",
       "      <td>alaior</td>\n",
       "      <td>illes_balears</td>\n",
       "      <td>illes_balears</td>\n",
       "      <td>1</td>\n",
       "    </tr>\n",
       "    <tr>\n",
       "      <th>1</th>\n",
       "      <td>alaro</td>\n",
       "      <td>illes_balears</td>\n",
       "      <td>illes_balears</td>\n",
       "      <td>1</td>\n",
       "    </tr>\n",
       "  </tbody>\n",
       "</table>\n",
       "</div>"
      ],
      "text/plain": [
       "  municipio_limpio           ccaa      provincia  total_bibliotecas\n",
       "0           alaior  illes_balears  illes_balears                  1\n",
       "1            alaro  illes_balears  illes_balears                  1"
      ]
     },
     "execution_count": 26,
     "metadata": {},
     "output_type": "execute_result"
    }
   ],
   "source": [
    "bibliotecas.head(2)"
   ]
  },
  {
   "cell_type": "code",
   "execution_count": 27,
   "metadata": {
    "scrolled": false
   },
   "outputs": [
    {
     "data": {
      "text/html": [
       "<div>\n",
       "<style scoped>\n",
       "    .dataframe tbody tr th:only-of-type {\n",
       "        vertical-align: middle;\n",
       "    }\n",
       "\n",
       "    .dataframe tbody tr th {\n",
       "        vertical-align: top;\n",
       "    }\n",
       "\n",
       "    .dataframe thead th {\n",
       "        text-align: right;\n",
       "    }\n",
       "</style>\n",
       "<table border=\"1\" class=\"dataframe\">\n",
       "  <thead>\n",
       "    <tr style=\"text-align: right;\">\n",
       "      <th></th>\n",
       "      <th>municipio_limpio</th>\n",
       "      <th>ccaa</th>\n",
       "      <th>provincia</th>\n",
       "      <th>total_bibliotecas</th>\n",
       "    </tr>\n",
       "  </thead>\n",
       "  <tbody>\n",
       "    <tr>\n",
       "      <th>38</th>\n",
       "      <td>palma</td>\n",
       "      <td>illes_balears</td>\n",
       "      <td>illes_balears</td>\n",
       "      <td>22</td>\n",
       "    </tr>\n",
       "  </tbody>\n",
       "</table>\n",
       "</div>"
      ],
      "text/plain": [
       "   municipio_limpio           ccaa      provincia  total_bibliotecas\n",
       "38            palma  illes_balears  illes_balears                 22"
      ]
     },
     "execution_count": 27,
     "metadata": {},
     "output_type": "execute_result"
    }
   ],
   "source": [
    "bibliotecas[bibliotecas['municipio_limpio']=='palma']\n",
    "# idioma municipio = es"
   ]
  },
  {
   "cell_type": "code",
   "execution_count": 28,
   "metadata": {},
   "outputs": [],
   "source": [
    "bibliotecas.rename(columns={'ccaa': 'ccaa_limpio', 'total_bibliotecas': 'num_bibliotecas'}, inplace=True)\n",
    "bibliotecas.drop(columns=['provincia'], inplace=True)"
   ]
  },
  {
   "cell_type": "code",
   "execution_count": 29,
   "metadata": {},
   "outputs": [
    {
     "data": {
      "text/html": [
       "<div>\n",
       "<style scoped>\n",
       "    .dataframe tbody tr th:only-of-type {\n",
       "        vertical-align: middle;\n",
       "    }\n",
       "\n",
       "    .dataframe tbody tr th {\n",
       "        vertical-align: top;\n",
       "    }\n",
       "\n",
       "    .dataframe thead th {\n",
       "        text-align: right;\n",
       "    }\n",
       "</style>\n",
       "<table border=\"1\" class=\"dataframe\">\n",
       "  <thead>\n",
       "    <tr style=\"text-align: right;\">\n",
       "      <th></th>\n",
       "      <th>municipio_limpio</th>\n",
       "      <th>ccaa_limpio</th>\n",
       "      <th>num_bibliotecas</th>\n",
       "    </tr>\n",
       "  </thead>\n",
       "  <tbody>\n",
       "  </tbody>\n",
       "</table>\n",
       "</div>"
      ],
      "text/plain": [
       "Empty DataFrame\n",
       "Columns: [municipio_limpio, ccaa_limpio, num_bibliotecas]\n",
       "Index: []"
      ]
     },
     "execution_count": 29,
     "metadata": {},
     "output_type": "execute_result"
    }
   ],
   "source": [
    "# comprobacion duplicados\n",
    "bibliotecas[bibliotecas.duplicated()]"
   ]
  },
  {
   "cell_type": "code",
   "execution_count": 30,
   "metadata": {
    "scrolled": true
   },
   "outputs": [
    {
     "name": "stdout",
     "output_type": "stream",
     "text": [
      "num registros maestro: 6067\n",
      "num registros fichero para unir: 3323\n",
      "num agrupaciones maestro: (19, 1)\n",
      "num agrupaciones union: (19, 1)\n",
      "num agrupaciones tras match: (19, 2)\n",
      "pais_vasco\n",
      "no se han cruzado todos los valores:\n",
      "castilla_la_mancha\n",
      "no se han cruzado todos los valores:\n",
      "comunitat_valenciana\n",
      "no se han cruzado todos los valores:\n",
      "region_de_murcia\n",
      "no se han cruzado todos los valores:\n",
      "andalucia\n",
      "no se han cruzado todos los valores:\n",
      "castilla_y_leon\n",
      "no se han cruzado todos los valores:\n",
      "extremadura\n",
      "no se han cruzado todos los valores:\n",
      "illes_balears\n",
      "no se han cruzado todos los valores:\n",
      "cataluna\n",
      "no se han cruzado todos los valores:\n",
      "cantabria\n",
      "no se han cruzado todos los valores:\n",
      "la_rioja\n",
      "no se han cruzado todos los valores:\n",
      "galicia\n",
      "no se han cruzado todos los valores:\n",
      "comunidad_de_madrid\n",
      "no se han cruzado todos los valores:\n",
      "aragon\n",
      "no se han cruzado todos los valores:\n",
      "comunidad_foral_de_navarra\n",
      "no se han cruzado todos los valores:\n",
      "principado_de_asturias\n",
      "no se han cruzado todos los valores:\n",
      "canarias\n",
      "no se han cruzado todos los valores:\n",
      "ceuta\n",
      "melilla\n",
      "num muni maestro: 6067\n",
      "el fichero de union no dispone de todos los valores para cruzar por municipio\n",
      "columnas final: Index(['cities_es', 'cities', 'province_es', 'province', 'ccaa_es', 'ccaa',\n",
      "       'cities_es/province', 'provincia_original', 'municipio_original',\n",
      "       'matches', 'municipio_limpio', 'ccaa_limpio', 'num_bibliotecas',\n",
      "       'muni_agrup'],\n",
      "      dtype='object')\n",
      "num registros tras union: (6067, 10)\n"
     ]
    }
   ],
   "source": [
    "union1 = union_muni(maestro_nivel_municipio_ori, bibliotecas, 'cities', 'ccaa', 'municipio_limpio', 'ccaa_limpio', threshold=85)"
   ]
  },
  {
   "cell_type": "code",
   "execution_count": 37,
   "metadata": {
    "scrolled": true
   },
   "outputs": [
    {
     "data": {
      "text/html": [
       "<div>\n",
       "<style scoped>\n",
       "    .dataframe tbody tr th:only-of-type {\n",
       "        vertical-align: middle;\n",
       "    }\n",
       "\n",
       "    .dataframe tbody tr th {\n",
       "        vertical-align: top;\n",
       "    }\n",
       "\n",
       "    .dataframe thead th {\n",
       "        text-align: right;\n",
       "    }\n",
       "</style>\n",
       "<table border=\"1\" class=\"dataframe\">\n",
       "  <thead>\n",
       "    <tr style=\"text-align: right;\">\n",
       "      <th></th>\n",
       "      <th>cities_es</th>\n",
       "      <th>cities</th>\n",
       "      <th>province_es</th>\n",
       "      <th>province</th>\n",
       "      <th>ccaa_es</th>\n",
       "      <th>ccaa</th>\n",
       "      <th>cities_es/province</th>\n",
       "      <th>provincia_original</th>\n",
       "      <th>municipio_original</th>\n",
       "      <th>num_bibliotecas</th>\n",
       "    </tr>\n",
       "  </thead>\n",
       "  <tbody>\n",
       "    <tr>\n",
       "      <th>1059</th>\n",
       "      <td>soneja</td>\n",
       "      <td>soneja</td>\n",
       "      <td>castellon</td>\n",
       "      <td>castellon</td>\n",
       "      <td>comunidad_valenciana</td>\n",
       "      <td>comunitat_valenciana</td>\n",
       "      <td>soneja/castellon</td>\n",
       "      <td>Castellón/Castelló</td>\n",
       "      <td>Soneja</td>\n",
       "      <td>1.0</td>\n",
       "    </tr>\n",
       "  </tbody>\n",
       "</table>\n",
       "</div>"
      ],
      "text/plain": [
       "     cities_es  cities province_es   province               ccaa_es  \\\n",
       "1059    soneja  soneja   castellon  castellon  comunidad_valenciana   \n",
       "\n",
       "                      ccaa cities_es/province  provincia_original  \\\n",
       "1059  comunitat_valenciana   soneja/castellon  Castellón/Castelló   \n",
       "\n",
       "     municipio_original  num_bibliotecas  \n",
       "1059             Soneja              1.0  "
      ]
     },
     "execution_count": 37,
     "metadata": {},
     "output_type": "execute_result"
    }
   ],
   "source": [
    "union1[union1['cities']=='soneja']"
   ]
  },
  {
   "cell_type": "code",
   "execution_count": 38,
   "metadata": {
    "scrolled": true
   },
   "outputs": [
    {
     "data": {
      "text/plain": [
       "(3792, 10)"
      ]
     },
     "execution_count": 38,
     "metadata": {},
     "output_type": "execute_result"
    }
   ],
   "source": [
    "union1[~union1['num_bibliotecas'].isnull()].shape"
   ]
  },
  {
   "cell_type": "code",
   "execution_count": 39,
   "metadata": {
    "scrolled": true
   },
   "outputs": [
    {
     "data": {
      "text/plain": [
       "(6067, 10)"
      ]
     },
     "execution_count": 39,
     "metadata": {},
     "output_type": "execute_result"
    }
   ],
   "source": [
    "union1.shape"
   ]
  },
  {
   "cell_type": "markdown",
   "metadata": {},
   "source": [
    "##### Hospitales"
   ]
  },
  {
   "cell_type": "code",
   "execution_count": 40,
   "metadata": {},
   "outputs": [
    {
     "data": {
      "text/plain": [
       "(613, 2)"
      ]
     },
     "execution_count": 40,
     "metadata": {},
     "output_type": "execute_result"
    }
   ],
   "source": [
    "hospitales = pd.read_csv(\"sociedad_sanidad_hospitales_2019_limpio.csv\", index_col=0, dtype={'cp': object})\n",
    "hospitales.shape"
   ]
  },
  {
   "cell_type": "code",
   "execution_count": 41,
   "metadata": {
    "scrolled": false
   },
   "outputs": [
    {
     "data": {
      "text/html": [
       "<div>\n",
       "<style scoped>\n",
       "    .dataframe tbody tr th:only-of-type {\n",
       "        vertical-align: middle;\n",
       "    }\n",
       "\n",
       "    .dataframe tbody tr th {\n",
       "        vertical-align: top;\n",
       "    }\n",
       "\n",
       "    .dataframe thead th {\n",
       "        text-align: right;\n",
       "    }\n",
       "</style>\n",
       "<table border=\"1\" class=\"dataframe\">\n",
       "  <thead>\n",
       "    <tr style=\"text-align: right;\">\n",
       "      <th></th>\n",
       "      <th>cp</th>\n",
       "      <th>uds_hospiatales</th>\n",
       "    </tr>\n",
       "  </thead>\n",
       "  <tbody>\n",
       "    <tr>\n",
       "      <th>0</th>\n",
       "      <td>01002</td>\n",
       "      <td>1</td>\n",
       "    </tr>\n",
       "    <tr>\n",
       "      <th>1</th>\n",
       "      <td>01006</td>\n",
       "      <td>1</td>\n",
       "    </tr>\n",
       "  </tbody>\n",
       "</table>\n",
       "</div>"
      ],
      "text/plain": [
       "      cp  uds_hospiatales\n",
       "0  01002                1\n",
       "1  01006                1"
      ]
     },
     "execution_count": 41,
     "metadata": {},
     "output_type": "execute_result"
    }
   ],
   "source": [
    "hospitales.head(2)"
   ]
  },
  {
   "cell_type": "code",
   "execution_count": 42,
   "metadata": {},
   "outputs": [
    {
     "data": {
      "text/plain": [
       "Index(['postal_code', 'cities_es/province'], dtype='object')"
      ]
     },
     "execution_count": 42,
     "metadata": {},
     "output_type": "execute_result"
    }
   ],
   "source": [
    "maestro_nivel_cod_postal.columns"
   ]
  },
  {
   "cell_type": "code",
   "execution_count": 43,
   "metadata": {
    "scrolled": false
   },
   "outputs": [],
   "source": [
    "hospitales.rename(columns={'uds_hospiatales': 'num_hospitales'}, inplace=True)"
   ]
  },
  {
   "cell_type": "code",
   "execution_count": 45,
   "metadata": {
    "scrolled": true
   },
   "outputs": [
    {
     "data": {
      "text/plain": [
       "(6067, 11)"
      ]
     },
     "execution_count": 45,
     "metadata": {},
     "output_type": "execute_result"
    }
   ],
   "source": [
    "union2 = union_cod_postal(maestro_nivel_cod_postal, hospitales, union1, 'postal_code', 'cp', 'cities_es/province', 'sum')\n",
    "union2.shape"
   ]
  },
  {
   "cell_type": "code",
   "execution_count": 46,
   "metadata": {},
   "outputs": [
    {
     "data": {
      "text/html": [
       "<div>\n",
       "<style scoped>\n",
       "    .dataframe tbody tr th:only-of-type {\n",
       "        vertical-align: middle;\n",
       "    }\n",
       "\n",
       "    .dataframe tbody tr th {\n",
       "        vertical-align: top;\n",
       "    }\n",
       "\n",
       "    .dataframe thead th {\n",
       "        text-align: right;\n",
       "    }\n",
       "</style>\n",
       "<table border=\"1\" class=\"dataframe\">\n",
       "  <thead>\n",
       "    <tr style=\"text-align: right;\">\n",
       "      <th></th>\n",
       "      <th>cities_es</th>\n",
       "      <th>cities</th>\n",
       "      <th>province_es</th>\n",
       "      <th>province</th>\n",
       "      <th>ccaa_es</th>\n",
       "      <th>ccaa</th>\n",
       "      <th>cities_es/province</th>\n",
       "      <th>provincia_original</th>\n",
       "      <th>municipio_original</th>\n",
       "      <th>num_bibliotecas</th>\n",
       "      <th>num_hospitales</th>\n",
       "    </tr>\n",
       "  </thead>\n",
       "  <tbody>\n",
       "    <tr>\n",
       "      <th>0</th>\n",
       "      <td>alegria_dulantzi</td>\n",
       "      <td>alegria_dulantzi</td>\n",
       "      <td>alava</td>\n",
       "      <td>araba</td>\n",
       "      <td>pais_vasco</td>\n",
       "      <td>pais_vasco</td>\n",
       "      <td>alegria_dulantzi/araba</td>\n",
       "      <td>Araba/Álava</td>\n",
       "      <td>Alegría-Dulantzi</td>\n",
       "      <td>1.0</td>\n",
       "      <td>0.0</td>\n",
       "    </tr>\n",
       "    <tr>\n",
       "      <th>1</th>\n",
       "      <td>amurrio</td>\n",
       "      <td>amurrio</td>\n",
       "      <td>alava</td>\n",
       "      <td>araba</td>\n",
       "      <td>pais_vasco</td>\n",
       "      <td>pais_vasco</td>\n",
       "      <td>amurrio/araba</td>\n",
       "      <td>Araba/Álava</td>\n",
       "      <td>Amurrio</td>\n",
       "      <td>1.0</td>\n",
       "      <td>0.0</td>\n",
       "    </tr>\n",
       "    <tr>\n",
       "      <th>2</th>\n",
       "      <td>aramaio</td>\n",
       "      <td>aramaio</td>\n",
       "      <td>alava</td>\n",
       "      <td>araba</td>\n",
       "      <td>pais_vasco</td>\n",
       "      <td>pais_vasco</td>\n",
       "      <td>aramaio/araba</td>\n",
       "      <td>Araba/Álava</td>\n",
       "      <td>Aramaio</td>\n",
       "      <td>1.0</td>\n",
       "      <td>0.0</td>\n",
       "    </tr>\n",
       "    <tr>\n",
       "      <th>3</th>\n",
       "      <td>artziniega</td>\n",
       "      <td>artziniega</td>\n",
       "      <td>alava</td>\n",
       "      <td>araba</td>\n",
       "      <td>pais_vasco</td>\n",
       "      <td>pais_vasco</td>\n",
       "      <td>artziniega/araba</td>\n",
       "      <td>Araba/Álava</td>\n",
       "      <td>Artziniega</td>\n",
       "      <td>1.0</td>\n",
       "      <td>0.0</td>\n",
       "    </tr>\n",
       "    <tr>\n",
       "      <th>4</th>\n",
       "      <td>arminon</td>\n",
       "      <td>arminon</td>\n",
       "      <td>alava</td>\n",
       "      <td>araba</td>\n",
       "      <td>pais_vasco</td>\n",
       "      <td>pais_vasco</td>\n",
       "      <td>arminon/araba</td>\n",
       "      <td>Araba/Álava</td>\n",
       "      <td>Armiñón</td>\n",
       "      <td>NaN</td>\n",
       "      <td>0.0</td>\n",
       "    </tr>\n",
       "  </tbody>\n",
       "</table>\n",
       "</div>"
      ],
      "text/plain": [
       "          cities_es            cities province_es province     ccaa_es  \\\n",
       "0  alegria_dulantzi  alegria_dulantzi       alava    araba  pais_vasco   \n",
       "1           amurrio           amurrio       alava    araba  pais_vasco   \n",
       "2           aramaio           aramaio       alava    araba  pais_vasco   \n",
       "3        artziniega        artziniega       alava    araba  pais_vasco   \n",
       "4           arminon           arminon       alava    araba  pais_vasco   \n",
       "\n",
       "         ccaa      cities_es/province provincia_original municipio_original  \\\n",
       "0  pais_vasco  alegria_dulantzi/araba        Araba/Álava   Alegría-Dulantzi   \n",
       "1  pais_vasco           amurrio/araba        Araba/Álava            Amurrio   \n",
       "2  pais_vasco           aramaio/araba        Araba/Álava            Aramaio   \n",
       "3  pais_vasco        artziniega/araba        Araba/Álava         Artziniega   \n",
       "4  pais_vasco           arminon/araba        Araba/Álava            Armiñón   \n",
       "\n",
       "   num_bibliotecas  num_hospitales  \n",
       "0              1.0             0.0  \n",
       "1              1.0             0.0  \n",
       "2              1.0             0.0  \n",
       "3              1.0             0.0  \n",
       "4              NaN             0.0  "
      ]
     },
     "execution_count": 46,
     "metadata": {},
     "output_type": "execute_result"
    }
   ],
   "source": [
    "union2.head()"
   ]
  },
  {
   "cell_type": "code",
   "execution_count": 47,
   "metadata": {},
   "outputs": [
    {
     "data": {
      "text/plain": [
       "(339, 11)"
      ]
     },
     "execution_count": 47,
     "metadata": {},
     "output_type": "execute_result"
    }
   ],
   "source": [
    "union2[union2['num_hospitales']>0].shape"
   ]
  },
  {
   "cell_type": "markdown",
   "metadata": {},
   "source": [
    "##### Centros salud"
   ]
  },
  {
   "cell_type": "code",
   "execution_count": 48,
   "metadata": {},
   "outputs": [
    {
     "data": {
      "text/plain": [
       "(8316, 2)"
      ]
     },
     "execution_count": 48,
     "metadata": {},
     "output_type": "execute_result"
    }
   ],
   "source": [
    "centros_salud = pd.read_csv(\"sociedad_sanidad_centros_salud_2019_limpio.csv\", index_col=0, dtype={'cp': object})\n",
    "centros_salud.shape"
   ]
  },
  {
   "cell_type": "code",
   "execution_count": 49,
   "metadata": {},
   "outputs": [
    {
     "data": {
      "text/html": [
       "<div>\n",
       "<style scoped>\n",
       "    .dataframe tbody tr th:only-of-type {\n",
       "        vertical-align: middle;\n",
       "    }\n",
       "\n",
       "    .dataframe tbody tr th {\n",
       "        vertical-align: top;\n",
       "    }\n",
       "\n",
       "    .dataframe thead th {\n",
       "        text-align: right;\n",
       "    }\n",
       "</style>\n",
       "<table border=\"1\" class=\"dataframe\">\n",
       "  <thead>\n",
       "    <tr style=\"text-align: right;\">\n",
       "      <th></th>\n",
       "      <th>cp</th>\n",
       "      <th>num_centros_salud</th>\n",
       "    </tr>\n",
       "  </thead>\n",
       "  <tbody>\n",
       "    <tr>\n",
       "      <th>0</th>\n",
       "      <td>01001</td>\n",
       "      <td>1</td>\n",
       "    </tr>\n",
       "    <tr>\n",
       "      <th>1</th>\n",
       "      <td>01002</td>\n",
       "      <td>2</td>\n",
       "    </tr>\n",
       "  </tbody>\n",
       "</table>\n",
       "</div>"
      ],
      "text/plain": [
       "      cp  num_centros_salud\n",
       "0  01001                  1\n",
       "1  01002                  2"
      ]
     },
     "execution_count": 49,
     "metadata": {},
     "output_type": "execute_result"
    }
   ],
   "source": [
    "centros_salud.head(2)"
   ]
  },
  {
   "cell_type": "code",
   "execution_count": 51,
   "metadata": {},
   "outputs": [
    {
     "data": {
      "text/plain": [
       "(6067, 12)"
      ]
     },
     "execution_count": 51,
     "metadata": {},
     "output_type": "execute_result"
    }
   ],
   "source": [
    "union3 = union_cod_postal(maestro_nivel_cod_postal, centros_salud, union2, 'postal_code', 'cp', 'cities_es/province', 'sum')\n",
    "union3.shape"
   ]
  },
  {
   "cell_type": "code",
   "execution_count": 52,
   "metadata": {},
   "outputs": [
    {
     "data": {
      "text/plain": [
       "(5881, 12)"
      ]
     },
     "execution_count": 52,
     "metadata": {},
     "output_type": "execute_result"
    }
   ],
   "source": [
    "union3[union3['num_centros_salud']>0].shape"
   ]
  },
  {
   "cell_type": "markdown",
   "metadata": {},
   "source": [
    "##### Colegios"
   ]
  },
  {
   "cell_type": "code",
   "execution_count": 53,
   "metadata": {},
   "outputs": [],
   "source": [
    "colegios = pd.read_csv(\"sociedad_educacion_colegios_2020_limpio.csv\", index_col=0, dtype={'codigo_postal': object})"
   ]
  },
  {
   "cell_type": "code",
   "execution_count": 54,
   "metadata": {},
   "outputs": [
    {
     "data": {
      "text/plain": [
       "(7838, 5)"
      ]
     },
     "execution_count": 54,
     "metadata": {},
     "output_type": "execute_result"
    }
   ],
   "source": [
    "colegios.shape"
   ]
  },
  {
   "cell_type": "code",
   "execution_count": 59,
   "metadata": {
    "scrolled": true
   },
   "outputs": [
    {
     "data": {
      "text/html": [
       "<div>\n",
       "<style scoped>\n",
       "    .dataframe tbody tr th:only-of-type {\n",
       "        vertical-align: middle;\n",
       "    }\n",
       "\n",
       "    .dataframe tbody tr th {\n",
       "        vertical-align: top;\n",
       "    }\n",
       "\n",
       "    .dataframe thead th {\n",
       "        text-align: right;\n",
       "    }\n",
       "</style>\n",
       "<table border=\"1\" class=\"dataframe\">\n",
       "  <thead>\n",
       "    <tr style=\"text-align: right;\">\n",
       "      <th></th>\n",
       "      <th>municipio_limpio</th>\n",
       "      <th>provincia_limpio</th>\n",
       "      <th>num_colegios_privados</th>\n",
       "      <th>num_colegios_publicos</th>\n",
       "    </tr>\n",
       "  </thead>\n",
       "  <tbody>\n",
       "    <tr>\n",
       "      <th>0</th>\n",
       "      <td>a_abelaira</td>\n",
       "      <td>lugo</td>\n",
       "      <td>0.0</td>\n",
       "      <td>2.0</td>\n",
       "    </tr>\n",
       "    <tr>\n",
       "      <th>1</th>\n",
       "      <td>a_abelleira</td>\n",
       "      <td>pontevedra</td>\n",
       "      <td>1.0</td>\n",
       "      <td>0.0</td>\n",
       "    </tr>\n",
       "  </tbody>\n",
       "</table>\n",
       "</div>"
      ],
      "text/plain": [
       "  municipio_limpio provincia_limpio  num_colegios_privados  \\\n",
       "0       a_abelaira             lugo                    0.0   \n",
       "1      a_abelleira       pontevedra                    1.0   \n",
       "\n",
       "   num_colegios_publicos  \n",
       "0                    2.0  \n",
       "1                    0.0  "
      ]
     },
     "execution_count": 59,
     "metadata": {},
     "output_type": "execute_result"
    }
   ],
   "source": [
    "colegios.head(2)"
   ]
  },
  {
   "cell_type": "code",
   "execution_count": 56,
   "metadata": {
    "scrolled": true
   },
   "outputs": [
    {
     "data": {
      "text/html": [
       "<div>\n",
       "<style scoped>\n",
       "    .dataframe tbody tr th:only-of-type {\n",
       "        vertical-align: middle;\n",
       "    }\n",
       "\n",
       "    .dataframe tbody tr th {\n",
       "        vertical-align: top;\n",
       "    }\n",
       "\n",
       "    .dataframe thead th {\n",
       "        text-align: right;\n",
       "    }\n",
       "</style>\n",
       "<table border=\"1\" class=\"dataframe\">\n",
       "  <thead>\n",
       "    <tr style=\"text-align: right;\">\n",
       "      <th></th>\n",
       "      <th>codigo_postal</th>\n",
       "      <th>municipio_limpio</th>\n",
       "      <th>provincia</th>\n",
       "      <th>num_colegios_privados</th>\n",
       "      <th>num_colegios_publicos</th>\n",
       "    </tr>\n",
       "  </thead>\n",
       "  <tbody>\n",
       "  </tbody>\n",
       "</table>\n",
       "</div>"
      ],
      "text/plain": [
       "Empty DataFrame\n",
       "Columns: [codigo_postal, municipio_limpio, provincia, num_colegios_privados, num_colegios_publicos]\n",
       "Index: []"
      ]
     },
     "execution_count": 56,
     "metadata": {},
     "output_type": "execute_result"
    }
   ],
   "source": [
    "colegios[colegios['codigo_postal']=='01450']\n",
    "#codigos postales erroneos, se une por municipio/provincia y cambiando de idioma"
   ]
  },
  {
   "cell_type": "code",
   "execution_count": 57,
   "metadata": {
    "scrolled": true
   },
   "outputs": [
    {
     "data": {
      "text/html": [
       "<div>\n",
       "<style scoped>\n",
       "    .dataframe tbody tr th:only-of-type {\n",
       "        vertical-align: middle;\n",
       "    }\n",
       "\n",
       "    .dataframe tbody tr th {\n",
       "        vertical-align: top;\n",
       "    }\n",
       "\n",
       "    .dataframe thead th {\n",
       "        text-align: right;\n",
       "    }\n",
       "</style>\n",
       "<table border=\"1\" class=\"dataframe\">\n",
       "  <thead>\n",
       "    <tr style=\"text-align: right;\">\n",
       "      <th></th>\n",
       "      <th>codigo_postal</th>\n",
       "      <th>municipio_limpio</th>\n",
       "      <th>provincia</th>\n",
       "      <th>num_colegios_privados</th>\n",
       "      <th>num_colegios_publicos</th>\n",
       "    </tr>\n",
       "  </thead>\n",
       "  <tbody>\n",
       "    <tr>\n",
       "      <th>81</th>\n",
       "      <td>01240</td>\n",
       "      <td>alegria_dulantzi</td>\n",
       "      <td>araba</td>\n",
       "      <td>NaN</td>\n",
       "      <td>3.0</td>\n",
       "    </tr>\n",
       "  </tbody>\n",
       "</table>\n",
       "</div>"
      ],
      "text/plain": [
       "   codigo_postal  municipio_limpio provincia  num_colegios_privados  \\\n",
       "81         01240  alegria_dulantzi     araba                    NaN   \n",
       "\n",
       "    num_colegios_publicos  \n",
       "81                    3.0  "
      ]
     },
     "execution_count": 57,
     "metadata": {},
     "output_type": "execute_result"
    }
   ],
   "source": [
    "colegios[colegios['municipio_limpio']=='alegria_dulantzi']\n",
    "# idioma municipio = es"
   ]
  },
  {
   "cell_type": "code",
   "execution_count": 58,
   "metadata": {},
   "outputs": [
    {
     "data": {
      "text/plain": [
       "(6331, 4)"
      ]
     },
     "execution_count": 58,
     "metadata": {},
     "output_type": "execute_result"
    }
   ],
   "source": [
    "colegios.drop(columns=['codigo_postal'], inplace=True)\n",
    "colegios.rename(columns={'provincia': 'provincia_limpio'}, inplace=True)\n",
    "colegios = colegios.groupby(by=['municipio_limpio','provincia_limpio'], as_index=False).sum()\n",
    "colegios.shape"
   ]
  },
  {
   "cell_type": "code",
   "execution_count": 60,
   "metadata": {
    "scrolled": true
   },
   "outputs": [
    {
     "name": "stdout",
     "output_type": "stream",
     "text": [
      "num registros maestro: 6067\n",
      "num registros fichero para unir: 6331\n",
      "num agrupaciones maestro: (52, 1)\n",
      "num agrupaciones union: (52, 1)\n",
      "num agrupaciones tras match: (52, 2)\n",
      "araba\n",
      "no se han cruzado todos los valores:\n",
      "gipuzkoa\n",
      "no se han cruzado todos los valores:\n",
      "bizkaia\n",
      "no se han cruzado todos los valores:\n",
      "albacete\n",
      "no se han cruzado todos los valores:\n",
      "ciudad_real\n",
      "no se han cruzado todos los valores:\n",
      "cuenca\n",
      "no se han cruzado todos los valores:\n",
      "guadalajara\n",
      "no se han cruzado todos los valores:\n",
      "toledo\n",
      "no se han cruzado todos los valores:\n",
      "alicante\n",
      "no se han cruzado todos los valores:\n",
      "castellon\n",
      "no se han cruzado todos los valores:\n",
      "valencia\n",
      "no se han cruzado todos los valores:\n",
      "murcia\n",
      "no se han cruzado todos los valores:\n",
      "almeria\n",
      "no se han cruzado todos los valores:\n",
      "cadiz\n",
      "no se han cruzado todos los valores:\n",
      "cordoba\n",
      "no se han cruzado todos los valores:\n",
      "granada\n",
      "no se han cruzado todos los valores:\n",
      "huelva\n",
      "no se han cruzado todos los valores:\n",
      "jaen\n",
      "no se han cruzado todos los valores:\n",
      "malaga\n",
      "no se han cruzado todos los valores:\n",
      "sevilla\n",
      "no se han cruzado todos los valores:\n",
      "avila\n",
      "no se han cruzado todos los valores:\n",
      "burgos\n",
      "no se han cruzado todos los valores:\n",
      "palencia\n",
      "no se han cruzado todos los valores:\n",
      "leon\n",
      "no se han cruzado todos los valores:\n",
      "salamanca\n",
      "no se han cruzado todos los valores:\n",
      "segovia\n",
      "no se han cruzado todos los valores:\n",
      "soria\n",
      "no se han cruzado todos los valores:\n",
      "valladolid\n",
      "no se han cruzado todos los valores:\n",
      "zamora\n",
      "no se han cruzado todos los valores:\n",
      "badajoz\n",
      "no se han cruzado todos los valores:\n",
      "caceres\n",
      "no se han cruzado todos los valores:\n",
      "illes_balears\n",
      "no se han cruzado todos los valores:\n",
      "barcelona\n",
      "no se han cruzado todos los valores:\n",
      "tarragona\n",
      "no se han cruzado todos los valores:\n",
      "girona\n",
      "no se han cruzado todos los valores:\n",
      "lleida\n",
      "no se han cruzado todos los valores:\n",
      "cantabria\n",
      "no se han cruzado todos los valores:\n",
      "la_rioja\n",
      "no se han cruzado todos los valores:\n",
      "coruna\n",
      "no se han cruzado todos los valores:\n",
      "lugo\n",
      "no se han cruzado todos los valores:\n",
      "ourense\n",
      "no se han cruzado todos los valores:\n",
      "pontevedra\n",
      "no se han cruzado todos los valores:\n",
      "madrid\n",
      "no se han cruzado todos los valores:\n",
      "huesca\n",
      "no se han cruzado todos los valores:\n",
      "zaragoza\n",
      "no se han cruzado todos los valores:\n",
      "teruel\n",
      "no se han cruzado todos los valores:\n",
      "navarra\n",
      "no se han cruzado todos los valores:\n",
      "asturias\n",
      "no se han cruzado todos los valores:\n",
      "las_palmas\n",
      "no se han cruzado todos los valores:\n",
      "santa_cruz_de_tenerife\n",
      "no se han cruzado todos los valores:\n",
      "ceuta\n",
      "melilla\n",
      "num muni maestro: 6067\n",
      "el fichero de union no dispone de todos los valores para cruzar por municipio\n",
      "columnas final: Index(['cities_es', 'cities', 'province_es', 'province', 'ccaa_es', 'ccaa',\n",
      "       'cities_es/province', 'provincia_original', 'municipio_original',\n",
      "       'num_bibliotecas', 'num_hospitales', 'num_centros_salud', 'matches',\n",
      "       'municipio_limpio', 'provincia_limpio', 'num_colegios_privados',\n",
      "       'num_colegios_publicos', 'muni_agrup'],\n",
      "      dtype='object')\n",
      "num registros tras union: (6067, 14)\n"
     ]
    }
   ],
   "source": [
    "union4 = union_muni(union3, colegios, 'cities_es', 'province', 'municipio_limpio', 'provincia_limpio', threshold=85, threshold_mun=90)"
   ]
  },
  {
   "cell_type": "code",
   "execution_count": 63,
   "metadata": {
    "scrolled": true
   },
   "outputs": [
    {
     "data": {
      "text/plain": [
       "(4850, 14)"
      ]
     },
     "execution_count": 63,
     "metadata": {},
     "output_type": "execute_result"
    }
   ],
   "source": [
    "union4[union4['num_colegios_publicos']>0.0].shape"
   ]
  },
  {
   "cell_type": "code",
   "execution_count": 61,
   "metadata": {
    "scrolled": false
   },
   "outputs": [
    {
     "data": {
      "text/plain": [
       "Index(['cities_es', 'cities', 'province_es', 'province', 'ccaa_es', 'ccaa',\n",
       "       'cities_es/province', 'provincia_original', 'municipio_original',\n",
       "       'num_bibliotecas', 'num_hospitales', 'num_centros_salud',\n",
       "       'num_colegios_privados', 'num_colegios_publicos'],\n",
       "      dtype='object')"
      ]
     },
     "execution_count": 61,
     "metadata": {},
     "output_type": "execute_result"
    }
   ],
   "source": [
    "union4.columns"
   ]
  },
  {
   "cell_type": "code",
   "execution_count": 62,
   "metadata": {},
   "outputs": [
    {
     "data": {
      "text/plain": [
       "(6067, 14)"
      ]
     },
     "execution_count": 62,
     "metadata": {},
     "output_type": "execute_result"
    }
   ],
   "source": [
    "union4.shape"
   ]
  },
  {
   "cell_type": "markdown",
   "metadata": {},
   "source": [
    "##### Guardia Civil"
   ]
  },
  {
   "cell_type": "code",
   "execution_count": 87,
   "metadata": {},
   "outputs": [],
   "source": [
    "guardia_civil = pd.read_csv(\"sociedad_seguridad_guardia_civil_2019_limpio.csv\", index_col=0, dtype={'cp': object})"
   ]
  },
  {
   "cell_type": "code",
   "execution_count": 88,
   "metadata": {},
   "outputs": [
    {
     "data": {
      "text/plain": [
       "(2237, 4)"
      ]
     },
     "execution_count": 88,
     "metadata": {},
     "output_type": "execute_result"
    }
   ],
   "source": [
    "guardia_civil.shape"
   ]
  },
  {
   "cell_type": "code",
   "execution_count": 89,
   "metadata": {
    "scrolled": false
   },
   "outputs": [
    {
     "data": {
      "text/html": [
       "<div>\n",
       "<style scoped>\n",
       "    .dataframe tbody tr th:only-of-type {\n",
       "        vertical-align: middle;\n",
       "    }\n",
       "\n",
       "    .dataframe tbody tr th {\n",
       "        vertical-align: top;\n",
       "    }\n",
       "\n",
       "    .dataframe thead th {\n",
       "        text-align: right;\n",
       "    }\n",
       "</style>\n",
       "<table border=\"1\" class=\"dataframe\">\n",
       "  <thead>\n",
       "    <tr style=\"text-align: right;\">\n",
       "      <th></th>\n",
       "      <th>cp</th>\n",
       "      <th>municipio_limpio</th>\n",
       "      <th>provincia</th>\n",
       "      <th>uds_guardia_civil</th>\n",
       "    </tr>\n",
       "  </thead>\n",
       "  <tbody>\n",
       "    <tr>\n",
       "      <th>0</th>\n",
       "      <td>10003</td>\n",
       "      <td>caceres</td>\n",
       "      <td>caceres</td>\n",
       "      <td>1</td>\n",
       "    </tr>\n",
       "    <tr>\n",
       "      <th>1</th>\n",
       "      <td>1010</td>\n",
       "      <td>vitoria</td>\n",
       "      <td>alava</td>\n",
       "      <td>1</td>\n",
       "    </tr>\n",
       "    <tr>\n",
       "      <th>2</th>\n",
       "      <td>10100</td>\n",
       "      <td>miajadas</td>\n",
       "      <td>caceres</td>\n",
       "      <td>1</td>\n",
       "    </tr>\n",
       "    <tr>\n",
       "      <th>3</th>\n",
       "      <td>10110</td>\n",
       "      <td>madrigalejo</td>\n",
       "      <td>caceres</td>\n",
       "      <td>1</td>\n",
       "    </tr>\n",
       "    <tr>\n",
       "      <th>4</th>\n",
       "      <td>10120</td>\n",
       "      <td>logrosan</td>\n",
       "      <td>caceres</td>\n",
       "      <td>1</td>\n",
       "    </tr>\n",
       "  </tbody>\n",
       "</table>\n",
       "</div>"
      ],
      "text/plain": [
       "      cp municipio_limpio provincia  uds_guardia_civil\n",
       "0  10003          caceres   caceres                  1\n",
       "1   1010          vitoria     alava                  1\n",
       "2  10100         miajadas   caceres                  1\n",
       "3  10110      madrigalejo   caceres                  1\n",
       "4  10120         logrosan   caceres                  1"
      ]
     },
     "execution_count": 89,
     "metadata": {},
     "output_type": "execute_result"
    }
   ],
   "source": [
    "guardia_civil.head(5)\n",
    "#codigo postal no valido"
   ]
  },
  {
   "cell_type": "code",
   "execution_count": 90,
   "metadata": {
    "scrolled": false
   },
   "outputs": [
    {
     "data": {
      "text/html": [
       "<div>\n",
       "<style scoped>\n",
       "    .dataframe tbody tr th:only-of-type {\n",
       "        vertical-align: middle;\n",
       "    }\n",
       "\n",
       "    .dataframe tbody tr th {\n",
       "        vertical-align: top;\n",
       "    }\n",
       "\n",
       "    .dataframe thead th {\n",
       "        text-align: right;\n",
       "    }\n",
       "</style>\n",
       "<table border=\"1\" class=\"dataframe\">\n",
       "  <thead>\n",
       "    <tr style=\"text-align: right;\">\n",
       "      <th></th>\n",
       "      <th>cp</th>\n",
       "      <th>municipio_limpio</th>\n",
       "      <th>provincia</th>\n",
       "      <th>uds_guardia_civil</th>\n",
       "    </tr>\n",
       "  </thead>\n",
       "  <tbody>\n",
       "    <tr>\n",
       "      <th>153</th>\n",
       "      <td>12560</td>\n",
       "      <td>benicasim</td>\n",
       "      <td>castellon</td>\n",
       "      <td>1</td>\n",
       "    </tr>\n",
       "  </tbody>\n",
       "</table>\n",
       "</div>"
      ],
      "text/plain": [
       "        cp municipio_limpio  provincia  uds_guardia_civil\n",
       "153  12560        benicasim  castellon                  1"
      ]
     },
     "execution_count": 90,
     "metadata": {},
     "output_type": "execute_result"
    }
   ],
   "source": [
    "guardia_civil[guardia_civil['municipio_limpio']=='benicasim']\n",
    "# idioma municipio = es"
   ]
  },
  {
   "cell_type": "code",
   "execution_count": 91,
   "metadata": {},
   "outputs": [
    {
     "data": {
      "text/plain": [
       "(2139, 3)"
      ]
     },
     "execution_count": 91,
     "metadata": {},
     "output_type": "execute_result"
    }
   ],
   "source": [
    "guardia_civil.drop(columns=['cp'], inplace=True)\n",
    "guardia_civil.rename(columns={'provincia': 'provincia_limpio', 'uds_guardia_civil': 'num_guardia_civil'}, inplace=True)\n",
    "guardia_civil = guardia_civil.groupby(by=['municipio_limpio','provincia_limpio'], as_index=False).sum()\n",
    "guardia_civil.shape"
   ]
  },
  {
   "cell_type": "code",
   "execution_count": 139,
   "metadata": {
    "scrolled": true
   },
   "outputs": [
    {
     "name": "stdout",
     "output_type": "stream",
     "text": [
      "num registros maestro: 6067\n",
      "num registros fichero para unir: 2139\n",
      "num agrupaciones maestro: (52, 1)\n",
      "num agrupaciones union: (52, 1)\n",
      "num agrupaciones tras match: (52, 2)\n",
      "alava\n",
      "no se han cruzado todos los valores:\n",
      "guipuzkoa\n",
      "no se han cruzado todos los valores:\n",
      "vizcaya\n",
      "no se han cruzado todos los valores:\n",
      "albacete\n",
      "no se han cruzado todos los valores:\n",
      "ciudad_real\n",
      "no se han cruzado todos los valores:\n",
      "cuenca\n",
      "no se han cruzado todos los valores:\n",
      "guadalajara\n",
      "no se han cruzado todos los valores:\n",
      "toledo\n",
      "no se han cruzado todos los valores:\n",
      "alicante\n",
      "no se han cruzado todos los valores:\n",
      "castellon\n",
      "no se han cruzado todos los valores:\n",
      "valencia\n",
      "no se han cruzado todos los valores:\n",
      "murcia\n",
      "no se han cruzado todos los valores:\n",
      "almeria\n",
      "no se han cruzado todos los valores:\n",
      "cadiz\n",
      "no se han cruzado todos los valores:\n",
      "cordoba\n",
      "no se han cruzado todos los valores:\n",
      "granada\n",
      "no se han cruzado todos los valores:\n",
      "huelva\n",
      "no se han cruzado todos los valores:\n",
      "jaen\n",
      "no se han cruzado todos los valores:\n",
      "malaga\n",
      "no se han cruzado todos los valores:\n",
      "sevilla\n",
      "no se han cruzado todos los valores:\n",
      "avila\n",
      "no se han cruzado todos los valores:\n",
      "burgos\n",
      "no se han cruzado todos los valores:\n",
      "palencia\n",
      "no se han cruzado todos los valores:\n",
      "leon\n",
      "no se han cruzado todos los valores:\n",
      "salamanca\n",
      "no se han cruzado todos los valores:\n",
      "segovia\n",
      "no se han cruzado todos los valores:\n",
      "soria\n",
      "no se han cruzado todos los valores:\n",
      "valladolid\n",
      "no se han cruzado todos los valores:\n",
      "zamora\n",
      "no se han cruzado todos los valores:\n",
      "badajoz\n",
      "no se han cruzado todos los valores:\n",
      "caceres\n",
      "no se han cruzado todos los valores:\n",
      "illes_balears\n",
      "no se han cruzado todos los valores:\n",
      "barcelona\n",
      "no se han cruzado todos los valores:\n",
      "tarragona\n",
      "no se han cruzado todos los valores:\n",
      "girona\n",
      "no se han cruzado todos los valores:\n",
      "lleida\n",
      "no se han cruzado todos los valores:\n",
      "cantabria\n",
      "no se han cruzado todos los valores:\n",
      "la_rioja\n",
      "no se han cruzado todos los valores:\n",
      "coruna\n",
      "no se han cruzado todos los valores:\n",
      "lugo\n",
      "no se han cruzado todos los valores:\n",
      "ourense\n",
      "no se han cruzado todos los valores:\n",
      "pontevedra\n",
      "no se han cruzado todos los valores:\n",
      "madrid\n",
      "no se han cruzado todos los valores:\n",
      "huesca\n",
      "no se han cruzado todos los valores:\n",
      "zaragoza\n",
      "no se han cruzado todos los valores:\n",
      "teruel\n",
      "no se han cruzado todos los valores:\n",
      "navarra\n",
      "no se han cruzado todos los valores:\n",
      "asturias\n",
      "no se han cruzado todos los valores:\n",
      "las_palmas\n",
      "no se han cruzado todos los valores:\n",
      "santa_cruz_de_tenerife\n",
      "no se han cruzado todos los valores:\n",
      "ceuta\n",
      "melilla\n",
      "num muni maestro: 6067\n",
      "el fichero de union no dispone de todos los valores para cruzar por municipio\n",
      "columnas final: Index(['cities_es', 'cities', 'province_es', 'province', 'ccaa_es', 'ccaa',\n",
      "       'cities_es/province', 'provincia_original', 'municipio_original',\n",
      "       'num_bibliotecas', 'num_hospitales', 'num_centros_salud',\n",
      "       'num_colegios_privados', 'num_colegios_publicos', 'matches',\n",
      "       'municipio_limpio', 'provincia_limpio', 'num_guardia_civil',\n",
      "       'muni_agrup'],\n",
      "      dtype='object')\n",
      "num registros tras union: (6067, 15)\n"
     ]
    }
   ],
   "source": [
    "union5 = union_muni(union4, guardia_civil, 'cities_es', 'province_es', 'municipio_limpio', 'provincia_limpio', threshold=85, threshold_mun=90)"
   ]
  },
  {
   "cell_type": "code",
   "execution_count": 93,
   "metadata": {},
   "outputs": [
    {
     "data": {
      "text/plain": [
       "(4356, 15)"
      ]
     },
     "execution_count": 93,
     "metadata": {},
     "output_type": "execute_result"
    }
   ],
   "source": [
    "union5[~union5['num_guardia_civil'].isnull()].shape"
   ]
  },
  {
   "cell_type": "code",
   "execution_count": 94,
   "metadata": {
    "scrolled": true
   },
   "outputs": [
    {
     "data": {
      "text/html": [
       "<div>\n",
       "<style scoped>\n",
       "    .dataframe tbody tr th:only-of-type {\n",
       "        vertical-align: middle;\n",
       "    }\n",
       "\n",
       "    .dataframe tbody tr th {\n",
       "        vertical-align: top;\n",
       "    }\n",
       "\n",
       "    .dataframe thead th {\n",
       "        text-align: right;\n",
       "    }\n",
       "</style>\n",
       "<table border=\"1\" class=\"dataframe\">\n",
       "  <thead>\n",
       "    <tr style=\"text-align: right;\">\n",
       "      <th></th>\n",
       "      <th>cities_es</th>\n",
       "      <th>cities</th>\n",
       "      <th>province_es</th>\n",
       "      <th>province</th>\n",
       "      <th>ccaa_es</th>\n",
       "      <th>ccaa</th>\n",
       "      <th>cities_es/province</th>\n",
       "      <th>provincia_original</th>\n",
       "      <th>municipio_original</th>\n",
       "      <th>num_bibliotecas</th>\n",
       "      <th>num_hospitales</th>\n",
       "      <th>num_centros_salud</th>\n",
       "      <th>num_colegios_privados</th>\n",
       "      <th>num_colegios_publicos</th>\n",
       "      <th>num_guardia_civil</th>\n",
       "    </tr>\n",
       "  </thead>\n",
       "  <tbody>\n",
       "    <tr>\n",
       "      <th>0</th>\n",
       "      <td>alegria_dulantzi</td>\n",
       "      <td>alegria_dulantzi</td>\n",
       "      <td>alava</td>\n",
       "      <td>araba</td>\n",
       "      <td>pais_vasco</td>\n",
       "      <td>pais_vasco</td>\n",
       "      <td>alegria_dulantzi/araba</td>\n",
       "      <td>Araba/Álava</td>\n",
       "      <td>Alegría-Dulantzi</td>\n",
       "      <td>1.0</td>\n",
       "      <td>0.0</td>\n",
       "      <td>1.0</td>\n",
       "      <td>0.0</td>\n",
       "      <td>3.0</td>\n",
       "      <td>NaN</td>\n",
       "    </tr>\n",
       "    <tr>\n",
       "      <th>1</th>\n",
       "      <td>amurrio</td>\n",
       "      <td>amurrio</td>\n",
       "      <td>alava</td>\n",
       "      <td>araba</td>\n",
       "      <td>pais_vasco</td>\n",
       "      <td>pais_vasco</td>\n",
       "      <td>amurrio/araba</td>\n",
       "      <td>Araba/Álava</td>\n",
       "      <td>Amurrio</td>\n",
       "      <td>1.0</td>\n",
       "      <td>0.0</td>\n",
       "      <td>1.0</td>\n",
       "      <td>3.0</td>\n",
       "      <td>6.0</td>\n",
       "      <td>NaN</td>\n",
       "    </tr>\n",
       "  </tbody>\n",
       "</table>\n",
       "</div>"
      ],
      "text/plain": [
       "          cities_es            cities province_es province     ccaa_es  \\\n",
       "0  alegria_dulantzi  alegria_dulantzi       alava    araba  pais_vasco   \n",
       "1           amurrio           amurrio       alava    araba  pais_vasco   \n",
       "\n",
       "         ccaa      cities_es/province provincia_original municipio_original  \\\n",
       "0  pais_vasco  alegria_dulantzi/araba        Araba/Álava   Alegría-Dulantzi   \n",
       "1  pais_vasco           amurrio/araba        Araba/Álava            Amurrio   \n",
       "\n",
       "   num_bibliotecas  num_hospitales  num_centros_salud  num_colegios_privados  \\\n",
       "0              1.0             0.0                1.0                    0.0   \n",
       "1              1.0             0.0                1.0                    3.0   \n",
       "\n",
       "   num_colegios_publicos  num_guardia_civil  \n",
       "0                    3.0                NaN  \n",
       "1                    6.0                NaN  "
      ]
     },
     "execution_count": 94,
     "metadata": {},
     "output_type": "execute_result"
    }
   ],
   "source": [
    "union5.head(2)"
   ]
  },
  {
   "cell_type": "code",
   "execution_count": 95,
   "metadata": {},
   "outputs": [
    {
     "data": {
      "text/plain": [
       "(6067, 15)"
      ]
     },
     "execution_count": 95,
     "metadata": {},
     "output_type": "execute_result"
    }
   ],
   "source": [
    "union5.shape"
   ]
  },
  {
   "cell_type": "markdown",
   "metadata": {},
   "source": [
    "##### Universidades"
   ]
  },
  {
   "cell_type": "code",
   "execution_count": 112,
   "metadata": {},
   "outputs": [],
   "source": [
    "universidad = pd.read_csv('sociedad_educacion_universidad_2018_limpio.csv', index_col=0, dtype={'cp': object})"
   ]
  },
  {
   "cell_type": "code",
   "execution_count": 113,
   "metadata": {},
   "outputs": [
    {
     "data": {
      "text/plain": [
       "(165, 6)"
      ]
     },
     "execution_count": 113,
     "metadata": {},
     "output_type": "execute_result"
    }
   ],
   "source": [
    "universidad.shape"
   ]
  },
  {
   "cell_type": "code",
   "execution_count": 117,
   "metadata": {
    "scrolled": false
   },
   "outputs": [
    {
     "data": {
      "text/html": [
       "<div>\n",
       "<style scoped>\n",
       "    .dataframe tbody tr th:only-of-type {\n",
       "        vertical-align: middle;\n",
       "    }\n",
       "\n",
       "    .dataframe tbody tr th {\n",
       "        vertical-align: top;\n",
       "    }\n",
       "\n",
       "    .dataframe thead th {\n",
       "        text-align: right;\n",
       "    }\n",
       "</style>\n",
       "<table border=\"1\" class=\"dataframe\">\n",
       "  <thead>\n",
       "    <tr style=\"text-align: right;\">\n",
       "      <th></th>\n",
       "      <th>municipio_limpio</th>\n",
       "      <th>ccaa</th>\n",
       "      <th>num_universidades_privadas</th>\n",
       "      <th>num_universidades_publicas</th>\n",
       "      <th>num_tit_uni_privadas</th>\n",
       "      <th>num_tit_uni_publicas</th>\n",
       "    </tr>\n",
       "  </thead>\n",
       "  <tbody>\n",
       "    <tr>\n",
       "      <th>0</th>\n",
       "      <td>albacete</td>\n",
       "      <td>castilla_la_mancha</td>\n",
       "      <td>NaN</td>\n",
       "      <td>1.0</td>\n",
       "      <td>NaN</td>\n",
       "      <td>52.0</td>\n",
       "    </tr>\n",
       "    <tr>\n",
       "      <th>1</th>\n",
       "      <td>alcala_de_henares</td>\n",
       "      <td>comunidad_de_madrid</td>\n",
       "      <td>1.0</td>\n",
       "      <td>1.0</td>\n",
       "      <td>5.0</td>\n",
       "      <td>114.0</td>\n",
       "    </tr>\n",
       "  </tbody>\n",
       "</table>\n",
       "</div>"
      ],
      "text/plain": [
       "    municipio_limpio                 ccaa  num_universidades_privadas  \\\n",
       "0           albacete   castilla_la_mancha                         NaN   \n",
       "1  alcala_de_henares  comunidad_de_madrid                         1.0   \n",
       "\n",
       "   num_universidades_publicas  num_tit_uni_privadas  num_tit_uni_publicas  \n",
       "0                         1.0                   NaN                  52.0  \n",
       "1                         1.0                   5.0                 114.0  "
      ]
     },
     "execution_count": 117,
     "metadata": {},
     "output_type": "execute_result"
    }
   ],
   "source": [
    "universidad.head(2)"
   ]
  },
  {
   "cell_type": "code",
   "execution_count": 115,
   "metadata": {},
   "outputs": [],
   "source": [
    "#### universidad['ccaa'].drop_duplicates().sort_values()"
   ]
  },
  {
   "cell_type": "code",
   "execution_count": 116,
   "metadata": {},
   "outputs": [],
   "source": [
    "universidad['ccaa'].replace(\"balears\",\"illes_balears\", inplace=True, regex=True)\n",
    "universidad['ccaa'].replace(\"madrid\",\"comunidad_de_madrid\", inplace=True, regex=True)\n",
    "universidad['ccaa'].replace(\"navarra\",\"comunidad_foral_de_navarra\", inplace=True, regex=True)\n",
    "universidad['ccaa'].replace(\"asturias\",\"principado_de_asturias\", inplace=True, regex=True)\n",
    "universidad['ccaa'].replace(\"rioja\",\"la_rioja\", inplace=True, regex=True)\n",
    "universidad['ccaa'].replace(\"murcia\",\"region_de_murcia\", inplace=True, regex=True)"
   ]
  },
  {
   "cell_type": "code",
   "execution_count": 118,
   "metadata": {},
   "outputs": [
    {
     "data": {
      "text/plain": [
       "(165, 6)"
      ]
     },
     "execution_count": 118,
     "metadata": {},
     "output_type": "execute_result"
    }
   ],
   "source": [
    "universidad.rename(columns={'ccaa': 'ccaa_limpio'}, inplace=True)\n",
    "universidad.shape"
   ]
  },
  {
   "cell_type": "code",
   "execution_count": 140,
   "metadata": {
    "scrolled": true
   },
   "outputs": [
    {
     "name": "stdout",
     "output_type": "stream",
     "text": [
      "num registros maestro: 6067\n",
      "num registros fichero para unir: 165\n",
      "num agrupaciones maestro: (19, 1)\n",
      "num agrupaciones union: (17, 1)\n",
      "num agrupaciones tras match: (19, 2)\n",
      "no se han cruzado todos los valores:\n",
      "         ccaa matches\n",
      "6065    ceuta        \n",
      "6066  melilla        \n",
      "pais_vasco\n",
      "no se han cruzado todos los valores:\n",
      "castilla_la_mancha\n",
      "no se han cruzado todos los valores:\n",
      "comunitat_valenciana\n",
      "no se han cruzado todos los valores:\n",
      "region_de_murcia\n",
      "no se han cruzado todos los valores:\n",
      "andalucia\n",
      "no se han cruzado todos los valores:\n",
      "castilla_y_leon\n",
      "no se han cruzado todos los valores:\n",
      "extremadura\n",
      "no se han cruzado todos los valores:\n",
      "illes_balears\n",
      "no se han cruzado todos los valores:\n",
      "cataluna\n",
      "no se han cruzado todos los valores:\n",
      "cantabria\n",
      "no se han cruzado todos los valores:\n",
      "la_rioja\n",
      "no se han cruzado todos los valores:\n",
      "galicia\n",
      "no se han cruzado todos los valores:\n",
      "comunidad_de_madrid\n",
      "no se han cruzado todos los valores:\n",
      "aragon\n",
      "no se han cruzado todos los valores:\n",
      "comunidad_foral_de_navarra\n",
      "no se han cruzado todos los valores:\n",
      "principado_de_asturias\n",
      "no se han cruzado todos los valores:\n",
      "canarias\n",
      "no se han cruzado todos los valores:\n",
      "ceuta\n",
      "no existe para ceuta\n",
      "melilla\n",
      "no existe para melilla\n",
      "num muni maestro: 6067\n",
      "se han perdido registros\n",
      "el fichero de union no dispone de todos los valores para cruzar por municipio\n",
      "columnas final: Index(['cities_es', 'cities', 'province_es', 'province', 'ccaa_es', 'ccaa',\n",
      "       'cities_es/province', 'provincia_original', 'municipio_original',\n",
      "       'num_bibliotecas', 'num_hospitales', 'num_centros_salud',\n",
      "       'num_colegios_privados', 'num_colegios_publicos', 'num_guardia_civil',\n",
      "       'matches', 'municipio_limpio', 'ccaa_limpio',\n",
      "       'num_universidades_privadas', 'num_universidades_publicas',\n",
      "       'num_tit_uni_privadas', 'num_tit_uni_publicas', 'muni_agrup'],\n",
      "      dtype='object')\n",
      "num registros tras union: (6065, 19)\n"
     ]
    }
   ],
   "source": [
    "union6 = union_muni(union5, universidad, 'cities_es', 'ccaa', 'municipio_limpio', 'ccaa_limpio', threshold=85, threshold_mun=90)"
   ]
  },
  {
   "cell_type": "code",
   "execution_count": 1,
   "metadata": {
    "scrolled": false
   },
   "outputs": [
    {
     "ename": "NameError",
     "evalue": "name 'union6' is not defined",
     "output_type": "error",
     "traceback": [
      "\u001b[0;31m---------------------------------------------------------------------------\u001b[0m",
      "\u001b[0;31mNameError\u001b[0m                                 Traceback (most recent call last)",
      "\u001b[0;32m<ipython-input-1-5d932390c5c0>\u001b[0m in \u001b[0;36m<module>\u001b[0;34m\u001b[0m\n\u001b[0;32m----> 1\u001b[0;31m \u001b[0munion6\u001b[0m\u001b[0;34m.\u001b[0m\u001b[0mhead\u001b[0m\u001b[0;34m(\u001b[0m\u001b[0;36m5\u001b[0m\u001b[0;34m)\u001b[0m\u001b[0;34m\u001b[0m\u001b[0;34m\u001b[0m\u001b[0m\n\u001b[0m",
      "\u001b[0;31mNameError\u001b[0m: name 'union6' is not defined"
     ]
    }
   ],
   "source": [
    "union6.head(5)"
   ]
  },
  {
   "cell_type": "code",
   "execution_count": 2,
   "metadata": {
    "scrolled": true
   },
   "outputs": [
    {
     "ename": "NameError",
     "evalue": "name 'union6' is not defined",
     "output_type": "error",
     "traceback": [
      "\u001b[0;31m---------------------------------------------------------------------------\u001b[0m",
      "\u001b[0;31mNameError\u001b[0m                                 Traceback (most recent call last)",
      "\u001b[0;32m<ipython-input-2-31d72ff641f3>\u001b[0m in \u001b[0;36m<module>\u001b[0;34m\u001b[0m\n\u001b[0;32m----> 1\u001b[0;31m \u001b[0munion6\u001b[0m\u001b[0;34m.\u001b[0m\u001b[0mshape\u001b[0m\u001b[0;34m\u001b[0m\u001b[0;34m\u001b[0m\u001b[0m\n\u001b[0m",
      "\u001b[0;31mNameError\u001b[0m: name 'union6' is not defined"
     ]
    }
   ],
   "source": [
    "union6.shape"
   ]
  },
  {
   "cell_type": "markdown",
   "metadata": {},
   "source": [
    "##### Establecimientos"
   ]
  },
  {
   "cell_type": "code",
   "execution_count": 155,
   "metadata": {},
   "outputs": [],
   "source": [
    "establecimientos = pd.read_csv(\"economia_turismo_establecimientos_20XX_limpio.csv\", index_col=0, dtype={'codigo_postal': object})"
   ]
  },
  {
   "cell_type": "code",
   "execution_count": 156,
   "metadata": {},
   "outputs": [
    {
     "data": {
      "text/plain": [
       "(2063, 35)"
      ]
     },
     "execution_count": 156,
     "metadata": {},
     "output_type": "execute_result"
    }
   ],
   "source": [
    "establecimientos.shape"
   ]
  },
  {
   "cell_type": "code",
   "execution_count": 164,
   "metadata": {
    "scrolled": true
   },
   "outputs": [
    {
     "data": {
      "text/html": [
       "<div>\n",
       "<style scoped>\n",
       "    .dataframe tbody tr th:only-of-type {\n",
       "        vertical-align: middle;\n",
       "    }\n",
       "\n",
       "    .dataframe tbody tr th {\n",
       "        vertical-align: top;\n",
       "    }\n",
       "\n",
       "    .dataframe thead th {\n",
       "        text-align: right;\n",
       "    }\n",
       "</style>\n",
       "<table border=\"1\" class=\"dataframe\">\n",
       "  <thead>\n",
       "    <tr style=\"text-align: right;\">\n",
       "      <th></th>\n",
       "      <th>codigo_postal</th>\n",
       "      <th>agencias_de_viajes</th>\n",
       "      <th>albergues</th>\n",
       "      <th>alojamientos_rurales</th>\n",
       "      <th>artesanos</th>\n",
       "      <th>atraque_de_cruceros_y_ferries</th>\n",
       "      <th>bares_y_cafeterías</th>\n",
       "      <th>bodegas</th>\n",
       "      <th>campings</th>\n",
       "      <th>campos_de_golf_y_campos_de_pitch&amp;putt</th>\n",
       "      <th>...</th>\n",
       "      <th>otros_servicios</th>\n",
       "      <th>palacios_de_congresos</th>\n",
       "      <th>playas</th>\n",
       "      <th>puertos_deportivos</th>\n",
       "      <th>restaurantes_y_empresas_turísticas_de_catering</th>\n",
       "      <th>seguridad_ciudadana</th>\n",
       "      <th>servicios_de_limpieza</th>\n",
       "      <th>servicios_turísticos_de_salud</th>\n",
       "      <th>taxis</th>\n",
       "      <th>turismo_industrial</th>\n",
       "    </tr>\n",
       "  </thead>\n",
       "  <tbody>\n",
       "    <tr>\n",
       "      <th>0</th>\n",
       "      <td>00000</td>\n",
       "      <td>0.0</td>\n",
       "      <td>2.0</td>\n",
       "      <td>3.0</td>\n",
       "      <td>0.0</td>\n",
       "      <td>0.0</td>\n",
       "      <td>1.0</td>\n",
       "      <td>0.0</td>\n",
       "      <td>0.0</td>\n",
       "      <td>0.0</td>\n",
       "      <td>...</td>\n",
       "      <td>0.0</td>\n",
       "      <td>0.0</td>\n",
       "      <td>0.0</td>\n",
       "      <td>0.0</td>\n",
       "      <td>1.0</td>\n",
       "      <td>0.0</td>\n",
       "      <td>0.0</td>\n",
       "      <td>0.0</td>\n",
       "      <td>0.0</td>\n",
       "      <td>0.0</td>\n",
       "    </tr>\n",
       "    <tr>\n",
       "      <th>1</th>\n",
       "      <td>00720</td>\n",
       "      <td>0.0</td>\n",
       "      <td>0.0</td>\n",
       "      <td>0.0</td>\n",
       "      <td>0.0</td>\n",
       "      <td>0.0</td>\n",
       "      <td>0.0</td>\n",
       "      <td>0.0</td>\n",
       "      <td>0.0</td>\n",
       "      <td>0.0</td>\n",
       "      <td>...</td>\n",
       "      <td>0.0</td>\n",
       "      <td>0.0</td>\n",
       "      <td>0.0</td>\n",
       "      <td>0.0</td>\n",
       "      <td>1.0</td>\n",
       "      <td>0.0</td>\n",
       "      <td>0.0</td>\n",
       "      <td>0.0</td>\n",
       "      <td>0.0</td>\n",
       "      <td>0.0</td>\n",
       "    </tr>\n",
       "  </tbody>\n",
       "</table>\n",
       "<p>2 rows × 33 columns</p>\n",
       "</div>"
      ],
      "text/plain": [
       "  codigo_postal  agencias_de_viajes  albergues  alojamientos_rurales  \\\n",
       "0         00000                 0.0        2.0                   3.0   \n",
       "1         00720                 0.0        0.0                   0.0   \n",
       "\n",
       "   artesanos  atraque_de_cruceros_y_ferries  bares_y_cafeterías  bodegas  \\\n",
       "0        0.0                            0.0                 1.0      0.0   \n",
       "1        0.0                            0.0                 0.0      0.0   \n",
       "\n",
       "   campings  campos_de_golf_y_campos_de_pitch&putt  ...  otros_servicios  \\\n",
       "0       0.0                                    0.0  ...              0.0   \n",
       "1       0.0                                    0.0  ...              0.0   \n",
       "\n",
       "   palacios_de_congresos  playas  puertos_deportivos  \\\n",
       "0                    0.0     0.0                 0.0   \n",
       "1                    0.0     0.0                 0.0   \n",
       "\n",
       "   restaurantes_y_empresas_turísticas_de_catering  seguridad_ciudadana  \\\n",
       "0                                             1.0                  0.0   \n",
       "1                                             1.0                  0.0   \n",
       "\n",
       "   servicios_de_limpieza  servicios_turísticos_de_salud  taxis  \\\n",
       "0                    0.0                            0.0    0.0   \n",
       "1                    0.0                            0.0    0.0   \n",
       "\n",
       "   turismo_industrial  \n",
       "0                 0.0  \n",
       "1                 0.0  \n",
       "\n",
       "[2 rows x 33 columns]"
      ]
     },
     "execution_count": 164,
     "metadata": {},
     "output_type": "execute_result"
    }
   ],
   "source": [
    "establecimientos.head(2)"
   ]
  },
  {
   "cell_type": "code",
   "execution_count": 158,
   "metadata": {
    "scrolled": false
   },
   "outputs": [
    {
     "data": {
      "text/html": [
       "<div>\n",
       "<style scoped>\n",
       "    .dataframe tbody tr th:only-of-type {\n",
       "        vertical-align: middle;\n",
       "    }\n",
       "\n",
       "    .dataframe tbody tr th {\n",
       "        vertical-align: top;\n",
       "    }\n",
       "\n",
       "    .dataframe thead th {\n",
       "        text-align: right;\n",
       "    }\n",
       "</style>\n",
       "<table border=\"1\" class=\"dataframe\">\n",
       "  <thead>\n",
       "    <tr style=\"text-align: right;\">\n",
       "      <th></th>\n",
       "      <th>codigo_postal</th>\n",
       "      <th>municipio_limpio</th>\n",
       "      <th>ccaa</th>\n",
       "      <th>agencias_de_viajes</th>\n",
       "      <th>albergues</th>\n",
       "      <th>alojamientos_rurales</th>\n",
       "      <th>artesanos</th>\n",
       "      <th>atraque_de_cruceros_y_ferries</th>\n",
       "      <th>bares_y_cafeterías</th>\n",
       "      <th>bodegas</th>\n",
       "      <th>...</th>\n",
       "      <th>otros_servicios</th>\n",
       "      <th>palacios_de_congresos</th>\n",
       "      <th>playas</th>\n",
       "      <th>puertos_deportivos</th>\n",
       "      <th>restaurantes_y_empresas_turísticas_de_catering</th>\n",
       "      <th>seguridad_ciudadana</th>\n",
       "      <th>servicios_de_limpieza</th>\n",
       "      <th>servicios_turísticos_de_salud</th>\n",
       "      <th>taxis</th>\n",
       "      <th>turismo_industrial</th>\n",
       "    </tr>\n",
       "  </thead>\n",
       "  <tbody>\n",
       "    <tr>\n",
       "      <th>18</th>\n",
       "      <td>01118</td>\n",
       "      <td>bernedo</td>\n",
       "      <td>euskadi_pais_vasco</td>\n",
       "      <td>NaN</td>\n",
       "      <td>1.0</td>\n",
       "      <td>2.0</td>\n",
       "      <td>NaN</td>\n",
       "      <td>NaN</td>\n",
       "      <td>NaN</td>\n",
       "      <td>NaN</td>\n",
       "      <td>...</td>\n",
       "      <td>NaN</td>\n",
       "      <td>NaN</td>\n",
       "      <td>NaN</td>\n",
       "      <td>NaN</td>\n",
       "      <td>NaN</td>\n",
       "      <td>NaN</td>\n",
       "      <td>NaN</td>\n",
       "      <td>NaN</td>\n",
       "      <td>NaN</td>\n",
       "      <td>NaN</td>\n",
       "    </tr>\n",
       "    <tr>\n",
       "      <th>19</th>\n",
       "      <td>01118</td>\n",
       "      <td>lagran</td>\n",
       "      <td>euskadi_pais_vasco</td>\n",
       "      <td>NaN</td>\n",
       "      <td>NaN</td>\n",
       "      <td>NaN</td>\n",
       "      <td>NaN</td>\n",
       "      <td>NaN</td>\n",
       "      <td>NaN</td>\n",
       "      <td>NaN</td>\n",
       "      <td>...</td>\n",
       "      <td>NaN</td>\n",
       "      <td>NaN</td>\n",
       "      <td>NaN</td>\n",
       "      <td>NaN</td>\n",
       "      <td>NaN</td>\n",
       "      <td>NaN</td>\n",
       "      <td>NaN</td>\n",
       "      <td>NaN</td>\n",
       "      <td>NaN</td>\n",
       "      <td>NaN</td>\n",
       "    </tr>\n",
       "    <tr>\n",
       "      <th>20</th>\n",
       "      <td>01118</td>\n",
       "      <td>urturi</td>\n",
       "      <td>euskadi_pais_vasco</td>\n",
       "      <td>NaN</td>\n",
       "      <td>NaN</td>\n",
       "      <td>NaN</td>\n",
       "      <td>NaN</td>\n",
       "      <td>NaN</td>\n",
       "      <td>NaN</td>\n",
       "      <td>NaN</td>\n",
       "      <td>...</td>\n",
       "      <td>1.0</td>\n",
       "      <td>NaN</td>\n",
       "      <td>NaN</td>\n",
       "      <td>NaN</td>\n",
       "      <td>NaN</td>\n",
       "      <td>NaN</td>\n",
       "      <td>NaN</td>\n",
       "      <td>NaN</td>\n",
       "      <td>NaN</td>\n",
       "      <td>NaN</td>\n",
       "    </tr>\n",
       "  </tbody>\n",
       "</table>\n",
       "<p>3 rows × 35 columns</p>\n",
       "</div>"
      ],
      "text/plain": [
       "   codigo_postal municipio_limpio                ccaa  agencias_de_viajes  \\\n",
       "18         01118          bernedo  euskadi_pais_vasco                 NaN   \n",
       "19         01118           lagran  euskadi_pais_vasco                 NaN   \n",
       "20         01118           urturi  euskadi_pais_vasco                 NaN   \n",
       "\n",
       "    albergues  alojamientos_rurales  artesanos  atraque_de_cruceros_y_ferries  \\\n",
       "18        1.0                   2.0        NaN                            NaN   \n",
       "19        NaN                   NaN        NaN                            NaN   \n",
       "20        NaN                   NaN        NaN                            NaN   \n",
       "\n",
       "    bares_y_cafeterías  bodegas  ...  otros_servicios  palacios_de_congresos  \\\n",
       "18                 NaN      NaN  ...              NaN                    NaN   \n",
       "19                 NaN      NaN  ...              NaN                    NaN   \n",
       "20                 NaN      NaN  ...              1.0                    NaN   \n",
       "\n",
       "    playas  puertos_deportivos  \\\n",
       "18     NaN                 NaN   \n",
       "19     NaN                 NaN   \n",
       "20     NaN                 NaN   \n",
       "\n",
       "    restaurantes_y_empresas_turísticas_de_catering  seguridad_ciudadana  \\\n",
       "18                                             NaN                  NaN   \n",
       "19                                             NaN                  NaN   \n",
       "20                                             NaN                  NaN   \n",
       "\n",
       "    servicios_de_limpieza  servicios_turísticos_de_salud  taxis  \\\n",
       "18                    NaN                            NaN    NaN   \n",
       "19                    NaN                            NaN    NaN   \n",
       "20                    NaN                            NaN    NaN   \n",
       "\n",
       "    turismo_industrial  \n",
       "18                 NaN  \n",
       "19                 NaN  \n",
       "20                 NaN  \n",
       "\n",
       "[3 rows x 35 columns]"
      ]
     },
     "execution_count": 158,
     "metadata": {},
     "output_type": "execute_result"
    }
   ],
   "source": [
    "# mismo codigo postal para mas de un municipio, se producen duplicados\n",
    "establecimientos[establecimientos['codigo_postal']=='01118']"
   ]
  },
  {
   "cell_type": "code",
   "execution_count": 161,
   "metadata": {
    "scrolled": true
   },
   "outputs": [
    {
     "data": {
      "text/html": [
       "<div>\n",
       "<style scoped>\n",
       "    .dataframe tbody tr th:only-of-type {\n",
       "        vertical-align: middle;\n",
       "    }\n",
       "\n",
       "    .dataframe tbody tr th {\n",
       "        vertical-align: top;\n",
       "    }\n",
       "\n",
       "    .dataframe thead th {\n",
       "        text-align: right;\n",
       "    }\n",
       "</style>\n",
       "<table border=\"1\" class=\"dataframe\">\n",
       "  <thead>\n",
       "    <tr style=\"text-align: right;\">\n",
       "      <th></th>\n",
       "      <th>codigo_postal</th>\n",
       "      <th>municipio_limpio</th>\n",
       "      <th>ccaa</th>\n",
       "      <th>agencias_de_viajes</th>\n",
       "      <th>albergues</th>\n",
       "      <th>alojamientos_rurales</th>\n",
       "      <th>artesanos</th>\n",
       "      <th>atraque_de_cruceros_y_ferries</th>\n",
       "      <th>bares_y_cafeterías</th>\n",
       "      <th>bodegas</th>\n",
       "      <th>...</th>\n",
       "      <th>otros_servicios</th>\n",
       "      <th>palacios_de_congresos</th>\n",
       "      <th>playas</th>\n",
       "      <th>puertos_deportivos</th>\n",
       "      <th>restaurantes_y_empresas_turísticas_de_catering</th>\n",
       "      <th>seguridad_ciudadana</th>\n",
       "      <th>servicios_de_limpieza</th>\n",
       "      <th>servicios_turísticos_de_salud</th>\n",
       "      <th>taxis</th>\n",
       "      <th>turismo_industrial</th>\n",
       "    </tr>\n",
       "  </thead>\n",
       "  <tbody>\n",
       "    <tr>\n",
       "      <th>163</th>\n",
       "      <td>03800</td>\n",
       "      <td>alcoi</td>\n",
       "      <td>comunitat_valenciana</td>\n",
       "      <td>NaN</td>\n",
       "      <td>NaN</td>\n",
       "      <td>2.0</td>\n",
       "      <td>NaN</td>\n",
       "      <td>NaN</td>\n",
       "      <td>NaN</td>\n",
       "      <td>NaN</td>\n",
       "      <td>...</td>\n",
       "      <td>NaN</td>\n",
       "      <td>NaN</td>\n",
       "      <td>NaN</td>\n",
       "      <td>NaN</td>\n",
       "      <td>1.0</td>\n",
       "      <td>NaN</td>\n",
       "      <td>NaN</td>\n",
       "      <td>NaN</td>\n",
       "      <td>NaN</td>\n",
       "      <td>NaN</td>\n",
       "    </tr>\n",
       "    <tr>\n",
       "      <th>165</th>\n",
       "      <td>03801</td>\n",
       "      <td>alcoi</td>\n",
       "      <td>comunitat_valenciana</td>\n",
       "      <td>1.0</td>\n",
       "      <td>NaN</td>\n",
       "      <td>NaN</td>\n",
       "      <td>NaN</td>\n",
       "      <td>NaN</td>\n",
       "      <td>2.0</td>\n",
       "      <td>NaN</td>\n",
       "      <td>...</td>\n",
       "      <td>1.0</td>\n",
       "      <td>NaN</td>\n",
       "      <td>NaN</td>\n",
       "      <td>NaN</td>\n",
       "      <td>1.0</td>\n",
       "      <td>NaN</td>\n",
       "      <td>NaN</td>\n",
       "      <td>NaN</td>\n",
       "      <td>1.0</td>\n",
       "      <td>NaN</td>\n",
       "    </tr>\n",
       "    <tr>\n",
       "      <th>167</th>\n",
       "      <td>03802</td>\n",
       "      <td>alcoi</td>\n",
       "      <td>comunitat_valenciana</td>\n",
       "      <td>NaN</td>\n",
       "      <td>NaN</td>\n",
       "      <td>NaN</td>\n",
       "      <td>1.0</td>\n",
       "      <td>NaN</td>\n",
       "      <td>NaN</td>\n",
       "      <td>NaN</td>\n",
       "      <td>...</td>\n",
       "      <td>NaN</td>\n",
       "      <td>NaN</td>\n",
       "      <td>NaN</td>\n",
       "      <td>NaN</td>\n",
       "      <td>1.0</td>\n",
       "      <td>NaN</td>\n",
       "      <td>NaN</td>\n",
       "      <td>NaN</td>\n",
       "      <td>NaN</td>\n",
       "      <td>NaN</td>\n",
       "    </tr>\n",
       "    <tr>\n",
       "      <th>170</th>\n",
       "      <td>03804</td>\n",
       "      <td>alcoi</td>\n",
       "      <td>comunitat_valenciana</td>\n",
       "      <td>NaN</td>\n",
       "      <td>NaN</td>\n",
       "      <td>NaN</td>\n",
       "      <td>NaN</td>\n",
       "      <td>NaN</td>\n",
       "      <td>NaN</td>\n",
       "      <td>NaN</td>\n",
       "      <td>...</td>\n",
       "      <td>NaN</td>\n",
       "      <td>NaN</td>\n",
       "      <td>NaN</td>\n",
       "      <td>NaN</td>\n",
       "      <td>NaN</td>\n",
       "      <td>NaN</td>\n",
       "      <td>NaN</td>\n",
       "      <td>NaN</td>\n",
       "      <td>1.0</td>\n",
       "      <td>NaN</td>\n",
       "    </tr>\n",
       "  </tbody>\n",
       "</table>\n",
       "<p>4 rows × 35 columns</p>\n",
       "</div>"
      ],
      "text/plain": [
       "    codigo_postal municipio_limpio                  ccaa  agencias_de_viajes  \\\n",
       "163         03800            alcoi  comunitat_valenciana                 NaN   \n",
       "165         03801            alcoi  comunitat_valenciana                 1.0   \n",
       "167         03802            alcoi  comunitat_valenciana                 NaN   \n",
       "170         03804            alcoi  comunitat_valenciana                 NaN   \n",
       "\n",
       "     albergues  alojamientos_rurales  artesanos  \\\n",
       "163        NaN                   2.0        NaN   \n",
       "165        NaN                   NaN        NaN   \n",
       "167        NaN                   NaN        1.0   \n",
       "170        NaN                   NaN        NaN   \n",
       "\n",
       "     atraque_de_cruceros_y_ferries  bares_y_cafeterías  bodegas  ...  \\\n",
       "163                            NaN                 NaN      NaN  ...   \n",
       "165                            NaN                 2.0      NaN  ...   \n",
       "167                            NaN                 NaN      NaN  ...   \n",
       "170                            NaN                 NaN      NaN  ...   \n",
       "\n",
       "     otros_servicios  palacios_de_congresos  playas  puertos_deportivos  \\\n",
       "163              NaN                    NaN     NaN                 NaN   \n",
       "165              1.0                    NaN     NaN                 NaN   \n",
       "167              NaN                    NaN     NaN                 NaN   \n",
       "170              NaN                    NaN     NaN                 NaN   \n",
       "\n",
       "     restaurantes_y_empresas_turísticas_de_catering  seguridad_ciudadana  \\\n",
       "163                                             1.0                  NaN   \n",
       "165                                             1.0                  NaN   \n",
       "167                                             1.0                  NaN   \n",
       "170                                             NaN                  NaN   \n",
       "\n",
       "     servicios_de_limpieza  servicios_turísticos_de_salud  taxis  \\\n",
       "163                    NaN                            NaN    NaN   \n",
       "165                    NaN                            NaN    1.0   \n",
       "167                    NaN                            NaN    NaN   \n",
       "170                    NaN                            NaN    1.0   \n",
       "\n",
       "     turismo_industrial  \n",
       "163                 NaN  \n",
       "165                 NaN  \n",
       "167                 NaN  \n",
       "170                 NaN  \n",
       "\n",
       "[4 rows x 35 columns]"
      ]
     },
     "execution_count": 161,
     "metadata": {},
     "output_type": "execute_result"
    }
   ],
   "source": [
    "establecimientos[establecimientos['municipio_limpio']=='alcoi']\n",
    "# municipio en 2 idiomas, se cruza por cp"
   ]
  },
  {
   "cell_type": "code",
   "execution_count": 163,
   "metadata": {},
   "outputs": [],
   "source": [
    "establecimientos.drop(columns=['municipio_limpio','ccaa'], inplace=True)\n",
    "establecimientos = establecimientos.groupby(['codigo_postal'],as_index=False).agg(lambda x : x.sum() if x.dtype=='float64' else x.head(1))"
   ]
  },
  {
   "cell_type": "code",
   "execution_count": 165,
   "metadata": {},
   "outputs": [
    {
     "data": {
      "text/plain": [
       "(6065, 51)"
      ]
     },
     "execution_count": 165,
     "metadata": {},
     "output_type": "execute_result"
    }
   ],
   "source": [
    "union7 = union_cod_postal(maestro_nivel_cod_postal, establecimientos, union6, 'postal_code', 'codigo_postal', 'cities_es/province', 'sum')\n",
    "union7.shape"
   ]
  },
  {
   "cell_type": "code",
   "execution_count": 166,
   "metadata": {},
   "outputs": [
    {
     "data": {
      "text/plain": [
       "(6065, 51)"
      ]
     },
     "execution_count": 166,
     "metadata": {},
     "output_type": "execute_result"
    }
   ],
   "source": [
    "union7[~union7['agencias_de_viajes'].isnull()].shape"
   ]
  },
  {
   "cell_type": "markdown",
   "metadata": {},
   "source": [
    "##### Usos suelo"
   ]
  },
  {
   "cell_type": "code",
   "execution_count": 111,
   "metadata": {},
   "outputs": [],
   "source": [
    "usos_suelo = pd.read_csv(\"sociedad_usos_suelo_2019_limpio.csv\", index_col=0)"
   ]
  },
  {
   "cell_type": "code",
   "execution_count": 112,
   "metadata": {},
   "outputs": [
    {
     "data": {
      "text/plain": [
       "(7610, 12)"
      ]
     },
     "execution_count": 112,
     "metadata": {},
     "output_type": "execute_result"
    }
   ],
   "source": [
    "usos_suelo.shape"
   ]
  },
  {
   "cell_type": "code",
   "execution_count": 113,
   "metadata": {
    "scrolled": true
   },
   "outputs": [
    {
     "data": {
      "text/html": [
       "<div>\n",
       "<style scoped>\n",
       "    .dataframe tbody tr th:only-of-type {\n",
       "        vertical-align: middle;\n",
       "    }\n",
       "\n",
       "    .dataframe tbody tr th {\n",
       "        vertical-align: top;\n",
       "    }\n",
       "\n",
       "    .dataframe thead th {\n",
       "        text-align: right;\n",
       "    }\n",
       "</style>\n",
       "<table border=\"1\" class=\"dataframe\">\n",
       "  <thead>\n",
       "    <tr style=\"text-align: right;\">\n",
       "      <th></th>\n",
       "      <th>municipio_limpio</th>\n",
       "      <th>provincia</th>\n",
       "      <th>superficie_urbana</th>\n",
       "      <th>uds_almacen</th>\n",
       "      <th>uds_comercial</th>\n",
       "      <th>uds_cultural</th>\n",
       "      <th>uds_hosteleria</th>\n",
       "      <th>uds_industrial</th>\n",
       "      <th>uds_deportivo</th>\n",
       "      <th>uds_oficinas</th>\n",
       "      <th>uds_religioso</th>\n",
       "      <th>uds_espectaculos</th>\n",
       "    </tr>\n",
       "  </thead>\n",
       "  <tbody>\n",
       "    <tr>\n",
       "      <th>0</th>\n",
       "      <td>abengibre</td>\n",
       "      <td>albacete</td>\n",
       "      <td>302,079</td>\n",
       "      <td>13</td>\n",
       "      <td>3</td>\n",
       "      <td>2</td>\n",
       "      <td>1</td>\n",
       "      <td>169</td>\n",
       "      <td>1</td>\n",
       "      <td>2</td>\n",
       "      <td>1</td>\n",
       "      <td>0</td>\n",
       "    </tr>\n",
       "    <tr>\n",
       "      <th>1</th>\n",
       "      <td>alatoz</td>\n",
       "      <td>albacete</td>\n",
       "      <td>339,890</td>\n",
       "      <td>41</td>\n",
       "      <td>2</td>\n",
       "      <td>1</td>\n",
       "      <td>1</td>\n",
       "      <td>140</td>\n",
       "      <td>4</td>\n",
       "      <td>2</td>\n",
       "      <td>2</td>\n",
       "      <td>0</td>\n",
       "    </tr>\n",
       "  </tbody>\n",
       "</table>\n",
       "</div>"
      ],
      "text/plain": [
       "  municipio_limpio provincia superficie_urbana uds_almacen uds_comercial  \\\n",
       "0        abengibre  albacete           302,079          13             3   \n",
       "1           alatoz  albacete           339,890          41             2   \n",
       "\n",
       "  uds_cultural uds_hosteleria uds_industrial uds_deportivo uds_oficinas  \\\n",
       "0            2              1            169             1            2   \n",
       "1            1              1            140             4            2   \n",
       "\n",
       "   uds_religioso  uds_espectaculos  \n",
       "0              1                 0  \n",
       "1              2                 0  "
      ]
     },
     "execution_count": 113,
     "metadata": {},
     "output_type": "execute_result"
    }
   ],
   "source": [
    "usos_suelo.head(2)"
   ]
  },
  {
   "cell_type": "code",
   "execution_count": 114,
   "metadata": {},
   "outputs": [
    {
     "data": {
      "text/plain": [
       "0                     albacete\n",
       "87                    alicante\n",
       "228                    almeria\n",
       "331                      avila\n",
       "579                    badajoz\n",
       "744                    balears\n",
       "811                  barcelona\n",
       "1122                    burgos\n",
       "1493                   caceres\n",
       "1716                     cadiz\n",
       "1761                 castellon\n",
       "1896               ciudad_real\n",
       "1998                   cordoba\n",
       "2075                    coruna\n",
       "2169                    cuenca\n",
       "2407                    girona\n",
       "2628                   granada\n",
       "2802               guadalajara\n",
       "3090                    huelva\n",
       "3170                    huesca\n",
       "3372                      jaen\n",
       "3469                      leon\n",
       "3680                    lleida\n",
       "3911                     rioja\n",
       "4085                      lugo\n",
       "4152                    madrid\n",
       "4331                    malaga\n",
       "4434                    murcia\n",
       "4479                   ourense\n",
       "4571                  asturias\n",
       "4649                  palencia\n",
       "4840                    palmas\n",
       "4874                pontevedra\n",
       "4936                 salamanca\n",
       "5298    santa_cruz_de_tenerife\n",
       "5352                 cantabria\n",
       "5454                   segovia\n",
       "5663                   sevilla\n",
       "5769                     soria\n",
       "5952                 tarragona\n",
       "6136                    teruel\n",
       "6372                    toledo\n",
       "6576                  valencia\n",
       "6842                valladolid\n",
       "7067                    zamora\n",
       "7315                  zaragoza\n",
       "7608                     ceuta\n",
       "7609                   melilla\n",
       "Name: provincia, dtype: object"
      ]
     },
     "execution_count": 114,
     "metadata": {},
     "output_type": "execute_result"
    }
   ],
   "source": [
    "usos_suelo['provincia'].drop_duplicates()\n",
    "# no esta el pais vasco - se deescarta"
   ]
  },
  {
   "cell_type": "code",
   "execution_count": null,
   "metadata": {},
   "outputs": [],
   "source": []
  },
  {
   "cell_type": "markdown",
   "metadata": {},
   "source": [
    "## Exportar fichero union"
   ]
  },
  {
   "cell_type": "code",
   "execution_count": 167,
   "metadata": {},
   "outputs": [
    {
     "data": {
      "text/plain": [
       "(6065, 51)"
      ]
     },
     "execution_count": 167,
     "metadata": {},
     "output_type": "execute_result"
    }
   ],
   "source": [
    "union7.shape"
   ]
  },
  {
   "cell_type": "code",
   "execution_count": 168,
   "metadata": {},
   "outputs": [
    {
     "data": {
      "text/html": [
       "<div>\n",
       "<style scoped>\n",
       "    .dataframe tbody tr th:only-of-type {\n",
       "        vertical-align: middle;\n",
       "    }\n",
       "\n",
       "    .dataframe tbody tr th {\n",
       "        vertical-align: top;\n",
       "    }\n",
       "\n",
       "    .dataframe thead th {\n",
       "        text-align: right;\n",
       "    }\n",
       "</style>\n",
       "<table border=\"1\" class=\"dataframe\">\n",
       "  <thead>\n",
       "    <tr style=\"text-align: right;\">\n",
       "      <th></th>\n",
       "      <th>cities_es</th>\n",
       "      <th>cities</th>\n",
       "      <th>province_es</th>\n",
       "      <th>province</th>\n",
       "      <th>ccaa_es</th>\n",
       "      <th>ccaa</th>\n",
       "      <th>cities_es/province</th>\n",
       "      <th>provincia_original</th>\n",
       "      <th>municipio_original</th>\n",
       "      <th>num_bibliotecas</th>\n",
       "      <th>...</th>\n",
       "      <th>otros_servicios</th>\n",
       "      <th>palacios_de_congresos</th>\n",
       "      <th>playas</th>\n",
       "      <th>puertos_deportivos</th>\n",
       "      <th>restaurantes_y_empresas_turísticas_de_catering</th>\n",
       "      <th>seguridad_ciudadana</th>\n",
       "      <th>servicios_de_limpieza</th>\n",
       "      <th>servicios_turísticos_de_salud</th>\n",
       "      <th>taxis</th>\n",
       "      <th>turismo_industrial</th>\n",
       "    </tr>\n",
       "  </thead>\n",
       "  <tbody>\n",
       "    <tr>\n",
       "      <th>0</th>\n",
       "      <td>alegria_dulantzi</td>\n",
       "      <td>alegria_dulantzi</td>\n",
       "      <td>alava</td>\n",
       "      <td>araba</td>\n",
       "      <td>pais_vasco</td>\n",
       "      <td>pais_vasco</td>\n",
       "      <td>alegria_dulantzi/araba</td>\n",
       "      <td>Araba/Álava</td>\n",
       "      <td>Alegría-Dulantzi</td>\n",
       "      <td>1.0</td>\n",
       "      <td>...</td>\n",
       "      <td>0.0</td>\n",
       "      <td>0.0</td>\n",
       "      <td>0.0</td>\n",
       "      <td>0.0</td>\n",
       "      <td>0.0</td>\n",
       "      <td>0.0</td>\n",
       "      <td>0.0</td>\n",
       "      <td>0.0</td>\n",
       "      <td>0.0</td>\n",
       "      <td>0.0</td>\n",
       "    </tr>\n",
       "    <tr>\n",
       "      <th>1</th>\n",
       "      <td>amurrio</td>\n",
       "      <td>amurrio</td>\n",
       "      <td>alava</td>\n",
       "      <td>araba</td>\n",
       "      <td>pais_vasco</td>\n",
       "      <td>pais_vasco</td>\n",
       "      <td>amurrio/araba</td>\n",
       "      <td>Araba/Álava</td>\n",
       "      <td>Amurrio</td>\n",
       "      <td>1.0</td>\n",
       "      <td>...</td>\n",
       "      <td>0.0</td>\n",
       "      <td>0.0</td>\n",
       "      <td>0.0</td>\n",
       "      <td>0.0</td>\n",
       "      <td>1.0</td>\n",
       "      <td>0.0</td>\n",
       "      <td>0.0</td>\n",
       "      <td>0.0</td>\n",
       "      <td>0.0</td>\n",
       "      <td>0.0</td>\n",
       "    </tr>\n",
       "    <tr>\n",
       "      <th>2</th>\n",
       "      <td>aramaio</td>\n",
       "      <td>aramaio</td>\n",
       "      <td>alava</td>\n",
       "      <td>araba</td>\n",
       "      <td>pais_vasco</td>\n",
       "      <td>pais_vasco</td>\n",
       "      <td>aramaio/araba</td>\n",
       "      <td>Araba/Álava</td>\n",
       "      <td>Aramaio</td>\n",
       "      <td>1.0</td>\n",
       "      <td>...</td>\n",
       "      <td>0.0</td>\n",
       "      <td>0.0</td>\n",
       "      <td>0.0</td>\n",
       "      <td>0.0</td>\n",
       "      <td>1.0</td>\n",
       "      <td>0.0</td>\n",
       "      <td>0.0</td>\n",
       "      <td>0.0</td>\n",
       "      <td>0.0</td>\n",
       "      <td>0.0</td>\n",
       "    </tr>\n",
       "  </tbody>\n",
       "</table>\n",
       "<p>3 rows × 51 columns</p>\n",
       "</div>"
      ],
      "text/plain": [
       "          cities_es            cities province_es province     ccaa_es  \\\n",
       "0  alegria_dulantzi  alegria_dulantzi       alava    araba  pais_vasco   \n",
       "1           amurrio           amurrio       alava    araba  pais_vasco   \n",
       "2           aramaio           aramaio       alava    araba  pais_vasco   \n",
       "\n",
       "         ccaa      cities_es/province provincia_original municipio_original  \\\n",
       "0  pais_vasco  alegria_dulantzi/araba        Araba/Álava   Alegría-Dulantzi   \n",
       "1  pais_vasco           amurrio/araba        Araba/Álava            Amurrio   \n",
       "2  pais_vasco           aramaio/araba        Araba/Álava            Aramaio   \n",
       "\n",
       "   num_bibliotecas  ...  otros_servicios  palacios_de_congresos  playas  \\\n",
       "0              1.0  ...              0.0                    0.0     0.0   \n",
       "1              1.0  ...              0.0                    0.0     0.0   \n",
       "2              1.0  ...              0.0                    0.0     0.0   \n",
       "\n",
       "   puertos_deportivos  restaurantes_y_empresas_turísticas_de_catering  \\\n",
       "0                 0.0                                             0.0   \n",
       "1                 0.0                                             1.0   \n",
       "2                 0.0                                             1.0   \n",
       "\n",
       "   seguridad_ciudadana  servicios_de_limpieza  servicios_turísticos_de_salud  \\\n",
       "0                  0.0                    0.0                            0.0   \n",
       "1                  0.0                    0.0                            0.0   \n",
       "2                  0.0                    0.0                            0.0   \n",
       "\n",
       "   taxis  turismo_industrial  \n",
       "0    0.0                 0.0  \n",
       "1    0.0                 0.0  \n",
       "2    0.0                 0.0  \n",
       "\n",
       "[3 rows x 51 columns]"
      ]
     },
     "execution_count": 168,
     "metadata": {},
     "output_type": "execute_result"
    }
   ],
   "source": [
    "union7.head(3)"
   ]
  },
  {
   "cell_type": "code",
   "execution_count": 169,
   "metadata": {},
   "outputs": [],
   "source": [
    "union7.to_csv(\"union_patri.csv\")"
   ]
  },
  {
   "cell_type": "markdown",
   "metadata": {},
   "source": [
    "### Ficheros Guille"
   ]
  },
  {
   "cell_type": "markdown",
   "metadata": {},
   "source": [
    "##### Trafico"
   ]
  },
  {
   "cell_type": "code",
   "execution_count": 81,
   "metadata": {},
   "outputs": [
    {
     "data": {
      "text/plain": [
       "(71, 4)"
      ]
     },
     "execution_count": 81,
     "metadata": {},
     "output_type": "execute_result"
    }
   ],
   "source": [
    "trafico = pd.read_csv('../Guille/recursos_trafico_carreteras_clean_2018.csv',index_col=0)\n",
    "trafico.shape"
   ]
  },
  {
   "cell_type": "code",
   "execution_count": 82,
   "metadata": {
    "scrolled": true
   },
   "outputs": [
    {
     "data": {
      "text/html": [
       "<div>\n",
       "<style scoped>\n",
       "    .dataframe tbody tr th:only-of-type {\n",
       "        vertical-align: middle;\n",
       "    }\n",
       "\n",
       "    .dataframe tbody tr th {\n",
       "        vertical-align: top;\n",
       "    }\n",
       "\n",
       "    .dataframe thead th {\n",
       "        text-align: right;\n",
       "    }\n",
       "</style>\n",
       "<table border=\"1\" class=\"dataframe\">\n",
       "  <thead>\n",
       "    <tr style=\"text-align: right;\">\n",
       "      <th></th>\n",
       "      <th>CCAA_name</th>\n",
       "      <th>Provincia_name</th>\n",
       "      <th>Total: Millones vehículos-km</th>\n",
       "      <th>porcentaje_carreteras_ccaa_y_estado</th>\n",
       "    </tr>\n",
       "  </thead>\n",
       "  <tbody>\n",
       "    <tr>\n",
       "      <th>0</th>\n",
       "      <td>andalucia</td>\n",
       "      <td>almeria</td>\n",
       "      <td>3425.81</td>\n",
       "      <td>0.830417</td>\n",
       "    </tr>\n",
       "    <tr>\n",
       "      <th>1</th>\n",
       "      <td>andalucia</td>\n",
       "      <td>cadiz</td>\n",
       "      <td>4725.45</td>\n",
       "      <td>0.877934</td>\n",
       "    </tr>\n",
       "  </tbody>\n",
       "</table>\n",
       "</div>"
      ],
      "text/plain": [
       "   CCAA_name Provincia_name  Total: Millones vehículos-km  \\\n",
       "0  andalucia        almeria                       3425.81   \n",
       "1  andalucia          cadiz                       4725.45   \n",
       "\n",
       "   porcentaje_carreteras_ccaa_y_estado  \n",
       "0                             0.830417  \n",
       "1                             0.877934  "
      ]
     },
     "execution_count": 82,
     "metadata": {},
     "output_type": "execute_result"
    }
   ],
   "source": [
    "trafico.head(2)"
   ]
  },
  {
   "cell_type": "code",
   "execution_count": 97,
   "metadata": {},
   "outputs": [],
   "source": [
    "trafico['Provincia_name'].replace(\"palmas_las\",\"las_palmas\", inplace=True, regex=True)\n",
    "trafico.rename(columns={'Total: Millones vehículos-km': 'total_millones_vehiculos_km'}, inplace=True)\n",
    "trafico.drop(columns=['CCAA_name'], inplace=True)\n",
    "trafico.drop_duplicates(subset=['Provincia_name'], inplace=True)"
   ]
  },
  {
   "cell_type": "code",
   "execution_count": 99,
   "metadata": {
    "scrolled": true
   },
   "outputs": [
    {
     "name": "stdout",
     "output_type": "stream",
     "text": [
      "num registros maestro: 6067\n",
      "num registros fichero para unir: 66\n",
      "num agrupaciones maestro: (52, 1)\n",
      "num agrupaciones union: (66, 1)\n",
      "num agrupaciones tras match: (52, 2)\n",
      "el fichero de union no dispone de todos los valores para cruzar\n",
      "columnas final: Index(['Provincia_name', 'total_millones_vehiculos_km',\n",
      "       'porcentaje_carreteras_ccaa_y_estado', 'province_es', 'matches'],\n",
      "      dtype='object')\n",
      "num registros tras union: (52, 3)\n"
     ]
    }
   ],
   "source": [
    "union_agrup_guille_1 = union_agrup(maestro_nivel_municipio_ori, trafico, 'province_es', 'Provincia_name', threshold=85)"
   ]
  },
  {
   "cell_type": "code",
   "execution_count": 100,
   "metadata": {},
   "outputs": [
    {
     "data": {
      "text/html": [
       "<div>\n",
       "<style scoped>\n",
       "    .dataframe tbody tr th:only-of-type {\n",
       "        vertical-align: middle;\n",
       "    }\n",
       "\n",
       "    .dataframe tbody tr th {\n",
       "        vertical-align: top;\n",
       "    }\n",
       "\n",
       "    .dataframe thead th {\n",
       "        text-align: right;\n",
       "    }\n",
       "</style>\n",
       "<table border=\"1\" class=\"dataframe\">\n",
       "  <thead>\n",
       "    <tr style=\"text-align: right;\">\n",
       "      <th></th>\n",
       "      <th>total_millones_vehiculos_km</th>\n",
       "      <th>porcentaje_carreteras_ccaa_y_estado</th>\n",
       "      <th>province_es</th>\n",
       "    </tr>\n",
       "  </thead>\n",
       "  <tbody>\n",
       "    <tr>\n",
       "      <th>0</th>\n",
       "      <td>3425.81</td>\n",
       "      <td>0.830417</td>\n",
       "      <td>almeria</td>\n",
       "    </tr>\n",
       "    <tr>\n",
       "      <th>1</th>\n",
       "      <td>4725.45</td>\n",
       "      <td>0.877934</td>\n",
       "      <td>cadiz</td>\n",
       "    </tr>\n",
       "  </tbody>\n",
       "</table>\n",
       "</div>"
      ],
      "text/plain": [
       "   total_millones_vehiculos_km  porcentaje_carreteras_ccaa_y_estado  \\\n",
       "0                      3425.81                             0.830417   \n",
       "1                      4725.45                             0.877934   \n",
       "\n",
       "  province_es  \n",
       "0     almeria  \n",
       "1       cadiz  "
      ]
     },
     "execution_count": 100,
     "metadata": {},
     "output_type": "execute_result"
    }
   ],
   "source": [
    "union_agrup_guille_1.head(2)"
   ]
  },
  {
   "cell_type": "code",
   "execution_count": 101,
   "metadata": {},
   "outputs": [],
   "source": [
    "union_guille_1 = pd.merge(maestro_nivel_municipio_ori, union_agrup_guille_1, left_on='province_es',right_on='province_es', how='left')"
   ]
  },
  {
   "cell_type": "code",
   "execution_count": 102,
   "metadata": {},
   "outputs": [
    {
     "data": {
      "text/html": [
       "<div>\n",
       "<style scoped>\n",
       "    .dataframe tbody tr th:only-of-type {\n",
       "        vertical-align: middle;\n",
       "    }\n",
       "\n",
       "    .dataframe tbody tr th {\n",
       "        vertical-align: top;\n",
       "    }\n",
       "\n",
       "    .dataframe thead th {\n",
       "        text-align: right;\n",
       "    }\n",
       "</style>\n",
       "<table border=\"1\" class=\"dataframe\">\n",
       "  <thead>\n",
       "    <tr style=\"text-align: right;\">\n",
       "      <th></th>\n",
       "      <th>total_millones_vehiculos_km</th>\n",
       "      <th>porcentaje_carreteras_ccaa_y_estado</th>\n",
       "      <th>province_es</th>\n",
       "    </tr>\n",
       "  </thead>\n",
       "  <tbody>\n",
       "  </tbody>\n",
       "</table>\n",
       "</div>"
      ],
      "text/plain": [
       "Empty DataFrame\n",
       "Columns: [total_millones_vehiculos_km, porcentaje_carreteras_ccaa_y_estado, province_es]\n",
       "Index: []"
      ]
     },
     "execution_count": 102,
     "metadata": {},
     "output_type": "execute_result"
    }
   ],
   "source": [
    "# comprobacion duplicados\n",
    "union_agrup_guille_1[union_agrup_guille_1.duplicated()]"
   ]
  },
  {
   "cell_type": "code",
   "execution_count": 103,
   "metadata": {
    "scrolled": true
   },
   "outputs": [
    {
     "data": {
      "text/html": [
       "<div>\n",
       "<style scoped>\n",
       "    .dataframe tbody tr th:only-of-type {\n",
       "        vertical-align: middle;\n",
       "    }\n",
       "\n",
       "    .dataframe tbody tr th {\n",
       "        vertical-align: top;\n",
       "    }\n",
       "\n",
       "    .dataframe thead th {\n",
       "        text-align: right;\n",
       "    }\n",
       "</style>\n",
       "<table border=\"1\" class=\"dataframe\">\n",
       "  <thead>\n",
       "    <tr style=\"text-align: right;\">\n",
       "      <th></th>\n",
       "      <th>cities_es</th>\n",
       "      <th>cities</th>\n",
       "      <th>province_es</th>\n",
       "      <th>province</th>\n",
       "      <th>ccaa_es</th>\n",
       "      <th>ccaa</th>\n",
       "      <th>cities_es/province</th>\n",
       "      <th>provincia_original</th>\n",
       "      <th>municipio_original</th>\n",
       "      <th>total_millones_vehiculos_km</th>\n",
       "      <th>porcentaje_carreteras_ccaa_y_estado</th>\n",
       "    </tr>\n",
       "  </thead>\n",
       "  <tbody>\n",
       "    <tr>\n",
       "      <th>0</th>\n",
       "      <td>alegria_dulantzi</td>\n",
       "      <td>alegria_dulantzi</td>\n",
       "      <td>alava</td>\n",
       "      <td>araba</td>\n",
       "      <td>pais_vasco</td>\n",
       "      <td>pais_vasco</td>\n",
       "      <td>alegria_dulantzi/araba</td>\n",
       "      <td>Araba/Álava</td>\n",
       "      <td>Alegría-Dulantzi</td>\n",
       "      <td>1869.3</td>\n",
       "      <td>0.832942</td>\n",
       "    </tr>\n",
       "    <tr>\n",
       "      <th>1</th>\n",
       "      <td>amurrio</td>\n",
       "      <td>amurrio</td>\n",
       "      <td>alava</td>\n",
       "      <td>araba</td>\n",
       "      <td>pais_vasco</td>\n",
       "      <td>pais_vasco</td>\n",
       "      <td>amurrio/araba</td>\n",
       "      <td>Araba/Álava</td>\n",
       "      <td>Amurrio</td>\n",
       "      <td>1869.3</td>\n",
       "      <td>0.832942</td>\n",
       "    </tr>\n",
       "    <tr>\n",
       "      <th>2</th>\n",
       "      <td>aramaio</td>\n",
       "      <td>aramaio</td>\n",
       "      <td>alava</td>\n",
       "      <td>araba</td>\n",
       "      <td>pais_vasco</td>\n",
       "      <td>pais_vasco</td>\n",
       "      <td>aramaio/araba</td>\n",
       "      <td>Araba/Álava</td>\n",
       "      <td>Aramaio</td>\n",
       "      <td>1869.3</td>\n",
       "      <td>0.832942</td>\n",
       "    </tr>\n",
       "    <tr>\n",
       "      <th>3</th>\n",
       "      <td>artziniega</td>\n",
       "      <td>artziniega</td>\n",
       "      <td>alava</td>\n",
       "      <td>araba</td>\n",
       "      <td>pais_vasco</td>\n",
       "      <td>pais_vasco</td>\n",
       "      <td>artziniega/araba</td>\n",
       "      <td>Araba/Álava</td>\n",
       "      <td>Artziniega</td>\n",
       "      <td>1869.3</td>\n",
       "      <td>0.832942</td>\n",
       "    </tr>\n",
       "    <tr>\n",
       "      <th>4</th>\n",
       "      <td>arminon</td>\n",
       "      <td>arminon</td>\n",
       "      <td>alava</td>\n",
       "      <td>araba</td>\n",
       "      <td>pais_vasco</td>\n",
       "      <td>pais_vasco</td>\n",
       "      <td>arminon/araba</td>\n",
       "      <td>Araba/Álava</td>\n",
       "      <td>Armiñón</td>\n",
       "      <td>1869.3</td>\n",
       "      <td>0.832942</td>\n",
       "    </tr>\n",
       "  </tbody>\n",
       "</table>\n",
       "</div>"
      ],
      "text/plain": [
       "          cities_es            cities province_es province     ccaa_es  \\\n",
       "0  alegria_dulantzi  alegria_dulantzi       alava    araba  pais_vasco   \n",
       "1           amurrio           amurrio       alava    araba  pais_vasco   \n",
       "2           aramaio           aramaio       alava    araba  pais_vasco   \n",
       "3        artziniega        artziniega       alava    araba  pais_vasco   \n",
       "4           arminon           arminon       alava    araba  pais_vasco   \n",
       "\n",
       "         ccaa      cities_es/province provincia_original municipio_original  \\\n",
       "0  pais_vasco  alegria_dulantzi/araba        Araba/Álava   Alegría-Dulantzi   \n",
       "1  pais_vasco           amurrio/araba        Araba/Álava            Amurrio   \n",
       "2  pais_vasco           aramaio/araba        Araba/Álava            Aramaio   \n",
       "3  pais_vasco        artziniega/araba        Araba/Álava         Artziniega   \n",
       "4  pais_vasco           arminon/araba        Araba/Álava            Armiñón   \n",
       "\n",
       "   total_millones_vehiculos_km  porcentaje_carreteras_ccaa_y_estado  \n",
       "0                       1869.3                             0.832942  \n",
       "1                       1869.3                             0.832942  \n",
       "2                       1869.3                             0.832942  \n",
       "3                       1869.3                             0.832942  \n",
       "4                       1869.3                             0.832942  "
      ]
     },
     "execution_count": 103,
     "metadata": {},
     "output_type": "execute_result"
    }
   ],
   "source": [
    "union_guille_1.head(2)"
   ]
  },
  {
   "cell_type": "code",
   "execution_count": 104,
   "metadata": {
    "scrolled": true
   },
   "outputs": [
    {
     "data": {
      "text/plain": [
       "(6067, 11)"
      ]
     },
     "execution_count": 104,
     "metadata": {},
     "output_type": "execute_result"
    }
   ],
   "source": [
    "union_guille_1.shape"
   ]
  },
  {
   "cell_type": "markdown",
   "metadata": {},
   "source": [
    "##### Empresas_autobuses"
   ]
  },
  {
   "cell_type": "code",
   "execution_count": 106,
   "metadata": {},
   "outputs": [
    {
     "data": {
      "text/plain": [
       "(77, 2)"
      ]
     },
     "execution_count": 106,
     "metadata": {},
     "output_type": "execute_result"
    }
   ],
   "source": [
    "empresas_autobuses = pd.read_csv('../Guille/recursos_empresas_autobuses_clean.csv',index_col=0)\n",
    "empresas_autobuses.shape"
   ]
  },
  {
   "cell_type": "code",
   "execution_count": 116,
   "metadata": {
    "scrolled": true
   },
   "outputs": [
    {
     "data": {
      "text/html": [
       "<div>\n",
       "<style scoped>\n",
       "    .dataframe tbody tr th:only-of-type {\n",
       "        vertical-align: middle;\n",
       "    }\n",
       "\n",
       "    .dataframe tbody tr th {\n",
       "        vertical-align: top;\n",
       "    }\n",
       "\n",
       "    .dataframe thead th {\n",
       "        text-align: right;\n",
       "    }\n",
       "</style>\n",
       "<table border=\"1\" class=\"dataframe\">\n",
       "  <thead>\n",
       "    <tr style=\"text-align: right;\">\n",
       "      <th></th>\n",
       "      <th>bus_based_companies_count</th>\n",
       "      <th>municipio_limpio</th>\n",
       "    </tr>\n",
       "  </thead>\n",
       "  <tbody>\n",
       "    <tr>\n",
       "      <th>0</th>\n",
       "      <td>5</td>\n",
       "      <td>barcelona</td>\n",
       "    </tr>\n",
       "    <tr>\n",
       "      <th>1</th>\n",
       "      <td>3</td>\n",
       "      <td>caceres</td>\n",
       "    </tr>\n",
       "  </tbody>\n",
       "</table>\n",
       "</div>"
      ],
      "text/plain": [
       "   bus_based_companies_count municipio_limpio\n",
       "0                          5        barcelona\n",
       "1                          3          caceres"
      ]
     },
     "execution_count": 116,
     "metadata": {},
     "output_type": "execute_result"
    }
   ],
   "source": [
    "empresas_autobuses.head(2)"
   ]
  },
  {
   "cell_type": "code",
   "execution_count": 115,
   "metadata": {},
   "outputs": [],
   "source": [
    "empresas_autobuses['municipio_limpio'] = empresas_autobuses['Municipio'].apply(doClean)\n",
    "empresas_autobuses.drop(columns='Municipio', inplace=True)"
   ]
  },
  {
   "cell_type": "code",
   "execution_count": 128,
   "metadata": {},
   "outputs": [
    {
     "data": {
      "text/html": [
       "<div>\n",
       "<style scoped>\n",
       "    .dataframe tbody tr th:only-of-type {\n",
       "        vertical-align: middle;\n",
       "    }\n",
       "\n",
       "    .dataframe tbody tr th {\n",
       "        vertical-align: top;\n",
       "    }\n",
       "\n",
       "    .dataframe thead th {\n",
       "        text-align: right;\n",
       "    }\n",
       "</style>\n",
       "<table border=\"1\" class=\"dataframe\">\n",
       "  <thead>\n",
       "    <tr style=\"text-align: right;\">\n",
       "      <th></th>\n",
       "      <th>bus_based_companies_count</th>\n",
       "      <th>municipio_limpio</th>\n",
       "    </tr>\n",
       "  </thead>\n",
       "  <tbody>\n",
       "    <tr>\n",
       "      <th>0</th>\n",
       "      <td>5</td>\n",
       "      <td>barcelona</td>\n",
       "    </tr>\n",
       "    <tr>\n",
       "      <th>1</th>\n",
       "      <td>3</td>\n",
       "      <td>caceres</td>\n",
       "    </tr>\n",
       "    <tr>\n",
       "      <th>2</th>\n",
       "      <td>3</td>\n",
       "      <td>jaen</td>\n",
       "    </tr>\n",
       "    <tr>\n",
       "      <th>3</th>\n",
       "      <td>3</td>\n",
       "      <td>soria</td>\n",
       "    </tr>\n",
       "    <tr>\n",
       "      <th>4</th>\n",
       "      <td>3</td>\n",
       "      <td>salamanca</td>\n",
       "    </tr>\n",
       "  </tbody>\n",
       "</table>\n",
       "</div>"
      ],
      "text/plain": [
       "   bus_based_companies_count municipio_limpio\n",
       "0                          5        barcelona\n",
       "1                          3          caceres\n",
       "2                          3             jaen\n",
       "3                          3            soria\n",
       "4                          3        salamanca"
      ]
     },
     "execution_count": 128,
     "metadata": {},
     "output_type": "execute_result"
    }
   ],
   "source": [
    "empresas_autobuses.head()"
   ]
  },
  {
   "cell_type": "code",
   "execution_count": 134,
   "metadata": {
    "scrolled": true
   },
   "outputs": [
    {
     "name": "stdout",
     "output_type": "stream",
     "text": [
      "num registros maestro: 6067\n",
      "num registros fichero para unir: 77\n",
      "num agrupaciones tras match: (6067, 12)\n",
      "no se han cruzado todos los valores:\n",
      "el fichero de union no dispone de todos los valores para cruzar\n",
      "columnas final: Index(['bus_based_companies_count', 'municipio_limpio', 'cities_es', 'cities',\n",
      "       'province_es', 'province', 'ccaa_es', 'ccaa', 'cities_es/province',\n",
      "       'provincia_original', 'municipio_original',\n",
      "       'total_millones_vehiculos_km', 'porcentaje_carreteras_ccaa_y_estado',\n",
      "       'matches'],\n",
      "      dtype='object')\n",
      "num registros tras union: (6067, 12)\n"
     ]
    }
   ],
   "source": [
    "union_guille_2 = union_solo_muni(union_guille_1, empresas_autobuses, 'cities_es', 'municipio_limpio', threshold=93)"
   ]
  },
  {
   "cell_type": "code",
   "execution_count": 136,
   "metadata": {},
   "outputs": [
    {
     "data": {
      "text/plain": [
       "(66, 12)"
      ]
     },
     "execution_count": 136,
     "metadata": {},
     "output_type": "execute_result"
    }
   ],
   "source": [
    "union_guille_2[~union_guille_2['bus_based_companies_count'].isnull()].shape"
   ]
  },
  {
   "cell_type": "markdown",
   "metadata": {},
   "source": [
    "##### Cobertura red"
   ]
  },
  {
   "cell_type": "code",
   "execution_count": 150,
   "metadata": {},
   "outputs": [
    {
     "data": {
      "text/plain": [
       "(8124, 4)"
      ]
     },
     "execution_count": 150,
     "metadata": {},
     "output_type": "execute_result"
    }
   ],
   "source": [
    "cobertura_media = pd.read_csv('../Guille/recursos_cobertura_media_clean_2018.csv',index_col=0)\n",
    "cobertura_media.shape"
   ]
  },
  {
   "cell_type": "code",
   "execution_count": 151,
   "metadata": {},
   "outputs": [
    {
     "data": {
      "text/html": [
       "<div>\n",
       "<style scoped>\n",
       "    .dataframe tbody tr th:only-of-type {\n",
       "        vertical-align: middle;\n",
       "    }\n",
       "\n",
       "    .dataframe tbody tr th {\n",
       "        vertical-align: top;\n",
       "    }\n",
       "\n",
       "    .dataframe thead th {\n",
       "        text-align: right;\n",
       "    }\n",
       "</style>\n",
       "<table border=\"1\" class=\"dataframe\">\n",
       "  <thead>\n",
       "    <tr style=\"text-align: right;\">\n",
       "      <th></th>\n",
       "      <th>Provinicia</th>\n",
       "      <th>Municipio</th>\n",
       "      <th>Cod ESP</th>\n",
       "      <th>Calidad_Cobertura_fija&amp;movil_%</th>\n",
       "    </tr>\n",
       "  </thead>\n",
       "  <tbody>\n",
       "    <tr>\n",
       "      <th>0</th>\n",
       "      <td>araba</td>\n",
       "      <td>alegria_dulantzi</td>\n",
       "      <td>1001000100</td>\n",
       "      <td>65.00</td>\n",
       "    </tr>\n",
       "    <tr>\n",
       "      <th>1</th>\n",
       "      <td>araba</td>\n",
       "      <td>amurrio</td>\n",
       "      <td>1002000100</td>\n",
       "      <td>62.75</td>\n",
       "    </tr>\n",
       "  </tbody>\n",
       "</table>\n",
       "</div>"
      ],
      "text/plain": [
       "  Provinicia         Municipio     Cod ESP  Calidad_Cobertura_fija&movil_%\n",
       "0      araba  alegria_dulantzi  1001000100                           65.00\n",
       "1      araba           amurrio  1002000100                           62.75"
      ]
     },
     "execution_count": 151,
     "metadata": {},
     "output_type": "execute_result"
    }
   ],
   "source": [
    "cobertura_media.head(2)"
   ]
  },
  {
   "cell_type": "code",
   "execution_count": 153,
   "metadata": {},
   "outputs": [],
   "source": [
    "cobertura_media['Provinicia'].replace(\"balears_illes\",\"illes_balears\", inplace=True, regex=True)\n",
    "cobertura_media['Provinicia'].replace(\"palmas_las\",\"las_palmas\", inplace=True, regex=True)\n",
    "cobertura_media['Provinicia'].replace(\"rioja_la\",\"la_rioja\", inplace=True, regex=True)"
   ]
  },
  {
   "cell_type": "code",
   "execution_count": 154,
   "metadata": {},
   "outputs": [],
   "source": [
    "cobertura_media.rename(columns={'Calidad_Cobertura_fija&movil_%': 'perc_calidad_cobertura_fija_movil'}, inplace=True)\n",
    "cobertura_media.drop(columns=['Cod ESP'], inplace=True)\n",
    "cobertura_media.drop_duplicates(inplace=True)"
   ]
  },
  {
   "cell_type": "code",
   "execution_count": 155,
   "metadata": {},
   "outputs": [
    {
     "name": "stdout",
     "output_type": "stream",
     "text": [
      "num registros maestro: 6067\n",
      "num registros fichero para unir: 8124\n",
      "num agrupaciones maestro: (52, 1)\n",
      "num agrupaciones union: (52, 1)\n",
      "num agrupaciones tras match: (52, 2)\n",
      "barcelona\n",
      "no se han cruzado todos los valores:\n",
      "caceres\n",
      "no se han cruzado todos los valores:\n",
      "jaen\n",
      "no se han cruzado todos los valores:\n",
      "soria\n",
      "no se han cruzado todos los valores:\n",
      "salamanca\n",
      "no se han cruzado todos los valores:\n",
      "granada\n",
      "no se han cruzado todos los valores:\n",
      "sevilla\n",
      "no se han cruzado todos los valores:\n",
      "ciudad_real\n",
      "no se han cruzado todos los valores:\n",
      "alicante\n",
      "no se han cruzado todos los valores:\n",
      "bizkaia\n",
      "coruna\n",
      "no se han cruzado todos los valores:\n",
      "castellon\n",
      "no se han cruzado todos los valores:\n",
      "huelva\n",
      "no se han cruzado todos los valores:\n",
      "madrid\n",
      "no se han cruzado todos los valores:\n",
      "valencia\n",
      "no se han cruzado todos los valores:\n",
      "malaga\n",
      "no se han cruzado todos los valores:\n",
      "ourense\n",
      "no se han cruzado todos los valores:\n",
      "almeria\n",
      "no se han cruzado todos los valores:\n",
      "badajoz\n",
      "no se han cruzado todos los valores:\n",
      "albacete\n",
      "no se han cruzado todos los valores:\n",
      "zaragoza\n",
      "no se han cruzado todos los valores:\n",
      "cantabria\n",
      "no se han cruzado todos los valores:\n",
      "avila\n",
      "no se han cruzado todos los valores:\n",
      "lleida\n",
      "no se han cruzado todos los valores:\n",
      "lugo\n",
      "no se han cruzado todos los valores:\n",
      "leon\n",
      "no se han cruzado todos los valores:\n",
      "asturias\n",
      "no se han cruzado todos los valores:\n",
      "pontevedra\n",
      "no se han cruzado todos los valores:\n",
      "la_rioja\n",
      "no se han cruzado todos los valores:\n",
      "araba\n",
      "no se han cruzado todos los valores:\n",
      "burgos\n",
      "no se han cruzado todos los valores:\n",
      "murcia\n",
      "no se han cruzado todos los valores:\n",
      "illes_balears\n",
      "no se han cruzado todos los valores:\n",
      "tarragona\n",
      "no se han cruzado todos los valores:\n",
      "palencia\n",
      "no se han cruzado todos los valores:\n",
      "cadiz\n",
      "no se han cruzado todos los valores:\n",
      "cordoba\n",
      "no se han cruzado todos los valores:\n",
      "cuenca\n",
      "no se han cruzado todos los valores:\n",
      "girona\n",
      "no se han cruzado todos los valores:\n",
      "guadalajara\n",
      "no se han cruzado todos los valores:\n",
      "gipuzkoa\n",
      "no se han cruzado todos los valores:\n",
      "huesca\n",
      "no se han cruzado todos los valores:\n",
      "navarra\n",
      "no se han cruzado todos los valores:\n",
      "las_palmas\n",
      "no se han cruzado todos los valores:\n",
      "santa_cruz_de_tenerife\n",
      "no se han cruzado todos los valores:\n",
      "segovia\n",
      "no se han cruzado todos los valores:\n",
      "teruel\n",
      "no se han cruzado todos los valores:\n",
      "toledo\n",
      "no se han cruzado todos los valores:\n",
      "valladolid\n",
      "no se han cruzado todos los valores:\n",
      "zamora\n",
      "no se han cruzado todos los valores:\n",
      "ceuta\n",
      "melilla\n",
      "num muni maestro: 6067\n",
      "el fichero de union no dispone de todos los valores para cruzar por municipio\n",
      "columnas final: Index(['bus_based_companies_count', 'cities_es', 'cities', 'province_es',\n",
      "       'province', 'ccaa_es', 'ccaa', 'cities_es/province',\n",
      "       'provincia_original', 'municipio_original',\n",
      "       'total_millones_vehiculos_km', 'porcentaje_carreteras_ccaa_y_estado',\n",
      "       'matches', 'Provinicia', 'Municipio',\n",
      "       'perc_calidad_cobertura_fija_movil', 'muni_agrup'],\n",
      "      dtype='object')\n",
      "num registros tras union: (6067, 13)\n"
     ]
    }
   ],
   "source": [
    "union_guille_3 = union_muni(union_guille_2, cobertura_media, 'cities_es', 'province', 'Municipio', 'Provinicia', threshold=80, threshold_mun=90)"
   ]
  },
  {
   "cell_type": "code",
   "execution_count": 158,
   "metadata": {},
   "outputs": [
    {
     "data": {
      "text/plain": [
       "(5999, 13)"
      ]
     },
     "execution_count": 158,
     "metadata": {},
     "output_type": "execute_result"
    }
   ],
   "source": [
    "union_guille_3[~union_guille_3['perc_calidad_cobertura_fija_movil'].isnull()].shape"
   ]
  },
  {
   "cell_type": "code",
   "execution_count": 161,
   "metadata": {},
   "outputs": [
    {
     "data": {
      "text/plain": [
       "(6067, 13)"
      ]
     },
     "execution_count": 161,
     "metadata": {},
     "output_type": "execute_result"
    }
   ],
   "source": [
    "union_guille_3.shape"
   ]
  },
  {
   "cell_type": "markdown",
   "metadata": {},
   "source": [
    "##### Accesibilidad"
   ]
  },
  {
   "cell_type": "code",
   "execution_count": 171,
   "metadata": {},
   "outputs": [
    {
     "data": {
      "text/plain": [
       "(18, 5)"
      ]
     },
     "execution_count": 171,
     "metadata": {},
     "output_type": "execute_result"
    }
   ],
   "source": [
    "accesibilidad_media_ccaa = pd.read_csv('../Guille/recursos_accesibilidad_ciudades_ccaa_2015.csv',index_col=0)\n",
    "accesibilidad_media_ccaa.shape"
   ]
  },
  {
   "cell_type": "code",
   "execution_count": 175,
   "metadata": {},
   "outputs": [],
   "source": [
    "#trafico['Provincia_name'].replace(\"palmas_las\",\"las_palmas\", inplace=True, regex=True)\n",
    "accesibilidad_media_ccaa.rename(columns={'NAME_1': 'ccaa_limpio'}, inplace=True)\n",
    "accesibilidad_media_ccaa.drop(columns=['GID_0', 'NAME_0', 'GID_1'], inplace=True)\n",
    "accesibilidad_media_ccaa.drop_duplicates(subset=['ccaa_limpio'], inplace=True)"
   ]
  },
  {
   "cell_type": "code",
   "execution_count": 189,
   "metadata": {},
   "outputs": [],
   "source": [
    "accesibilidad_media_ccaa['ccaa_limpio'].replace(\"islas_canarias\", \"canarias\", inplace=True, regex=True)"
   ]
  },
  {
   "cell_type": "code",
   "execution_count": 193,
   "metadata": {
    "scrolled": true
   },
   "outputs": [
    {
     "name": "stdout",
     "output_type": "stream",
     "text": [
      "num registros maestro: 6067\n",
      "num registros fichero para unir: 18\n",
      "num agrupaciones maestro: (19, 1)\n",
      "num agrupaciones union: (18, 1)\n",
      "num agrupaciones tras match: (19, 2)\n",
      "no se han cruzado todos los valores:\n",
      "Empty DataFrame\n",
      "Columns: [ccaa_es, matches]\n",
      "Index: []\n",
      "el fichero de union no dispone de todos los valores para cruzar\n",
      "columnas final: Index(['ccaa_limpio', 'accessibility_mean', 'ccaa_es', 'matches'], dtype='object')\n",
      "num registros tras union: (19, 2)\n"
     ]
    }
   ],
   "source": [
    "union_agrup_guille_4 = union_agrup(union_guille_3, accesibilidad_media_ccaa, 'ccaa_es', 'ccaa_limpio', threshold=85)"
   ]
  },
  {
   "cell_type": "code",
   "execution_count": 194,
   "metadata": {},
   "outputs": [
    {
     "data": {
      "text/html": [
       "<div>\n",
       "<style scoped>\n",
       "    .dataframe tbody tr th:only-of-type {\n",
       "        vertical-align: middle;\n",
       "    }\n",
       "\n",
       "    .dataframe tbody tr th {\n",
       "        vertical-align: top;\n",
       "    }\n",
       "\n",
       "    .dataframe thead th {\n",
       "        text-align: right;\n",
       "    }\n",
       "</style>\n",
       "<table border=\"1\" class=\"dataframe\">\n",
       "  <thead>\n",
       "    <tr style=\"text-align: right;\">\n",
       "      <th></th>\n",
       "      <th>accessibility_mean</th>\n",
       "      <th>ccaa_es</th>\n",
       "    </tr>\n",
       "  </thead>\n",
       "  <tbody>\n",
       "    <tr>\n",
       "      <th>0</th>\n",
       "      <td>51.600938</td>\n",
       "      <td>andalucia</td>\n",
       "    </tr>\n",
       "    <tr>\n",
       "      <th>1</th>\n",
       "      <td>62.648308</td>\n",
       "      <td>aragon</td>\n",
       "    </tr>\n",
       "  </tbody>\n",
       "</table>\n",
       "</div>"
      ],
      "text/plain": [
       "   accessibility_mean    ccaa_es\n",
       "0           51.600938  andalucia\n",
       "1           62.648308     aragon"
      ]
     },
     "execution_count": 194,
     "metadata": {},
     "output_type": "execute_result"
    }
   ],
   "source": [
    "union_agrup_guille_4.head(2)"
   ]
  },
  {
   "cell_type": "code",
   "execution_count": 195,
   "metadata": {},
   "outputs": [],
   "source": [
    "union_guille_4 = pd.merge(maestro_nivel_municipio_ori, union_agrup_guille_4, left_on='ccaa_es',right_on='ccaa_es', how='left')"
   ]
  },
  {
   "cell_type": "code",
   "execution_count": 196,
   "metadata": {},
   "outputs": [
    {
     "data": {
      "text/html": [
       "<div>\n",
       "<style scoped>\n",
       "    .dataframe tbody tr th:only-of-type {\n",
       "        vertical-align: middle;\n",
       "    }\n",
       "\n",
       "    .dataframe tbody tr th {\n",
       "        vertical-align: top;\n",
       "    }\n",
       "\n",
       "    .dataframe thead th {\n",
       "        text-align: right;\n",
       "    }\n",
       "</style>\n",
       "<table border=\"1\" class=\"dataframe\">\n",
       "  <thead>\n",
       "    <tr style=\"text-align: right;\">\n",
       "      <th></th>\n",
       "      <th>cities_es</th>\n",
       "      <th>cities</th>\n",
       "      <th>province_es</th>\n",
       "      <th>province</th>\n",
       "      <th>ccaa_es</th>\n",
       "      <th>ccaa</th>\n",
       "      <th>cities_es/province</th>\n",
       "      <th>provincia_original</th>\n",
       "      <th>municipio_original</th>\n",
       "      <th>accessibility_mean</th>\n",
       "    </tr>\n",
       "  </thead>\n",
       "  <tbody>\n",
       "  </tbody>\n",
       "</table>\n",
       "</div>"
      ],
      "text/plain": [
       "Empty DataFrame\n",
       "Columns: [cities_es, cities, province_es, province, ccaa_es, ccaa, cities_es/province, provincia_original, municipio_original, accessibility_mean]\n",
       "Index: []"
      ]
     },
     "execution_count": 196,
     "metadata": {},
     "output_type": "execute_result"
    }
   ],
   "source": [
    "# comprobacion duplicados\n",
    "union_guille_4[union_guille_4.duplicated()]"
   ]
  },
  {
   "cell_type": "code",
   "execution_count": 198,
   "metadata": {
    "scrolled": true
   },
   "outputs": [
    {
     "data": {
      "text/html": [
       "<div>\n",
       "<style scoped>\n",
       "    .dataframe tbody tr th:only-of-type {\n",
       "        vertical-align: middle;\n",
       "    }\n",
       "\n",
       "    .dataframe tbody tr th {\n",
       "        vertical-align: top;\n",
       "    }\n",
       "\n",
       "    .dataframe thead th {\n",
       "        text-align: right;\n",
       "    }\n",
       "</style>\n",
       "<table border=\"1\" class=\"dataframe\">\n",
       "  <thead>\n",
       "    <tr style=\"text-align: right;\">\n",
       "      <th></th>\n",
       "      <th>cities_es</th>\n",
       "      <th>cities</th>\n",
       "      <th>province_es</th>\n",
       "      <th>province</th>\n",
       "      <th>ccaa_es</th>\n",
       "      <th>ccaa</th>\n",
       "      <th>cities_es/province</th>\n",
       "      <th>provincia_original</th>\n",
       "      <th>municipio_original</th>\n",
       "      <th>accessibility_mean</th>\n",
       "    </tr>\n",
       "  </thead>\n",
       "  <tbody>\n",
       "    <tr>\n",
       "      <th>0</th>\n",
       "      <td>alegria_dulantzi</td>\n",
       "      <td>alegria_dulantzi</td>\n",
       "      <td>alava</td>\n",
       "      <td>araba</td>\n",
       "      <td>pais_vasco</td>\n",
       "      <td>pais_vasco</td>\n",
       "      <td>alegria_dulantzi/araba</td>\n",
       "      <td>Araba/Álava</td>\n",
       "      <td>Alegría-Dulantzi</td>\n",
       "      <td>18.406372</td>\n",
       "    </tr>\n",
       "    <tr>\n",
       "      <th>1</th>\n",
       "      <td>amurrio</td>\n",
       "      <td>amurrio</td>\n",
       "      <td>alava</td>\n",
       "      <td>araba</td>\n",
       "      <td>pais_vasco</td>\n",
       "      <td>pais_vasco</td>\n",
       "      <td>amurrio/araba</td>\n",
       "      <td>Araba/Álava</td>\n",
       "      <td>Amurrio</td>\n",
       "      <td>18.406372</td>\n",
       "    </tr>\n",
       "  </tbody>\n",
       "</table>\n",
       "</div>"
      ],
      "text/plain": [
       "          cities_es            cities province_es province     ccaa_es  \\\n",
       "0  alegria_dulantzi  alegria_dulantzi       alava    araba  pais_vasco   \n",
       "1           amurrio           amurrio       alava    araba  pais_vasco   \n",
       "\n",
       "         ccaa      cities_es/province provincia_original municipio_original  \\\n",
       "0  pais_vasco  alegria_dulantzi/araba        Araba/Álava   Alegría-Dulantzi   \n",
       "1  pais_vasco           amurrio/araba        Araba/Álava            Amurrio   \n",
       "\n",
       "   accessibility_mean  \n",
       "0           18.406372  \n",
       "1           18.406372  "
      ]
     },
     "execution_count": 198,
     "metadata": {},
     "output_type": "execute_result"
    }
   ],
   "source": [
    "union_guille_4.head(2)"
   ]
  },
  {
   "cell_type": "code",
   "execution_count": 199,
   "metadata": {
    "scrolled": true
   },
   "outputs": [
    {
     "data": {
      "text/plain": [
       "(6067, 10)"
      ]
     },
     "execution_count": 199,
     "metadata": {},
     "output_type": "execute_result"
    }
   ],
   "source": [
    "union_guille_4.shape"
   ]
  },
  {
   "cell_type": "markdown",
   "metadata": {},
   "source": [
    "##### Tren"
   ]
  },
  {
   "cell_type": "code",
   "execution_count": 203,
   "metadata": {},
   "outputs": [
    {
     "data": {
      "text/plain": [
       "(899, 5)"
      ]
     },
     "execution_count": 203,
     "metadata": {},
     "output_type": "execute_result"
    }
   ],
   "source": [
    "estaciones = pd.read_csv('../Guille/recursos_estaciones_renfe_clean_2019.csv',index_col=None)\n",
    "estaciones.shape"
   ]
  },
  {
   "cell_type": "code",
   "execution_count": 204,
   "metadata": {},
   "outputs": [
    {
     "data": {
      "text/html": [
       "<div>\n",
       "<style scoped>\n",
       "    .dataframe tbody tr th:only-of-type {\n",
       "        vertical-align: middle;\n",
       "    }\n",
       "\n",
       "    .dataframe tbody tr th {\n",
       "        vertical-align: top;\n",
       "    }\n",
       "\n",
       "    .dataframe thead th {\n",
       "        text-align: right;\n",
       "    }\n",
       "</style>\n",
       "<table border=\"1\" class=\"dataframe\">\n",
       "  <thead>\n",
       "    <tr style=\"text-align: right;\">\n",
       "      <th></th>\n",
       "      <th>poblacion</th>\n",
       "      <th>numero_estaciones</th>\n",
       "      <th>ave</th>\n",
       "      <th>cercanias</th>\n",
       "      <th>feve</th>\n",
       "    </tr>\n",
       "  </thead>\n",
       "  <tbody>\n",
       "    <tr>\n",
       "      <th>0</th>\n",
       "      <td>madrid</td>\n",
       "      <td>39</td>\n",
       "      <td>SI</td>\n",
       "      <td>SI</td>\n",
       "      <td>NO</td>\n",
       "    </tr>\n",
       "    <tr>\n",
       "      <th>1</th>\n",
       "      <td>siero</td>\n",
       "      <td>17</td>\n",
       "      <td>NO</td>\n",
       "      <td>SI</td>\n",
       "      <td>SI</td>\n",
       "    </tr>\n",
       "  </tbody>\n",
       "</table>\n",
       "</div>"
      ],
      "text/plain": [
       "  poblacion  numero_estaciones ave cercanias feve\n",
       "0    madrid                 39  SI        SI   NO\n",
       "1     siero                 17  NO        SI   SI"
      ]
     },
     "execution_count": 204,
     "metadata": {},
     "output_type": "execute_result"
    }
   ],
   "source": [
    "estaciones.head(2)"
   ]
  },
  {
   "cell_type": "code",
   "execution_count": null,
   "metadata": {},
   "outputs": [],
   "source": []
  }
 ],
 "metadata": {
  "kernelspec": {
   "display_name": "Python 3",
   "language": "python",
   "name": "python3"
  },
  "language_info": {
   "codemirror_mode": {
    "name": "ipython",
    "version": 3
   },
   "file_extension": ".py",
   "mimetype": "text/x-python",
   "name": "python",
   "nbconvert_exporter": "python",
   "pygments_lexer": "ipython3",
   "version": "3.8.2"
  }
 },
 "nbformat": 4,
 "nbformat_minor": 4
}
