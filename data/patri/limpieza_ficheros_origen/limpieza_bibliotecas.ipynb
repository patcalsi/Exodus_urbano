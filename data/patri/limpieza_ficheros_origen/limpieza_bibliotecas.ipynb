{
 "cells": [
  {
   "cell_type": "code",
   "execution_count": 1,
   "metadata": {},
   "outputs": [],
   "source": [
    "import pandas as pd\n",
    "import matplotlib.pyplot as plt\n",
    "import numpy as np\n",
    "import re\n",
    "import unidecode\n",
    "import os"
   ]
  },
  {
   "cell_type": "markdown",
   "metadata": {},
   "source": [
    "#### Funciones"
   ]
  },
  {
   "cell_type": "code",
   "execution_count": 2,
   "metadata": {},
   "outputs": [],
   "source": [
    "def doClean(a):   \n",
    "    \n",
    "    # Quitar las expresiones tras la barra /\n",
    "    a = re.sub('\\/.*', '', a)\n",
    "    # Quitar las aclaraciones entre paréntesis\n",
    "    a = re.sub('\\(.*\\)', '', a)\n",
    "    # Quitar acentos \n",
    "    a = unidecode.unidecode(a)\n",
    "    # Quitar aquello que no sean palabras o cosa que se le parezca\n",
    "    a = re.sub('\\W', ' ', a) \n",
    "    # Quitar espacios extra en caso de haber\n",
    "    a = re.sub('\\s+', ' ', a)\n",
    "    # Pasar el texto a minúsulas\n",
    "    a = a.lower() \n",
    "    # Quitar espacio izq\n",
    "    a = a.lstrip()\n",
    "    # Quitar espacio derecha\n",
    "    a = a.rstrip()\n",
    "    a = re.sub(' ', '_', a)\n",
    "    #a = a.strip() \n",
    "    \n",
    "    return a"
   ]
  },
  {
   "cell_type": "code",
   "execution_count": 3,
   "metadata": {},
   "outputs": [],
   "source": [
    "def doClean_ccaa(text):   \n",
    "    \n",
    "    # Quitar las expresiones tras la barra -\n",
    "    a = re.sub('\\ -.*', '', text)\n",
    "    # Quitar las aclaraciones entre paréntesis\n",
    "    a = re.sub('\\(.*\\)', '', a)\n",
    "    # Quitar acentos \n",
    "    a = unidecode.unidecode(a)\n",
    "    # Quitar aquello que no sean palabras o cosa que se le parezca\n",
    "    a = re.sub('\\W', ' ', a) \n",
    "    # Quitar espacios extra en caso de haber\n",
    "    a = re.sub('\\s+', ' ', a)\n",
    "    # Pasar el texto a minúsulas\n",
    "    a = a.lower() \n",
    "    a = re.sub(' ', '_', a)\n",
    "    #a = a.strip() \n",
    "    \n",
    "    return a"
   ]
  },
  {
   "cell_type": "code",
   "execution_count": 13,
   "metadata": {},
   "outputs": [],
   "source": [
    "def doClean_prov(text):   \n",
    "    \n",
    "    # Quitar las expresiones tras la barra -\n",
    "    a = re.sub('.*\\- ', '', text)\n",
    "    # Quitar las aclaraciones entre paréntesis\n",
    "    a = re.sub('\\(.*\\)', '', a)\n",
    "    # Quitar acentos \n",
    "    a = unidecode.unidecode(a)\n",
    "    # Quitar aquello que no sean palabras o cosa que se le parezca\n",
    "    a = re.sub('\\W', ' ', a) \n",
    "    # Quitar espacios extra en caso de haber\n",
    "    a = re.sub('\\s+', ' ', a)\n",
    "    # Pasar el texto a minúsulas\n",
    "    a = a.lower() \n",
    "    # Quitar espacio izq\n",
    "    a = a.lstrip()\n",
    "    # Quitar espacio derecha\n",
    "    a = a.rstrip()\n",
    "    a = re.sub(' ', '_', a)\n",
    "    #a = a.strip() \n",
    "    \n",
    "    return a"
   ]
  },
  {
   "cell_type": "markdown",
   "metadata": {},
   "source": [
    "#### Carga de ficheros"
   ]
  },
  {
   "cell_type": "code",
   "execution_count": 14,
   "metadata": {},
   "outputs": [
    {
     "data": {
      "text/plain": [
       "'/home/patcalsi/projects/Exodus_urbano/data/patri'"
      ]
     },
     "execution_count": 14,
     "metadata": {},
     "output_type": "execute_result"
    }
   ],
   "source": [
    "os.getcwd()"
   ]
  },
  {
   "cell_type": "code",
   "execution_count": 15,
   "metadata": {},
   "outputs": [],
   "source": [
    "bibliotecas = pd.read_csv(\"sociedad_cultura_bibliotecas_2017.csv\")"
   ]
  },
  {
   "cell_type": "code",
   "execution_count": 16,
   "metadata": {
    "scrolled": true
   },
   "outputs": [
    {
     "data": {
      "text/html": [
       "<div>\n",
       "<style scoped>\n",
       "    .dataframe tbody tr th:only-of-type {\n",
       "        vertical-align: middle;\n",
       "    }\n",
       "\n",
       "    .dataframe tbody tr th {\n",
       "        vertical-align: top;\n",
       "    }\n",
       "\n",
       "    .dataframe thead th {\n",
       "        text-align: right;\n",
       "    }\n",
       "</style>\n",
       "<table border=\"1\" class=\"dataframe\">\n",
       "  <thead>\n",
       "    <tr style=\"text-align: right;\">\n",
       "      <th></th>\n",
       "      <th>ccaa_prov</th>\n",
       "      <th>municipio</th>\n",
       "      <th>total_bib</th>\n",
       "    </tr>\n",
       "  </thead>\n",
       "  <tbody>\n",
       "    <tr>\n",
       "      <th>0</th>\n",
       "      <td>Illes Balears - Illes Balears</td>\n",
       "      <td>Alaior</td>\n",
       "      <td>1</td>\n",
       "    </tr>\n",
       "    <tr>\n",
       "      <th>1</th>\n",
       "      <td>Illes Balears - Illes Balears</td>\n",
       "      <td>Alaró</td>\n",
       "      <td>1</td>\n",
       "    </tr>\n",
       "    <tr>\n",
       "      <th>2</th>\n",
       "      <td>Illes Balears - Illes Balears</td>\n",
       "      <td>Alcúdia</td>\n",
       "      <td>1</td>\n",
       "    </tr>\n",
       "    <tr>\n",
       "      <th>3</th>\n",
       "      <td>Illes Balears - Illes Balears</td>\n",
       "      <td>Algaida</td>\n",
       "      <td>1</td>\n",
       "    </tr>\n",
       "    <tr>\n",
       "      <th>4</th>\n",
       "      <td>Illes Balears - Illes Balears</td>\n",
       "      <td>Andratx</td>\n",
       "      <td>1</td>\n",
       "    </tr>\n",
       "  </tbody>\n",
       "</table>\n",
       "</div>"
      ],
      "text/plain": [
       "                       ccaa_prov municipio  total_bib\n",
       "0  Illes Balears - Illes Balears    Alaior          1\n",
       "1  Illes Balears - Illes Balears     Alaró          1\n",
       "2  Illes Balears - Illes Balears   Alcúdia          1\n",
       "3  Illes Balears - Illes Balears   Algaida          1\n",
       "4  Illes Balears - Illes Balears   Andratx          1"
      ]
     },
     "execution_count": 16,
     "metadata": {},
     "output_type": "execute_result"
    }
   ],
   "source": [
    "bibliotecas.head(5)"
   ]
  },
  {
   "cell_type": "code",
   "execution_count": 17,
   "metadata": {
    "scrolled": true
   },
   "outputs": [
    {
     "name": "stdout",
     "output_type": "stream",
     "text": [
      "<class 'pandas.core.frame.DataFrame'>\n",
      "RangeIndex: 3323 entries, 0 to 3322\n",
      "Data columns (total 3 columns):\n",
      " #   Column     Non-Null Count  Dtype \n",
      "---  ------     --------------  ----- \n",
      " 0   ccaa_prov  3323 non-null   object\n",
      " 1   municipio  3323 non-null   object\n",
      " 2   total_bib  3323 non-null   int64 \n",
      "dtypes: int64(1), object(2)\n",
      "memory usage: 78.0+ KB\n"
     ]
    }
   ],
   "source": [
    "bibliotecas.info()"
   ]
  },
  {
   "cell_type": "code",
   "execution_count": 18,
   "metadata": {
    "scrolled": false
   },
   "outputs": [
    {
     "data": {
      "text/html": [
       "<div>\n",
       "<style scoped>\n",
       "    .dataframe tbody tr th:only-of-type {\n",
       "        vertical-align: middle;\n",
       "    }\n",
       "\n",
       "    .dataframe tbody tr th {\n",
       "        vertical-align: top;\n",
       "    }\n",
       "\n",
       "    .dataframe thead th {\n",
       "        text-align: right;\n",
       "    }\n",
       "</style>\n",
       "<table border=\"1\" class=\"dataframe\">\n",
       "  <thead>\n",
       "    <tr style=\"text-align: right;\">\n",
       "      <th></th>\n",
       "      <th>ccaa_prov</th>\n",
       "      <th>municipio</th>\n",
       "      <th>total_bib</th>\n",
       "    </tr>\n",
       "  </thead>\n",
       "  <tbody>\n",
       "    <tr>\n",
       "      <th>3274</th>\n",
       "      <td>Comunidad Valenciana - Castellón/Castelló</td>\n",
       "      <td>Altura</td>\n",
       "      <td>1</td>\n",
       "    </tr>\n",
       "  </tbody>\n",
       "</table>\n",
       "</div>"
      ],
      "text/plain": [
       "                                      ccaa_prov municipio  total_bib\n",
       "3274  Comunidad Valenciana - Castellón/Castelló    Altura          1"
      ]
     },
     "execution_count": 18,
     "metadata": {},
     "output_type": "execute_result"
    }
   ],
   "source": [
    "bibliotecas[bibliotecas['municipio']=='Altura']"
   ]
  },
  {
   "cell_type": "code",
   "execution_count": 19,
   "metadata": {},
   "outputs": [],
   "source": [
    "bibliotecas['municipio_limpio'] = bibliotecas['municipio'].apply(doClean)"
   ]
  },
  {
   "cell_type": "code",
   "execution_count": 20,
   "metadata": {},
   "outputs": [],
   "source": [
    "bibliotecas['ccaa'] = bibliotecas['ccaa_prov'].apply(doClean_ccaa)"
   ]
  },
  {
   "cell_type": "code",
   "execution_count": 21,
   "metadata": {},
   "outputs": [],
   "source": [
    "bibliotecas['provincia'] = bibliotecas['ccaa_prov'].apply(doClean_prov)"
   ]
  },
  {
   "cell_type": "code",
   "execution_count": 22,
   "metadata": {},
   "outputs": [],
   "source": [
    "bibliotecas['total_bibliotecas'] = bibliotecas['total_bib']"
   ]
  },
  {
   "cell_type": "code",
   "execution_count": 23,
   "metadata": {},
   "outputs": [
    {
     "data": {
      "text/html": [
       "<div>\n",
       "<style scoped>\n",
       "    .dataframe tbody tr th:only-of-type {\n",
       "        vertical-align: middle;\n",
       "    }\n",
       "\n",
       "    .dataframe tbody tr th {\n",
       "        vertical-align: top;\n",
       "    }\n",
       "\n",
       "    .dataframe thead th {\n",
       "        text-align: right;\n",
       "    }\n",
       "</style>\n",
       "<table border=\"1\" class=\"dataframe\">\n",
       "  <thead>\n",
       "    <tr style=\"text-align: right;\">\n",
       "      <th></th>\n",
       "      <th>ccaa_prov</th>\n",
       "      <th>municipio</th>\n",
       "      <th>total_bib</th>\n",
       "      <th>municipio_limpio</th>\n",
       "      <th>ccaa</th>\n",
       "      <th>provincia</th>\n",
       "      <th>total_bibliotecas</th>\n",
       "    </tr>\n",
       "  </thead>\n",
       "  <tbody>\n",
       "    <tr>\n",
       "      <th>0</th>\n",
       "      <td>Illes Balears - Illes Balears</td>\n",
       "      <td>Alaior</td>\n",
       "      <td>1</td>\n",
       "      <td>alaior</td>\n",
       "      <td>illes_balears</td>\n",
       "      <td>illes_balears</td>\n",
       "      <td>1</td>\n",
       "    </tr>\n",
       "    <tr>\n",
       "      <th>1</th>\n",
       "      <td>Illes Balears - Illes Balears</td>\n",
       "      <td>Alaró</td>\n",
       "      <td>1</td>\n",
       "      <td>alaro</td>\n",
       "      <td>illes_balears</td>\n",
       "      <td>illes_balears</td>\n",
       "      <td>1</td>\n",
       "    </tr>\n",
       "    <tr>\n",
       "      <th>2</th>\n",
       "      <td>Illes Balears - Illes Balears</td>\n",
       "      <td>Alcúdia</td>\n",
       "      <td>1</td>\n",
       "      <td>alcudia</td>\n",
       "      <td>illes_balears</td>\n",
       "      <td>illes_balears</td>\n",
       "      <td>1</td>\n",
       "    </tr>\n",
       "    <tr>\n",
       "      <th>3</th>\n",
       "      <td>Illes Balears - Illes Balears</td>\n",
       "      <td>Algaida</td>\n",
       "      <td>1</td>\n",
       "      <td>algaida</td>\n",
       "      <td>illes_balears</td>\n",
       "      <td>illes_balears</td>\n",
       "      <td>1</td>\n",
       "    </tr>\n",
       "    <tr>\n",
       "      <th>4</th>\n",
       "      <td>Illes Balears - Illes Balears</td>\n",
       "      <td>Andratx</td>\n",
       "      <td>1</td>\n",
       "      <td>andratx</td>\n",
       "      <td>illes_balears</td>\n",
       "      <td>illes_balears</td>\n",
       "      <td>1</td>\n",
       "    </tr>\n",
       "  </tbody>\n",
       "</table>\n",
       "</div>"
      ],
      "text/plain": [
       "                       ccaa_prov municipio  total_bib municipio_limpio  \\\n",
       "0  Illes Balears - Illes Balears    Alaior          1           alaior   \n",
       "1  Illes Balears - Illes Balears     Alaró          1            alaro   \n",
       "2  Illes Balears - Illes Balears   Alcúdia          1          alcudia   \n",
       "3  Illes Balears - Illes Balears   Algaida          1          algaida   \n",
       "4  Illes Balears - Illes Balears   Andratx          1          andratx   \n",
       "\n",
       "            ccaa      provincia  total_bibliotecas  \n",
       "0  illes_balears  illes_balears                  1  \n",
       "1  illes_balears  illes_balears                  1  \n",
       "2  illes_balears  illes_balears                  1  \n",
       "3  illes_balears  illes_balears                  1  \n",
       "4  illes_balears  illes_balears                  1  "
      ]
     },
     "execution_count": 23,
     "metadata": {},
     "output_type": "execute_result"
    }
   ],
   "source": [
    "bibliotecas.head()"
   ]
  },
  {
   "cell_type": "markdown",
   "metadata": {},
   "source": [
    "##### Comprobacion duplicados"
   ]
  },
  {
   "cell_type": "code",
   "execution_count": 24,
   "metadata": {
    "scrolled": true
   },
   "outputs": [
    {
     "data": {
      "text/html": [
       "<div>\n",
       "<style scoped>\n",
       "    .dataframe tbody tr th:only-of-type {\n",
       "        vertical-align: middle;\n",
       "    }\n",
       "\n",
       "    .dataframe tbody tr th {\n",
       "        vertical-align: top;\n",
       "    }\n",
       "\n",
       "    .dataframe thead th {\n",
       "        text-align: right;\n",
       "    }\n",
       "</style>\n",
       "<table border=\"1\" class=\"dataframe\">\n",
       "  <thead>\n",
       "    <tr style=\"text-align: right;\">\n",
       "      <th></th>\n",
       "      <th>ccaa_prov</th>\n",
       "      <th>municipio</th>\n",
       "      <th>total_bib</th>\n",
       "      <th>municipio_limpio</th>\n",
       "      <th>ccaa</th>\n",
       "      <th>provincia</th>\n",
       "      <th>total_bibliotecas</th>\n",
       "    </tr>\n",
       "  </thead>\n",
       "  <tbody>\n",
       "  </tbody>\n",
       "</table>\n",
       "</div>"
      ],
      "text/plain": [
       "Empty DataFrame\n",
       "Columns: [ccaa_prov, municipio, total_bib, municipio_limpio, ccaa, provincia, total_bibliotecas]\n",
       "Index: []"
      ]
     },
     "execution_count": 24,
     "metadata": {},
     "output_type": "execute_result"
    }
   ],
   "source": [
    "bibliotecas[bibliotecas.duplicated(subset=['municipio_limpio','provincia'])]"
   ]
  },
  {
   "cell_type": "code",
   "execution_count": 25,
   "metadata": {
    "scrolled": false
   },
   "outputs": [
    {
     "data": {
      "text/html": [
       "<div>\n",
       "<style scoped>\n",
       "    .dataframe tbody tr th:only-of-type {\n",
       "        vertical-align: middle;\n",
       "    }\n",
       "\n",
       "    .dataframe tbody tr th {\n",
       "        vertical-align: top;\n",
       "    }\n",
       "\n",
       "    .dataframe thead th {\n",
       "        text-align: right;\n",
       "    }\n",
       "</style>\n",
       "<table border=\"1\" class=\"dataframe\">\n",
       "  <thead>\n",
       "    <tr style=\"text-align: right;\">\n",
       "      <th></th>\n",
       "      <th>ccaa_prov</th>\n",
       "      <th>municipio</th>\n",
       "      <th>total_bib</th>\n",
       "      <th>municipio_limpio</th>\n",
       "      <th>ccaa</th>\n",
       "      <th>provincia</th>\n",
       "      <th>total_bibliotecas</th>\n",
       "    </tr>\n",
       "  </thead>\n",
       "  <tbody>\n",
       "    <tr>\n",
       "      <th>0</th>\n",
       "      <td>Illes Balears - Illes Balears</td>\n",
       "      <td>Alaior</td>\n",
       "      <td>1</td>\n",
       "      <td>alaior</td>\n",
       "      <td>illes_balears</td>\n",
       "      <td>illes_balears</td>\n",
       "      <td>1</td>\n",
       "    </tr>\n",
       "    <tr>\n",
       "      <th>1</th>\n",
       "      <td>Illes Balears - Illes Balears</td>\n",
       "      <td>Alaró</td>\n",
       "      <td>1</td>\n",
       "      <td>alaro</td>\n",
       "      <td>illes_balears</td>\n",
       "      <td>illes_balears</td>\n",
       "      <td>1</td>\n",
       "    </tr>\n",
       "    <tr>\n",
       "      <th>2</th>\n",
       "      <td>Illes Balears - Illes Balears</td>\n",
       "      <td>Alcúdia</td>\n",
       "      <td>1</td>\n",
       "      <td>alcudia</td>\n",
       "      <td>illes_balears</td>\n",
       "      <td>illes_balears</td>\n",
       "      <td>1</td>\n",
       "    </tr>\n",
       "    <tr>\n",
       "      <th>3</th>\n",
       "      <td>Illes Balears - Illes Balears</td>\n",
       "      <td>Algaida</td>\n",
       "      <td>1</td>\n",
       "      <td>algaida</td>\n",
       "      <td>illes_balears</td>\n",
       "      <td>illes_balears</td>\n",
       "      <td>1</td>\n",
       "    </tr>\n",
       "    <tr>\n",
       "      <th>4</th>\n",
       "      <td>Illes Balears - Illes Balears</td>\n",
       "      <td>Andratx</td>\n",
       "      <td>1</td>\n",
       "      <td>andratx</td>\n",
       "      <td>illes_balears</td>\n",
       "      <td>illes_balears</td>\n",
       "      <td>1</td>\n",
       "    </tr>\n",
       "  </tbody>\n",
       "</table>\n",
       "</div>"
      ],
      "text/plain": [
       "                       ccaa_prov municipio  total_bib municipio_limpio  \\\n",
       "0  Illes Balears - Illes Balears    Alaior          1           alaior   \n",
       "1  Illes Balears - Illes Balears     Alaró          1            alaro   \n",
       "2  Illes Balears - Illes Balears   Alcúdia          1          alcudia   \n",
       "3  Illes Balears - Illes Balears   Algaida          1          algaida   \n",
       "4  Illes Balears - Illes Balears   Andratx          1          andratx   \n",
       "\n",
       "            ccaa      provincia  total_bibliotecas  \n",
       "0  illes_balears  illes_balears                  1  \n",
       "1  illes_balears  illes_balears                  1  \n",
       "2  illes_balears  illes_balears                  1  \n",
       "3  illes_balears  illes_balears                  1  \n",
       "4  illes_balears  illes_balears                  1  "
      ]
     },
     "execution_count": 25,
     "metadata": {},
     "output_type": "execute_result"
    }
   ],
   "source": [
    "bibliotecas.head()"
   ]
  },
  {
   "cell_type": "markdown",
   "metadata": {},
   "source": [
    "##### Creación y exportación de fichero maestro"
   ]
  },
  {
   "cell_type": "code",
   "execution_count": 26,
   "metadata": {},
   "outputs": [],
   "source": [
    "bibliotecas = bibliotecas[['municipio_limpio','ccaa','provincia','total_bibliotecas']]"
   ]
  },
  {
   "cell_type": "code",
   "execution_count": 27,
   "metadata": {},
   "outputs": [],
   "source": [
    "bibliotecas.to_csv(\"sociedad_cultura_bibliotecas_2017_limipio.csv\")"
   ]
  },
  {
   "cell_type": "code",
   "execution_count": null,
   "metadata": {},
   "outputs": [],
   "source": []
  },
  {
   "cell_type": "code",
   "execution_count": null,
   "metadata": {},
   "outputs": [],
   "source": []
  },
  {
   "cell_type": "code",
   "execution_count": null,
   "metadata": {},
   "outputs": [],
   "source": []
  }
 ],
 "metadata": {
  "kernelspec": {
   "display_name": "Python 3",
   "language": "python",
   "name": "python3"
  },
  "language_info": {
   "codemirror_mode": {
    "name": "ipython",
    "version": 3
   },
   "file_extension": ".py",
   "mimetype": "text/x-python",
   "name": "python",
   "nbconvert_exporter": "python",
   "pygments_lexer": "ipython3",
   "version": "3.8.2"
  }
 },
 "nbformat": 4,
 "nbformat_minor": 4
}
