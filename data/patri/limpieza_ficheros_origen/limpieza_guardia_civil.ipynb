{
 "cells": [
  {
   "cell_type": "code",
   "execution_count": 1,
   "metadata": {},
   "outputs": [],
   "source": [
    "import pandas as pd\n",
    "import matplotlib.pyplot as plt\n",
    "import numpy as np\n",
    "import re\n",
    "import unidecode\n",
    "import os"
   ]
  },
  {
   "cell_type": "markdown",
   "metadata": {},
   "source": [
    "#### Funciones"
   ]
  },
  {
   "cell_type": "code",
   "execution_count": 2,
   "metadata": {},
   "outputs": [],
   "source": [
    "def doClean(a):   \n",
    "    \n",
    "    # Quitar las expresiones tras la barra /\n",
    "    a = re.sub('\\/.*', '', a)\n",
    "    # Quitar las aclaraciones entre paréntesis\n",
    "    a = re.sub('\\(.*\\)', '', a)\n",
    "    # Quitar acentos \n",
    "    a = unidecode.unidecode(a)\n",
    "    # Quitar aquello que no sean palabras o cosa que se le parezca\n",
    "    a = re.sub('\\W', ' ', a) \n",
    "    # Quitar espacios extra en caso de haber\n",
    "    a = re.sub('\\s+', ' ', a)\n",
    "    # Pasar el texto a minúsulas\n",
    "    a = a.lower() \n",
    "    # Quitar espacio izq\n",
    "    a = a.lstrip()\n",
    "    # Quitar espacio derecha\n",
    "    a = a.rstrip()\n",
    "    a = re.sub(' ', '_', a)\n",
    "    #a = a.strip() \n",
    "    \n",
    "    return a"
   ]
  },
  {
   "cell_type": "markdown",
   "metadata": {},
   "source": [
    "#### Carga de ficheros"
   ]
  },
  {
   "cell_type": "code",
   "execution_count": 3,
   "metadata": {},
   "outputs": [
    {
     "data": {
      "text/plain": [
       "'/home/patcalsi/projects/Exodus_urbano/data/patri'"
      ]
     },
     "execution_count": 3,
     "metadata": {},
     "output_type": "execute_result"
    }
   ],
   "source": [
    "os.getcwd()"
   ]
  },
  {
   "cell_type": "code",
   "execution_count": 4,
   "metadata": {},
   "outputs": [],
   "source": [
    "guardia_civil = pd.read_csv(\"sociedad_seguridad_guardia_civil_2019.csv\", sep=';', encoding='latin1', dtype={'CODIGO POSTAL': object})"
   ]
  },
  {
   "cell_type": "code",
   "execution_count": 5,
   "metadata": {
    "scrolled": false
   },
   "outputs": [
    {
     "data": {
      "text/html": [
       "<div>\n",
       "<style scoped>\n",
       "    .dataframe tbody tr th:only-of-type {\n",
       "        vertical-align: middle;\n",
       "    }\n",
       "\n",
       "    .dataframe tbody tr th {\n",
       "        vertical-align: top;\n",
       "    }\n",
       "\n",
       "    .dataframe thead th {\n",
       "        text-align: right;\n",
       "    }\n",
       "</style>\n",
       "<table border=\"1\" class=\"dataframe\">\n",
       "  <thead>\n",
       "    <tr style=\"text-align: right;\">\n",
       "      <th></th>\n",
       "      <th>UNIDAD</th>\n",
       "      <th>COMUNIDAD AUTONOMA</th>\n",
       "      <th>PROVINCIA</th>\n",
       "      <th>LOCALIDAD</th>\n",
       "      <th>DOMICILIO</th>\n",
       "      <th>CODIGO POSTAL</th>\n",
       "      <th>TELEFONO</th>\n",
       "      <th>OBSERVACIONES</th>\n",
       "    </tr>\n",
       "  </thead>\n",
       "  <tbody>\n",
       "    <tr>\n",
       "      <th>0</th>\n",
       "      <td>A. R. S. (JEFATURA)</td>\n",
       "      <td>MADRID</td>\n",
       "      <td>MADRID</td>\n",
       "      <td>MADRID</td>\n",
       "      <td>C/ BATALLA DEL SALADO, 35</td>\n",
       "      <td>28045</td>\n",
       "      <td>915146900</td>\n",
       "      <td>NaN</td>\n",
       "    </tr>\n",
       "    <tr>\n",
       "      <th>1</th>\n",
       "      <td>ACADEMIA DE EL ESCORIAL</td>\n",
       "      <td>MADRID</td>\n",
       "      <td>MADRID</td>\n",
       "      <td>SAN LORENZO DE EL ESCORIAL</td>\n",
       "      <td>CTRA. DE GUADARRAMA KM. 33</td>\n",
       "      <td>28200</td>\n",
       "      <td>918969538-918906011-918906001</td>\n",
       "      <td>NaN</td>\n",
       "    </tr>\n",
       "    <tr>\n",
       "      <th>2</th>\n",
       "      <td>ACADEMIA DE OFICIALES GUA. CIVIL</td>\n",
       "      <td>MADRID</td>\n",
       "      <td>MADRID</td>\n",
       "      <td>ARANJUEZ</td>\n",
       "      <td>C/ PRINCESA, S/N</td>\n",
       "      <td>28300</td>\n",
       "      <td>918912145</td>\n",
       "      <td>NaN</td>\n",
       "    </tr>\n",
       "    <tr>\n",
       "      <th>3</th>\n",
       "      <td>ACUARTELAMIENTO DE BARAJAS</td>\n",
       "      <td>MADRID</td>\n",
       "      <td>MADRID</td>\n",
       "      <td>BARAJAS</td>\n",
       "      <td>CAMINO DEL CUARTEL, 4</td>\n",
       "      <td>28042</td>\n",
       "      <td>917470055 EXT.12</td>\n",
       "      <td>NaN</td>\n",
       "    </tr>\n",
       "    <tr>\n",
       "      <th>4</th>\n",
       "      <td>AGRUPACION DE TRAFICO</td>\n",
       "      <td>MADRID</td>\n",
       "      <td>MADRID</td>\n",
       "      <td>MADRID</td>\n",
       "      <td>C/ EMILIO MUÑOZ, 41</td>\n",
       "      <td>28003</td>\n",
       "      <td>915357846</td>\n",
       "      <td>NaN</td>\n",
       "    </tr>\n",
       "  </tbody>\n",
       "</table>\n",
       "</div>"
      ],
      "text/plain": [
       "                             UNIDAD COMUNIDAD AUTONOMA PROVINCIA  \\\n",
       "0               A. R. S. (JEFATURA)             MADRID    MADRID   \n",
       "1           ACADEMIA DE EL ESCORIAL             MADRID    MADRID   \n",
       "2  ACADEMIA DE OFICIALES GUA. CIVIL             MADRID    MADRID   \n",
       "3        ACUARTELAMIENTO DE BARAJAS             MADRID    MADRID   \n",
       "4             AGRUPACION DE TRAFICO             MADRID    MADRID   \n",
       "\n",
       "                    LOCALIDAD                   DOMICILIO CODIGO POSTAL  \\\n",
       "0                      MADRID   C/ BATALLA DEL SALADO, 35         28045   \n",
       "1  SAN LORENZO DE EL ESCORIAL  CTRA. DE GUADARRAMA KM. 33         28200   \n",
       "2                    ARANJUEZ            C/ PRINCESA, S/N         28300   \n",
       "3                     BARAJAS       CAMINO DEL CUARTEL, 4         28042   \n",
       "4                      MADRID         C/ EMILIO MUÑOZ, 41         28003   \n",
       "\n",
       "                        TELEFONO OBSERVACIONES  \n",
       "0                      915146900           NaN  \n",
       "1  918969538-918906011-918906001           NaN  \n",
       "2                      918912145           NaN  \n",
       "3               917470055 EXT.12           NaN  \n",
       "4                      915357846           NaN  "
      ]
     },
     "execution_count": 5,
     "metadata": {},
     "output_type": "execute_result"
    }
   ],
   "source": [
    "guardia_civil.head(5)"
   ]
  },
  {
   "cell_type": "code",
   "execution_count": 6,
   "metadata": {
    "scrolled": false
   },
   "outputs": [
    {
     "name": "stdout",
     "output_type": "stream",
     "text": [
      "<class 'pandas.core.frame.DataFrame'>\n",
      "RangeIndex: 3125 entries, 0 to 3124\n",
      "Data columns (total 8 columns):\n",
      " #   Column              Non-Null Count  Dtype \n",
      "---  ------              --------------  ----- \n",
      " 0   UNIDAD              3125 non-null   object\n",
      " 1   COMUNIDAD AUTONOMA  3125 non-null   object\n",
      " 2   PROVINCIA           3125 non-null   object\n",
      " 3   LOCALIDAD           3123 non-null   object\n",
      " 4   DOMICILIO           3123 non-null   object\n",
      " 5   CODIGO POSTAL       3119 non-null   object\n",
      " 6   TELEFONO            3121 non-null   object\n",
      " 7   OBSERVACIONES       42 non-null     object\n",
      "dtypes: object(8)\n",
      "memory usage: 195.4+ KB\n"
     ]
    }
   ],
   "source": [
    "guardia_civil.info()"
   ]
  },
  {
   "cell_type": "markdown",
   "metadata": {},
   "source": [
    "##### tratamiento"
   ]
  },
  {
   "cell_type": "code",
   "execution_count": 7,
   "metadata": {},
   "outputs": [
    {
     "data": {
      "text/html": [
       "<div>\n",
       "<style scoped>\n",
       "    .dataframe tbody tr th:only-of-type {\n",
       "        vertical-align: middle;\n",
       "    }\n",
       "\n",
       "    .dataframe tbody tr th {\n",
       "        vertical-align: top;\n",
       "    }\n",
       "\n",
       "    .dataframe thead th {\n",
       "        text-align: right;\n",
       "    }\n",
       "</style>\n",
       "<table border=\"1\" class=\"dataframe\">\n",
       "  <thead>\n",
       "    <tr style=\"text-align: right;\">\n",
       "      <th></th>\n",
       "      <th>UNIDAD</th>\n",
       "      <th>COMUNIDAD AUTONOMA</th>\n",
       "      <th>PROVINCIA</th>\n",
       "      <th>LOCALIDAD</th>\n",
       "      <th>DOMICILIO</th>\n",
       "      <th>CODIGO POSTAL</th>\n",
       "      <th>TELEFONO</th>\n",
       "      <th>OBSERVACIONES</th>\n",
       "    </tr>\n",
       "  </thead>\n",
       "  <tbody>\n",
       "    <tr>\n",
       "      <th>2156</th>\n",
       "      <td>PUESTO DE ONDARROA</td>\n",
       "      <td>PAIS VASCO</td>\n",
       "      <td>VIZCAYA</td>\n",
       "      <td>NaN</td>\n",
       "      <td>PUESTO SUPRIMIDO</td>\n",
       "      <td>NaN</td>\n",
       "      <td>NaN</td>\n",
       "      <td>NaN</td>\n",
       "    </tr>\n",
       "    <tr>\n",
       "      <th>2160</th>\n",
       "      <td>SECCION FISCAL DE LA RIBERA-BILBAO</td>\n",
       "      <td>PAIS VASCO</td>\n",
       "      <td>VIZCAYA</td>\n",
       "      <td>NaN</td>\n",
       "      <td>SECCIÓN SUPRIMIDA</td>\n",
       "      <td>NaN</td>\n",
       "      <td>NaN</td>\n",
       "      <td>NaN</td>\n",
       "    </tr>\n",
       "  </tbody>\n",
       "</table>\n",
       "</div>"
      ],
      "text/plain": [
       "                                   UNIDAD COMUNIDAD AUTONOMA PROVINCIA  \\\n",
       "2156                   PUESTO DE ONDARROA         PAIS VASCO   VIZCAYA   \n",
       "2160   SECCION FISCAL DE LA RIBERA-BILBAO         PAIS VASCO   VIZCAYA   \n",
       "\n",
       "     LOCALIDAD          DOMICILIO CODIGO POSTAL TELEFONO OBSERVACIONES  \n",
       "2156       NaN   PUESTO SUPRIMIDO           NaN      NaN           NaN  \n",
       "2160       NaN  SECCIÓN SUPRIMIDA           NaN      NaN           NaN  "
      ]
     },
     "execution_count": 7,
     "metadata": {},
     "output_type": "execute_result"
    }
   ],
   "source": [
    "guardia_civil[guardia_civil['LOCALIDAD'].isnull()]"
   ]
  },
  {
   "cell_type": "code",
   "execution_count": 8,
   "metadata": {
    "scrolled": true
   },
   "outputs": [],
   "source": [
    "guardia_civil['LOCALIDAD'].fillna(\"\", inplace=True)"
   ]
  },
  {
   "cell_type": "code",
   "execution_count": 9,
   "metadata": {
    "scrolled": true
   },
   "outputs": [],
   "source": [
    "guardia_civil['municipio_limpio'] = guardia_civil['LOCALIDAD'].apply(doClean)"
   ]
  },
  {
   "cell_type": "code",
   "execution_count": 10,
   "metadata": {},
   "outputs": [],
   "source": [
    "guardia_civil['cp'] = guardia_civil['CODIGO POSTAL']"
   ]
  },
  {
   "cell_type": "code",
   "execution_count": 11,
   "metadata": {},
   "outputs": [
    {
     "data": {
      "text/plain": [
       "UNIDAD                   0\n",
       "COMUNIDAD AUTONOMA       0\n",
       "PROVINCIA                0\n",
       "LOCALIDAD                0\n",
       "DOMICILIO                2\n",
       "CODIGO POSTAL            6\n",
       "TELEFONO                 4\n",
       "OBSERVACIONES         3083\n",
       "municipio_limpio         0\n",
       "cp                       6\n",
       "dtype: int64"
      ]
     },
     "execution_count": 11,
     "metadata": {},
     "output_type": "execute_result"
    }
   ],
   "source": [
    "guardia_civil.isnull().sum()"
   ]
  },
  {
   "cell_type": "code",
   "execution_count": 12,
   "metadata": {
    "scrolled": true
   },
   "outputs": [
    {
     "data": {
      "text/html": [
       "<div>\n",
       "<style scoped>\n",
       "    .dataframe tbody tr th:only-of-type {\n",
       "        vertical-align: middle;\n",
       "    }\n",
       "\n",
       "    .dataframe tbody tr th {\n",
       "        vertical-align: top;\n",
       "    }\n",
       "\n",
       "    .dataframe thead th {\n",
       "        text-align: right;\n",
       "    }\n",
       "</style>\n",
       "<table border=\"1\" class=\"dataframe\">\n",
       "  <thead>\n",
       "    <tr style=\"text-align: right;\">\n",
       "      <th></th>\n",
       "      <th>UNIDAD</th>\n",
       "      <th>COMUNIDAD AUTONOMA</th>\n",
       "      <th>PROVINCIA</th>\n",
       "      <th>LOCALIDAD</th>\n",
       "      <th>DOMICILIO</th>\n",
       "      <th>CODIGO POSTAL</th>\n",
       "      <th>TELEFONO</th>\n",
       "      <th>OBSERVACIONES</th>\n",
       "      <th>municipio_limpio</th>\n",
       "      <th>cp</th>\n",
       "    </tr>\n",
       "  </thead>\n",
       "  <tbody>\n",
       "    <tr>\n",
       "      <th>165</th>\n",
       "      <td>SECCION ADUANA DE ABRO´IGAL</td>\n",
       "      <td>MADRID</td>\n",
       "      <td>MADRID</td>\n",
       "      <td>MADRID</td>\n",
       "      <td>C/ MENDEZ ALVARO, 84</td>\n",
       "      <td>NaN</td>\n",
       "      <td>914685904</td>\n",
       "      <td>NaN</td>\n",
       "      <td>madrid</td>\n",
       "      <td>NaN</td>\n",
       "    </tr>\n",
       "    <tr>\n",
       "      <th>1131</th>\n",
       "      <td>PUESTO DE TORRE DEL LORO</td>\n",
       "      <td>ANDALUCIA</td>\n",
       "      <td>HUELVA</td>\n",
       "      <td>UNIDAD SUPRIMIDA CON FECHA 10-02-2012</td>\n",
       "      <td>NaN</td>\n",
       "      <td>NaN</td>\n",
       "      <td>NaN</td>\n",
       "      <td>NaN</td>\n",
       "      <td>unidad_suprimida_con_fecha_10_02_2012</td>\n",
       "      <td>NaN</td>\n",
       "    </tr>\n",
       "    <tr>\n",
       "      <th>2156</th>\n",
       "      <td>PUESTO DE ONDARROA</td>\n",
       "      <td>PAIS VASCO</td>\n",
       "      <td>VIZCAYA</td>\n",
       "      <td></td>\n",
       "      <td>PUESTO SUPRIMIDO</td>\n",
       "      <td>NaN</td>\n",
       "      <td>NaN</td>\n",
       "      <td>NaN</td>\n",
       "      <td></td>\n",
       "      <td>NaN</td>\n",
       "    </tr>\n",
       "    <tr>\n",
       "      <th>2160</th>\n",
       "      <td>SECCION FISCAL DE LA RIBERA-BILBAO</td>\n",
       "      <td>PAIS VASCO</td>\n",
       "      <td>VIZCAYA</td>\n",
       "      <td></td>\n",
       "      <td>SECCIÓN SUPRIMIDA</td>\n",
       "      <td>NaN</td>\n",
       "      <td>NaN</td>\n",
       "      <td>NaN</td>\n",
       "      <td></td>\n",
       "      <td>NaN</td>\n",
       "    </tr>\n",
       "    <tr>\n",
       "      <th>2944</th>\n",
       "      <td>AEROPUERTO DE GRAN CANARIA</td>\n",
       "      <td>CANARIAS</td>\n",
       "      <td>LAS PALMAS</td>\n",
       "      <td>OJOS DE GARZA GANDO (TELDE)</td>\n",
       "      <td>C/ AEROPUERTO DE GRAN CANARIA</td>\n",
       "      <td>NaN</td>\n",
       "      <td>928578993</td>\n",
       "      <td>NaN</td>\n",
       "      <td>ojos_de_garza_gando</td>\n",
       "      <td>NaN</td>\n",
       "    </tr>\n",
       "  </tbody>\n",
       "</table>\n",
       "</div>"
      ],
      "text/plain": [
       "                                   UNIDAD COMUNIDAD AUTONOMA   PROVINCIA  \\\n",
       "165           SECCION ADUANA DE ABRO´IGAL             MADRID      MADRID   \n",
       "1131             PUESTO DE TORRE DEL LORO          ANDALUCIA      HUELVA   \n",
       "2156                   PUESTO DE ONDARROA         PAIS VASCO     VIZCAYA   \n",
       "2160   SECCION FISCAL DE LA RIBERA-BILBAO         PAIS VASCO     VIZCAYA   \n",
       "2944           AEROPUERTO DE GRAN CANARIA           CANARIAS  LAS PALMAS   \n",
       "\n",
       "                                  LOCALIDAD                       DOMICILIO  \\\n",
       "165                                  MADRID            C/ MENDEZ ALVARO, 84   \n",
       "1131  UNIDAD SUPRIMIDA CON FECHA 10-02-2012                             NaN   \n",
       "2156                                                       PUESTO SUPRIMIDO   \n",
       "2160                                                      SECCIÓN SUPRIMIDA   \n",
       "2944            OJOS DE GARZA GANDO (TELDE)   C/ AEROPUERTO DE GRAN CANARIA   \n",
       "\n",
       "     CODIGO POSTAL   TELEFONO OBSERVACIONES  \\\n",
       "165            NaN  914685904           NaN   \n",
       "1131           NaN        NaN           NaN   \n",
       "2156           NaN        NaN           NaN   \n",
       "2160           NaN        NaN           NaN   \n",
       "2944           NaN  928578993           NaN   \n",
       "\n",
       "                           municipio_limpio   cp  \n",
       "165                                  madrid  NaN  \n",
       "1131  unidad_suprimida_con_fecha_10_02_2012  NaN  \n",
       "2156                                         NaN  \n",
       "2160                                         NaN  \n",
       "2944                    ojos_de_garza_gando  NaN  "
      ]
     },
     "execution_count": 12,
     "metadata": {},
     "output_type": "execute_result"
    }
   ],
   "source": [
    "guardia_civil[guardia_civil['cp'].isnull()].head()"
   ]
  },
  {
   "cell_type": "code",
   "execution_count": 13,
   "metadata": {},
   "outputs": [],
   "source": [
    "# al haber cp nulls, tambien se carga la provincia"
   ]
  },
  {
   "cell_type": "code",
   "execution_count": 14,
   "metadata": {},
   "outputs": [],
   "source": [
    "guardia_civil['provincia'] = guardia_civil['PROVINCIA'].apply(doClean)"
   ]
  },
  {
   "cell_type": "code",
   "execution_count": 15,
   "metadata": {
    "scrolled": true
   },
   "outputs": [
    {
     "data": {
      "text/html": [
       "<div>\n",
       "<style scoped>\n",
       "    .dataframe tbody tr th:only-of-type {\n",
       "        vertical-align: middle;\n",
       "    }\n",
       "\n",
       "    .dataframe tbody tr th {\n",
       "        vertical-align: top;\n",
       "    }\n",
       "\n",
       "    .dataframe thead th {\n",
       "        text-align: right;\n",
       "    }\n",
       "</style>\n",
       "<table border=\"1\" class=\"dataframe\">\n",
       "  <thead>\n",
       "    <tr style=\"text-align: right;\">\n",
       "      <th></th>\n",
       "      <th>UNIDAD</th>\n",
       "      <th>COMUNIDAD AUTONOMA</th>\n",
       "      <th>PROVINCIA</th>\n",
       "      <th>LOCALIDAD</th>\n",
       "      <th>DOMICILIO</th>\n",
       "      <th>CODIGO POSTAL</th>\n",
       "      <th>TELEFONO</th>\n",
       "      <th>OBSERVACIONES</th>\n",
       "      <th>municipio_limpio</th>\n",
       "      <th>cp</th>\n",
       "      <th>provincia</th>\n",
       "    </tr>\n",
       "  </thead>\n",
       "  <tbody>\n",
       "  </tbody>\n",
       "</table>\n",
       "</div>"
      ],
      "text/plain": [
       "Empty DataFrame\n",
       "Columns: [UNIDAD, COMUNIDAD AUTONOMA, PROVINCIA, LOCALIDAD, DOMICILIO, CODIGO POSTAL, TELEFONO, OBSERVACIONES, municipio_limpio, cp, provincia]\n",
       "Index: []"
      ]
     },
     "execution_count": 15,
     "metadata": {},
     "output_type": "execute_result"
    }
   ],
   "source": [
    "guardia_civil[guardia_civil['provincia'].isnull()].head()"
   ]
  },
  {
   "cell_type": "code",
   "execution_count": 16,
   "metadata": {
    "scrolled": true
   },
   "outputs": [
    {
     "data": {
      "text/html": [
       "<div>\n",
       "<style scoped>\n",
       "    .dataframe tbody tr th:only-of-type {\n",
       "        vertical-align: middle;\n",
       "    }\n",
       "\n",
       "    .dataframe tbody tr th {\n",
       "        vertical-align: top;\n",
       "    }\n",
       "\n",
       "    .dataframe thead th {\n",
       "        text-align: right;\n",
       "    }\n",
       "</style>\n",
       "<table border=\"1\" class=\"dataframe\">\n",
       "  <thead>\n",
       "    <tr style=\"text-align: right;\">\n",
       "      <th></th>\n",
       "      <th>UNIDAD</th>\n",
       "      <th>COMUNIDAD AUTONOMA</th>\n",
       "      <th>PROVINCIA</th>\n",
       "      <th>LOCALIDAD</th>\n",
       "      <th>DOMICILIO</th>\n",
       "      <th>CODIGO POSTAL</th>\n",
       "      <th>TELEFONO</th>\n",
       "      <th>OBSERVACIONES</th>\n",
       "      <th>municipio_limpio</th>\n",
       "      <th>cp</th>\n",
       "      <th>provincia</th>\n",
       "    </tr>\n",
       "  </thead>\n",
       "  <tbody>\n",
       "    <tr>\n",
       "      <th>0</th>\n",
       "      <td>A. R. S. (JEFATURA)</td>\n",
       "      <td>MADRID</td>\n",
       "      <td>MADRID</td>\n",
       "      <td>MADRID</td>\n",
       "      <td>C/ BATALLA DEL SALADO, 35</td>\n",
       "      <td>28045</td>\n",
       "      <td>915146900</td>\n",
       "      <td>NaN</td>\n",
       "      <td>madrid</td>\n",
       "      <td>28045</td>\n",
       "      <td>madrid</td>\n",
       "    </tr>\n",
       "    <tr>\n",
       "      <th>1</th>\n",
       "      <td>ACADEMIA DE EL ESCORIAL</td>\n",
       "      <td>MADRID</td>\n",
       "      <td>MADRID</td>\n",
       "      <td>SAN LORENZO DE EL ESCORIAL</td>\n",
       "      <td>CTRA. DE GUADARRAMA KM. 33</td>\n",
       "      <td>28200</td>\n",
       "      <td>918969538-918906011-918906001</td>\n",
       "      <td>NaN</td>\n",
       "      <td>san_lorenzo_de_el_escorial</td>\n",
       "      <td>28200</td>\n",
       "      <td>madrid</td>\n",
       "    </tr>\n",
       "    <tr>\n",
       "      <th>2</th>\n",
       "      <td>ACADEMIA DE OFICIALES GUA. CIVIL</td>\n",
       "      <td>MADRID</td>\n",
       "      <td>MADRID</td>\n",
       "      <td>ARANJUEZ</td>\n",
       "      <td>C/ PRINCESA, S/N</td>\n",
       "      <td>28300</td>\n",
       "      <td>918912145</td>\n",
       "      <td>NaN</td>\n",
       "      <td>aranjuez</td>\n",
       "      <td>28300</td>\n",
       "      <td>madrid</td>\n",
       "    </tr>\n",
       "    <tr>\n",
       "      <th>3</th>\n",
       "      <td>ACUARTELAMIENTO DE BARAJAS</td>\n",
       "      <td>MADRID</td>\n",
       "      <td>MADRID</td>\n",
       "      <td>BARAJAS</td>\n",
       "      <td>CAMINO DEL CUARTEL, 4</td>\n",
       "      <td>28042</td>\n",
       "      <td>917470055 EXT.12</td>\n",
       "      <td>NaN</td>\n",
       "      <td>barajas</td>\n",
       "      <td>28042</td>\n",
       "      <td>madrid</td>\n",
       "    </tr>\n",
       "    <tr>\n",
       "      <th>4</th>\n",
       "      <td>AGRUPACION DE TRAFICO</td>\n",
       "      <td>MADRID</td>\n",
       "      <td>MADRID</td>\n",
       "      <td>MADRID</td>\n",
       "      <td>C/ EMILIO MUÑOZ, 41</td>\n",
       "      <td>28003</td>\n",
       "      <td>915357846</td>\n",
       "      <td>NaN</td>\n",
       "      <td>madrid</td>\n",
       "      <td>28003</td>\n",
       "      <td>madrid</td>\n",
       "    </tr>\n",
       "  </tbody>\n",
       "</table>\n",
       "</div>"
      ],
      "text/plain": [
       "                             UNIDAD COMUNIDAD AUTONOMA PROVINCIA  \\\n",
       "0               A. R. S. (JEFATURA)             MADRID    MADRID   \n",
       "1           ACADEMIA DE EL ESCORIAL             MADRID    MADRID   \n",
       "2  ACADEMIA DE OFICIALES GUA. CIVIL             MADRID    MADRID   \n",
       "3        ACUARTELAMIENTO DE BARAJAS             MADRID    MADRID   \n",
       "4             AGRUPACION DE TRAFICO             MADRID    MADRID   \n",
       "\n",
       "                    LOCALIDAD                   DOMICILIO CODIGO POSTAL  \\\n",
       "0                      MADRID   C/ BATALLA DEL SALADO, 35         28045   \n",
       "1  SAN LORENZO DE EL ESCORIAL  CTRA. DE GUADARRAMA KM. 33         28200   \n",
       "2                    ARANJUEZ            C/ PRINCESA, S/N         28300   \n",
       "3                     BARAJAS       CAMINO DEL CUARTEL, 4         28042   \n",
       "4                      MADRID         C/ EMILIO MUÑOZ, 41         28003   \n",
       "\n",
       "                        TELEFONO OBSERVACIONES            municipio_limpio  \\\n",
       "0                      915146900           NaN                      madrid   \n",
       "1  918969538-918906011-918906001           NaN  san_lorenzo_de_el_escorial   \n",
       "2                      918912145           NaN                    aranjuez   \n",
       "3               917470055 EXT.12           NaN                     barajas   \n",
       "4                      915357846           NaN                      madrid   \n",
       "\n",
       "      cp provincia  \n",
       "0  28045    madrid  \n",
       "1  28200    madrid  \n",
       "2  28300    madrid  \n",
       "3  28042    madrid  \n",
       "4  28003    madrid  "
      ]
     },
     "execution_count": 16,
     "metadata": {},
     "output_type": "execute_result"
    }
   ],
   "source": [
    "guardia_civil.head()"
   ]
  },
  {
   "cell_type": "markdown",
   "metadata": {},
   "source": [
    "##### Comprobacion duplicados por nombre unico"
   ]
  },
  {
   "cell_type": "code",
   "execution_count": 17,
   "metadata": {
    "scrolled": true
   },
   "outputs": [
    {
     "data": {
      "text/html": [
       "<div>\n",
       "<style scoped>\n",
       "    .dataframe tbody tr th:only-of-type {\n",
       "        vertical-align: middle;\n",
       "    }\n",
       "\n",
       "    .dataframe tbody tr th {\n",
       "        vertical-align: top;\n",
       "    }\n",
       "\n",
       "    .dataframe thead th {\n",
       "        text-align: right;\n",
       "    }\n",
       "</style>\n",
       "<table border=\"1\" class=\"dataframe\">\n",
       "  <thead>\n",
       "    <tr style=\"text-align: right;\">\n",
       "      <th></th>\n",
       "      <th>UNIDAD</th>\n",
       "      <th>COMUNIDAD AUTONOMA</th>\n",
       "      <th>PROVINCIA</th>\n",
       "      <th>LOCALIDAD</th>\n",
       "      <th>DOMICILIO</th>\n",
       "      <th>CODIGO POSTAL</th>\n",
       "      <th>TELEFONO</th>\n",
       "      <th>OBSERVACIONES</th>\n",
       "      <th>municipio_limpio</th>\n",
       "      <th>cp</th>\n",
       "      <th>provincia</th>\n",
       "    </tr>\n",
       "  </thead>\n",
       "  <tbody>\n",
       "    <tr>\n",
       "      <th>922</th>\n",
       "      <td>U.H.E.L.- 23 (CADIZ)</td>\n",
       "      <td>ANDALUCIA</td>\n",
       "      <td>CADIZ</td>\n",
       "      <td>ROTA (3? ESCUADRILLA DE LA BASE NAVAL)</td>\n",
       "      <td>BASE NAVAL DE ROTA</td>\n",
       "      <td>11530</td>\n",
       "      <td>956810569</td>\n",
       "      <td>NaN</td>\n",
       "      <td>rota</td>\n",
       "      <td>11530</td>\n",
       "      <td>cadiz</td>\n",
       "    </tr>\n",
       "    <tr>\n",
       "      <th>1722</th>\n",
       "      <td>COMPAÑIA DE SEGURIDAD AEROPUERTO-BARCELONA</td>\n",
       "      <td>CATALUÑA</td>\n",
       "      <td>BARCELONA</td>\n",
       "      <td>EL PRAT DE LLOBREGAT</td>\n",
       "      <td>AERPUERTO BARCELONA, PARQUE SERVICIOS AEROPOR...</td>\n",
       "      <td>8820</td>\n",
       "      <td>932983357-932984956-932983613</td>\n",
       "      <td>ELIMINAR DEFINITIVAMENTE</td>\n",
       "      <td>el_prat_de_llobregat</td>\n",
       "      <td>8820</td>\n",
       "      <td>barcelona</td>\n",
       "    </tr>\n",
       "    <tr>\n",
       "      <th>2123</th>\n",
       "      <td>U.H.E.L.- 51 (LOGROÑO)</td>\n",
       "      <td>LA RIOJA</td>\n",
       "      <td>LA RIOJA</td>\n",
       "      <td>LOGRO´O</td>\n",
       "      <td>COMANDANCIA (TARDES)</td>\n",
       "      <td>26005</td>\n",
       "      <td>941229900</td>\n",
       "      <td>NaN</td>\n",
       "      <td>logro_o</td>\n",
       "      <td>26005</td>\n",
       "      <td>la_rioja</td>\n",
       "    </tr>\n",
       "    <tr>\n",
       "      <th>2268</th>\n",
       "      <td>PUESTO DE TREVI´O</td>\n",
       "      <td>CASTILLA Y LEON</td>\n",
       "      <td>BURGOS</td>\n",
       "      <td>CONDADO DE TREVI´O</td>\n",
       "      <td>CTRA. MIRANDA DE EBRO, 32</td>\n",
       "      <td>9215</td>\n",
       "      <td>945360004</td>\n",
       "      <td>NaN</td>\n",
       "      <td>condado_de_trevi_o</td>\n",
       "      <td>9215</td>\n",
       "      <td>burgos</td>\n",
       "    </tr>\n",
       "    <tr>\n",
       "      <th>2272</th>\n",
       "      <td>PUESTO PRINCIPAL DE ALFOZ DE BURGOS</td>\n",
       "      <td>CASTILLA Y LEON</td>\n",
       "      <td>BURGOS</td>\n",
       "      <td>BURGOS</td>\n",
       "      <td>AVDA. DE CANTABRIA, 87-95</td>\n",
       "      <td>9006</td>\n",
       "      <td>947244820EXT. 423/427/477/482</td>\n",
       "      <td>NaN</td>\n",
       "      <td>burgos</td>\n",
       "      <td>9006</td>\n",
       "      <td>burgos</td>\n",
       "    </tr>\n",
       "  </tbody>\n",
       "</table>\n",
       "</div>"
      ],
      "text/plain": [
       "                                           UNIDAD COMUNIDAD AUTONOMA  \\\n",
       "922                          U.H.E.L.- 23 (CADIZ)          ANDALUCIA   \n",
       "1722   COMPAÑIA DE SEGURIDAD AEROPUERTO-BARCELONA           CATALUÑA   \n",
       "2123                       U.H.E.L.- 51 (LOGROÑO)           LA RIOJA   \n",
       "2268                            PUESTO DE TREVI´O    CASTILLA Y LEON   \n",
       "2272          PUESTO PRINCIPAL DE ALFOZ DE BURGOS    CASTILLA Y LEON   \n",
       "\n",
       "      PROVINCIA                               LOCALIDAD  \\\n",
       "922       CADIZ  ROTA (3? ESCUADRILLA DE LA BASE NAVAL)   \n",
       "1722  BARCELONA                    EL PRAT DE LLOBREGAT   \n",
       "2123   LA RIOJA                                 LOGRO´O   \n",
       "2268     BURGOS                      CONDADO DE TREVI´O   \n",
       "2272     BURGOS                                  BURGOS   \n",
       "\n",
       "                                              DOMICILIO CODIGO POSTAL  \\\n",
       "922                                  BASE NAVAL DE ROTA         11530   \n",
       "1722   AERPUERTO BARCELONA, PARQUE SERVICIOS AEROPOR...          8820   \n",
       "2123                               COMANDANCIA (TARDES)         26005   \n",
       "2268                          CTRA. MIRANDA DE EBRO, 32          9215   \n",
       "2272                          AVDA. DE CANTABRIA, 87-95          9006   \n",
       "\n",
       "                           TELEFONO             OBSERVACIONES  \\\n",
       "922                       956810569                       NaN   \n",
       "1722  932983357-932984956-932983613  ELIMINAR DEFINITIVAMENTE   \n",
       "2123                      941229900                       NaN   \n",
       "2268                      945360004                       NaN   \n",
       "2272  947244820EXT. 423/427/477/482                       NaN   \n",
       "\n",
       "          municipio_limpio     cp  provincia  \n",
       "922                   rota  11530      cadiz  \n",
       "1722  el_prat_de_llobregat   8820  barcelona  \n",
       "2123               logro_o  26005   la_rioja  \n",
       "2268    condado_de_trevi_o   9215     burgos  \n",
       "2272                burgos   9006     burgos  "
      ]
     },
     "execution_count": 17,
     "metadata": {},
     "output_type": "execute_result"
    }
   ],
   "source": [
    "guardia_civil[guardia_civil.duplicated(subset=['UNIDAD', 'cp', 'municipio_limpio', 'provincia'])].head()"
   ]
  },
  {
   "cell_type": "code",
   "execution_count": 18,
   "metadata": {
    "scrolled": true
   },
   "outputs": [
    {
     "data": {
      "text/html": [
       "<div>\n",
       "<style scoped>\n",
       "    .dataframe tbody tr th:only-of-type {\n",
       "        vertical-align: middle;\n",
       "    }\n",
       "\n",
       "    .dataframe tbody tr th {\n",
       "        vertical-align: top;\n",
       "    }\n",
       "\n",
       "    .dataframe thead th {\n",
       "        text-align: right;\n",
       "    }\n",
       "</style>\n",
       "<table border=\"1\" class=\"dataframe\">\n",
       "  <thead>\n",
       "    <tr style=\"text-align: right;\">\n",
       "      <th></th>\n",
       "      <th>UNIDAD</th>\n",
       "      <th>COMUNIDAD AUTONOMA</th>\n",
       "      <th>PROVINCIA</th>\n",
       "      <th>LOCALIDAD</th>\n",
       "      <th>DOMICILIO</th>\n",
       "      <th>CODIGO POSTAL</th>\n",
       "      <th>TELEFONO</th>\n",
       "      <th>OBSERVACIONES</th>\n",
       "      <th>municipio_limpio</th>\n",
       "      <th>cp</th>\n",
       "      <th>provincia</th>\n",
       "    </tr>\n",
       "  </thead>\n",
       "  <tbody>\n",
       "    <tr>\n",
       "      <th>2244</th>\n",
       "      <td>PUESTO PRINCIPAL DE ALFOZ DE BURGOS</td>\n",
       "      <td>CASTILLA Y LEON</td>\n",
       "      <td>BURGOS</td>\n",
       "      <td>BURGOS</td>\n",
       "      <td>AVDA. DE CANTABRIA, 87-95</td>\n",
       "      <td>9006</td>\n",
       "      <td>947244820\\nEXT. 423/427/477/482</td>\n",
       "      <td>NaN</td>\n",
       "      <td>burgos</td>\n",
       "      <td>9006</td>\n",
       "      <td>burgos</td>\n",
       "    </tr>\n",
       "    <tr>\n",
       "      <th>2272</th>\n",
       "      <td>PUESTO PRINCIPAL DE ALFOZ DE BURGOS</td>\n",
       "      <td>CASTILLA Y LEON</td>\n",
       "      <td>BURGOS</td>\n",
       "      <td>BURGOS</td>\n",
       "      <td>AVDA. DE CANTABRIA, 87-95</td>\n",
       "      <td>9006</td>\n",
       "      <td>947244820EXT. 423/427/477/482</td>\n",
       "      <td>NaN</td>\n",
       "      <td>burgos</td>\n",
       "      <td>9006</td>\n",
       "      <td>burgos</td>\n",
       "    </tr>\n",
       "  </tbody>\n",
       "</table>\n",
       "</div>"
      ],
      "text/plain": [
       "                                   UNIDAD COMUNIDAD AUTONOMA PROVINCIA  \\\n",
       "2244  PUESTO PRINCIPAL DE ALFOZ DE BURGOS    CASTILLA Y LEON    BURGOS   \n",
       "2272  PUESTO PRINCIPAL DE ALFOZ DE BURGOS    CASTILLA Y LEON    BURGOS   \n",
       "\n",
       "     LOCALIDAD                   DOMICILIO CODIGO POSTAL  \\\n",
       "2244    BURGOS   AVDA. DE CANTABRIA, 87-95          9006   \n",
       "2272    BURGOS   AVDA. DE CANTABRIA, 87-95          9006   \n",
       "\n",
       "                             TELEFONO OBSERVACIONES municipio_limpio    cp  \\\n",
       "2244  947244820\\nEXT. 423/427/477/482           NaN           burgos  9006   \n",
       "2272    947244820EXT. 423/427/477/482           NaN           burgos  9006   \n",
       "\n",
       "     provincia  \n",
       "2244    burgos  \n",
       "2272    burgos  "
      ]
     },
     "execution_count": 18,
     "metadata": {},
     "output_type": "execute_result"
    }
   ],
   "source": [
    "guardia_civil[guardia_civil['UNIDAD']=='PUESTO PRINCIPAL DE ALFOZ DE BURGOS']"
   ]
  },
  {
   "cell_type": "code",
   "execution_count": 19,
   "metadata": {},
   "outputs": [],
   "source": [
    "guardia_civil.drop_duplicates(subset=['cp', 'municipio_limpio', 'provincia'], inplace=True)"
   ]
  },
  {
   "cell_type": "code",
   "execution_count": 20,
   "metadata": {},
   "outputs": [],
   "source": [
    "guardia_civil = guardia_civil.groupby(by=['cp', 'municipio_limpio', 'provincia'], as_index=False)['UNIDAD'].count()"
   ]
  },
  {
   "cell_type": "code",
   "execution_count": 21,
   "metadata": {},
   "outputs": [
    {
     "data": {
      "text/html": [
       "<div>\n",
       "<style scoped>\n",
       "    .dataframe tbody tr th:only-of-type {\n",
       "        vertical-align: middle;\n",
       "    }\n",
       "\n",
       "    .dataframe tbody tr th {\n",
       "        vertical-align: top;\n",
       "    }\n",
       "\n",
       "    .dataframe thead th {\n",
       "        text-align: right;\n",
       "    }\n",
       "</style>\n",
       "<table border=\"1\" class=\"dataframe\">\n",
       "  <thead>\n",
       "    <tr style=\"text-align: right;\">\n",
       "      <th></th>\n",
       "      <th>cp</th>\n",
       "      <th>municipio_limpio</th>\n",
       "      <th>provincia</th>\n",
       "      <th>UNIDAD</th>\n",
       "    </tr>\n",
       "  </thead>\n",
       "  <tbody>\n",
       "    <tr>\n",
       "      <th>0</th>\n",
       "      <td>10003</td>\n",
       "      <td>caceres</td>\n",
       "      <td>caceres</td>\n",
       "      <td>1</td>\n",
       "    </tr>\n",
       "    <tr>\n",
       "      <th>1</th>\n",
       "      <td>1010</td>\n",
       "      <td>vitoria</td>\n",
       "      <td>alava</td>\n",
       "      <td>1</td>\n",
       "    </tr>\n",
       "    <tr>\n",
       "      <th>2</th>\n",
       "      <td>10100</td>\n",
       "      <td>miajadas</td>\n",
       "      <td>caceres</td>\n",
       "      <td>1</td>\n",
       "    </tr>\n",
       "    <tr>\n",
       "      <th>3</th>\n",
       "      <td>10110</td>\n",
       "      <td>madrigalejo</td>\n",
       "      <td>caceres</td>\n",
       "      <td>1</td>\n",
       "    </tr>\n",
       "    <tr>\n",
       "      <th>4</th>\n",
       "      <td>10120</td>\n",
       "      <td>logrosan</td>\n",
       "      <td>caceres</td>\n",
       "      <td>1</td>\n",
       "    </tr>\n",
       "  </tbody>\n",
       "</table>\n",
       "</div>"
      ],
      "text/plain": [
       "      cp municipio_limpio provincia  UNIDAD\n",
       "0  10003          caceres   caceres       1\n",
       "1   1010          vitoria     alava       1\n",
       "2  10100         miajadas   caceres       1\n",
       "3  10110      madrigalejo   caceres       1\n",
       "4  10120         logrosan   caceres       1"
      ]
     },
     "execution_count": 21,
     "metadata": {},
     "output_type": "execute_result"
    }
   ],
   "source": [
    "guardia_civil.head()"
   ]
  },
  {
   "cell_type": "code",
   "execution_count": 22,
   "metadata": {},
   "outputs": [],
   "source": [
    "guardia_civil.columns = ['cp', 'municipio_limpio', 'provincia','uds_guardia_civil']"
   ]
  },
  {
   "cell_type": "markdown",
   "metadata": {},
   "source": [
    "##### Creación y exportación de fichero maestro"
   ]
  },
  {
   "cell_type": "code",
   "execution_count": 23,
   "metadata": {
    "scrolled": false
   },
   "outputs": [
    {
     "data": {
      "text/html": [
       "<div>\n",
       "<style scoped>\n",
       "    .dataframe tbody tr th:only-of-type {\n",
       "        vertical-align: middle;\n",
       "    }\n",
       "\n",
       "    .dataframe tbody tr th {\n",
       "        vertical-align: top;\n",
       "    }\n",
       "\n",
       "    .dataframe thead th {\n",
       "        text-align: right;\n",
       "    }\n",
       "</style>\n",
       "<table border=\"1\" class=\"dataframe\">\n",
       "  <thead>\n",
       "    <tr style=\"text-align: right;\">\n",
       "      <th></th>\n",
       "      <th>cp</th>\n",
       "      <th>municipio_limpio</th>\n",
       "      <th>provincia</th>\n",
       "      <th>uds_guardia_civil</th>\n",
       "    </tr>\n",
       "  </thead>\n",
       "  <tbody>\n",
       "    <tr>\n",
       "      <th>0</th>\n",
       "      <td>10003</td>\n",
       "      <td>caceres</td>\n",
       "      <td>caceres</td>\n",
       "      <td>1</td>\n",
       "    </tr>\n",
       "    <tr>\n",
       "      <th>1</th>\n",
       "      <td>1010</td>\n",
       "      <td>vitoria</td>\n",
       "      <td>alava</td>\n",
       "      <td>1</td>\n",
       "    </tr>\n",
       "    <tr>\n",
       "      <th>2</th>\n",
       "      <td>10100</td>\n",
       "      <td>miajadas</td>\n",
       "      <td>caceres</td>\n",
       "      <td>1</td>\n",
       "    </tr>\n",
       "    <tr>\n",
       "      <th>3</th>\n",
       "      <td>10110</td>\n",
       "      <td>madrigalejo</td>\n",
       "      <td>caceres</td>\n",
       "      <td>1</td>\n",
       "    </tr>\n",
       "    <tr>\n",
       "      <th>4</th>\n",
       "      <td>10120</td>\n",
       "      <td>logrosan</td>\n",
       "      <td>caceres</td>\n",
       "      <td>1</td>\n",
       "    </tr>\n",
       "  </tbody>\n",
       "</table>\n",
       "</div>"
      ],
      "text/plain": [
       "      cp municipio_limpio provincia  uds_guardia_civil\n",
       "0  10003          caceres   caceres                  1\n",
       "1   1010          vitoria     alava                  1\n",
       "2  10100         miajadas   caceres                  1\n",
       "3  10110      madrigalejo   caceres                  1\n",
       "4  10120         logrosan   caceres                  1"
      ]
     },
     "execution_count": 23,
     "metadata": {},
     "output_type": "execute_result"
    }
   ],
   "source": [
    "guardia_civil.head()"
   ]
  },
  {
   "cell_type": "code",
   "execution_count": 24,
   "metadata": {},
   "outputs": [],
   "source": [
    "guardia_civil.to_csv(\"sociedad_seguridad_guardia_civil_2019_limpio.csv\")"
   ]
  },
  {
   "cell_type": "code",
   "execution_count": null,
   "metadata": {},
   "outputs": [],
   "source": []
  },
  {
   "cell_type": "code",
   "execution_count": null,
   "metadata": {},
   "outputs": [],
   "source": []
  }
 ],
 "metadata": {
  "kernelspec": {
   "display_name": "Python 3",
   "language": "python",
   "name": "python3"
  },
  "language_info": {
   "codemirror_mode": {
    "name": "ipython",
    "version": 3
   },
   "file_extension": ".py",
   "mimetype": "text/x-python",
   "name": "python",
   "nbconvert_exporter": "python",
   "pygments_lexer": "ipython3",
   "version": "3.8.2"
  }
 },
 "nbformat": 4,
 "nbformat_minor": 4
}
