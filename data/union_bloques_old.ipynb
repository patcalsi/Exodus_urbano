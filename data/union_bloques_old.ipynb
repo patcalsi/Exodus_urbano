{
 "cells": [
  {
   "cell_type": "code",
   "execution_count": 239,
   "metadata": {},
   "outputs": [],
   "source": [
    "import pandas as pd\n",
    "import matplotlib.pyplot as plt\n",
    "import numpy as np\n",
    "import re\n",
    "import unidecode\n",
    "import os"
   ]
  },
  {
   "cell_type": "markdown",
   "metadata": {},
   "source": [
    "#### Funciones"
   ]
  },
  {
   "cell_type": "code",
   "execution_count": 240,
   "metadata": {},
   "outputs": [],
   "source": [
    "def doClean(a):   \n",
    "    a = str(a)\n",
    "    # Quitar las expresiones tras la barra /\n",
    "    a = re.sub('\\/.*', '', a)\n",
    "    # Quitar las aclaraciones entre paréntesis\n",
    "    a = re.sub('\\(.*\\)', '', a)\n",
    "    # Quitar acentos \n",
    "    a = unidecode.unidecode(a)\n",
    "    # Quitar aquello que no sean palabras o cosa que se le parezca\n",
    "    a = re.sub('\\W', ' ', a) \n",
    "    # Quitar espacios extra en caso de haber\n",
    "    a = re.sub('\\s+', ' ', a)\n",
    "    # Pasar el texto a minúsulas\n",
    "    a = a.lower() \n",
    "    a = a.lstrip()\n",
    "    # Quitar espacio derecha\n",
    "    a = a.rstrip()\n",
    "    a = re.sub(' ', '_', a)\n",
    "    #a = a.strip() \n",
    "    \n",
    "    return a"
   ]
  },
  {
   "cell_type": "markdown",
   "metadata": {},
   "source": [
    "#### Carga y union de ficheros"
   ]
  },
  {
   "cell_type": "code",
   "execution_count": 241,
   "metadata": {},
   "outputs": [
    {
     "data": {
      "text/plain": [
       "'/home/patcalsi/projects/Exodus_urbano/data'"
      ]
     },
     "execution_count": 241,
     "metadata": {},
     "output_type": "execute_result"
    }
   ],
   "source": [
    "os.getcwd()"
   ]
  },
  {
   "cell_type": "code",
   "execution_count": 242,
   "metadata": {},
   "outputs": [
    {
     "data": {
      "text/plain": [
       "['patri',\n",
       " 'Sandra',\n",
       " 'union_bloques.csv',\n",
       " '.ipynb_checkpoints',\n",
       " 'maestro_idiomas.csv',\n",
       " 'maestro_idiomas_ine.csv',\n",
       " 'union_bloques.ipynb',\n",
       " '.DS_Store',\n",
       " 'Guille',\n",
       " 'mar']"
      ]
     },
     "execution_count": 242,
     "metadata": {},
     "output_type": "execute_result"
    }
   ],
   "source": [
    "os.listdir()"
   ]
  },
  {
   "cell_type": "markdown",
   "metadata": {},
   "source": [
    "## Fichero maestro"
   ]
  },
  {
   "cell_type": "code",
   "execution_count": 243,
   "metadata": {},
   "outputs": [
    {
     "data": {
      "text/plain": [
       "(14288, 20)"
      ]
     },
     "execution_count": 243,
     "metadata": {},
     "output_type": "execute_result"
    }
   ],
   "source": [
    "maestro_municipios = pd.read_csv(\"patri/maestro_nuevo.csv\", index_col=0, dtype={'postal_code': object, 'ine_code':object})\n",
    "maestro_municipios.shape"
   ]
  },
  {
   "cell_type": "code",
   "execution_count": 244,
   "metadata": {},
   "outputs": [],
   "source": [
    "maestro_municipios.drop(columns='muni_agrup', inplace=True)\n",
    "maestro_municipios.rename(columns={'provincia': 'provincia_original', 'poblacion': 'municipio_original'}, inplace=True)"
   ]
  },
  {
   "cell_type": "code",
   "execution_count": 245,
   "metadata": {
    "scrolled": true
   },
   "outputs": [
    {
     "data": {
      "text/html": [
       "<div>\n",
       "<style scoped>\n",
       "    .dataframe tbody tr th:only-of-type {\n",
       "        vertical-align: middle;\n",
       "    }\n",
       "\n",
       "    .dataframe tbody tr th {\n",
       "        vertical-align: top;\n",
       "    }\n",
       "\n",
       "    .dataframe thead th {\n",
       "        text-align: right;\n",
       "    }\n",
       "</style>\n",
       "<table border=\"1\" class=\"dataframe\">\n",
       "  <thead>\n",
       "    <tr style=\"text-align: right;\">\n",
       "      <th></th>\n",
       "      <th>ine_code</th>\n",
       "      <th>postal_code</th>\n",
       "      <th>cities_es</th>\n",
       "      <th>cities</th>\n",
       "      <th>province_es</th>\n",
       "      <th>province</th>\n",
       "      <th>ccaa_es</th>\n",
       "      <th>ccaa</th>\n",
       "      <th>cities_es/province_es</th>\n",
       "      <th>cities_es/province</th>\n",
       "      <th>cities_es/ccaa_es</th>\n",
       "      <th>cities_es/ccaa</th>\n",
       "      <th>cities/province_es</th>\n",
       "      <th>province_es/ccaa_es</th>\n",
       "      <th>province_es/ccaa</th>\n",
       "      <th>province/ccaa_es</th>\n",
       "      <th>province/ccaa</th>\n",
       "      <th>provincia_original</th>\n",
       "      <th>municipio_original</th>\n",
       "    </tr>\n",
       "  </thead>\n",
       "  <tbody>\n",
       "    <tr>\n",
       "      <th>0</th>\n",
       "      <td>1001</td>\n",
       "      <td>01240</td>\n",
       "      <td>alegria_dulantzi</td>\n",
       "      <td>alegria_dulantzi</td>\n",
       "      <td>alava</td>\n",
       "      <td>araba</td>\n",
       "      <td>pais_vasco</td>\n",
       "      <td>pais_vasco</td>\n",
       "      <td>alegria_dulantzi/alava</td>\n",
       "      <td>alegria_dulantzi/araba</td>\n",
       "      <td>alegria_dulantzi/pais_vasco</td>\n",
       "      <td>alegria_dulantzi/pais_vasco</td>\n",
       "      <td>alegria_dulantzi/alava</td>\n",
       "      <td>alava/pais_vasco</td>\n",
       "      <td>alava/pais_vasco</td>\n",
       "      <td>araba/pais_vasco</td>\n",
       "      <td>araba/pais_vasco</td>\n",
       "      <td>Araba/Álava</td>\n",
       "      <td>Alegría-Dulantzi</td>\n",
       "    </tr>\n",
       "    <tr>\n",
       "      <th>1</th>\n",
       "      <td>1001</td>\n",
       "      <td>01193</td>\n",
       "      <td>alegria_dulantzi</td>\n",
       "      <td>alegria_dulantzi</td>\n",
       "      <td>alava</td>\n",
       "      <td>araba</td>\n",
       "      <td>pais_vasco</td>\n",
       "      <td>pais_vasco</td>\n",
       "      <td>alegria_dulantzi/alava</td>\n",
       "      <td>alegria_dulantzi/araba</td>\n",
       "      <td>alegria_dulantzi/pais_vasco</td>\n",
       "      <td>alegria_dulantzi/pais_vasco</td>\n",
       "      <td>alegria_dulantzi/alava</td>\n",
       "      <td>alava/pais_vasco</td>\n",
       "      <td>alava/pais_vasco</td>\n",
       "      <td>araba/pais_vasco</td>\n",
       "      <td>araba/pais_vasco</td>\n",
       "      <td>Araba/Álava</td>\n",
       "      <td>Alegría-Dulantzi</td>\n",
       "    </tr>\n",
       "  </tbody>\n",
       "</table>\n",
       "</div>"
      ],
      "text/plain": [
       "  ine_code postal_code         cities_es            cities province_es  \\\n",
       "0     1001       01240  alegria_dulantzi  alegria_dulantzi       alava   \n",
       "1     1001       01193  alegria_dulantzi  alegria_dulantzi       alava   \n",
       "\n",
       "  province     ccaa_es        ccaa   cities_es/province_es  \\\n",
       "0    araba  pais_vasco  pais_vasco  alegria_dulantzi/alava   \n",
       "1    araba  pais_vasco  pais_vasco  alegria_dulantzi/alava   \n",
       "\n",
       "       cities_es/province            cities_es/ccaa_es  \\\n",
       "0  alegria_dulantzi/araba  alegria_dulantzi/pais_vasco   \n",
       "1  alegria_dulantzi/araba  alegria_dulantzi/pais_vasco   \n",
       "\n",
       "                cities_es/ccaa      cities/province_es province_es/ccaa_es  \\\n",
       "0  alegria_dulantzi/pais_vasco  alegria_dulantzi/alava    alava/pais_vasco   \n",
       "1  alegria_dulantzi/pais_vasco  alegria_dulantzi/alava    alava/pais_vasco   \n",
       "\n",
       "   province_es/ccaa  province/ccaa_es     province/ccaa provincia_original  \\\n",
       "0  alava/pais_vasco  araba/pais_vasco  araba/pais_vasco        Araba/Álava   \n",
       "1  alava/pais_vasco  araba/pais_vasco  araba/pais_vasco        Araba/Álava   \n",
       "\n",
       "  municipio_original  \n",
       "0   Alegría-Dulantzi  \n",
       "1   Alegría-Dulantzi  "
      ]
     },
     "execution_count": 245,
     "metadata": {},
     "output_type": "execute_result"
    }
   ],
   "source": [
    "maestro_municipios.head(2)"
   ]
  },
  {
   "cell_type": "code",
   "execution_count": 246,
   "metadata": {
    "scrolled": true
   },
   "outputs": [
    {
     "data": {
      "text/plain": [
       "(14241, 19)"
      ]
     },
     "execution_count": 246,
     "metadata": {},
     "output_type": "execute_result"
    }
   ],
   "source": [
    "maestro_municipios_dupli = maestro_municipios.drop_duplicates(subset=['ine_code', 'postal_code', 'cities', 'province'])\n",
    "maestro_municipios_dupli.shape"
   ]
  },
  {
   "cell_type": "markdown",
   "metadata": {},
   "source": [
    "### Bloques"
   ]
  },
  {
   "cell_type": "markdown",
   "metadata": {},
   "source": [
    "#### Patri"
   ]
  },
  {
   "cell_type": "code",
   "execution_count": 247,
   "metadata": {},
   "outputs": [
    {
     "data": {
      "text/plain": [
       "(14729, 61)"
      ]
     },
     "execution_count": 247,
     "metadata": {},
     "output_type": "execute_result"
    }
   ],
   "source": [
    "union_patri = pd.read_csv(\"patri/union_patri.csv\", index_col=0, dtype={'postal_code': object, 'ine_code':object})\n",
    "union_patri.shape"
   ]
  },
  {
   "cell_type": "code",
   "execution_count": 248,
   "metadata": {
    "scrolled": true
   },
   "outputs": [
    {
     "data": {
      "text/html": [
       "<div>\n",
       "<style scoped>\n",
       "    .dataframe tbody tr th:only-of-type {\n",
       "        vertical-align: middle;\n",
       "    }\n",
       "\n",
       "    .dataframe tbody tr th {\n",
       "        vertical-align: top;\n",
       "    }\n",
       "\n",
       "    .dataframe thead th {\n",
       "        text-align: right;\n",
       "    }\n",
       "</style>\n",
       "<table border=\"1\" class=\"dataframe\">\n",
       "  <thead>\n",
       "    <tr style=\"text-align: right;\">\n",
       "      <th></th>\n",
       "      <th>ine_code</th>\n",
       "      <th>postal_code</th>\n",
       "      <th>cities_es</th>\n",
       "      <th>cities</th>\n",
       "      <th>province_es</th>\n",
       "      <th>province</th>\n",
       "      <th>ccaa_es</th>\n",
       "      <th>ccaa</th>\n",
       "      <th>cities_es/province_es</th>\n",
       "      <th>cities_es/province</th>\n",
       "      <th>...</th>\n",
       "      <th>otros_servicios</th>\n",
       "      <th>palacios_de_congresos</th>\n",
       "      <th>playas</th>\n",
       "      <th>puertos_deportivos</th>\n",
       "      <th>restaurantes_y_empresas_turísticas_de_catering</th>\n",
       "      <th>seguridad_ciudadana</th>\n",
       "      <th>servicios_de_limpieza</th>\n",
       "      <th>servicios_turísticos_de_salud</th>\n",
       "      <th>taxis</th>\n",
       "      <th>turismo_industrial</th>\n",
       "    </tr>\n",
       "  </thead>\n",
       "  <tbody>\n",
       "    <tr>\n",
       "      <th>0</th>\n",
       "      <td>1001</td>\n",
       "      <td>01240</td>\n",
       "      <td>alegria_dulantzi</td>\n",
       "      <td>alegria_dulantzi</td>\n",
       "      <td>alava</td>\n",
       "      <td>araba</td>\n",
       "      <td>pais_vasco</td>\n",
       "      <td>pais_vasco</td>\n",
       "      <td>alegria_dulantzi/alava</td>\n",
       "      <td>alegria_dulantzi/araba</td>\n",
       "      <td>...</td>\n",
       "      <td>NaN</td>\n",
       "      <td>NaN</td>\n",
       "      <td>NaN</td>\n",
       "      <td>NaN</td>\n",
       "      <td>NaN</td>\n",
       "      <td>NaN</td>\n",
       "      <td>NaN</td>\n",
       "      <td>NaN</td>\n",
       "      <td>NaN</td>\n",
       "      <td>NaN</td>\n",
       "    </tr>\n",
       "    <tr>\n",
       "      <th>1</th>\n",
       "      <td>1001</td>\n",
       "      <td>01193</td>\n",
       "      <td>alegria_dulantzi</td>\n",
       "      <td>alegria_dulantzi</td>\n",
       "      <td>alava</td>\n",
       "      <td>araba</td>\n",
       "      <td>pais_vasco</td>\n",
       "      <td>pais_vasco</td>\n",
       "      <td>alegria_dulantzi/alava</td>\n",
       "      <td>alegria_dulantzi/araba</td>\n",
       "      <td>...</td>\n",
       "      <td>0.0</td>\n",
       "      <td>0.0</td>\n",
       "      <td>0.0</td>\n",
       "      <td>0.0</td>\n",
       "      <td>0.0</td>\n",
       "      <td>0.0</td>\n",
       "      <td>0.0</td>\n",
       "      <td>0.0</td>\n",
       "      <td>0.0</td>\n",
       "      <td>0.0</td>\n",
       "    </tr>\n",
       "  </tbody>\n",
       "</table>\n",
       "<p>2 rows × 61 columns</p>\n",
       "</div>"
      ],
      "text/plain": [
       "  ine_code postal_code         cities_es            cities province_es  \\\n",
       "0     1001       01240  alegria_dulantzi  alegria_dulantzi       alava   \n",
       "1     1001       01193  alegria_dulantzi  alegria_dulantzi       alava   \n",
       "\n",
       "  province     ccaa_es        ccaa   cities_es/province_es  \\\n",
       "0    araba  pais_vasco  pais_vasco  alegria_dulantzi/alava   \n",
       "1    araba  pais_vasco  pais_vasco  alegria_dulantzi/alava   \n",
       "\n",
       "       cities_es/province  ... otros_servicios palacios_de_congresos playas  \\\n",
       "0  alegria_dulantzi/araba  ...             NaN                   NaN    NaN   \n",
       "1  alegria_dulantzi/araba  ...             0.0                   0.0    0.0   \n",
       "\n",
       "  puertos_deportivos restaurantes_y_empresas_turísticas_de_catering  \\\n",
       "0                NaN                                            NaN   \n",
       "1                0.0                                            0.0   \n",
       "\n",
       "  seguridad_ciudadana servicios_de_limpieza  servicios_turísticos_de_salud  \\\n",
       "0                 NaN                   NaN                            NaN   \n",
       "1                 0.0                   0.0                            0.0   \n",
       "\n",
       "   taxis  turismo_industrial  \n",
       "0    NaN                 NaN  \n",
       "1    0.0                 0.0  \n",
       "\n",
       "[2 rows x 61 columns]"
      ]
     },
     "execution_count": 248,
     "metadata": {},
     "output_type": "execute_result"
    }
   ],
   "source": [
    "union_patri.head(2)"
   ]
  },
  {
   "cell_type": "code",
   "execution_count": 249,
   "metadata": {},
   "outputs": [],
   "source": [
    "union_patri.rename(columns={'cities_es/ccaa_x': 'cities_es/ccaa'}, inplace=True)"
   ]
  },
  {
   "cell_type": "code",
   "execution_count": 250,
   "metadata": {},
   "outputs": [],
   "source": [
    "union_patri_dup = union_patri.drop_duplicates(subset=['postal_code', 'cities', 'province'])\n",
    "union_patri_dup = union_patri_dup[~union_patri_dup['postal_code'].isnull()]"
   ]
  },
  {
   "cell_type": "code",
   "execution_count": 251,
   "metadata": {
    "scrolled": true
   },
   "outputs": [
    {
     "data": {
      "text/plain": [
       "Index(['ine_code', 'postal_code', 'cities_es', 'cities', 'province_es',\n",
       "       'province', 'ccaa_es', 'ccaa', 'cities_es/province_es',\n",
       "       'cities_es/province', 'cities_es/ccaa_es', 'cities_es/ccaa',\n",
       "       'cities/province_es', 'province_es/ccaa_es', 'province_es/ccaa',\n",
       "       'province/ccaa_es', 'province/ccaa', 'total_bibliotecas',\n",
       "       'uds_hospiatales', 'num_centros_salud', 'num_colegios_privados',\n",
       "       'num_colegios_publicos', 'uds_guardia_civil',\n",
       "       'num_universidades_privadas', 'num_universidades_publicas',\n",
       "       'num_tit_uni_privadas', 'num_tit_uni_publicas', 'cities_es/ccaa_y',\n",
       "       'codigo_postal', 'agencias_de_viajes', 'albergues',\n",
       "       'alojamientos_rurales', 'artesanos', 'atraque_de_cruceros_y_ferries',\n",
       "       'bares_y_cafeterías', 'bodegas', 'campings',\n",
       "       'campos_de_golf_y_campos_de_pitch&putt', 'comercios',\n",
       "       'convention_bureaux',\n",
       "       'empresas_de_alquiler_de_vehículos_y_embarcaciones',\n",
       "       'empresas_de_transporte_turístico', 'empresas_de_turismo_activo',\n",
       "       'escuelas_de_español_para_extranjeros', 'espacios_naturales_protegidos',\n",
       "       'estaciones_de_esquí_y_montaña', 'guías_turísticos',\n",
       "       'hoteles_y_apartamentos_turísticos',\n",
       "       'museos_y_centros_de_interés_turístico_visitable', 'opc',\n",
       "       'oficinas_de_información_turística', 'otros_servicios',\n",
       "       'palacios_de_congresos', 'playas', 'puertos_deportivos',\n",
       "       'restaurantes_y_empresas_turísticas_de_catering', 'seguridad_ciudadana',\n",
       "       'servicios_de_limpieza', 'servicios_turísticos_de_salud', 'taxis',\n",
       "       'turismo_industrial'],\n",
       "      dtype='object')"
      ]
     },
     "execution_count": 251,
     "metadata": {},
     "output_type": "execute_result"
    }
   ],
   "source": [
    "union_patri_dup.columns"
   ]
  },
  {
   "cell_type": "code",
   "execution_count": 252,
   "metadata": {},
   "outputs": [],
   "source": [
    "union_patri_dup.drop(columns=['ine_code', 'cities_es', 'cities', 'province_es',\n",
    "       'province', 'ccaa_es', 'ccaa', 'cities_es/province_es',\n",
    "       'cities_es/province', 'cities_es/ccaa_es', 'cities_es/ccaa',\n",
    "       'cities/province_es', 'province_es/ccaa_es', 'province_es/ccaa',\n",
    "       'province/ccaa_es', 'province/ccaa'], inplace=True)"
   ]
  },
  {
   "cell_type": "code",
   "execution_count": 253,
   "metadata": {},
   "outputs": [
    {
     "data": {
      "text/plain": [
       "(10672, 45)"
      ]
     },
     "execution_count": 253,
     "metadata": {},
     "output_type": "execute_result"
    }
   ],
   "source": [
    "union_patri_dup.fillna(-1, inplace=True)\n",
    "union_patri_dup.shape"
   ]
  },
  {
   "cell_type": "code",
   "execution_count": 254,
   "metadata": {},
   "outputs": [],
   "source": [
    "union = pd.merge(maestro_municipios_dupli, union_patri_dup, left_on='postal_code', right_on='postal_code', how='left')"
   ]
  },
  {
   "cell_type": "code",
   "execution_count": 255,
   "metadata": {},
   "outputs": [
    {
     "data": {
      "text/plain": [
       "(14265, 63)"
      ]
     },
     "execution_count": 255,
     "metadata": {},
     "output_type": "execute_result"
    }
   ],
   "source": [
    "union.shape"
   ]
  },
  {
   "cell_type": "code",
   "execution_count": 256,
   "metadata": {
    "scrolled": false
   },
   "outputs": [
    {
     "data": {
      "text/html": [
       "<div>\n",
       "<style scoped>\n",
       "    .dataframe tbody tr th:only-of-type {\n",
       "        vertical-align: middle;\n",
       "    }\n",
       "\n",
       "    .dataframe tbody tr th {\n",
       "        vertical-align: top;\n",
       "    }\n",
       "\n",
       "    .dataframe thead th {\n",
       "        text-align: right;\n",
       "    }\n",
       "</style>\n",
       "<table border=\"1\" class=\"dataframe\">\n",
       "  <thead>\n",
       "    <tr style=\"text-align: right;\">\n",
       "      <th></th>\n",
       "      <th>ine_code</th>\n",
       "      <th>postal_code</th>\n",
       "      <th>cities_es</th>\n",
       "      <th>cities</th>\n",
       "      <th>province_es</th>\n",
       "      <th>province</th>\n",
       "      <th>ccaa_es</th>\n",
       "      <th>ccaa</th>\n",
       "      <th>cities_es/province_es</th>\n",
       "      <th>cities_es/province</th>\n",
       "      <th>...</th>\n",
       "      <th>otros_servicios</th>\n",
       "      <th>palacios_de_congresos</th>\n",
       "      <th>playas</th>\n",
       "      <th>puertos_deportivos</th>\n",
       "      <th>restaurantes_y_empresas_turísticas_de_catering</th>\n",
       "      <th>seguridad_ciudadana</th>\n",
       "      <th>servicios_de_limpieza</th>\n",
       "      <th>servicios_turísticos_de_salud</th>\n",
       "      <th>taxis</th>\n",
       "      <th>turismo_industrial</th>\n",
       "    </tr>\n",
       "  </thead>\n",
       "  <tbody>\n",
       "    <tr>\n",
       "      <th>0</th>\n",
       "      <td>1001</td>\n",
       "      <td>01240</td>\n",
       "      <td>alegria_dulantzi</td>\n",
       "      <td>alegria_dulantzi</td>\n",
       "      <td>alava</td>\n",
       "      <td>araba</td>\n",
       "      <td>pais_vasco</td>\n",
       "      <td>pais_vasco</td>\n",
       "      <td>alegria_dulantzi/alava</td>\n",
       "      <td>alegria_dulantzi/araba</td>\n",
       "      <td>...</td>\n",
       "      <td>-1.0</td>\n",
       "      <td>-1.0</td>\n",
       "      <td>-1.0</td>\n",
       "      <td>-1.0</td>\n",
       "      <td>-1.0</td>\n",
       "      <td>-1.0</td>\n",
       "      <td>-1.0</td>\n",
       "      <td>-1.0</td>\n",
       "      <td>-1.0</td>\n",
       "      <td>-1.0</td>\n",
       "    </tr>\n",
       "    <tr>\n",
       "      <th>1</th>\n",
       "      <td>1001</td>\n",
       "      <td>01193</td>\n",
       "      <td>alegria_dulantzi</td>\n",
       "      <td>alegria_dulantzi</td>\n",
       "      <td>alava</td>\n",
       "      <td>araba</td>\n",
       "      <td>pais_vasco</td>\n",
       "      <td>pais_vasco</td>\n",
       "      <td>alegria_dulantzi/alava</td>\n",
       "      <td>alegria_dulantzi/araba</td>\n",
       "      <td>...</td>\n",
       "      <td>0.0</td>\n",
       "      <td>0.0</td>\n",
       "      <td>0.0</td>\n",
       "      <td>0.0</td>\n",
       "      <td>0.0</td>\n",
       "      <td>0.0</td>\n",
       "      <td>0.0</td>\n",
       "      <td>0.0</td>\n",
       "      <td>0.0</td>\n",
       "      <td>0.0</td>\n",
       "    </tr>\n",
       "    <tr>\n",
       "      <th>2</th>\n",
       "      <td>1002</td>\n",
       "      <td>01450</td>\n",
       "      <td>amurrio</td>\n",
       "      <td>amurrio</td>\n",
       "      <td>alava</td>\n",
       "      <td>araba</td>\n",
       "      <td>pais_vasco</td>\n",
       "      <td>pais_vasco</td>\n",
       "      <td>amurrio/alava</td>\n",
       "      <td>amurrio/araba</td>\n",
       "      <td>...</td>\n",
       "      <td>-1.0</td>\n",
       "      <td>-1.0</td>\n",
       "      <td>-1.0</td>\n",
       "      <td>-1.0</td>\n",
       "      <td>-1.0</td>\n",
       "      <td>-1.0</td>\n",
       "      <td>-1.0</td>\n",
       "      <td>-1.0</td>\n",
       "      <td>-1.0</td>\n",
       "      <td>-1.0</td>\n",
       "    </tr>\n",
       "    <tr>\n",
       "      <th>3</th>\n",
       "      <td>1002</td>\n",
       "      <td>01468</td>\n",
       "      <td>amurrio</td>\n",
       "      <td>amurrio</td>\n",
       "      <td>alava</td>\n",
       "      <td>araba</td>\n",
       "      <td>pais_vasco</td>\n",
       "      <td>pais_vasco</td>\n",
       "      <td>amurrio/alava</td>\n",
       "      <td>amurrio/araba</td>\n",
       "      <td>...</td>\n",
       "      <td>0.0</td>\n",
       "      <td>0.0</td>\n",
       "      <td>0.0</td>\n",
       "      <td>0.0</td>\n",
       "      <td>0.0</td>\n",
       "      <td>0.0</td>\n",
       "      <td>0.0</td>\n",
       "      <td>0.0</td>\n",
       "      <td>0.0</td>\n",
       "      <td>0.0</td>\n",
       "    </tr>\n",
       "    <tr>\n",
       "      <th>4</th>\n",
       "      <td>1002</td>\n",
       "      <td>01470</td>\n",
       "      <td>amurrio</td>\n",
       "      <td>amurrio</td>\n",
       "      <td>alava</td>\n",
       "      <td>araba</td>\n",
       "      <td>pais_vasco</td>\n",
       "      <td>pais_vasco</td>\n",
       "      <td>amurrio/alava</td>\n",
       "      <td>amurrio/araba</td>\n",
       "      <td>...</td>\n",
       "      <td>0.0</td>\n",
       "      <td>0.0</td>\n",
       "      <td>0.0</td>\n",
       "      <td>0.0</td>\n",
       "      <td>1.0</td>\n",
       "      <td>0.0</td>\n",
       "      <td>0.0</td>\n",
       "      <td>0.0</td>\n",
       "      <td>0.0</td>\n",
       "      <td>0.0</td>\n",
       "    </tr>\n",
       "  </tbody>\n",
       "</table>\n",
       "<p>5 rows × 63 columns</p>\n",
       "</div>"
      ],
      "text/plain": [
       "  ine_code postal_code         cities_es            cities province_es  \\\n",
       "0     1001       01240  alegria_dulantzi  alegria_dulantzi       alava   \n",
       "1     1001       01193  alegria_dulantzi  alegria_dulantzi       alava   \n",
       "2     1002       01450           amurrio           amurrio       alava   \n",
       "3     1002       01468           amurrio           amurrio       alava   \n",
       "4     1002       01470           amurrio           amurrio       alava   \n",
       "\n",
       "  province     ccaa_es        ccaa   cities_es/province_es  \\\n",
       "0    araba  pais_vasco  pais_vasco  alegria_dulantzi/alava   \n",
       "1    araba  pais_vasco  pais_vasco  alegria_dulantzi/alava   \n",
       "2    araba  pais_vasco  pais_vasco           amurrio/alava   \n",
       "3    araba  pais_vasco  pais_vasco           amurrio/alava   \n",
       "4    araba  pais_vasco  pais_vasco           amurrio/alava   \n",
       "\n",
       "       cities_es/province  ... otros_servicios palacios_de_congresos playas  \\\n",
       "0  alegria_dulantzi/araba  ...            -1.0                  -1.0   -1.0   \n",
       "1  alegria_dulantzi/araba  ...             0.0                   0.0    0.0   \n",
       "2           amurrio/araba  ...            -1.0                  -1.0   -1.0   \n",
       "3           amurrio/araba  ...             0.0                   0.0    0.0   \n",
       "4           amurrio/araba  ...             0.0                   0.0    0.0   \n",
       "\n",
       "  puertos_deportivos restaurantes_y_empresas_turísticas_de_catering  \\\n",
       "0               -1.0                                           -1.0   \n",
       "1                0.0                                            0.0   \n",
       "2               -1.0                                           -1.0   \n",
       "3                0.0                                            0.0   \n",
       "4                0.0                                            1.0   \n",
       "\n",
       "  seguridad_ciudadana servicios_de_limpieza servicios_turísticos_de_salud  \\\n",
       "0                -1.0                  -1.0                          -1.0   \n",
       "1                 0.0                   0.0                           0.0   \n",
       "2                -1.0                  -1.0                          -1.0   \n",
       "3                 0.0                   0.0                           0.0   \n",
       "4                 0.0                   0.0                           0.0   \n",
       "\n",
       "  taxis  turismo_industrial  \n",
       "0  -1.0                -1.0  \n",
       "1   0.0                 0.0  \n",
       "2  -1.0                -1.0  \n",
       "3   0.0                 0.0  \n",
       "4   0.0                 0.0  \n",
       "\n",
       "[5 rows x 63 columns]"
      ]
     },
     "execution_count": 256,
     "metadata": {},
     "output_type": "execute_result"
    }
   ],
   "source": [
    "union.head()"
   ]
  },
  {
   "cell_type": "markdown",
   "metadata": {},
   "source": [
    "#### Mar"
   ]
  },
  {
   "cell_type": "code",
   "execution_count": 257,
   "metadata": {},
   "outputs": [
    {
     "data": {
      "text/plain": [
       "(14969, 91)"
      ]
     },
     "execution_count": 257,
     "metadata": {},
     "output_type": "execute_result"
    }
   ],
   "source": [
    "union_mar = pd.read_csv(\"mar/union_parametros_mar.csv\", index_col=0, dtype={'postal_code': object, 'ine_code':object})\n",
    "union_mar.shape"
   ]
  },
  {
   "cell_type": "code",
   "execution_count": 258,
   "metadata": {
    "scrolled": false
   },
   "outputs": [
    {
     "data": {
      "text/html": [
       "<div>\n",
       "<style scoped>\n",
       "    .dataframe tbody tr th:only-of-type {\n",
       "        vertical-align: middle;\n",
       "    }\n",
       "\n",
       "    .dataframe tbody tr th {\n",
       "        vertical-align: top;\n",
       "    }\n",
       "\n",
       "    .dataframe thead th {\n",
       "        text-align: right;\n",
       "    }\n",
       "</style>\n",
       "<table border=\"1\" class=\"dataframe\">\n",
       "  <thead>\n",
       "    <tr style=\"text-align: right;\">\n",
       "      <th></th>\n",
       "      <th>ine_code</th>\n",
       "      <th>postal_code</th>\n",
       "      <th>cities_es</th>\n",
       "      <th>cities</th>\n",
       "      <th>province_es</th>\n",
       "      <th>province</th>\n",
       "      <th>ccaa_es</th>\n",
       "      <th>ccaa</th>\n",
       "      <th>cities_es/province_es</th>\n",
       "      <th>cities_es/province</th>\n",
       "      <th>...</th>\n",
       "      <th>n_des_anual</th>\n",
       "      <th>n_cub_anual</th>\n",
       "      <th>n_tor_anual</th>\n",
       "      <th>nt_00_anual</th>\n",
       "      <th>nt_30_anual</th>\n",
       "      <th>nw_55_anual</th>\n",
       "      <th>nw_91_anual</th>\n",
       "      <th>w_med_anual</th>\n",
       "      <th>ta_max_anual</th>\n",
       "      <th>ta_min_anual</th>\n",
       "    </tr>\n",
       "  </thead>\n",
       "  <tbody>\n",
       "    <tr>\n",
       "      <th>0</th>\n",
       "      <td>01001</td>\n",
       "      <td>01240</td>\n",
       "      <td>alegria_dulantzi</td>\n",
       "      <td>alegria_dulantzi</td>\n",
       "      <td>alava</td>\n",
       "      <td>araba</td>\n",
       "      <td>pais_vasco</td>\n",
       "      <td>pais_vasco</td>\n",
       "      <td>alegria_dulantzi/alava</td>\n",
       "      <td>alegria_dulantzi/araba</td>\n",
       "      <td>...</td>\n",
       "      <td>27.0</td>\n",
       "      <td>120.0</td>\n",
       "      <td>19.0</td>\n",
       "      <td>48.0</td>\n",
       "      <td>34.0</td>\n",
       "      <td>3.5</td>\n",
       "      <td>0.25</td>\n",
       "      <td>12.545455</td>\n",
       "      <td>39.7(29/jun)</td>\n",
       "      <td>-7.7(06/ene)</td>\n",
       "    </tr>\n",
       "    <tr>\n",
       "      <th>1</th>\n",
       "      <td>01001</td>\n",
       "      <td>01193</td>\n",
       "      <td>alegria_dulantzi</td>\n",
       "      <td>alegria_dulantzi</td>\n",
       "      <td>alava</td>\n",
       "      <td>araba</td>\n",
       "      <td>pais_vasco</td>\n",
       "      <td>pais_vasco</td>\n",
       "      <td>alegria_dulantzi/alava</td>\n",
       "      <td>alegria_dulantzi/araba</td>\n",
       "      <td>...</td>\n",
       "      <td>27.0</td>\n",
       "      <td>120.0</td>\n",
       "      <td>19.0</td>\n",
       "      <td>48.0</td>\n",
       "      <td>34.0</td>\n",
       "      <td>3.5</td>\n",
       "      <td>0.25</td>\n",
       "      <td>12.545455</td>\n",
       "      <td>39.7(29/jun)</td>\n",
       "      <td>-7.7(06/ene)</td>\n",
       "    </tr>\n",
       "  </tbody>\n",
       "</table>\n",
       "<p>2 rows × 91 columns</p>\n",
       "</div>"
      ],
      "text/plain": [
       "  ine_code postal_code         cities_es            cities province_es  \\\n",
       "0    01001       01240  alegria_dulantzi  alegria_dulantzi       alava   \n",
       "1    01001       01193  alegria_dulantzi  alegria_dulantzi       alava   \n",
       "\n",
       "  province     ccaa_es        ccaa   cities_es/province_es  \\\n",
       "0    araba  pais_vasco  pais_vasco  alegria_dulantzi/alava   \n",
       "1    araba  pais_vasco  pais_vasco  alegria_dulantzi/alava   \n",
       "\n",
       "       cities_es/province  ... n_des_anual n_cub_anual n_tor_anual  \\\n",
       "0  alegria_dulantzi/araba  ...        27.0       120.0        19.0   \n",
       "1  alegria_dulantzi/araba  ...        27.0       120.0        19.0   \n",
       "\n",
       "  nt_00_anual nt_30_anual nw_55_anual nw_91_anual  w_med_anual  ta_max_anual  \\\n",
       "0        48.0        34.0         3.5        0.25    12.545455  39.7(29/jun)   \n",
       "1        48.0        34.0         3.5        0.25    12.545455  39.7(29/jun)   \n",
       "\n",
       "   ta_min_anual  \n",
       "0  -7.7(06/ene)  \n",
       "1  -7.7(06/ene)  \n",
       "\n",
       "[2 rows x 91 columns]"
      ]
     },
     "execution_count": 258,
     "metadata": {},
     "output_type": "execute_result"
    }
   ],
   "source": [
    "union_mar.head(2)"
   ]
  },
  {
   "cell_type": "code",
   "execution_count": 259,
   "metadata": {},
   "outputs": [],
   "source": [
    "union_mar_dup = union_mar.drop_duplicates(subset=['postal_code', 'cities', 'province'])\n",
    "union_mar_dup = union_mar_dup[~union_mar_dup['postal_code'].isnull()]"
   ]
  },
  {
   "cell_type": "code",
   "execution_count": 260,
   "metadata": {},
   "outputs": [
    {
     "data": {
      "text/plain": [
       "(10672, 91)"
      ]
     },
     "execution_count": 260,
     "metadata": {},
     "output_type": "execute_result"
    }
   ],
   "source": [
    "union_mar_dup.shape"
   ]
  },
  {
   "cell_type": "code",
   "execution_count": 261,
   "metadata": {
    "scrolled": true
   },
   "outputs": [
    {
     "data": {
      "text/plain": [
       "Index(['ine_code', 'postal_code', 'cities_es', 'cities', 'province_es',\n",
       "       'province', 'ccaa_es', 'ccaa', 'cities_es/province_es',\n",
       "       'cities_es/province', 'cities_es/ccaa_es', 'cities_es/ccaa',\n",
       "       'cities/province_es', 'province_es/ccaa_es', 'province_es/ccaa',\n",
       "       'province/ccaa_es', 'province/ccaa', 'hombres total', 'hombres de 0-4 ',\n",
       "       'hombres de 5-9', 'hombres de 10-4 ', 'hombres de 15-19 ',\n",
       "       'hombres de 20-24', 'hombres de 25-29', 'hombres de 30-34',\n",
       "       'hombres de 35-39', 'hombres de 40-44', 'hombres de 45-49',\n",
       "       'hombres de 50-54', 'hombres de 55-59', 'hombres de 60-64',\n",
       "       'hombres de 65-69', 'hombres de 70-74', 'hombres de 75-79',\n",
       "       'hombres de 80-84', 'hombres de 85-89', 'hombres de 90-94',\n",
       "       'hombres de 95-99', 'hombres de 100 y más', 'mujeres total',\n",
       "       'mujeres de 0-4 ', 'mujeres de 5-9', 'mujeres de 10-4 ',\n",
       "       'mujeres de 15-19 ', 'mujeres de 20-24', 'mujeres de 25-29',\n",
       "       'mujeres de 30-34', 'mujeres de 35-39', 'mujeres de 40-44',\n",
       "       'mujeres de 45-49', 'mujeres de 50-54', 'mujeres de 55-59',\n",
       "       'mujeres de 60-64', 'mujeres de 65-69', 'mujeres de 70-74',\n",
       "       'mujeres de 75-79', 'mujeres de 80-84', 'mujeres de 85-89',\n",
       "       'mujeres de 90-94', 'mujeres de 95-99', 'mujeres de 100 y más',\n",
       "       'camiones_provincia', 'furgonetas_provincia', 'autobuses_provincia',\n",
       "       'turismos_provincia', 'motocicletas_provincia',\n",
       "       'tractores_industriales_provincia', 'r_y_s_provincia',\n",
       "       'otros_vehiculos_provincia', 'total_provincia', 'comunidad', 'latitud',\n",
       "       'longitud', 'altitud', 'distanica_km', 'cuidad_mas_cercana',\n",
       "       'n_llu_anual', 'n_nub_anual', 'n_nie_anual', 'n_gra_anual',\n",
       "       'n_fog_anual', 'n_des_anual', 'n_cub_anual', 'n_tor_anual',\n",
       "       'nt_00_anual', 'nt_30_anual', 'nw_55_anual', 'nw_91_anual',\n",
       "       'w_med_anual', 'ta_max_anual', 'ta_min_anual'],\n",
       "      dtype='object')"
      ]
     },
     "execution_count": 261,
     "metadata": {},
     "output_type": "execute_result"
    }
   ],
   "source": [
    "union_mar_dup.columns"
   ]
  },
  {
   "cell_type": "code",
   "execution_count": 262,
   "metadata": {},
   "outputs": [],
   "source": [
    "union_mar_dup.drop(columns=['ine_code', 'cities_es', 'cities', 'province_es',\n",
    "       'province', 'ccaa_es', 'ccaa', 'cities_es/province_es',\n",
    "       'cities_es/province', 'cities_es/ccaa_es', 'cities_es/ccaa',\n",
    "       'cities/province_es', 'province_es/ccaa_es', 'province_es/ccaa',\n",
    "       'province/ccaa_es', 'province/ccaa'], inplace=True)"
   ]
  },
  {
   "cell_type": "code",
   "execution_count": 263,
   "metadata": {},
   "outputs": [
    {
     "data": {
      "text/plain": [
       "(10672, 75)"
      ]
     },
     "execution_count": 263,
     "metadata": {},
     "output_type": "execute_result"
    }
   ],
   "source": [
    "union_mar_dup.fillna(-1, inplace=True)\n",
    "union_mar_dup.shape"
   ]
  },
  {
   "cell_type": "code",
   "execution_count": 264,
   "metadata": {},
   "outputs": [],
   "source": [
    "union2 = pd.merge(union, union_mar_dup, left_on='postal_code', right_on='postal_code', how='left')"
   ]
  },
  {
   "cell_type": "code",
   "execution_count": 265,
   "metadata": {},
   "outputs": [
    {
     "data": {
      "text/plain": [
       "(14313, 137)"
      ]
     },
     "execution_count": 265,
     "metadata": {},
     "output_type": "execute_result"
    }
   ],
   "source": [
    "union2.shape"
   ]
  },
  {
   "cell_type": "code",
   "execution_count": 266,
   "metadata": {
    "scrolled": false
   },
   "outputs": [
    {
     "data": {
      "text/html": [
       "<div>\n",
       "<style scoped>\n",
       "    .dataframe tbody tr th:only-of-type {\n",
       "        vertical-align: middle;\n",
       "    }\n",
       "\n",
       "    .dataframe tbody tr th {\n",
       "        vertical-align: top;\n",
       "    }\n",
       "\n",
       "    .dataframe thead th {\n",
       "        text-align: right;\n",
       "    }\n",
       "</style>\n",
       "<table border=\"1\" class=\"dataframe\">\n",
       "  <thead>\n",
       "    <tr style=\"text-align: right;\">\n",
       "      <th></th>\n",
       "      <th>ine_code</th>\n",
       "      <th>postal_code</th>\n",
       "      <th>cities_es</th>\n",
       "      <th>cities</th>\n",
       "      <th>province_es</th>\n",
       "      <th>province</th>\n",
       "      <th>ccaa_es</th>\n",
       "      <th>ccaa</th>\n",
       "      <th>cities_es/province_es</th>\n",
       "      <th>cities_es/province</th>\n",
       "      <th>...</th>\n",
       "      <th>n_des_anual</th>\n",
       "      <th>n_cub_anual</th>\n",
       "      <th>n_tor_anual</th>\n",
       "      <th>nt_00_anual</th>\n",
       "      <th>nt_30_anual</th>\n",
       "      <th>nw_55_anual</th>\n",
       "      <th>nw_91_anual</th>\n",
       "      <th>w_med_anual</th>\n",
       "      <th>ta_max_anual</th>\n",
       "      <th>ta_min_anual</th>\n",
       "    </tr>\n",
       "  </thead>\n",
       "  <tbody>\n",
       "    <tr>\n",
       "      <th>0</th>\n",
       "      <td>1001</td>\n",
       "      <td>01240</td>\n",
       "      <td>alegria_dulantzi</td>\n",
       "      <td>alegria_dulantzi</td>\n",
       "      <td>alava</td>\n",
       "      <td>araba</td>\n",
       "      <td>pais_vasco</td>\n",
       "      <td>pais_vasco</td>\n",
       "      <td>alegria_dulantzi/alava</td>\n",
       "      <td>alegria_dulantzi/araba</td>\n",
       "      <td>...</td>\n",
       "      <td>27.0</td>\n",
       "      <td>120.0</td>\n",
       "      <td>19.0</td>\n",
       "      <td>48.0</td>\n",
       "      <td>34.0</td>\n",
       "      <td>3.5</td>\n",
       "      <td>0.25</td>\n",
       "      <td>12.545455</td>\n",
       "      <td>39.7(29/jun)</td>\n",
       "      <td>-7.7(06/ene)</td>\n",
       "    </tr>\n",
       "    <tr>\n",
       "      <th>1</th>\n",
       "      <td>1001</td>\n",
       "      <td>01193</td>\n",
       "      <td>alegria_dulantzi</td>\n",
       "      <td>alegria_dulantzi</td>\n",
       "      <td>alava</td>\n",
       "      <td>araba</td>\n",
       "      <td>pais_vasco</td>\n",
       "      <td>pais_vasco</td>\n",
       "      <td>alegria_dulantzi/alava</td>\n",
       "      <td>alegria_dulantzi/araba</td>\n",
       "      <td>...</td>\n",
       "      <td>27.0</td>\n",
       "      <td>120.0</td>\n",
       "      <td>19.0</td>\n",
       "      <td>48.0</td>\n",
       "      <td>34.0</td>\n",
       "      <td>3.5</td>\n",
       "      <td>0.25</td>\n",
       "      <td>12.545455</td>\n",
       "      <td>39.7(29/jun)</td>\n",
       "      <td>-7.7(06/ene)</td>\n",
       "    </tr>\n",
       "    <tr>\n",
       "      <th>2</th>\n",
       "      <td>1002</td>\n",
       "      <td>01450</td>\n",
       "      <td>amurrio</td>\n",
       "      <td>amurrio</td>\n",
       "      <td>alava</td>\n",
       "      <td>araba</td>\n",
       "      <td>pais_vasco</td>\n",
       "      <td>pais_vasco</td>\n",
       "      <td>amurrio/alava</td>\n",
       "      <td>amurrio/araba</td>\n",
       "      <td>...</td>\n",
       "      <td>27.0</td>\n",
       "      <td>120.0</td>\n",
       "      <td>19.0</td>\n",
       "      <td>48.0</td>\n",
       "      <td>34.0</td>\n",
       "      <td>3.5</td>\n",
       "      <td>0.25</td>\n",
       "      <td>12.545455</td>\n",
       "      <td>39.7(29/jun)</td>\n",
       "      <td>-7.7(06/ene)</td>\n",
       "    </tr>\n",
       "    <tr>\n",
       "      <th>3</th>\n",
       "      <td>1002</td>\n",
       "      <td>01468</td>\n",
       "      <td>amurrio</td>\n",
       "      <td>amurrio</td>\n",
       "      <td>alava</td>\n",
       "      <td>araba</td>\n",
       "      <td>pais_vasco</td>\n",
       "      <td>pais_vasco</td>\n",
       "      <td>amurrio/alava</td>\n",
       "      <td>amurrio/araba</td>\n",
       "      <td>...</td>\n",
       "      <td>27.0</td>\n",
       "      <td>120.0</td>\n",
       "      <td>19.0</td>\n",
       "      <td>48.0</td>\n",
       "      <td>34.0</td>\n",
       "      <td>3.5</td>\n",
       "      <td>0.25</td>\n",
       "      <td>12.545455</td>\n",
       "      <td>39.7(29/jun)</td>\n",
       "      <td>-7.7(06/ene)</td>\n",
       "    </tr>\n",
       "    <tr>\n",
       "      <th>4</th>\n",
       "      <td>1002</td>\n",
       "      <td>01470</td>\n",
       "      <td>amurrio</td>\n",
       "      <td>amurrio</td>\n",
       "      <td>alava</td>\n",
       "      <td>araba</td>\n",
       "      <td>pais_vasco</td>\n",
       "      <td>pais_vasco</td>\n",
       "      <td>amurrio/alava</td>\n",
       "      <td>amurrio/araba</td>\n",
       "      <td>...</td>\n",
       "      <td>27.0</td>\n",
       "      <td>120.0</td>\n",
       "      <td>19.0</td>\n",
       "      <td>48.0</td>\n",
       "      <td>34.0</td>\n",
       "      <td>3.5</td>\n",
       "      <td>0.25</td>\n",
       "      <td>12.545455</td>\n",
       "      <td>39.7(29/jun)</td>\n",
       "      <td>-7.7(06/ene)</td>\n",
       "    </tr>\n",
       "  </tbody>\n",
       "</table>\n",
       "<p>5 rows × 137 columns</p>\n",
       "</div>"
      ],
      "text/plain": [
       "  ine_code postal_code         cities_es            cities province_es  \\\n",
       "0     1001       01240  alegria_dulantzi  alegria_dulantzi       alava   \n",
       "1     1001       01193  alegria_dulantzi  alegria_dulantzi       alava   \n",
       "2     1002       01450           amurrio           amurrio       alava   \n",
       "3     1002       01468           amurrio           amurrio       alava   \n",
       "4     1002       01470           amurrio           amurrio       alava   \n",
       "\n",
       "  province     ccaa_es        ccaa   cities_es/province_es  \\\n",
       "0    araba  pais_vasco  pais_vasco  alegria_dulantzi/alava   \n",
       "1    araba  pais_vasco  pais_vasco  alegria_dulantzi/alava   \n",
       "2    araba  pais_vasco  pais_vasco           amurrio/alava   \n",
       "3    araba  pais_vasco  pais_vasco           amurrio/alava   \n",
       "4    araba  pais_vasco  pais_vasco           amurrio/alava   \n",
       "\n",
       "       cities_es/province  ... n_des_anual n_cub_anual n_tor_anual  \\\n",
       "0  alegria_dulantzi/araba  ...        27.0       120.0        19.0   \n",
       "1  alegria_dulantzi/araba  ...        27.0       120.0        19.0   \n",
       "2           amurrio/araba  ...        27.0       120.0        19.0   \n",
       "3           amurrio/araba  ...        27.0       120.0        19.0   \n",
       "4           amurrio/araba  ...        27.0       120.0        19.0   \n",
       "\n",
       "  nt_00_anual nt_30_anual nw_55_anual nw_91_anual w_med_anual  ta_max_anual  \\\n",
       "0        48.0        34.0         3.5        0.25   12.545455  39.7(29/jun)   \n",
       "1        48.0        34.0         3.5        0.25   12.545455  39.7(29/jun)   \n",
       "2        48.0        34.0         3.5        0.25   12.545455  39.7(29/jun)   \n",
       "3        48.0        34.0         3.5        0.25   12.545455  39.7(29/jun)   \n",
       "4        48.0        34.0         3.5        0.25   12.545455  39.7(29/jun)   \n",
       "\n",
       "   ta_min_anual  \n",
       "0  -7.7(06/ene)  \n",
       "1  -7.7(06/ene)  \n",
       "2  -7.7(06/ene)  \n",
       "3  -7.7(06/ene)  \n",
       "4  -7.7(06/ene)  \n",
       "\n",
       "[5 rows x 137 columns]"
      ]
     },
     "execution_count": 266,
     "metadata": {},
     "output_type": "execute_result"
    }
   ],
   "source": [
    "union2.head()"
   ]
  },
  {
   "cell_type": "code",
   "execution_count": null,
   "metadata": {},
   "outputs": [],
   "source": []
  },
  {
   "cell_type": "markdown",
   "metadata": {},
   "source": [
    "#### Sandra"
   ]
  },
  {
   "cell_type": "code",
   "execution_count": 267,
   "metadata": {},
   "outputs": [
    {
     "data": {
      "text/plain": [
       "(16052, 27)"
      ]
     },
     "execution_count": 267,
     "metadata": {},
     "output_type": "execute_result"
    }
   ],
   "source": [
    "union_sandra = pd.read_csv(\"Sandra/union_ficheros_sandra.csv\", index_col=0, dtype={'postal_code': object, 'ine_code':object})\n",
    "union_sandra.shape"
   ]
  },
  {
   "cell_type": "code",
   "execution_count": 268,
   "metadata": {
    "scrolled": false
   },
   "outputs": [
    {
     "data": {
      "text/html": [
       "<div>\n",
       "<style scoped>\n",
       "    .dataframe tbody tr th:only-of-type {\n",
       "        vertical-align: middle;\n",
       "    }\n",
       "\n",
       "    .dataframe tbody tr th {\n",
       "        vertical-align: top;\n",
       "    }\n",
       "\n",
       "    .dataframe thead th {\n",
       "        text-align: right;\n",
       "    }\n",
       "</style>\n",
       "<table border=\"1\" class=\"dataframe\">\n",
       "  <thead>\n",
       "    <tr style=\"text-align: right;\">\n",
       "      <th></th>\n",
       "      <th>ine_code</th>\n",
       "      <th>CP_AT</th>\n",
       "      <th>postal_code</th>\n",
       "      <th>cities_es</th>\n",
       "      <th>cities</th>\n",
       "      <th>province_es</th>\n",
       "      <th>province</th>\n",
       "      <th>ccaa_es</th>\n",
       "      <th>ccaa</th>\n",
       "      <th>cities_es/province_es</th>\n",
       "      <th>...</th>\n",
       "      <th>province/ccaa</th>\n",
       "      <th>cp/citie</th>\n",
       "      <th>CP</th>\n",
       "      <th>Municipio</th>\n",
       "      <th>CP/Municipio</th>\n",
       "      <th>Total Comercios</th>\n",
       "      <th>Total servicios</th>\n",
       "      <th>n_habitantes</th>\n",
       "      <th>Renta_disponible</th>\n",
       "      <th>PIB pm</th>\n",
       "    </tr>\n",
       "  </thead>\n",
       "  <tbody>\n",
       "    <tr>\n",
       "      <th>0</th>\n",
       "      <td>1001</td>\n",
       "      <td>NaN</td>\n",
       "      <td>01240</td>\n",
       "      <td>alegria_dulantzi</td>\n",
       "      <td>alegria_dulantzi</td>\n",
       "      <td>alava</td>\n",
       "      <td>araba</td>\n",
       "      <td>pais_vasco</td>\n",
       "      <td>pais_vasco</td>\n",
       "      <td>alegria_dulantzi/alava</td>\n",
       "      <td>...</td>\n",
       "      <td>araba/pais_vasco</td>\n",
       "      <td>01240/alegria_dulantzi</td>\n",
       "      <td>NaN</td>\n",
       "      <td>NaN</td>\n",
       "      <td>NaN</td>\n",
       "      <td>NaN</td>\n",
       "      <td>NaN</td>\n",
       "      <td>NaN</td>\n",
       "      <td>NaN</td>\n",
       "      <td>NaN</td>\n",
       "    </tr>\n",
       "    <tr>\n",
       "      <th>1</th>\n",
       "      <td>1001</td>\n",
       "      <td>NaN</td>\n",
       "      <td>01193</td>\n",
       "      <td>alegria_dulantzi</td>\n",
       "      <td>alegria_dulantzi</td>\n",
       "      <td>alava</td>\n",
       "      <td>araba</td>\n",
       "      <td>pais_vasco</td>\n",
       "      <td>pais_vasco</td>\n",
       "      <td>alegria_dulantzi/alava</td>\n",
       "      <td>...</td>\n",
       "      <td>araba/pais_vasco</td>\n",
       "      <td>01193/alegria_dulantzi</td>\n",
       "      <td>NaN</td>\n",
       "      <td>NaN</td>\n",
       "      <td>NaN</td>\n",
       "      <td>NaN</td>\n",
       "      <td>NaN</td>\n",
       "      <td>NaN</td>\n",
       "      <td>NaN</td>\n",
       "      <td>NaN</td>\n",
       "    </tr>\n",
       "  </tbody>\n",
       "</table>\n",
       "<p>2 rows × 27 columns</p>\n",
       "</div>"
      ],
      "text/plain": [
       "  ine_code  CP_AT postal_code         cities_es            cities province_es  \\\n",
       "0     1001    NaN       01240  alegria_dulantzi  alegria_dulantzi       alava   \n",
       "1     1001    NaN       01193  alegria_dulantzi  alegria_dulantzi       alava   \n",
       "\n",
       "  province     ccaa_es        ccaa   cities_es/province_es  ...  \\\n",
       "0    araba  pais_vasco  pais_vasco  alegria_dulantzi/alava  ...   \n",
       "1    araba  pais_vasco  pais_vasco  alegria_dulantzi/alava  ...   \n",
       "\n",
       "      province/ccaa                cp/citie  CP Municipio CP/Municipio  \\\n",
       "0  araba/pais_vasco  01240/alegria_dulantzi NaN       NaN          NaN   \n",
       "1  araba/pais_vasco  01193/alegria_dulantzi NaN       NaN          NaN   \n",
       "\n",
       "  Total Comercios Total servicios n_habitantes Renta_disponible  PIB pm  \n",
       "0             NaN             NaN          NaN              NaN     NaN  \n",
       "1             NaN             NaN          NaN              NaN     NaN  \n",
       "\n",
       "[2 rows x 27 columns]"
      ]
     },
     "execution_count": 268,
     "metadata": {},
     "output_type": "execute_result"
    }
   ],
   "source": [
    "union_sandra.head(2)"
   ]
  },
  {
   "cell_type": "code",
   "execution_count": 269,
   "metadata": {},
   "outputs": [],
   "source": [
    "union_sandra_dup = union_sandra.drop_duplicates(subset=['postal_code', 'cities', 'province'])\n",
    "#union_sandra_dup = union_sandra_dup[~union_mar_dup['postal_code'].isnull()]"
   ]
  },
  {
   "cell_type": "code",
   "execution_count": 270,
   "metadata": {},
   "outputs": [
    {
     "data": {
      "text/plain": [
       "(10673, 27)"
      ]
     },
     "execution_count": 270,
     "metadata": {},
     "output_type": "execute_result"
    }
   ],
   "source": [
    "union_sandra_dup.shape"
   ]
  },
  {
   "cell_type": "code",
   "execution_count": 271,
   "metadata": {
    "scrolled": true
   },
   "outputs": [
    {
     "data": {
      "text/plain": [
       "Index(['ine_code', 'CP_AT', 'postal_code', 'cities_es', 'cities',\n",
       "       'province_es', 'province', 'ccaa_es', 'ccaa', 'cities_es/province_es',\n",
       "       'cities_es/province', 'cities_es/ccaa_es', 'cities_es/ccaa',\n",
       "       'cities/province_es', 'province_es/ccaa_es', 'province_es/ccaa',\n",
       "       'province/ccaa_es', 'province/ccaa', 'cp/citie', 'CP', 'Municipio',\n",
       "       'CP/Municipio', 'Total Comercios', 'Total servicios', 'n_habitantes',\n",
       "       'Renta_disponible', 'PIB pm'],\n",
       "      dtype='object')"
      ]
     },
     "execution_count": 271,
     "metadata": {},
     "output_type": "execute_result"
    }
   ],
   "source": [
    "union_sandra_dup.columns"
   ]
  },
  {
   "cell_type": "code",
   "execution_count": 272,
   "metadata": {},
   "outputs": [
    {
     "name": "stderr",
     "output_type": "stream",
     "text": [
      "/home/patcalsi/miniconda/envs/exodus/lib/python3.8/site-packages/pandas/core/frame.py:3990: SettingWithCopyWarning: \n",
      "A value is trying to be set on a copy of a slice from a DataFrame\n",
      "\n",
      "See the caveats in the documentation: https://pandas.pydata.org/pandas-docs/stable/user_guide/indexing.html#returning-a-view-versus-a-copy\n",
      "  return super().drop(\n"
     ]
    }
   ],
   "source": [
    "union_sandra_dup.drop(columns=['ine_code', 'cities_es', 'cities', 'province_es',\n",
    "       'province', 'ccaa_es', 'ccaa', 'cities_es/province_es',\n",
    "       'cities_es/province', 'cities_es/ccaa_es', 'cities_es/ccaa',\n",
    "       'cities/province_es', 'province_es/ccaa_es', 'province_es/ccaa',\n",
    "       'province/ccaa_es', 'province/ccaa', 'CP_AT', 'Municipio', 'CP/Municipio', 'CP'], inplace=True)"
   ]
  },
  {
   "cell_type": "code",
   "execution_count": 273,
   "metadata": {},
   "outputs": [
    {
     "name": "stderr",
     "output_type": "stream",
     "text": [
      "/home/patcalsi/miniconda/envs/exodus/lib/python3.8/site-packages/pandas/core/frame.py:4147: SettingWithCopyWarning: \n",
      "A value is trying to be set on a copy of a slice from a DataFrame\n",
      "\n",
      "See the caveats in the documentation: https://pandas.pydata.org/pandas-docs/stable/user_guide/indexing.html#returning-a-view-versus-a-copy\n",
      "  return super().fillna(\n"
     ]
    },
    {
     "data": {
      "text/plain": [
       "(10673, 7)"
      ]
     },
     "execution_count": 273,
     "metadata": {},
     "output_type": "execute_result"
    }
   ],
   "source": [
    "union_sandra_dup.fillna(-1, inplace=True)\n",
    "union_sandra_dup.shape"
   ]
  },
  {
   "cell_type": "code",
   "execution_count": 274,
   "metadata": {},
   "outputs": [],
   "source": [
    "union3 = pd.merge(union2, union_sandra_dup, left_on='postal_code', right_on='postal_code', how='left')"
   ]
  },
  {
   "cell_type": "code",
   "execution_count": 290,
   "metadata": {},
   "outputs": [
    {
     "data": {
      "text/plain": [
       "(10672, 143)"
      ]
     },
     "execution_count": 290,
     "metadata": {},
     "output_type": "execute_result"
    }
   ],
   "source": [
    "union3.shape"
   ]
  },
  {
   "cell_type": "code",
   "execution_count": 288,
   "metadata": {},
   "outputs": [],
   "source": [
    "union3 = union3.drop_duplicates(subset=['postal_code', 'cities', 'province'])"
   ]
  },
  {
   "cell_type": "code",
   "execution_count": 289,
   "metadata": {
    "scrolled": true
   },
   "outputs": [
    {
     "data": {
      "text/html": [
       "<div>\n",
       "<style scoped>\n",
       "    .dataframe tbody tr th:only-of-type {\n",
       "        vertical-align: middle;\n",
       "    }\n",
       "\n",
       "    .dataframe tbody tr th {\n",
       "        vertical-align: top;\n",
       "    }\n",
       "\n",
       "    .dataframe thead th {\n",
       "        text-align: right;\n",
       "    }\n",
       "</style>\n",
       "<table border=\"1\" class=\"dataframe\">\n",
       "  <thead>\n",
       "    <tr style=\"text-align: right;\">\n",
       "      <th></th>\n",
       "      <th>ine_code</th>\n",
       "      <th>postal_code</th>\n",
       "      <th>cities_es</th>\n",
       "      <th>cities</th>\n",
       "      <th>province_es</th>\n",
       "      <th>province</th>\n",
       "      <th>ccaa_es</th>\n",
       "      <th>ccaa</th>\n",
       "      <th>cities_es/province_es</th>\n",
       "      <th>cities_es/province</th>\n",
       "      <th>...</th>\n",
       "      <th>nw_91_anual</th>\n",
       "      <th>w_med_anual</th>\n",
       "      <th>ta_max_anual</th>\n",
       "      <th>ta_min_anual</th>\n",
       "      <th>cp/citie</th>\n",
       "      <th>Total Comercios</th>\n",
       "      <th>Total servicios</th>\n",
       "      <th>n_habitantes</th>\n",
       "      <th>Renta_disponible</th>\n",
       "      <th>PIB pm</th>\n",
       "    </tr>\n",
       "  </thead>\n",
       "  <tbody>\n",
       "    <tr>\n",
       "      <th>0</th>\n",
       "      <td>1001</td>\n",
       "      <td>01240</td>\n",
       "      <td>alegria_dulantzi</td>\n",
       "      <td>alegria_dulantzi</td>\n",
       "      <td>alava</td>\n",
       "      <td>araba</td>\n",
       "      <td>pais_vasco</td>\n",
       "      <td>pais_vasco</td>\n",
       "      <td>alegria_dulantzi/alava</td>\n",
       "      <td>alegria_dulantzi/araba</td>\n",
       "      <td>...</td>\n",
       "      <td>0.25</td>\n",
       "      <td>12.545455</td>\n",
       "      <td>39.7(29/jun)</td>\n",
       "      <td>-7.7(06/ene)</td>\n",
       "      <td>01240/alegria_dulantzi</td>\n",
       "      <td>-1.0</td>\n",
       "      <td>-1</td>\n",
       "      <td>-1.0</td>\n",
       "      <td>-1.0</td>\n",
       "      <td>-1.0</td>\n",
       "    </tr>\n",
       "    <tr>\n",
       "      <th>1</th>\n",
       "      <td>1001</td>\n",
       "      <td>01193</td>\n",
       "      <td>alegria_dulantzi</td>\n",
       "      <td>alegria_dulantzi</td>\n",
       "      <td>alava</td>\n",
       "      <td>araba</td>\n",
       "      <td>pais_vasco</td>\n",
       "      <td>pais_vasco</td>\n",
       "      <td>alegria_dulantzi/alava</td>\n",
       "      <td>alegria_dulantzi/araba</td>\n",
       "      <td>...</td>\n",
       "      <td>0.25</td>\n",
       "      <td>12.545455</td>\n",
       "      <td>39.7(29/jun)</td>\n",
       "      <td>-7.7(06/ene)</td>\n",
       "      <td>01193/alegria_dulantzi</td>\n",
       "      <td>-1.0</td>\n",
       "      <td>-1</td>\n",
       "      <td>-1.0</td>\n",
       "      <td>-1.0</td>\n",
       "      <td>-1.0</td>\n",
       "    </tr>\n",
       "    <tr>\n",
       "      <th>2</th>\n",
       "      <td>1002</td>\n",
       "      <td>01450</td>\n",
       "      <td>amurrio</td>\n",
       "      <td>amurrio</td>\n",
       "      <td>alava</td>\n",
       "      <td>araba</td>\n",
       "      <td>pais_vasco</td>\n",
       "      <td>pais_vasco</td>\n",
       "      <td>amurrio/alava</td>\n",
       "      <td>amurrio/araba</td>\n",
       "      <td>...</td>\n",
       "      <td>0.25</td>\n",
       "      <td>12.545455</td>\n",
       "      <td>39.7(29/jun)</td>\n",
       "      <td>-7.7(06/ene)</td>\n",
       "      <td>01450/amurrio</td>\n",
       "      <td>-1.0</td>\n",
       "      <td>-1</td>\n",
       "      <td>-1.0</td>\n",
       "      <td>-1.0</td>\n",
       "      <td>-1.0</td>\n",
       "    </tr>\n",
       "    <tr>\n",
       "      <th>3</th>\n",
       "      <td>1002</td>\n",
       "      <td>01468</td>\n",
       "      <td>amurrio</td>\n",
       "      <td>amurrio</td>\n",
       "      <td>alava</td>\n",
       "      <td>araba</td>\n",
       "      <td>pais_vasco</td>\n",
       "      <td>pais_vasco</td>\n",
       "      <td>amurrio/alava</td>\n",
       "      <td>amurrio/araba</td>\n",
       "      <td>...</td>\n",
       "      <td>0.25</td>\n",
       "      <td>12.545455</td>\n",
       "      <td>39.7(29/jun)</td>\n",
       "      <td>-7.7(06/ene)</td>\n",
       "      <td>01468/amurrio</td>\n",
       "      <td>-1.0</td>\n",
       "      <td>-1</td>\n",
       "      <td>-1.0</td>\n",
       "      <td>-1.0</td>\n",
       "      <td>-1.0</td>\n",
       "    </tr>\n",
       "    <tr>\n",
       "      <th>4</th>\n",
       "      <td>1002</td>\n",
       "      <td>01470</td>\n",
       "      <td>amurrio</td>\n",
       "      <td>amurrio</td>\n",
       "      <td>alava</td>\n",
       "      <td>araba</td>\n",
       "      <td>pais_vasco</td>\n",
       "      <td>pais_vasco</td>\n",
       "      <td>amurrio/alava</td>\n",
       "      <td>amurrio/araba</td>\n",
       "      <td>...</td>\n",
       "      <td>0.25</td>\n",
       "      <td>12.545455</td>\n",
       "      <td>39.7(29/jun)</td>\n",
       "      <td>-7.7(06/ene)</td>\n",
       "      <td>01470/amurrio</td>\n",
       "      <td>-1.0</td>\n",
       "      <td>-1</td>\n",
       "      <td>-1.0</td>\n",
       "      <td>-1.0</td>\n",
       "      <td>-1.0</td>\n",
       "    </tr>\n",
       "  </tbody>\n",
       "</table>\n",
       "<p>5 rows × 143 columns</p>\n",
       "</div>"
      ],
      "text/plain": [
       "  ine_code postal_code         cities_es            cities province_es  \\\n",
       "0     1001       01240  alegria_dulantzi  alegria_dulantzi       alava   \n",
       "1     1001       01193  alegria_dulantzi  alegria_dulantzi       alava   \n",
       "2     1002       01450           amurrio           amurrio       alava   \n",
       "3     1002       01468           amurrio           amurrio       alava   \n",
       "4     1002       01470           amurrio           amurrio       alava   \n",
       "\n",
       "  province     ccaa_es        ccaa   cities_es/province_es  \\\n",
       "0    araba  pais_vasco  pais_vasco  alegria_dulantzi/alava   \n",
       "1    araba  pais_vasco  pais_vasco  alegria_dulantzi/alava   \n",
       "2    araba  pais_vasco  pais_vasco           amurrio/alava   \n",
       "3    araba  pais_vasco  pais_vasco           amurrio/alava   \n",
       "4    araba  pais_vasco  pais_vasco           amurrio/alava   \n",
       "\n",
       "       cities_es/province  ... nw_91_anual w_med_anual  ta_max_anual  \\\n",
       "0  alegria_dulantzi/araba  ...        0.25   12.545455  39.7(29/jun)   \n",
       "1  alegria_dulantzi/araba  ...        0.25   12.545455  39.7(29/jun)   \n",
       "2           amurrio/araba  ...        0.25   12.545455  39.7(29/jun)   \n",
       "3           amurrio/araba  ...        0.25   12.545455  39.7(29/jun)   \n",
       "4           amurrio/araba  ...        0.25   12.545455  39.7(29/jun)   \n",
       "\n",
       "   ta_min_anual                cp/citie Total Comercios Total servicios  \\\n",
       "0  -7.7(06/ene)  01240/alegria_dulantzi            -1.0              -1   \n",
       "1  -7.7(06/ene)  01193/alegria_dulantzi            -1.0              -1   \n",
       "2  -7.7(06/ene)           01450/amurrio            -1.0              -1   \n",
       "3  -7.7(06/ene)           01468/amurrio            -1.0              -1   \n",
       "4  -7.7(06/ene)           01470/amurrio            -1.0              -1   \n",
       "\n",
       "  n_habitantes Renta_disponible  PIB pm  \n",
       "0         -1.0             -1.0    -1.0  \n",
       "1         -1.0             -1.0    -1.0  \n",
       "2         -1.0             -1.0    -1.0  \n",
       "3         -1.0             -1.0    -1.0  \n",
       "4         -1.0             -1.0    -1.0  \n",
       "\n",
       "[5 rows x 143 columns]"
      ]
     },
     "execution_count": 289,
     "metadata": {},
     "output_type": "execute_result"
    }
   ],
   "source": [
    "union3.head()"
   ]
  },
  {
   "cell_type": "code",
   "execution_count": null,
   "metadata": {},
   "outputs": [],
   "source": []
  },
  {
   "cell_type": "markdown",
   "metadata": {},
   "source": [
    "#### Guille"
   ]
  },
  {
   "cell_type": "code",
   "execution_count": 302,
   "metadata": {},
   "outputs": [
    {
     "data": {
      "text/plain": [
       "(15473, 26)"
      ]
     },
     "execution_count": 302,
     "metadata": {},
     "output_type": "execute_result"
    }
   ],
   "source": [
    "union_guille = pd.read_csv(\"Guille/union_guille.csv\", dtype={'postal_code': object, 'ine_code':object})\n",
    "union_guille.shape"
   ]
  },
  {
   "cell_type": "code",
   "execution_count": 303,
   "metadata": {
    "scrolled": false
   },
   "outputs": [
    {
     "data": {
      "text/html": [
       "<div>\n",
       "<style scoped>\n",
       "    .dataframe tbody tr th:only-of-type {\n",
       "        vertical-align: middle;\n",
       "    }\n",
       "\n",
       "    .dataframe tbody tr th {\n",
       "        vertical-align: top;\n",
       "    }\n",
       "\n",
       "    .dataframe thead th {\n",
       "        text-align: right;\n",
       "    }\n",
       "</style>\n",
       "<table border=\"1\" class=\"dataframe\">\n",
       "  <thead>\n",
       "    <tr style=\"text-align: right;\">\n",
       "      <th></th>\n",
       "      <th>ine_code</th>\n",
       "      <th>postal_code</th>\n",
       "      <th>cities_es</th>\n",
       "      <th>cities</th>\n",
       "      <th>province_es</th>\n",
       "      <th>province</th>\n",
       "      <th>ccaa_es</th>\n",
       "      <th>ccaa</th>\n",
       "      <th>cities_es/province_es</th>\n",
       "      <th>cities_es/province</th>\n",
       "      <th>...</th>\n",
       "      <th>province/ccaa</th>\n",
       "      <th>Total: Millones vehículos-km</th>\n",
       "      <th>porcentaje_carreteras_ccaa_y_estado</th>\n",
       "      <th>bus_based_companies_count</th>\n",
       "      <th>Calidad_Cobertura_fija&amp;movil_%</th>\n",
       "      <th>accessibility_mean</th>\n",
       "      <th>numero_estaciones</th>\n",
       "      <th>ave</th>\n",
       "      <th>cercanias</th>\n",
       "      <th>feve</th>\n",
       "    </tr>\n",
       "  </thead>\n",
       "  <tbody>\n",
       "    <tr>\n",
       "      <th>0</th>\n",
       "      <td>1001</td>\n",
       "      <td>01240</td>\n",
       "      <td>alegria_dulantzi</td>\n",
       "      <td>alegria_dulantzi</td>\n",
       "      <td>alava</td>\n",
       "      <td>araba</td>\n",
       "      <td>pais_vasco</td>\n",
       "      <td>pais_vasco</td>\n",
       "      <td>alegria_dulantzi/alava</td>\n",
       "      <td>alegria_dulantzi/araba</td>\n",
       "      <td>...</td>\n",
       "      <td>araba/pais_vasco</td>\n",
       "      <td>1869.3</td>\n",
       "      <td>0.832942</td>\n",
       "      <td>NaN</td>\n",
       "      <td>65.0</td>\n",
       "      <td>18.406372</td>\n",
       "      <td>1.0</td>\n",
       "      <td>NO</td>\n",
       "      <td>NO</td>\n",
       "      <td>NO</td>\n",
       "    </tr>\n",
       "    <tr>\n",
       "      <th>1</th>\n",
       "      <td>1001</td>\n",
       "      <td>01193</td>\n",
       "      <td>alegria_dulantzi</td>\n",
       "      <td>alegria_dulantzi</td>\n",
       "      <td>alava</td>\n",
       "      <td>araba</td>\n",
       "      <td>pais_vasco</td>\n",
       "      <td>pais_vasco</td>\n",
       "      <td>alegria_dulantzi/alava</td>\n",
       "      <td>alegria_dulantzi/araba</td>\n",
       "      <td>...</td>\n",
       "      <td>araba/pais_vasco</td>\n",
       "      <td>1869.3</td>\n",
       "      <td>0.832942</td>\n",
       "      <td>NaN</td>\n",
       "      <td>65.0</td>\n",
       "      <td>18.406372</td>\n",
       "      <td>1.0</td>\n",
       "      <td>NO</td>\n",
       "      <td>NO</td>\n",
       "      <td>NO</td>\n",
       "    </tr>\n",
       "  </tbody>\n",
       "</table>\n",
       "<p>2 rows × 26 columns</p>\n",
       "</div>"
      ],
      "text/plain": [
       "  ine_code postal_code         cities_es            cities province_es  \\\n",
       "0     1001       01240  alegria_dulantzi  alegria_dulantzi       alava   \n",
       "1     1001       01193  alegria_dulantzi  alegria_dulantzi       alava   \n",
       "\n",
       "  province     ccaa_es        ccaa   cities_es/province_es  \\\n",
       "0    araba  pais_vasco  pais_vasco  alegria_dulantzi/alava   \n",
       "1    araba  pais_vasco  pais_vasco  alegria_dulantzi/alava   \n",
       "\n",
       "       cities_es/province  ...     province/ccaa Total: Millones vehículos-km  \\\n",
       "0  alegria_dulantzi/araba  ...  araba/pais_vasco                       1869.3   \n",
       "1  alegria_dulantzi/araba  ...  araba/pais_vasco                       1869.3   \n",
       "\n",
       "  porcentaje_carreteras_ccaa_y_estado bus_based_companies_count  \\\n",
       "0                            0.832942                       NaN   \n",
       "1                            0.832942                       NaN   \n",
       "\n",
       "  Calidad_Cobertura_fija&movil_% accessibility_mean numero_estaciones  ave  \\\n",
       "0                           65.0          18.406372               1.0   NO   \n",
       "1                           65.0          18.406372               1.0   NO   \n",
       "\n",
       "   cercanias  feve  \n",
       "0         NO    NO  \n",
       "1         NO    NO  \n",
       "\n",
       "[2 rows x 26 columns]"
      ]
     },
     "execution_count": 303,
     "metadata": {},
     "output_type": "execute_result"
    }
   ],
   "source": [
    "union_guille.head(2)"
   ]
  },
  {
   "cell_type": "code",
   "execution_count": 304,
   "metadata": {},
   "outputs": [],
   "source": [
    "union_guille_dup = union_guille.drop_duplicates(subset=['postal_code', 'cities', 'province'])\n",
    "union_guille_dup = union_guille[~union_guille['postal_code'].isnull()]"
   ]
  },
  {
   "cell_type": "code",
   "execution_count": 305,
   "metadata": {},
   "outputs": [
    {
     "data": {
      "text/plain": [
       "(15032, 26)"
      ]
     },
     "execution_count": 305,
     "metadata": {},
     "output_type": "execute_result"
    }
   ],
   "source": [
    "union_guille_dup.shape"
   ]
  },
  {
   "cell_type": "code",
   "execution_count": 306,
   "metadata": {
    "scrolled": false
   },
   "outputs": [
    {
     "data": {
      "text/plain": [
       "Index(['ine_code', 'postal_code', 'cities_es', 'cities', 'province_es',\n",
       "       'province', 'ccaa_es', 'ccaa', 'cities_es/province_es',\n",
       "       'cities_es/province', 'cities_es/ccaa_es', 'cities_es/ccaa',\n",
       "       'cities/province_es', 'province_es/ccaa_es', 'province_es/ccaa',\n",
       "       'province/ccaa_es', 'province/ccaa', 'Total: Millones vehículos-km',\n",
       "       'porcentaje_carreteras_ccaa_y_estado', 'bus_based_companies_count',\n",
       "       'Calidad_Cobertura_fija&movil_%', 'accessibility_mean',\n",
       "       'numero_estaciones', 'ave', 'cercanias', 'feve'],\n",
       "      dtype='object')"
      ]
     },
     "execution_count": 306,
     "metadata": {},
     "output_type": "execute_result"
    }
   ],
   "source": [
    "union_guille_dup.columns"
   ]
  },
  {
   "cell_type": "code",
   "execution_count": 307,
   "metadata": {
    "scrolled": true
   },
   "outputs": [
    {
     "name": "stderr",
     "output_type": "stream",
     "text": [
      "/home/patcalsi/miniconda/envs/exodus/lib/python3.8/site-packages/pandas/core/frame.py:4147: SettingWithCopyWarning: \n",
      "A value is trying to be set on a copy of a slice from a DataFrame\n",
      "\n",
      "See the caveats in the documentation: https://pandas.pydata.org/pandas-docs/stable/user_guide/indexing.html#returning-a-view-versus-a-copy\n",
      "  return super().fillna(\n"
     ]
    },
    {
     "data": {
      "text/plain": [
       "(15032, 26)"
      ]
     },
     "execution_count": 307,
     "metadata": {},
     "output_type": "execute_result"
    }
   ],
   "source": [
    "union_guille_dup.fillna(-1, inplace=True)\n",
    "union_guille_dup.shape"
   ]
  },
  {
   "cell_type": "code",
   "execution_count": 308,
   "metadata": {},
   "outputs": [
    {
     "name": "stderr",
     "output_type": "stream",
     "text": [
      "/home/patcalsi/miniconda/envs/exodus/lib/python3.8/site-packages/pandas/core/frame.py:3990: SettingWithCopyWarning: \n",
      "A value is trying to be set on a copy of a slice from a DataFrame\n",
      "\n",
      "See the caveats in the documentation: https://pandas.pydata.org/pandas-docs/stable/user_guide/indexing.html#returning-a-view-versus-a-copy\n",
      "  return super().drop(\n"
     ]
    }
   ],
   "source": [
    "union_guille_dup.drop(columns=['ine_code', 'cities_es', 'cities', 'province_es',\n",
    "       'province', 'ccaa_es', 'ccaa', 'cities_es/province_es',\n",
    "       'cities_es/province', 'cities_es/ccaa_es', 'cities_es/ccaa',\n",
    "       'cities/province_es', 'province_es/ccaa_es', 'province_es/ccaa',\n",
    "       'province/ccaa_es', 'province/ccaa'], inplace=True)"
   ]
  },
  {
   "cell_type": "code",
   "execution_count": 315,
   "metadata": {},
   "outputs": [],
   "source": [
    "union4 = pd.merge(union3, union_guille_dup, left_on='postal_code', right_on='postal_code', how='left')"
   ]
  },
  {
   "cell_type": "code",
   "execution_count": 316,
   "metadata": {
    "scrolled": true
   },
   "outputs": [
    {
     "data": {
      "text/plain": [
       "(15056, 152)"
      ]
     },
     "execution_count": 316,
     "metadata": {},
     "output_type": "execute_result"
    }
   ],
   "source": [
    "union4.shape"
   ]
  },
  {
   "cell_type": "code",
   "execution_count": 317,
   "metadata": {},
   "outputs": [],
   "source": [
    "union4 = union4.drop_duplicates(subset=['postal_code', 'cities', 'province'])"
   ]
  },
  {
   "cell_type": "code",
   "execution_count": 318,
   "metadata": {},
   "outputs": [
    {
     "data": {
      "text/plain": [
       "(10672, 152)"
      ]
     },
     "execution_count": 318,
     "metadata": {},
     "output_type": "execute_result"
    }
   ],
   "source": [
    "union4.shape"
   ]
  },
  {
   "cell_type": "code",
   "execution_count": 319,
   "metadata": {
    "scrolled": false
   },
   "outputs": [
    {
     "data": {
      "text/html": [
       "<div>\n",
       "<style scoped>\n",
       "    .dataframe tbody tr th:only-of-type {\n",
       "        vertical-align: middle;\n",
       "    }\n",
       "\n",
       "    .dataframe tbody tr th {\n",
       "        vertical-align: top;\n",
       "    }\n",
       "\n",
       "    .dataframe thead th {\n",
       "        text-align: right;\n",
       "    }\n",
       "</style>\n",
       "<table border=\"1\" class=\"dataframe\">\n",
       "  <thead>\n",
       "    <tr style=\"text-align: right;\">\n",
       "      <th></th>\n",
       "      <th>ine_code</th>\n",
       "      <th>postal_code</th>\n",
       "      <th>cities_es</th>\n",
       "      <th>cities</th>\n",
       "      <th>province_es</th>\n",
       "      <th>province</th>\n",
       "      <th>ccaa_es</th>\n",
       "      <th>ccaa</th>\n",
       "      <th>cities_es/province_es</th>\n",
       "      <th>cities_es/province</th>\n",
       "      <th>...</th>\n",
       "      <th>PIB pm</th>\n",
       "      <th>Total: Millones vehículos-km</th>\n",
       "      <th>porcentaje_carreteras_ccaa_y_estado</th>\n",
       "      <th>bus_based_companies_count</th>\n",
       "      <th>Calidad_Cobertura_fija&amp;movil_%</th>\n",
       "      <th>accessibility_mean</th>\n",
       "      <th>numero_estaciones</th>\n",
       "      <th>ave</th>\n",
       "      <th>cercanias</th>\n",
       "      <th>feve</th>\n",
       "    </tr>\n",
       "  </thead>\n",
       "  <tbody>\n",
       "    <tr>\n",
       "      <th>0</th>\n",
       "      <td>1001</td>\n",
       "      <td>01240</td>\n",
       "      <td>alegria_dulantzi</td>\n",
       "      <td>alegria_dulantzi</td>\n",
       "      <td>alava</td>\n",
       "      <td>araba</td>\n",
       "      <td>pais_vasco</td>\n",
       "      <td>pais_vasco</td>\n",
       "      <td>alegria_dulantzi/alava</td>\n",
       "      <td>alegria_dulantzi/araba</td>\n",
       "      <td>...</td>\n",
       "      <td>-1.0</td>\n",
       "      <td>1869.3</td>\n",
       "      <td>0.832942</td>\n",
       "      <td>-1.0</td>\n",
       "      <td>65.00</td>\n",
       "      <td>18.406372</td>\n",
       "      <td>1.0</td>\n",
       "      <td>NO</td>\n",
       "      <td>NO</td>\n",
       "      <td>NO</td>\n",
       "    </tr>\n",
       "    <tr>\n",
       "      <th>1</th>\n",
       "      <td>1001</td>\n",
       "      <td>01193</td>\n",
       "      <td>alegria_dulantzi</td>\n",
       "      <td>alegria_dulantzi</td>\n",
       "      <td>alava</td>\n",
       "      <td>araba</td>\n",
       "      <td>pais_vasco</td>\n",
       "      <td>pais_vasco</td>\n",
       "      <td>alegria_dulantzi/alava</td>\n",
       "      <td>alegria_dulantzi/araba</td>\n",
       "      <td>...</td>\n",
       "      <td>-1.0</td>\n",
       "      <td>1869.3</td>\n",
       "      <td>0.832942</td>\n",
       "      <td>-1.0</td>\n",
       "      <td>65.00</td>\n",
       "      <td>18.406372</td>\n",
       "      <td>1.0</td>\n",
       "      <td>NO</td>\n",
       "      <td>NO</td>\n",
       "      <td>NO</td>\n",
       "    </tr>\n",
       "    <tr>\n",
       "      <th>5</th>\n",
       "      <td>1002</td>\n",
       "      <td>01450</td>\n",
       "      <td>amurrio</td>\n",
       "      <td>amurrio</td>\n",
       "      <td>alava</td>\n",
       "      <td>araba</td>\n",
       "      <td>pais_vasco</td>\n",
       "      <td>pais_vasco</td>\n",
       "      <td>amurrio/alava</td>\n",
       "      <td>amurrio/araba</td>\n",
       "      <td>...</td>\n",
       "      <td>-1.0</td>\n",
       "      <td>1869.3</td>\n",
       "      <td>0.832942</td>\n",
       "      <td>-1.0</td>\n",
       "      <td>62.75</td>\n",
       "      <td>18.406372</td>\n",
       "      <td>4.0</td>\n",
       "      <td>NO</td>\n",
       "      <td>SI</td>\n",
       "      <td>NO</td>\n",
       "    </tr>\n",
       "    <tr>\n",
       "      <th>8</th>\n",
       "      <td>1002</td>\n",
       "      <td>01468</td>\n",
       "      <td>amurrio</td>\n",
       "      <td>amurrio</td>\n",
       "      <td>alava</td>\n",
       "      <td>araba</td>\n",
       "      <td>pais_vasco</td>\n",
       "      <td>pais_vasco</td>\n",
       "      <td>amurrio/alava</td>\n",
       "      <td>amurrio/araba</td>\n",
       "      <td>...</td>\n",
       "      <td>-1.0</td>\n",
       "      <td>1869.3</td>\n",
       "      <td>0.832942</td>\n",
       "      <td>-1.0</td>\n",
       "      <td>62.75</td>\n",
       "      <td>18.406372</td>\n",
       "      <td>4.0</td>\n",
       "      <td>NO</td>\n",
       "      <td>SI</td>\n",
       "      <td>NO</td>\n",
       "    </tr>\n",
       "    <tr>\n",
       "      <th>9</th>\n",
       "      <td>1002</td>\n",
       "      <td>01470</td>\n",
       "      <td>amurrio</td>\n",
       "      <td>amurrio</td>\n",
       "      <td>alava</td>\n",
       "      <td>araba</td>\n",
       "      <td>pais_vasco</td>\n",
       "      <td>pais_vasco</td>\n",
       "      <td>amurrio/alava</td>\n",
       "      <td>amurrio/araba</td>\n",
       "      <td>...</td>\n",
       "      <td>-1.0</td>\n",
       "      <td>1869.3</td>\n",
       "      <td>0.832942</td>\n",
       "      <td>-1.0</td>\n",
       "      <td>62.75</td>\n",
       "      <td>18.406372</td>\n",
       "      <td>4.0</td>\n",
       "      <td>NO</td>\n",
       "      <td>SI</td>\n",
       "      <td>NO</td>\n",
       "    </tr>\n",
       "  </tbody>\n",
       "</table>\n",
       "<p>5 rows × 152 columns</p>\n",
       "</div>"
      ],
      "text/plain": [
       "  ine_code postal_code         cities_es            cities province_es  \\\n",
       "0     1001       01240  alegria_dulantzi  alegria_dulantzi       alava   \n",
       "1     1001       01193  alegria_dulantzi  alegria_dulantzi       alava   \n",
       "5     1002       01450           amurrio           amurrio       alava   \n",
       "8     1002       01468           amurrio           amurrio       alava   \n",
       "9     1002       01470           amurrio           amurrio       alava   \n",
       "\n",
       "  province     ccaa_es        ccaa   cities_es/province_es  \\\n",
       "0    araba  pais_vasco  pais_vasco  alegria_dulantzi/alava   \n",
       "1    araba  pais_vasco  pais_vasco  alegria_dulantzi/alava   \n",
       "5    araba  pais_vasco  pais_vasco           amurrio/alava   \n",
       "8    araba  pais_vasco  pais_vasco           amurrio/alava   \n",
       "9    araba  pais_vasco  pais_vasco           amurrio/alava   \n",
       "\n",
       "       cities_es/province  ... PIB pm Total: Millones vehículos-km  \\\n",
       "0  alegria_dulantzi/araba  ...   -1.0                       1869.3   \n",
       "1  alegria_dulantzi/araba  ...   -1.0                       1869.3   \n",
       "5           amurrio/araba  ...   -1.0                       1869.3   \n",
       "8           amurrio/araba  ...   -1.0                       1869.3   \n",
       "9           amurrio/araba  ...   -1.0                       1869.3   \n",
       "\n",
       "  porcentaje_carreteras_ccaa_y_estado bus_based_companies_count  \\\n",
       "0                            0.832942                      -1.0   \n",
       "1                            0.832942                      -1.0   \n",
       "5                            0.832942                      -1.0   \n",
       "8                            0.832942                      -1.0   \n",
       "9                            0.832942                      -1.0   \n",
       "\n",
       "  Calidad_Cobertura_fija&movil_% accessibility_mean numero_estaciones ave  \\\n",
       "0                          65.00          18.406372               1.0  NO   \n",
       "1                          65.00          18.406372               1.0  NO   \n",
       "5                          62.75          18.406372               4.0  NO   \n",
       "8                          62.75          18.406372               4.0  NO   \n",
       "9                          62.75          18.406372               4.0  NO   \n",
       "\n",
       "  cercanias  feve  \n",
       "0        NO    NO  \n",
       "1        NO    NO  \n",
       "5        SI    NO  \n",
       "8        SI    NO  \n",
       "9        SI    NO  \n",
       "\n",
       "[5 rows x 152 columns]"
      ]
     },
     "execution_count": 319,
     "metadata": {},
     "output_type": "execute_result"
    }
   ],
   "source": [
    "union4.head()"
   ]
  },
  {
   "cell_type": "code",
   "execution_count": 320,
   "metadata": {},
   "outputs": [],
   "source": [
    "union4.to_csv(\"union_bloques.csv\")"
   ]
  },
  {
   "cell_type": "code",
   "execution_count": 321,
   "metadata": {},
   "outputs": [
    {
     "data": {
      "text/plain": [
       "ine_code              0\n",
       "postal_code           0\n",
       "cities_es             0\n",
       "cities                0\n",
       "province_es           0\n",
       "                     ..\n",
       "accessibility_mean    0\n",
       "numero_estaciones     0\n",
       "ave                   0\n",
       "cercanias             0\n",
       "feve                  0\n",
       "Length: 152, dtype: int64"
      ]
     },
     "execution_count": 321,
     "metadata": {},
     "output_type": "execute_result"
    }
   ],
   "source": [
    "union4.isnull().sum()"
   ]
  },
  {
   "cell_type": "code",
   "execution_count": 322,
   "metadata": {},
   "outputs": [
    {
     "name": "stdout",
     "output_type": "stream",
     "text": [
      "Index(['ine_code', 'postal_code', 'cities_es', 'cities', 'province_es',\n",
      "       'province', 'ccaa_es', 'ccaa', 'cities_es/province_es',\n",
      "       'cities_es/province',\n",
      "       ...\n",
      "       'PIB pm', 'Total: Millones vehículos-km',\n",
      "       'porcentaje_carreteras_ccaa_y_estado', 'bus_based_companies_count',\n",
      "       'Calidad_Cobertura_fija&movil_%', 'accessibility_mean',\n",
      "       'numero_estaciones', 'ave', 'cercanias', 'feve'],\n",
      "      dtype='object', length=152)\n"
     ]
    }
   ],
   "source": [
    "print(union4.columns)"
   ]
  },
  {
   "cell_type": "code",
   "execution_count": null,
   "metadata": {},
   "outputs": [],
   "source": []
  }
 ],
 "metadata": {
  "kernelspec": {
   "display_name": "Python 3",
   "language": "python",
   "name": "python3"
  },
  "language_info": {
   "codemirror_mode": {
    "name": "ipython",
    "version": 3
   },
   "file_extension": ".py",
   "mimetype": "text/x-python",
   "name": "python",
   "nbconvert_exporter": "python",
   "pygments_lexer": "ipython3",
   "version": "3.8.2"
  }
 },
 "nbformat": 4,
 "nbformat_minor": 4
}
