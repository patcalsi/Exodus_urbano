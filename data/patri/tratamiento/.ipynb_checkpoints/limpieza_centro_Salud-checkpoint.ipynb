{
 "cells": [
  {
   "cell_type": "code",
   "execution_count": 1,
   "metadata": {},
   "outputs": [],
   "source": [
    "import pandas as pd\n",
    "import matplotlib.pyplot as plt\n",
    "import numpy as np\n",
    "import re\n",
    "import unidecode\n",
    "import os"
   ]
  },
  {
   "cell_type": "markdown",
   "metadata": {},
   "source": [
    "#### Funciones"
   ]
  },
  {
   "cell_type": "code",
   "execution_count": 2,
   "metadata": {},
   "outputs": [],
   "source": [
    "def doClean(text):   \n",
    "    \n",
    "    # Quitar las expresiones tras la barra /\n",
    "    a = re.sub('\\/.*', '', text)\n",
    "    # Quitar las aclaraciones entre paréntesis\n",
    "    a = re.sub('\\(.*\\)', '', a)\n",
    "    # Quitar acentos \n",
    "    a = unidecode.unidecode(a)\n",
    "    # Quitar aquello que no sean palabras o cosa que se le parezca\n",
    "    a = re.sub('\\W', ' ', a) \n",
    "    # Quitar espacios extra en caso de haber\n",
    "    a = re.sub('\\s+', ' ', a)\n",
    "    # Pasar el texto a minúsulas\n",
    "    a = a.lower() \n",
    "    # Quitar espacio izq\n",
    "    a = a.lstrip()\n",
    "    # Quitar espacio derecha\n",
    "    a = a.rstrip()\n",
    "    a = re.sub(' ', '_', a)\n",
    "    #a = a.strip() \n",
    "    \n",
    "    return a"
   ]
  },
  {
   "cell_type": "markdown",
   "metadata": {},
   "source": [
    "#### Carga de ficheros"
   ]
  },
  {
   "cell_type": "code",
   "execution_count": 3,
   "metadata": {},
   "outputs": [
    {
     "data": {
      "text/plain": [
       "'/home/patcalsi/projects/Exodus_urbano/data/patri'"
      ]
     },
     "execution_count": 3,
     "metadata": {},
     "output_type": "execute_result"
    }
   ],
   "source": [
    "os.getcwd()"
   ]
  },
  {
   "cell_type": "code",
   "execution_count": 18,
   "metadata": {},
   "outputs": [],
   "source": [
    "centros_salud = pd.read_csv(\"ficheros_originales/sociedad_sanidad_centros_salud_2019.txt\", sep='|', encoding='latin1')"
   ]
  },
  {
   "cell_type": "code",
   "execution_count": 22,
   "metadata": {},
   "outputs": [
    {
     "data": {
      "text/plain": [
       "Index(['Unnamed: 0', ' IDCENTR ',\n",
       "       '                        NOMBRE                         ',\n",
       "       '  IDAREA   ', ' IDZONAB ', ' TIPOC ', '     DIRECCION     ',\n",
       "       '     LOCALIDAD     ', '     TELEFONO      ', ' ESDOCE ',\n",
       "       '       CODMU       ', '        CP         ', '     D_GESTION     ',\n",
       "       '   C_GESTION_ID    ', 'Unnamed: 14'],\n",
       "      dtype='object')"
      ]
     },
     "execution_count": 22,
     "metadata": {},
     "output_type": "execute_result"
    }
   ],
   "source": [
    "centros_salud.columns"
   ]
  },
  {
   "cell_type": "code",
   "execution_count": 25,
   "metadata": {},
   "outputs": [
    {
     "data": {
      "text/html": [
       "<div>\n",
       "<style scoped>\n",
       "    .dataframe tbody tr th:only-of-type {\n",
       "        vertical-align: middle;\n",
       "    }\n",
       "\n",
       "    .dataframe tbody tr th {\n",
       "        vertical-align: top;\n",
       "    }\n",
       "\n",
       "    .dataframe thead th {\n",
       "        text-align: right;\n",
       "    }\n",
       "</style>\n",
       "<table border=\"1\" class=\"dataframe\">\n",
       "  <thead>\n",
       "    <tr style=\"text-align: right;\">\n",
       "      <th></th>\n",
       "      <th>Unnamed: 0</th>\n",
       "      <th>IDCENTR</th>\n",
       "      <th>NOMBRE</th>\n",
       "      <th>IDAREA</th>\n",
       "      <th>IDZONAB</th>\n",
       "      <th>TIPOC</th>\n",
       "      <th>DIRECCION</th>\n",
       "      <th>LOCALIDAD</th>\n",
       "      <th>TELEFONO</th>\n",
       "      <th>ESDOCE</th>\n",
       "      <th>CODMU</th>\n",
       "      <th>CP</th>\n",
       "      <th>D_GESTION</th>\n",
       "      <th>C_GESTION_ID</th>\n",
       "      <th>Unnamed: 14</th>\n",
       "      <th>cp</th>\n",
       "    </tr>\n",
       "  </thead>\n",
       "  <tbody>\n",
       "    <tr>\n",
       "      <th>0</th>\n",
       "      <td>NaN</td>\n",
       "      <td>117937</td>\n",
       "      <td>ALEGRÍA-DULANTZI                             ...</td>\n",
       "      <td>8664</td>\n",
       "      <td>22758</td>\n",
       "      <td>2</td>\n",
       "      <td>IRURAIZ, Nº 2</td>\n",
       "      <td>ALEGRÍA-DULANTZI</td>\n",
       "      <td>945400890</td>\n",
       "      <td>N</td>\n",
       "      <td>10014</td>\n",
       "      <td>1240</td>\n",
       "      <td>SERVICIO VASCO DE</td>\n",
       "      <td>1</td>\n",
       "      <td>NaN</td>\n",
       "      <td>01240</td>\n",
       "    </tr>\n",
       "    <tr>\n",
       "      <th>1</th>\n",
       "      <td>NaN</td>\n",
       "      <td>118043</td>\n",
       "      <td>AMURRIO                                      ...</td>\n",
       "      <td>8669</td>\n",
       "      <td>22808</td>\n",
       "      <td>1</td>\n",
       "      <td>FELIX MURGA, Nº 8</td>\n",
       "      <td>AMURRIO</td>\n",
       "      <td>945025900</td>\n",
       "      <td>S</td>\n",
       "      <td>10029</td>\n",
       "      <td>1470</td>\n",
       "      <td>SERVICIO VASCO DE</td>\n",
       "      <td>1</td>\n",
       "      <td>NaN</td>\n",
       "      <td>01470</td>\n",
       "    </tr>\n",
       "    <tr>\n",
       "      <th>2</th>\n",
       "      <td>NaN</td>\n",
       "      <td>117654</td>\n",
       "      <td>ARAMAIONA                                    ...</td>\n",
       "      <td>8732</td>\n",
       "      <td>23468</td>\n",
       "      <td>2</td>\n",
       "      <td>NARDEAGA, S/N</td>\n",
       "      <td>ARAMAIO</td>\n",
       "      <td>945445340</td>\n",
       "      <td>N</td>\n",
       "      <td>10035</td>\n",
       "      <td>1160</td>\n",
       "      <td>SERVICIO VASCO DE</td>\n",
       "      <td>1</td>\n",
       "      <td>NaN</td>\n",
       "      <td>01160</td>\n",
       "    </tr>\n",
       "    <tr>\n",
       "      <th>3</th>\n",
       "      <td>NaN</td>\n",
       "      <td>118044</td>\n",
       "      <td>ARTZINIEGA                                   ...</td>\n",
       "      <td>8669</td>\n",
       "      <td>22808</td>\n",
       "      <td>2</td>\n",
       "      <td>PLAZA DE ARRIBA,</td>\n",
       "      <td>ARTZINIEGA</td>\n",
       "      <td>945396563</td>\n",
       "      <td>N</td>\n",
       "      <td>10040</td>\n",
       "      <td>1474</td>\n",
       "      <td>SERVICIO VASCO DE</td>\n",
       "      <td>1</td>\n",
       "      <td>NaN</td>\n",
       "      <td>01474</td>\n",
       "    </tr>\n",
       "    <tr>\n",
       "      <th>4</th>\n",
       "      <td>NaN</td>\n",
       "      <td>117944</td>\n",
       "      <td>DURANA                                       ...</td>\n",
       "      <td>8664</td>\n",
       "      <td>25350</td>\n",
       "      <td>2</td>\n",
       "      <td>PLAZA DE LA</td>\n",
       "      <td>DURANA</td>\n",
       "      <td>945385001</td>\n",
       "      <td>N</td>\n",
       "      <td>10088</td>\n",
       "      <td>1520</td>\n",
       "      <td>SERVICIO VASCO DE</td>\n",
       "      <td>1</td>\n",
       "      <td>NaN</td>\n",
       "      <td>01520</td>\n",
       "    </tr>\n",
       "  </tbody>\n",
       "</table>\n",
       "</div>"
      ],
      "text/plain": [
       "   Unnamed: 0   IDCENTR   \\\n",
       "0         NaN     117937   \n",
       "1         NaN     118043   \n",
       "2         NaN     117654   \n",
       "3         NaN     118044   \n",
       "4         NaN     117944   \n",
       "\n",
       "                          NOMBRE                             IDAREA     \\\n",
       "0   ALEGRÍA-DULANTZI                             ...              8664   \n",
       "1   AMURRIO                                      ...              8669   \n",
       "2   ARAMAIONA                                    ...              8732   \n",
       "3   ARTZINIEGA                                   ...              8669   \n",
       "4   DURANA                                       ...              8664   \n",
       "\n",
       "    IDZONAB    TIPOC        DIRECCION            LOCALIDAD       \\\n",
       "0      22758        2   IRURAIZ, Nº 2        ALEGRÍA-DULANTZI     \n",
       "1      22808        1   FELIX MURGA, Nº 8    AMURRIO              \n",
       "2      23468        2   NARDEAGA, S/N        ARAMAIO              \n",
       "3      22808        2   PLAZA DE ARRIBA,     ARTZINIEGA           \n",
       "4      25350        2   PLAZA DE LA          DURANA               \n",
       "\n",
       "        TELEFONO         ESDOCE          CODMU                 CP           \\\n",
       "0   945400890            N                      10014                 1240   \n",
       "1   945025900            S                      10029                 1470   \n",
       "2   945445340            N                      10035                 1160   \n",
       "3   945396563            N                      10040                 1474   \n",
       "4   945385001            N                      10088                 1520   \n",
       "\n",
       "        D_GESTION          C_GESTION_ID      Unnamed: 14     cp  \n",
       "0   SERVICIO VASCO DE                     1          NaN  01240  \n",
       "1   SERVICIO VASCO DE                     1          NaN  01470  \n",
       "2   SERVICIO VASCO DE                     1          NaN  01160  \n",
       "3   SERVICIO VASCO DE                     1          NaN  01474  \n",
       "4   SERVICIO VASCO DE                     1          NaN  01520  "
      ]
     },
     "execution_count": 25,
     "metadata": {},
     "output_type": "execute_result"
    }
   ],
   "source": [
    "centros_salud.head()"
   ]
  },
  {
   "cell_type": "code",
   "execution_count": 24,
   "metadata": {},
   "outputs": [],
   "source": [
    "centros_salud['cp'] = centros_salud['        CP         '].apply(lambda x: '{:05d}'.format(x))"
   ]
  },
  {
   "cell_type": "markdown",
   "metadata": {},
   "source": [
    "##### Comprobacion duplicados"
   ]
  },
  {
   "cell_type": "code",
   "execution_count": 26,
   "metadata": {
    "scrolled": true
   },
   "outputs": [
    {
     "data": {
      "text/html": [
       "<div>\n",
       "<style scoped>\n",
       "    .dataframe tbody tr th:only-of-type {\n",
       "        vertical-align: middle;\n",
       "    }\n",
       "\n",
       "    .dataframe tbody tr th {\n",
       "        vertical-align: top;\n",
       "    }\n",
       "\n",
       "    .dataframe thead th {\n",
       "        text-align: right;\n",
       "    }\n",
       "</style>\n",
       "<table border=\"1\" class=\"dataframe\">\n",
       "  <thead>\n",
       "    <tr style=\"text-align: right;\">\n",
       "      <th></th>\n",
       "      <th>Unnamed: 0</th>\n",
       "      <th>IDCENTR</th>\n",
       "      <th>NOMBRE</th>\n",
       "      <th>IDAREA</th>\n",
       "      <th>IDZONAB</th>\n",
       "      <th>TIPOC</th>\n",
       "      <th>DIRECCION</th>\n",
       "      <th>LOCALIDAD</th>\n",
       "      <th>TELEFONO</th>\n",
       "      <th>ESDOCE</th>\n",
       "      <th>CODMU</th>\n",
       "      <th>CP</th>\n",
       "      <th>D_GESTION</th>\n",
       "      <th>C_GESTION_ID</th>\n",
       "      <th>Unnamed: 14</th>\n",
       "      <th>cp</th>\n",
       "    </tr>\n",
       "  </thead>\n",
       "  <tbody>\n",
       "  </tbody>\n",
       "</table>\n",
       "</div>"
      ],
      "text/plain": [
       "Empty DataFrame\n",
       "Columns: [Unnamed: 0,  IDCENTR ,                         NOMBRE                         ,   IDAREA   ,  IDZONAB ,  TIPOC ,      DIRECCION     ,      LOCALIDAD     ,      TELEFONO      ,  ESDOCE ,        CODMU       ,         CP         ,      D_GESTION     ,    C_GESTION_ID    , Unnamed: 14, cp]\n",
       "Index: []"
      ]
     },
     "execution_count": 26,
     "metadata": {},
     "output_type": "execute_result"
    }
   ],
   "source": [
    "centros_salud[centros_salud.duplicated(subset=[' IDCENTR '])]"
   ]
  },
  {
   "cell_type": "code",
   "execution_count": 27,
   "metadata": {},
   "outputs": [
    {
     "data": {
      "text/html": [
       "<div>\n",
       "<style scoped>\n",
       "    .dataframe tbody tr th:only-of-type {\n",
       "        vertical-align: middle;\n",
       "    }\n",
       "\n",
       "    .dataframe tbody tr th {\n",
       "        vertical-align: top;\n",
       "    }\n",
       "\n",
       "    .dataframe thead th {\n",
       "        text-align: right;\n",
       "    }\n",
       "</style>\n",
       "<table border=\"1\" class=\"dataframe\">\n",
       "  <thead>\n",
       "    <tr style=\"text-align: right;\">\n",
       "      <th></th>\n",
       "      <th>Unnamed: 0</th>\n",
       "      <th>IDCENTR</th>\n",
       "      <th>NOMBRE</th>\n",
       "      <th>IDAREA</th>\n",
       "      <th>IDZONAB</th>\n",
       "      <th>TIPOC</th>\n",
       "      <th>DIRECCION</th>\n",
       "      <th>LOCALIDAD</th>\n",
       "      <th>TELEFONO</th>\n",
       "      <th>ESDOCE</th>\n",
       "      <th>CODMU</th>\n",
       "      <th>CP</th>\n",
       "      <th>D_GESTION</th>\n",
       "      <th>C_GESTION_ID</th>\n",
       "      <th>Unnamed: 14</th>\n",
       "      <th>cp</th>\n",
       "    </tr>\n",
       "  </thead>\n",
       "  <tbody>\n",
       "  </tbody>\n",
       "</table>\n",
       "</div>"
      ],
      "text/plain": [
       "Empty DataFrame\n",
       "Columns: [Unnamed: 0,  IDCENTR ,                         NOMBRE                         ,   IDAREA   ,  IDZONAB ,  TIPOC ,      DIRECCION     ,      LOCALIDAD     ,      TELEFONO      ,  ESDOCE ,        CODMU       ,         CP         ,      D_GESTION     ,    C_GESTION_ID    , Unnamed: 14, cp]\n",
       "Index: []"
      ]
     },
     "execution_count": 27,
     "metadata": {},
     "output_type": "execute_result"
    }
   ],
   "source": [
    "centros_salud[centros_salud['cp'].isnull()]"
   ]
  },
  {
   "cell_type": "code",
   "execution_count": 28,
   "metadata": {},
   "outputs": [],
   "source": [
    "centros_salud_num = centros_salud.groupby(by='cp', as_index=False)[' IDCENTR '].count()"
   ]
  },
  {
   "cell_type": "code",
   "execution_count": 32,
   "metadata": {},
   "outputs": [],
   "source": [
    "centros_salud_num.columns = ['cp', 'num_centros_salud']"
   ]
  },
  {
   "cell_type": "markdown",
   "metadata": {},
   "source": [
    "##### Creación y exportación de fichero maestro"
   ]
  },
  {
   "cell_type": "code",
   "execution_count": 33,
   "metadata": {
    "scrolled": false
   },
   "outputs": [
    {
     "data": {
      "text/html": [
       "<div>\n",
       "<style scoped>\n",
       "    .dataframe tbody tr th:only-of-type {\n",
       "        vertical-align: middle;\n",
       "    }\n",
       "\n",
       "    .dataframe tbody tr th {\n",
       "        vertical-align: top;\n",
       "    }\n",
       "\n",
       "    .dataframe thead th {\n",
       "        text-align: right;\n",
       "    }\n",
       "</style>\n",
       "<table border=\"1\" class=\"dataframe\">\n",
       "  <thead>\n",
       "    <tr style=\"text-align: right;\">\n",
       "      <th></th>\n",
       "      <th>cp</th>\n",
       "      <th>num_centros_salud</th>\n",
       "    </tr>\n",
       "  </thead>\n",
       "  <tbody>\n",
       "    <tr>\n",
       "      <th>0</th>\n",
       "      <td>01001</td>\n",
       "      <td>1</td>\n",
       "    </tr>\n",
       "    <tr>\n",
       "      <th>1</th>\n",
       "      <td>01002</td>\n",
       "      <td>2</td>\n",
       "    </tr>\n",
       "    <tr>\n",
       "      <th>2</th>\n",
       "      <td>01003</td>\n",
       "      <td>1</td>\n",
       "    </tr>\n",
       "    <tr>\n",
       "      <th>3</th>\n",
       "      <td>01004</td>\n",
       "      <td>1</td>\n",
       "    </tr>\n",
       "    <tr>\n",
       "      <th>4</th>\n",
       "      <td>01006</td>\n",
       "      <td>1</td>\n",
       "    </tr>\n",
       "  </tbody>\n",
       "</table>\n",
       "</div>"
      ],
      "text/plain": [
       "      cp  num_centros_salud\n",
       "0  01001                  1\n",
       "1  01002                  2\n",
       "2  01003                  1\n",
       "3  01004                  1\n",
       "4  01006                  1"
      ]
     },
     "execution_count": 33,
     "metadata": {},
     "output_type": "execute_result"
    }
   ],
   "source": [
    "centros_salud_num.head()"
   ]
  },
  {
   "cell_type": "code",
   "execution_count": 34,
   "metadata": {},
   "outputs": [],
   "source": [
    "centros_salud_num.to_csv(\"sociedad_sanidad_centros_salud_2019_limpio.csv\")"
   ]
  },
  {
   "cell_type": "code",
   "execution_count": null,
   "metadata": {},
   "outputs": [],
   "source": []
  },
  {
   "cell_type": "code",
   "execution_count": null,
   "metadata": {},
   "outputs": [],
   "source": []
  },
  {
   "cell_type": "code",
   "execution_count": null,
   "metadata": {},
   "outputs": [],
   "source": []
  },
  {
   "cell_type": "code",
   "execution_count": null,
   "metadata": {},
   "outputs": [],
   "source": []
  }
 ],
 "metadata": {
  "kernelspec": {
   "display_name": "Python 3",
   "language": "python",
   "name": "python3"
  },
  "language_info": {
   "codemirror_mode": {
    "name": "ipython",
    "version": 3
   },
   "file_extension": ".py",
   "mimetype": "text/x-python",
   "name": "python",
   "nbconvert_exporter": "python",
   "pygments_lexer": "ipython3",
   "version": "3.8.2"
  }
 },
 "nbformat": 4,
 "nbformat_minor": 4
}
