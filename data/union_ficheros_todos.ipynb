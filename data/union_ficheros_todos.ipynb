{
 "cells": [
  {
   "cell_type": "code",
   "execution_count": 2,
   "metadata": {},
   "outputs": [],
   "source": [
    "import pandas as pd\n",
    "import matplotlib.pyplot as plt\n",
    "import numpy as np\n",
    "import re\n",
    "import unidecode\n",
    "import os"
   ]
  },
  {
   "cell_type": "code",
   "execution_count": 3,
   "metadata": {},
   "outputs": [],
   "source": [
    "from fuzzywuzzy import fuzz\n",
    "from fuzzywuzzy import process"
   ]
  },
  {
   "cell_type": "markdown",
   "metadata": {},
   "source": [
    "#### Funciones"
   ]
  },
  {
   "cell_type": "code",
   "execution_count": 1311,
   "metadata": {},
   "outputs": [],
   "source": [
    "def doClean(a):   \n",
    "    a = str(a)\n",
    "    # Quitar las expresiones tras la barra /\n",
    "    a = re.sub('\\/.*', '', a)\n",
    "    # Quitar las aclaraciones entre paréntesis\n",
    "    a = re.sub('\\(.*\\)', '', a)\n",
    "    # Quitar acentos \n",
    "    a = unidecode.unidecode(a)\n",
    "    # Quitar aquello que no sean palabras o cosa que se le parezca\n",
    "    a = re.sub('\\W', ' ', a) \n",
    "    # Quitar espacios extra en caso de haber\n",
    "    a = re.sub('\\s+', ' ', a)\n",
    "    # Pasar el texto a minúsulas\n",
    "    a = a.lower() \n",
    "    a = a.lstrip()\n",
    "    # Quitar espacio derecha\n",
    "    a = a.rstrip()\n",
    "    a = re.sub(' ', '_', a)\n",
    "    #a = a.strip() \n",
    "    \n",
    "    return a"
   ]
  },
  {
   "cell_type": "code",
   "execution_count": 1312,
   "metadata": {},
   "outputs": [],
   "source": [
    "def fuzzy_merge(df_1, df_2, key1, key2, threshold=90, limit=1):\n",
    "    \"\"\"\n",
    "    df_1 is the left table to join\n",
    "    df_2 is the right table to join\n",
    "    key1 is the key column of the left table\n",
    "    key2 is the key column of the right table\n",
    "    threshold is how close the matches should be to return a match, based on Levenshtein distance\n",
    "    limit is the amount of matches that will get returned, these are sorted high to low\n",
    "    \"\"\"\n",
    "    s = df_2[key2].tolist()\n",
    "\n",
    "    m = df_1[key1].apply(lambda x: process.extract(x, s, limit=limit))    \n",
    "    df_1['matches'] = m\n",
    "\n",
    "    m2 = df_1['matches'].apply(lambda x: ', '.join([i[0] for i in x if i[1] >= threshold]))\n",
    "    df_1['matches'] = m2\n",
    "\n",
    "    return df_1"
   ]
  },
  {
   "cell_type": "code",
   "execution_count": 1313,
   "metadata": {},
   "outputs": [],
   "source": [
    "def union_agrup(df_maestro, df_union, agrup_maestro, agrup_union, threshold=85, threshold_mun=90):\n",
    "    \n",
    "    count_maestro = df_maestro.shape[0]\n",
    "    count_union = df_union.shape[0]\n",
    "    print('num registros maestro: {}'.format(count_maestro))\n",
    "    print('num registros fichero para unir: {}'.format(count_union))\n",
    "    \n",
    "    #fuzzy por prov/ccaa\n",
    "    maestro_agrup = pd.DataFrame(df_maestro[agrup_maestro].drop_duplicates())\n",
    "    print('num agrupaciones maestro: {}'.format(maestro_agrup.shape))\n",
    "    union_agrup = pd.DataFrame(df_union[agrup_union].drop_duplicates())\n",
    "    print('num agrupaciones union: {}'.format(union_agrup.shape))\n",
    "\n",
    "    agrup_match = fuzzy_merge(maestro_agrup, union_agrup, agrup_maestro, agrup_union, threshold=threshold)\n",
    "    print('num agrupaciones tras match: {}'.format(agrup_match.shape))\n",
    "    num_matches = (agrup_match[agrup_match['matches']!='']['matches'].nunique())\n",
    "    if (num_matches != agrup_match[agrup_maestro].nunique()):\n",
    "        print('no se han cruzado todos los valores:')\n",
    "        print(agrup_match[agrup_match['matches']==''])\n",
    "        \n",
    "        #se genera un nuevo df con el match y el fichero de union\n",
    "    df_union_agrup_match = pd.merge(df_union, agrup_match, left_on=agrup_union, right_on='matches', how='right')\n",
    "    if (count_union != df_union_agrup_match.shape[0]):\n",
    "        print('el fichero de union no dispone de todos los valores para cruzar')    \n",
    "\n",
    "    print('columnas final: {}'.format(df_union_agrup_match.columns))\n",
    "        #borramos columnas que sobran\n",
    "    df_union_agrup_match.drop(columns=['matches'], inplace=True)\n",
    "    if agrup_maestro != agrup_union:\n",
    "        df_union_agrup_match.drop(columns=agrup_union, inplace=True)\n",
    "    print('num registros tras union: {}'.format(df_union_agrup_match.shape))\n",
    "    \n",
    "    return df_union_agrup_match"
   ]
  },
  {
   "cell_type": "code",
   "execution_count": 1314,
   "metadata": {},
   "outputs": [],
   "source": [
    "def union_solo_muni(df_maestro, df_union, muni_maestro, muni_union, threshold=85):\n",
    "    \n",
    "    count_maestro = df_maestro.shape[0]\n",
    "    count_union = df_union.shape[0]\n",
    "    print('num registros maestro: {}'.format(count_maestro))\n",
    "    print('num registros fichero para unir: {}'.format(count_union))\n",
    "    \n",
    "    #fuzzy por municipio\n",
    "    muni_match = fuzzy_merge(df_maestro, df_union, muni_maestro, muni_union, threshold=threshold)\n",
    "    print('num agrupaciones tras match: {}'.format(muni_match.shape))\n",
    "    num_matches = (muni_match[muni_match['matches']!='']['matches'].nunique())\n",
    "    if (num_matches != muni_match[muni_maestro].nunique()):\n",
    "        print('no se han cruzado todos los valores:')\n",
    "        \n",
    "        #se genera un nuevo df con el match y el fichero de union\n",
    "    df_union_muni_match = pd.merge(df_union, muni_match, left_on=muni_union, right_on='matches', how='right')\n",
    "    if (count_union != df_union_muni_match.shape[0]):\n",
    "        print('el fichero de union no dispone de todos los valores para cruzar')    \n",
    "\n",
    "    print('columnas final: {}'.format(df_union_muni_match.columns))\n",
    "        #borramos columnas que sobran\n",
    "    df_union_muni_match.drop(columns=['matches'], inplace=True)\n",
    "    if muni_maestro != muni_union:\n",
    "        df_union_muni_match.drop(columns=muni_union, inplace=True)\n",
    "    print('num registros tras union: {}'.format(df_union_muni_match.shape))\n",
    "    \n",
    "    return df_union_muni_match"
   ]
  },
  {
   "cell_type": "code",
   "execution_count": 1315,
   "metadata": {},
   "outputs": [],
   "source": [
    "def union_muni(df_maestro, df_union, muni_maestro, agrup_maestro, muni_union, agrup_union, threshold=85, threshold_mun=90):\n",
    "    \n",
    "    count_maestro = df_maestro.shape[0]\n",
    "    count_union = df_union.shape[0]\n",
    "    print('num registros maestro: {}'.format(count_maestro))\n",
    "    print('num registros fichero para unir: {}'.format(count_union))\n",
    "    \n",
    "    #fuzzy por prov/ccaa\n",
    "    maestro_agrup = pd.DataFrame(df_maestro[agrup_maestro].drop_duplicates())\n",
    "    print('num agrupaciones maestro: {}'.format(maestro_agrup.shape))\n",
    "    union_agrup = pd.DataFrame(df_union[agrup_union].drop_duplicates())\n",
    "    print('num agrupaciones union: {}'.format(union_agrup.shape))\n",
    "\n",
    "    agrup_match = fuzzy_merge(maestro_agrup, union_agrup, agrup_maestro, agrup_union, threshold=threshold)\n",
    "    print('num agrupaciones tras match: {}'.format(agrup_match.shape))\n",
    "    num_matches = (agrup_match[agrup_match['matches']!='']['matches'].nunique())\n",
    "    if (num_matches != agrup_match[agrup_maestro].nunique()):\n",
    "        print('no se han cruzado todos los valores:')\n",
    "        print(agrup_match[agrup_match['matches']==''])\n",
    "\n",
    "        #se genera un nuevo df con el match y el fichero de union\n",
    "    df_union_agrup_match = pd.merge(df_union, agrup_match, left_on=agrup_union, right_on='matches', how='right')\n",
    "    if (count_union != df_union_agrup_match.shape[0]):\n",
    "        print('el fichero de union no dispone de todos los valores para cruzar')    \n",
    "\n",
    "    df_union_agrup_match.drop(columns=['matches'], inplace=True)\n",
    "    \n",
    "    #fuzzy por municipio\n",
    "    df_maestro['muni_agrup'] = df_maestro[muni_maestro]+\"/\"+df_maestro[agrup_maestro]\n",
    "    df_union_agrup_match['muni_agrup'] = df_union_agrup_match[muni_union]+\"/\"+df_union_agrup_match[agrup_maestro]\n",
    "    print(f'df_union_agrup_match: {df_union_agrup_match.shape}')\n",
    "   \n",
    "    muni_match = pd.DataFrame()\n",
    "    maestro_count = 0\n",
    "    for agrup in list(maestro_agrup[agrup_maestro]):\n",
    "        print(agrup)\n",
    "        maestro_agrup_sel = df_maestro[df_maestro[agrup_maestro] == agrup].copy()\n",
    "        maestro_count = maestro_agrup_sel.shape[0] + maestro_count\n",
    "        union_agrup_sel = df_union_agrup_match[df_union_agrup_match[agrup_maestro] == agrup].copy()\n",
    "        if union_agrup_sel.empty == True:\n",
    "            print(f'no existe para {agrup}')\n",
    "        \n",
    "        else:\n",
    "            aux = fuzzy_merge(maestro_agrup_sel, union_agrup_sel, 'muni_agrup', 'muni_agrup', threshold=threshold_mun)\n",
    "            num_matches = (aux[aux['matches']!='']['matches'].nunique())\n",
    "            if (num_matches != aux[muni_maestro].nunique()):\n",
    "                print('no se han cruzado todos los valores:')\n",
    "                #print(aux[aux['matches'].isnull()]) \n",
    "            muni_match = pd.concat([muni_match, aux])\n",
    "    \n",
    "        #comprobacion registros    \n",
    "    print('num muni maestro: {}'.format(maestro_count))\n",
    "    if maestro_count != muni_match.shape[0]:\n",
    "        print(\"se han perdido registros\")       \n",
    "        \n",
    "    muni_match.drop(columns='muni_agrup', inplace=True)\n",
    "    df_union_agrup_match.drop(columns=[agrup_maestro], inplace=True)\n",
    "\n",
    "    \n",
    "    print(f'muni_match: {muni_match.columns}')\n",
    "    print(f'df_union_agrup_match: {df_union_agrup_match.shape}')\n",
    "\n",
    "        #se genera un nuevo df con el match y el fichero de union\n",
    "    df_union_muni_match = pd.merge(muni_match, df_union_agrup_match, left_on='matches', right_on='muni_agrup', how='left')\n",
    "    if (count_union != df_union_muni_match.shape[0]):\n",
    "        print('el fichero de union no dispone de todos los valores para cruzar por municipio')        \n",
    "\n",
    "    #merge maestro con fichero union\n",
    "    #df_tras_union = pd.merge(df_maestro, df_union_muni_match, left_on=muni_maestro, right_on='matches', how='left')\n",
    "    \n",
    "    print('columnas final: {}'.format(df_union_muni_match.columns))\n",
    "        #borramos columnas que sobran\n",
    "    if muni_maestro != muni_union:\n",
    "        df_union_muni_match.drop(columns=muni_union, inplace=True)\n",
    "    if agrup_maestro != agrup_union:\n",
    "        df_union_muni_match.drop(columns=agrup_union, inplace=True)\n",
    "    df_union_muni_match.drop(columns=['matches', 'muni_agrup'], inplace=True)\n",
    "    print('num registros tras union: {}'.format(df_union_muni_match.shape))\n",
    "    \n",
    "    return df_union_muni_match"
   ]
  },
  {
   "cell_type": "code",
   "execution_count": 1316,
   "metadata": {},
   "outputs": [],
   "source": [
    "def union_cod_postal(maestro_nivel_cod_postal_1, df_union_2, df_unido_3, cod_postal_1, cod_postal_2, muni_prov, oper_agrup):\n",
    "    union_cp = pd.merge(maestro_nivel_cod_postal_1, df_union_2, left_on=cod_postal_1, right_on=cod_postal_2, how='left')\n",
    "    union_cp.drop(columns=[cod_postal_1, cod_postal_2], inplace=True)\n",
    "    union_cp = union_cp.groupby(by=muni_prov, as_index=False).agg([oper_agrup]).reset_index()\n",
    "    union_cp.columns = union_cp.columns.droplevel(1)  \n",
    "    df = pd.merge(df_unido_3, union_cp, left_on=muni_prov, right_on=muni_prov, how='left')\n",
    "    return df"
   ]
  },
  {
   "cell_type": "code",
   "execution_count": 1317,
   "metadata": {},
   "outputs": [],
   "source": [
    "def union_cod_ine(maestro_nivel_ine_1, df_union_2, df_unido_3, ine_code_1, ine_code_2, muni_prov, oper_agrup):\n",
    "    union_ine = pd.merge(maestro_nivel_ine_1, df_union_2, left_on=ine_code_1, right_on=ine_code_2, how='left')\n",
    "    union_ine.drop(columns=[ine_code_1, ine_code_2], inplace=True)\n",
    "    union_ine = union_ine.groupby(by=muni_prov, as_index=False).agg([oper_agrup]).reset_index()\n",
    "    union_ine.columns = union_ine.columns.droplevel(1)  \n",
    "    df = pd.merge(df_unido_3, union_ine, left_on=muni_prov, right_on=muni_prov, how='left')\n",
    "    return df"
   ]
  },
  {
   "cell_type": "code",
   "execution_count": 1479,
   "metadata": {},
   "outputs": [],
   "source": [
    "def standardize_headers(x):\n",
    "    x = doClean(x)\n",
    "    return x"
   ]
  },
  {
   "cell_type": "code",
   "execution_count": 1480,
   "metadata": {},
   "outputs": [],
   "source": [
    "pattern = re.compile(\"^[a-zA-Z]+$\") \n",
    "\n",
    "def doCleanNumber(n):\n",
    "    n = str(n)\n",
    "    if pattern.match(n): \n",
    "        return 0\n",
    "    else:\n",
    "        n = n.strip(' ')\n",
    "        n = str.replace(n, \",\",\"\")\n",
    "        n = str.replace(n, \".\", \"\")\n",
    "        if n == \"\":\n",
    "            n = str.replace(n, \"\", \"0\")\n",
    "        n = float(n)\n",
    "        return n"
   ]
  },
  {
   "cell_type": "markdown",
   "metadata": {},
   "source": [
    "#### Carga y union de ficheros"
   ]
  },
  {
   "cell_type": "code",
   "execution_count": 1318,
   "metadata": {},
   "outputs": [
    {
     "data": {
      "text/plain": [
       "'/home/patcalsi/projects/Exodus_urbano/data/patri'"
      ]
     },
     "execution_count": 1318,
     "metadata": {},
     "output_type": "execute_result"
    }
   ],
   "source": [
    "os.getcwd()"
   ]
  },
  {
   "cell_type": "code",
   "execution_count": 1319,
   "metadata": {},
   "outputs": [
    {
     "data": {
      "text/plain": [
       "['sociedad_seguridad_guardia_civil_2019_limpio.csv',\n",
       " 'maestro_nivel_municipio_ori.csv',\n",
       " 'union_guille2.csv',\n",
       " 'union_ficheros.ipynb',\n",
       " 'maestro_nivel_ine.csv',\n",
       " 'union_mar2.csv',\n",
       " 'sociedad_educacion_universidad_2018_limpio.csv',\n",
       " 'maestro_nivel_cod_postal.csv',\n",
       " 'union_ficheros2.ipynb',\n",
       " 'sociedad_sanidad_hospitales_2019_limpio.csv',\n",
       " 'union_patri.csv',\n",
       " 'sociedad_educacion_colegios_2020_limpio.csv',\n",
       " 'sociedad_sanidad_centros_salud_2019_limpio.csv',\n",
       " 'maestro_nuevo.csv',\n",
       " 'union_sandra2.csv',\n",
       " 'maestro_nivel_municipio.csv',\n",
       " 'union_ficheros_todos.ipynb',\n",
       " 'creacion_maestros.ipynb',\n",
       " '.ipynb_checkpoints',\n",
       " '.~lock.Empresas-SICTED2.xls#',\n",
       " 'economia_turismo_establecimientos_20XX_limpio.csv',\n",
       " 'tratamiento',\n",
       " 'sociedad_usos_suelo_2019_limpio.csv',\n",
       " 'manual.txt',\n",
       " 'sociedad_cultura_bibliotecas_2017_limipio.csv',\n",
       " 'union_patri2.csv',\n",
       " 'listado-codigos-postales-con-LatyLon.csv',\n",
       " 'sociedad_educacion_nivel_formacion_ccaa_2018.csv',\n",
       " 'maestro_nivel_todo.csv']"
      ]
     },
     "execution_count": 1319,
     "metadata": {},
     "output_type": "execute_result"
    }
   ],
   "source": [
    "os.listdir()"
   ]
  },
  {
   "cell_type": "markdown",
   "metadata": {},
   "source": [
    "## Fichero maestro"
   ]
  },
  {
   "cell_type": "markdown",
   "metadata": {},
   "source": [
    "### Creacion maestro nivel municipio"
   ]
  },
  {
   "cell_type": "code",
   "execution_count": 1320,
   "metadata": {},
   "outputs": [
    {
     "data": {
      "text/plain": [
       "(6066, 9)"
      ]
     },
     "execution_count": 1320,
     "metadata": {},
     "output_type": "execute_result"
    }
   ],
   "source": [
    "maestro_nivel_municipio_ori = pd.read_csv(\"maestro_nivel_municipio_ori.csv\", index_col=0)\n",
    "maestro_nivel_municipio_ori.shape"
   ]
  },
  {
   "cell_type": "markdown",
   "metadata": {},
   "source": [
    "### Creacion maestro nivel cod postal"
   ]
  },
  {
   "cell_type": "code",
   "execution_count": 1321,
   "metadata": {},
   "outputs": [],
   "source": [
    "maestro_nivel_cod_postal = pd.read_csv(\"maestro_nivel_cod_postal.csv\", index_col=0, dtype={'postal_code':object})"
   ]
  },
  {
   "cell_type": "markdown",
   "metadata": {},
   "source": [
    "### Creacion maestro nivel ine"
   ]
  },
  {
   "cell_type": "code",
   "execution_count": 1322,
   "metadata": {},
   "outputs": [
    {
     "data": {
      "text/plain": [
       "(9511, 2)"
      ]
     },
     "execution_count": 1322,
     "metadata": {},
     "output_type": "execute_result"
    }
   ],
   "source": [
    "maestro_nivel_ine = pd.read_csv(\"maestro_nivel_ine.csv\", index_col=0, dtype={'ine_code':object})\n",
    "maestro_nivel_ine.shape"
   ]
  },
  {
   "cell_type": "markdown",
   "metadata": {},
   "source": [
    "## Ficheros especificos"
   ]
  },
  {
   "cell_type": "markdown",
   "metadata": {},
   "source": [
    "### Ficheros Patri"
   ]
  },
  {
   "cell_type": "markdown",
   "metadata": {},
   "source": [
    "##### Bibliotecas"
   ]
  },
  {
   "cell_type": "code",
   "execution_count": 1323,
   "metadata": {},
   "outputs": [
    {
     "data": {
      "text/plain": [
       "(3323, 4)"
      ]
     },
     "execution_count": 1323,
     "metadata": {},
     "output_type": "execute_result"
    }
   ],
   "source": [
    "bibliotecas = pd.read_csv(\"sociedad_cultura_bibliotecas_2017_limipio.csv\", index_col=0)\n",
    "bibliotecas.shape"
   ]
  },
  {
   "cell_type": "code",
   "execution_count": 1324,
   "metadata": {
    "scrolled": false
   },
   "outputs": [
    {
     "data": {
      "text/html": [
       "<div>\n",
       "<style scoped>\n",
       "    .dataframe tbody tr th:only-of-type {\n",
       "        vertical-align: middle;\n",
       "    }\n",
       "\n",
       "    .dataframe tbody tr th {\n",
       "        vertical-align: top;\n",
       "    }\n",
       "\n",
       "    .dataframe thead th {\n",
       "        text-align: right;\n",
       "    }\n",
       "</style>\n",
       "<table border=\"1\" class=\"dataframe\">\n",
       "  <thead>\n",
       "    <tr style=\"text-align: right;\">\n",
       "      <th></th>\n",
       "      <th>municipio_limpio</th>\n",
       "      <th>ccaa</th>\n",
       "      <th>provincia</th>\n",
       "      <th>total_bibliotecas</th>\n",
       "    </tr>\n",
       "  </thead>\n",
       "  <tbody>\n",
       "    <tr>\n",
       "      <th>0</th>\n",
       "      <td>alaior</td>\n",
       "      <td>illes_balears</td>\n",
       "      <td>illes_balears</td>\n",
       "      <td>1</td>\n",
       "    </tr>\n",
       "    <tr>\n",
       "      <th>1</th>\n",
       "      <td>alaro</td>\n",
       "      <td>illes_balears</td>\n",
       "      <td>illes_balears</td>\n",
       "      <td>1</td>\n",
       "    </tr>\n",
       "  </tbody>\n",
       "</table>\n",
       "</div>"
      ],
      "text/plain": [
       "  municipio_limpio           ccaa      provincia  total_bibliotecas\n",
       "0           alaior  illes_balears  illes_balears                  1\n",
       "1            alaro  illes_balears  illes_balears                  1"
      ]
     },
     "execution_count": 1324,
     "metadata": {},
     "output_type": "execute_result"
    }
   ],
   "source": [
    "bibliotecas.head(2)"
   ]
  },
  {
   "cell_type": "code",
   "execution_count": 1325,
   "metadata": {
    "scrolled": false
   },
   "outputs": [
    {
     "data": {
      "text/html": [
       "<div>\n",
       "<style scoped>\n",
       "    .dataframe tbody tr th:only-of-type {\n",
       "        vertical-align: middle;\n",
       "    }\n",
       "\n",
       "    .dataframe tbody tr th {\n",
       "        vertical-align: top;\n",
       "    }\n",
       "\n",
       "    .dataframe thead th {\n",
       "        text-align: right;\n",
       "    }\n",
       "</style>\n",
       "<table border=\"1\" class=\"dataframe\">\n",
       "  <thead>\n",
       "    <tr style=\"text-align: right;\">\n",
       "      <th></th>\n",
       "      <th>municipio_limpio</th>\n",
       "      <th>ccaa</th>\n",
       "      <th>provincia</th>\n",
       "      <th>total_bibliotecas</th>\n",
       "    </tr>\n",
       "  </thead>\n",
       "  <tbody>\n",
       "    <tr>\n",
       "      <th>38</th>\n",
       "      <td>palma</td>\n",
       "      <td>illes_balears</td>\n",
       "      <td>illes_balears</td>\n",
       "      <td>22</td>\n",
       "    </tr>\n",
       "  </tbody>\n",
       "</table>\n",
       "</div>"
      ],
      "text/plain": [
       "   municipio_limpio           ccaa      provincia  total_bibliotecas\n",
       "38            palma  illes_balears  illes_balears                 22"
      ]
     },
     "execution_count": 1325,
     "metadata": {},
     "output_type": "execute_result"
    }
   ],
   "source": [
    "bibliotecas[bibliotecas['municipio_limpio']=='palma']\n",
    "# idioma municipio = es"
   ]
  },
  {
   "cell_type": "code",
   "execution_count": 1326,
   "metadata": {},
   "outputs": [],
   "source": [
    "bibliotecas.rename(columns={'ccaa': 'ccaa_limpio', 'total_bibliotecas': 'num_bibliotecas'}, inplace=True)\n",
    "bibliotecas.drop(columns=['provincia'], inplace=True)"
   ]
  },
  {
   "cell_type": "code",
   "execution_count": 1327,
   "metadata": {},
   "outputs": [
    {
     "data": {
      "text/html": [
       "<div>\n",
       "<style scoped>\n",
       "    .dataframe tbody tr th:only-of-type {\n",
       "        vertical-align: middle;\n",
       "    }\n",
       "\n",
       "    .dataframe tbody tr th {\n",
       "        vertical-align: top;\n",
       "    }\n",
       "\n",
       "    .dataframe thead th {\n",
       "        text-align: right;\n",
       "    }\n",
       "</style>\n",
       "<table border=\"1\" class=\"dataframe\">\n",
       "  <thead>\n",
       "    <tr style=\"text-align: right;\">\n",
       "      <th></th>\n",
       "      <th>municipio_limpio</th>\n",
       "      <th>ccaa_limpio</th>\n",
       "      <th>num_bibliotecas</th>\n",
       "    </tr>\n",
       "  </thead>\n",
       "  <tbody>\n",
       "  </tbody>\n",
       "</table>\n",
       "</div>"
      ],
      "text/plain": [
       "Empty DataFrame\n",
       "Columns: [municipio_limpio, ccaa_limpio, num_bibliotecas]\n",
       "Index: []"
      ]
     },
     "execution_count": 1327,
     "metadata": {},
     "output_type": "execute_result"
    }
   ],
   "source": [
    "# comprobacion duplicados\n",
    "bibliotecas[bibliotecas.duplicated()]"
   ]
  },
  {
   "cell_type": "code",
   "execution_count": 1328,
   "metadata": {
    "scrolled": true
   },
   "outputs": [
    {
     "name": "stdout",
     "output_type": "stream",
     "text": [
      "num registros maestro: 6066\n",
      "num registros fichero para unir: 3323\n",
      "num agrupaciones maestro: (19, 1)\n",
      "num agrupaciones union: (19, 1)\n",
      "num agrupaciones tras match: (19, 2)\n",
      "df_union_agrup_match: (3323, 5)\n",
      "pais_vasco\n",
      "no se han cruzado todos los valores:\n",
      "castilla_la_mancha\n",
      "no se han cruzado todos los valores:\n",
      "comunitat_valenciana\n",
      "no se han cruzado todos los valores:\n",
      "region_de_murcia\n",
      "no se han cruzado todos los valores:\n",
      "andalucia\n",
      "no se han cruzado todos los valores:\n",
      "castilla_y_leon\n",
      "no se han cruzado todos los valores:\n",
      "extremadura\n",
      "no se han cruzado todos los valores:\n",
      "illes_balears\n",
      "no se han cruzado todos los valores:\n",
      "cataluna\n",
      "no se han cruzado todos los valores:\n",
      "cantabria\n",
      "no se han cruzado todos los valores:\n",
      "la_rioja\n",
      "no se han cruzado todos los valores:\n",
      "galicia\n",
      "no se han cruzado todos los valores:\n",
      "comunidad_de_madrid\n",
      "no se han cruzado todos los valores:\n",
      "aragon\n",
      "no se han cruzado todos los valores:\n",
      "comunidad_foral_de_navarra\n",
      "no se han cruzado todos los valores:\n",
      "principado_de_asturias\n",
      "no se han cruzado todos los valores:\n",
      "canarias\n",
      "no se han cruzado todos los valores:\n",
      "ceuta\n",
      "melilla\n",
      "num muni maestro: 6066\n",
      "muni_match: Index(['cities_es', 'cities', 'province_es', 'province', 'ccaa_es', 'ccaa',\n",
      "       'cities_es/province', 'provincia_original', 'municipio_original',\n",
      "       'matches'],\n",
      "      dtype='object')\n",
      "df_union_agrup_match: (3323, 4)\n",
      "el fichero de union no dispone de todos los valores para cruzar por municipio\n",
      "columnas final: Index(['cities_es', 'cities', 'province_es', 'province', 'ccaa_es', 'ccaa',\n",
      "       'cities_es/province', 'provincia_original', 'municipio_original',\n",
      "       'matches', 'municipio_limpio', 'ccaa_limpio', 'num_bibliotecas',\n",
      "       'muni_agrup'],\n",
      "      dtype='object')\n",
      "num registros tras union: (6066, 10)\n"
     ]
    }
   ],
   "source": [
    "union1 = union_muni(maestro_nivel_municipio_ori, bibliotecas, 'cities', 'ccaa', 'municipio_limpio', 'ccaa_limpio', threshold=85)"
   ]
  },
  {
   "cell_type": "code",
   "execution_count": 1329,
   "metadata": {
    "scrolled": true
   },
   "outputs": [
    {
     "data": {
      "text/html": [
       "<div>\n",
       "<style scoped>\n",
       "    .dataframe tbody tr th:only-of-type {\n",
       "        vertical-align: middle;\n",
       "    }\n",
       "\n",
       "    .dataframe tbody tr th {\n",
       "        vertical-align: top;\n",
       "    }\n",
       "\n",
       "    .dataframe thead th {\n",
       "        text-align: right;\n",
       "    }\n",
       "</style>\n",
       "<table border=\"1\" class=\"dataframe\">\n",
       "  <thead>\n",
       "    <tr style=\"text-align: right;\">\n",
       "      <th></th>\n",
       "      <th>cities_es</th>\n",
       "      <th>cities</th>\n",
       "      <th>province_es</th>\n",
       "      <th>province</th>\n",
       "      <th>ccaa_es</th>\n",
       "      <th>ccaa</th>\n",
       "      <th>cities_es/province</th>\n",
       "      <th>provincia_original</th>\n",
       "      <th>municipio_original</th>\n",
       "      <th>num_bibliotecas</th>\n",
       "    </tr>\n",
       "  </thead>\n",
       "  <tbody>\n",
       "    <tr>\n",
       "      <th>1058</th>\n",
       "      <td>soneja</td>\n",
       "      <td>soneja</td>\n",
       "      <td>castellon</td>\n",
       "      <td>castellon</td>\n",
       "      <td>comunidad_valenciana</td>\n",
       "      <td>comunitat_valenciana</td>\n",
       "      <td>soneja/castellon</td>\n",
       "      <td>Castellón/Castelló</td>\n",
       "      <td>Soneja</td>\n",
       "      <td>1.0</td>\n",
       "    </tr>\n",
       "  </tbody>\n",
       "</table>\n",
       "</div>"
      ],
      "text/plain": [
       "     cities_es  cities province_es   province               ccaa_es  \\\n",
       "1058    soneja  soneja   castellon  castellon  comunidad_valenciana   \n",
       "\n",
       "                      ccaa cities_es/province  provincia_original  \\\n",
       "1058  comunitat_valenciana   soneja/castellon  Castellón/Castelló   \n",
       "\n",
       "     municipio_original  num_bibliotecas  \n",
       "1058             Soneja              1.0  "
      ]
     },
     "execution_count": 1329,
     "metadata": {},
     "output_type": "execute_result"
    }
   ],
   "source": [
    "union1[union1['cities']=='soneja']"
   ]
  },
  {
   "cell_type": "code",
   "execution_count": 1330,
   "metadata": {
    "scrolled": true
   },
   "outputs": [
    {
     "data": {
      "text/plain": [
       "(3791, 10)"
      ]
     },
     "execution_count": 1330,
     "metadata": {},
     "output_type": "execute_result"
    }
   ],
   "source": [
    "union1[~union1['num_bibliotecas'].isnull()].shape"
   ]
  },
  {
   "cell_type": "code",
   "execution_count": 1331,
   "metadata": {
    "scrolled": true
   },
   "outputs": [
    {
     "data": {
      "text/plain": [
       "(6066, 10)"
      ]
     },
     "execution_count": 1331,
     "metadata": {},
     "output_type": "execute_result"
    }
   ],
   "source": [
    "union1.shape"
   ]
  },
  {
   "cell_type": "markdown",
   "metadata": {},
   "source": [
    "##### Hospitales"
   ]
  },
  {
   "cell_type": "code",
   "execution_count": 1332,
   "metadata": {},
   "outputs": [
    {
     "data": {
      "text/plain": [
       "(613, 2)"
      ]
     },
     "execution_count": 1332,
     "metadata": {},
     "output_type": "execute_result"
    }
   ],
   "source": [
    "hospitales = pd.read_csv(\"sociedad_sanidad_hospitales_2019_limpio.csv\", index_col=0, dtype={'cp': object})\n",
    "hospitales.shape"
   ]
  },
  {
   "cell_type": "code",
   "execution_count": 1333,
   "metadata": {
    "scrolled": false
   },
   "outputs": [
    {
     "data": {
      "text/html": [
       "<div>\n",
       "<style scoped>\n",
       "    .dataframe tbody tr th:only-of-type {\n",
       "        vertical-align: middle;\n",
       "    }\n",
       "\n",
       "    .dataframe tbody tr th {\n",
       "        vertical-align: top;\n",
       "    }\n",
       "\n",
       "    .dataframe thead th {\n",
       "        text-align: right;\n",
       "    }\n",
       "</style>\n",
       "<table border=\"1\" class=\"dataframe\">\n",
       "  <thead>\n",
       "    <tr style=\"text-align: right;\">\n",
       "      <th></th>\n",
       "      <th>cp</th>\n",
       "      <th>uds_hospiatales</th>\n",
       "    </tr>\n",
       "  </thead>\n",
       "  <tbody>\n",
       "    <tr>\n",
       "      <th>0</th>\n",
       "      <td>01002</td>\n",
       "      <td>1</td>\n",
       "    </tr>\n",
       "    <tr>\n",
       "      <th>1</th>\n",
       "      <td>01006</td>\n",
       "      <td>1</td>\n",
       "    </tr>\n",
       "  </tbody>\n",
       "</table>\n",
       "</div>"
      ],
      "text/plain": [
       "      cp  uds_hospiatales\n",
       "0  01002                1\n",
       "1  01006                1"
      ]
     },
     "execution_count": 1333,
     "metadata": {},
     "output_type": "execute_result"
    }
   ],
   "source": [
    "hospitales.head(2)"
   ]
  },
  {
   "cell_type": "code",
   "execution_count": 1334,
   "metadata": {},
   "outputs": [
    {
     "data": {
      "text/plain": [
       "Index(['postal_code', 'cities_es/province'], dtype='object')"
      ]
     },
     "execution_count": 1334,
     "metadata": {},
     "output_type": "execute_result"
    }
   ],
   "source": [
    "maestro_nivel_cod_postal.columns"
   ]
  },
  {
   "cell_type": "code",
   "execution_count": 1335,
   "metadata": {
    "scrolled": false
   },
   "outputs": [],
   "source": [
    "hospitales.rename(columns={'uds_hospiatales': 'num_hospitales'}, inplace=True)"
   ]
  },
  {
   "cell_type": "code",
   "execution_count": 1336,
   "metadata": {
    "scrolled": true
   },
   "outputs": [
    {
     "data": {
      "text/plain": [
       "(6066, 11)"
      ]
     },
     "execution_count": 1336,
     "metadata": {},
     "output_type": "execute_result"
    }
   ],
   "source": [
    "union2 = union_cod_postal(maestro_nivel_cod_postal, hospitales, union1, 'postal_code', 'cp', 'cities_es/province', 'sum')\n",
    "union2.shape"
   ]
  },
  {
   "cell_type": "code",
   "execution_count": 1337,
   "metadata": {},
   "outputs": [
    {
     "data": {
      "text/html": [
       "<div>\n",
       "<style scoped>\n",
       "    .dataframe tbody tr th:only-of-type {\n",
       "        vertical-align: middle;\n",
       "    }\n",
       "\n",
       "    .dataframe tbody tr th {\n",
       "        vertical-align: top;\n",
       "    }\n",
       "\n",
       "    .dataframe thead th {\n",
       "        text-align: right;\n",
       "    }\n",
       "</style>\n",
       "<table border=\"1\" class=\"dataframe\">\n",
       "  <thead>\n",
       "    <tr style=\"text-align: right;\">\n",
       "      <th></th>\n",
       "      <th>cities_es</th>\n",
       "      <th>cities</th>\n",
       "      <th>province_es</th>\n",
       "      <th>province</th>\n",
       "      <th>ccaa_es</th>\n",
       "      <th>ccaa</th>\n",
       "      <th>cities_es/province</th>\n",
       "      <th>provincia_original</th>\n",
       "      <th>municipio_original</th>\n",
       "      <th>num_bibliotecas</th>\n",
       "      <th>num_hospitales</th>\n",
       "    </tr>\n",
       "  </thead>\n",
       "  <tbody>\n",
       "    <tr>\n",
       "      <th>0</th>\n",
       "      <td>alegria_dulantzi</td>\n",
       "      <td>alegria_dulantzi</td>\n",
       "      <td>alava</td>\n",
       "      <td>araba</td>\n",
       "      <td>pais_vasco</td>\n",
       "      <td>pais_vasco</td>\n",
       "      <td>alegria_dulantzi/araba</td>\n",
       "      <td>Araba/Álava</td>\n",
       "      <td>Alegría-Dulantzi</td>\n",
       "      <td>1.0</td>\n",
       "      <td>0.0</td>\n",
       "    </tr>\n",
       "    <tr>\n",
       "      <th>1</th>\n",
       "      <td>amurrio</td>\n",
       "      <td>amurrio</td>\n",
       "      <td>alava</td>\n",
       "      <td>araba</td>\n",
       "      <td>pais_vasco</td>\n",
       "      <td>pais_vasco</td>\n",
       "      <td>amurrio/araba</td>\n",
       "      <td>Araba/Álava</td>\n",
       "      <td>Amurrio</td>\n",
       "      <td>1.0</td>\n",
       "      <td>0.0</td>\n",
       "    </tr>\n",
       "    <tr>\n",
       "      <th>2</th>\n",
       "      <td>aramaio</td>\n",
       "      <td>aramaio</td>\n",
       "      <td>alava</td>\n",
       "      <td>araba</td>\n",
       "      <td>pais_vasco</td>\n",
       "      <td>pais_vasco</td>\n",
       "      <td>aramaio/araba</td>\n",
       "      <td>Araba/Álava</td>\n",
       "      <td>Aramaio</td>\n",
       "      <td>1.0</td>\n",
       "      <td>0.0</td>\n",
       "    </tr>\n",
       "    <tr>\n",
       "      <th>3</th>\n",
       "      <td>artziniega</td>\n",
       "      <td>artziniega</td>\n",
       "      <td>alava</td>\n",
       "      <td>araba</td>\n",
       "      <td>pais_vasco</td>\n",
       "      <td>pais_vasco</td>\n",
       "      <td>artziniega/araba</td>\n",
       "      <td>Araba/Álava</td>\n",
       "      <td>Artziniega</td>\n",
       "      <td>1.0</td>\n",
       "      <td>0.0</td>\n",
       "    </tr>\n",
       "    <tr>\n",
       "      <th>4</th>\n",
       "      <td>arminon</td>\n",
       "      <td>arminon</td>\n",
       "      <td>alava</td>\n",
       "      <td>araba</td>\n",
       "      <td>pais_vasco</td>\n",
       "      <td>pais_vasco</td>\n",
       "      <td>arminon/araba</td>\n",
       "      <td>Araba/Álava</td>\n",
       "      <td>Armiñón</td>\n",
       "      <td>NaN</td>\n",
       "      <td>0.0</td>\n",
       "    </tr>\n",
       "  </tbody>\n",
       "</table>\n",
       "</div>"
      ],
      "text/plain": [
       "          cities_es            cities province_es province     ccaa_es  \\\n",
       "0  alegria_dulantzi  alegria_dulantzi       alava    araba  pais_vasco   \n",
       "1           amurrio           amurrio       alava    araba  pais_vasco   \n",
       "2           aramaio           aramaio       alava    araba  pais_vasco   \n",
       "3        artziniega        artziniega       alava    araba  pais_vasco   \n",
       "4           arminon           arminon       alava    araba  pais_vasco   \n",
       "\n",
       "         ccaa      cities_es/province provincia_original municipio_original  \\\n",
       "0  pais_vasco  alegria_dulantzi/araba        Araba/Álava   Alegría-Dulantzi   \n",
       "1  pais_vasco           amurrio/araba        Araba/Álava            Amurrio   \n",
       "2  pais_vasco           aramaio/araba        Araba/Álava            Aramaio   \n",
       "3  pais_vasco        artziniega/araba        Araba/Álava         Artziniega   \n",
       "4  pais_vasco           arminon/araba        Araba/Álava            Armiñón   \n",
       "\n",
       "   num_bibliotecas  num_hospitales  \n",
       "0              1.0             0.0  \n",
       "1              1.0             0.0  \n",
       "2              1.0             0.0  \n",
       "3              1.0             0.0  \n",
       "4              NaN             0.0  "
      ]
     },
     "execution_count": 1337,
     "metadata": {},
     "output_type": "execute_result"
    }
   ],
   "source": [
    "union2.head()"
   ]
  },
  {
   "cell_type": "code",
   "execution_count": 1338,
   "metadata": {},
   "outputs": [
    {
     "data": {
      "text/plain": [
       "(338, 11)"
      ]
     },
     "execution_count": 1338,
     "metadata": {},
     "output_type": "execute_result"
    }
   ],
   "source": [
    "union2[union2['num_hospitales']>0].shape"
   ]
  },
  {
   "cell_type": "markdown",
   "metadata": {},
   "source": [
    "##### Centros salud"
   ]
  },
  {
   "cell_type": "code",
   "execution_count": 1339,
   "metadata": {},
   "outputs": [
    {
     "data": {
      "text/plain": [
       "(8316, 2)"
      ]
     },
     "execution_count": 1339,
     "metadata": {},
     "output_type": "execute_result"
    }
   ],
   "source": [
    "centros_salud = pd.read_csv(\"sociedad_sanidad_centros_salud_2019_limpio.csv\", index_col=0, dtype={'cp': object})\n",
    "centros_salud.shape"
   ]
  },
  {
   "cell_type": "code",
   "execution_count": 1340,
   "metadata": {},
   "outputs": [
    {
     "data": {
      "text/html": [
       "<div>\n",
       "<style scoped>\n",
       "    .dataframe tbody tr th:only-of-type {\n",
       "        vertical-align: middle;\n",
       "    }\n",
       "\n",
       "    .dataframe tbody tr th {\n",
       "        vertical-align: top;\n",
       "    }\n",
       "\n",
       "    .dataframe thead th {\n",
       "        text-align: right;\n",
       "    }\n",
       "</style>\n",
       "<table border=\"1\" class=\"dataframe\">\n",
       "  <thead>\n",
       "    <tr style=\"text-align: right;\">\n",
       "      <th></th>\n",
       "      <th>cp</th>\n",
       "      <th>num_centros_salud</th>\n",
       "    </tr>\n",
       "  </thead>\n",
       "  <tbody>\n",
       "    <tr>\n",
       "      <th>0</th>\n",
       "      <td>01001</td>\n",
       "      <td>1</td>\n",
       "    </tr>\n",
       "    <tr>\n",
       "      <th>1</th>\n",
       "      <td>01002</td>\n",
       "      <td>2</td>\n",
       "    </tr>\n",
       "  </tbody>\n",
       "</table>\n",
       "</div>"
      ],
      "text/plain": [
       "      cp  num_centros_salud\n",
       "0  01001                  1\n",
       "1  01002                  2"
      ]
     },
     "execution_count": 1340,
     "metadata": {},
     "output_type": "execute_result"
    }
   ],
   "source": [
    "centros_salud.head(2)"
   ]
  },
  {
   "cell_type": "code",
   "execution_count": 1341,
   "metadata": {},
   "outputs": [
    {
     "data": {
      "text/plain": [
       "(6066, 12)"
      ]
     },
     "execution_count": 1341,
     "metadata": {},
     "output_type": "execute_result"
    }
   ],
   "source": [
    "union3 = union_cod_postal(maestro_nivel_cod_postal, centros_salud, union2, 'postal_code', 'cp', 'cities_es/province', 'sum')\n",
    "union3.shape"
   ]
  },
  {
   "cell_type": "code",
   "execution_count": 1342,
   "metadata": {},
   "outputs": [
    {
     "data": {
      "text/plain": [
       "(5880, 12)"
      ]
     },
     "execution_count": 1342,
     "metadata": {},
     "output_type": "execute_result"
    }
   ],
   "source": [
    "union3[union3['num_centros_salud']>0].shape"
   ]
  },
  {
   "cell_type": "markdown",
   "metadata": {},
   "source": [
    "##### Colegios"
   ]
  },
  {
   "cell_type": "code",
   "execution_count": 1343,
   "metadata": {},
   "outputs": [],
   "source": [
    "colegios = pd.read_csv(\"sociedad_educacion_colegios_2020_limpio.csv\", index_col=0, dtype={'codigo_postal': object})"
   ]
  },
  {
   "cell_type": "code",
   "execution_count": 1344,
   "metadata": {},
   "outputs": [
    {
     "data": {
      "text/plain": [
       "(7838, 5)"
      ]
     },
     "execution_count": 1344,
     "metadata": {},
     "output_type": "execute_result"
    }
   ],
   "source": [
    "colegios.shape"
   ]
  },
  {
   "cell_type": "code",
   "execution_count": 1345,
   "metadata": {
    "scrolled": true
   },
   "outputs": [
    {
     "data": {
      "text/html": [
       "<div>\n",
       "<style scoped>\n",
       "    .dataframe tbody tr th:only-of-type {\n",
       "        vertical-align: middle;\n",
       "    }\n",
       "\n",
       "    .dataframe tbody tr th {\n",
       "        vertical-align: top;\n",
       "    }\n",
       "\n",
       "    .dataframe thead th {\n",
       "        text-align: right;\n",
       "    }\n",
       "</style>\n",
       "<table border=\"1\" class=\"dataframe\">\n",
       "  <thead>\n",
       "    <tr style=\"text-align: right;\">\n",
       "      <th></th>\n",
       "      <th>codigo_postal</th>\n",
       "      <th>municipio_limpio</th>\n",
       "      <th>provincia</th>\n",
       "      <th>num_colegios_privados</th>\n",
       "      <th>num_colegios_publicos</th>\n",
       "    </tr>\n",
       "  </thead>\n",
       "  <tbody>\n",
       "    <tr>\n",
       "      <th>0</th>\n",
       "      <td>00000</td>\n",
       "      <td>a_coruna</td>\n",
       "      <td>a_coruna</td>\n",
       "      <td>6.0</td>\n",
       "      <td>NaN</td>\n",
       "    </tr>\n",
       "    <tr>\n",
       "      <th>1</th>\n",
       "      <td>00000</td>\n",
       "      <td>a_pontenova</td>\n",
       "      <td>lugo</td>\n",
       "      <td>NaN</td>\n",
       "      <td>1.0</td>\n",
       "    </tr>\n",
       "  </tbody>\n",
       "</table>\n",
       "</div>"
      ],
      "text/plain": [
       "  codigo_postal municipio_limpio provincia  num_colegios_privados  \\\n",
       "0         00000         a_coruna  a_coruna                    6.0   \n",
       "1         00000      a_pontenova      lugo                    NaN   \n",
       "\n",
       "   num_colegios_publicos  \n",
       "0                    NaN  \n",
       "1                    1.0  "
      ]
     },
     "execution_count": 1345,
     "metadata": {},
     "output_type": "execute_result"
    }
   ],
   "source": [
    "colegios.head(2)"
   ]
  },
  {
   "cell_type": "code",
   "execution_count": 1346,
   "metadata": {
    "scrolled": true
   },
   "outputs": [
    {
     "data": {
      "text/html": [
       "<div>\n",
       "<style scoped>\n",
       "    .dataframe tbody tr th:only-of-type {\n",
       "        vertical-align: middle;\n",
       "    }\n",
       "\n",
       "    .dataframe tbody tr th {\n",
       "        vertical-align: top;\n",
       "    }\n",
       "\n",
       "    .dataframe thead th {\n",
       "        text-align: right;\n",
       "    }\n",
       "</style>\n",
       "<table border=\"1\" class=\"dataframe\">\n",
       "  <thead>\n",
       "    <tr style=\"text-align: right;\">\n",
       "      <th></th>\n",
       "      <th>codigo_postal</th>\n",
       "      <th>municipio_limpio</th>\n",
       "      <th>provincia</th>\n",
       "      <th>num_colegios_privados</th>\n",
       "      <th>num_colegios_publicos</th>\n",
       "    </tr>\n",
       "  </thead>\n",
       "  <tbody>\n",
       "  </tbody>\n",
       "</table>\n",
       "</div>"
      ],
      "text/plain": [
       "Empty DataFrame\n",
       "Columns: [codigo_postal, municipio_limpio, provincia, num_colegios_privados, num_colegios_publicos]\n",
       "Index: []"
      ]
     },
     "execution_count": 1346,
     "metadata": {},
     "output_type": "execute_result"
    }
   ],
   "source": [
    "colegios[colegios['codigo_postal']=='01450']\n",
    "#codigos postales erroneos, se une por municipio/provincia y cambiando de idioma"
   ]
  },
  {
   "cell_type": "code",
   "execution_count": 1347,
   "metadata": {
    "scrolled": true
   },
   "outputs": [
    {
     "data": {
      "text/html": [
       "<div>\n",
       "<style scoped>\n",
       "    .dataframe tbody tr th:only-of-type {\n",
       "        vertical-align: middle;\n",
       "    }\n",
       "\n",
       "    .dataframe tbody tr th {\n",
       "        vertical-align: top;\n",
       "    }\n",
       "\n",
       "    .dataframe thead th {\n",
       "        text-align: right;\n",
       "    }\n",
       "</style>\n",
       "<table border=\"1\" class=\"dataframe\">\n",
       "  <thead>\n",
       "    <tr style=\"text-align: right;\">\n",
       "      <th></th>\n",
       "      <th>codigo_postal</th>\n",
       "      <th>municipio_limpio</th>\n",
       "      <th>provincia</th>\n",
       "      <th>num_colegios_privados</th>\n",
       "      <th>num_colegios_publicos</th>\n",
       "    </tr>\n",
       "  </thead>\n",
       "  <tbody>\n",
       "    <tr>\n",
       "      <th>81</th>\n",
       "      <td>01240</td>\n",
       "      <td>alegria_dulantzi</td>\n",
       "      <td>araba</td>\n",
       "      <td>NaN</td>\n",
       "      <td>3.0</td>\n",
       "    </tr>\n",
       "  </tbody>\n",
       "</table>\n",
       "</div>"
      ],
      "text/plain": [
       "   codigo_postal  municipio_limpio provincia  num_colegios_privados  \\\n",
       "81         01240  alegria_dulantzi     araba                    NaN   \n",
       "\n",
       "    num_colegios_publicos  \n",
       "81                    3.0  "
      ]
     },
     "execution_count": 1347,
     "metadata": {},
     "output_type": "execute_result"
    }
   ],
   "source": [
    "colegios[colegios['municipio_limpio']=='alegria_dulantzi']\n",
    "# idioma municipio = es"
   ]
  },
  {
   "cell_type": "code",
   "execution_count": 1348,
   "metadata": {},
   "outputs": [
    {
     "data": {
      "text/plain": [
       "(6331, 4)"
      ]
     },
     "execution_count": 1348,
     "metadata": {},
     "output_type": "execute_result"
    }
   ],
   "source": [
    "colegios.drop(columns=['codigo_postal'], inplace=True)\n",
    "colegios.rename(columns={'provincia': 'provincia_limpio'}, inplace=True)\n",
    "colegios = colegios.groupby(by=['municipio_limpio','provincia_limpio'], as_index=False).sum()\n",
    "colegios.shape"
   ]
  },
  {
   "cell_type": "code",
   "execution_count": 1349,
   "metadata": {
    "scrolled": true
   },
   "outputs": [
    {
     "name": "stdout",
     "output_type": "stream",
     "text": [
      "num registros maestro: 6066\n",
      "num registros fichero para unir: 6331\n",
      "num agrupaciones maestro: (52, 1)\n",
      "num agrupaciones union: (52, 1)\n",
      "num agrupaciones tras match: (52, 2)\n",
      "df_union_agrup_match: (6331, 6)\n",
      "araba\n",
      "no se han cruzado todos los valores:\n",
      "gipuzkoa\n",
      "no se han cruzado todos los valores:\n",
      "bizkaia\n",
      "no se han cruzado todos los valores:\n",
      "albacete\n",
      "no se han cruzado todos los valores:\n",
      "ciudad_real\n",
      "no se han cruzado todos los valores:\n",
      "cuenca\n",
      "no se han cruzado todos los valores:\n",
      "guadalajara\n",
      "no se han cruzado todos los valores:\n",
      "toledo\n",
      "no se han cruzado todos los valores:\n",
      "alicante\n",
      "no se han cruzado todos los valores:\n",
      "castellon\n",
      "no se han cruzado todos los valores:\n",
      "valencia\n",
      "no se han cruzado todos los valores:\n",
      "murcia\n",
      "no se han cruzado todos los valores:\n",
      "almeria\n",
      "no se han cruzado todos los valores:\n",
      "cadiz\n",
      "no se han cruzado todos los valores:\n",
      "cordoba\n",
      "no se han cruzado todos los valores:\n",
      "granada\n",
      "no se han cruzado todos los valores:\n",
      "huelva\n",
      "no se han cruzado todos los valores:\n",
      "jaen\n",
      "no se han cruzado todos los valores:\n",
      "malaga\n",
      "no se han cruzado todos los valores:\n",
      "sevilla\n",
      "no se han cruzado todos los valores:\n",
      "avila\n",
      "no se han cruzado todos los valores:\n",
      "burgos\n",
      "no se han cruzado todos los valores:\n",
      "palencia\n",
      "no se han cruzado todos los valores:\n",
      "leon\n",
      "no se han cruzado todos los valores:\n",
      "salamanca\n",
      "no se han cruzado todos los valores:\n",
      "segovia\n",
      "no se han cruzado todos los valores:\n",
      "soria\n",
      "no se han cruzado todos los valores:\n",
      "valladolid\n",
      "no se han cruzado todos los valores:\n",
      "zamora\n",
      "no se han cruzado todos los valores:\n",
      "badajoz\n",
      "no se han cruzado todos los valores:\n",
      "caceres\n",
      "no se han cruzado todos los valores:\n",
      "illes_balears\n",
      "no se han cruzado todos los valores:\n",
      "barcelona\n",
      "no se han cruzado todos los valores:\n",
      "tarragona\n",
      "no se han cruzado todos los valores:\n",
      "girona\n",
      "no se han cruzado todos los valores:\n",
      "lleida\n",
      "no se han cruzado todos los valores:\n",
      "cantabria\n",
      "no se han cruzado todos los valores:\n",
      "la_rioja\n",
      "no se han cruzado todos los valores:\n",
      "coruna\n",
      "no se han cruzado todos los valores:\n",
      "lugo\n",
      "no se han cruzado todos los valores:\n",
      "ourense\n",
      "no se han cruzado todos los valores:\n",
      "pontevedra\n",
      "no se han cruzado todos los valores:\n",
      "madrid\n",
      "no se han cruzado todos los valores:\n",
      "huesca\n",
      "no se han cruzado todos los valores:\n",
      "zaragoza\n",
      "no se han cruzado todos los valores:\n",
      "teruel\n",
      "no se han cruzado todos los valores:\n",
      "navarra\n",
      "no se han cruzado todos los valores:\n",
      "asturias\n",
      "no se han cruzado todos los valores:\n",
      "las_palmas\n",
      "no se han cruzado todos los valores:\n",
      "santa_cruz_de_tenerife\n",
      "no se han cruzado todos los valores:\n",
      "ceuta\n",
      "melilla\n",
      "num muni maestro: 6066\n",
      "muni_match: Index(['cities_es', 'cities', 'province_es', 'province', 'ccaa_es', 'ccaa',\n",
      "       'cities_es/province', 'provincia_original', 'municipio_original',\n",
      "       'num_bibliotecas', 'num_hospitales', 'num_centros_salud', 'matches'],\n",
      "      dtype='object')\n",
      "df_union_agrup_match: (6331, 5)\n",
      "el fichero de union no dispone de todos los valores para cruzar por municipio\n",
      "columnas final: Index(['cities_es', 'cities', 'province_es', 'province', 'ccaa_es', 'ccaa',\n",
      "       'cities_es/province', 'provincia_original', 'municipio_original',\n",
      "       'num_bibliotecas', 'num_hospitales', 'num_centros_salud', 'matches',\n",
      "       'municipio_limpio', 'provincia_limpio', 'num_colegios_privados',\n",
      "       'num_colegios_publicos', 'muni_agrup'],\n",
      "      dtype='object')\n",
      "num registros tras union: (6066, 14)\n"
     ]
    }
   ],
   "source": [
    "union4 = union_muni(union3, colegios, 'cities_es', 'province', 'municipio_limpio', 'provincia_limpio', threshold=85, threshold_mun=90)"
   ]
  },
  {
   "cell_type": "code",
   "execution_count": 1350,
   "metadata": {
    "scrolled": true
   },
   "outputs": [
    {
     "data": {
      "text/plain": [
       "(4849, 14)"
      ]
     },
     "execution_count": 1350,
     "metadata": {},
     "output_type": "execute_result"
    }
   ],
   "source": [
    "union4[union4['num_colegios_publicos']>0.0].shape"
   ]
  },
  {
   "cell_type": "code",
   "execution_count": 1351,
   "metadata": {
    "scrolled": false
   },
   "outputs": [
    {
     "data": {
      "text/plain": [
       "Index(['cities_es', 'cities', 'province_es', 'province', 'ccaa_es', 'ccaa',\n",
       "       'cities_es/province', 'provincia_original', 'municipio_original',\n",
       "       'num_bibliotecas', 'num_hospitales', 'num_centros_salud',\n",
       "       'num_colegios_privados', 'num_colegios_publicos'],\n",
       "      dtype='object')"
      ]
     },
     "execution_count": 1351,
     "metadata": {},
     "output_type": "execute_result"
    }
   ],
   "source": [
    "union4.columns"
   ]
  },
  {
   "cell_type": "code",
   "execution_count": 1352,
   "metadata": {},
   "outputs": [
    {
     "data": {
      "text/plain": [
       "(6066, 14)"
      ]
     },
     "execution_count": 1352,
     "metadata": {},
     "output_type": "execute_result"
    }
   ],
   "source": [
    "union4.shape"
   ]
  },
  {
   "cell_type": "markdown",
   "metadata": {},
   "source": [
    "##### Guardia Civil"
   ]
  },
  {
   "cell_type": "code",
   "execution_count": 1353,
   "metadata": {},
   "outputs": [],
   "source": [
    "guardia_civil = pd.read_csv(\"sociedad_seguridad_guardia_civil_2019_limpio.csv\", index_col=0, dtype={'cp': object})"
   ]
  },
  {
   "cell_type": "code",
   "execution_count": 1354,
   "metadata": {},
   "outputs": [
    {
     "data": {
      "text/plain": [
       "(2237, 4)"
      ]
     },
     "execution_count": 1354,
     "metadata": {},
     "output_type": "execute_result"
    }
   ],
   "source": [
    "guardia_civil.shape"
   ]
  },
  {
   "cell_type": "code",
   "execution_count": 1355,
   "metadata": {
    "scrolled": false
   },
   "outputs": [
    {
     "data": {
      "text/html": [
       "<div>\n",
       "<style scoped>\n",
       "    .dataframe tbody tr th:only-of-type {\n",
       "        vertical-align: middle;\n",
       "    }\n",
       "\n",
       "    .dataframe tbody tr th {\n",
       "        vertical-align: top;\n",
       "    }\n",
       "\n",
       "    .dataframe thead th {\n",
       "        text-align: right;\n",
       "    }\n",
       "</style>\n",
       "<table border=\"1\" class=\"dataframe\">\n",
       "  <thead>\n",
       "    <tr style=\"text-align: right;\">\n",
       "      <th></th>\n",
       "      <th>cp</th>\n",
       "      <th>municipio_limpio</th>\n",
       "      <th>provincia</th>\n",
       "      <th>uds_guardia_civil</th>\n",
       "    </tr>\n",
       "  </thead>\n",
       "  <tbody>\n",
       "    <tr>\n",
       "      <th>0</th>\n",
       "      <td>10003</td>\n",
       "      <td>caceres</td>\n",
       "      <td>caceres</td>\n",
       "      <td>1</td>\n",
       "    </tr>\n",
       "    <tr>\n",
       "      <th>1</th>\n",
       "      <td>1010</td>\n",
       "      <td>vitoria</td>\n",
       "      <td>alava</td>\n",
       "      <td>1</td>\n",
       "    </tr>\n",
       "    <tr>\n",
       "      <th>2</th>\n",
       "      <td>10100</td>\n",
       "      <td>miajadas</td>\n",
       "      <td>caceres</td>\n",
       "      <td>1</td>\n",
       "    </tr>\n",
       "    <tr>\n",
       "      <th>3</th>\n",
       "      <td>10110</td>\n",
       "      <td>madrigalejo</td>\n",
       "      <td>caceres</td>\n",
       "      <td>1</td>\n",
       "    </tr>\n",
       "    <tr>\n",
       "      <th>4</th>\n",
       "      <td>10120</td>\n",
       "      <td>logrosan</td>\n",
       "      <td>caceres</td>\n",
       "      <td>1</td>\n",
       "    </tr>\n",
       "  </tbody>\n",
       "</table>\n",
       "</div>"
      ],
      "text/plain": [
       "      cp municipio_limpio provincia  uds_guardia_civil\n",
       "0  10003          caceres   caceres                  1\n",
       "1   1010          vitoria     alava                  1\n",
       "2  10100         miajadas   caceres                  1\n",
       "3  10110      madrigalejo   caceres                  1\n",
       "4  10120         logrosan   caceres                  1"
      ]
     },
     "execution_count": 1355,
     "metadata": {},
     "output_type": "execute_result"
    }
   ],
   "source": [
    "guardia_civil.head(5)\n",
    "#codigo postal no valido"
   ]
  },
  {
   "cell_type": "code",
   "execution_count": 1356,
   "metadata": {
    "scrolled": false
   },
   "outputs": [
    {
     "data": {
      "text/html": [
       "<div>\n",
       "<style scoped>\n",
       "    .dataframe tbody tr th:only-of-type {\n",
       "        vertical-align: middle;\n",
       "    }\n",
       "\n",
       "    .dataframe tbody tr th {\n",
       "        vertical-align: top;\n",
       "    }\n",
       "\n",
       "    .dataframe thead th {\n",
       "        text-align: right;\n",
       "    }\n",
       "</style>\n",
       "<table border=\"1\" class=\"dataframe\">\n",
       "  <thead>\n",
       "    <tr style=\"text-align: right;\">\n",
       "      <th></th>\n",
       "      <th>cp</th>\n",
       "      <th>municipio_limpio</th>\n",
       "      <th>provincia</th>\n",
       "      <th>uds_guardia_civil</th>\n",
       "    </tr>\n",
       "  </thead>\n",
       "  <tbody>\n",
       "    <tr>\n",
       "      <th>153</th>\n",
       "      <td>12560</td>\n",
       "      <td>benicasim</td>\n",
       "      <td>castellon</td>\n",
       "      <td>1</td>\n",
       "    </tr>\n",
       "  </tbody>\n",
       "</table>\n",
       "</div>"
      ],
      "text/plain": [
       "        cp municipio_limpio  provincia  uds_guardia_civil\n",
       "153  12560        benicasim  castellon                  1"
      ]
     },
     "execution_count": 1356,
     "metadata": {},
     "output_type": "execute_result"
    }
   ],
   "source": [
    "guardia_civil[guardia_civil['municipio_limpio']=='benicasim']\n",
    "# idioma municipio = es"
   ]
  },
  {
   "cell_type": "code",
   "execution_count": 1357,
   "metadata": {},
   "outputs": [
    {
     "data": {
      "text/plain": [
       "(2139, 3)"
      ]
     },
     "execution_count": 1357,
     "metadata": {},
     "output_type": "execute_result"
    }
   ],
   "source": [
    "guardia_civil.drop(columns=['cp'], inplace=True)\n",
    "guardia_civil.rename(columns={'provincia': 'provincia_limpio', 'uds_guardia_civil': 'num_guardia_civil'}, inplace=True)\n",
    "guardia_civil = guardia_civil.groupby(by=['municipio_limpio','provincia_limpio'], as_index=False).sum()\n",
    "guardia_civil.shape"
   ]
  },
  {
   "cell_type": "code",
   "execution_count": 1358,
   "metadata": {
    "scrolled": true
   },
   "outputs": [
    {
     "name": "stdout",
     "output_type": "stream",
     "text": [
      "num registros maestro: 6066\n",
      "num registros fichero para unir: 2139\n",
      "num agrupaciones maestro: (52, 1)\n",
      "num agrupaciones union: (52, 1)\n",
      "num agrupaciones tras match: (52, 2)\n",
      "df_union_agrup_match: (2139, 5)\n",
      "alava\n",
      "no se han cruzado todos los valores:\n",
      "guipuzkoa\n",
      "no se han cruzado todos los valores:\n",
      "vizcaya\n",
      "no se han cruzado todos los valores:\n",
      "albacete\n",
      "no se han cruzado todos los valores:\n",
      "ciudad_real\n",
      "no se han cruzado todos los valores:\n",
      "cuenca\n",
      "no se han cruzado todos los valores:\n",
      "guadalajara\n",
      "no se han cruzado todos los valores:\n",
      "toledo\n",
      "no se han cruzado todos los valores:\n",
      "alicante\n",
      "no se han cruzado todos los valores:\n",
      "castellon\n",
      "no se han cruzado todos los valores:\n",
      "valencia\n",
      "no se han cruzado todos los valores:\n",
      "murcia\n",
      "no se han cruzado todos los valores:\n",
      "almeria\n",
      "no se han cruzado todos los valores:\n",
      "cadiz\n",
      "no se han cruzado todos los valores:\n",
      "cordoba\n",
      "no se han cruzado todos los valores:\n",
      "granada\n",
      "no se han cruzado todos los valores:\n",
      "huelva\n",
      "no se han cruzado todos los valores:\n",
      "jaen\n",
      "no se han cruzado todos los valores:\n",
      "malaga\n",
      "no se han cruzado todos los valores:\n",
      "sevilla\n",
      "no se han cruzado todos los valores:\n",
      "avila\n",
      "no se han cruzado todos los valores:\n",
      "burgos\n",
      "no se han cruzado todos los valores:\n",
      "palencia\n",
      "no se han cruzado todos los valores:\n",
      "leon\n",
      "no se han cruzado todos los valores:\n",
      "salamanca\n",
      "no se han cruzado todos los valores:\n",
      "segovia\n",
      "no se han cruzado todos los valores:\n",
      "soria\n",
      "no se han cruzado todos los valores:\n",
      "valladolid\n",
      "no se han cruzado todos los valores:\n",
      "zamora\n",
      "no se han cruzado todos los valores:\n",
      "badajoz\n",
      "no se han cruzado todos los valores:\n",
      "caceres\n",
      "no se han cruzado todos los valores:\n",
      "illes_balears\n",
      "no se han cruzado todos los valores:\n",
      "barcelona\n",
      "no se han cruzado todos los valores:\n",
      "tarragona\n",
      "no se han cruzado todos los valores:\n",
      "girona\n",
      "no se han cruzado todos los valores:\n",
      "lleida\n",
      "no se han cruzado todos los valores:\n",
      "cantabria\n",
      "no se han cruzado todos los valores:\n",
      "la_rioja\n",
      "no se han cruzado todos los valores:\n",
      "coruna\n",
      "no se han cruzado todos los valores:\n",
      "lugo\n",
      "no se han cruzado todos los valores:\n",
      "ourense\n",
      "no se han cruzado todos los valores:\n",
      "pontevedra\n",
      "no se han cruzado todos los valores:\n",
      "madrid\n",
      "no se han cruzado todos los valores:\n",
      "huesca\n",
      "no se han cruzado todos los valores:\n",
      "zaragoza\n",
      "no se han cruzado todos los valores:\n",
      "teruel\n",
      "no se han cruzado todos los valores:\n",
      "navarra\n",
      "no se han cruzado todos los valores:\n",
      "asturias\n",
      "no se han cruzado todos los valores:\n",
      "las_palmas\n",
      "no se han cruzado todos los valores:\n",
      "santa_cruz_de_tenerife\n",
      "no se han cruzado todos los valores:\n",
      "ceuta\n",
      "melilla\n",
      "num muni maestro: 6066\n",
      "muni_match: Index(['cities_es', 'cities', 'province_es', 'province', 'ccaa_es', 'ccaa',\n",
      "       'cities_es/province', 'provincia_original', 'municipio_original',\n",
      "       'num_bibliotecas', 'num_hospitales', 'num_centros_salud',\n",
      "       'num_colegios_privados', 'num_colegios_publicos', 'matches'],\n",
      "      dtype='object')\n",
      "df_union_agrup_match: (2139, 4)\n",
      "el fichero de union no dispone de todos los valores para cruzar por municipio\n",
      "columnas final: Index(['cities_es', 'cities', 'province_es', 'province', 'ccaa_es', 'ccaa',\n",
      "       'cities_es/province', 'provincia_original', 'municipio_original',\n",
      "       'num_bibliotecas', 'num_hospitales', 'num_centros_salud',\n",
      "       'num_colegios_privados', 'num_colegios_publicos', 'matches',\n",
      "       'municipio_limpio', 'provincia_limpio', 'num_guardia_civil',\n",
      "       'muni_agrup'],\n",
      "      dtype='object')\n",
      "num registros tras union: (6066, 15)\n"
     ]
    }
   ],
   "source": [
    "union5 = union_muni(union4, guardia_civil, 'cities_es', 'province_es', 'municipio_limpio', 'provincia_limpio', threshold=85, threshold_mun=90)"
   ]
  },
  {
   "cell_type": "code",
   "execution_count": 1359,
   "metadata": {},
   "outputs": [
    {
     "data": {
      "text/plain": [
       "(4355, 15)"
      ]
     },
     "execution_count": 1359,
     "metadata": {},
     "output_type": "execute_result"
    }
   ],
   "source": [
    "union5[~union5['num_guardia_civil'].isnull()].shape"
   ]
  },
  {
   "cell_type": "code",
   "execution_count": 1360,
   "metadata": {
    "scrolled": true
   },
   "outputs": [
    {
     "data": {
      "text/html": [
       "<div>\n",
       "<style scoped>\n",
       "    .dataframe tbody tr th:only-of-type {\n",
       "        vertical-align: middle;\n",
       "    }\n",
       "\n",
       "    .dataframe tbody tr th {\n",
       "        vertical-align: top;\n",
       "    }\n",
       "\n",
       "    .dataframe thead th {\n",
       "        text-align: right;\n",
       "    }\n",
       "</style>\n",
       "<table border=\"1\" class=\"dataframe\">\n",
       "  <thead>\n",
       "    <tr style=\"text-align: right;\">\n",
       "      <th></th>\n",
       "      <th>cities_es</th>\n",
       "      <th>cities</th>\n",
       "      <th>province_es</th>\n",
       "      <th>province</th>\n",
       "      <th>ccaa_es</th>\n",
       "      <th>ccaa</th>\n",
       "      <th>cities_es/province</th>\n",
       "      <th>provincia_original</th>\n",
       "      <th>municipio_original</th>\n",
       "      <th>num_bibliotecas</th>\n",
       "      <th>num_hospitales</th>\n",
       "      <th>num_centros_salud</th>\n",
       "      <th>num_colegios_privados</th>\n",
       "      <th>num_colegios_publicos</th>\n",
       "      <th>num_guardia_civil</th>\n",
       "    </tr>\n",
       "  </thead>\n",
       "  <tbody>\n",
       "    <tr>\n",
       "      <th>0</th>\n",
       "      <td>alegria_dulantzi</td>\n",
       "      <td>alegria_dulantzi</td>\n",
       "      <td>alava</td>\n",
       "      <td>araba</td>\n",
       "      <td>pais_vasco</td>\n",
       "      <td>pais_vasco</td>\n",
       "      <td>alegria_dulantzi/araba</td>\n",
       "      <td>Araba/Álava</td>\n",
       "      <td>Alegría-Dulantzi</td>\n",
       "      <td>1.0</td>\n",
       "      <td>0.0</td>\n",
       "      <td>1.0</td>\n",
       "      <td>0.0</td>\n",
       "      <td>3.0</td>\n",
       "      <td>NaN</td>\n",
       "    </tr>\n",
       "    <tr>\n",
       "      <th>1</th>\n",
       "      <td>amurrio</td>\n",
       "      <td>amurrio</td>\n",
       "      <td>alava</td>\n",
       "      <td>araba</td>\n",
       "      <td>pais_vasco</td>\n",
       "      <td>pais_vasco</td>\n",
       "      <td>amurrio/araba</td>\n",
       "      <td>Araba/Álava</td>\n",
       "      <td>Amurrio</td>\n",
       "      <td>1.0</td>\n",
       "      <td>0.0</td>\n",
       "      <td>1.0</td>\n",
       "      <td>3.0</td>\n",
       "      <td>6.0</td>\n",
       "      <td>NaN</td>\n",
       "    </tr>\n",
       "  </tbody>\n",
       "</table>\n",
       "</div>"
      ],
      "text/plain": [
       "          cities_es            cities province_es province     ccaa_es  \\\n",
       "0  alegria_dulantzi  alegria_dulantzi       alava    araba  pais_vasco   \n",
       "1           amurrio           amurrio       alava    araba  pais_vasco   \n",
       "\n",
       "         ccaa      cities_es/province provincia_original municipio_original  \\\n",
       "0  pais_vasco  alegria_dulantzi/araba        Araba/Álava   Alegría-Dulantzi   \n",
       "1  pais_vasco           amurrio/araba        Araba/Álava            Amurrio   \n",
       "\n",
       "   num_bibliotecas  num_hospitales  num_centros_salud  num_colegios_privados  \\\n",
       "0              1.0             0.0                1.0                    0.0   \n",
       "1              1.0             0.0                1.0                    3.0   \n",
       "\n",
       "   num_colegios_publicos  num_guardia_civil  \n",
       "0                    3.0                NaN  \n",
       "1                    6.0                NaN  "
      ]
     },
     "execution_count": 1360,
     "metadata": {},
     "output_type": "execute_result"
    }
   ],
   "source": [
    "union5.head(2)"
   ]
  },
  {
   "cell_type": "code",
   "execution_count": 1361,
   "metadata": {},
   "outputs": [
    {
     "data": {
      "text/plain": [
       "(6066, 15)"
      ]
     },
     "execution_count": 1361,
     "metadata": {},
     "output_type": "execute_result"
    }
   ],
   "source": [
    "union5.shape"
   ]
  },
  {
   "cell_type": "markdown",
   "metadata": {},
   "source": [
    "##### Universidades"
   ]
  },
  {
   "cell_type": "code",
   "execution_count": 1362,
   "metadata": {},
   "outputs": [],
   "source": [
    "universidad = pd.read_csv('sociedad_educacion_universidad_2018_limpio.csv', index_col=0, dtype={'cp': object})"
   ]
  },
  {
   "cell_type": "code",
   "execution_count": 1363,
   "metadata": {},
   "outputs": [
    {
     "data": {
      "text/plain": [
       "(165, 6)"
      ]
     },
     "execution_count": 1363,
     "metadata": {},
     "output_type": "execute_result"
    }
   ],
   "source": [
    "universidad.shape"
   ]
  },
  {
   "cell_type": "code",
   "execution_count": 1364,
   "metadata": {
    "scrolled": false
   },
   "outputs": [
    {
     "data": {
      "text/html": [
       "<div>\n",
       "<style scoped>\n",
       "    .dataframe tbody tr th:only-of-type {\n",
       "        vertical-align: middle;\n",
       "    }\n",
       "\n",
       "    .dataframe tbody tr th {\n",
       "        vertical-align: top;\n",
       "    }\n",
       "\n",
       "    .dataframe thead th {\n",
       "        text-align: right;\n",
       "    }\n",
       "</style>\n",
       "<table border=\"1\" class=\"dataframe\">\n",
       "  <thead>\n",
       "    <tr style=\"text-align: right;\">\n",
       "      <th></th>\n",
       "      <th>municipio_limpio</th>\n",
       "      <th>ccaa</th>\n",
       "      <th>num_universidades_privadas</th>\n",
       "      <th>num_universidades_publicas</th>\n",
       "      <th>num_tit_uni_privadas</th>\n",
       "      <th>num_tit_uni_publicas</th>\n",
       "    </tr>\n",
       "  </thead>\n",
       "  <tbody>\n",
       "    <tr>\n",
       "      <th>0</th>\n",
       "      <td>albacete</td>\n",
       "      <td>castilla_la_mancha</td>\n",
       "      <td>NaN</td>\n",
       "      <td>1.0</td>\n",
       "      <td>NaN</td>\n",
       "      <td>52.0</td>\n",
       "    </tr>\n",
       "    <tr>\n",
       "      <th>1</th>\n",
       "      <td>alcala_de_henares</td>\n",
       "      <td>madrid</td>\n",
       "      <td>1.0</td>\n",
       "      <td>1.0</td>\n",
       "      <td>5.0</td>\n",
       "      <td>114.0</td>\n",
       "    </tr>\n",
       "  </tbody>\n",
       "</table>\n",
       "</div>"
      ],
      "text/plain": [
       "    municipio_limpio                ccaa  num_universidades_privadas  \\\n",
       "0           albacete  castilla_la_mancha                         NaN   \n",
       "1  alcala_de_henares              madrid                         1.0   \n",
       "\n",
       "   num_universidades_publicas  num_tit_uni_privadas  num_tit_uni_publicas  \n",
       "0                         1.0                   NaN                  52.0  \n",
       "1                         1.0                   5.0                 114.0  "
      ]
     },
     "execution_count": 1364,
     "metadata": {},
     "output_type": "execute_result"
    }
   ],
   "source": [
    "universidad.head(2)"
   ]
  },
  {
   "cell_type": "code",
   "execution_count": 1365,
   "metadata": {},
   "outputs": [],
   "source": [
    "#### universidad['ccaa'].drop_duplicates().sort_values()"
   ]
  },
  {
   "cell_type": "code",
   "execution_count": 1366,
   "metadata": {},
   "outputs": [],
   "source": [
    "universidad['ccaa'].replace(\"balears\",\"illes_balears\", inplace=True, regex=True)\n",
    "universidad['ccaa'].replace(\"madrid\",\"comunidad_de_madrid\", inplace=True, regex=True)\n",
    "universidad['ccaa'].replace(\"navarra\",\"comunidad_foral_de_navarra\", inplace=True, regex=True)\n",
    "universidad['ccaa'].replace(\"asturias\",\"principado_de_asturias\", inplace=True, regex=True)\n",
    "universidad['ccaa'].replace(\"rioja\",\"la_rioja\", inplace=True, regex=True)\n",
    "universidad['ccaa'].replace(\"murcia\",\"region_de_murcia\", inplace=True, regex=True)"
   ]
  },
  {
   "cell_type": "code",
   "execution_count": 1367,
   "metadata": {},
   "outputs": [
    {
     "data": {
      "text/plain": [
       "(165, 6)"
      ]
     },
     "execution_count": 1367,
     "metadata": {},
     "output_type": "execute_result"
    }
   ],
   "source": [
    "universidad.rename(columns={'ccaa': 'ccaa_limpio'}, inplace=True)\n",
    "universidad.shape"
   ]
  },
  {
   "cell_type": "code",
   "execution_count": 1368,
   "metadata": {
    "scrolled": true
   },
   "outputs": [
    {
     "name": "stdout",
     "output_type": "stream",
     "text": [
      "num registros maestro: 6066\n",
      "num registros fichero para unir: 165\n",
      "num agrupaciones maestro: (19, 1)\n",
      "num agrupaciones union: (17, 1)\n",
      "num agrupaciones tras match: (19, 2)\n",
      "no se han cruzado todos los valores:\n",
      "         ccaa matches\n",
      "6064    ceuta        \n",
      "6065  melilla        \n",
      "el fichero de union no dispone de todos los valores para cruzar\n",
      "df_union_agrup_match: (167, 8)\n",
      "pais_vasco\n",
      "no se han cruzado todos los valores:\n",
      "castilla_la_mancha\n",
      "no se han cruzado todos los valores:\n",
      "comunitat_valenciana\n",
      "no se han cruzado todos los valores:\n",
      "region_de_murcia\n",
      "no se han cruzado todos los valores:\n",
      "andalucia\n",
      "no se han cruzado todos los valores:\n",
      "castilla_y_leon\n",
      "no se han cruzado todos los valores:\n",
      "extremadura\n",
      "no se han cruzado todos los valores:\n",
      "illes_balears\n",
      "no se han cruzado todos los valores:\n",
      "cataluna\n",
      "no se han cruzado todos los valores:\n",
      "cantabria\n",
      "no se han cruzado todos los valores:\n",
      "la_rioja\n",
      "no se han cruzado todos los valores:\n",
      "galicia\n",
      "no se han cruzado todos los valores:\n",
      "comunidad_de_madrid\n",
      "no se han cruzado todos los valores:\n",
      "aragon\n",
      "no se han cruzado todos los valores:\n",
      "comunidad_foral_de_navarra\n",
      "no se han cruzado todos los valores:\n",
      "principado_de_asturias\n",
      "no se han cruzado todos los valores:\n",
      "canarias\n",
      "no se han cruzado todos los valores:\n",
      "ceuta\n",
      "no se han cruzado todos los valores:\n",
      "melilla\n",
      "no se han cruzado todos los valores:\n",
      "num muni maestro: 6066\n",
      "muni_match: Index(['cities_es', 'cities', 'province_es', 'province', 'ccaa_es', 'ccaa',\n",
      "       'cities_es/province', 'provincia_original', 'municipio_original',\n",
      "       'num_bibliotecas', 'num_hospitales', 'num_centros_salud',\n",
      "       'num_colegios_privados', 'num_colegios_publicos', 'num_guardia_civil',\n",
      "       'matches'],\n",
      "      dtype='object')\n",
      "df_union_agrup_match: (167, 7)\n",
      "el fichero de union no dispone de todos los valores para cruzar por municipio\n",
      "columnas final: Index(['cities_es', 'cities', 'province_es', 'province', 'ccaa_es', 'ccaa',\n",
      "       'cities_es/province', 'provincia_original', 'municipio_original',\n",
      "       'num_bibliotecas', 'num_hospitales', 'num_centros_salud',\n",
      "       'num_colegios_privados', 'num_colegios_publicos', 'num_guardia_civil',\n",
      "       'matches', 'municipio_limpio', 'ccaa_limpio',\n",
      "       'num_universidades_privadas', 'num_universidades_publicas',\n",
      "       'num_tit_uni_privadas', 'num_tit_uni_publicas', 'muni_agrup'],\n",
      "      dtype='object')\n",
      "num registros tras union: (6066, 19)\n"
     ]
    }
   ],
   "source": [
    "union6 = union_muni(union5, universidad, 'cities_es', 'ccaa', 'municipio_limpio', 'ccaa_limpio', threshold=85, threshold_mun=90)"
   ]
  },
  {
   "cell_type": "code",
   "execution_count": 1369,
   "metadata": {
    "scrolled": false
   },
   "outputs": [
    {
     "data": {
      "text/html": [
       "<div>\n",
       "<style scoped>\n",
       "    .dataframe tbody tr th:only-of-type {\n",
       "        vertical-align: middle;\n",
       "    }\n",
       "\n",
       "    .dataframe tbody tr th {\n",
       "        vertical-align: top;\n",
       "    }\n",
       "\n",
       "    .dataframe thead th {\n",
       "        text-align: right;\n",
       "    }\n",
       "</style>\n",
       "<table border=\"1\" class=\"dataframe\">\n",
       "  <thead>\n",
       "    <tr style=\"text-align: right;\">\n",
       "      <th></th>\n",
       "      <th>cities_es</th>\n",
       "      <th>cities</th>\n",
       "      <th>province_es</th>\n",
       "      <th>province</th>\n",
       "      <th>ccaa_es</th>\n",
       "      <th>ccaa</th>\n",
       "      <th>cities_es/province</th>\n",
       "      <th>provincia_original</th>\n",
       "      <th>municipio_original</th>\n",
       "      <th>num_bibliotecas</th>\n",
       "      <th>num_hospitales</th>\n",
       "      <th>num_centros_salud</th>\n",
       "      <th>num_colegios_privados</th>\n",
       "      <th>num_colegios_publicos</th>\n",
       "      <th>num_guardia_civil</th>\n",
       "      <th>num_universidades_privadas</th>\n",
       "      <th>num_universidades_publicas</th>\n",
       "      <th>num_tit_uni_privadas</th>\n",
       "      <th>num_tit_uni_publicas</th>\n",
       "    </tr>\n",
       "  </thead>\n",
       "  <tbody>\n",
       "    <tr>\n",
       "      <th>0</th>\n",
       "      <td>alegria_dulantzi</td>\n",
       "      <td>alegria_dulantzi</td>\n",
       "      <td>alava</td>\n",
       "      <td>araba</td>\n",
       "      <td>pais_vasco</td>\n",
       "      <td>pais_vasco</td>\n",
       "      <td>alegria_dulantzi/araba</td>\n",
       "      <td>Araba/Álava</td>\n",
       "      <td>Alegría-Dulantzi</td>\n",
       "      <td>1.0</td>\n",
       "      <td>0.0</td>\n",
       "      <td>1.0</td>\n",
       "      <td>0.0</td>\n",
       "      <td>3.0</td>\n",
       "      <td>NaN</td>\n",
       "      <td>NaN</td>\n",
       "      <td>NaN</td>\n",
       "      <td>NaN</td>\n",
       "      <td>NaN</td>\n",
       "    </tr>\n",
       "    <tr>\n",
       "      <th>1</th>\n",
       "      <td>amurrio</td>\n",
       "      <td>amurrio</td>\n",
       "      <td>alava</td>\n",
       "      <td>araba</td>\n",
       "      <td>pais_vasco</td>\n",
       "      <td>pais_vasco</td>\n",
       "      <td>amurrio/araba</td>\n",
       "      <td>Araba/Álava</td>\n",
       "      <td>Amurrio</td>\n",
       "      <td>1.0</td>\n",
       "      <td>0.0</td>\n",
       "      <td>1.0</td>\n",
       "      <td>3.0</td>\n",
       "      <td>6.0</td>\n",
       "      <td>NaN</td>\n",
       "      <td>NaN</td>\n",
       "      <td>NaN</td>\n",
       "      <td>NaN</td>\n",
       "      <td>NaN</td>\n",
       "    </tr>\n",
       "    <tr>\n",
       "      <th>2</th>\n",
       "      <td>aramaio</td>\n",
       "      <td>aramaio</td>\n",
       "      <td>alava</td>\n",
       "      <td>araba</td>\n",
       "      <td>pais_vasco</td>\n",
       "      <td>pais_vasco</td>\n",
       "      <td>aramaio/araba</td>\n",
       "      <td>Araba/Álava</td>\n",
       "      <td>Aramaio</td>\n",
       "      <td>1.0</td>\n",
       "      <td>0.0</td>\n",
       "      <td>1.0</td>\n",
       "      <td>NaN</td>\n",
       "      <td>NaN</td>\n",
       "      <td>NaN</td>\n",
       "      <td>NaN</td>\n",
       "      <td>NaN</td>\n",
       "      <td>NaN</td>\n",
       "      <td>NaN</td>\n",
       "    </tr>\n",
       "    <tr>\n",
       "      <th>3</th>\n",
       "      <td>artziniega</td>\n",
       "      <td>artziniega</td>\n",
       "      <td>alava</td>\n",
       "      <td>araba</td>\n",
       "      <td>pais_vasco</td>\n",
       "      <td>pais_vasco</td>\n",
       "      <td>artziniega/araba</td>\n",
       "      <td>Araba/Álava</td>\n",
       "      <td>Artziniega</td>\n",
       "      <td>1.0</td>\n",
       "      <td>0.0</td>\n",
       "      <td>1.0</td>\n",
       "      <td>1.0</td>\n",
       "      <td>2.0</td>\n",
       "      <td>NaN</td>\n",
       "      <td>NaN</td>\n",
       "      <td>NaN</td>\n",
       "      <td>NaN</td>\n",
       "      <td>NaN</td>\n",
       "    </tr>\n",
       "    <tr>\n",
       "      <th>4</th>\n",
       "      <td>arminon</td>\n",
       "      <td>arminon</td>\n",
       "      <td>alava</td>\n",
       "      <td>araba</td>\n",
       "      <td>pais_vasco</td>\n",
       "      <td>pais_vasco</td>\n",
       "      <td>arminon/araba</td>\n",
       "      <td>Araba/Álava</td>\n",
       "      <td>Armiñón</td>\n",
       "      <td>NaN</td>\n",
       "      <td>0.0</td>\n",
       "      <td>1.0</td>\n",
       "      <td>NaN</td>\n",
       "      <td>NaN</td>\n",
       "      <td>NaN</td>\n",
       "      <td>NaN</td>\n",
       "      <td>NaN</td>\n",
       "      <td>NaN</td>\n",
       "      <td>NaN</td>\n",
       "    </tr>\n",
       "  </tbody>\n",
       "</table>\n",
       "</div>"
      ],
      "text/plain": [
       "          cities_es            cities province_es province     ccaa_es  \\\n",
       "0  alegria_dulantzi  alegria_dulantzi       alava    araba  pais_vasco   \n",
       "1           amurrio           amurrio       alava    araba  pais_vasco   \n",
       "2           aramaio           aramaio       alava    araba  pais_vasco   \n",
       "3        artziniega        artziniega       alava    araba  pais_vasco   \n",
       "4           arminon           arminon       alava    araba  pais_vasco   \n",
       "\n",
       "         ccaa      cities_es/province provincia_original municipio_original  \\\n",
       "0  pais_vasco  alegria_dulantzi/araba        Araba/Álava   Alegría-Dulantzi   \n",
       "1  pais_vasco           amurrio/araba        Araba/Álava            Amurrio   \n",
       "2  pais_vasco           aramaio/araba        Araba/Álava            Aramaio   \n",
       "3  pais_vasco        artziniega/araba        Araba/Álava         Artziniega   \n",
       "4  pais_vasco           arminon/araba        Araba/Álava            Armiñón   \n",
       "\n",
       "   num_bibliotecas  num_hospitales  num_centros_salud  num_colegios_privados  \\\n",
       "0              1.0             0.0                1.0                    0.0   \n",
       "1              1.0             0.0                1.0                    3.0   \n",
       "2              1.0             0.0                1.0                    NaN   \n",
       "3              1.0             0.0                1.0                    1.0   \n",
       "4              NaN             0.0                1.0                    NaN   \n",
       "\n",
       "   num_colegios_publicos  num_guardia_civil  num_universidades_privadas  \\\n",
       "0                    3.0                NaN                         NaN   \n",
       "1                    6.0                NaN                         NaN   \n",
       "2                    NaN                NaN                         NaN   \n",
       "3                    2.0                NaN                         NaN   \n",
       "4                    NaN                NaN                         NaN   \n",
       "\n",
       "   num_universidades_publicas  num_tit_uni_privadas  num_tit_uni_publicas  \n",
       "0                         NaN                   NaN                   NaN  \n",
       "1                         NaN                   NaN                   NaN  \n",
       "2                         NaN                   NaN                   NaN  \n",
       "3                         NaN                   NaN                   NaN  \n",
       "4                         NaN                   NaN                   NaN  "
      ]
     },
     "execution_count": 1369,
     "metadata": {},
     "output_type": "execute_result"
    }
   ],
   "source": [
    "union6.head(5)"
   ]
  },
  {
   "cell_type": "code",
   "execution_count": 1370,
   "metadata": {
    "scrolled": true
   },
   "outputs": [
    {
     "data": {
      "text/plain": [
       "(6066, 19)"
      ]
     },
     "execution_count": 1370,
     "metadata": {},
     "output_type": "execute_result"
    }
   ],
   "source": [
    "union6.shape"
   ]
  },
  {
   "cell_type": "markdown",
   "metadata": {},
   "source": [
    "##### Establecimientos"
   ]
  },
  {
   "cell_type": "code",
   "execution_count": 1371,
   "metadata": {},
   "outputs": [],
   "source": [
    "establecimientos = pd.read_csv(\"economia_turismo_establecimientos_20XX_limpio.csv\", index_col=0, dtype={'codigo_postal': object})"
   ]
  },
  {
   "cell_type": "code",
   "execution_count": 1372,
   "metadata": {},
   "outputs": [
    {
     "data": {
      "text/plain": [
       "(2063, 35)"
      ]
     },
     "execution_count": 1372,
     "metadata": {},
     "output_type": "execute_result"
    }
   ],
   "source": [
    "establecimientos.shape"
   ]
  },
  {
   "cell_type": "code",
   "execution_count": 1373,
   "metadata": {
    "scrolled": true
   },
   "outputs": [
    {
     "data": {
      "text/html": [
       "<div>\n",
       "<style scoped>\n",
       "    .dataframe tbody tr th:only-of-type {\n",
       "        vertical-align: middle;\n",
       "    }\n",
       "\n",
       "    .dataframe tbody tr th {\n",
       "        vertical-align: top;\n",
       "    }\n",
       "\n",
       "    .dataframe thead th {\n",
       "        text-align: right;\n",
       "    }\n",
       "</style>\n",
       "<table border=\"1\" class=\"dataframe\">\n",
       "  <thead>\n",
       "    <tr style=\"text-align: right;\">\n",
       "      <th></th>\n",
       "      <th>codigo_postal</th>\n",
       "      <th>municipio_limpio</th>\n",
       "      <th>ccaa</th>\n",
       "      <th>agencias_de_viajes</th>\n",
       "      <th>albergues</th>\n",
       "      <th>alojamientos_rurales</th>\n",
       "      <th>artesanos</th>\n",
       "      <th>atraque_de_cruceros_y_ferries</th>\n",
       "      <th>bares_y_cafeterías</th>\n",
       "      <th>bodegas</th>\n",
       "      <th>...</th>\n",
       "      <th>otros_servicios</th>\n",
       "      <th>palacios_de_congresos</th>\n",
       "      <th>playas</th>\n",
       "      <th>puertos_deportivos</th>\n",
       "      <th>restaurantes_y_empresas_turísticas_de_catering</th>\n",
       "      <th>seguridad_ciudadana</th>\n",
       "      <th>servicios_de_limpieza</th>\n",
       "      <th>servicios_turísticos_de_salud</th>\n",
       "      <th>taxis</th>\n",
       "      <th>turismo_industrial</th>\n",
       "    </tr>\n",
       "  </thead>\n",
       "  <tbody>\n",
       "    <tr>\n",
       "      <th>0</th>\n",
       "      <td>00000</td>\n",
       "      <td>aldea_de_cuenca_hinojares</td>\n",
       "      <td>andalucia</td>\n",
       "      <td>NaN</td>\n",
       "      <td>NaN</td>\n",
       "      <td>NaN</td>\n",
       "      <td>NaN</td>\n",
       "      <td>NaN</td>\n",
       "      <td>NaN</td>\n",
       "      <td>NaN</td>\n",
       "      <td>...</td>\n",
       "      <td>NaN</td>\n",
       "      <td>NaN</td>\n",
       "      <td>NaN</td>\n",
       "      <td>NaN</td>\n",
       "      <td>NaN</td>\n",
       "      <td>NaN</td>\n",
       "      <td>NaN</td>\n",
       "      <td>NaN</td>\n",
       "      <td>NaN</td>\n",
       "      <td>NaN</td>\n",
       "    </tr>\n",
       "    <tr>\n",
       "      <th>1</th>\n",
       "      <td>00000</td>\n",
       "      <td>arroyo_frio_la_iruela</td>\n",
       "      <td>andalucia</td>\n",
       "      <td>NaN</td>\n",
       "      <td>NaN</td>\n",
       "      <td>NaN</td>\n",
       "      <td>NaN</td>\n",
       "      <td>NaN</td>\n",
       "      <td>NaN</td>\n",
       "      <td>NaN</td>\n",
       "      <td>...</td>\n",
       "      <td>NaN</td>\n",
       "      <td>NaN</td>\n",
       "      <td>NaN</td>\n",
       "      <td>NaN</td>\n",
       "      <td>1.0</td>\n",
       "      <td>NaN</td>\n",
       "      <td>NaN</td>\n",
       "      <td>NaN</td>\n",
       "      <td>NaN</td>\n",
       "      <td>NaN</td>\n",
       "    </tr>\n",
       "  </tbody>\n",
       "</table>\n",
       "<p>2 rows × 35 columns</p>\n",
       "</div>"
      ],
      "text/plain": [
       "  codigo_postal           municipio_limpio       ccaa  agencias_de_viajes  \\\n",
       "0         00000  aldea_de_cuenca_hinojares  andalucia                 NaN   \n",
       "1         00000      arroyo_frio_la_iruela  andalucia                 NaN   \n",
       "\n",
       "   albergues  alojamientos_rurales  artesanos  atraque_de_cruceros_y_ferries  \\\n",
       "0        NaN                   NaN        NaN                            NaN   \n",
       "1        NaN                   NaN        NaN                            NaN   \n",
       "\n",
       "   bares_y_cafeterías  bodegas  ...  otros_servicios  palacios_de_congresos  \\\n",
       "0                 NaN      NaN  ...              NaN                    NaN   \n",
       "1                 NaN      NaN  ...              NaN                    NaN   \n",
       "\n",
       "   playas  puertos_deportivos  restaurantes_y_empresas_turísticas_de_catering  \\\n",
       "0     NaN                 NaN                                             NaN   \n",
       "1     NaN                 NaN                                             1.0   \n",
       "\n",
       "   seguridad_ciudadana  servicios_de_limpieza  servicios_turísticos_de_salud  \\\n",
       "0                  NaN                    NaN                            NaN   \n",
       "1                  NaN                    NaN                            NaN   \n",
       "\n",
       "   taxis  turismo_industrial  \n",
       "0    NaN                 NaN  \n",
       "1    NaN                 NaN  \n",
       "\n",
       "[2 rows x 35 columns]"
      ]
     },
     "execution_count": 1373,
     "metadata": {},
     "output_type": "execute_result"
    }
   ],
   "source": [
    "establecimientos.head(2)"
   ]
  },
  {
   "cell_type": "code",
   "execution_count": 1374,
   "metadata": {
    "scrolled": false
   },
   "outputs": [
    {
     "data": {
      "text/html": [
       "<div>\n",
       "<style scoped>\n",
       "    .dataframe tbody tr th:only-of-type {\n",
       "        vertical-align: middle;\n",
       "    }\n",
       "\n",
       "    .dataframe tbody tr th {\n",
       "        vertical-align: top;\n",
       "    }\n",
       "\n",
       "    .dataframe thead th {\n",
       "        text-align: right;\n",
       "    }\n",
       "</style>\n",
       "<table border=\"1\" class=\"dataframe\">\n",
       "  <thead>\n",
       "    <tr style=\"text-align: right;\">\n",
       "      <th></th>\n",
       "      <th>codigo_postal</th>\n",
       "      <th>municipio_limpio</th>\n",
       "      <th>ccaa</th>\n",
       "      <th>agencias_de_viajes</th>\n",
       "      <th>albergues</th>\n",
       "      <th>alojamientos_rurales</th>\n",
       "      <th>artesanos</th>\n",
       "      <th>atraque_de_cruceros_y_ferries</th>\n",
       "      <th>bares_y_cafeterías</th>\n",
       "      <th>bodegas</th>\n",
       "      <th>...</th>\n",
       "      <th>otros_servicios</th>\n",
       "      <th>palacios_de_congresos</th>\n",
       "      <th>playas</th>\n",
       "      <th>puertos_deportivos</th>\n",
       "      <th>restaurantes_y_empresas_turísticas_de_catering</th>\n",
       "      <th>seguridad_ciudadana</th>\n",
       "      <th>servicios_de_limpieza</th>\n",
       "      <th>servicios_turísticos_de_salud</th>\n",
       "      <th>taxis</th>\n",
       "      <th>turismo_industrial</th>\n",
       "    </tr>\n",
       "  </thead>\n",
       "  <tbody>\n",
       "    <tr>\n",
       "      <th>18</th>\n",
       "      <td>01118</td>\n",
       "      <td>bernedo</td>\n",
       "      <td>euskadi_pais_vasco</td>\n",
       "      <td>NaN</td>\n",
       "      <td>1.0</td>\n",
       "      <td>2.0</td>\n",
       "      <td>NaN</td>\n",
       "      <td>NaN</td>\n",
       "      <td>NaN</td>\n",
       "      <td>NaN</td>\n",
       "      <td>...</td>\n",
       "      <td>NaN</td>\n",
       "      <td>NaN</td>\n",
       "      <td>NaN</td>\n",
       "      <td>NaN</td>\n",
       "      <td>NaN</td>\n",
       "      <td>NaN</td>\n",
       "      <td>NaN</td>\n",
       "      <td>NaN</td>\n",
       "      <td>NaN</td>\n",
       "      <td>NaN</td>\n",
       "    </tr>\n",
       "    <tr>\n",
       "      <th>19</th>\n",
       "      <td>01118</td>\n",
       "      <td>lagran</td>\n",
       "      <td>euskadi_pais_vasco</td>\n",
       "      <td>NaN</td>\n",
       "      <td>NaN</td>\n",
       "      <td>NaN</td>\n",
       "      <td>NaN</td>\n",
       "      <td>NaN</td>\n",
       "      <td>NaN</td>\n",
       "      <td>NaN</td>\n",
       "      <td>...</td>\n",
       "      <td>NaN</td>\n",
       "      <td>NaN</td>\n",
       "      <td>NaN</td>\n",
       "      <td>NaN</td>\n",
       "      <td>NaN</td>\n",
       "      <td>NaN</td>\n",
       "      <td>NaN</td>\n",
       "      <td>NaN</td>\n",
       "      <td>NaN</td>\n",
       "      <td>NaN</td>\n",
       "    </tr>\n",
       "    <tr>\n",
       "      <th>20</th>\n",
       "      <td>01118</td>\n",
       "      <td>urturi</td>\n",
       "      <td>euskadi_pais_vasco</td>\n",
       "      <td>NaN</td>\n",
       "      <td>NaN</td>\n",
       "      <td>NaN</td>\n",
       "      <td>NaN</td>\n",
       "      <td>NaN</td>\n",
       "      <td>NaN</td>\n",
       "      <td>NaN</td>\n",
       "      <td>...</td>\n",
       "      <td>1.0</td>\n",
       "      <td>NaN</td>\n",
       "      <td>NaN</td>\n",
       "      <td>NaN</td>\n",
       "      <td>NaN</td>\n",
       "      <td>NaN</td>\n",
       "      <td>NaN</td>\n",
       "      <td>NaN</td>\n",
       "      <td>NaN</td>\n",
       "      <td>NaN</td>\n",
       "    </tr>\n",
       "  </tbody>\n",
       "</table>\n",
       "<p>3 rows × 35 columns</p>\n",
       "</div>"
      ],
      "text/plain": [
       "   codigo_postal municipio_limpio                ccaa  agencias_de_viajes  \\\n",
       "18         01118          bernedo  euskadi_pais_vasco                 NaN   \n",
       "19         01118           lagran  euskadi_pais_vasco                 NaN   \n",
       "20         01118           urturi  euskadi_pais_vasco                 NaN   \n",
       "\n",
       "    albergues  alojamientos_rurales  artesanos  atraque_de_cruceros_y_ferries  \\\n",
       "18        1.0                   2.0        NaN                            NaN   \n",
       "19        NaN                   NaN        NaN                            NaN   \n",
       "20        NaN                   NaN        NaN                            NaN   \n",
       "\n",
       "    bares_y_cafeterías  bodegas  ...  otros_servicios  palacios_de_congresos  \\\n",
       "18                 NaN      NaN  ...              NaN                    NaN   \n",
       "19                 NaN      NaN  ...              NaN                    NaN   \n",
       "20                 NaN      NaN  ...              1.0                    NaN   \n",
       "\n",
       "    playas  puertos_deportivos  \\\n",
       "18     NaN                 NaN   \n",
       "19     NaN                 NaN   \n",
       "20     NaN                 NaN   \n",
       "\n",
       "    restaurantes_y_empresas_turísticas_de_catering  seguridad_ciudadana  \\\n",
       "18                                             NaN                  NaN   \n",
       "19                                             NaN                  NaN   \n",
       "20                                             NaN                  NaN   \n",
       "\n",
       "    servicios_de_limpieza  servicios_turísticos_de_salud  taxis  \\\n",
       "18                    NaN                            NaN    NaN   \n",
       "19                    NaN                            NaN    NaN   \n",
       "20                    NaN                            NaN    NaN   \n",
       "\n",
       "    turismo_industrial  \n",
       "18                 NaN  \n",
       "19                 NaN  \n",
       "20                 NaN  \n",
       "\n",
       "[3 rows x 35 columns]"
      ]
     },
     "execution_count": 1374,
     "metadata": {},
     "output_type": "execute_result"
    }
   ],
   "source": [
    "# mismo codigo postal para mas de un municipio, se producen duplicados\n",
    "establecimientos[establecimientos['codigo_postal']=='01118']"
   ]
  },
  {
   "cell_type": "code",
   "execution_count": 1375,
   "metadata": {
    "scrolled": true
   },
   "outputs": [
    {
     "data": {
      "text/html": [
       "<div>\n",
       "<style scoped>\n",
       "    .dataframe tbody tr th:only-of-type {\n",
       "        vertical-align: middle;\n",
       "    }\n",
       "\n",
       "    .dataframe tbody tr th {\n",
       "        vertical-align: top;\n",
       "    }\n",
       "\n",
       "    .dataframe thead th {\n",
       "        text-align: right;\n",
       "    }\n",
       "</style>\n",
       "<table border=\"1\" class=\"dataframe\">\n",
       "  <thead>\n",
       "    <tr style=\"text-align: right;\">\n",
       "      <th></th>\n",
       "      <th>codigo_postal</th>\n",
       "      <th>municipio_limpio</th>\n",
       "      <th>ccaa</th>\n",
       "      <th>agencias_de_viajes</th>\n",
       "      <th>albergues</th>\n",
       "      <th>alojamientos_rurales</th>\n",
       "      <th>artesanos</th>\n",
       "      <th>atraque_de_cruceros_y_ferries</th>\n",
       "      <th>bares_y_cafeterías</th>\n",
       "      <th>bodegas</th>\n",
       "      <th>...</th>\n",
       "      <th>otros_servicios</th>\n",
       "      <th>palacios_de_congresos</th>\n",
       "      <th>playas</th>\n",
       "      <th>puertos_deportivos</th>\n",
       "      <th>restaurantes_y_empresas_turísticas_de_catering</th>\n",
       "      <th>seguridad_ciudadana</th>\n",
       "      <th>servicios_de_limpieza</th>\n",
       "      <th>servicios_turísticos_de_salud</th>\n",
       "      <th>taxis</th>\n",
       "      <th>turismo_industrial</th>\n",
       "    </tr>\n",
       "  </thead>\n",
       "  <tbody>\n",
       "    <tr>\n",
       "      <th>163</th>\n",
       "      <td>03800</td>\n",
       "      <td>alcoi</td>\n",
       "      <td>comunitat_valenciana</td>\n",
       "      <td>NaN</td>\n",
       "      <td>NaN</td>\n",
       "      <td>2.0</td>\n",
       "      <td>NaN</td>\n",
       "      <td>NaN</td>\n",
       "      <td>NaN</td>\n",
       "      <td>NaN</td>\n",
       "      <td>...</td>\n",
       "      <td>NaN</td>\n",
       "      <td>NaN</td>\n",
       "      <td>NaN</td>\n",
       "      <td>NaN</td>\n",
       "      <td>1.0</td>\n",
       "      <td>NaN</td>\n",
       "      <td>NaN</td>\n",
       "      <td>NaN</td>\n",
       "      <td>NaN</td>\n",
       "      <td>NaN</td>\n",
       "    </tr>\n",
       "    <tr>\n",
       "      <th>165</th>\n",
       "      <td>03801</td>\n",
       "      <td>alcoi</td>\n",
       "      <td>comunitat_valenciana</td>\n",
       "      <td>1.0</td>\n",
       "      <td>NaN</td>\n",
       "      <td>NaN</td>\n",
       "      <td>NaN</td>\n",
       "      <td>NaN</td>\n",
       "      <td>2.0</td>\n",
       "      <td>NaN</td>\n",
       "      <td>...</td>\n",
       "      <td>1.0</td>\n",
       "      <td>NaN</td>\n",
       "      <td>NaN</td>\n",
       "      <td>NaN</td>\n",
       "      <td>1.0</td>\n",
       "      <td>NaN</td>\n",
       "      <td>NaN</td>\n",
       "      <td>NaN</td>\n",
       "      <td>1.0</td>\n",
       "      <td>NaN</td>\n",
       "    </tr>\n",
       "    <tr>\n",
       "      <th>167</th>\n",
       "      <td>03802</td>\n",
       "      <td>alcoi</td>\n",
       "      <td>comunitat_valenciana</td>\n",
       "      <td>NaN</td>\n",
       "      <td>NaN</td>\n",
       "      <td>NaN</td>\n",
       "      <td>1.0</td>\n",
       "      <td>NaN</td>\n",
       "      <td>NaN</td>\n",
       "      <td>NaN</td>\n",
       "      <td>...</td>\n",
       "      <td>NaN</td>\n",
       "      <td>NaN</td>\n",
       "      <td>NaN</td>\n",
       "      <td>NaN</td>\n",
       "      <td>1.0</td>\n",
       "      <td>NaN</td>\n",
       "      <td>NaN</td>\n",
       "      <td>NaN</td>\n",
       "      <td>NaN</td>\n",
       "      <td>NaN</td>\n",
       "    </tr>\n",
       "    <tr>\n",
       "      <th>170</th>\n",
       "      <td>03804</td>\n",
       "      <td>alcoi</td>\n",
       "      <td>comunitat_valenciana</td>\n",
       "      <td>NaN</td>\n",
       "      <td>NaN</td>\n",
       "      <td>NaN</td>\n",
       "      <td>NaN</td>\n",
       "      <td>NaN</td>\n",
       "      <td>NaN</td>\n",
       "      <td>NaN</td>\n",
       "      <td>...</td>\n",
       "      <td>NaN</td>\n",
       "      <td>NaN</td>\n",
       "      <td>NaN</td>\n",
       "      <td>NaN</td>\n",
       "      <td>NaN</td>\n",
       "      <td>NaN</td>\n",
       "      <td>NaN</td>\n",
       "      <td>NaN</td>\n",
       "      <td>1.0</td>\n",
       "      <td>NaN</td>\n",
       "    </tr>\n",
       "  </tbody>\n",
       "</table>\n",
       "<p>4 rows × 35 columns</p>\n",
       "</div>"
      ],
      "text/plain": [
       "    codigo_postal municipio_limpio                  ccaa  agencias_de_viajes  \\\n",
       "163         03800            alcoi  comunitat_valenciana                 NaN   \n",
       "165         03801            alcoi  comunitat_valenciana                 1.0   \n",
       "167         03802            alcoi  comunitat_valenciana                 NaN   \n",
       "170         03804            alcoi  comunitat_valenciana                 NaN   \n",
       "\n",
       "     albergues  alojamientos_rurales  artesanos  \\\n",
       "163        NaN                   2.0        NaN   \n",
       "165        NaN                   NaN        NaN   \n",
       "167        NaN                   NaN        1.0   \n",
       "170        NaN                   NaN        NaN   \n",
       "\n",
       "     atraque_de_cruceros_y_ferries  bares_y_cafeterías  bodegas  ...  \\\n",
       "163                            NaN                 NaN      NaN  ...   \n",
       "165                            NaN                 2.0      NaN  ...   \n",
       "167                            NaN                 NaN      NaN  ...   \n",
       "170                            NaN                 NaN      NaN  ...   \n",
       "\n",
       "     otros_servicios  palacios_de_congresos  playas  puertos_deportivos  \\\n",
       "163              NaN                    NaN     NaN                 NaN   \n",
       "165              1.0                    NaN     NaN                 NaN   \n",
       "167              NaN                    NaN     NaN                 NaN   \n",
       "170              NaN                    NaN     NaN                 NaN   \n",
       "\n",
       "     restaurantes_y_empresas_turísticas_de_catering  seguridad_ciudadana  \\\n",
       "163                                             1.0                  NaN   \n",
       "165                                             1.0                  NaN   \n",
       "167                                             1.0                  NaN   \n",
       "170                                             NaN                  NaN   \n",
       "\n",
       "     servicios_de_limpieza  servicios_turísticos_de_salud  taxis  \\\n",
       "163                    NaN                            NaN    NaN   \n",
       "165                    NaN                            NaN    1.0   \n",
       "167                    NaN                            NaN    NaN   \n",
       "170                    NaN                            NaN    1.0   \n",
       "\n",
       "     turismo_industrial  \n",
       "163                 NaN  \n",
       "165                 NaN  \n",
       "167                 NaN  \n",
       "170                 NaN  \n",
       "\n",
       "[4 rows x 35 columns]"
      ]
     },
     "execution_count": 1375,
     "metadata": {},
     "output_type": "execute_result"
    }
   ],
   "source": [
    "establecimientos[establecimientos['municipio_limpio']=='alcoi']\n",
    "# municipio en 2 idiomas, se cruza por cp"
   ]
  },
  {
   "cell_type": "code",
   "execution_count": 1376,
   "metadata": {},
   "outputs": [],
   "source": [
    "establecimientos.drop(columns=['municipio_limpio','ccaa'], inplace=True)\n",
    "establecimientos = establecimientos.groupby(['codigo_postal'],as_index=False).agg(lambda x : x.sum() if x.dtype=='float64' else x.head(1))"
   ]
  },
  {
   "cell_type": "code",
   "execution_count": 1377,
   "metadata": {},
   "outputs": [],
   "source": [
    "new_names = [(i,'num_establec_'+i) for i in establecimientos.iloc[:, 1:].columns.values]\n",
    "establecimientos.rename(columns = dict(new_names), inplace=True)"
   ]
  },
  {
   "cell_type": "code",
   "execution_count": 1378,
   "metadata": {},
   "outputs": [
    {
     "data": {
      "text/plain": [
       "(6066, 51)"
      ]
     },
     "execution_count": 1378,
     "metadata": {},
     "output_type": "execute_result"
    }
   ],
   "source": [
    "union7 = union_cod_postal(maestro_nivel_cod_postal, establecimientos, union6, 'postal_code', 'codigo_postal', 'cities_es/province', 'sum')\n",
    "union7.shape"
   ]
  },
  {
   "cell_type": "code",
   "execution_count": 1379,
   "metadata": {},
   "outputs": [
    {
     "data": {
      "text/plain": [
       "(6066, 51)"
      ]
     },
     "execution_count": 1379,
     "metadata": {},
     "output_type": "execute_result"
    }
   ],
   "source": [
    "union7[~union7['num_establec_agencias_de_viajes'].isnull()].shape"
   ]
  },
  {
   "cell_type": "markdown",
   "metadata": {},
   "source": [
    "##### Usos suelo"
   ]
  },
  {
   "cell_type": "code",
   "execution_count": 1380,
   "metadata": {},
   "outputs": [],
   "source": [
    "usos_suelo = pd.read_csv(\"sociedad_usos_suelo_2019_limpio.csv\", index_col=0)"
   ]
  },
  {
   "cell_type": "code",
   "execution_count": 1381,
   "metadata": {},
   "outputs": [
    {
     "data": {
      "text/plain": [
       "(7610, 12)"
      ]
     },
     "execution_count": 1381,
     "metadata": {},
     "output_type": "execute_result"
    }
   ],
   "source": [
    "usos_suelo.shape"
   ]
  },
  {
   "cell_type": "code",
   "execution_count": 1382,
   "metadata": {
    "scrolled": true
   },
   "outputs": [
    {
     "data": {
      "text/html": [
       "<div>\n",
       "<style scoped>\n",
       "    .dataframe tbody tr th:only-of-type {\n",
       "        vertical-align: middle;\n",
       "    }\n",
       "\n",
       "    .dataframe tbody tr th {\n",
       "        vertical-align: top;\n",
       "    }\n",
       "\n",
       "    .dataframe thead th {\n",
       "        text-align: right;\n",
       "    }\n",
       "</style>\n",
       "<table border=\"1\" class=\"dataframe\">\n",
       "  <thead>\n",
       "    <tr style=\"text-align: right;\">\n",
       "      <th></th>\n",
       "      <th>municipio_limpio</th>\n",
       "      <th>provincia</th>\n",
       "      <th>superficie_urbana</th>\n",
       "      <th>uds_almacen</th>\n",
       "      <th>uds_comercial</th>\n",
       "      <th>uds_cultural</th>\n",
       "      <th>uds_hosteleria</th>\n",
       "      <th>uds_industrial</th>\n",
       "      <th>uds_deportivo</th>\n",
       "      <th>uds_oficinas</th>\n",
       "      <th>uds_religioso</th>\n",
       "      <th>uds_espectaculos</th>\n",
       "    </tr>\n",
       "  </thead>\n",
       "  <tbody>\n",
       "    <tr>\n",
       "      <th>0</th>\n",
       "      <td>abengibre</td>\n",
       "      <td>albacete</td>\n",
       "      <td>302,079</td>\n",
       "      <td>13</td>\n",
       "      <td>3</td>\n",
       "      <td>2</td>\n",
       "      <td>1</td>\n",
       "      <td>169</td>\n",
       "      <td>1</td>\n",
       "      <td>2</td>\n",
       "      <td>1</td>\n",
       "      <td>0</td>\n",
       "    </tr>\n",
       "    <tr>\n",
       "      <th>1</th>\n",
       "      <td>alatoz</td>\n",
       "      <td>albacete</td>\n",
       "      <td>339,890</td>\n",
       "      <td>41</td>\n",
       "      <td>2</td>\n",
       "      <td>1</td>\n",
       "      <td>1</td>\n",
       "      <td>140</td>\n",
       "      <td>4</td>\n",
       "      <td>2</td>\n",
       "      <td>2</td>\n",
       "      <td>0</td>\n",
       "    </tr>\n",
       "  </tbody>\n",
       "</table>\n",
       "</div>"
      ],
      "text/plain": [
       "  municipio_limpio provincia superficie_urbana uds_almacen uds_comercial  \\\n",
       "0        abengibre  albacete           302,079          13             3   \n",
       "1           alatoz  albacete           339,890          41             2   \n",
       "\n",
       "  uds_cultural uds_hosteleria uds_industrial uds_deportivo uds_oficinas  \\\n",
       "0            2              1            169             1            2   \n",
       "1            1              1            140             4            2   \n",
       "\n",
       "   uds_religioso  uds_espectaculos  \n",
       "0              1                 0  \n",
       "1              2                 0  "
      ]
     },
     "execution_count": 1382,
     "metadata": {},
     "output_type": "execute_result"
    }
   ],
   "source": [
    "usos_suelo.head(2)"
   ]
  },
  {
   "cell_type": "code",
   "execution_count": 1383,
   "metadata": {},
   "outputs": [],
   "source": [
    "#usos_suelo['provincia'].drop_duplicates()\n",
    "# no esta el pais vasco - se deescarta"
   ]
  },
  {
   "cell_type": "code",
   "execution_count": 1384,
   "metadata": {},
   "outputs": [],
   "source": [
    "union7.to_csv(\"union_patri2.csv\")"
   ]
  },
  {
   "cell_type": "markdown",
   "metadata": {},
   "source": [
    "### Ficheros Mar"
   ]
  },
  {
   "cell_type": "markdown",
   "metadata": {},
   "source": [
    "##### Poblacion por género y edad"
   ]
  },
  {
   "cell_type": "code",
   "execution_count": 1385,
   "metadata": {},
   "outputs": [],
   "source": [
    "poblacion = pd.read_csv('../mar/pob_municipio_edad_genero.csv',sep = ';') "
   ]
  },
  {
   "cell_type": "code",
   "execution_count": 1386,
   "metadata": {},
   "outputs": [],
   "source": [
    "poblacion_genero = poblacion.rename(columns={'cp':'codigo ine','municipio':'localidad'})\n",
    "poblacion_genero['codigo ine']=poblacion_genero['codigo ine'].apply(\"{:05d}\".format)"
   ]
  },
  {
   "cell_type": "code",
   "execution_count": 1387,
   "metadata": {},
   "outputs": [],
   "source": [
    "poblacion_genero.drop(['Hombres'], axis=1,  inplace=True)\n",
    "poblacion_genero.drop(['localidad'], axis=1,  inplace=True)\n",
    "poblacion_genero = poblacion_genero.rename(columns=standardize_headers)"
   ]
  },
  {
   "cell_type": "code",
   "execution_count": 1388,
   "metadata": {
    "scrolled": true
   },
   "outputs": [
    {
     "data": {
      "text/plain": [
       "(0, 45)"
      ]
     },
     "execution_count": 1388,
     "metadata": {},
     "output_type": "execute_result"
    }
   ],
   "source": [
    "poblacion_genero[poblacion_genero.duplicated()].shape"
   ]
  },
  {
   "cell_type": "code",
   "execution_count": 1389,
   "metadata": {},
   "outputs": [],
   "source": [
    "union_mar_1 = union_cod_ine(maestro_nivel_ine, poblacion_genero, maestro_nivel_municipio_ori, 'ine_code', 'codigo_ine', 'cities_es/province', 'sum')"
   ]
  },
  {
   "cell_type": "code",
   "execution_count": 1390,
   "metadata": {
    "scrolled": true
   },
   "outputs": [
    {
     "data": {
      "text/html": [
       "<div>\n",
       "<style scoped>\n",
       "    .dataframe tbody tr th:only-of-type {\n",
       "        vertical-align: middle;\n",
       "    }\n",
       "\n",
       "    .dataframe tbody tr th {\n",
       "        vertical-align: top;\n",
       "    }\n",
       "\n",
       "    .dataframe thead th {\n",
       "        text-align: right;\n",
       "    }\n",
       "</style>\n",
       "<table border=\"1\" class=\"dataframe\">\n",
       "  <thead>\n",
       "    <tr style=\"text-align: right;\">\n",
       "      <th></th>\n",
       "      <th>cities_es</th>\n",
       "      <th>cities</th>\n",
       "      <th>province_es</th>\n",
       "      <th>province</th>\n",
       "      <th>ccaa_es</th>\n",
       "      <th>ccaa</th>\n",
       "      <th>cities_es/province</th>\n",
       "      <th>provincia_original</th>\n",
       "      <th>municipio_original</th>\n",
       "      <th>muni_agrup</th>\n",
       "      <th>...</th>\n",
       "      <th>mujeres_de_55_59</th>\n",
       "      <th>mujeres_de_60_64</th>\n",
       "      <th>mujeres_de_65_69</th>\n",
       "      <th>mujeres_de_70_74</th>\n",
       "      <th>mujeres_de_75_79</th>\n",
       "      <th>mujeres_de_80_84</th>\n",
       "      <th>mujeres_de_85_89</th>\n",
       "      <th>mujeres_de_90_94</th>\n",
       "      <th>mujeres_de_95_99</th>\n",
       "      <th>mujeres_de_100_y_mas</th>\n",
       "    </tr>\n",
       "  </thead>\n",
       "  <tbody>\n",
       "    <tr>\n",
       "      <th>0</th>\n",
       "      <td>alegria_dulantzi</td>\n",
       "      <td>alegria_dulantzi</td>\n",
       "      <td>alava</td>\n",
       "      <td>araba</td>\n",
       "      <td>pais_vasco</td>\n",
       "      <td>pais_vasco</td>\n",
       "      <td>alegria_dulantzi/araba</td>\n",
       "      <td>Araba/Álava</td>\n",
       "      <td>Alegría-Dulantzi</td>\n",
       "      <td>alegria_dulantzi/pais_vasco</td>\n",
       "      <td>...</td>\n",
       "      <td>9771.0</td>\n",
       "      <td>9257.0</td>\n",
       "      <td>8470.0</td>\n",
       "      <td>7563.0</td>\n",
       "      <td>7115.0</td>\n",
       "      <td>5125.0</td>\n",
       "      <td>4237.0</td>\n",
       "      <td>3433.0</td>\n",
       "      <td>1724.0</td>\n",
       "      <td>475.0</td>\n",
       "    </tr>\n",
       "    <tr>\n",
       "      <th>1</th>\n",
       "      <td>amurrio</td>\n",
       "      <td>amurrio</td>\n",
       "      <td>alava</td>\n",
       "      <td>araba</td>\n",
       "      <td>pais_vasco</td>\n",
       "      <td>pais_vasco</td>\n",
       "      <td>amurrio/araba</td>\n",
       "      <td>Araba/Álava</td>\n",
       "      <td>Amurrio</td>\n",
       "      <td>amurrio/pais_vasco</td>\n",
       "      <td>...</td>\n",
       "      <td>700.0</td>\n",
       "      <td>692.0</td>\n",
       "      <td>556.0</td>\n",
       "      <td>473.0</td>\n",
       "      <td>381.0</td>\n",
       "      <td>294.0</td>\n",
       "      <td>264.0</td>\n",
       "      <td>223.0</td>\n",
       "      <td>128.0</td>\n",
       "      <td>35.0</td>\n",
       "    </tr>\n",
       "  </tbody>\n",
       "</table>\n",
       "<p>2 rows × 54 columns</p>\n",
       "</div>"
      ],
      "text/plain": [
       "          cities_es            cities province_es province     ccaa_es  \\\n",
       "0  alegria_dulantzi  alegria_dulantzi       alava    araba  pais_vasco   \n",
       "1           amurrio           amurrio       alava    araba  pais_vasco   \n",
       "\n",
       "         ccaa      cities_es/province provincia_original municipio_original  \\\n",
       "0  pais_vasco  alegria_dulantzi/araba        Araba/Álava   Alegría-Dulantzi   \n",
       "1  pais_vasco           amurrio/araba        Araba/Álava            Amurrio   \n",
       "\n",
       "                    muni_agrup  ...  mujeres_de_55_59  mujeres_de_60_64  \\\n",
       "0  alegria_dulantzi/pais_vasco  ...            9771.0            9257.0   \n",
       "1           amurrio/pais_vasco  ...             700.0             692.0   \n",
       "\n",
       "   mujeres_de_65_69  mujeres_de_70_74  mujeres_de_75_79  mujeres_de_80_84  \\\n",
       "0            8470.0            7563.0            7115.0            5125.0   \n",
       "1             556.0             473.0             381.0             294.0   \n",
       "\n",
       "   mujeres_de_85_89  mujeres_de_90_94  mujeres_de_95_99  mujeres_de_100_y_mas  \n",
       "0            4237.0            3433.0            1724.0                 475.0  \n",
       "1             264.0             223.0             128.0                  35.0  \n",
       "\n",
       "[2 rows x 54 columns]"
      ]
     },
     "execution_count": 1390,
     "metadata": {},
     "output_type": "execute_result"
    }
   ],
   "source": [
    "union_mar_1.head(2)"
   ]
  },
  {
   "cell_type": "code",
   "execution_count": 1391,
   "metadata": {
    "scrolled": false
   },
   "outputs": [
    {
     "data": {
      "text/plain": [
       "(6066, 54)"
      ]
     },
     "execution_count": 1391,
     "metadata": {},
     "output_type": "execute_result"
    }
   ],
   "source": [
    "union_mar_1.shape"
   ]
  },
  {
   "cell_type": "markdown",
   "metadata": {},
   "source": [
    "##### Parque automovilistico"
   ]
  },
  {
   "cell_type": "code",
   "execution_count": 1392,
   "metadata": {},
   "outputs": [
    {
     "data": {
      "text/plain": [
       "(53, 10)"
      ]
     },
     "execution_count": 1392,
     "metadata": {},
     "output_type": "execute_result"
    }
   ],
   "source": [
    "parque_automovilistico_initial=pd.read_csv('../mar/parque_automoviles_2018.csv', encoding=\"utf-8\",delim_whitespace=True)\n",
    "parque_automovilistico_initial.shape"
   ]
  },
  {
   "cell_type": "code",
   "execution_count": 1393,
   "metadata": {
    "scrolled": true
   },
   "outputs": [
    {
     "data": {
      "text/html": [
       "<div>\n",
       "<style scoped>\n",
       "    .dataframe tbody tr th:only-of-type {\n",
       "        vertical-align: middle;\n",
       "    }\n",
       "\n",
       "    .dataframe tbody tr th {\n",
       "        vertical-align: top;\n",
       "    }\n",
       "\n",
       "    .dataframe thead th {\n",
       "        text-align: right;\n",
       "    }\n",
       "</style>\n",
       "<table border=\"1\" class=\"dataframe\">\n",
       "  <thead>\n",
       "    <tr style=\"text-align: right;\">\n",
       "      <th></th>\n",
       "      <th>PROVINCIAS</th>\n",
       "      <th>CAMIONES</th>\n",
       "      <th>FURGONETAS</th>\n",
       "      <th>AUTOBUSES</th>\n",
       "      <th>TURISMOS</th>\n",
       "      <th>MOTOCICLETAS</th>\n",
       "      <th>TRACTORES_INDUSTRIALES</th>\n",
       "      <th>R_Y_S</th>\n",
       "      <th>OTROS_VEHÍCULOS</th>\n",
       "      <th>TOTAL</th>\n",
       "    </tr>\n",
       "  </thead>\n",
       "  <tbody>\n",
       "    <tr>\n",
       "      <th>0</th>\n",
       "      <td>Araba/Álava</td>\n",
       "      <td>14473</td>\n",
       "      <td>14749</td>\n",
       "      <td>538</td>\n",
       "      <td>158049</td>\n",
       "      <td>16011</td>\n",
       "      <td>1334</td>\n",
       "      <td>3208</td>\n",
       "      <td>4969</td>\n",
       "      <td>213331</td>\n",
       "    </tr>\n",
       "    <tr>\n",
       "      <th>1</th>\n",
       "      <td>Albacete</td>\n",
       "      <td>28809</td>\n",
       "      <td>21770</td>\n",
       "      <td>418</td>\n",
       "      <td>191601</td>\n",
       "      <td>25960</td>\n",
       "      <td>3438</td>\n",
       "      <td>5708</td>\n",
       "      <td>4224</td>\n",
       "      <td>281928</td>\n",
       "    </tr>\n",
       "  </tbody>\n",
       "</table>\n",
       "</div>"
      ],
      "text/plain": [
       "    PROVINCIAS  CAMIONES  FURGONETAS  AUTOBUSES  TURISMOS  MOTOCICLETAS  \\\n",
       "0  Araba/Álava     14473       14749        538    158049         16011   \n",
       "1     Albacete     28809       21770        418    191601         25960   \n",
       "\n",
       "   TRACTORES_INDUSTRIALES  R_Y_S  OTROS_VEHÍCULOS   TOTAL  \n",
       "0                    1334   3208             4969  213331  \n",
       "1                    3438   5708             4224  281928  "
      ]
     },
     "execution_count": 1393,
     "metadata": {},
     "output_type": "execute_result"
    }
   ],
   "source": [
    "parque_automovilistico_initial.head(2)"
   ]
  },
  {
   "cell_type": "code",
   "execution_count": 1394,
   "metadata": {},
   "outputs": [],
   "source": [
    "parque_automovilistico_initial.drop_duplicates(subset=['PROVINCIAS'], inplace=True)\n",
    "parque_automovilistico_initial['PROVINCIAS'] = parque_automovilistico_initial['PROVINCIAS'].apply(doClean)"
   ]
  },
  {
   "cell_type": "code",
   "execution_count": 1395,
   "metadata": {},
   "outputs": [],
   "source": [
    "parque_automovilistico_initial['PROVINCIAS'].replace(\"balears_\",\"illes_balears\", inplace=True, regex=True)\n",
    "parque_automovilistico_initial['PROVINCIAS'].replace(\"rioja_\",\"la_rioja\", inplace=True, regex=True)\n",
    "parque_automovilistico_initial['PROVINCIAS'].replace(\"palmas_\",\"las_palmas\", inplace=True, regex=True)"
   ]
  },
  {
   "cell_type": "code",
   "execution_count": 1396,
   "metadata": {},
   "outputs": [],
   "source": [
    "parque_automovilistico_initial.rename(columns={'TOTAL': 'total_vehiculos'}, inplace=True)\n",
    "parque_automovilistico_initial = parque_automovilistico_initial.rename(columns=standardize_headers)\n",
    "\n",
    "new_names = [(i,'prov_'+i) for i in parque_automovilistico_initial.iloc[:, 1:].columns.values]\n",
    "parque_automovilistico_initial.rename(columns = dict(new_names), inplace=True)"
   ]
  },
  {
   "cell_type": "code",
   "execution_count": 1397,
   "metadata": {
    "scrolled": true
   },
   "outputs": [
    {
     "name": "stdout",
     "output_type": "stream",
     "text": [
      "num registros maestro: 6066\n",
      "num registros fichero para unir: 53\n",
      "num agrupaciones maestro: (52, 1)\n",
      "num agrupaciones union: (53, 1)\n",
      "num agrupaciones tras match: (52, 2)\n",
      "el fichero de union no dispone de todos los valores para cruzar\n",
      "columnas final: Index(['provincias', 'prov_camiones', 'prov_furgonetas', 'prov_autobuses',\n",
      "       'prov_turismos', 'prov_motocicletas', 'prov_tractores_industriales',\n",
      "       'prov_r_y_s', 'prov_otros_vehiculos', 'prov_total_vehiculos',\n",
      "       'province', 'matches'],\n",
      "      dtype='object')\n",
      "num registros tras union: (52, 10)\n"
     ]
    }
   ],
   "source": [
    "union_agrup_mar_2 = union_agrup(maestro_nivel_municipio_ori, parque_automovilistico_initial, 'province', 'provincias', threshold=85)"
   ]
  },
  {
   "cell_type": "code",
   "execution_count": 1398,
   "metadata": {
    "scrolled": false
   },
   "outputs": [
    {
     "data": {
      "text/html": [
       "<div>\n",
       "<style scoped>\n",
       "    .dataframe tbody tr th:only-of-type {\n",
       "        vertical-align: middle;\n",
       "    }\n",
       "\n",
       "    .dataframe tbody tr th {\n",
       "        vertical-align: top;\n",
       "    }\n",
       "\n",
       "    .dataframe thead th {\n",
       "        text-align: right;\n",
       "    }\n",
       "</style>\n",
       "<table border=\"1\" class=\"dataframe\">\n",
       "  <thead>\n",
       "    <tr style=\"text-align: right;\">\n",
       "      <th></th>\n",
       "      <th>prov_camiones</th>\n",
       "      <th>prov_furgonetas</th>\n",
       "      <th>prov_autobuses</th>\n",
       "      <th>prov_turismos</th>\n",
       "      <th>prov_motocicletas</th>\n",
       "      <th>prov_tractores_industriales</th>\n",
       "      <th>prov_r_y_s</th>\n",
       "      <th>prov_otros_vehiculos</th>\n",
       "      <th>prov_total_vehiculos</th>\n",
       "      <th>province</th>\n",
       "    </tr>\n",
       "  </thead>\n",
       "  <tbody>\n",
       "    <tr>\n",
       "      <th>0</th>\n",
       "      <td>14473</td>\n",
       "      <td>14749</td>\n",
       "      <td>538</td>\n",
       "      <td>158049</td>\n",
       "      <td>16011</td>\n",
       "      <td>1334</td>\n",
       "      <td>3208</td>\n",
       "      <td>4969</td>\n",
       "      <td>213331</td>\n",
       "      <td>araba</td>\n",
       "    </tr>\n",
       "    <tr>\n",
       "      <th>1</th>\n",
       "      <td>28809</td>\n",
       "      <td>21770</td>\n",
       "      <td>418</td>\n",
       "      <td>191601</td>\n",
       "      <td>25960</td>\n",
       "      <td>3438</td>\n",
       "      <td>5708</td>\n",
       "      <td>4224</td>\n",
       "      <td>281928</td>\n",
       "      <td>albacete</td>\n",
       "    </tr>\n",
       "  </tbody>\n",
       "</table>\n",
       "</div>"
      ],
      "text/plain": [
       "   prov_camiones  prov_furgonetas  prov_autobuses  prov_turismos  \\\n",
       "0          14473            14749             538         158049   \n",
       "1          28809            21770             418         191601   \n",
       "\n",
       "   prov_motocicletas  prov_tractores_industriales  prov_r_y_s  \\\n",
       "0              16011                         1334        3208   \n",
       "1              25960                         3438        5708   \n",
       "\n",
       "   prov_otros_vehiculos  prov_total_vehiculos  province  \n",
       "0                  4969                213331     araba  \n",
       "1                  4224                281928  albacete  "
      ]
     },
     "execution_count": 1398,
     "metadata": {},
     "output_type": "execute_result"
    }
   ],
   "source": [
    "union_agrup_mar_2.head(2)"
   ]
  },
  {
   "cell_type": "code",
   "execution_count": 1399,
   "metadata": {},
   "outputs": [],
   "source": [
    "union_mar_2 = pd.merge(union_mar_1, union_agrup_mar_2, left_on='province',right_on='province', how='left')"
   ]
  },
  {
   "cell_type": "code",
   "execution_count": 1400,
   "metadata": {},
   "outputs": [
    {
     "data": {
      "text/html": [
       "<div>\n",
       "<style scoped>\n",
       "    .dataframe tbody tr th:only-of-type {\n",
       "        vertical-align: middle;\n",
       "    }\n",
       "\n",
       "    .dataframe tbody tr th {\n",
       "        vertical-align: top;\n",
       "    }\n",
       "\n",
       "    .dataframe thead th {\n",
       "        text-align: right;\n",
       "    }\n",
       "</style>\n",
       "<table border=\"1\" class=\"dataframe\">\n",
       "  <thead>\n",
       "    <tr style=\"text-align: right;\">\n",
       "      <th></th>\n",
       "      <th>cities_es</th>\n",
       "      <th>cities</th>\n",
       "      <th>province_es</th>\n",
       "      <th>province</th>\n",
       "      <th>ccaa_es</th>\n",
       "      <th>ccaa</th>\n",
       "      <th>cities_es/province</th>\n",
       "      <th>provincia_original</th>\n",
       "      <th>municipio_original</th>\n",
       "      <th>muni_agrup</th>\n",
       "      <th>...</th>\n",
       "      <th>mujeres_de_100_y_mas</th>\n",
       "      <th>prov_camiones</th>\n",
       "      <th>prov_furgonetas</th>\n",
       "      <th>prov_autobuses</th>\n",
       "      <th>prov_turismos</th>\n",
       "      <th>prov_motocicletas</th>\n",
       "      <th>prov_tractores_industriales</th>\n",
       "      <th>prov_r_y_s</th>\n",
       "      <th>prov_otros_vehiculos</th>\n",
       "      <th>prov_total_vehiculos</th>\n",
       "    </tr>\n",
       "  </thead>\n",
       "  <tbody>\n",
       "  </tbody>\n",
       "</table>\n",
       "<p>0 rows × 63 columns</p>\n",
       "</div>"
      ],
      "text/plain": [
       "Empty DataFrame\n",
       "Columns: [cities_es, cities, province_es, province, ccaa_es, ccaa, cities_es/province, provincia_original, municipio_original, muni_agrup, hombres_total, hombres_de_0_4, hombres_de_5_9, hombres_de_10_4, hombres_de_15_19, hombres_de_20_24, hombres_de_25_29, hombres_de_30_34, hombres_de_35_39, hombres_de_40_44, hombres_de_45_49, hombres_de_50_54, hombres_de_55_59, hombres_de_60_64, hombres_de_65_69, hombres_de_70_74, hombres_de_75_79, hombres_de_80_84, hombres_de_85_89, hombres_de_90_94, hombres_de_95_99, hombres_de_100_y_mas, mujeres_total, mujeres_de_0_4, mujeres_de_5_9, mujeres_de_10_4, mujeres_de_15_19, mujeres_de_20_24, mujeres_de_25_29, mujeres_de_30_34, mujeres_de_35_39, mujeres_de_40_44, mujeres_de_45_49, mujeres_de_50_54, mujeres_de_55_59, mujeres_de_60_64, mujeres_de_65_69, mujeres_de_70_74, mujeres_de_75_79, mujeres_de_80_84, mujeres_de_85_89, mujeres_de_90_94, mujeres_de_95_99, mujeres_de_100_y_mas, prov_camiones, prov_furgonetas, prov_autobuses, prov_turismos, prov_motocicletas, prov_tractores_industriales, prov_r_y_s, prov_otros_vehiculos, prov_total_vehiculos]\n",
       "Index: []\n",
       "\n",
       "[0 rows x 63 columns]"
      ]
     },
     "execution_count": 1400,
     "metadata": {},
     "output_type": "execute_result"
    }
   ],
   "source": [
    "# comprobacion duplicados\n",
    "union_mar_2[union_mar_2.duplicated()]"
   ]
  },
  {
   "cell_type": "code",
   "execution_count": 1401,
   "metadata": {
    "scrolled": true
   },
   "outputs": [
    {
     "data": {
      "text/html": [
       "<div>\n",
       "<style scoped>\n",
       "    .dataframe tbody tr th:only-of-type {\n",
       "        vertical-align: middle;\n",
       "    }\n",
       "\n",
       "    .dataframe tbody tr th {\n",
       "        vertical-align: top;\n",
       "    }\n",
       "\n",
       "    .dataframe thead th {\n",
       "        text-align: right;\n",
       "    }\n",
       "</style>\n",
       "<table border=\"1\" class=\"dataframe\">\n",
       "  <thead>\n",
       "    <tr style=\"text-align: right;\">\n",
       "      <th></th>\n",
       "      <th>cities_es</th>\n",
       "      <th>cities</th>\n",
       "      <th>province_es</th>\n",
       "      <th>province</th>\n",
       "      <th>ccaa_es</th>\n",
       "      <th>ccaa</th>\n",
       "      <th>cities_es/province</th>\n",
       "      <th>provincia_original</th>\n",
       "      <th>municipio_original</th>\n",
       "      <th>muni_agrup</th>\n",
       "      <th>...</th>\n",
       "      <th>mujeres_de_100_y_mas</th>\n",
       "      <th>prov_camiones</th>\n",
       "      <th>prov_furgonetas</th>\n",
       "      <th>prov_autobuses</th>\n",
       "      <th>prov_turismos</th>\n",
       "      <th>prov_motocicletas</th>\n",
       "      <th>prov_tractores_industriales</th>\n",
       "      <th>prov_r_y_s</th>\n",
       "      <th>prov_otros_vehiculos</th>\n",
       "      <th>prov_total_vehiculos</th>\n",
       "    </tr>\n",
       "  </thead>\n",
       "  <tbody>\n",
       "    <tr>\n",
       "      <th>0</th>\n",
       "      <td>alegria_dulantzi</td>\n",
       "      <td>alegria_dulantzi</td>\n",
       "      <td>alava</td>\n",
       "      <td>araba</td>\n",
       "      <td>pais_vasco</td>\n",
       "      <td>pais_vasco</td>\n",
       "      <td>alegria_dulantzi/araba</td>\n",
       "      <td>Araba/Álava</td>\n",
       "      <td>Alegría-Dulantzi</td>\n",
       "      <td>alegria_dulantzi/pais_vasco</td>\n",
       "      <td>...</td>\n",
       "      <td>475.0</td>\n",
       "      <td>14473</td>\n",
       "      <td>14749</td>\n",
       "      <td>538</td>\n",
       "      <td>158049</td>\n",
       "      <td>16011</td>\n",
       "      <td>1334</td>\n",
       "      <td>3208</td>\n",
       "      <td>4969</td>\n",
       "      <td>213331</td>\n",
       "    </tr>\n",
       "    <tr>\n",
       "      <th>1</th>\n",
       "      <td>amurrio</td>\n",
       "      <td>amurrio</td>\n",
       "      <td>alava</td>\n",
       "      <td>araba</td>\n",
       "      <td>pais_vasco</td>\n",
       "      <td>pais_vasco</td>\n",
       "      <td>amurrio/araba</td>\n",
       "      <td>Araba/Álava</td>\n",
       "      <td>Amurrio</td>\n",
       "      <td>amurrio/pais_vasco</td>\n",
       "      <td>...</td>\n",
       "      <td>35.0</td>\n",
       "      <td>14473</td>\n",
       "      <td>14749</td>\n",
       "      <td>538</td>\n",
       "      <td>158049</td>\n",
       "      <td>16011</td>\n",
       "      <td>1334</td>\n",
       "      <td>3208</td>\n",
       "      <td>4969</td>\n",
       "      <td>213331</td>\n",
       "    </tr>\n",
       "  </tbody>\n",
       "</table>\n",
       "<p>2 rows × 63 columns</p>\n",
       "</div>"
      ],
      "text/plain": [
       "          cities_es            cities province_es province     ccaa_es  \\\n",
       "0  alegria_dulantzi  alegria_dulantzi       alava    araba  pais_vasco   \n",
       "1           amurrio           amurrio       alava    araba  pais_vasco   \n",
       "\n",
       "         ccaa      cities_es/province provincia_original municipio_original  \\\n",
       "0  pais_vasco  alegria_dulantzi/araba        Araba/Álava   Alegría-Dulantzi   \n",
       "1  pais_vasco           amurrio/araba        Araba/Álava            Amurrio   \n",
       "\n",
       "                    muni_agrup  ...  mujeres_de_100_y_mas  prov_camiones  \\\n",
       "0  alegria_dulantzi/pais_vasco  ...                 475.0          14473   \n",
       "1           amurrio/pais_vasco  ...                  35.0          14473   \n",
       "\n",
       "   prov_furgonetas  prov_autobuses  prov_turismos  prov_motocicletas  \\\n",
       "0            14749             538         158049              16011   \n",
       "1            14749             538         158049              16011   \n",
       "\n",
       "   prov_tractores_industriales  prov_r_y_s  prov_otros_vehiculos  \\\n",
       "0                         1334        3208                  4969   \n",
       "1                         1334        3208                  4969   \n",
       "\n",
       "   prov_total_vehiculos  \n",
       "0                213331  \n",
       "1                213331  \n",
       "\n",
       "[2 rows x 63 columns]"
      ]
     },
     "execution_count": 1401,
     "metadata": {},
     "output_type": "execute_result"
    }
   ],
   "source": [
    "union_mar_2.head(2)"
   ]
  },
  {
   "cell_type": "code",
   "execution_count": 1402,
   "metadata": {
    "scrolled": true
   },
   "outputs": [
    {
     "data": {
      "text/plain": [
       "(6066, 63)"
      ]
     },
     "execution_count": 1402,
     "metadata": {},
     "output_type": "execute_result"
    }
   ],
   "source": [
    "union_mar_2.shape"
   ]
  },
  {
   "cell_type": "markdown",
   "metadata": {},
   "source": [
    "##### Latitud longitud y altitud"
   ]
  },
  {
   "cell_type": "code",
   "execution_count": 1403,
   "metadata": {},
   "outputs": [
    {
     "data": {
      "text/plain": [
       "(8146, 8)"
      ]
     },
     "execution_count": 1403,
     "metadata": {},
     "output_type": "execute_result"
    }
   ],
   "source": [
    "altitud_coordenadas_distancias_minimas=pd.read_csv('../mar/altitud_coordenadas_distancias_minimas.csv',index_col=0,dtype={'columns': float})\n",
    "altitud_coordenadas_distancias_minimas.shape"
   ]
  },
  {
   "cell_type": "code",
   "execution_count": 1404,
   "metadata": {},
   "outputs": [
    {
     "data": {
      "text/html": [
       "<div>\n",
       "<style scoped>\n",
       "    .dataframe tbody tr th:only-of-type {\n",
       "        vertical-align: middle;\n",
       "    }\n",
       "\n",
       "    .dataframe tbody tr th {\n",
       "        vertical-align: top;\n",
       "    }\n",
       "\n",
       "    .dataframe thead th {\n",
       "        text-align: right;\n",
       "    }\n",
       "</style>\n",
       "<table border=\"1\" class=\"dataframe\">\n",
       "  <thead>\n",
       "    <tr style=\"text-align: right;\">\n",
       "      <th></th>\n",
       "      <th>comunidad</th>\n",
       "      <th>provincia</th>\n",
       "      <th>población</th>\n",
       "      <th>latitud</th>\n",
       "      <th>longitud</th>\n",
       "      <th>altitud</th>\n",
       "      <th>distanica_km</th>\n",
       "      <th>cuidad_mas_cercana</th>\n",
       "    </tr>\n",
       "  </thead>\n",
       "  <tbody>\n",
       "    <tr>\n",
       "      <th>0</th>\n",
       "      <td>andalucia</td>\n",
       "      <td>almeria</td>\n",
       "      <td>abla</td>\n",
       "      <td>37.14114</td>\n",
       "      <td>-2.780104</td>\n",
       "      <td>871.1684</td>\n",
       "      <td>46.876723</td>\n",
       "      <td>El_Ejido</td>\n",
       "    </tr>\n",
       "    <tr>\n",
       "      <th>1</th>\n",
       "      <td>andalucia</td>\n",
       "      <td>almeria</td>\n",
       "      <td>abrucena</td>\n",
       "      <td>37.13305</td>\n",
       "      <td>-2.797098</td>\n",
       "      <td>976.9387</td>\n",
       "      <td>45.944207</td>\n",
       "      <td>El_Ejido</td>\n",
       "    </tr>\n",
       "  </tbody>\n",
       "</table>\n",
       "</div>"
      ],
      "text/plain": [
       "   comunidad provincia población   latitud  longitud   altitud  distanica_km  \\\n",
       "0  andalucia   almeria      abla  37.14114 -2.780104  871.1684     46.876723   \n",
       "1  andalucia   almeria  abrucena  37.13305 -2.797098  976.9387     45.944207   \n",
       "\n",
       "  cuidad_mas_cercana  \n",
       "0           El_Ejido  \n",
       "1           El_Ejido  "
      ]
     },
     "execution_count": 1404,
     "metadata": {},
     "output_type": "execute_result"
    }
   ],
   "source": [
    "altitud_coordenadas_distancias_minimas.head(2)"
   ]
  },
  {
   "cell_type": "code",
   "execution_count": 1405,
   "metadata": {},
   "outputs": [],
   "source": [
    "#altitud_coordenadas_distancias_minimas[altitud_coordenadas_distancias_minimas['población']=='mieres']"
   ]
  },
  {
   "cell_type": "code",
   "execution_count": 1406,
   "metadata": {},
   "outputs": [],
   "source": [
    "altitud_coordenadas_distancias_minimas = altitud_coordenadas_distancias_minimas.sort_values(['provincia','población', 'latitud', 'longitud', 'altitud'])"
   ]
  },
  {
   "cell_type": "code",
   "execution_count": 1407,
   "metadata": {},
   "outputs": [],
   "source": [
    "#altitud_coordenadas_distancias_minimas[altitud_coordenadas_distancias_minimas.duplicated(subset=['población', 'provincia'])]"
   ]
  },
  {
   "cell_type": "code",
   "execution_count": 1408,
   "metadata": {},
   "outputs": [],
   "source": [
    "altitud_coordenadas_distancias_minimas.drop_duplicates(subset=['provincia','población'], keep='first', inplace=True)"
   ]
  },
  {
   "cell_type": "code",
   "execution_count": 1409,
   "metadata": {},
   "outputs": [],
   "source": [
    "altitud_coordenadas_distancias_minimas.drop(columns='comunidad', inplace=True)\n",
    "altitud_coordenadas_distancias_minimas = altitud_coordenadas_distancias_minimas.rename(columns=standardize_headers)\n",
    "altitud_coordenadas_distancias_minimas['poblacion'] = altitud_coordenadas_distancias_minimas['poblacion'].apply(doClean)\n",
    "altitud_coordenadas_distancias_minimas['provincia'] = altitud_coordenadas_distancias_minimas['provincia'].apply(doClean)\n",
    "altitud_coordenadas_distancias_minimas['cuidad_mas_cercana'] = altitud_coordenadas_distancias_minimas['cuidad_mas_cercana'].apply(doClean)\n",
    "altitud_coordenadas_distancias_minimas.rename(columns={'distanica_km': 'distanica_km_ciudad_cercana'}, inplace=True)"
   ]
  },
  {
   "cell_type": "code",
   "execution_count": 1410,
   "metadata": {
    "scrolled": true
   },
   "outputs": [
    {
     "name": "stdout",
     "output_type": "stream",
     "text": [
      "num registros maestro: 6066\n",
      "num registros fichero para unir: 8112\n",
      "num agrupaciones maestro: (52, 1)\n",
      "num agrupaciones union: (52, 1)\n",
      "num agrupaciones tras match: (52, 2)\n",
      "df_union_agrup_match: (8112, 9)\n",
      "alava\n",
      "no se han cruzado todos los valores:\n",
      "albacete\n",
      "no se han cruzado todos los valores:\n",
      "alicante\n",
      "no se han cruzado todos los valores:\n",
      "murcia\n",
      "no se han cruzado todos los valores:\n",
      "almeria\n",
      "no se han cruzado todos los valores:\n",
      "avila\n",
      "no se han cruzado todos los valores:\n",
      "badajoz\n",
      "no se han cruzado todos los valores:\n",
      "illes_balears\n",
      "no se han cruzado todos los valores:\n",
      "barcelona\n",
      "no se han cruzado todos los valores:\n",
      "tarragona\n",
      "no se han cruzado todos los valores:\n",
      "burgos\n",
      "no se han cruzado todos los valores:\n",
      "cantabria\n",
      "no se han cruzado todos los valores:\n",
      "la_rioja\n",
      "no se han cruzado todos los valores:\n",
      "palencia\n",
      "no se han cruzado todos los valores:\n",
      "caceres\n",
      "no se han cruzado todos los valores:\n",
      "cadiz\n",
      "no se han cruzado todos los valores:\n",
      "castellon\n",
      "no se han cruzado todos los valores:\n",
      "ciudad_real\n",
      "no se han cruzado todos los valores:\n",
      "cordoba\n",
      "no se han cruzado todos los valores:\n",
      "granada\n",
      "no se han cruzado todos los valores:\n",
      "coruna\n",
      "no se han cruzado todos los valores:\n",
      "cuenca\n",
      "no se han cruzado todos los valores:\n",
      "leon\n",
      "no se han cruzado todos los valores:\n",
      "girona\n",
      "no se han cruzado todos los valores:\n",
      "guadalajara\n",
      "no se han cruzado todos los valores:\n",
      "madrid\n",
      "no se han cruzado todos los valores:\n",
      "guipuzkoa\n",
      "no se han cruzado todos los valores:\n",
      "huelva\n",
      "no se han cruzado todos los valores:\n",
      "huesca\n",
      "no se han cruzado todos los valores:\n",
      "jaen\n",
      "no se han cruzado todos los valores:\n",
      "lleida\n",
      "no se han cruzado todos los valores:\n",
      "lugo\n",
      "no se han cruzado todos los valores:\n",
      "malaga\n",
      "no se han cruzado todos los valores:\n",
      "navarra\n",
      "no se han cruzado todos los valores:\n",
      "zaragoza\n",
      "no se han cruzado todos los valores:\n",
      "ourense\n",
      "no se han cruzado todos los valores:\n",
      "asturias\n",
      "no se han cruzado todos los valores:\n",
      "las_palmas\n",
      "no se han cruzado todos los valores:\n",
      "pontevedra\n",
      "no se han cruzado todos los valores:\n",
      "salamanca\n",
      "no se han cruzado todos los valores:\n",
      "santa_cruz_de_tenerife\n",
      "no se han cruzado todos los valores:\n",
      "segovia\n",
      "no se han cruzado todos los valores:\n",
      "sevilla\n",
      "no se han cruzado todos los valores:\n",
      "soria\n",
      "no se han cruzado todos los valores:\n",
      "teruel\n",
      "no se han cruzado todos los valores:\n",
      "toledo\n",
      "no se han cruzado todos los valores:\n",
      "valencia\n",
      "no se han cruzado todos los valores:\n",
      "valladolid\n",
      "no se han cruzado todos los valores:\n",
      "vizcaya\n",
      "zamora\n",
      "no se han cruzado todos los valores:\n",
      "ceuta\n",
      "melilla\n",
      "num muni maestro: 6066\n",
      "muni_match: Index(['cities_es', 'cities', 'province_es', 'province', 'ccaa_es', 'ccaa',\n",
      "       'cities_es/province', 'provincia_original', 'municipio_original',\n",
      "       'hombres_total', 'hombres_de_0_4', 'hombres_de_5_9', 'hombres_de_10_4',\n",
      "       'hombres_de_15_19', 'hombres_de_20_24', 'hombres_de_25_29',\n",
      "       'hombres_de_30_34', 'hombres_de_35_39', 'hombres_de_40_44',\n",
      "       'hombres_de_45_49', 'hombres_de_50_54', 'hombres_de_55_59',\n",
      "       'hombres_de_60_64', 'hombres_de_65_69', 'hombres_de_70_74',\n",
      "       'hombres_de_75_79', 'hombres_de_80_84', 'hombres_de_85_89',\n",
      "       'hombres_de_90_94', 'hombres_de_95_99', 'hombres_de_100_y_mas',\n",
      "       'mujeres_total', 'mujeres_de_0_4', 'mujeres_de_5_9', 'mujeres_de_10_4',\n",
      "       'mujeres_de_15_19', 'mujeres_de_20_24', 'mujeres_de_25_29',\n",
      "       'mujeres_de_30_34', 'mujeres_de_35_39', 'mujeres_de_40_44',\n",
      "       'mujeres_de_45_49', 'mujeres_de_50_54', 'mujeres_de_55_59',\n",
      "       'mujeres_de_60_64', 'mujeres_de_65_69', 'mujeres_de_70_74',\n",
      "       'mujeres_de_75_79', 'mujeres_de_80_84', 'mujeres_de_85_89',\n",
      "       'mujeres_de_90_94', 'mujeres_de_95_99', 'mujeres_de_100_y_mas',\n",
      "       'prov_camiones', 'prov_furgonetas', 'prov_autobuses', 'prov_turismos',\n",
      "       'prov_motocicletas', 'prov_tractores_industriales', 'prov_r_y_s',\n",
      "       'prov_otros_vehiculos', 'prov_total_vehiculos', 'matches'],\n",
      "      dtype='object')\n",
      "df_union_agrup_match: (8112, 8)\n",
      "el fichero de union no dispone de todos los valores para cruzar por municipio\n",
      "columnas final: Index(['cities_es', 'cities', 'province_es', 'province', 'ccaa_es', 'ccaa',\n",
      "       'cities_es/province', 'provincia_original', 'municipio_original',\n",
      "       'hombres_total', 'hombres_de_0_4', 'hombres_de_5_9', 'hombres_de_10_4',\n",
      "       'hombres_de_15_19', 'hombres_de_20_24', 'hombres_de_25_29',\n",
      "       'hombres_de_30_34', 'hombres_de_35_39', 'hombres_de_40_44',\n",
      "       'hombres_de_45_49', 'hombres_de_50_54', 'hombres_de_55_59',\n",
      "       'hombres_de_60_64', 'hombres_de_65_69', 'hombres_de_70_74',\n",
      "       'hombres_de_75_79', 'hombres_de_80_84', 'hombres_de_85_89',\n",
      "       'hombres_de_90_94', 'hombres_de_95_99', 'hombres_de_100_y_mas',\n",
      "       'mujeres_total', 'mujeres_de_0_4', 'mujeres_de_5_9', 'mujeres_de_10_4',\n",
      "       'mujeres_de_15_19', 'mujeres_de_20_24', 'mujeres_de_25_29',\n",
      "       'mujeres_de_30_34', 'mujeres_de_35_39', 'mujeres_de_40_44',\n",
      "       'mujeres_de_45_49', 'mujeres_de_50_54', 'mujeres_de_55_59',\n",
      "       'mujeres_de_60_64', 'mujeres_de_65_69', 'mujeres_de_70_74',\n",
      "       'mujeres_de_75_79', 'mujeres_de_80_84', 'mujeres_de_85_89',\n",
      "       'mujeres_de_90_94', 'mujeres_de_95_99', 'mujeres_de_100_y_mas',\n",
      "       'prov_camiones', 'prov_furgonetas', 'prov_autobuses', 'prov_turismos',\n",
      "       'prov_motocicletas', 'prov_tractores_industriales', 'prov_r_y_s',\n",
      "       'prov_otros_vehiculos', 'prov_total_vehiculos', 'matches', 'provincia',\n",
      "       'poblacion', 'latitud', 'longitud', 'altitud',\n",
      "       'distanica_km_ciudad_cercana', 'cuidad_mas_cercana', 'muni_agrup'],\n",
      "      dtype='object')\n",
      "num registros tras union: (6066, 67)\n"
     ]
    }
   ],
   "source": [
    "union_mar_3 = union_muni(union_mar_2, altitud_coordenadas_distancias_minimas, 'cities_es', 'province_es', 'poblacion', 'provincia', threshold=85, threshold_mun=90)"
   ]
  },
  {
   "cell_type": "code",
   "execution_count": 1411,
   "metadata": {
    "scrolled": true
   },
   "outputs": [
    {
     "data": {
      "text/html": [
       "<div>\n",
       "<style scoped>\n",
       "    .dataframe tbody tr th:only-of-type {\n",
       "        vertical-align: middle;\n",
       "    }\n",
       "\n",
       "    .dataframe tbody tr th {\n",
       "        vertical-align: top;\n",
       "    }\n",
       "\n",
       "    .dataframe thead th {\n",
       "        text-align: right;\n",
       "    }\n",
       "</style>\n",
       "<table border=\"1\" class=\"dataframe\">\n",
       "  <thead>\n",
       "    <tr style=\"text-align: right;\">\n",
       "      <th></th>\n",
       "      <th>cities_es</th>\n",
       "      <th>cities</th>\n",
       "      <th>province_es</th>\n",
       "      <th>province</th>\n",
       "      <th>ccaa_es</th>\n",
       "      <th>ccaa</th>\n",
       "      <th>cities_es/province</th>\n",
       "      <th>provincia_original</th>\n",
       "      <th>municipio_original</th>\n",
       "      <th>hombres_total</th>\n",
       "      <th>...</th>\n",
       "      <th>prov_motocicletas</th>\n",
       "      <th>prov_tractores_industriales</th>\n",
       "      <th>prov_r_y_s</th>\n",
       "      <th>prov_otros_vehiculos</th>\n",
       "      <th>prov_total_vehiculos</th>\n",
       "      <th>latitud</th>\n",
       "      <th>longitud</th>\n",
       "      <th>altitud</th>\n",
       "      <th>distanica_km_ciudad_cercana</th>\n",
       "      <th>cuidad_mas_cercana</th>\n",
       "    </tr>\n",
       "  </thead>\n",
       "  <tbody>\n",
       "    <tr>\n",
       "      <th>0</th>\n",
       "      <td>alegria_dulantzi</td>\n",
       "      <td>alegria_dulantzi</td>\n",
       "      <td>alava</td>\n",
       "      <td>araba</td>\n",
       "      <td>pais_vasco</td>\n",
       "      <td>pais_vasco</td>\n",
       "      <td>alegria_dulantzi/araba</td>\n",
       "      <td>Araba/Álava</td>\n",
       "      <td>Alegría-Dulantzi</td>\n",
       "      <td>124813.0</td>\n",
       "      <td>...</td>\n",
       "      <td>16011</td>\n",
       "      <td>1334</td>\n",
       "      <td>3208</td>\n",
       "      <td>4969</td>\n",
       "      <td>213331</td>\n",
       "      <td>42.84149</td>\n",
       "      <td>-2.513507</td>\n",
       "      <td>561.6857</td>\n",
       "      <td>34.443702</td>\n",
       "      <td>bilbao</td>\n",
       "    </tr>\n",
       "    <tr>\n",
       "      <th>1</th>\n",
       "      <td>amurrio</td>\n",
       "      <td>amurrio</td>\n",
       "      <td>alava</td>\n",
       "      <td>araba</td>\n",
       "      <td>pais_vasco</td>\n",
       "      <td>pais_vasco</td>\n",
       "      <td>amurrio/araba</td>\n",
       "      <td>Araba/Álava</td>\n",
       "      <td>Amurrio</td>\n",
       "      <td>8506.0</td>\n",
       "      <td>...</td>\n",
       "      <td>16011</td>\n",
       "      <td>1334</td>\n",
       "      <td>3208</td>\n",
       "      <td>4969</td>\n",
       "      <td>213331</td>\n",
       "      <td>43.05265</td>\n",
       "      <td>-3.001022</td>\n",
       "      <td>219.6910</td>\n",
       "      <td>34.194237</td>\n",
       "      <td>getxo</td>\n",
       "    </tr>\n",
       "  </tbody>\n",
       "</table>\n",
       "<p>2 rows × 67 columns</p>\n",
       "</div>"
      ],
      "text/plain": [
       "          cities_es            cities province_es province     ccaa_es  \\\n",
       "0  alegria_dulantzi  alegria_dulantzi       alava    araba  pais_vasco   \n",
       "1           amurrio           amurrio       alava    araba  pais_vasco   \n",
       "\n",
       "         ccaa      cities_es/province provincia_original municipio_original  \\\n",
       "0  pais_vasco  alegria_dulantzi/araba        Araba/Álava   Alegría-Dulantzi   \n",
       "1  pais_vasco           amurrio/araba        Araba/Álava            Amurrio   \n",
       "\n",
       "   hombres_total  ...  prov_motocicletas  prov_tractores_industriales  \\\n",
       "0       124813.0  ...              16011                         1334   \n",
       "1         8506.0  ...              16011                         1334   \n",
       "\n",
       "   prov_r_y_s  prov_otros_vehiculos  prov_total_vehiculos   latitud  longitud  \\\n",
       "0        3208                  4969                213331  42.84149 -2.513507   \n",
       "1        3208                  4969                213331  43.05265 -3.001022   \n",
       "\n",
       "    altitud  distanica_km_ciudad_cercana  cuidad_mas_cercana  \n",
       "0  561.6857                    34.443702              bilbao  \n",
       "1  219.6910                    34.194237               getxo  \n",
       "\n",
       "[2 rows x 67 columns]"
      ]
     },
     "execution_count": 1411,
     "metadata": {},
     "output_type": "execute_result"
    }
   ],
   "source": [
    "union_mar_3.head(2)"
   ]
  },
  {
   "cell_type": "code",
   "execution_count": 1412,
   "metadata": {},
   "outputs": [
    {
     "data": {
      "text/plain": [
       "(6066, 67)"
      ]
     },
     "execution_count": 1412,
     "metadata": {},
     "output_type": "execute_result"
    }
   ],
   "source": [
    "union_mar_3.shape"
   ]
  },
  {
   "cell_type": "markdown",
   "metadata": {},
   "source": [
    "##### Climatologia"
   ]
  },
  {
   "cell_type": "code",
   "execution_count": 1413,
   "metadata": {},
   "outputs": [
    {
     "data": {
      "text/plain": [
       "(51, 16)"
      ]
     },
     "execution_count": 1413,
     "metadata": {},
     "output_type": "execute_result"
    }
   ],
   "source": [
    "climatologia = pd.read_csv('../mar/climatologia_limpio.csv',index_col=0,dtype={'columns': float})\n",
    "climatologia.shape"
   ]
  },
  {
   "cell_type": "code",
   "execution_count": 1414,
   "metadata": {
    "scrolled": true
   },
   "outputs": [
    {
     "data": {
      "text/html": [
       "<div>\n",
       "<style scoped>\n",
       "    .dataframe tbody tr th:only-of-type {\n",
       "        vertical-align: middle;\n",
       "    }\n",
       "\n",
       "    .dataframe tbody tr th {\n",
       "        vertical-align: top;\n",
       "    }\n",
       "\n",
       "    .dataframe thead th {\n",
       "        text-align: right;\n",
       "    }\n",
       "</style>\n",
       "<table border=\"1\" class=\"dataframe\">\n",
       "  <thead>\n",
       "    <tr style=\"text-align: right;\">\n",
       "      <th></th>\n",
       "      <th>n_llu_anual</th>\n",
       "      <th>n_nub_anual</th>\n",
       "      <th>n_nie_anual</th>\n",
       "      <th>n_gra_anual</th>\n",
       "      <th>n_fog_anual</th>\n",
       "      <th>n_des_anual</th>\n",
       "      <th>n_cub_anual</th>\n",
       "      <th>n_tor_anual</th>\n",
       "      <th>nt_00_anual</th>\n",
       "      <th>nt_30_anual</th>\n",
       "      <th>nw_55_anual</th>\n",
       "      <th>nw_91_anual</th>\n",
       "      <th>w_med_anual</th>\n",
       "      <th>ta_max_anual</th>\n",
       "      <th>ta_min_anual</th>\n",
       "      <th>PROVINCIA</th>\n",
       "    </tr>\n",
       "  </thead>\n",
       "  <tbody>\n",
       "    <tr>\n",
       "      <th>0</th>\n",
       "      <td>353.5</td>\n",
       "      <td>305.5</td>\n",
       "      <td>0.0</td>\n",
       "      <td>12.5</td>\n",
       "      <td>151.5</td>\n",
       "      <td>93.0</td>\n",
       "      <td>149.0</td>\n",
       "      <td>11.5</td>\n",
       "      <td>4.772727</td>\n",
       "      <td>5.272727</td>\n",
       "      <td>26.900000</td>\n",
       "      <td>0.700</td>\n",
       "      <td>25.681818</td>\n",
       "      <td>33.5(31/may)</td>\n",
       "      <td>3.3(04/ene)</td>\n",
       "      <td>coruna</td>\n",
       "    </tr>\n",
       "    <tr>\n",
       "      <th>1</th>\n",
       "      <td>76.5</td>\n",
       "      <td>104.0</td>\n",
       "      <td>0.0</td>\n",
       "      <td>2.0</td>\n",
       "      <td>14.0</td>\n",
       "      <td>62.5</td>\n",
       "      <td>16.0</td>\n",
       "      <td>11.0</td>\n",
       "      <td>45.500000</td>\n",
       "      <td>86.500000</td>\n",
       "      <td>2.477273</td>\n",
       "      <td>0.125</td>\n",
       "      <td>10.071429</td>\n",
       "      <td>38.7(12/jul)</td>\n",
       "      <td>-8.6(11/ene)</td>\n",
       "      <td>albacete</td>\n",
       "    </tr>\n",
       "  </tbody>\n",
       "</table>\n",
       "</div>"
      ],
      "text/plain": [
       "   n_llu_anual  n_nub_anual  n_nie_anual  n_gra_anual  n_fog_anual  \\\n",
       "0        353.5        305.5          0.0         12.5        151.5   \n",
       "1         76.5        104.0          0.0          2.0         14.0   \n",
       "\n",
       "   n_des_anual  n_cub_anual  n_tor_anual  nt_00_anual  nt_30_anual  \\\n",
       "0         93.0        149.0         11.5     4.772727     5.272727   \n",
       "1         62.5         16.0         11.0    45.500000    86.500000   \n",
       "\n",
       "   nw_55_anual  nw_91_anual  w_med_anual  ta_max_anual  ta_min_anual PROVINCIA  \n",
       "0    26.900000        0.700    25.681818  33.5(31/may)   3.3(04/ene)    coruna  \n",
       "1     2.477273        0.125    10.071429  38.7(12/jul)  -8.6(11/ene)  albacete  "
      ]
     },
     "execution_count": 1414,
     "metadata": {},
     "output_type": "execute_result"
    }
   ],
   "source": [
    "#faltan islas baleares\n",
    "climatologia.head(2)"
   ]
  },
  {
   "cell_type": "code",
   "execution_count": 1415,
   "metadata": {},
   "outputs": [],
   "source": [
    "new_names = [(i,'prov_'+i) for i in climatologia.iloc[:, 0:15].columns.values]\n",
    "climatologia.rename(columns = dict(new_names), inplace=True)"
   ]
  },
  {
   "cell_type": "code",
   "execution_count": 1416,
   "metadata": {
    "scrolled": true
   },
   "outputs": [
    {
     "name": "stdout",
     "output_type": "stream",
     "text": [
      "num registros maestro: 6066\n",
      "num registros fichero para unir: 51\n",
      "num agrupaciones maestro: (52, 1)\n",
      "num agrupaciones union: (51, 1)\n",
      "num agrupaciones tras match: (52, 2)\n",
      "no se han cruzado todos los valores:\n",
      "          province matches\n",
      "634  illes_balears        \n",
      "el fichero de union no dispone de todos los valores para cruzar\n",
      "columnas final: Index(['prov_n_llu_anual', 'prov_n_nub_anual', 'prov_n_nie_anual',\n",
      "       'prov_n_gra_anual', 'prov_n_fog_anual', 'prov_n_des_anual',\n",
      "       'prov_n_cub_anual', 'prov_n_tor_anual', 'prov_nt_00_anual',\n",
      "       'prov_nt_30_anual', 'prov_nw_55_anual', 'prov_nw_91_anual',\n",
      "       'prov_w_med_anual', 'prov_ta_max_anual', 'prov_ta_min_anual',\n",
      "       'PROVINCIA', 'province', 'matches'],\n",
      "      dtype='object')\n",
      "num registros tras union: (52, 16)\n"
     ]
    }
   ],
   "source": [
    "union_agrup_mar_4 = union_agrup(maestro_nivel_municipio_ori, climatologia, 'province', 'PROVINCIA', threshold=85)"
   ]
  },
  {
   "cell_type": "code",
   "execution_count": 1417,
   "metadata": {
    "scrolled": false
   },
   "outputs": [
    {
     "data": {
      "text/html": [
       "<div>\n",
       "<style scoped>\n",
       "    .dataframe tbody tr th:only-of-type {\n",
       "        vertical-align: middle;\n",
       "    }\n",
       "\n",
       "    .dataframe tbody tr th {\n",
       "        vertical-align: top;\n",
       "    }\n",
       "\n",
       "    .dataframe thead th {\n",
       "        text-align: right;\n",
       "    }\n",
       "</style>\n",
       "<table border=\"1\" class=\"dataframe\">\n",
       "  <thead>\n",
       "    <tr style=\"text-align: right;\">\n",
       "      <th></th>\n",
       "      <th>prov_n_llu_anual</th>\n",
       "      <th>prov_n_nub_anual</th>\n",
       "      <th>prov_n_nie_anual</th>\n",
       "      <th>prov_n_gra_anual</th>\n",
       "      <th>prov_n_fog_anual</th>\n",
       "      <th>prov_n_des_anual</th>\n",
       "      <th>prov_n_cub_anual</th>\n",
       "      <th>prov_n_tor_anual</th>\n",
       "      <th>prov_nt_00_anual</th>\n",
       "      <th>prov_nt_30_anual</th>\n",
       "      <th>prov_nw_55_anual</th>\n",
       "      <th>prov_nw_91_anual</th>\n",
       "      <th>prov_w_med_anual</th>\n",
       "      <th>prov_ta_max_anual</th>\n",
       "      <th>prov_ta_min_anual</th>\n",
       "      <th>province</th>\n",
       "    </tr>\n",
       "  </thead>\n",
       "  <tbody>\n",
       "    <tr>\n",
       "      <th>0</th>\n",
       "      <td>353.5</td>\n",
       "      <td>305.5</td>\n",
       "      <td>0.0</td>\n",
       "      <td>12.5</td>\n",
       "      <td>151.5</td>\n",
       "      <td>93.0</td>\n",
       "      <td>149.0</td>\n",
       "      <td>11.5</td>\n",
       "      <td>4.772727</td>\n",
       "      <td>5.272727</td>\n",
       "      <td>26.900000</td>\n",
       "      <td>0.700</td>\n",
       "      <td>25.681818</td>\n",
       "      <td>33.5(31/may)</td>\n",
       "      <td>3.3(04/ene)</td>\n",
       "      <td>coruna</td>\n",
       "    </tr>\n",
       "    <tr>\n",
       "      <th>1</th>\n",
       "      <td>76.5</td>\n",
       "      <td>104.0</td>\n",
       "      <td>0.0</td>\n",
       "      <td>2.0</td>\n",
       "      <td>14.0</td>\n",
       "      <td>62.5</td>\n",
       "      <td>16.0</td>\n",
       "      <td>11.0</td>\n",
       "      <td>45.500000</td>\n",
       "      <td>86.500000</td>\n",
       "      <td>2.477273</td>\n",
       "      <td>0.125</td>\n",
       "      <td>10.071429</td>\n",
       "      <td>38.7(12/jul)</td>\n",
       "      <td>-8.6(11/ene)</td>\n",
       "      <td>albacete</td>\n",
       "    </tr>\n",
       "  </tbody>\n",
       "</table>\n",
       "</div>"
      ],
      "text/plain": [
       "   prov_n_llu_anual  prov_n_nub_anual  prov_n_nie_anual  prov_n_gra_anual  \\\n",
       "0             353.5             305.5               0.0              12.5   \n",
       "1              76.5             104.0               0.0               2.0   \n",
       "\n",
       "   prov_n_fog_anual  prov_n_des_anual  prov_n_cub_anual  prov_n_tor_anual  \\\n",
       "0             151.5              93.0             149.0              11.5   \n",
       "1              14.0              62.5              16.0              11.0   \n",
       "\n",
       "   prov_nt_00_anual  prov_nt_30_anual  prov_nw_55_anual  prov_nw_91_anual  \\\n",
       "0          4.772727          5.272727         26.900000             0.700   \n",
       "1         45.500000         86.500000          2.477273             0.125   \n",
       "\n",
       "   prov_w_med_anual prov_ta_max_anual prov_ta_min_anual  province  \n",
       "0         25.681818      33.5(31/may)       3.3(04/ene)    coruna  \n",
       "1         10.071429      38.7(12/jul)      -8.6(11/ene)  albacete  "
      ]
     },
     "execution_count": 1417,
     "metadata": {},
     "output_type": "execute_result"
    }
   ],
   "source": [
    "union_agrup_mar_4.head(2)"
   ]
  },
  {
   "cell_type": "code",
   "execution_count": 1418,
   "metadata": {},
   "outputs": [],
   "source": [
    "union_mar_4 = pd.merge(union_mar_3, union_agrup_mar_4, left_on='province',right_on='province', how='left')"
   ]
  },
  {
   "cell_type": "code",
   "execution_count": 1419,
   "metadata": {},
   "outputs": [
    {
     "data": {
      "text/html": [
       "<div>\n",
       "<style scoped>\n",
       "    .dataframe tbody tr th:only-of-type {\n",
       "        vertical-align: middle;\n",
       "    }\n",
       "\n",
       "    .dataframe tbody tr th {\n",
       "        vertical-align: top;\n",
       "    }\n",
       "\n",
       "    .dataframe thead th {\n",
       "        text-align: right;\n",
       "    }\n",
       "</style>\n",
       "<table border=\"1\" class=\"dataframe\">\n",
       "  <thead>\n",
       "    <tr style=\"text-align: right;\">\n",
       "      <th></th>\n",
       "      <th>cities_es</th>\n",
       "      <th>cities</th>\n",
       "      <th>province_es</th>\n",
       "      <th>province</th>\n",
       "      <th>ccaa_es</th>\n",
       "      <th>ccaa</th>\n",
       "      <th>cities_es/province</th>\n",
       "      <th>provincia_original</th>\n",
       "      <th>municipio_original</th>\n",
       "      <th>hombres_total</th>\n",
       "      <th>...</th>\n",
       "      <th>prov_n_des_anual</th>\n",
       "      <th>prov_n_cub_anual</th>\n",
       "      <th>prov_n_tor_anual</th>\n",
       "      <th>prov_nt_00_anual</th>\n",
       "      <th>prov_nt_30_anual</th>\n",
       "      <th>prov_nw_55_anual</th>\n",
       "      <th>prov_nw_91_anual</th>\n",
       "      <th>prov_w_med_anual</th>\n",
       "      <th>prov_ta_max_anual</th>\n",
       "      <th>prov_ta_min_anual</th>\n",
       "    </tr>\n",
       "  </thead>\n",
       "  <tbody>\n",
       "  </tbody>\n",
       "</table>\n",
       "<p>0 rows × 82 columns</p>\n",
       "</div>"
      ],
      "text/plain": [
       "Empty DataFrame\n",
       "Columns: [cities_es, cities, province_es, province, ccaa_es, ccaa, cities_es/province, provincia_original, municipio_original, hombres_total, hombres_de_0_4, hombres_de_5_9, hombres_de_10_4, hombres_de_15_19, hombres_de_20_24, hombres_de_25_29, hombres_de_30_34, hombres_de_35_39, hombres_de_40_44, hombres_de_45_49, hombres_de_50_54, hombres_de_55_59, hombres_de_60_64, hombres_de_65_69, hombres_de_70_74, hombres_de_75_79, hombres_de_80_84, hombres_de_85_89, hombres_de_90_94, hombres_de_95_99, hombres_de_100_y_mas, mujeres_total, mujeres_de_0_4, mujeres_de_5_9, mujeres_de_10_4, mujeres_de_15_19, mujeres_de_20_24, mujeres_de_25_29, mujeres_de_30_34, mujeres_de_35_39, mujeres_de_40_44, mujeres_de_45_49, mujeres_de_50_54, mujeres_de_55_59, mujeres_de_60_64, mujeres_de_65_69, mujeres_de_70_74, mujeres_de_75_79, mujeres_de_80_84, mujeres_de_85_89, mujeres_de_90_94, mujeres_de_95_99, mujeres_de_100_y_mas, prov_camiones, prov_furgonetas, prov_autobuses, prov_turismos, prov_motocicletas, prov_tractores_industriales, prov_r_y_s, prov_otros_vehiculos, prov_total_vehiculos, latitud, longitud, altitud, distanica_km_ciudad_cercana, cuidad_mas_cercana, prov_n_llu_anual, prov_n_nub_anual, prov_n_nie_anual, prov_n_gra_anual, prov_n_fog_anual, prov_n_des_anual, prov_n_cub_anual, prov_n_tor_anual, prov_nt_00_anual, prov_nt_30_anual, prov_nw_55_anual, prov_nw_91_anual, prov_w_med_anual, prov_ta_max_anual, prov_ta_min_anual]\n",
       "Index: []\n",
       "\n",
       "[0 rows x 82 columns]"
      ]
     },
     "execution_count": 1419,
     "metadata": {},
     "output_type": "execute_result"
    }
   ],
   "source": [
    "# comprobacion duplicados\n",
    "union_mar_4[union_mar_4.duplicated()]"
   ]
  },
  {
   "cell_type": "code",
   "execution_count": 1420,
   "metadata": {
    "scrolled": true
   },
   "outputs": [
    {
     "data": {
      "text/html": [
       "<div>\n",
       "<style scoped>\n",
       "    .dataframe tbody tr th:only-of-type {\n",
       "        vertical-align: middle;\n",
       "    }\n",
       "\n",
       "    .dataframe tbody tr th {\n",
       "        vertical-align: top;\n",
       "    }\n",
       "\n",
       "    .dataframe thead th {\n",
       "        text-align: right;\n",
       "    }\n",
       "</style>\n",
       "<table border=\"1\" class=\"dataframe\">\n",
       "  <thead>\n",
       "    <tr style=\"text-align: right;\">\n",
       "      <th></th>\n",
       "      <th>cities_es</th>\n",
       "      <th>cities</th>\n",
       "      <th>province_es</th>\n",
       "      <th>province</th>\n",
       "      <th>ccaa_es</th>\n",
       "      <th>ccaa</th>\n",
       "      <th>cities_es/province</th>\n",
       "      <th>provincia_original</th>\n",
       "      <th>municipio_original</th>\n",
       "      <th>hombres_total</th>\n",
       "      <th>...</th>\n",
       "      <th>prov_n_des_anual</th>\n",
       "      <th>prov_n_cub_anual</th>\n",
       "      <th>prov_n_tor_anual</th>\n",
       "      <th>prov_nt_00_anual</th>\n",
       "      <th>prov_nt_30_anual</th>\n",
       "      <th>prov_nw_55_anual</th>\n",
       "      <th>prov_nw_91_anual</th>\n",
       "      <th>prov_w_med_anual</th>\n",
       "      <th>prov_ta_max_anual</th>\n",
       "      <th>prov_ta_min_anual</th>\n",
       "    </tr>\n",
       "  </thead>\n",
       "  <tbody>\n",
       "    <tr>\n",
       "      <th>0</th>\n",
       "      <td>alegria_dulantzi</td>\n",
       "      <td>alegria_dulantzi</td>\n",
       "      <td>alava</td>\n",
       "      <td>araba</td>\n",
       "      <td>pais_vasco</td>\n",
       "      <td>pais_vasco</td>\n",
       "      <td>alegria_dulantzi/araba</td>\n",
       "      <td>Araba/Álava</td>\n",
       "      <td>Alegría-Dulantzi</td>\n",
       "      <td>124813.0</td>\n",
       "      <td>...</td>\n",
       "      <td>27.0</td>\n",
       "      <td>120.0</td>\n",
       "      <td>19.0</td>\n",
       "      <td>48.0</td>\n",
       "      <td>34.0</td>\n",
       "      <td>3.5</td>\n",
       "      <td>0.25</td>\n",
       "      <td>12.545455</td>\n",
       "      <td>39.7(29/jun)</td>\n",
       "      <td>-7.7(06/ene)</td>\n",
       "    </tr>\n",
       "    <tr>\n",
       "      <th>1</th>\n",
       "      <td>amurrio</td>\n",
       "      <td>amurrio</td>\n",
       "      <td>alava</td>\n",
       "      <td>araba</td>\n",
       "      <td>pais_vasco</td>\n",
       "      <td>pais_vasco</td>\n",
       "      <td>amurrio/araba</td>\n",
       "      <td>Araba/Álava</td>\n",
       "      <td>Amurrio</td>\n",
       "      <td>8506.0</td>\n",
       "      <td>...</td>\n",
       "      <td>27.0</td>\n",
       "      <td>120.0</td>\n",
       "      <td>19.0</td>\n",
       "      <td>48.0</td>\n",
       "      <td>34.0</td>\n",
       "      <td>3.5</td>\n",
       "      <td>0.25</td>\n",
       "      <td>12.545455</td>\n",
       "      <td>39.7(29/jun)</td>\n",
       "      <td>-7.7(06/ene)</td>\n",
       "    </tr>\n",
       "  </tbody>\n",
       "</table>\n",
       "<p>2 rows × 82 columns</p>\n",
       "</div>"
      ],
      "text/plain": [
       "          cities_es            cities province_es province     ccaa_es  \\\n",
       "0  alegria_dulantzi  alegria_dulantzi       alava    araba  pais_vasco   \n",
       "1           amurrio           amurrio       alava    araba  pais_vasco   \n",
       "\n",
       "         ccaa      cities_es/province provincia_original municipio_original  \\\n",
       "0  pais_vasco  alegria_dulantzi/araba        Araba/Álava   Alegría-Dulantzi   \n",
       "1  pais_vasco           amurrio/araba        Araba/Álava            Amurrio   \n",
       "\n",
       "   hombres_total  ...  prov_n_des_anual  prov_n_cub_anual  prov_n_tor_anual  \\\n",
       "0       124813.0  ...              27.0             120.0              19.0   \n",
       "1         8506.0  ...              27.0             120.0              19.0   \n",
       "\n",
       "   prov_nt_00_anual  prov_nt_30_anual  prov_nw_55_anual  prov_nw_91_anual  \\\n",
       "0              48.0              34.0               3.5              0.25   \n",
       "1              48.0              34.0               3.5              0.25   \n",
       "\n",
       "   prov_w_med_anual  prov_ta_max_anual  prov_ta_min_anual  \n",
       "0         12.545455       39.7(29/jun)       -7.7(06/ene)  \n",
       "1         12.545455       39.7(29/jun)       -7.7(06/ene)  \n",
       "\n",
       "[2 rows x 82 columns]"
      ]
     },
     "execution_count": 1420,
     "metadata": {},
     "output_type": "execute_result"
    }
   ],
   "source": [
    "union_mar_4.head(2)"
   ]
  },
  {
   "cell_type": "code",
   "execution_count": 1421,
   "metadata": {
    "scrolled": true
   },
   "outputs": [
    {
     "data": {
      "text/plain": [
       "(6066, 82)"
      ]
     },
     "execution_count": 1421,
     "metadata": {},
     "output_type": "execute_result"
    }
   ],
   "source": [
    "union_mar_4.shape"
   ]
  },
  {
   "cell_type": "markdown",
   "metadata": {},
   "source": [
    "##### contaminantes"
   ]
  },
  {
   "cell_type": "code",
   "execution_count": 1422,
   "metadata": {},
   "outputs": [
    {
     "data": {
      "text/plain": [
       "(65536, 10)"
      ]
     },
     "execution_count": 1422,
     "metadata": {},
     "output_type": "execute_result"
    }
   ],
   "source": [
    "contaminantes = pd.read_csv('../mar/contaminantes_horario.csv',index_col=0,dtype={'columns': float})\n",
    "contaminantes.shape"
   ]
  },
  {
   "cell_type": "code",
   "execution_count": 1423,
   "metadata": {
    "scrolled": true
   },
   "outputs": [
    {
     "data": {
      "text/html": [
       "<div>\n",
       "<style scoped>\n",
       "    .dataframe tbody tr th:only-of-type {\n",
       "        vertical-align: middle;\n",
       "    }\n",
       "\n",
       "    .dataframe tbody tr th {\n",
       "        vertical-align: top;\n",
       "    }\n",
       "\n",
       "    .dataframe thead th {\n",
       "        text-align: right;\n",
       "    }\n",
       "</style>\n",
       "<table border=\"1\" class=\"dataframe\">\n",
       "  <thead>\n",
       "    <tr style=\"text-align: right;\">\n",
       "      <th></th>\n",
       "      <th>city</th>\n",
       "      <th>country</th>\n",
       "      <th>utc</th>\n",
       "      <th>local</th>\n",
       "      <th>parameter</th>\n",
       "      <th>value</th>\n",
       "      <th>unit</th>\n",
       "      <th>latitude</th>\n",
       "      <th>longitude</th>\n",
       "      <th>attribution</th>\n",
       "    </tr>\n",
       "    <tr>\n",
       "      <th>location</th>\n",
       "      <th></th>\n",
       "      <th></th>\n",
       "      <th></th>\n",
       "      <th></th>\n",
       "      <th></th>\n",
       "      <th></th>\n",
       "      <th></th>\n",
       "      <th></th>\n",
       "      <th></th>\n",
       "      <th></th>\n",
       "    </tr>\n",
       "  </thead>\n",
       "  <tbody>\n",
       "    <tr>\n",
       "      <th>ES2068A</th>\n",
       "      <td>Navarra</td>\n",
       "      <td>ES</td>\n",
       "      <td>2020-02-29T23:00:00.000Z</td>\n",
       "      <td>2020-03-01T00:00:00+01:00</td>\n",
       "      <td>no2</td>\n",
       "      <td>2.0</td>\n",
       "      <td>µg/m³</td>\n",
       "      <td>43.081900</td>\n",
       "      <td>-1.912700</td>\n",
       "      <td>[{\"name\":\"EEA\",\"url\":\"http://www.eea.europa.eu...</td>\n",
       "    </tr>\n",
       "    <tr>\n",
       "      <th>ES1684A</th>\n",
       "      <td>Barcelona</td>\n",
       "      <td>ES</td>\n",
       "      <td>2020-02-29T23:00:00.000Z</td>\n",
       "      <td>2020-03-01T00:00:00+01:00</td>\n",
       "      <td>no2</td>\n",
       "      <td>37.0</td>\n",
       "      <td>µg/m³</td>\n",
       "      <td>41.492083</td>\n",
       "      <td>2.042497</td>\n",
       "      <td>[{\"name\":\"EEA\",\"url\":\"http://www.eea.europa.eu...</td>\n",
       "    </tr>\n",
       "  </tbody>\n",
       "</table>\n",
       "</div>"
      ],
      "text/plain": [
       "               city country                       utc  \\\n",
       "location                                                \n",
       "ES2068A     Navarra      ES  2020-02-29T23:00:00.000Z   \n",
       "ES1684A   Barcelona      ES  2020-02-29T23:00:00.000Z   \n",
       "\n",
       "                              local parameter  value   unit   latitude  \\\n",
       "location                                                                 \n",
       "ES2068A   2020-03-01T00:00:00+01:00       no2    2.0  µg/m³  43.081900   \n",
       "ES1684A   2020-03-01T00:00:00+01:00       no2   37.0  µg/m³  41.492083   \n",
       "\n",
       "          longitude                                        attribution  \n",
       "location                                                                \n",
       "ES2068A   -1.912700  [{\"name\":\"EEA\",\"url\":\"http://www.eea.europa.eu...  \n",
       "ES1684A    2.042497  [{\"name\":\"EEA\",\"url\":\"http://www.eea.europa.eu...  "
      ]
     },
     "execution_count": 1423,
     "metadata": {},
     "output_type": "execute_result"
    }
   ],
   "source": [
    "contaminantes.head(2)"
   ]
  },
  {
   "cell_type": "code",
   "execution_count": 1424,
   "metadata": {},
   "outputs": [],
   "source": [
    "ciudades=contaminantes.city.unique()\n",
    "\n",
    "fill_rows=[]\n",
    "for i in range(len(ciudades)) : \n",
    "    fill_rows.append(0)\n",
    "\n",
    "indice =[]\n",
    "contaminantes_ES_feb2020 = pd.DataFrame({'ciudades': ciudades ,'co':fill_rows,'no2':fill_rows,'o3':fill_rows,'pm10':fill_rows,'pm25':fill_rows,'so2':fill_rows})\n"
   ]
  },
  {
   "cell_type": "code",
   "execution_count": 1425,
   "metadata": {},
   "outputs": [],
   "source": [
    "indice =[]\n",
    "contaminantes_ES_feb2020 = pd.DataFrame(index = indice , columns = ['co','no2','o3','pm10','pm25','so2'])\n",
    "save_city=[]\n",
    "\n",
    "for ciudad in ciudades:\n",
    "    #print(ciudad)\n",
    "    \n",
    "    for num_parameters in contaminantes[(contaminantes['city'] == ciudad)].groupby('parameter').mean().index :\n",
    "        \n",
    "        #print(num_parameters)\n",
    "        \n",
    "        contaminantes_ES_feb2020.loc[ciudad,num_parameters]=contaminantes[(contaminantes['city'] == ciudad)].groupby('parameter').mean().loc[num_parameters,'value']\n",
    "    \n",
    "    "
   ]
  },
  {
   "cell_type": "code",
   "execution_count": 1426,
   "metadata": {},
   "outputs": [],
   "source": [
    "contaminantes_ES_feb2020_limpio=contaminantes_ES_feb2020.reset_index()\n",
    "contaminantes_ES_feb2020_limpio=contaminantes_ES_feb2020_limpio.rename(columns = {'index':'ciudad'})\n",
    "contaminantes_ES_feb2020_limpio['ciudad']=contaminantes_ES_feb2020_limpio['ciudad'].apply(doClean)"
   ]
  },
  {
   "cell_type": "code",
   "execution_count": 1427,
   "metadata": {},
   "outputs": [
    {
     "data": {
      "text/html": [
       "<div>\n",
       "<style scoped>\n",
       "    .dataframe tbody tr th:only-of-type {\n",
       "        vertical-align: middle;\n",
       "    }\n",
       "\n",
       "    .dataframe tbody tr th {\n",
       "        vertical-align: top;\n",
       "    }\n",
       "\n",
       "    .dataframe thead th {\n",
       "        text-align: right;\n",
       "    }\n",
       "</style>\n",
       "<table border=\"1\" class=\"dataframe\">\n",
       "  <thead>\n",
       "    <tr style=\"text-align: right;\">\n",
       "      <th></th>\n",
       "      <th>ciudad</th>\n",
       "      <th>co</th>\n",
       "      <th>no2</th>\n",
       "      <th>o3</th>\n",
       "      <th>pm10</th>\n",
       "      <th>pm25</th>\n",
       "      <th>so2</th>\n",
       "    </tr>\n",
       "  </thead>\n",
       "  <tbody>\n",
       "    <tr>\n",
       "      <th>0</th>\n",
       "      <td>navarra</td>\n",
       "      <td>349.716</td>\n",
       "      <td>15.0428</td>\n",
       "      <td>51.0958</td>\n",
       "      <td>44.9275</td>\n",
       "      <td>NaN</td>\n",
       "      <td>3.02055</td>\n",
       "    </tr>\n",
       "    <tr>\n",
       "      <th>1</th>\n",
       "      <td>barcelona</td>\n",
       "      <td>275.38</td>\n",
       "      <td>25.9469</td>\n",
       "      <td>44.1475</td>\n",
       "      <td>43.7906</td>\n",
       "      <td>NaN</td>\n",
       "      <td>1.73006</td>\n",
       "    </tr>\n",
       "    <tr>\n",
       "      <th>2</th>\n",
       "      <td>araba</td>\n",
       "      <td>181.641</td>\n",
       "      <td>11.2318</td>\n",
       "      <td>60.0819</td>\n",
       "      <td>57.1706</td>\n",
       "      <td>17.9722</td>\n",
       "      <td>1.87143</td>\n",
       "    </tr>\n",
       "    <tr>\n",
       "      <th>3</th>\n",
       "      <td>zaragoza</td>\n",
       "      <td>213.015</td>\n",
       "      <td>26.6824</td>\n",
       "      <td>36.3669</td>\n",
       "      <td>31.1398</td>\n",
       "      <td>NaN</td>\n",
       "      <td>4.4432</td>\n",
       "    </tr>\n",
       "    <tr>\n",
       "      <th>4</th>\n",
       "      <td>illes_balears</td>\n",
       "      <td>398.276</td>\n",
       "      <td>8.99995</td>\n",
       "      <td>91.9815</td>\n",
       "      <td>55.849</td>\n",
       "      <td>10.4833</td>\n",
       "      <td>2.30633</td>\n",
       "    </tr>\n",
       "  </tbody>\n",
       "</table>\n",
       "</div>"
      ],
      "text/plain": [
       "          ciudad       co      no2       o3     pm10     pm25      so2\n",
       "0        navarra  349.716  15.0428  51.0958  44.9275      NaN  3.02055\n",
       "1      barcelona   275.38  25.9469  44.1475  43.7906      NaN  1.73006\n",
       "2          araba  181.641  11.2318  60.0819  57.1706  17.9722  1.87143\n",
       "3       zaragoza  213.015  26.6824  36.3669  31.1398      NaN   4.4432\n",
       "4  illes_balears  398.276  8.99995  91.9815   55.849  10.4833  2.30633"
      ]
     },
     "execution_count": 1427,
     "metadata": {},
     "output_type": "execute_result"
    }
   ],
   "source": [
    "contaminantes_ES_feb2020_limpio.head()"
   ]
  },
  {
   "cell_type": "code",
   "execution_count": 1428,
   "metadata": {},
   "outputs": [],
   "source": [
    "new_names = [(i,'prov_'+i) for i in contaminantes_ES_feb2020_limpio.iloc[:, 1:].columns.values]\n",
    "contaminantes_ES_feb2020_limpio.rename(columns = dict(new_names), inplace=True)"
   ]
  },
  {
   "cell_type": "code",
   "execution_count": 1429,
   "metadata": {
    "scrolled": true
   },
   "outputs": [
    {
     "name": "stdout",
     "output_type": "stream",
     "text": [
      "num registros maestro: 6066\n",
      "num registros fichero para unir: 50\n",
      "num agrupaciones maestro: (52, 1)\n",
      "num agrupaciones union: (50, 1)\n",
      "num agrupaciones tras match: (52, 2)\n",
      "no se han cruzado todos los valores:\n",
      "     province matches\n",
      "6064    ceuta        \n",
      "6065  melilla        \n",
      "el fichero de union no dispone de todos los valores para cruzar\n",
      "columnas final: Index(['ciudad', 'prov_co', 'prov_no2', 'prov_o3', 'prov_pm10', 'prov_pm25',\n",
      "       'prov_so2', 'province', 'matches'],\n",
      "      dtype='object')\n",
      "num registros tras union: (52, 7)\n"
     ]
    }
   ],
   "source": [
    "union_agrup_mar_5 = union_agrup(maestro_nivel_municipio_ori, contaminantes_ES_feb2020_limpio, 'province', 'ciudad', threshold=85)"
   ]
  },
  {
   "cell_type": "code",
   "execution_count": 1430,
   "metadata": {
    "scrolled": false
   },
   "outputs": [
    {
     "data": {
      "text/html": [
       "<div>\n",
       "<style scoped>\n",
       "    .dataframe tbody tr th:only-of-type {\n",
       "        vertical-align: middle;\n",
       "    }\n",
       "\n",
       "    .dataframe tbody tr th {\n",
       "        vertical-align: top;\n",
       "    }\n",
       "\n",
       "    .dataframe thead th {\n",
       "        text-align: right;\n",
       "    }\n",
       "</style>\n",
       "<table border=\"1\" class=\"dataframe\">\n",
       "  <thead>\n",
       "    <tr style=\"text-align: right;\">\n",
       "      <th></th>\n",
       "      <th>prov_co</th>\n",
       "      <th>prov_no2</th>\n",
       "      <th>prov_o3</th>\n",
       "      <th>prov_pm10</th>\n",
       "      <th>prov_pm25</th>\n",
       "      <th>prov_so2</th>\n",
       "      <th>province</th>\n",
       "    </tr>\n",
       "  </thead>\n",
       "  <tbody>\n",
       "    <tr>\n",
       "      <th>0</th>\n",
       "      <td>349.716</td>\n",
       "      <td>15.0428</td>\n",
       "      <td>51.0958</td>\n",
       "      <td>44.9275</td>\n",
       "      <td>NaN</td>\n",
       "      <td>3.02055</td>\n",
       "      <td>navarra</td>\n",
       "    </tr>\n",
       "    <tr>\n",
       "      <th>1</th>\n",
       "      <td>275.38</td>\n",
       "      <td>25.9469</td>\n",
       "      <td>44.1475</td>\n",
       "      <td>43.7906</td>\n",
       "      <td>NaN</td>\n",
       "      <td>1.73006</td>\n",
       "      <td>barcelona</td>\n",
       "    </tr>\n",
       "  </tbody>\n",
       "</table>\n",
       "</div>"
      ],
      "text/plain": [
       "   prov_co prov_no2  prov_o3 prov_pm10 prov_pm25 prov_so2   province\n",
       "0  349.716  15.0428  51.0958   44.9275       NaN  3.02055    navarra\n",
       "1   275.38  25.9469  44.1475   43.7906       NaN  1.73006  barcelona"
      ]
     },
     "execution_count": 1430,
     "metadata": {},
     "output_type": "execute_result"
    }
   ],
   "source": [
    "union_agrup_mar_5.head(2)"
   ]
  },
  {
   "cell_type": "code",
   "execution_count": 1431,
   "metadata": {},
   "outputs": [],
   "source": [
    "union_mar_5 = pd.merge(union_mar_4, union_agrup_mar_5, left_on='province',right_on='province', how='left')"
   ]
  },
  {
   "cell_type": "code",
   "execution_count": 1432,
   "metadata": {},
   "outputs": [
    {
     "data": {
      "text/html": [
       "<div>\n",
       "<style scoped>\n",
       "    .dataframe tbody tr th:only-of-type {\n",
       "        vertical-align: middle;\n",
       "    }\n",
       "\n",
       "    .dataframe tbody tr th {\n",
       "        vertical-align: top;\n",
       "    }\n",
       "\n",
       "    .dataframe thead th {\n",
       "        text-align: right;\n",
       "    }\n",
       "</style>\n",
       "<table border=\"1\" class=\"dataframe\">\n",
       "  <thead>\n",
       "    <tr style=\"text-align: right;\">\n",
       "      <th></th>\n",
       "      <th>cities_es</th>\n",
       "      <th>cities</th>\n",
       "      <th>province_es</th>\n",
       "      <th>province</th>\n",
       "      <th>ccaa_es</th>\n",
       "      <th>ccaa</th>\n",
       "      <th>cities_es/province</th>\n",
       "      <th>provincia_original</th>\n",
       "      <th>municipio_original</th>\n",
       "      <th>hombres_total</th>\n",
       "      <th>...</th>\n",
       "      <th>prov_nw_91_anual</th>\n",
       "      <th>prov_w_med_anual</th>\n",
       "      <th>prov_ta_max_anual</th>\n",
       "      <th>prov_ta_min_anual</th>\n",
       "      <th>prov_co</th>\n",
       "      <th>prov_no2</th>\n",
       "      <th>prov_o3</th>\n",
       "      <th>prov_pm10</th>\n",
       "      <th>prov_pm25</th>\n",
       "      <th>prov_so2</th>\n",
       "    </tr>\n",
       "  </thead>\n",
       "  <tbody>\n",
       "  </tbody>\n",
       "</table>\n",
       "<p>0 rows × 88 columns</p>\n",
       "</div>"
      ],
      "text/plain": [
       "Empty DataFrame\n",
       "Columns: [cities_es, cities, province_es, province, ccaa_es, ccaa, cities_es/province, provincia_original, municipio_original, hombres_total, hombres_de_0_4, hombres_de_5_9, hombres_de_10_4, hombres_de_15_19, hombres_de_20_24, hombres_de_25_29, hombres_de_30_34, hombres_de_35_39, hombres_de_40_44, hombres_de_45_49, hombres_de_50_54, hombres_de_55_59, hombres_de_60_64, hombres_de_65_69, hombres_de_70_74, hombres_de_75_79, hombres_de_80_84, hombres_de_85_89, hombres_de_90_94, hombres_de_95_99, hombres_de_100_y_mas, mujeres_total, mujeres_de_0_4, mujeres_de_5_9, mujeres_de_10_4, mujeres_de_15_19, mujeres_de_20_24, mujeres_de_25_29, mujeres_de_30_34, mujeres_de_35_39, mujeres_de_40_44, mujeres_de_45_49, mujeres_de_50_54, mujeres_de_55_59, mujeres_de_60_64, mujeres_de_65_69, mujeres_de_70_74, mujeres_de_75_79, mujeres_de_80_84, mujeres_de_85_89, mujeres_de_90_94, mujeres_de_95_99, mujeres_de_100_y_mas, prov_camiones, prov_furgonetas, prov_autobuses, prov_turismos, prov_motocicletas, prov_tractores_industriales, prov_r_y_s, prov_otros_vehiculos, prov_total_vehiculos, latitud, longitud, altitud, distanica_km_ciudad_cercana, cuidad_mas_cercana, prov_n_llu_anual, prov_n_nub_anual, prov_n_nie_anual, prov_n_gra_anual, prov_n_fog_anual, prov_n_des_anual, prov_n_cub_anual, prov_n_tor_anual, prov_nt_00_anual, prov_nt_30_anual, prov_nw_55_anual, prov_nw_91_anual, prov_w_med_anual, prov_ta_max_anual, prov_ta_min_anual, prov_co, prov_no2, prov_o3, prov_pm10, prov_pm25, prov_so2]\n",
       "Index: []\n",
       "\n",
       "[0 rows x 88 columns]"
      ]
     },
     "execution_count": 1432,
     "metadata": {},
     "output_type": "execute_result"
    }
   ],
   "source": [
    "# comprobacion duplicados\n",
    "union_mar_5[union_mar_5.duplicated()]"
   ]
  },
  {
   "cell_type": "code",
   "execution_count": 1433,
   "metadata": {
    "scrolled": true
   },
   "outputs": [
    {
     "data": {
      "text/html": [
       "<div>\n",
       "<style scoped>\n",
       "    .dataframe tbody tr th:only-of-type {\n",
       "        vertical-align: middle;\n",
       "    }\n",
       "\n",
       "    .dataframe tbody tr th {\n",
       "        vertical-align: top;\n",
       "    }\n",
       "\n",
       "    .dataframe thead th {\n",
       "        text-align: right;\n",
       "    }\n",
       "</style>\n",
       "<table border=\"1\" class=\"dataframe\">\n",
       "  <thead>\n",
       "    <tr style=\"text-align: right;\">\n",
       "      <th></th>\n",
       "      <th>cities_es</th>\n",
       "      <th>cities</th>\n",
       "      <th>province_es</th>\n",
       "      <th>province</th>\n",
       "      <th>ccaa_es</th>\n",
       "      <th>ccaa</th>\n",
       "      <th>cities_es/province</th>\n",
       "      <th>provincia_original</th>\n",
       "      <th>municipio_original</th>\n",
       "      <th>hombres_total</th>\n",
       "      <th>...</th>\n",
       "      <th>prov_nw_91_anual</th>\n",
       "      <th>prov_w_med_anual</th>\n",
       "      <th>prov_ta_max_anual</th>\n",
       "      <th>prov_ta_min_anual</th>\n",
       "      <th>prov_co</th>\n",
       "      <th>prov_no2</th>\n",
       "      <th>prov_o3</th>\n",
       "      <th>prov_pm10</th>\n",
       "      <th>prov_pm25</th>\n",
       "      <th>prov_so2</th>\n",
       "    </tr>\n",
       "  </thead>\n",
       "  <tbody>\n",
       "    <tr>\n",
       "      <th>0</th>\n",
       "      <td>alegria_dulantzi</td>\n",
       "      <td>alegria_dulantzi</td>\n",
       "      <td>alava</td>\n",
       "      <td>araba</td>\n",
       "      <td>pais_vasco</td>\n",
       "      <td>pais_vasco</td>\n",
       "      <td>alegria_dulantzi/araba</td>\n",
       "      <td>Araba/Álava</td>\n",
       "      <td>Alegría-Dulantzi</td>\n",
       "      <td>124813.0</td>\n",
       "      <td>...</td>\n",
       "      <td>0.25</td>\n",
       "      <td>12.545455</td>\n",
       "      <td>39.7(29/jun)</td>\n",
       "      <td>-7.7(06/ene)</td>\n",
       "      <td>181.641</td>\n",
       "      <td>11.2318</td>\n",
       "      <td>60.0819</td>\n",
       "      <td>57.1706</td>\n",
       "      <td>17.9722</td>\n",
       "      <td>1.87143</td>\n",
       "    </tr>\n",
       "    <tr>\n",
       "      <th>1</th>\n",
       "      <td>amurrio</td>\n",
       "      <td>amurrio</td>\n",
       "      <td>alava</td>\n",
       "      <td>araba</td>\n",
       "      <td>pais_vasco</td>\n",
       "      <td>pais_vasco</td>\n",
       "      <td>amurrio/araba</td>\n",
       "      <td>Araba/Álava</td>\n",
       "      <td>Amurrio</td>\n",
       "      <td>8506.0</td>\n",
       "      <td>...</td>\n",
       "      <td>0.25</td>\n",
       "      <td>12.545455</td>\n",
       "      <td>39.7(29/jun)</td>\n",
       "      <td>-7.7(06/ene)</td>\n",
       "      <td>181.641</td>\n",
       "      <td>11.2318</td>\n",
       "      <td>60.0819</td>\n",
       "      <td>57.1706</td>\n",
       "      <td>17.9722</td>\n",
       "      <td>1.87143</td>\n",
       "    </tr>\n",
       "  </tbody>\n",
       "</table>\n",
       "<p>2 rows × 88 columns</p>\n",
       "</div>"
      ],
      "text/plain": [
       "          cities_es            cities province_es province     ccaa_es  \\\n",
       "0  alegria_dulantzi  alegria_dulantzi       alava    araba  pais_vasco   \n",
       "1           amurrio           amurrio       alava    araba  pais_vasco   \n",
       "\n",
       "         ccaa      cities_es/province provincia_original municipio_original  \\\n",
       "0  pais_vasco  alegria_dulantzi/araba        Araba/Álava   Alegría-Dulantzi   \n",
       "1  pais_vasco           amurrio/araba        Araba/Álava            Amurrio   \n",
       "\n",
       "   hombres_total  ...  prov_nw_91_anual  prov_w_med_anual  prov_ta_max_anual  \\\n",
       "0       124813.0  ...              0.25         12.545455       39.7(29/jun)   \n",
       "1         8506.0  ...              0.25         12.545455       39.7(29/jun)   \n",
       "\n",
       "   prov_ta_min_anual  prov_co  prov_no2  prov_o3  prov_pm10  prov_pm25  \\\n",
       "0       -7.7(06/ene)  181.641   11.2318  60.0819    57.1706    17.9722   \n",
       "1       -7.7(06/ene)  181.641   11.2318  60.0819    57.1706    17.9722   \n",
       "\n",
       "   prov_so2  \n",
       "0   1.87143  \n",
       "1   1.87143  \n",
       "\n",
       "[2 rows x 88 columns]"
      ]
     },
     "execution_count": 1433,
     "metadata": {},
     "output_type": "execute_result"
    }
   ],
   "source": [
    "union_mar_5.head(2)"
   ]
  },
  {
   "cell_type": "code",
   "execution_count": 1434,
   "metadata": {
    "scrolled": true
   },
   "outputs": [
    {
     "data": {
      "text/plain": [
       "(6066, 88)"
      ]
     },
     "execution_count": 1434,
     "metadata": {},
     "output_type": "execute_result"
    }
   ],
   "source": [
    "union_mar_5.shape"
   ]
  },
  {
   "cell_type": "code",
   "execution_count": 1435,
   "metadata": {},
   "outputs": [],
   "source": [
    "union_mar_5.to_csv(\"union_mar2.csv\")"
   ]
  },
  {
   "cell_type": "markdown",
   "metadata": {},
   "source": [
    "### Ficheros Guille"
   ]
  },
  {
   "cell_type": "markdown",
   "metadata": {},
   "source": [
    "##### Trafico"
   ]
  },
  {
   "cell_type": "code",
   "execution_count": 1436,
   "metadata": {},
   "outputs": [
    {
     "data": {
      "text/plain": [
       "(71, 4)"
      ]
     },
     "execution_count": 1436,
     "metadata": {},
     "output_type": "execute_result"
    }
   ],
   "source": [
    "trafico = pd.read_csv('../Guille/recursos_trafico_carreteras_clean_2018.csv',index_col=0)\n",
    "trafico.shape"
   ]
  },
  {
   "cell_type": "code",
   "execution_count": 1437,
   "metadata": {
    "scrolled": true
   },
   "outputs": [
    {
     "data": {
      "text/html": [
       "<div>\n",
       "<style scoped>\n",
       "    .dataframe tbody tr th:only-of-type {\n",
       "        vertical-align: middle;\n",
       "    }\n",
       "\n",
       "    .dataframe tbody tr th {\n",
       "        vertical-align: top;\n",
       "    }\n",
       "\n",
       "    .dataframe thead th {\n",
       "        text-align: right;\n",
       "    }\n",
       "</style>\n",
       "<table border=\"1\" class=\"dataframe\">\n",
       "  <thead>\n",
       "    <tr style=\"text-align: right;\">\n",
       "      <th></th>\n",
       "      <th>CCAA_name</th>\n",
       "      <th>Provincia_name</th>\n",
       "      <th>Total: Millones vehículos-km</th>\n",
       "      <th>porcentaje_carreteras_ccaa_y_estado</th>\n",
       "    </tr>\n",
       "  </thead>\n",
       "  <tbody>\n",
       "    <tr>\n",
       "      <th>0</th>\n",
       "      <td>andalucia</td>\n",
       "      <td>almeria</td>\n",
       "      <td>3425.81</td>\n",
       "      <td>0.830417</td>\n",
       "    </tr>\n",
       "    <tr>\n",
       "      <th>1</th>\n",
       "      <td>andalucia</td>\n",
       "      <td>cadiz</td>\n",
       "      <td>4725.45</td>\n",
       "      <td>0.877934</td>\n",
       "    </tr>\n",
       "  </tbody>\n",
       "</table>\n",
       "</div>"
      ],
      "text/plain": [
       "   CCAA_name Provincia_name  Total: Millones vehículos-km  \\\n",
       "0  andalucia        almeria                       3425.81   \n",
       "1  andalucia          cadiz                       4725.45   \n",
       "\n",
       "   porcentaje_carreteras_ccaa_y_estado  \n",
       "0                             0.830417  \n",
       "1                             0.877934  "
      ]
     },
     "execution_count": 1437,
     "metadata": {},
     "output_type": "execute_result"
    }
   ],
   "source": [
    "trafico.head(2)"
   ]
  },
  {
   "cell_type": "code",
   "execution_count": 1438,
   "metadata": {},
   "outputs": [],
   "source": [
    "trafico['Provincia_name'].replace(\"palmas_las\",\"las_palmas\", inplace=True, regex=True)\n",
    "trafico.rename(columns={'Total: Millones vehículos-km': 'total_millones_vehiculos_km'}, inplace=True)\n",
    "trafico.drop(columns=['CCAA_name'], inplace=True)\n",
    "trafico.drop_duplicates(subset=['Provincia_name'], inplace=True)"
   ]
  },
  {
   "cell_type": "code",
   "execution_count": 1439,
   "metadata": {},
   "outputs": [],
   "source": [
    "new_names = [(i,'prov_'+i) for i in trafico.iloc[:, 1:].columns.values]\n",
    "trafico.rename(columns = dict(new_names), inplace=True)"
   ]
  },
  {
   "cell_type": "code",
   "execution_count": 1440,
   "metadata": {
    "scrolled": true
   },
   "outputs": [
    {
     "name": "stdout",
     "output_type": "stream",
     "text": [
      "num registros maestro: 6066\n",
      "num registros fichero para unir: 66\n",
      "num agrupaciones maestro: (52, 1)\n",
      "num agrupaciones union: (66, 1)\n",
      "num agrupaciones tras match: (52, 2)\n",
      "el fichero de union no dispone de todos los valores para cruzar\n",
      "columnas final: Index(['Provincia_name', 'prov_total_millones_vehiculos_km',\n",
      "       'prov_porcentaje_carreteras_ccaa_y_estado', 'province_es', 'matches'],\n",
      "      dtype='object')\n",
      "num registros tras union: (52, 3)\n"
     ]
    }
   ],
   "source": [
    "union_agrup_guille_1 = union_agrup(maestro_nivel_municipio_ori, trafico, 'province_es', 'Provincia_name', threshold=85)"
   ]
  },
  {
   "cell_type": "code",
   "execution_count": 1441,
   "metadata": {
    "scrolled": false
   },
   "outputs": [
    {
     "data": {
      "text/html": [
       "<div>\n",
       "<style scoped>\n",
       "    .dataframe tbody tr th:only-of-type {\n",
       "        vertical-align: middle;\n",
       "    }\n",
       "\n",
       "    .dataframe tbody tr th {\n",
       "        vertical-align: top;\n",
       "    }\n",
       "\n",
       "    .dataframe thead th {\n",
       "        text-align: right;\n",
       "    }\n",
       "</style>\n",
       "<table border=\"1\" class=\"dataframe\">\n",
       "  <thead>\n",
       "    <tr style=\"text-align: right;\">\n",
       "      <th></th>\n",
       "      <th>prov_total_millones_vehiculos_km</th>\n",
       "      <th>prov_porcentaje_carreteras_ccaa_y_estado</th>\n",
       "      <th>province_es</th>\n",
       "    </tr>\n",
       "  </thead>\n",
       "  <tbody>\n",
       "    <tr>\n",
       "      <th>0</th>\n",
       "      <td>3425.81</td>\n",
       "      <td>0.830417</td>\n",
       "      <td>almeria</td>\n",
       "    </tr>\n",
       "    <tr>\n",
       "      <th>1</th>\n",
       "      <td>4725.45</td>\n",
       "      <td>0.877934</td>\n",
       "      <td>cadiz</td>\n",
       "    </tr>\n",
       "  </tbody>\n",
       "</table>\n",
       "</div>"
      ],
      "text/plain": [
       "   prov_total_millones_vehiculos_km  prov_porcentaje_carreteras_ccaa_y_estado  \\\n",
       "0                           3425.81                                  0.830417   \n",
       "1                           4725.45                                  0.877934   \n",
       "\n",
       "  province_es  \n",
       "0     almeria  \n",
       "1       cadiz  "
      ]
     },
     "execution_count": 1441,
     "metadata": {},
     "output_type": "execute_result"
    }
   ],
   "source": [
    "union_agrup_guille_1.head(2)"
   ]
  },
  {
   "cell_type": "code",
   "execution_count": 1442,
   "metadata": {},
   "outputs": [],
   "source": [
    "union_guille_1 = pd.merge(maestro_nivel_municipio_ori, union_agrup_guille_1, left_on='province_es',right_on='province_es', how='left')"
   ]
  },
  {
   "cell_type": "code",
   "execution_count": 1443,
   "metadata": {},
   "outputs": [
    {
     "data": {
      "text/html": [
       "<div>\n",
       "<style scoped>\n",
       "    .dataframe tbody tr th:only-of-type {\n",
       "        vertical-align: middle;\n",
       "    }\n",
       "\n",
       "    .dataframe tbody tr th {\n",
       "        vertical-align: top;\n",
       "    }\n",
       "\n",
       "    .dataframe thead th {\n",
       "        text-align: right;\n",
       "    }\n",
       "</style>\n",
       "<table border=\"1\" class=\"dataframe\">\n",
       "  <thead>\n",
       "    <tr style=\"text-align: right;\">\n",
       "      <th></th>\n",
       "      <th>prov_total_millones_vehiculos_km</th>\n",
       "      <th>prov_porcentaje_carreteras_ccaa_y_estado</th>\n",
       "      <th>province_es</th>\n",
       "    </tr>\n",
       "  </thead>\n",
       "  <tbody>\n",
       "  </tbody>\n",
       "</table>\n",
       "</div>"
      ],
      "text/plain": [
       "Empty DataFrame\n",
       "Columns: [prov_total_millones_vehiculos_km, prov_porcentaje_carreteras_ccaa_y_estado, province_es]\n",
       "Index: []"
      ]
     },
     "execution_count": 1443,
     "metadata": {},
     "output_type": "execute_result"
    }
   ],
   "source": [
    "# comprobacion duplicados\n",
    "union_agrup_guille_1[union_agrup_guille_1.duplicated()]"
   ]
  },
  {
   "cell_type": "code",
   "execution_count": 1444,
   "metadata": {
    "scrolled": true
   },
   "outputs": [
    {
     "data": {
      "text/html": [
       "<div>\n",
       "<style scoped>\n",
       "    .dataframe tbody tr th:only-of-type {\n",
       "        vertical-align: middle;\n",
       "    }\n",
       "\n",
       "    .dataframe tbody tr th {\n",
       "        vertical-align: top;\n",
       "    }\n",
       "\n",
       "    .dataframe thead th {\n",
       "        text-align: right;\n",
       "    }\n",
       "</style>\n",
       "<table border=\"1\" class=\"dataframe\">\n",
       "  <thead>\n",
       "    <tr style=\"text-align: right;\">\n",
       "      <th></th>\n",
       "      <th>cities_es</th>\n",
       "      <th>cities</th>\n",
       "      <th>province_es</th>\n",
       "      <th>province</th>\n",
       "      <th>ccaa_es</th>\n",
       "      <th>ccaa</th>\n",
       "      <th>cities_es/province</th>\n",
       "      <th>provincia_original</th>\n",
       "      <th>municipio_original</th>\n",
       "      <th>muni_agrup</th>\n",
       "      <th>prov_total_millones_vehiculos_km</th>\n",
       "      <th>prov_porcentaje_carreteras_ccaa_y_estado</th>\n",
       "    </tr>\n",
       "  </thead>\n",
       "  <tbody>\n",
       "    <tr>\n",
       "      <th>0</th>\n",
       "      <td>alegria_dulantzi</td>\n",
       "      <td>alegria_dulantzi</td>\n",
       "      <td>alava</td>\n",
       "      <td>araba</td>\n",
       "      <td>pais_vasco</td>\n",
       "      <td>pais_vasco</td>\n",
       "      <td>alegria_dulantzi/araba</td>\n",
       "      <td>Araba/Álava</td>\n",
       "      <td>Alegría-Dulantzi</td>\n",
       "      <td>alegria_dulantzi/pais_vasco</td>\n",
       "      <td>1869.3</td>\n",
       "      <td>0.832942</td>\n",
       "    </tr>\n",
       "    <tr>\n",
       "      <th>1</th>\n",
       "      <td>amurrio</td>\n",
       "      <td>amurrio</td>\n",
       "      <td>alava</td>\n",
       "      <td>araba</td>\n",
       "      <td>pais_vasco</td>\n",
       "      <td>pais_vasco</td>\n",
       "      <td>amurrio/araba</td>\n",
       "      <td>Araba/Álava</td>\n",
       "      <td>Amurrio</td>\n",
       "      <td>amurrio/pais_vasco</td>\n",
       "      <td>1869.3</td>\n",
       "      <td>0.832942</td>\n",
       "    </tr>\n",
       "  </tbody>\n",
       "</table>\n",
       "</div>"
      ],
      "text/plain": [
       "          cities_es            cities province_es province     ccaa_es  \\\n",
       "0  alegria_dulantzi  alegria_dulantzi       alava    araba  pais_vasco   \n",
       "1           amurrio           amurrio       alava    araba  pais_vasco   \n",
       "\n",
       "         ccaa      cities_es/province provincia_original municipio_original  \\\n",
       "0  pais_vasco  alegria_dulantzi/araba        Araba/Álava   Alegría-Dulantzi   \n",
       "1  pais_vasco           amurrio/araba        Araba/Álava            Amurrio   \n",
       "\n",
       "                    muni_agrup  prov_total_millones_vehiculos_km  \\\n",
       "0  alegria_dulantzi/pais_vasco                            1869.3   \n",
       "1           amurrio/pais_vasco                            1869.3   \n",
       "\n",
       "   prov_porcentaje_carreteras_ccaa_y_estado  \n",
       "0                                  0.832942  \n",
       "1                                  0.832942  "
      ]
     },
     "execution_count": 1444,
     "metadata": {},
     "output_type": "execute_result"
    }
   ],
   "source": [
    "union_guille_1.head(2)"
   ]
  },
  {
   "cell_type": "code",
   "execution_count": 1445,
   "metadata": {
    "scrolled": true
   },
   "outputs": [
    {
     "data": {
      "text/plain": [
       "(6066, 12)"
      ]
     },
     "execution_count": 1445,
     "metadata": {},
     "output_type": "execute_result"
    }
   ],
   "source": [
    "union_guille_1.shape"
   ]
  },
  {
   "cell_type": "markdown",
   "metadata": {},
   "source": [
    "##### Empresas_autobuses"
   ]
  },
  {
   "cell_type": "code",
   "execution_count": 1446,
   "metadata": {},
   "outputs": [
    {
     "data": {
      "text/plain": [
       "(77, 2)"
      ]
     },
     "execution_count": 1446,
     "metadata": {},
     "output_type": "execute_result"
    }
   ],
   "source": [
    "empresas_autobuses = pd.read_csv('../Guille/recursos_empresas_autobuses_clean.csv',index_col=0)\n",
    "empresas_autobuses.shape"
   ]
  },
  {
   "cell_type": "code",
   "execution_count": 1447,
   "metadata": {
    "scrolled": true
   },
   "outputs": [
    {
     "data": {
      "text/html": [
       "<div>\n",
       "<style scoped>\n",
       "    .dataframe tbody tr th:only-of-type {\n",
       "        vertical-align: middle;\n",
       "    }\n",
       "\n",
       "    .dataframe tbody tr th {\n",
       "        vertical-align: top;\n",
       "    }\n",
       "\n",
       "    .dataframe thead th {\n",
       "        text-align: right;\n",
       "    }\n",
       "</style>\n",
       "<table border=\"1\" class=\"dataframe\">\n",
       "  <thead>\n",
       "    <tr style=\"text-align: right;\">\n",
       "      <th></th>\n",
       "      <th>Municipio</th>\n",
       "      <th>bus_based_companies_count</th>\n",
       "    </tr>\n",
       "  </thead>\n",
       "  <tbody>\n",
       "    <tr>\n",
       "      <th>0</th>\n",
       "      <td>barcelona</td>\n",
       "      <td>5</td>\n",
       "    </tr>\n",
       "    <tr>\n",
       "      <th>1</th>\n",
       "      <td>caceres</td>\n",
       "      <td>3</td>\n",
       "    </tr>\n",
       "  </tbody>\n",
       "</table>\n",
       "</div>"
      ],
      "text/plain": [
       "   Municipio  bus_based_companies_count\n",
       "0  barcelona                          5\n",
       "1    caceres                          3"
      ]
     },
     "execution_count": 1447,
     "metadata": {},
     "output_type": "execute_result"
    }
   ],
   "source": [
    "empresas_autobuses.head(2)"
   ]
  },
  {
   "cell_type": "code",
   "execution_count": 1448,
   "metadata": {},
   "outputs": [],
   "source": [
    "empresas_autobuses['municipio_limpio'] = empresas_autobuses['Municipio'].apply(doClean)\n",
    "empresas_autobuses.drop(columns='Municipio', inplace=True)"
   ]
  },
  {
   "cell_type": "code",
   "execution_count": 1449,
   "metadata": {},
   "outputs": [
    {
     "data": {
      "text/html": [
       "<div>\n",
       "<style scoped>\n",
       "    .dataframe tbody tr th:only-of-type {\n",
       "        vertical-align: middle;\n",
       "    }\n",
       "\n",
       "    .dataframe tbody tr th {\n",
       "        vertical-align: top;\n",
       "    }\n",
       "\n",
       "    .dataframe thead th {\n",
       "        text-align: right;\n",
       "    }\n",
       "</style>\n",
       "<table border=\"1\" class=\"dataframe\">\n",
       "  <thead>\n",
       "    <tr style=\"text-align: right;\">\n",
       "      <th></th>\n",
       "      <th>bus_based_companies_count</th>\n",
       "      <th>municipio_limpio</th>\n",
       "    </tr>\n",
       "  </thead>\n",
       "  <tbody>\n",
       "    <tr>\n",
       "      <th>0</th>\n",
       "      <td>5</td>\n",
       "      <td>barcelona</td>\n",
       "    </tr>\n",
       "    <tr>\n",
       "      <th>1</th>\n",
       "      <td>3</td>\n",
       "      <td>caceres</td>\n",
       "    </tr>\n",
       "    <tr>\n",
       "      <th>2</th>\n",
       "      <td>3</td>\n",
       "      <td>jaen</td>\n",
       "    </tr>\n",
       "    <tr>\n",
       "      <th>3</th>\n",
       "      <td>3</td>\n",
       "      <td>soria</td>\n",
       "    </tr>\n",
       "    <tr>\n",
       "      <th>4</th>\n",
       "      <td>3</td>\n",
       "      <td>salamanca</td>\n",
       "    </tr>\n",
       "  </tbody>\n",
       "</table>\n",
       "</div>"
      ],
      "text/plain": [
       "   bus_based_companies_count municipio_limpio\n",
       "0                          5        barcelona\n",
       "1                          3          caceres\n",
       "2                          3             jaen\n",
       "3                          3            soria\n",
       "4                          3        salamanca"
      ]
     },
     "execution_count": 1449,
     "metadata": {},
     "output_type": "execute_result"
    }
   ],
   "source": [
    "empresas_autobuses.head()"
   ]
  },
  {
   "cell_type": "code",
   "execution_count": 1450,
   "metadata": {
    "scrolled": true
   },
   "outputs": [
    {
     "name": "stdout",
     "output_type": "stream",
     "text": [
      "num registros maestro: 6066\n",
      "num registros fichero para unir: 77\n",
      "num agrupaciones tras match: (6066, 13)\n",
      "no se han cruzado todos los valores:\n",
      "el fichero de union no dispone de todos los valores para cruzar\n",
      "columnas final: Index(['bus_based_companies_count', 'municipio_limpio', 'cities_es', 'cities',\n",
      "       'province_es', 'province', 'ccaa_es', 'ccaa', 'cities_es/province',\n",
      "       'provincia_original', 'municipio_original', 'muni_agrup',\n",
      "       'prov_total_millones_vehiculos_km',\n",
      "       'prov_porcentaje_carreteras_ccaa_y_estado', 'matches'],\n",
      "      dtype='object')\n",
      "num registros tras union: (6066, 13)\n"
     ]
    }
   ],
   "source": [
    "union_guille_2 = union_solo_muni(union_guille_1, empresas_autobuses, 'cities_es', 'municipio_limpio', threshold=93)"
   ]
  },
  {
   "cell_type": "code",
   "execution_count": 1451,
   "metadata": {},
   "outputs": [
    {
     "data": {
      "text/plain": [
       "(65, 13)"
      ]
     },
     "execution_count": 1451,
     "metadata": {},
     "output_type": "execute_result"
    }
   ],
   "source": [
    "union_guille_2[~union_guille_2['bus_based_companies_count'].isnull()].shape"
   ]
  },
  {
   "cell_type": "markdown",
   "metadata": {},
   "source": [
    "##### Cobertura red"
   ]
  },
  {
   "cell_type": "code",
   "execution_count": 1452,
   "metadata": {},
   "outputs": [
    {
     "data": {
      "text/plain": [
       "(8124, 4)"
      ]
     },
     "execution_count": 1452,
     "metadata": {},
     "output_type": "execute_result"
    }
   ],
   "source": [
    "cobertura_media = pd.read_csv('../Guille/recursos_cobertura_media_clean_2018.csv',index_col=0)\n",
    "cobertura_media.shape"
   ]
  },
  {
   "cell_type": "code",
   "execution_count": 1453,
   "metadata": {},
   "outputs": [
    {
     "data": {
      "text/html": [
       "<div>\n",
       "<style scoped>\n",
       "    .dataframe tbody tr th:only-of-type {\n",
       "        vertical-align: middle;\n",
       "    }\n",
       "\n",
       "    .dataframe tbody tr th {\n",
       "        vertical-align: top;\n",
       "    }\n",
       "\n",
       "    .dataframe thead th {\n",
       "        text-align: right;\n",
       "    }\n",
       "</style>\n",
       "<table border=\"1\" class=\"dataframe\">\n",
       "  <thead>\n",
       "    <tr style=\"text-align: right;\">\n",
       "      <th></th>\n",
       "      <th>Provinicia</th>\n",
       "      <th>Municipio</th>\n",
       "      <th>Cod ESP</th>\n",
       "      <th>Calidad_Cobertura_fija&amp;movil_%</th>\n",
       "    </tr>\n",
       "  </thead>\n",
       "  <tbody>\n",
       "    <tr>\n",
       "      <th>0</th>\n",
       "      <td>araba</td>\n",
       "      <td>alegria_dulantzi</td>\n",
       "      <td>1001000100</td>\n",
       "      <td>65.00</td>\n",
       "    </tr>\n",
       "    <tr>\n",
       "      <th>1</th>\n",
       "      <td>araba</td>\n",
       "      <td>amurrio</td>\n",
       "      <td>1002000100</td>\n",
       "      <td>62.75</td>\n",
       "    </tr>\n",
       "  </tbody>\n",
       "</table>\n",
       "</div>"
      ],
      "text/plain": [
       "  Provinicia         Municipio     Cod ESP  Calidad_Cobertura_fija&movil_%\n",
       "0      araba  alegria_dulantzi  1001000100                           65.00\n",
       "1      araba           amurrio  1002000100                           62.75"
      ]
     },
     "execution_count": 1453,
     "metadata": {},
     "output_type": "execute_result"
    }
   ],
   "source": [
    "cobertura_media.head(2)"
   ]
  },
  {
   "cell_type": "code",
   "execution_count": 1454,
   "metadata": {},
   "outputs": [],
   "source": [
    "cobertura_media['Provinicia'].replace(\"balears_illes\",\"illes_balears\", inplace=True, regex=True)\n",
    "cobertura_media['Provinicia'].replace(\"palmas_las\",\"las_palmas\", inplace=True, regex=True)\n",
    "cobertura_media['Provinicia'].replace(\"rioja_la\",\"la_rioja\", inplace=True, regex=True)"
   ]
  },
  {
   "cell_type": "code",
   "execution_count": 1455,
   "metadata": {},
   "outputs": [],
   "source": [
    "cobertura_media.rename(columns={'Calidad_Cobertura_fija&movil_%': 'perc_calidad_cobertura_fija_movil'}, inplace=True)\n",
    "cobertura_media.drop(columns=['Cod ESP'], inplace=True)\n",
    "cobertura_media.drop_duplicates(inplace=True)"
   ]
  },
  {
   "cell_type": "code",
   "execution_count": 1456,
   "metadata": {},
   "outputs": [
    {
     "name": "stdout",
     "output_type": "stream",
     "text": [
      "num registros maestro: 6066\n",
      "num registros fichero para unir: 8124\n",
      "num agrupaciones maestro: (52, 1)\n",
      "num agrupaciones union: (52, 1)\n",
      "num agrupaciones tras match: (52, 2)\n",
      "df_union_agrup_match: (8124, 5)\n",
      "barcelona\n",
      "no se han cruzado todos los valores:\n",
      "caceres\n",
      "no se han cruzado todos los valores:\n",
      "jaen\n",
      "no se han cruzado todos los valores:\n",
      "soria\n",
      "no se han cruzado todos los valores:\n",
      "salamanca\n",
      "no se han cruzado todos los valores:\n",
      "granada\n",
      "no se han cruzado todos los valores:\n",
      "sevilla\n",
      "no se han cruzado todos los valores:\n",
      "ciudad_real\n",
      "no se han cruzado todos los valores:\n",
      "alicante\n",
      "no se han cruzado todos los valores:\n",
      "bizkaia\n",
      "coruna\n",
      "no se han cruzado todos los valores:\n",
      "castellon\n",
      "no se han cruzado todos los valores:\n",
      "huelva\n",
      "no se han cruzado todos los valores:\n",
      "madrid\n",
      "no se han cruzado todos los valores:\n",
      "valencia\n",
      "no se han cruzado todos los valores:\n",
      "malaga\n",
      "no se han cruzado todos los valores:\n",
      "ourense\n",
      "no se han cruzado todos los valores:\n",
      "almeria\n",
      "no se han cruzado todos los valores:\n",
      "badajoz\n",
      "no se han cruzado todos los valores:\n",
      "albacete\n",
      "no se han cruzado todos los valores:\n",
      "zaragoza\n",
      "no se han cruzado todos los valores:\n",
      "cantabria\n",
      "no se han cruzado todos los valores:\n",
      "avila\n",
      "no se han cruzado todos los valores:\n",
      "lleida\n",
      "no se han cruzado todos los valores:\n",
      "lugo\n",
      "no se han cruzado todos los valores:\n",
      "leon\n",
      "no se han cruzado todos los valores:\n",
      "asturias\n",
      "no se han cruzado todos los valores:\n",
      "pontevedra\n",
      "no se han cruzado todos los valores:\n",
      "la_rioja\n",
      "no se han cruzado todos los valores:\n",
      "araba\n",
      "no se han cruzado todos los valores:\n",
      "burgos\n",
      "no se han cruzado todos los valores:\n",
      "murcia\n",
      "no se han cruzado todos los valores:\n",
      "illes_balears\n",
      "no se han cruzado todos los valores:\n",
      "tarragona\n",
      "no se han cruzado todos los valores:\n",
      "palencia\n",
      "no se han cruzado todos los valores:\n",
      "cadiz\n",
      "no se han cruzado todos los valores:\n",
      "cordoba\n",
      "no se han cruzado todos los valores:\n",
      "cuenca\n",
      "no se han cruzado todos los valores:\n",
      "girona\n",
      "no se han cruzado todos los valores:\n",
      "guadalajara\n",
      "no se han cruzado todos los valores:\n",
      "gipuzkoa\n",
      "no se han cruzado todos los valores:\n",
      "huesca\n",
      "no se han cruzado todos los valores:\n",
      "navarra\n",
      "no se han cruzado todos los valores:\n",
      "las_palmas\n",
      "no se han cruzado todos los valores:\n",
      "santa_cruz_de_tenerife\n",
      "no se han cruzado todos los valores:\n",
      "segovia\n",
      "no se han cruzado todos los valores:\n",
      "teruel\n",
      "no se han cruzado todos los valores:\n",
      "toledo\n",
      "no se han cruzado todos los valores:\n",
      "valladolid\n",
      "no se han cruzado todos los valores:\n",
      "zamora\n",
      "no se han cruzado todos los valores:\n",
      "ceuta\n",
      "melilla\n",
      "num muni maestro: 6066\n",
      "muni_match: Index(['bus_based_companies_count', 'cities_es', 'cities', 'province_es',\n",
      "       'province', 'ccaa_es', 'ccaa', 'cities_es/province',\n",
      "       'provincia_original', 'municipio_original',\n",
      "       'prov_total_millones_vehiculos_km',\n",
      "       'prov_porcentaje_carreteras_ccaa_y_estado', 'matches'],\n",
      "      dtype='object')\n",
      "df_union_agrup_match: (8124, 4)\n",
      "el fichero de union no dispone de todos los valores para cruzar por municipio\n",
      "columnas final: Index(['bus_based_companies_count', 'cities_es', 'cities', 'province_es',\n",
      "       'province', 'ccaa_es', 'ccaa', 'cities_es/province',\n",
      "       'provincia_original', 'municipio_original',\n",
      "       'prov_total_millones_vehiculos_km',\n",
      "       'prov_porcentaje_carreteras_ccaa_y_estado', 'matches', 'Provinicia',\n",
      "       'Municipio', 'perc_calidad_cobertura_fija_movil', 'muni_agrup'],\n",
      "      dtype='object')\n",
      "num registros tras union: (6066, 13)\n"
     ]
    }
   ],
   "source": [
    "union_guille_3 = union_muni(union_guille_2, cobertura_media, 'cities_es', 'province', 'Municipio', 'Provinicia', threshold=80, threshold_mun=90)"
   ]
  },
  {
   "cell_type": "code",
   "execution_count": 1457,
   "metadata": {},
   "outputs": [
    {
     "data": {
      "text/plain": [
       "(5998, 13)"
      ]
     },
     "execution_count": 1457,
     "metadata": {},
     "output_type": "execute_result"
    }
   ],
   "source": [
    "union_guille_3[~union_guille_3['perc_calidad_cobertura_fija_movil'].isnull()].shape"
   ]
  },
  {
   "cell_type": "code",
   "execution_count": 1458,
   "metadata": {},
   "outputs": [
    {
     "data": {
      "text/plain": [
       "(6066, 13)"
      ]
     },
     "execution_count": 1458,
     "metadata": {},
     "output_type": "execute_result"
    }
   ],
   "source": [
    "union_guille_3.shape"
   ]
  },
  {
   "cell_type": "markdown",
   "metadata": {},
   "source": [
    "##### Accesibilidad"
   ]
  },
  {
   "cell_type": "code",
   "execution_count": 1459,
   "metadata": {},
   "outputs": [
    {
     "data": {
      "text/plain": [
       "(18, 5)"
      ]
     },
     "execution_count": 1459,
     "metadata": {},
     "output_type": "execute_result"
    }
   ],
   "source": [
    "accesibilidad_media_ccaa = pd.read_csv('../Guille/recursos_accesibilidad_ciudades_ccaa_2015.csv',index_col=0)\n",
    "accesibilidad_media_ccaa.shape"
   ]
  },
  {
   "cell_type": "code",
   "execution_count": 1460,
   "metadata": {
    "scrolled": true
   },
   "outputs": [
    {
     "data": {
      "text/html": [
       "<div>\n",
       "<style scoped>\n",
       "    .dataframe tbody tr th:only-of-type {\n",
       "        vertical-align: middle;\n",
       "    }\n",
       "\n",
       "    .dataframe tbody tr th {\n",
       "        vertical-align: top;\n",
       "    }\n",
       "\n",
       "    .dataframe thead th {\n",
       "        text-align: right;\n",
       "    }\n",
       "</style>\n",
       "<table border=\"1\" class=\"dataframe\">\n",
       "  <thead>\n",
       "    <tr style=\"text-align: right;\">\n",
       "      <th></th>\n",
       "      <th>GID_0</th>\n",
       "      <th>NAME_0</th>\n",
       "      <th>GID_1</th>\n",
       "      <th>NAME_1</th>\n",
       "      <th>accessibility_mean</th>\n",
       "    </tr>\n",
       "  </thead>\n",
       "  <tbody>\n",
       "    <tr>\n",
       "      <th>853</th>\n",
       "      <td>ESP</td>\n",
       "      <td>Spain</td>\n",
       "      <td>ESP.1_1</td>\n",
       "      <td>andalucia</td>\n",
       "      <td>51.600938</td>\n",
       "    </tr>\n",
       "    <tr>\n",
       "      <th>854</th>\n",
       "      <td>ESP</td>\n",
       "      <td>Spain</td>\n",
       "      <td>ESP.2_1</td>\n",
       "      <td>aragon</td>\n",
       "      <td>62.648308</td>\n",
       "    </tr>\n",
       "  </tbody>\n",
       "</table>\n",
       "</div>"
      ],
      "text/plain": [
       "    GID_0 NAME_0    GID_1     NAME_1  accessibility_mean\n",
       "853   ESP  Spain  ESP.1_1  andalucia           51.600938\n",
       "854   ESP  Spain  ESP.2_1     aragon           62.648308"
      ]
     },
     "execution_count": 1460,
     "metadata": {},
     "output_type": "execute_result"
    }
   ],
   "source": [
    "accesibilidad_media_ccaa.head(2)"
   ]
  },
  {
   "cell_type": "code",
   "execution_count": 1461,
   "metadata": {},
   "outputs": [],
   "source": [
    "accesibilidad_media_ccaa.rename(columns={'NAME_1': 'ccaa_limpio'}, inplace=True)\n",
    "accesibilidad_media_ccaa.drop(columns=['GID_0', 'NAME_0', 'GID_1'], inplace=True)\n",
    "accesibilidad_media_ccaa.drop_duplicates(subset=['ccaa_limpio'], inplace=True)"
   ]
  },
  {
   "cell_type": "code",
   "execution_count": 1462,
   "metadata": {},
   "outputs": [],
   "source": [
    "accesibilidad_media_ccaa['ccaa_limpio'].replace(\"islas_canarias\", \"canarias\", inplace=True, regex=True)"
   ]
  },
  {
   "cell_type": "code",
   "execution_count": 1463,
   "metadata": {},
   "outputs": [],
   "source": [
    "new_names = [(i,'ccaa_'+i) for i in accesibilidad_media_ccaa.iloc[:, :].columns.values]\n",
    "accesibilidad_media_ccaa.rename(columns = dict(new_names), inplace=True)"
   ]
  },
  {
   "cell_type": "code",
   "execution_count": 1464,
   "metadata": {
    "scrolled": true
   },
   "outputs": [
    {
     "name": "stdout",
     "output_type": "stream",
     "text": [
      "num registros maestro: 6066\n",
      "num registros fichero para unir: 18\n",
      "num agrupaciones maestro: (19, 1)\n",
      "num agrupaciones union: (18, 1)\n",
      "num agrupaciones tras match: (19, 2)\n",
      "no se han cruzado todos los valores:\n",
      "Empty DataFrame\n",
      "Columns: [ccaa_es, matches]\n",
      "Index: []\n",
      "el fichero de union no dispone de todos los valores para cruzar\n",
      "columnas final: Index(['ccaa_ccaa_limpio', 'ccaa_accessibility_mean', 'ccaa_es', 'matches'], dtype='object')\n",
      "num registros tras union: (19, 2)\n"
     ]
    }
   ],
   "source": [
    "union_agrup_guille_4 = union_agrup(union_guille_3, accesibilidad_media_ccaa, 'ccaa_es', 'ccaa_ccaa_limpio', threshold=85)"
   ]
  },
  {
   "cell_type": "code",
   "execution_count": 1465,
   "metadata": {},
   "outputs": [
    {
     "data": {
      "text/html": [
       "<div>\n",
       "<style scoped>\n",
       "    .dataframe tbody tr th:only-of-type {\n",
       "        vertical-align: middle;\n",
       "    }\n",
       "\n",
       "    .dataframe tbody tr th {\n",
       "        vertical-align: top;\n",
       "    }\n",
       "\n",
       "    .dataframe thead th {\n",
       "        text-align: right;\n",
       "    }\n",
       "</style>\n",
       "<table border=\"1\" class=\"dataframe\">\n",
       "  <thead>\n",
       "    <tr style=\"text-align: right;\">\n",
       "      <th></th>\n",
       "      <th>ccaa_accessibility_mean</th>\n",
       "      <th>ccaa_es</th>\n",
       "    </tr>\n",
       "  </thead>\n",
       "  <tbody>\n",
       "    <tr>\n",
       "      <th>0</th>\n",
       "      <td>51.600938</td>\n",
       "      <td>andalucia</td>\n",
       "    </tr>\n",
       "    <tr>\n",
       "      <th>1</th>\n",
       "      <td>62.648308</td>\n",
       "      <td>aragon</td>\n",
       "    </tr>\n",
       "  </tbody>\n",
       "</table>\n",
       "</div>"
      ],
      "text/plain": [
       "   ccaa_accessibility_mean    ccaa_es\n",
       "0                51.600938  andalucia\n",
       "1                62.648308     aragon"
      ]
     },
     "execution_count": 1465,
     "metadata": {},
     "output_type": "execute_result"
    }
   ],
   "source": [
    "union_agrup_guille_4.head(2)"
   ]
  },
  {
   "cell_type": "code",
   "execution_count": 1466,
   "metadata": {},
   "outputs": [],
   "source": [
    "union_guille_4 = pd.merge(union_guille_3, union_agrup_guille_4, left_on='ccaa_es',right_on='ccaa_es', how='left')"
   ]
  },
  {
   "cell_type": "code",
   "execution_count": 1467,
   "metadata": {},
   "outputs": [
    {
     "data": {
      "text/html": [
       "<div>\n",
       "<style scoped>\n",
       "    .dataframe tbody tr th:only-of-type {\n",
       "        vertical-align: middle;\n",
       "    }\n",
       "\n",
       "    .dataframe tbody tr th {\n",
       "        vertical-align: top;\n",
       "    }\n",
       "\n",
       "    .dataframe thead th {\n",
       "        text-align: right;\n",
       "    }\n",
       "</style>\n",
       "<table border=\"1\" class=\"dataframe\">\n",
       "  <thead>\n",
       "    <tr style=\"text-align: right;\">\n",
       "      <th></th>\n",
       "      <th>bus_based_companies_count</th>\n",
       "      <th>cities_es</th>\n",
       "      <th>cities</th>\n",
       "      <th>province_es</th>\n",
       "      <th>province</th>\n",
       "      <th>ccaa_es</th>\n",
       "      <th>ccaa</th>\n",
       "      <th>cities_es/province</th>\n",
       "      <th>provincia_original</th>\n",
       "      <th>municipio_original</th>\n",
       "      <th>prov_total_millones_vehiculos_km</th>\n",
       "      <th>prov_porcentaje_carreteras_ccaa_y_estado</th>\n",
       "      <th>perc_calidad_cobertura_fija_movil</th>\n",
       "      <th>ccaa_accessibility_mean</th>\n",
       "    </tr>\n",
       "  </thead>\n",
       "  <tbody>\n",
       "  </tbody>\n",
       "</table>\n",
       "</div>"
      ],
      "text/plain": [
       "Empty DataFrame\n",
       "Columns: [bus_based_companies_count, cities_es, cities, province_es, province, ccaa_es, ccaa, cities_es/province, provincia_original, municipio_original, prov_total_millones_vehiculos_km, prov_porcentaje_carreteras_ccaa_y_estado, perc_calidad_cobertura_fija_movil, ccaa_accessibility_mean]\n",
       "Index: []"
      ]
     },
     "execution_count": 1467,
     "metadata": {},
     "output_type": "execute_result"
    }
   ],
   "source": [
    "# comprobacion duplicados\n",
    "union_guille_4[union_guille_4.duplicated()]"
   ]
  },
  {
   "cell_type": "code",
   "execution_count": 1468,
   "metadata": {
    "scrolled": true
   },
   "outputs": [
    {
     "data": {
      "text/html": [
       "<div>\n",
       "<style scoped>\n",
       "    .dataframe tbody tr th:only-of-type {\n",
       "        vertical-align: middle;\n",
       "    }\n",
       "\n",
       "    .dataframe tbody tr th {\n",
       "        vertical-align: top;\n",
       "    }\n",
       "\n",
       "    .dataframe thead th {\n",
       "        text-align: right;\n",
       "    }\n",
       "</style>\n",
       "<table border=\"1\" class=\"dataframe\">\n",
       "  <thead>\n",
       "    <tr style=\"text-align: right;\">\n",
       "      <th></th>\n",
       "      <th>bus_based_companies_count</th>\n",
       "      <th>cities_es</th>\n",
       "      <th>cities</th>\n",
       "      <th>province_es</th>\n",
       "      <th>province</th>\n",
       "      <th>ccaa_es</th>\n",
       "      <th>ccaa</th>\n",
       "      <th>cities_es/province</th>\n",
       "      <th>provincia_original</th>\n",
       "      <th>municipio_original</th>\n",
       "      <th>prov_total_millones_vehiculos_km</th>\n",
       "      <th>prov_porcentaje_carreteras_ccaa_y_estado</th>\n",
       "      <th>perc_calidad_cobertura_fija_movil</th>\n",
       "      <th>ccaa_accessibility_mean</th>\n",
       "    </tr>\n",
       "  </thead>\n",
       "  <tbody>\n",
       "    <tr>\n",
       "      <th>0</th>\n",
       "      <td>5.0</td>\n",
       "      <td>barcelona</td>\n",
       "      <td>barcelona</td>\n",
       "      <td>barcelona</td>\n",
       "      <td>barcelona</td>\n",
       "      <td>cataluna</td>\n",
       "      <td>cataluna</td>\n",
       "      <td>barcelona/barcelona</td>\n",
       "      <td>Barcelona</td>\n",
       "      <td>Barcelona</td>\n",
       "      <td>8838.35</td>\n",
       "      <td>0.844502</td>\n",
       "      <td>100.0</td>\n",
       "      <td>37.202517</td>\n",
       "    </tr>\n",
       "    <tr>\n",
       "      <th>1</th>\n",
       "      <td>1.0</td>\n",
       "      <td>terrassa</td>\n",
       "      <td>terrassa</td>\n",
       "      <td>barcelona</td>\n",
       "      <td>barcelona</td>\n",
       "      <td>cataluna</td>\n",
       "      <td>cataluna</td>\n",
       "      <td>terrassa/barcelona</td>\n",
       "      <td>Barcelona</td>\n",
       "      <td>Terrassa</td>\n",
       "      <td>8838.35</td>\n",
       "      <td>0.844502</td>\n",
       "      <td>92.0</td>\n",
       "      <td>37.202517</td>\n",
       "    </tr>\n",
       "  </tbody>\n",
       "</table>\n",
       "</div>"
      ],
      "text/plain": [
       "   bus_based_companies_count  cities_es     cities province_es   province  \\\n",
       "0                        5.0  barcelona  barcelona   barcelona  barcelona   \n",
       "1                        1.0   terrassa   terrassa   barcelona  barcelona   \n",
       "\n",
       "    ccaa_es      ccaa   cities_es/province provincia_original  \\\n",
       "0  cataluna  cataluna  barcelona/barcelona          Barcelona   \n",
       "1  cataluna  cataluna   terrassa/barcelona          Barcelona   \n",
       "\n",
       "  municipio_original  prov_total_millones_vehiculos_km  \\\n",
       "0          Barcelona                           8838.35   \n",
       "1           Terrassa                           8838.35   \n",
       "\n",
       "   prov_porcentaje_carreteras_ccaa_y_estado  \\\n",
       "0                                  0.844502   \n",
       "1                                  0.844502   \n",
       "\n",
       "   perc_calidad_cobertura_fija_movil  ccaa_accessibility_mean  \n",
       "0                              100.0                37.202517  \n",
       "1                               92.0                37.202517  "
      ]
     },
     "execution_count": 1468,
     "metadata": {},
     "output_type": "execute_result"
    }
   ],
   "source": [
    "union_guille_4.head(2)"
   ]
  },
  {
   "cell_type": "code",
   "execution_count": 1469,
   "metadata": {
    "scrolled": true
   },
   "outputs": [
    {
     "data": {
      "text/plain": [
       "(6066, 14)"
      ]
     },
     "execution_count": 1469,
     "metadata": {},
     "output_type": "execute_result"
    }
   ],
   "source": [
    "union_guille_4.shape"
   ]
  },
  {
   "cell_type": "markdown",
   "metadata": {},
   "source": [
    "##### Tren"
   ]
  },
  {
   "cell_type": "code",
   "execution_count": 1470,
   "metadata": {},
   "outputs": [
    {
     "data": {
      "text/plain": [
       "(1498, 8)"
      ]
     },
     "execution_count": 1470,
     "metadata": {},
     "output_type": "execute_result"
    }
   ],
   "source": [
    "estaciones = pd.read_csv('../Guille/estaciones_renfe_prov.csv',index_col=None)\n",
    "estaciones.shape"
   ]
  },
  {
   "cell_type": "code",
   "execution_count": 1471,
   "metadata": {
    "scrolled": false
   },
   "outputs": [
    {
     "data": {
      "text/html": [
       "<div>\n",
       "<style scoped>\n",
       "    .dataframe tbody tr th:only-of-type {\n",
       "        vertical-align: middle;\n",
       "    }\n",
       "\n",
       "    .dataframe tbody tr th {\n",
       "        vertical-align: top;\n",
       "    }\n",
       "\n",
       "    .dataframe thead th {\n",
       "        text-align: right;\n",
       "    }\n",
       "</style>\n",
       "<table border=\"1\" class=\"dataframe\">\n",
       "  <thead>\n",
       "    <tr style=\"text-align: right;\">\n",
       "      <th></th>\n",
       "      <th>CÓDIGO</th>\n",
       "      <th>C.P.</th>\n",
       "      <th>POBLACION</th>\n",
       "      <th>PROVINCIA</th>\n",
       "      <th>CERCANIAS</th>\n",
       "      <th>FEVE</th>\n",
       "      <th>AVE</th>\n",
       "      <th>numero_estaciones</th>\n",
       "    </tr>\n",
       "  </thead>\n",
       "  <tbody>\n",
       "    <tr>\n",
       "      <th>0</th>\n",
       "      <td>31412</td>\n",
       "      <td>15008</td>\n",
       "      <td>coruna_a</td>\n",
       "      <td>coruna_a</td>\n",
       "      <td>NO</td>\n",
       "      <td>NO</td>\n",
       "      <td>SI</td>\n",
       "      <td>2</td>\n",
       "    </tr>\n",
       "    <tr>\n",
       "      <th>1</th>\n",
       "      <td>5129</td>\n",
       "      <td>15569</td>\n",
       "      <td>cerdido</td>\n",
       "      <td>coruna_a</td>\n",
       "      <td>NO</td>\n",
       "      <td>SI</td>\n",
       "      <td>NO</td>\n",
       "      <td>2</td>\n",
       "    </tr>\n",
       "  </tbody>\n",
       "</table>\n",
       "</div>"
      ],
      "text/plain": [
       "   CÓDIGO   C.P. POBLACION PROVINCIA CERCANIAS FEVE AVE  numero_estaciones\n",
       "0   31412  15008  coruna_a  coruna_a        NO   NO  SI                  2\n",
       "1    5129  15569   cerdido  coruna_a        NO   SI  NO                  2"
      ]
     },
     "execution_count": 1471,
     "metadata": {},
     "output_type": "execute_result"
    }
   ],
   "source": [
    "estaciones.head(2)"
   ]
  },
  {
   "cell_type": "code",
   "execution_count": 1472,
   "metadata": {
    "scrolled": false
   },
   "outputs": [
    {
     "data": {
      "text/html": [
       "<div>\n",
       "<style scoped>\n",
       "    .dataframe tbody tr th:only-of-type {\n",
       "        vertical-align: middle;\n",
       "    }\n",
       "\n",
       "    .dataframe tbody tr th {\n",
       "        vertical-align: top;\n",
       "    }\n",
       "\n",
       "    .dataframe thead th {\n",
       "        text-align: right;\n",
       "    }\n",
       "</style>\n",
       "<table border=\"1\" class=\"dataframe\">\n",
       "  <thead>\n",
       "    <tr style=\"text-align: right;\">\n",
       "      <th></th>\n",
       "      <th>CÓDIGO</th>\n",
       "      <th>C.P.</th>\n",
       "      <th>POBLACION</th>\n",
       "      <th>PROVINCIA</th>\n",
       "      <th>CERCANIAS</th>\n",
       "      <th>FEVE</th>\n",
       "      <th>AVE</th>\n",
       "      <th>numero_estaciones</th>\n",
       "    </tr>\n",
       "  </thead>\n",
       "  <tbody>\n",
       "    <tr>\n",
       "      <th>186</th>\n",
       "      <td>65318</td>\n",
       "      <td>12560</td>\n",
       "      <td>benicasim</td>\n",
       "      <td>castellon</td>\n",
       "      <td>NO</td>\n",
       "      <td>NO</td>\n",
       "      <td>NO</td>\n",
       "      <td>1</td>\n",
       "    </tr>\n",
       "  </tbody>\n",
       "</table>\n",
       "</div>"
      ],
      "text/plain": [
       "     CÓDIGO   C.P.  POBLACION  PROVINCIA CERCANIAS FEVE AVE  numero_estaciones\n",
       "186   65318  12560  benicasim  castellon        NO   NO  NO                  1"
      ]
     },
     "execution_count": 1472,
     "metadata": {},
     "output_type": "execute_result"
    }
   ],
   "source": [
    "estaciones[estaciones['POBLACION']=='benicasim']\n",
    "# idioma municipio = es"
   ]
  },
  {
   "cell_type": "code",
   "execution_count": 1473,
   "metadata": {},
   "outputs": [
    {
     "data": {
      "text/plain": [
       "(899, 6)"
      ]
     },
     "execution_count": 1473,
     "metadata": {},
     "output_type": "execute_result"
    }
   ],
   "source": [
    "estaciones['PROVINCIA'].replace(\"rioja_la\",\"la_rioja\", inplace=True, regex=True)\n",
    "estaciones.drop(columns=['C.P.', 'CÓDIGO'], inplace=True)\n",
    "estaciones = estaciones.groupby(by=['POBLACION','PROVINCIA'], as_index=False).agg(lambda x : x.sum() if x.dtype=='int64' else x.max())\n",
    "estaciones.shape"
   ]
  },
  {
   "cell_type": "code",
   "execution_count": 1474,
   "metadata": {},
   "outputs": [],
   "source": [
    "estaciones['CERCANIAS'] = estaciones['CERCANIAS'].map({'SI': 1, 'NO': 0})\n",
    "estaciones['FEVE'] = estaciones['FEVE'].map({'SI': 1, 'NO': 0})\n",
    "estaciones['AVE'] = estaciones['AVE'].map({'SI': 1, 'NO': 0})\n",
    "estaciones.rename(columns={'CERCANIAS': 'tiene_cercanias',\n",
    "                          'FEVE': 'tiene_feve',\n",
    "                          'AVE': 'tiene_ave',\n",
    "                          'numero_estaciones': 'nume_estaciones_tren'}, inplace=True)"
   ]
  },
  {
   "cell_type": "code",
   "execution_count": 1475,
   "metadata": {
    "scrolled": true
   },
   "outputs": [
    {
     "name": "stdout",
     "output_type": "stream",
     "text": [
      "num registros maestro: 6066\n",
      "num registros fichero para unir: 899\n",
      "num agrupaciones maestro: (52, 1)\n",
      "num agrupaciones union: (47, 1)\n",
      "num agrupaciones tras match: (52, 2)\n",
      "no se han cruzado todos los valores:\n",
      "                    province matches\n",
      "3805           illes_balears        \n",
      "5114              las_palmas        \n",
      "5149  santa_cruz_de_tenerife        \n",
      "6064                   ceuta        \n",
      "6065                 melilla        \n",
      "el fichero de union no dispone de todos los valores para cruzar\n",
      "df_union_agrup_match: (904, 8)\n",
      "barcelona\n",
      "no se han cruzado todos los valores:\n",
      "caceres\n",
      "no se han cruzado todos los valores:\n",
      "jaen\n",
      "no se han cruzado todos los valores:\n",
      "soria\n",
      "no se han cruzado todos los valores:\n",
      "salamanca\n",
      "no se han cruzado todos los valores:\n",
      "granada\n",
      "no se han cruzado todos los valores:\n",
      "sevilla\n",
      "no se han cruzado todos los valores:\n",
      "ciudad_real\n",
      "no se han cruzado todos los valores:\n",
      "alicante\n",
      "no se han cruzado todos los valores:\n",
      "bizkaia\n",
      "no se han cruzado todos los valores:\n",
      "coruna\n",
      "no se han cruzado todos los valores:\n",
      "castellon\n",
      "no se han cruzado todos los valores:\n",
      "huelva\n",
      "no se han cruzado todos los valores:\n",
      "madrid\n",
      "no se han cruzado todos los valores:\n",
      "valencia\n",
      "no se han cruzado todos los valores:\n",
      "malaga\n",
      "no se han cruzado todos los valores:\n",
      "ourense\n",
      "no se han cruzado todos los valores:\n",
      "almeria\n",
      "no se han cruzado todos los valores:\n",
      "badajoz\n",
      "no se han cruzado todos los valores:\n",
      "albacete\n",
      "no se han cruzado todos los valores:\n",
      "zaragoza\n",
      "no se han cruzado todos los valores:\n",
      "cantabria\n",
      "no se han cruzado todos los valores:\n",
      "avila\n",
      "no se han cruzado todos los valores:\n",
      "lleida\n",
      "no se han cruzado todos los valores:\n",
      "lugo\n",
      "no se han cruzado todos los valores:\n",
      "leon\n",
      "no se han cruzado todos los valores:\n",
      "asturias\n",
      "no se han cruzado todos los valores:\n",
      "pontevedra\n",
      "no se han cruzado todos los valores:\n",
      "la_rioja\n",
      "no se han cruzado todos los valores:\n",
      "araba\n",
      "no se han cruzado todos los valores:\n",
      "burgos\n",
      "no se han cruzado todos los valores:\n",
      "murcia\n",
      "no se han cruzado todos los valores:\n",
      "illes_balears\n",
      "no se han cruzado todos los valores:\n",
      "tarragona\n",
      "no se han cruzado todos los valores:\n",
      "palencia\n",
      "no se han cruzado todos los valores:\n",
      "cadiz\n",
      "no se han cruzado todos los valores:\n",
      "cordoba\n",
      "no se han cruzado todos los valores:\n",
      "cuenca\n",
      "no se han cruzado todos los valores:\n",
      "girona\n",
      "no se han cruzado todos los valores:\n",
      "guadalajara\n",
      "no se han cruzado todos los valores:\n",
      "gipuzkoa\n",
      "no se han cruzado todos los valores:\n",
      "huesca\n",
      "no se han cruzado todos los valores:\n",
      "navarra\n",
      "no se han cruzado todos los valores:\n",
      "las_palmas\n",
      "no se han cruzado todos los valores:\n",
      "santa_cruz_de_tenerife\n",
      "no se han cruzado todos los valores:\n",
      "segovia\n",
      "no se han cruzado todos los valores:\n",
      "teruel\n",
      "no se han cruzado todos los valores:\n",
      "toledo\n",
      "no se han cruzado todos los valores:\n",
      "valladolid\n",
      "no se han cruzado todos los valores:\n",
      "zamora\n",
      "no se han cruzado todos los valores:\n",
      "ceuta\n",
      "no se han cruzado todos los valores:\n",
      "melilla\n",
      "no se han cruzado todos los valores:\n",
      "num muni maestro: 6066\n",
      "muni_match: Index(['bus_based_companies_count', 'cities_es', 'cities', 'province_es',\n",
      "       'province', 'ccaa_es', 'ccaa', 'cities_es/province',\n",
      "       'provincia_original', 'municipio_original',\n",
      "       'prov_total_millones_vehiculos_km',\n",
      "       'prov_porcentaje_carreteras_ccaa_y_estado',\n",
      "       'perc_calidad_cobertura_fija_movil', 'ccaa_accessibility_mean',\n",
      "       'matches'],\n",
      "      dtype='object')\n",
      "df_union_agrup_match: (904, 7)\n",
      "el fichero de union no dispone de todos los valores para cruzar por municipio\n",
      "columnas final: Index(['bus_based_companies_count', 'cities_es', 'cities', 'province_es',\n",
      "       'province', 'ccaa_es', 'ccaa', 'cities_es/province',\n",
      "       'provincia_original', 'municipio_original',\n",
      "       'prov_total_millones_vehiculos_km',\n",
      "       'prov_porcentaje_carreteras_ccaa_y_estado',\n",
      "       'perc_calidad_cobertura_fija_movil', 'ccaa_accessibility_mean',\n",
      "       'matches', 'POBLACION', 'PROVINCIA', 'tiene_cercanias', 'tiene_feve',\n",
      "       'tiene_ave', 'nume_estaciones_tren', 'muni_agrup'],\n",
      "      dtype='object')\n",
      "num registros tras union: (6066, 18)\n"
     ]
    }
   ],
   "source": [
    "union_guille_5 = union_muni(union_guille_4, estaciones, 'cities_es', 'province', 'POBLACION', 'PROVINCIA', threshold=85, threshold_mun=90)"
   ]
  },
  {
   "cell_type": "code",
   "execution_count": 1476,
   "metadata": {},
   "outputs": [
    {
     "data": {
      "text/plain": [
       "(3717, 18)"
      ]
     },
     "execution_count": 1476,
     "metadata": {},
     "output_type": "execute_result"
    }
   ],
   "source": [
    "union_guille_5[union_guille_5['nume_estaciones_tren']>0].shape"
   ]
  },
  {
   "cell_type": "code",
   "execution_count": 1477,
   "metadata": {},
   "outputs": [
    {
     "data": {
      "text/plain": [
       "(6066, 18)"
      ]
     },
     "execution_count": 1477,
     "metadata": {},
     "output_type": "execute_result"
    }
   ],
   "source": [
    "union_guille_5.shape"
   ]
  },
  {
   "cell_type": "code",
   "execution_count": 1478,
   "metadata": {},
   "outputs": [],
   "source": [
    "union_guille_5.to_csv(\"union_guille2.csv\")"
   ]
  },
  {
   "cell_type": "markdown",
   "metadata": {},
   "source": [
    "### Ficheros Sandra"
   ]
  },
  {
   "cell_type": "code",
   "execution_count": 1481,
   "metadata": {},
   "outputs": [
    {
     "data": {
      "text/plain": [
       "(8189, 13)"
      ]
     },
     "execution_count": 1481,
     "metadata": {},
     "output_type": "execute_result"
    }
   ],
   "source": [
    "comercios = pd.read_csv(\"../Sandra/Economia_comercios_municipios_2019.csv\", dtype={'CP': object})\n",
    "comercios.shape"
   ]
  },
  {
   "cell_type": "code",
   "execution_count": 1482,
   "metadata": {
    "scrolled": true
   },
   "outputs": [
    {
     "data": {
      "text/html": [
       "<div>\n",
       "<style scoped>\n",
       "    .dataframe tbody tr th:only-of-type {\n",
       "        vertical-align: middle;\n",
       "    }\n",
       "\n",
       "    .dataframe tbody tr th {\n",
       "        vertical-align: top;\n",
       "    }\n",
       "\n",
       "    .dataframe thead th {\n",
       "        text-align: right;\n",
       "    }\n",
       "</style>\n",
       "<table border=\"1\" class=\"dataframe\">\n",
       "  <thead>\n",
       "    <tr style=\"text-align: right;\">\n",
       "      <th></th>\n",
       "      <th>CP</th>\n",
       "      <th>Municipio</th>\n",
       "      <th>Total Comercios</th>\n",
       "      <th>B_E Industria</th>\n",
       "      <th>F Construcción</th>\n",
       "      <th>Comercio, transporte y hostelería</th>\n",
       "      <th>J Información y comunicaciones</th>\n",
       "      <th>K Actividades financieras y de seguros</th>\n",
       "      <th>L Actividades inmobiliarias</th>\n",
       "      <th>Actividades profesionales y técnicas</th>\n",
       "      <th>Educación, sanidad y servicios sociales</th>\n",
       "      <th>Otros servicios personales</th>\n",
       "      <th>Total servicios</th>\n",
       "    </tr>\n",
       "  </thead>\n",
       "  <tbody>\n",
       "    <tr>\n",
       "      <th>0</th>\n",
       "      <td>0</td>\n",
       "      <td>Total Nacional</td>\n",
       "      <td>3,363,197</td>\n",
       "      <td>199,076</td>\n",
       "      <td>422,350</td>\n",
       "      <td>1,215,680</td>\n",
       "      <td>68,158</td>\n",
       "      <td>77,396</td>\n",
       "      <td>179,484</td>\n",
       "      <td>622,015</td>\n",
       "      <td>272,124</td>\n",
       "      <td>306,914</td>\n",
       "      <td>1,526,091</td>\n",
       "    </tr>\n",
       "    <tr>\n",
       "      <th>1</th>\n",
       "      <td>01</td>\n",
       "      <td>Araba/Álava</td>\n",
       "      <td>18,678</td>\n",
       "      <td>1,942</td>\n",
       "      <td>2,397</td>\n",
       "      <td>7,099</td>\n",
       "      <td>359</td>\n",
       "      <td>326</td>\n",
       "      <td>221</td>\n",
       "      <td>3,132</td>\n",
       "      <td>1,493</td>\n",
       "      <td>1,709</td>\n",
       "      <td>7,240</td>\n",
       "    </tr>\n",
       "    <tr>\n",
       "      <th>2</th>\n",
       "      <td>01001</td>\n",
       "      <td>Alegría-Dulantzi</td>\n",
       "      <td>148</td>\n",
       "      <td>20</td>\n",
       "      <td>26</td>\n",
       "      <td>59</td>\n",
       "      <td></td>\n",
       "      <td></td>\n",
       "      <td></td>\n",
       "      <td></td>\n",
       "      <td></td>\n",
       "      <td></td>\n",
       "      <td>43</td>\n",
       "    </tr>\n",
       "    <tr>\n",
       "      <th>3</th>\n",
       "      <td>01002</td>\n",
       "      <td>Amurrio</td>\n",
       "      <td>600</td>\n",
       "      <td>63</td>\n",
       "      <td>95</td>\n",
       "      <td>251</td>\n",
       "      <td>6</td>\n",
       "      <td>9</td>\n",
       "      <td>7</td>\n",
       "      <td>90</td>\n",
       "      <td>40</td>\n",
       "      <td>39</td>\n",
       "      <td>191</td>\n",
       "    </tr>\n",
       "    <tr>\n",
       "      <th>4</th>\n",
       "      <td>01003</td>\n",
       "      <td>Aramaio</td>\n",
       "      <td>50</td>\n",
       "      <td>8</td>\n",
       "      <td>7</td>\n",
       "      <td>16</td>\n",
       "      <td></td>\n",
       "      <td></td>\n",
       "      <td></td>\n",
       "      <td></td>\n",
       "      <td></td>\n",
       "      <td></td>\n",
       "      <td>19</td>\n",
       "    </tr>\n",
       "  </tbody>\n",
       "</table>\n",
       "</div>"
      ],
      "text/plain": [
       "       CP         Municipio Total Comercios B_E Industria F Construcción  \\\n",
       "0       0    Total Nacional       3,363,197       199,076        422,350   \n",
       "1      01       Araba/Álava          18,678         1,942          2,397   \n",
       "2   01001  Alegría-Dulantzi             148            20             26   \n",
       "3   01002           Amurrio             600            63             95   \n",
       "4   01003           Aramaio              50             8              7   \n",
       "\n",
       "  Comercio, transporte y hostelería J Información y comunicaciones  \\\n",
       "0                         1,215,680                         68,158   \n",
       "1                             7,099                            359   \n",
       "2                                59                                  \n",
       "3                               251                              6   \n",
       "4                                16                                  \n",
       "\n",
       "  K Actividades financieras y de seguros L Actividades inmobiliarias  \\\n",
       "0                                 77,396                     179,484   \n",
       "1                                    326                         221   \n",
       "2                                                                      \n",
       "3                                      9                           7   \n",
       "4                                                                      \n",
       "\n",
       "  Actividades profesionales y técnicas  \\\n",
       "0                              622,015   \n",
       "1                                3,132   \n",
       "2                                        \n",
       "3                                   90   \n",
       "4                                        \n",
       "\n",
       "  Educación, sanidad y servicios sociales Otros servicios personales  \\\n",
       "0                                 272,124                    306,914   \n",
       "1                                   1,493                      1,709   \n",
       "2                                                                      \n",
       "3                                      40                         39   \n",
       "4                                                                      \n",
       "\n",
       "  Total servicios  \n",
       "0       1,526,091  \n",
       "1           7,240  \n",
       "2              43  \n",
       "3             191  \n",
       "4              19  "
      ]
     },
     "execution_count": 1482,
     "metadata": {},
     "output_type": "execute_result"
    }
   ],
   "source": [
    "comercios.head(5)"
   ]
  },
  {
   "cell_type": "code",
   "execution_count": 1483,
   "metadata": {},
   "outputs": [],
   "source": [
    "comercios = comercios.rename(columns=standardize_headers)\n",
    "comercios.drop(columns='municipio', inplace=True)\n",
    "comercios['cp'] = comercios['cp'].str.strip(' ')"
   ]
  },
  {
   "cell_type": "code",
   "execution_count": 1484,
   "metadata": {},
   "outputs": [
    {
     "data": {
      "text/plain": [
       "Index(['cp', 'total_comercios', 'b_e_industria', 'f_construccion',\n",
       "       'comercio_transporte_y_hosteleria', 'j_informacion_y_comunicaciones',\n",
       "       'k_actividades_financieras_y_de_seguros', 'l_actividades_inmobiliarias',\n",
       "       'actividades_profesionales_y_tecnicas',\n",
       "       'educacion_sanidad_y_servicios_sociales', 'otros_servicios_personales',\n",
       "       'total_servicios'],\n",
       "      dtype='object')"
      ]
     },
     "execution_count": 1484,
     "metadata": {},
     "output_type": "execute_result"
    }
   ],
   "source": [
    "comercios.columns"
   ]
  },
  {
   "cell_type": "code",
   "execution_count": 1485,
   "metadata": {
    "scrolled": false
   },
   "outputs": [],
   "source": [
    "for column in ['total_comercios', 'b_e_industria', 'f_construccion',\n",
    "       'comercio_transporte_y_hosteleria', 'j_informacion_y_comunicaciones',\n",
    "       'k_actividades_financieras_y_de_seguros', 'l_actividades_inmobiliarias',\n",
    "       'actividades_profesionales_y_tecnicas',\n",
    "       'educacion_sanidad_y_servicios_sociales', 'otros_servicios_personales',\n",
    "       'total_servicios']:\n",
    "        comercios[column] = comercios[column].apply(doCleanNumber)\n",
    "\n",
    "#comercios['b_e_industria'] = comercios['b_e_industria'].apply(doCleanNumber)"
   ]
  },
  {
   "cell_type": "code",
   "execution_count": 1486,
   "metadata": {
    "scrolled": true
   },
   "outputs": [
    {
     "data": {
      "text/html": [
       "<div>\n",
       "<style scoped>\n",
       "    .dataframe tbody tr th:only-of-type {\n",
       "        vertical-align: middle;\n",
       "    }\n",
       "\n",
       "    .dataframe tbody tr th {\n",
       "        vertical-align: top;\n",
       "    }\n",
       "\n",
       "    .dataframe thead th {\n",
       "        text-align: right;\n",
       "    }\n",
       "</style>\n",
       "<table border=\"1\" class=\"dataframe\">\n",
       "  <thead>\n",
       "    <tr style=\"text-align: right;\">\n",
       "      <th></th>\n",
       "      <th>cp</th>\n",
       "      <th>total_comercios</th>\n",
       "      <th>b_e_industria</th>\n",
       "      <th>f_construccion</th>\n",
       "      <th>comercio_transporte_y_hosteleria</th>\n",
       "      <th>j_informacion_y_comunicaciones</th>\n",
       "      <th>k_actividades_financieras_y_de_seguros</th>\n",
       "      <th>l_actividades_inmobiliarias</th>\n",
       "      <th>actividades_profesionales_y_tecnicas</th>\n",
       "      <th>educacion_sanidad_y_servicios_sociales</th>\n",
       "      <th>otros_servicios_personales</th>\n",
       "      <th>total_servicios</th>\n",
       "    </tr>\n",
       "  </thead>\n",
       "  <tbody>\n",
       "    <tr>\n",
       "      <th>0</th>\n",
       "      <td>0</td>\n",
       "      <td>3363197.0</td>\n",
       "      <td>199076.0</td>\n",
       "      <td>422350.0</td>\n",
       "      <td>1215680.0</td>\n",
       "      <td>68158.0</td>\n",
       "      <td>77396.0</td>\n",
       "      <td>179484.0</td>\n",
       "      <td>622015.0</td>\n",
       "      <td>272124.0</td>\n",
       "      <td>306914.0</td>\n",
       "      <td>1526091.0</td>\n",
       "    </tr>\n",
       "    <tr>\n",
       "      <th>1</th>\n",
       "      <td>01</td>\n",
       "      <td>18678.0</td>\n",
       "      <td>1942.0</td>\n",
       "      <td>2397.0</td>\n",
       "      <td>7099.0</td>\n",
       "      <td>359.0</td>\n",
       "      <td>326.0</td>\n",
       "      <td>221.0</td>\n",
       "      <td>3132.0</td>\n",
       "      <td>1493.0</td>\n",
       "      <td>1709.0</td>\n",
       "      <td>7240.0</td>\n",
       "    </tr>\n",
       "    <tr>\n",
       "      <th>2</th>\n",
       "      <td>01001</td>\n",
       "      <td>148.0</td>\n",
       "      <td>20.0</td>\n",
       "      <td>26.0</td>\n",
       "      <td>59.0</td>\n",
       "      <td>0.0</td>\n",
       "      <td>0.0</td>\n",
       "      <td>0.0</td>\n",
       "      <td>0.0</td>\n",
       "      <td>0.0</td>\n",
       "      <td>0.0</td>\n",
       "      <td>43.0</td>\n",
       "    </tr>\n",
       "    <tr>\n",
       "      <th>3</th>\n",
       "      <td>01002</td>\n",
       "      <td>600.0</td>\n",
       "      <td>63.0</td>\n",
       "      <td>95.0</td>\n",
       "      <td>251.0</td>\n",
       "      <td>6.0</td>\n",
       "      <td>9.0</td>\n",
       "      <td>7.0</td>\n",
       "      <td>90.0</td>\n",
       "      <td>40.0</td>\n",
       "      <td>39.0</td>\n",
       "      <td>191.0</td>\n",
       "    </tr>\n",
       "    <tr>\n",
       "      <th>4</th>\n",
       "      <td>01003</td>\n",
       "      <td>50.0</td>\n",
       "      <td>8.0</td>\n",
       "      <td>7.0</td>\n",
       "      <td>16.0</td>\n",
       "      <td>0.0</td>\n",
       "      <td>0.0</td>\n",
       "      <td>0.0</td>\n",
       "      <td>0.0</td>\n",
       "      <td>0.0</td>\n",
       "      <td>0.0</td>\n",
       "      <td>19.0</td>\n",
       "    </tr>\n",
       "  </tbody>\n",
       "</table>\n",
       "</div>"
      ],
      "text/plain": [
       "      cp  total_comercios  b_e_industria  f_construccion  \\\n",
       "0      0        3363197.0       199076.0        422350.0   \n",
       "1     01          18678.0         1942.0          2397.0   \n",
       "2  01001            148.0           20.0            26.0   \n",
       "3  01002            600.0           63.0            95.0   \n",
       "4  01003             50.0            8.0             7.0   \n",
       "\n",
       "   comercio_transporte_y_hosteleria  j_informacion_y_comunicaciones  \\\n",
       "0                         1215680.0                         68158.0   \n",
       "1                            7099.0                           359.0   \n",
       "2                              59.0                             0.0   \n",
       "3                             251.0                             6.0   \n",
       "4                              16.0                             0.0   \n",
       "\n",
       "   k_actividades_financieras_y_de_seguros  l_actividades_inmobiliarias  \\\n",
       "0                                 77396.0                     179484.0   \n",
       "1                                   326.0                        221.0   \n",
       "2                                     0.0                          0.0   \n",
       "3                                     9.0                          7.0   \n",
       "4                                     0.0                          0.0   \n",
       "\n",
       "   actividades_profesionales_y_tecnicas  \\\n",
       "0                              622015.0   \n",
       "1                                3132.0   \n",
       "2                                   0.0   \n",
       "3                                  90.0   \n",
       "4                                   0.0   \n",
       "\n",
       "   educacion_sanidad_y_servicios_sociales  otros_servicios_personales  \\\n",
       "0                                272124.0                    306914.0   \n",
       "1                                  1493.0                      1709.0   \n",
       "2                                     0.0                         0.0   \n",
       "3                                    40.0                        39.0   \n",
       "4                                     0.0                         0.0   \n",
       "\n",
       "   total_servicios  \n",
       "0        1526091.0  \n",
       "1           7240.0  \n",
       "2             43.0  \n",
       "3            191.0  \n",
       "4             19.0  "
      ]
     },
     "execution_count": 1486,
     "metadata": {},
     "output_type": "execute_result"
    }
   ],
   "source": [
    "comercios.head()"
   ]
  },
  {
   "cell_type": "code",
   "execution_count": 1487,
   "metadata": {},
   "outputs": [],
   "source": [
    "#union_sandra_1 = union_solo_muni(maestro_nivel_municipio_ori, comercios, 'cities_es', 'municipio', threshold=90)"
   ]
  },
  {
   "cell_type": "code",
   "execution_count": 1488,
   "metadata": {
    "scrolled": true
   },
   "outputs": [
    {
     "data": {
      "text/plain": [
       "(6066, 21)"
      ]
     },
     "execution_count": 1488,
     "metadata": {},
     "output_type": "execute_result"
    }
   ],
   "source": [
    "union_sandra_1 = union_cod_postal(maestro_nivel_cod_postal, comercios, maestro_nivel_municipio_ori, 'postal_code', 'cp', 'cities_es/province', 'sum')\n",
    "union_sandra_1.shape"
   ]
  },
  {
   "cell_type": "code",
   "execution_count": 1489,
   "metadata": {},
   "outputs": [
    {
     "data": {
      "text/plain": [
       "(970, 21)"
      ]
     },
     "execution_count": 1489,
     "metadata": {},
     "output_type": "execute_result"
    }
   ],
   "source": [
    "union_sandra_1[union_sandra_1['total_comercios']>0].shape"
   ]
  },
  {
   "cell_type": "code",
   "execution_count": 1490,
   "metadata": {},
   "outputs": [
    {
     "data": {
      "text/html": [
       "<div>\n",
       "<style scoped>\n",
       "    .dataframe tbody tr th:only-of-type {\n",
       "        vertical-align: middle;\n",
       "    }\n",
       "\n",
       "    .dataframe tbody tr th {\n",
       "        vertical-align: top;\n",
       "    }\n",
       "\n",
       "    .dataframe thead th {\n",
       "        text-align: right;\n",
       "    }\n",
       "</style>\n",
       "<table border=\"1\" class=\"dataframe\">\n",
       "  <thead>\n",
       "    <tr style=\"text-align: right;\">\n",
       "      <th></th>\n",
       "      <th>cities_es</th>\n",
       "      <th>cities</th>\n",
       "      <th>province_es</th>\n",
       "      <th>province</th>\n",
       "      <th>ccaa_es</th>\n",
       "      <th>ccaa</th>\n",
       "      <th>cities_es/province</th>\n",
       "      <th>provincia_original</th>\n",
       "      <th>municipio_original</th>\n",
       "      <th>muni_agrup</th>\n",
       "      <th>...</th>\n",
       "      <th>b_e_industria</th>\n",
       "      <th>f_construccion</th>\n",
       "      <th>comercio_transporte_y_hosteleria</th>\n",
       "      <th>j_informacion_y_comunicaciones</th>\n",
       "      <th>k_actividades_financieras_y_de_seguros</th>\n",
       "      <th>l_actividades_inmobiliarias</th>\n",
       "      <th>actividades_profesionales_y_tecnicas</th>\n",
       "      <th>educacion_sanidad_y_servicios_sociales</th>\n",
       "      <th>otros_servicios_personales</th>\n",
       "      <th>total_servicios</th>\n",
       "    </tr>\n",
       "  </thead>\n",
       "  <tbody>\n",
       "    <tr>\n",
       "      <th>0</th>\n",
       "      <td>alegria_dulantzi</td>\n",
       "      <td>alegria_dulantzi</td>\n",
       "      <td>alava</td>\n",
       "      <td>araba</td>\n",
       "      <td>pais_vasco</td>\n",
       "      <td>pais_vasco</td>\n",
       "      <td>alegria_dulantzi/araba</td>\n",
       "      <td>Araba/Álava</td>\n",
       "      <td>Alegría-Dulantzi</td>\n",
       "      <td>alegria_dulantzi/pais_vasco</td>\n",
       "      <td>...</td>\n",
       "      <td>0.0</td>\n",
       "      <td>0.0</td>\n",
       "      <td>0.0</td>\n",
       "      <td>0.0</td>\n",
       "      <td>0.0</td>\n",
       "      <td>0.0</td>\n",
       "      <td>0.0</td>\n",
       "      <td>0.0</td>\n",
       "      <td>0.0</td>\n",
       "      <td>0.0</td>\n",
       "    </tr>\n",
       "    <tr>\n",
       "      <th>1</th>\n",
       "      <td>amurrio</td>\n",
       "      <td>amurrio</td>\n",
       "      <td>alava</td>\n",
       "      <td>araba</td>\n",
       "      <td>pais_vasco</td>\n",
       "      <td>pais_vasco</td>\n",
       "      <td>amurrio/araba</td>\n",
       "      <td>Araba/Álava</td>\n",
       "      <td>Amurrio</td>\n",
       "      <td>amurrio/pais_vasco</td>\n",
       "      <td>...</td>\n",
       "      <td>0.0</td>\n",
       "      <td>0.0</td>\n",
       "      <td>0.0</td>\n",
       "      <td>0.0</td>\n",
       "      <td>0.0</td>\n",
       "      <td>0.0</td>\n",
       "      <td>0.0</td>\n",
       "      <td>0.0</td>\n",
       "      <td>0.0</td>\n",
       "      <td>0.0</td>\n",
       "    </tr>\n",
       "    <tr>\n",
       "      <th>2</th>\n",
       "      <td>aramaio</td>\n",
       "      <td>aramaio</td>\n",
       "      <td>alava</td>\n",
       "      <td>araba</td>\n",
       "      <td>pais_vasco</td>\n",
       "      <td>pais_vasco</td>\n",
       "      <td>aramaio/araba</td>\n",
       "      <td>Araba/Álava</td>\n",
       "      <td>Aramaio</td>\n",
       "      <td>aramaio/pais_vasco</td>\n",
       "      <td>...</td>\n",
       "      <td>0.0</td>\n",
       "      <td>0.0</td>\n",
       "      <td>0.0</td>\n",
       "      <td>0.0</td>\n",
       "      <td>0.0</td>\n",
       "      <td>0.0</td>\n",
       "      <td>0.0</td>\n",
       "      <td>0.0</td>\n",
       "      <td>0.0</td>\n",
       "      <td>0.0</td>\n",
       "    </tr>\n",
       "    <tr>\n",
       "      <th>3</th>\n",
       "      <td>artziniega</td>\n",
       "      <td>artziniega</td>\n",
       "      <td>alava</td>\n",
       "      <td>araba</td>\n",
       "      <td>pais_vasco</td>\n",
       "      <td>pais_vasco</td>\n",
       "      <td>artziniega/araba</td>\n",
       "      <td>Araba/Álava</td>\n",
       "      <td>Artziniega</td>\n",
       "      <td>artziniega/pais_vasco</td>\n",
       "      <td>...</td>\n",
       "      <td>0.0</td>\n",
       "      <td>0.0</td>\n",
       "      <td>0.0</td>\n",
       "      <td>0.0</td>\n",
       "      <td>0.0</td>\n",
       "      <td>0.0</td>\n",
       "      <td>0.0</td>\n",
       "      <td>0.0</td>\n",
       "      <td>0.0</td>\n",
       "      <td>0.0</td>\n",
       "    </tr>\n",
       "    <tr>\n",
       "      <th>4</th>\n",
       "      <td>arminon</td>\n",
       "      <td>arminon</td>\n",
       "      <td>alava</td>\n",
       "      <td>araba</td>\n",
       "      <td>pais_vasco</td>\n",
       "      <td>pais_vasco</td>\n",
       "      <td>arminon/araba</td>\n",
       "      <td>Araba/Álava</td>\n",
       "      <td>Armiñón</td>\n",
       "      <td>arminon/pais_vasco</td>\n",
       "      <td>...</td>\n",
       "      <td>0.0</td>\n",
       "      <td>0.0</td>\n",
       "      <td>0.0</td>\n",
       "      <td>0.0</td>\n",
       "      <td>0.0</td>\n",
       "      <td>0.0</td>\n",
       "      <td>0.0</td>\n",
       "      <td>0.0</td>\n",
       "      <td>0.0</td>\n",
       "      <td>0.0</td>\n",
       "    </tr>\n",
       "  </tbody>\n",
       "</table>\n",
       "<p>5 rows × 21 columns</p>\n",
       "</div>"
      ],
      "text/plain": [
       "          cities_es            cities province_es province     ccaa_es  \\\n",
       "0  alegria_dulantzi  alegria_dulantzi       alava    araba  pais_vasco   \n",
       "1           amurrio           amurrio       alava    araba  pais_vasco   \n",
       "2           aramaio           aramaio       alava    araba  pais_vasco   \n",
       "3        artziniega        artziniega       alava    araba  pais_vasco   \n",
       "4           arminon           arminon       alava    araba  pais_vasco   \n",
       "\n",
       "         ccaa      cities_es/province provincia_original municipio_original  \\\n",
       "0  pais_vasco  alegria_dulantzi/araba        Araba/Álava   Alegría-Dulantzi   \n",
       "1  pais_vasco           amurrio/araba        Araba/Álava            Amurrio   \n",
       "2  pais_vasco           aramaio/araba        Araba/Álava            Aramaio   \n",
       "3  pais_vasco        artziniega/araba        Araba/Álava         Artziniega   \n",
       "4  pais_vasco           arminon/araba        Araba/Álava            Armiñón   \n",
       "\n",
       "                    muni_agrup  ...  b_e_industria  f_construccion  \\\n",
       "0  alegria_dulantzi/pais_vasco  ...            0.0             0.0   \n",
       "1           amurrio/pais_vasco  ...            0.0             0.0   \n",
       "2           aramaio/pais_vasco  ...            0.0             0.0   \n",
       "3        artziniega/pais_vasco  ...            0.0             0.0   \n",
       "4           arminon/pais_vasco  ...            0.0             0.0   \n",
       "\n",
       "   comercio_transporte_y_hosteleria  j_informacion_y_comunicaciones  \\\n",
       "0                               0.0                             0.0   \n",
       "1                               0.0                             0.0   \n",
       "2                               0.0                             0.0   \n",
       "3                               0.0                             0.0   \n",
       "4                               0.0                             0.0   \n",
       "\n",
       "   k_actividades_financieras_y_de_seguros  l_actividades_inmobiliarias  \\\n",
       "0                                     0.0                          0.0   \n",
       "1                                     0.0                          0.0   \n",
       "2                                     0.0                          0.0   \n",
       "3                                     0.0                          0.0   \n",
       "4                                     0.0                          0.0   \n",
       "\n",
       "   actividades_profesionales_y_tecnicas  \\\n",
       "0                                   0.0   \n",
       "1                                   0.0   \n",
       "2                                   0.0   \n",
       "3                                   0.0   \n",
       "4                                   0.0   \n",
       "\n",
       "   educacion_sanidad_y_servicios_sociales  otros_servicios_personales  \\\n",
       "0                                     0.0                         0.0   \n",
       "1                                     0.0                         0.0   \n",
       "2                                     0.0                         0.0   \n",
       "3                                     0.0                         0.0   \n",
       "4                                     0.0                         0.0   \n",
       "\n",
       "   total_servicios  \n",
       "0              0.0  \n",
       "1              0.0  \n",
       "2              0.0  \n",
       "3              0.0  \n",
       "4              0.0  \n",
       "\n",
       "[5 rows x 21 columns]"
      ]
     },
     "execution_count": 1490,
     "metadata": {},
     "output_type": "execute_result"
    }
   ],
   "source": [
    "union_sandra_1.head()"
   ]
  },
  {
   "cell_type": "markdown",
   "metadata": {},
   "source": [
    "##### IRPF / Salario - DESCARTADO"
   ]
  },
  {
   "cell_type": "code",
   "execution_count": 1491,
   "metadata": {},
   "outputs": [
    {
     "data": {
      "text/plain": [
       "(2897, 6)"
      ]
     },
     "execution_count": 1491,
     "metadata": {},
     "output_type": "execute_result"
    }
   ],
   "source": [
    "irpf = pd.read_csv(\"../Sandra/Economia_IRPF_municipios_2017.csv\", index_col=0)\n",
    "irpf.shape"
   ]
  },
  {
   "cell_type": "code",
   "execution_count": 1492,
   "metadata": {},
   "outputs": [
    {
     "data": {
      "text/html": [
       "<div>\n",
       "<style scoped>\n",
       "    .dataframe tbody tr th:only-of-type {\n",
       "        vertical-align: middle;\n",
       "    }\n",
       "\n",
       "    .dataframe tbody tr th {\n",
       "        vertical-align: top;\n",
       "    }\n",
       "\n",
       "    .dataframe thead th {\n",
       "        text-align: right;\n",
       "    }\n",
       "</style>\n",
       "<table border=\"1\" class=\"dataframe\">\n",
       "  <thead>\n",
       "    <tr style=\"text-align: right;\">\n",
       "      <th></th>\n",
       "      <th>n_habitantes</th>\n",
       "      <th>Renta_disponible</th>\n",
       "      <th>CCAA</th>\n",
       "      <th>PROVINCIA</th>\n",
       "      <th>MUNICIPIO</th>\n",
       "      <th>CP_AT</th>\n",
       "    </tr>\n",
       "  </thead>\n",
       "  <tbody>\n",
       "    <tr>\n",
       "      <th>57</th>\n",
       "      <td>1005.0</td>\n",
       "      <td>8092773.17</td>\n",
       "      <td>aragon</td>\n",
       "      <td>zaragoza</td>\n",
       "      <td>bujaraloz</td>\n",
       "      <td>50059.0</td>\n",
       "    </tr>\n",
       "    <tr>\n",
       "      <th>58</th>\n",
       "      <td>1047.0</td>\n",
       "      <td>8434679.97</td>\n",
       "      <td>comunitat_valenciana</td>\n",
       "      <td>valencia</td>\n",
       "      <td>palmera</td>\n",
       "      <td>46188.0</td>\n",
       "    </tr>\n",
       "  </tbody>\n",
       "</table>\n",
       "</div>"
      ],
      "text/plain": [
       "    n_habitantes  Renta_disponible                  CCAA PROVINCIA  MUNICIPIO  \\\n",
       "57        1005.0        8092773.17                aragon  zaragoza  bujaraloz   \n",
       "58        1047.0        8434679.97  comunitat_valenciana  valencia    palmera   \n",
       "\n",
       "      CP_AT  \n",
       "57  50059.0  \n",
       "58  46188.0  "
      ]
     },
     "execution_count": 1492,
     "metadata": {},
     "output_type": "execute_result"
    }
   ],
   "source": [
    "irpf.head(2)"
   ]
  },
  {
   "cell_type": "code",
   "execution_count": 1493,
   "metadata": {
    "scrolled": true
   },
   "outputs": [
    {
     "data": {
      "text/plain": [
       "57                     aragon\n",
       "58       comunitat_valenciana\n",
       "59                   cataluna\n",
       "60             castillay_leon\n",
       "61                  andalucia\n",
       "251        castilla_la_mancha\n",
       "472                 cantabria\n",
       "517                  canarias\n",
       "560                   galicia\n",
       "600     principadode_asturias\n",
       "684           regionde_murcia\n",
       "688                       NaN\n",
       "736        comunidadde_madrid\n",
       "837                  la_rioja\n",
       "1367              extremadura\n",
       "1531            illes_balears\n",
       "2816                  melilla\n",
       "2817                    ceuta\n",
       "Name: CCAA, dtype: object"
      ]
     },
     "execution_count": 1493,
     "metadata": {},
     "output_type": "execute_result"
    }
   ],
   "source": [
    "irpf['CCAA'].drop_duplicates()"
   ]
  },
  {
   "cell_type": "code",
   "execution_count": 1494,
   "metadata": {},
   "outputs": [],
   "source": [
    "irpf.drop(columns=['CCAA', 'CP_AT', 'n_habitantes'], inplace=True)\n",
    "irpf.rename(columns={'Renta_disponible': 'renta_disponible'}, inplace=True)\n",
    "irpf = irpf[~irpf['MUNICIPIO'].isnull()]"
   ]
  },
  {
   "cell_type": "code",
   "execution_count": 1495,
   "metadata": {
    "scrolled": true
   },
   "outputs": [
    {
     "data": {
      "text/html": [
       "<div>\n",
       "<style scoped>\n",
       "    .dataframe tbody tr th:only-of-type {\n",
       "        vertical-align: middle;\n",
       "    }\n",
       "\n",
       "    .dataframe tbody tr th {\n",
       "        vertical-align: top;\n",
       "    }\n",
       "\n",
       "    .dataframe thead th {\n",
       "        text-align: right;\n",
       "    }\n",
       "</style>\n",
       "<table border=\"1\" class=\"dataframe\">\n",
       "  <thead>\n",
       "    <tr style=\"text-align: right;\">\n",
       "      <th></th>\n",
       "      <th>renta_disponible</th>\n",
       "      <th>PROVINCIA</th>\n",
       "      <th>MUNICIPIO</th>\n",
       "    </tr>\n",
       "  </thead>\n",
       "  <tbody>\n",
       "  </tbody>\n",
       "</table>\n",
       "</div>"
      ],
      "text/plain": [
       "Empty DataFrame\n",
       "Columns: [renta_disponible, PROVINCIA, MUNICIPIO]\n",
       "Index: []"
      ]
     },
     "execution_count": 1495,
     "metadata": {},
     "output_type": "execute_result"
    }
   ],
   "source": [
    "irpf[irpf[['PROVINCIA', 'MUNICIPIO']].duplicated()]"
   ]
  },
  {
   "cell_type": "code",
   "execution_count": 1496,
   "metadata": {},
   "outputs": [],
   "source": [
    "# faltan 4 provincias\n",
    "#union_sandra_2 = union_muni(union_sandra_1, irpf, 'cities_es', 'province_es', 'MUNICIPIO', 'PROVINCIA', threshold=80, threshold_mun=90)"
   ]
  },
  {
   "cell_type": "markdown",
   "metadata": {},
   "source": [
    "##### PIB"
   ]
  },
  {
   "cell_type": "code",
   "execution_count": 1567,
   "metadata": {},
   "outputs": [
    {
     "data": {
      "text/plain": [
       "(52, 2)"
      ]
     },
     "execution_count": 1567,
     "metadata": {},
     "output_type": "execute_result"
    }
   ],
   "source": [
    "pib = pd.read_csv(\"../Sandra/Economia_PIB_provincias_2017.csv\", index_col=0 )\n",
    "pib.shape"
   ]
  },
  {
   "cell_type": "code",
   "execution_count": 1568,
   "metadata": {},
   "outputs": [
    {
     "data": {
      "text/html": [
       "<div>\n",
       "<style scoped>\n",
       "    .dataframe tbody tr th:only-of-type {\n",
       "        vertical-align: middle;\n",
       "    }\n",
       "\n",
       "    .dataframe tbody tr th {\n",
       "        vertical-align: top;\n",
       "    }\n",
       "\n",
       "    .dataframe thead th {\n",
       "        text-align: right;\n",
       "    }\n",
       "</style>\n",
       "<table border=\"1\" class=\"dataframe\">\n",
       "  <thead>\n",
       "    <tr style=\"text-align: right;\">\n",
       "      <th></th>\n",
       "      <th>provincia</th>\n",
       "      <th>PIB pm</th>\n",
       "    </tr>\n",
       "  </thead>\n",
       "  <tbody>\n",
       "    <tr>\n",
       "      <th>0</th>\n",
       "      <td>albacete</td>\n",
       "      <td>7762548</td>\n",
       "    </tr>\n",
       "    <tr>\n",
       "      <th>1</th>\n",
       "      <td>alicante</td>\n",
       "      <td>35061866</td>\n",
       "    </tr>\n",
       "  </tbody>\n",
       "</table>\n",
       "</div>"
      ],
      "text/plain": [
       "  provincia    PIB pm\n",
       "0  albacete   7762548\n",
       "1  alicante  35061866"
      ]
     },
     "execution_count": 1568,
     "metadata": {},
     "output_type": "execute_result"
    }
   ],
   "source": [
    "pib.head(2)"
   ]
  },
  {
   "cell_type": "code",
   "execution_count": 1569,
   "metadata": {
    "scrolled": false
   },
   "outputs": [
    {
     "data": {
      "text/plain": [
       "0    albacete\n",
       "1    alicante\n",
       "Name: provincia, dtype: object"
      ]
     },
     "execution_count": 1569,
     "metadata": {},
     "output_type": "execute_result"
    }
   ],
   "source": [
    "pib['provincia'].drop_duplicates().head(2)\n",
    "# faltan 4 provincias"
   ]
  },
  {
   "cell_type": "code",
   "execution_count": 1570,
   "metadata": {},
   "outputs": [],
   "source": [
    "pib['provincia'].replace(\"balears_illes\",\"illes_balears\", inplace=True, regex=True)\n",
    "pib['provincia'].replace(\"palmas_las\",\"las_palmas\", inplace=True, regex=True)\n",
    "pib['provincia'].replace(\"rioja_la\",\"la_rioja\", inplace=True, regex=True)"
   ]
  },
  {
   "cell_type": "code",
   "execution_count": 1571,
   "metadata": {},
   "outputs": [],
   "source": [
    "pib.rename(columns={'PIB pm': 'pib'}, inplace=True)\n",
    "\n",
    "new_names = [(i,'prov_'+i) for i in pib.iloc[:, :].columns.values]\n",
    "pib.rename(columns = dict(new_names), inplace=True)"
   ]
  },
  {
   "cell_type": "code",
   "execution_count": 1572,
   "metadata": {
    "scrolled": true
   },
   "outputs": [
    {
     "name": "stdout",
     "output_type": "stream",
     "text": [
      "num registros maestro: 6066\n",
      "num registros fichero para unir: 52\n",
      "num agrupaciones maestro: (52, 1)\n",
      "num agrupaciones union: (52, 1)\n",
      "num agrupaciones tras match: (52, 2)\n",
      "columnas final: Index(['prov_provincia', 'prov_pib', 'province', 'matches'], dtype='object')\n",
      "num registros tras union: (52, 2)\n"
     ]
    }
   ],
   "source": [
    "union_agup_sandra_3 = union_agrup(maestro_nivel_municipio_ori, pib, 'province', 'prov_provincia', threshold=85)"
   ]
  },
  {
   "cell_type": "code",
   "execution_count": 1573,
   "metadata": {
    "scrolled": false
   },
   "outputs": [
    {
     "data": {
      "text/html": [
       "<div>\n",
       "<style scoped>\n",
       "    .dataframe tbody tr th:only-of-type {\n",
       "        vertical-align: middle;\n",
       "    }\n",
       "\n",
       "    .dataframe tbody tr th {\n",
       "        vertical-align: top;\n",
       "    }\n",
       "\n",
       "    .dataframe thead th {\n",
       "        text-align: right;\n",
       "    }\n",
       "</style>\n",
       "<table border=\"1\" class=\"dataframe\">\n",
       "  <thead>\n",
       "    <tr style=\"text-align: right;\">\n",
       "      <th></th>\n",
       "      <th>prov_pib</th>\n",
       "      <th>province</th>\n",
       "    </tr>\n",
       "  </thead>\n",
       "  <tbody>\n",
       "    <tr>\n",
       "      <th>0</th>\n",
       "      <td>7762548</td>\n",
       "      <td>albacete</td>\n",
       "    </tr>\n",
       "    <tr>\n",
       "      <th>1</th>\n",
       "      <td>35061866</td>\n",
       "      <td>alicante</td>\n",
       "    </tr>\n",
       "  </tbody>\n",
       "</table>\n",
       "</div>"
      ],
      "text/plain": [
       "   prov_pib  province\n",
       "0   7762548  albacete\n",
       "1  35061866  alicante"
      ]
     },
     "execution_count": 1573,
     "metadata": {},
     "output_type": "execute_result"
    }
   ],
   "source": [
    "union_agup_sandra_3.head(2)"
   ]
  },
  {
   "cell_type": "code",
   "execution_count": 1574,
   "metadata": {},
   "outputs": [],
   "source": [
    "union_sandra_3 = pd.merge(union_sandra_1, union_agup_sandra_3, left_on='province',right_on='province', how='left')"
   ]
  },
  {
   "cell_type": "code",
   "execution_count": 1575,
   "metadata": {},
   "outputs": [
    {
     "data": {
      "text/html": [
       "<div>\n",
       "<style scoped>\n",
       "    .dataframe tbody tr th:only-of-type {\n",
       "        vertical-align: middle;\n",
       "    }\n",
       "\n",
       "    .dataframe tbody tr th {\n",
       "        vertical-align: top;\n",
       "    }\n",
       "\n",
       "    .dataframe thead th {\n",
       "        text-align: right;\n",
       "    }\n",
       "</style>\n",
       "<table border=\"1\" class=\"dataframe\">\n",
       "  <thead>\n",
       "    <tr style=\"text-align: right;\">\n",
       "      <th></th>\n",
       "      <th>cities_es</th>\n",
       "      <th>cities</th>\n",
       "      <th>province_es</th>\n",
       "      <th>province</th>\n",
       "      <th>ccaa_es</th>\n",
       "      <th>ccaa</th>\n",
       "      <th>cities_es/province</th>\n",
       "      <th>provincia_original</th>\n",
       "      <th>municipio_original</th>\n",
       "      <th>muni_agrup</th>\n",
       "      <th>...</th>\n",
       "      <th>f_construccion</th>\n",
       "      <th>comercio_transporte_y_hosteleria</th>\n",
       "      <th>j_informacion_y_comunicaciones</th>\n",
       "      <th>k_actividades_financieras_y_de_seguros</th>\n",
       "      <th>l_actividades_inmobiliarias</th>\n",
       "      <th>actividades_profesionales_y_tecnicas</th>\n",
       "      <th>educacion_sanidad_y_servicios_sociales</th>\n",
       "      <th>otros_servicios_personales</th>\n",
       "      <th>total_servicios</th>\n",
       "      <th>prov_pib</th>\n",
       "    </tr>\n",
       "  </thead>\n",
       "  <tbody>\n",
       "  </tbody>\n",
       "</table>\n",
       "<p>0 rows × 22 columns</p>\n",
       "</div>"
      ],
      "text/plain": [
       "Empty DataFrame\n",
       "Columns: [cities_es, cities, province_es, province, ccaa_es, ccaa, cities_es/province, provincia_original, municipio_original, muni_agrup, total_comercios, b_e_industria, f_construccion, comercio_transporte_y_hosteleria, j_informacion_y_comunicaciones, k_actividades_financieras_y_de_seguros, l_actividades_inmobiliarias, actividades_profesionales_y_tecnicas, educacion_sanidad_y_servicios_sociales, otros_servicios_personales, total_servicios, prov_pib]\n",
       "Index: []\n",
       "\n",
       "[0 rows x 22 columns]"
      ]
     },
     "execution_count": 1575,
     "metadata": {},
     "output_type": "execute_result"
    }
   ],
   "source": [
    "# comprobacion duplicados\n",
    "union_sandra_3[union_sandra_3.duplicated()]"
   ]
  },
  {
   "cell_type": "code",
   "execution_count": 1576,
   "metadata": {
    "scrolled": true
   },
   "outputs": [
    {
     "data": {
      "text/html": [
       "<div>\n",
       "<style scoped>\n",
       "    .dataframe tbody tr th:only-of-type {\n",
       "        vertical-align: middle;\n",
       "    }\n",
       "\n",
       "    .dataframe tbody tr th {\n",
       "        vertical-align: top;\n",
       "    }\n",
       "\n",
       "    .dataframe thead th {\n",
       "        text-align: right;\n",
       "    }\n",
       "</style>\n",
       "<table border=\"1\" class=\"dataframe\">\n",
       "  <thead>\n",
       "    <tr style=\"text-align: right;\">\n",
       "      <th></th>\n",
       "      <th>cities_es</th>\n",
       "      <th>cities</th>\n",
       "      <th>province_es</th>\n",
       "      <th>province</th>\n",
       "      <th>ccaa_es</th>\n",
       "      <th>ccaa</th>\n",
       "      <th>cities_es/province</th>\n",
       "      <th>provincia_original</th>\n",
       "      <th>municipio_original</th>\n",
       "      <th>muni_agrup</th>\n",
       "      <th>...</th>\n",
       "      <th>f_construccion</th>\n",
       "      <th>comercio_transporte_y_hosteleria</th>\n",
       "      <th>j_informacion_y_comunicaciones</th>\n",
       "      <th>k_actividades_financieras_y_de_seguros</th>\n",
       "      <th>l_actividades_inmobiliarias</th>\n",
       "      <th>actividades_profesionales_y_tecnicas</th>\n",
       "      <th>educacion_sanidad_y_servicios_sociales</th>\n",
       "      <th>otros_servicios_personales</th>\n",
       "      <th>total_servicios</th>\n",
       "      <th>prov_pib</th>\n",
       "    </tr>\n",
       "  </thead>\n",
       "  <tbody>\n",
       "    <tr>\n",
       "      <th>0</th>\n",
       "      <td>alegria_dulantzi</td>\n",
       "      <td>alegria_dulantzi</td>\n",
       "      <td>alava</td>\n",
       "      <td>araba</td>\n",
       "      <td>pais_vasco</td>\n",
       "      <td>pais_vasco</td>\n",
       "      <td>alegria_dulantzi/araba</td>\n",
       "      <td>Araba/Álava</td>\n",
       "      <td>Alegría-Dulantzi</td>\n",
       "      <td>alegria_dulantzi/pais_vasco</td>\n",
       "      <td>...</td>\n",
       "      <td>0.0</td>\n",
       "      <td>0.0</td>\n",
       "      <td>0.0</td>\n",
       "      <td>0.0</td>\n",
       "      <td>0.0</td>\n",
       "      <td>0.0</td>\n",
       "      <td>0.0</td>\n",
       "      <td>0.0</td>\n",
       "      <td>0.0</td>\n",
       "      <td>11983377</td>\n",
       "    </tr>\n",
       "    <tr>\n",
       "      <th>1</th>\n",
       "      <td>amurrio</td>\n",
       "      <td>amurrio</td>\n",
       "      <td>alava</td>\n",
       "      <td>araba</td>\n",
       "      <td>pais_vasco</td>\n",
       "      <td>pais_vasco</td>\n",
       "      <td>amurrio/araba</td>\n",
       "      <td>Araba/Álava</td>\n",
       "      <td>Amurrio</td>\n",
       "      <td>amurrio/pais_vasco</td>\n",
       "      <td>...</td>\n",
       "      <td>0.0</td>\n",
       "      <td>0.0</td>\n",
       "      <td>0.0</td>\n",
       "      <td>0.0</td>\n",
       "      <td>0.0</td>\n",
       "      <td>0.0</td>\n",
       "      <td>0.0</td>\n",
       "      <td>0.0</td>\n",
       "      <td>0.0</td>\n",
       "      <td>11983377</td>\n",
       "    </tr>\n",
       "  </tbody>\n",
       "</table>\n",
       "<p>2 rows × 22 columns</p>\n",
       "</div>"
      ],
      "text/plain": [
       "          cities_es            cities province_es province     ccaa_es  \\\n",
       "0  alegria_dulantzi  alegria_dulantzi       alava    araba  pais_vasco   \n",
       "1           amurrio           amurrio       alava    araba  pais_vasco   \n",
       "\n",
       "         ccaa      cities_es/province provincia_original municipio_original  \\\n",
       "0  pais_vasco  alegria_dulantzi/araba        Araba/Álava   Alegría-Dulantzi   \n",
       "1  pais_vasco           amurrio/araba        Araba/Álava            Amurrio   \n",
       "\n",
       "                    muni_agrup  ...  f_construccion  \\\n",
       "0  alegria_dulantzi/pais_vasco  ...             0.0   \n",
       "1           amurrio/pais_vasco  ...             0.0   \n",
       "\n",
       "   comercio_transporte_y_hosteleria  j_informacion_y_comunicaciones  \\\n",
       "0                               0.0                             0.0   \n",
       "1                               0.0                             0.0   \n",
       "\n",
       "   k_actividades_financieras_y_de_seguros  l_actividades_inmobiliarias  \\\n",
       "0                                     0.0                          0.0   \n",
       "1                                     0.0                          0.0   \n",
       "\n",
       "   actividades_profesionales_y_tecnicas  \\\n",
       "0                                   0.0   \n",
       "1                                   0.0   \n",
       "\n",
       "   educacion_sanidad_y_servicios_sociales  otros_servicios_personales  \\\n",
       "0                                     0.0                         0.0   \n",
       "1                                     0.0                         0.0   \n",
       "\n",
       "   total_servicios  prov_pib  \n",
       "0              0.0  11983377  \n",
       "1              0.0  11983377  \n",
       "\n",
       "[2 rows x 22 columns]"
      ]
     },
     "execution_count": 1576,
     "metadata": {},
     "output_type": "execute_result"
    }
   ],
   "source": [
    "union_sandra_3.head(2)"
   ]
  },
  {
   "cell_type": "code",
   "execution_count": 1577,
   "metadata": {
    "scrolled": true
   },
   "outputs": [
    {
     "data": {
      "text/plain": [
       "(6066, 22)"
      ]
     },
     "execution_count": 1577,
     "metadata": {},
     "output_type": "execute_result"
    }
   ],
   "source": [
    "union_sandra_3.shape"
   ]
  },
  {
   "cell_type": "code",
   "execution_count": 1578,
   "metadata": {},
   "outputs": [],
   "source": [
    "union_sandra_3.to_csv(\"union_sandra2.csv\")"
   ]
  },
  {
   "cell_type": "markdown",
   "metadata": {},
   "source": [
    "## Bloques"
   ]
  },
  {
   "cell_type": "code",
   "execution_count": 4,
   "metadata": {},
   "outputs": [
    {
     "data": {
      "text/plain": [
       "(6066, 9)"
      ]
     },
     "execution_count": 4,
     "metadata": {},
     "output_type": "execute_result"
    }
   ],
   "source": [
    "maestro = pd.read_csv(\"maestro/maestro_nivel_municipio_ori.csv\", index_col=0 )\n",
    "maestro.shape"
   ]
  },
  {
   "cell_type": "code",
   "execution_count": 5,
   "metadata": {},
   "outputs": [
    {
     "data": {
      "text/html": [
       "<div>\n",
       "<style scoped>\n",
       "    .dataframe tbody tr th:only-of-type {\n",
       "        vertical-align: middle;\n",
       "    }\n",
       "\n",
       "    .dataframe tbody tr th {\n",
       "        vertical-align: top;\n",
       "    }\n",
       "\n",
       "    .dataframe thead th {\n",
       "        text-align: right;\n",
       "    }\n",
       "</style>\n",
       "<table border=\"1\" class=\"dataframe\">\n",
       "  <thead>\n",
       "    <tr style=\"text-align: right;\">\n",
       "      <th></th>\n",
       "      <th>cities_es</th>\n",
       "      <th>cities</th>\n",
       "      <th>province_es</th>\n",
       "      <th>province</th>\n",
       "      <th>ccaa_es</th>\n",
       "      <th>ccaa</th>\n",
       "      <th>cities_es/province</th>\n",
       "      <th>provincia_original</th>\n",
       "      <th>municipio_original</th>\n",
       "    </tr>\n",
       "  </thead>\n",
       "  <tbody>\n",
       "  </tbody>\n",
       "</table>\n",
       "</div>"
      ],
      "text/plain": [
       "Empty DataFrame\n",
       "Columns: [cities_es, cities, province_es, province, ccaa_es, ccaa, cities_es/province, provincia_original, municipio_original]\n",
       "Index: []"
      ]
     },
     "execution_count": 5,
     "metadata": {},
     "output_type": "execute_result"
    }
   ],
   "source": [
    "maestro[maestro.duplicated(subset=['cities_es/province'])]"
   ]
  },
  {
   "cell_type": "code",
   "execution_count": 6,
   "metadata": {},
   "outputs": [
    {
     "data": {
      "text/html": [
       "<div>\n",
       "<style scoped>\n",
       "    .dataframe tbody tr th:only-of-type {\n",
       "        vertical-align: middle;\n",
       "    }\n",
       "\n",
       "    .dataframe tbody tr th {\n",
       "        vertical-align: top;\n",
       "    }\n",
       "\n",
       "    .dataframe thead th {\n",
       "        text-align: right;\n",
       "    }\n",
       "</style>\n",
       "<table border=\"1\" class=\"dataframe\">\n",
       "  <thead>\n",
       "    <tr style=\"text-align: right;\">\n",
       "      <th></th>\n",
       "      <th>cities_es</th>\n",
       "      <th>cities</th>\n",
       "      <th>province_es</th>\n",
       "      <th>province</th>\n",
       "      <th>ccaa_es</th>\n",
       "      <th>ccaa</th>\n",
       "      <th>cities_es/province</th>\n",
       "      <th>provincia_original</th>\n",
       "      <th>municipio_original</th>\n",
       "    </tr>\n",
       "  </thead>\n",
       "  <tbody>\n",
       "    <tr>\n",
       "      <th>129</th>\n",
       "      <td>alicante</td>\n",
       "      <td>alicante</td>\n",
       "      <td>alicante</td>\n",
       "      <td>alicante</td>\n",
       "      <td>comunidad_valenciana</td>\n",
       "      <td>comunitat_valenciana</td>\n",
       "      <td>alicante/alicante</td>\n",
       "      <td>Alicante/Alacant</td>\n",
       "      <td>Alicante/Alacant</td>\n",
       "    </tr>\n",
       "  </tbody>\n",
       "</table>\n",
       "</div>"
      ],
      "text/plain": [
       "    cities_es    cities province_es  province               ccaa_es  \\\n",
       "129  alicante  alicante    alicante  alicante  comunidad_valenciana   \n",
       "\n",
       "                     ccaa cities_es/province provincia_original  \\\n",
       "129  comunitat_valenciana  alicante/alicante   Alicante/Alacant   \n",
       "\n",
       "    municipio_original  \n",
       "129   Alicante/Alacant  "
      ]
     },
     "execution_count": 6,
     "metadata": {},
     "output_type": "execute_result"
    }
   ],
   "source": [
    "maestro[maestro['cities_es/province']=='alicante/alicante']"
   ]
  },
  {
   "cell_type": "code",
   "execution_count": 7,
   "metadata": {},
   "outputs": [
    {
     "data": {
      "text/html": [
       "<div>\n",
       "<style scoped>\n",
       "    .dataframe tbody tr th:only-of-type {\n",
       "        vertical-align: middle;\n",
       "    }\n",
       "\n",
       "    .dataframe tbody tr th {\n",
       "        vertical-align: top;\n",
       "    }\n",
       "\n",
       "    .dataframe thead th {\n",
       "        text-align: right;\n",
       "    }\n",
       "</style>\n",
       "<table border=\"1\" class=\"dataframe\">\n",
       "  <thead>\n",
       "    <tr style=\"text-align: right;\">\n",
       "      <th></th>\n",
       "      <th>cities_es</th>\n",
       "      <th>cities</th>\n",
       "      <th>province_es</th>\n",
       "      <th>province</th>\n",
       "      <th>ccaa_es</th>\n",
       "      <th>ccaa</th>\n",
       "      <th>cities_es/province</th>\n",
       "      <th>provincia_original</th>\n",
       "      <th>municipio_original</th>\n",
       "    </tr>\n",
       "  </thead>\n",
       "  <tbody>\n",
       "    <tr>\n",
       "      <th>0</th>\n",
       "      <td>alegria_dulantzi</td>\n",
       "      <td>alegria_dulantzi</td>\n",
       "      <td>alava</td>\n",
       "      <td>araba</td>\n",
       "      <td>pais_vasco</td>\n",
       "      <td>pais_vasco</td>\n",
       "      <td>alegria_dulantzi/araba</td>\n",
       "      <td>Araba/Álava</td>\n",
       "      <td>Alegría-Dulantzi</td>\n",
       "    </tr>\n",
       "    <tr>\n",
       "      <th>1</th>\n",
       "      <td>amurrio</td>\n",
       "      <td>amurrio</td>\n",
       "      <td>alava</td>\n",
       "      <td>araba</td>\n",
       "      <td>pais_vasco</td>\n",
       "      <td>pais_vasco</td>\n",
       "      <td>amurrio/araba</td>\n",
       "      <td>Araba/Álava</td>\n",
       "      <td>Amurrio</td>\n",
       "    </tr>\n",
       "    <tr>\n",
       "      <th>2</th>\n",
       "      <td>aramaio</td>\n",
       "      <td>aramaio</td>\n",
       "      <td>alava</td>\n",
       "      <td>araba</td>\n",
       "      <td>pais_vasco</td>\n",
       "      <td>pais_vasco</td>\n",
       "      <td>aramaio/araba</td>\n",
       "      <td>Araba/Álava</td>\n",
       "      <td>Aramaio</td>\n",
       "    </tr>\n",
       "    <tr>\n",
       "      <th>3</th>\n",
       "      <td>artziniega</td>\n",
       "      <td>artziniega</td>\n",
       "      <td>alava</td>\n",
       "      <td>araba</td>\n",
       "      <td>pais_vasco</td>\n",
       "      <td>pais_vasco</td>\n",
       "      <td>artziniega/araba</td>\n",
       "      <td>Araba/Álava</td>\n",
       "      <td>Artziniega</td>\n",
       "    </tr>\n",
       "    <tr>\n",
       "      <th>4</th>\n",
       "      <td>arminon</td>\n",
       "      <td>arminon</td>\n",
       "      <td>alava</td>\n",
       "      <td>araba</td>\n",
       "      <td>pais_vasco</td>\n",
       "      <td>pais_vasco</td>\n",
       "      <td>arminon/araba</td>\n",
       "      <td>Araba/Álava</td>\n",
       "      <td>Armiñón</td>\n",
       "    </tr>\n",
       "  </tbody>\n",
       "</table>\n",
       "</div>"
      ],
      "text/plain": [
       "          cities_es            cities province_es province     ccaa_es  \\\n",
       "0  alegria_dulantzi  alegria_dulantzi       alava    araba  pais_vasco   \n",
       "1           amurrio           amurrio       alava    araba  pais_vasco   \n",
       "2           aramaio           aramaio       alava    araba  pais_vasco   \n",
       "3        artziniega        artziniega       alava    araba  pais_vasco   \n",
       "4           arminon           arminon       alava    araba  pais_vasco   \n",
       "\n",
       "         ccaa      cities_es/province provincia_original municipio_original  \n",
       "0  pais_vasco  alegria_dulantzi/araba        Araba/Álava   Alegría-Dulantzi  \n",
       "1  pais_vasco           amurrio/araba        Araba/Álava            Amurrio  \n",
       "2  pais_vasco           aramaio/araba        Araba/Álava            Aramaio  \n",
       "3  pais_vasco        artziniega/araba        Araba/Álava         Artziniega  \n",
       "4  pais_vasco           arminon/araba        Araba/Álava            Armiñón  "
      ]
     },
     "execution_count": 7,
     "metadata": {},
     "output_type": "execute_result"
    }
   ],
   "source": [
    "maestro.head()"
   ]
  },
  {
   "cell_type": "code",
   "execution_count": 8,
   "metadata": {},
   "outputs": [
    {
     "data": {
      "text/plain": [
       "(6066, 51)"
      ]
     },
     "execution_count": 8,
     "metadata": {},
     "output_type": "execute_result"
    }
   ],
   "source": [
    "patri = pd.read_csv(\"maestro/union_patri2.csv\", index_col=0 )\n",
    "patri.shape"
   ]
  },
  {
   "cell_type": "code",
   "execution_count": 9,
   "metadata": {},
   "outputs": [
    {
     "data": {
      "text/html": [
       "<div>\n",
       "<style scoped>\n",
       "    .dataframe tbody tr th:only-of-type {\n",
       "        vertical-align: middle;\n",
       "    }\n",
       "\n",
       "    .dataframe tbody tr th {\n",
       "        vertical-align: top;\n",
       "    }\n",
       "\n",
       "    .dataframe thead th {\n",
       "        text-align: right;\n",
       "    }\n",
       "</style>\n",
       "<table border=\"1\" class=\"dataframe\">\n",
       "  <thead>\n",
       "    <tr style=\"text-align: right;\">\n",
       "      <th></th>\n",
       "      <th>cities_es</th>\n",
       "      <th>cities</th>\n",
       "      <th>province_es</th>\n",
       "      <th>province</th>\n",
       "      <th>ccaa_es</th>\n",
       "      <th>ccaa</th>\n",
       "      <th>cities_es/province</th>\n",
       "      <th>provincia_original</th>\n",
       "      <th>municipio_original</th>\n",
       "      <th>num_bibliotecas</th>\n",
       "      <th>...</th>\n",
       "      <th>num_establec_otros_servicios</th>\n",
       "      <th>num_establec_palacios_de_congresos</th>\n",
       "      <th>num_establec_playas</th>\n",
       "      <th>num_establec_puertos_deportivos</th>\n",
       "      <th>num_establec_restaurantes_y_empresas_turísticas_de_catering</th>\n",
       "      <th>num_establec_seguridad_ciudadana</th>\n",
       "      <th>num_establec_servicios_de_limpieza</th>\n",
       "      <th>num_establec_servicios_turísticos_de_salud</th>\n",
       "      <th>num_establec_taxis</th>\n",
       "      <th>num_establec_turismo_industrial</th>\n",
       "    </tr>\n",
       "  </thead>\n",
       "  <tbody>\n",
       "    <tr>\n",
       "      <th>0</th>\n",
       "      <td>alegria_dulantzi</td>\n",
       "      <td>alegria_dulantzi</td>\n",
       "      <td>alava</td>\n",
       "      <td>araba</td>\n",
       "      <td>pais_vasco</td>\n",
       "      <td>pais_vasco</td>\n",
       "      <td>alegria_dulantzi/araba</td>\n",
       "      <td>Araba/Álava</td>\n",
       "      <td>Alegría-Dulantzi</td>\n",
       "      <td>1.0</td>\n",
       "      <td>...</td>\n",
       "      <td>0.0</td>\n",
       "      <td>0.0</td>\n",
       "      <td>0.0</td>\n",
       "      <td>0.0</td>\n",
       "      <td>0.0</td>\n",
       "      <td>0.0</td>\n",
       "      <td>0.0</td>\n",
       "      <td>0.0</td>\n",
       "      <td>0.0</td>\n",
       "      <td>0.0</td>\n",
       "    </tr>\n",
       "    <tr>\n",
       "      <th>1</th>\n",
       "      <td>amurrio</td>\n",
       "      <td>amurrio</td>\n",
       "      <td>alava</td>\n",
       "      <td>araba</td>\n",
       "      <td>pais_vasco</td>\n",
       "      <td>pais_vasco</td>\n",
       "      <td>amurrio/araba</td>\n",
       "      <td>Araba/Álava</td>\n",
       "      <td>Amurrio</td>\n",
       "      <td>1.0</td>\n",
       "      <td>...</td>\n",
       "      <td>0.0</td>\n",
       "      <td>0.0</td>\n",
       "      <td>0.0</td>\n",
       "      <td>0.0</td>\n",
       "      <td>1.0</td>\n",
       "      <td>0.0</td>\n",
       "      <td>0.0</td>\n",
       "      <td>0.0</td>\n",
       "      <td>0.0</td>\n",
       "      <td>0.0</td>\n",
       "    </tr>\n",
       "  </tbody>\n",
       "</table>\n",
       "<p>2 rows × 51 columns</p>\n",
       "</div>"
      ],
      "text/plain": [
       "          cities_es            cities province_es province     ccaa_es  \\\n",
       "0  alegria_dulantzi  alegria_dulantzi       alava    araba  pais_vasco   \n",
       "1           amurrio           amurrio       alava    araba  pais_vasco   \n",
       "\n",
       "         ccaa      cities_es/province provincia_original municipio_original  \\\n",
       "0  pais_vasco  alegria_dulantzi/araba        Araba/Álava   Alegría-Dulantzi   \n",
       "1  pais_vasco           amurrio/araba        Araba/Álava            Amurrio   \n",
       "\n",
       "   num_bibliotecas  ...  num_establec_otros_servicios  \\\n",
       "0              1.0  ...                           0.0   \n",
       "1              1.0  ...                           0.0   \n",
       "\n",
       "   num_establec_palacios_de_congresos  num_establec_playas  \\\n",
       "0                                 0.0                  0.0   \n",
       "1                                 0.0                  0.0   \n",
       "\n",
       "   num_establec_puertos_deportivos  \\\n",
       "0                              0.0   \n",
       "1                              0.0   \n",
       "\n",
       "   num_establec_restaurantes_y_empresas_turísticas_de_catering  \\\n",
       "0                                                0.0             \n",
       "1                                                1.0             \n",
       "\n",
       "   num_establec_seguridad_ciudadana  num_establec_servicios_de_limpieza  \\\n",
       "0                               0.0                                 0.0   \n",
       "1                               0.0                                 0.0   \n",
       "\n",
       "   num_establec_servicios_turísticos_de_salud  num_establec_taxis  \\\n",
       "0                                         0.0                 0.0   \n",
       "1                                         0.0                 0.0   \n",
       "\n",
       "   num_establec_turismo_industrial  \n",
       "0                              0.0  \n",
       "1                              0.0  \n",
       "\n",
       "[2 rows x 51 columns]"
      ]
     },
     "execution_count": 9,
     "metadata": {},
     "output_type": "execute_result"
    }
   ],
   "source": [
    "patri.head(2)"
   ]
  },
  {
   "cell_type": "code",
   "execution_count": 10,
   "metadata": {},
   "outputs": [
    {
     "data": {
      "text/plain": [
       "Index(['cities_es', 'cities', 'province_es', 'province', 'ccaa_es', 'ccaa',\n",
       "       'cities_es/province', 'provincia_original', 'municipio_original',\n",
       "       'num_bibliotecas', 'num_hospitales', 'num_centros_salud',\n",
       "       'num_colegios_privados', 'num_colegios_publicos', 'num_guardia_civil',\n",
       "       'num_universidades_privadas', 'num_universidades_publicas',\n",
       "       'num_tit_uni_privadas', 'num_tit_uni_publicas',\n",
       "       'num_establec_agencias_de_viajes', 'num_establec_albergues',\n",
       "       'num_establec_alojamientos_rurales', 'num_establec_artesanos',\n",
       "       'num_establec_atraque_de_cruceros_y_ferries',\n",
       "       'num_establec_bares_y_cafeterías', 'num_establec_bodegas',\n",
       "       'num_establec_campings',\n",
       "       'num_establec_campos_de_golf_y_campos_de_pitch&putt',\n",
       "       'num_establec_comercios', 'num_establec_convention_bureaux',\n",
       "       'num_establec_empresas_de_alquiler_de_vehículos_y_embarcaciones',\n",
       "       'num_establec_empresas_de_transporte_turístico',\n",
       "       'num_establec_empresas_de_turismo_activo',\n",
       "       'num_establec_escuelas_de_español_para_extranjeros',\n",
       "       'num_establec_espacios_naturales_protegidos',\n",
       "       'num_establec_estaciones_de_esquí_y_montaña',\n",
       "       'num_establec_guías_turísticos',\n",
       "       'num_establec_hoteles_y_apartamentos_turísticos',\n",
       "       'num_establec_museos_y_centros_de_interés_turístico_visitable',\n",
       "       'num_establec_opc', 'num_establec_oficinas_de_información_turística',\n",
       "       'num_establec_otros_servicios', 'num_establec_palacios_de_congresos',\n",
       "       'num_establec_playas', 'num_establec_puertos_deportivos',\n",
       "       'num_establec_restaurantes_y_empresas_turísticas_de_catering',\n",
       "       'num_establec_seguridad_ciudadana',\n",
       "       'num_establec_servicios_de_limpieza',\n",
       "       'num_establec_servicios_turísticos_de_salud', 'num_establec_taxis',\n",
       "       'num_establec_turismo_industrial'],\n",
       "      dtype='object')"
      ]
     },
     "execution_count": 10,
     "metadata": {},
     "output_type": "execute_result"
    }
   ],
   "source": [
    "patri.columns"
   ]
  },
  {
   "cell_type": "code",
   "execution_count": 11,
   "metadata": {},
   "outputs": [],
   "source": [
    "patri.drop(columns=['cities_es', 'cities', 'province_es', 'province', 'ccaa_es', 'ccaa',\n",
    "       'provincia_original', 'municipio_original'], inplace=True)"
   ]
  },
  {
   "cell_type": "code",
   "execution_count": 12,
   "metadata": {},
   "outputs": [
    {
     "data": {
      "text/plain": [
       "(6066, 51)"
      ]
     },
     "execution_count": 12,
     "metadata": {},
     "output_type": "execute_result"
    }
   ],
   "source": [
    "union = pd.merge(maestro, patri, left_on='cities_es/province', right_on='cities_es/province', how='left')\n",
    "union.shape"
   ]
  },
  {
   "cell_type": "code",
   "execution_count": 13,
   "metadata": {},
   "outputs": [
    {
     "data": {
      "text/plain": [
       "(6066, 88)"
      ]
     },
     "execution_count": 13,
     "metadata": {},
     "output_type": "execute_result"
    }
   ],
   "source": [
    "mar = pd.read_csv(\"maestro/union_mar2.csv\", index_col=0 )\n",
    "mar.shape"
   ]
  },
  {
   "cell_type": "code",
   "execution_count": 14,
   "metadata": {},
   "outputs": [
    {
     "data": {
      "text/html": [
       "<div>\n",
       "<style scoped>\n",
       "    .dataframe tbody tr th:only-of-type {\n",
       "        vertical-align: middle;\n",
       "    }\n",
       "\n",
       "    .dataframe tbody tr th {\n",
       "        vertical-align: top;\n",
       "    }\n",
       "\n",
       "    .dataframe thead th {\n",
       "        text-align: right;\n",
       "    }\n",
       "</style>\n",
       "<table border=\"1\" class=\"dataframe\">\n",
       "  <thead>\n",
       "    <tr style=\"text-align: right;\">\n",
       "      <th></th>\n",
       "      <th>cities_es</th>\n",
       "      <th>cities</th>\n",
       "      <th>province_es</th>\n",
       "      <th>province</th>\n",
       "      <th>ccaa_es</th>\n",
       "      <th>ccaa</th>\n",
       "      <th>cities_es/province</th>\n",
       "      <th>provincia_original</th>\n",
       "      <th>municipio_original</th>\n",
       "      <th>hombres_total</th>\n",
       "      <th>...</th>\n",
       "      <th>prov_nw_91_anual</th>\n",
       "      <th>prov_w_med_anual</th>\n",
       "      <th>prov_ta_max_anual</th>\n",
       "      <th>prov_ta_min_anual</th>\n",
       "      <th>prov_co</th>\n",
       "      <th>prov_no2</th>\n",
       "      <th>prov_o3</th>\n",
       "      <th>prov_pm10</th>\n",
       "      <th>prov_pm25</th>\n",
       "      <th>prov_so2</th>\n",
       "    </tr>\n",
       "  </thead>\n",
       "  <tbody>\n",
       "    <tr>\n",
       "      <th>0</th>\n",
       "      <td>alegria_dulantzi</td>\n",
       "      <td>alegria_dulantzi</td>\n",
       "      <td>alava</td>\n",
       "      <td>araba</td>\n",
       "      <td>pais_vasco</td>\n",
       "      <td>pais_vasco</td>\n",
       "      <td>alegria_dulantzi/araba</td>\n",
       "      <td>Araba/Álava</td>\n",
       "      <td>Alegría-Dulantzi</td>\n",
       "      <td>124813.0</td>\n",
       "      <td>...</td>\n",
       "      <td>0.25</td>\n",
       "      <td>12.545455</td>\n",
       "      <td>39.7(29/jun)</td>\n",
       "      <td>-7.7(06/ene)</td>\n",
       "      <td>181.640625</td>\n",
       "      <td>11.231788</td>\n",
       "      <td>60.081871</td>\n",
       "      <td>57.170569</td>\n",
       "      <td>17.972222</td>\n",
       "      <td>1.871429</td>\n",
       "    </tr>\n",
       "    <tr>\n",
       "      <th>1</th>\n",
       "      <td>amurrio</td>\n",
       "      <td>amurrio</td>\n",
       "      <td>alava</td>\n",
       "      <td>araba</td>\n",
       "      <td>pais_vasco</td>\n",
       "      <td>pais_vasco</td>\n",
       "      <td>amurrio/araba</td>\n",
       "      <td>Araba/Álava</td>\n",
       "      <td>Amurrio</td>\n",
       "      <td>8506.0</td>\n",
       "      <td>...</td>\n",
       "      <td>0.25</td>\n",
       "      <td>12.545455</td>\n",
       "      <td>39.7(29/jun)</td>\n",
       "      <td>-7.7(06/ene)</td>\n",
       "      <td>181.640625</td>\n",
       "      <td>11.231788</td>\n",
       "      <td>60.081871</td>\n",
       "      <td>57.170569</td>\n",
       "      <td>17.972222</td>\n",
       "      <td>1.871429</td>\n",
       "    </tr>\n",
       "    <tr>\n",
       "      <th>2</th>\n",
       "      <td>aramaio</td>\n",
       "      <td>aramaio</td>\n",
       "      <td>alava</td>\n",
       "      <td>araba</td>\n",
       "      <td>pais_vasco</td>\n",
       "      <td>pais_vasco</td>\n",
       "      <td>aramaio/araba</td>\n",
       "      <td>Araba/Álava</td>\n",
       "      <td>Aramaio</td>\n",
       "      <td>764.0</td>\n",
       "      <td>...</td>\n",
       "      <td>0.25</td>\n",
       "      <td>12.545455</td>\n",
       "      <td>39.7(29/jun)</td>\n",
       "      <td>-7.7(06/ene)</td>\n",
       "      <td>181.640625</td>\n",
       "      <td>11.231788</td>\n",
       "      <td>60.081871</td>\n",
       "      <td>57.170569</td>\n",
       "      <td>17.972222</td>\n",
       "      <td>1.871429</td>\n",
       "    </tr>\n",
       "    <tr>\n",
       "      <th>3</th>\n",
       "      <td>artziniega</td>\n",
       "      <td>artziniega</td>\n",
       "      <td>alava</td>\n",
       "      <td>araba</td>\n",
       "      <td>pais_vasco</td>\n",
       "      <td>pais_vasco</td>\n",
       "      <td>artziniega/araba</td>\n",
       "      <td>Araba/Álava</td>\n",
       "      <td>Artziniega</td>\n",
       "      <td>2406.0</td>\n",
       "      <td>...</td>\n",
       "      <td>0.25</td>\n",
       "      <td>12.545455</td>\n",
       "      <td>39.7(29/jun)</td>\n",
       "      <td>-7.7(06/ene)</td>\n",
       "      <td>181.640625</td>\n",
       "      <td>11.231788</td>\n",
       "      <td>60.081871</td>\n",
       "      <td>57.170569</td>\n",
       "      <td>17.972222</td>\n",
       "      <td>1.871429</td>\n",
       "    </tr>\n",
       "    <tr>\n",
       "      <th>4</th>\n",
       "      <td>arminon</td>\n",
       "      <td>arminon</td>\n",
       "      <td>alava</td>\n",
       "      <td>araba</td>\n",
       "      <td>pais_vasco</td>\n",
       "      <td>pais_vasco</td>\n",
       "      <td>arminon/araba</td>\n",
       "      <td>Araba/Álava</td>\n",
       "      <td>Armiñón</td>\n",
       "      <td>2523.0</td>\n",
       "      <td>...</td>\n",
       "      <td>0.25</td>\n",
       "      <td>12.545455</td>\n",
       "      <td>39.7(29/jun)</td>\n",
       "      <td>-7.7(06/ene)</td>\n",
       "      <td>181.640625</td>\n",
       "      <td>11.231788</td>\n",
       "      <td>60.081871</td>\n",
       "      <td>57.170569</td>\n",
       "      <td>17.972222</td>\n",
       "      <td>1.871429</td>\n",
       "    </tr>\n",
       "  </tbody>\n",
       "</table>\n",
       "<p>5 rows × 88 columns</p>\n",
       "</div>"
      ],
      "text/plain": [
       "          cities_es            cities province_es province     ccaa_es  \\\n",
       "0  alegria_dulantzi  alegria_dulantzi       alava    araba  pais_vasco   \n",
       "1           amurrio           amurrio       alava    araba  pais_vasco   \n",
       "2           aramaio           aramaio       alava    araba  pais_vasco   \n",
       "3        artziniega        artziniega       alava    araba  pais_vasco   \n",
       "4           arminon           arminon       alava    araba  pais_vasco   \n",
       "\n",
       "         ccaa      cities_es/province provincia_original municipio_original  \\\n",
       "0  pais_vasco  alegria_dulantzi/araba        Araba/Álava   Alegría-Dulantzi   \n",
       "1  pais_vasco           amurrio/araba        Araba/Álava            Amurrio   \n",
       "2  pais_vasco           aramaio/araba        Araba/Álava            Aramaio   \n",
       "3  pais_vasco        artziniega/araba        Araba/Álava         Artziniega   \n",
       "4  pais_vasco           arminon/araba        Araba/Álava            Armiñón   \n",
       "\n",
       "   hombres_total  ...  prov_nw_91_anual  prov_w_med_anual  prov_ta_max_anual  \\\n",
       "0       124813.0  ...              0.25         12.545455       39.7(29/jun)   \n",
       "1         8506.0  ...              0.25         12.545455       39.7(29/jun)   \n",
       "2          764.0  ...              0.25         12.545455       39.7(29/jun)   \n",
       "3         2406.0  ...              0.25         12.545455       39.7(29/jun)   \n",
       "4         2523.0  ...              0.25         12.545455       39.7(29/jun)   \n",
       "\n",
       "   prov_ta_min_anual     prov_co   prov_no2    prov_o3  prov_pm10  prov_pm25  \\\n",
       "0       -7.7(06/ene)  181.640625  11.231788  60.081871  57.170569  17.972222   \n",
       "1       -7.7(06/ene)  181.640625  11.231788  60.081871  57.170569  17.972222   \n",
       "2       -7.7(06/ene)  181.640625  11.231788  60.081871  57.170569  17.972222   \n",
       "3       -7.7(06/ene)  181.640625  11.231788  60.081871  57.170569  17.972222   \n",
       "4       -7.7(06/ene)  181.640625  11.231788  60.081871  57.170569  17.972222   \n",
       "\n",
       "   prov_so2  \n",
       "0  1.871429  \n",
       "1  1.871429  \n",
       "2  1.871429  \n",
       "3  1.871429  \n",
       "4  1.871429  \n",
       "\n",
       "[5 rows x 88 columns]"
      ]
     },
     "execution_count": 14,
     "metadata": {},
     "output_type": "execute_result"
    }
   ],
   "source": [
    "mar.head()"
   ]
  },
  {
   "cell_type": "code",
   "execution_count": 15,
   "metadata": {},
   "outputs": [
    {
     "data": {
      "text/plain": [
       "Index(['cities_es', 'cities', 'province_es', 'province', 'ccaa_es', 'ccaa',\n",
       "       'cities_es/province', 'provincia_original', 'municipio_original',\n",
       "       'hombres_total', 'hombres_de_0_4', 'hombres_de_5_9', 'hombres_de_10_4',\n",
       "       'hombres_de_15_19', 'hombres_de_20_24', 'hombres_de_25_29',\n",
       "       'hombres_de_30_34', 'hombres_de_35_39', 'hombres_de_40_44',\n",
       "       'hombres_de_45_49', 'hombres_de_50_54', 'hombres_de_55_59',\n",
       "       'hombres_de_60_64', 'hombres_de_65_69', 'hombres_de_70_74',\n",
       "       'hombres_de_75_79', 'hombres_de_80_84', 'hombres_de_85_89',\n",
       "       'hombres_de_90_94', 'hombres_de_95_99', 'hombres_de_100_y_mas',\n",
       "       'mujeres_total', 'mujeres_de_0_4', 'mujeres_de_5_9', 'mujeres_de_10_4',\n",
       "       'mujeres_de_15_19', 'mujeres_de_20_24', 'mujeres_de_25_29',\n",
       "       'mujeres_de_30_34', 'mujeres_de_35_39', 'mujeres_de_40_44',\n",
       "       'mujeres_de_45_49', 'mujeres_de_50_54', 'mujeres_de_55_59',\n",
       "       'mujeres_de_60_64', 'mujeres_de_65_69', 'mujeres_de_70_74',\n",
       "       'mujeres_de_75_79', 'mujeres_de_80_84', 'mujeres_de_85_89',\n",
       "       'mujeres_de_90_94', 'mujeres_de_95_99', 'mujeres_de_100_y_mas',\n",
       "       'prov_camiones', 'prov_furgonetas', 'prov_autobuses', 'prov_turismos',\n",
       "       'prov_motocicletas', 'prov_tractores_industriales', 'prov_r_y_s',\n",
       "       'prov_otros_vehiculos', 'prov_total_vehiculos', 'latitud', 'longitud',\n",
       "       'altitud', 'distanica_km_ciudad_cercana', 'cuidad_mas_cercana',\n",
       "       'prov_n_llu_anual', 'prov_n_nub_anual', 'prov_n_nie_anual',\n",
       "       'prov_n_gra_anual', 'prov_n_fog_anual', 'prov_n_des_anual',\n",
       "       'prov_n_cub_anual', 'prov_n_tor_anual', 'prov_nt_00_anual',\n",
       "       'prov_nt_30_anual', 'prov_nw_55_anual', 'prov_nw_91_anual',\n",
       "       'prov_w_med_anual', 'prov_ta_max_anual', 'prov_ta_min_anual', 'prov_co',\n",
       "       'prov_no2', 'prov_o3', 'prov_pm10', 'prov_pm25', 'prov_so2'],\n",
       "      dtype='object')"
      ]
     },
     "execution_count": 15,
     "metadata": {},
     "output_type": "execute_result"
    }
   ],
   "source": [
    "mar.columns"
   ]
  },
  {
   "cell_type": "code",
   "execution_count": 16,
   "metadata": {},
   "outputs": [],
   "source": [
    "mar.drop(columns=['cities_es', 'cities', 'province_es', 'province', 'ccaa_es', 'ccaa',\n",
    "       'provincia_original', 'municipio_original'], inplace=True)"
   ]
  },
  {
   "cell_type": "code",
   "execution_count": 17,
   "metadata": {},
   "outputs": [
    {
     "data": {
      "text/plain": [
       "(6066, 130)"
      ]
     },
     "execution_count": 17,
     "metadata": {},
     "output_type": "execute_result"
    }
   ],
   "source": [
    "union = pd.merge(union, mar, left_on='cities_es/province', right_on='cities_es/province', how='left')\n",
    "union.shape"
   ]
  },
  {
   "cell_type": "code",
   "execution_count": 18,
   "metadata": {},
   "outputs": [
    {
     "data": {
      "text/plain": [
       "(6066, 18)"
      ]
     },
     "execution_count": 18,
     "metadata": {},
     "output_type": "execute_result"
    }
   ],
   "source": [
    "guille = pd.read_csv(\"maestro/union_guille2.csv\", index_col=0 )\n",
    "guille.shape"
   ]
  },
  {
   "cell_type": "code",
   "execution_count": 19,
   "metadata": {},
   "outputs": [
    {
     "data": {
      "text/html": [
       "<div>\n",
       "<style scoped>\n",
       "    .dataframe tbody tr th:only-of-type {\n",
       "        vertical-align: middle;\n",
       "    }\n",
       "\n",
       "    .dataframe tbody tr th {\n",
       "        vertical-align: top;\n",
       "    }\n",
       "\n",
       "    .dataframe thead th {\n",
       "        text-align: right;\n",
       "    }\n",
       "</style>\n",
       "<table border=\"1\" class=\"dataframe\">\n",
       "  <thead>\n",
       "    <tr style=\"text-align: right;\">\n",
       "      <th></th>\n",
       "      <th>bus_based_companies_count</th>\n",
       "      <th>cities_es</th>\n",
       "      <th>cities</th>\n",
       "      <th>province_es</th>\n",
       "      <th>province</th>\n",
       "      <th>ccaa_es</th>\n",
       "      <th>ccaa</th>\n",
       "      <th>cities_es/province</th>\n",
       "      <th>provincia_original</th>\n",
       "      <th>municipio_original</th>\n",
       "      <th>prov_total_millones_vehiculos_km</th>\n",
       "      <th>prov_porcentaje_carreteras_ccaa_y_estado</th>\n",
       "      <th>perc_calidad_cobertura_fija_movil</th>\n",
       "      <th>ccaa_accessibility_mean</th>\n",
       "      <th>tiene_cercanias</th>\n",
       "      <th>tiene_feve</th>\n",
       "      <th>tiene_ave</th>\n",
       "      <th>nume_estaciones_tren</th>\n",
       "    </tr>\n",
       "  </thead>\n",
       "  <tbody>\n",
       "    <tr>\n",
       "      <th>0</th>\n",
       "      <td>5.0</td>\n",
       "      <td>barcelona</td>\n",
       "      <td>barcelona</td>\n",
       "      <td>barcelona</td>\n",
       "      <td>barcelona</td>\n",
       "      <td>cataluna</td>\n",
       "      <td>cataluna</td>\n",
       "      <td>barcelona/barcelona</td>\n",
       "      <td>Barcelona</td>\n",
       "      <td>Barcelona</td>\n",
       "      <td>8838.35</td>\n",
       "      <td>0.844502</td>\n",
       "      <td>100.00</td>\n",
       "      <td>37.202517</td>\n",
       "      <td>1.0</td>\n",
       "      <td>0.0</td>\n",
       "      <td>1.0</td>\n",
       "      <td>100.0</td>\n",
       "    </tr>\n",
       "    <tr>\n",
       "      <th>1</th>\n",
       "      <td>1.0</td>\n",
       "      <td>terrassa</td>\n",
       "      <td>terrassa</td>\n",
       "      <td>barcelona</td>\n",
       "      <td>barcelona</td>\n",
       "      <td>cataluna</td>\n",
       "      <td>cataluna</td>\n",
       "      <td>terrassa/barcelona</td>\n",
       "      <td>Barcelona</td>\n",
       "      <td>Terrassa</td>\n",
       "      <td>8838.35</td>\n",
       "      <td>0.844502</td>\n",
       "      <td>92.00</td>\n",
       "      <td>37.202517</td>\n",
       "      <td>1.0</td>\n",
       "      <td>0.0</td>\n",
       "      <td>0.0</td>\n",
       "      <td>4.0</td>\n",
       "    </tr>\n",
       "    <tr>\n",
       "      <th>2</th>\n",
       "      <td>1.0</td>\n",
       "      <td>sant_boi_de_llobregat</td>\n",
       "      <td>sant_boi_de_llobregat</td>\n",
       "      <td>barcelona</td>\n",
       "      <td>barcelona</td>\n",
       "      <td>cataluna</td>\n",
       "      <td>cataluna</td>\n",
       "      <td>sant_boi_de_llobregat/barcelona</td>\n",
       "      <td>Barcelona</td>\n",
       "      <td>Sant Boi de Llobregat</td>\n",
       "      <td>8838.35</td>\n",
       "      <td>0.844502</td>\n",
       "      <td>100.00</td>\n",
       "      <td>37.202517</td>\n",
       "      <td>1.0</td>\n",
       "      <td>0.0</td>\n",
       "      <td>0.0</td>\n",
       "      <td>1.0</td>\n",
       "    </tr>\n",
       "    <tr>\n",
       "      <th>3</th>\n",
       "      <td>NaN</td>\n",
       "      <td>abrera</td>\n",
       "      <td>abrera</td>\n",
       "      <td>barcelona</td>\n",
       "      <td>barcelona</td>\n",
       "      <td>cataluna</td>\n",
       "      <td>cataluna</td>\n",
       "      <td>abrera/barcelona</td>\n",
       "      <td>Barcelona</td>\n",
       "      <td>Abrera</td>\n",
       "      <td>8838.35</td>\n",
       "      <td>0.844502</td>\n",
       "      <td>100.00</td>\n",
       "      <td>37.202517</td>\n",
       "      <td>1.0</td>\n",
       "      <td>0.0</td>\n",
       "      <td>1.0</td>\n",
       "      <td>100.0</td>\n",
       "    </tr>\n",
       "    <tr>\n",
       "      <th>4</th>\n",
       "      <td>NaN</td>\n",
       "      <td>aguilar_de_segarra</td>\n",
       "      <td>aguilar_de_segarra</td>\n",
       "      <td>barcelona</td>\n",
       "      <td>barcelona</td>\n",
       "      <td>cataluna</td>\n",
       "      <td>cataluna</td>\n",
       "      <td>aguilar_de_segarra/barcelona</td>\n",
       "      <td>Barcelona</td>\n",
       "      <td>Aguilar de Segarra</td>\n",
       "      <td>8838.35</td>\n",
       "      <td>0.844502</td>\n",
       "      <td>28.33</td>\n",
       "      <td>37.202517</td>\n",
       "      <td>0.0</td>\n",
       "      <td>0.0</td>\n",
       "      <td>0.0</td>\n",
       "      <td>1.0</td>\n",
       "    </tr>\n",
       "  </tbody>\n",
       "</table>\n",
       "</div>"
      ],
      "text/plain": [
       "   bus_based_companies_count              cities_es                 cities  \\\n",
       "0                        5.0              barcelona              barcelona   \n",
       "1                        1.0               terrassa               terrassa   \n",
       "2                        1.0  sant_boi_de_llobregat  sant_boi_de_llobregat   \n",
       "3                        NaN                 abrera                 abrera   \n",
       "4                        NaN     aguilar_de_segarra     aguilar_de_segarra   \n",
       "\n",
       "  province_es   province   ccaa_es      ccaa               cities_es/province  \\\n",
       "0   barcelona  barcelona  cataluna  cataluna              barcelona/barcelona   \n",
       "1   barcelona  barcelona  cataluna  cataluna               terrassa/barcelona   \n",
       "2   barcelona  barcelona  cataluna  cataluna  sant_boi_de_llobregat/barcelona   \n",
       "3   barcelona  barcelona  cataluna  cataluna                 abrera/barcelona   \n",
       "4   barcelona  barcelona  cataluna  cataluna     aguilar_de_segarra/barcelona   \n",
       "\n",
       "  provincia_original     municipio_original  prov_total_millones_vehiculos_km  \\\n",
       "0          Barcelona              Barcelona                           8838.35   \n",
       "1          Barcelona               Terrassa                           8838.35   \n",
       "2          Barcelona  Sant Boi de Llobregat                           8838.35   \n",
       "3          Barcelona                 Abrera                           8838.35   \n",
       "4          Barcelona     Aguilar de Segarra                           8838.35   \n",
       "\n",
       "   prov_porcentaje_carreteras_ccaa_y_estado  \\\n",
       "0                                  0.844502   \n",
       "1                                  0.844502   \n",
       "2                                  0.844502   \n",
       "3                                  0.844502   \n",
       "4                                  0.844502   \n",
       "\n",
       "   perc_calidad_cobertura_fija_movil  ccaa_accessibility_mean  \\\n",
       "0                             100.00                37.202517   \n",
       "1                              92.00                37.202517   \n",
       "2                             100.00                37.202517   \n",
       "3                             100.00                37.202517   \n",
       "4                              28.33                37.202517   \n",
       "\n",
       "   tiene_cercanias  tiene_feve  tiene_ave  nume_estaciones_tren  \n",
       "0              1.0         0.0        1.0                 100.0  \n",
       "1              1.0         0.0        0.0                   4.0  \n",
       "2              1.0         0.0        0.0                   1.0  \n",
       "3              1.0         0.0        1.0                 100.0  \n",
       "4              0.0         0.0        0.0                   1.0  "
      ]
     },
     "execution_count": 19,
     "metadata": {},
     "output_type": "execute_result"
    }
   ],
   "source": [
    "guille.head()"
   ]
  },
  {
   "cell_type": "code",
   "execution_count": 20,
   "metadata": {},
   "outputs": [
    {
     "data": {
      "text/plain": [
       "Index(['bus_based_companies_count', 'cities_es', 'cities', 'province_es',\n",
       "       'province', 'ccaa_es', 'ccaa', 'cities_es/province',\n",
       "       'provincia_original', 'municipio_original',\n",
       "       'prov_total_millones_vehiculos_km',\n",
       "       'prov_porcentaje_carreteras_ccaa_y_estado',\n",
       "       'perc_calidad_cobertura_fija_movil', 'ccaa_accessibility_mean',\n",
       "       'tiene_cercanias', 'tiene_feve', 'tiene_ave', 'nume_estaciones_tren'],\n",
       "      dtype='object')"
      ]
     },
     "execution_count": 20,
     "metadata": {},
     "output_type": "execute_result"
    }
   ],
   "source": [
    "guille.columns"
   ]
  },
  {
   "cell_type": "code",
   "execution_count": 21,
   "metadata": {},
   "outputs": [],
   "source": [
    "guille.drop(columns=['cities_es', 'cities', 'province_es', 'province', 'ccaa_es', 'ccaa',\n",
    "       'provincia_original', 'municipio_original'], inplace=True)"
   ]
  },
  {
   "cell_type": "code",
   "execution_count": 22,
   "metadata": {},
   "outputs": [
    {
     "data": {
      "text/plain": [
       "(6066, 139)"
      ]
     },
     "execution_count": 22,
     "metadata": {},
     "output_type": "execute_result"
    }
   ],
   "source": [
    "union = pd.merge(union, guille, left_on='cities_es/province', right_on='cities_es/province', how='left')\n",
    "union.shape"
   ]
  },
  {
   "cell_type": "code",
   "execution_count": 23,
   "metadata": {},
   "outputs": [
    {
     "data": {
      "text/plain": [
       "(6066, 22)"
      ]
     },
     "execution_count": 23,
     "metadata": {},
     "output_type": "execute_result"
    }
   ],
   "source": [
    "sandra = pd.read_csv(\"maestro/union_sandra2.csv\", index_col=0 )\n",
    "sandra.shape"
   ]
  },
  {
   "cell_type": "code",
   "execution_count": 24,
   "metadata": {},
   "outputs": [
    {
     "data": {
      "text/html": [
       "<div>\n",
       "<style scoped>\n",
       "    .dataframe tbody tr th:only-of-type {\n",
       "        vertical-align: middle;\n",
       "    }\n",
       "\n",
       "    .dataframe tbody tr th {\n",
       "        vertical-align: top;\n",
       "    }\n",
       "\n",
       "    .dataframe thead th {\n",
       "        text-align: right;\n",
       "    }\n",
       "</style>\n",
       "<table border=\"1\" class=\"dataframe\">\n",
       "  <thead>\n",
       "    <tr style=\"text-align: right;\">\n",
       "      <th></th>\n",
       "      <th>cities_es</th>\n",
       "      <th>cities</th>\n",
       "      <th>province_es</th>\n",
       "      <th>province</th>\n",
       "      <th>ccaa_es</th>\n",
       "      <th>ccaa</th>\n",
       "      <th>cities_es/province</th>\n",
       "      <th>provincia_original</th>\n",
       "      <th>municipio_original</th>\n",
       "      <th>muni_agrup</th>\n",
       "      <th>...</th>\n",
       "      <th>f_construccion</th>\n",
       "      <th>comercio_transporte_y_hosteleria</th>\n",
       "      <th>j_informacion_y_comunicaciones</th>\n",
       "      <th>k_actividades_financieras_y_de_seguros</th>\n",
       "      <th>l_actividades_inmobiliarias</th>\n",
       "      <th>actividades_profesionales_y_tecnicas</th>\n",
       "      <th>educacion_sanidad_y_servicios_sociales</th>\n",
       "      <th>otros_servicios_personales</th>\n",
       "      <th>total_servicios</th>\n",
       "      <th>prov_pib</th>\n",
       "    </tr>\n",
       "  </thead>\n",
       "  <tbody>\n",
       "    <tr>\n",
       "      <th>0</th>\n",
       "      <td>alegria_dulantzi</td>\n",
       "      <td>alegria_dulantzi</td>\n",
       "      <td>alava</td>\n",
       "      <td>araba</td>\n",
       "      <td>pais_vasco</td>\n",
       "      <td>pais_vasco</td>\n",
       "      <td>alegria_dulantzi/araba</td>\n",
       "      <td>Araba/Álava</td>\n",
       "      <td>Alegría-Dulantzi</td>\n",
       "      <td>alegria_dulantzi/pais_vasco</td>\n",
       "      <td>...</td>\n",
       "      <td>0.0</td>\n",
       "      <td>0.0</td>\n",
       "      <td>0.0</td>\n",
       "      <td>0.0</td>\n",
       "      <td>0.0</td>\n",
       "      <td>0.0</td>\n",
       "      <td>0.0</td>\n",
       "      <td>0.0</td>\n",
       "      <td>0.0</td>\n",
       "      <td>11983377</td>\n",
       "    </tr>\n",
       "    <tr>\n",
       "      <th>1</th>\n",
       "      <td>amurrio</td>\n",
       "      <td>amurrio</td>\n",
       "      <td>alava</td>\n",
       "      <td>araba</td>\n",
       "      <td>pais_vasco</td>\n",
       "      <td>pais_vasco</td>\n",
       "      <td>amurrio/araba</td>\n",
       "      <td>Araba/Álava</td>\n",
       "      <td>Amurrio</td>\n",
       "      <td>amurrio/pais_vasco</td>\n",
       "      <td>...</td>\n",
       "      <td>0.0</td>\n",
       "      <td>0.0</td>\n",
       "      <td>0.0</td>\n",
       "      <td>0.0</td>\n",
       "      <td>0.0</td>\n",
       "      <td>0.0</td>\n",
       "      <td>0.0</td>\n",
       "      <td>0.0</td>\n",
       "      <td>0.0</td>\n",
       "      <td>11983377</td>\n",
       "    </tr>\n",
       "    <tr>\n",
       "      <th>2</th>\n",
       "      <td>aramaio</td>\n",
       "      <td>aramaio</td>\n",
       "      <td>alava</td>\n",
       "      <td>araba</td>\n",
       "      <td>pais_vasco</td>\n",
       "      <td>pais_vasco</td>\n",
       "      <td>aramaio/araba</td>\n",
       "      <td>Araba/Álava</td>\n",
       "      <td>Aramaio</td>\n",
       "      <td>aramaio/pais_vasco</td>\n",
       "      <td>...</td>\n",
       "      <td>0.0</td>\n",
       "      <td>0.0</td>\n",
       "      <td>0.0</td>\n",
       "      <td>0.0</td>\n",
       "      <td>0.0</td>\n",
       "      <td>0.0</td>\n",
       "      <td>0.0</td>\n",
       "      <td>0.0</td>\n",
       "      <td>0.0</td>\n",
       "      <td>11983377</td>\n",
       "    </tr>\n",
       "    <tr>\n",
       "      <th>3</th>\n",
       "      <td>artziniega</td>\n",
       "      <td>artziniega</td>\n",
       "      <td>alava</td>\n",
       "      <td>araba</td>\n",
       "      <td>pais_vasco</td>\n",
       "      <td>pais_vasco</td>\n",
       "      <td>artziniega/araba</td>\n",
       "      <td>Araba/Álava</td>\n",
       "      <td>Artziniega</td>\n",
       "      <td>artziniega/pais_vasco</td>\n",
       "      <td>...</td>\n",
       "      <td>0.0</td>\n",
       "      <td>0.0</td>\n",
       "      <td>0.0</td>\n",
       "      <td>0.0</td>\n",
       "      <td>0.0</td>\n",
       "      <td>0.0</td>\n",
       "      <td>0.0</td>\n",
       "      <td>0.0</td>\n",
       "      <td>0.0</td>\n",
       "      <td>11983377</td>\n",
       "    </tr>\n",
       "    <tr>\n",
       "      <th>4</th>\n",
       "      <td>arminon</td>\n",
       "      <td>arminon</td>\n",
       "      <td>alava</td>\n",
       "      <td>araba</td>\n",
       "      <td>pais_vasco</td>\n",
       "      <td>pais_vasco</td>\n",
       "      <td>arminon/araba</td>\n",
       "      <td>Araba/Álava</td>\n",
       "      <td>Armiñón</td>\n",
       "      <td>arminon/pais_vasco</td>\n",
       "      <td>...</td>\n",
       "      <td>0.0</td>\n",
       "      <td>0.0</td>\n",
       "      <td>0.0</td>\n",
       "      <td>0.0</td>\n",
       "      <td>0.0</td>\n",
       "      <td>0.0</td>\n",
       "      <td>0.0</td>\n",
       "      <td>0.0</td>\n",
       "      <td>0.0</td>\n",
       "      <td>11983377</td>\n",
       "    </tr>\n",
       "  </tbody>\n",
       "</table>\n",
       "<p>5 rows × 22 columns</p>\n",
       "</div>"
      ],
      "text/plain": [
       "          cities_es            cities province_es province     ccaa_es  \\\n",
       "0  alegria_dulantzi  alegria_dulantzi       alava    araba  pais_vasco   \n",
       "1           amurrio           amurrio       alava    araba  pais_vasco   \n",
       "2           aramaio           aramaio       alava    araba  pais_vasco   \n",
       "3        artziniega        artziniega       alava    araba  pais_vasco   \n",
       "4           arminon           arminon       alava    araba  pais_vasco   \n",
       "\n",
       "         ccaa      cities_es/province provincia_original municipio_original  \\\n",
       "0  pais_vasco  alegria_dulantzi/araba        Araba/Álava   Alegría-Dulantzi   \n",
       "1  pais_vasco           amurrio/araba        Araba/Álava            Amurrio   \n",
       "2  pais_vasco           aramaio/araba        Araba/Álava            Aramaio   \n",
       "3  pais_vasco        artziniega/araba        Araba/Álava         Artziniega   \n",
       "4  pais_vasco           arminon/araba        Araba/Álava            Armiñón   \n",
       "\n",
       "                    muni_agrup  ...  f_construccion  \\\n",
       "0  alegria_dulantzi/pais_vasco  ...             0.0   \n",
       "1           amurrio/pais_vasco  ...             0.0   \n",
       "2           aramaio/pais_vasco  ...             0.0   \n",
       "3        artziniega/pais_vasco  ...             0.0   \n",
       "4           arminon/pais_vasco  ...             0.0   \n",
       "\n",
       "   comercio_transporte_y_hosteleria  j_informacion_y_comunicaciones  \\\n",
       "0                               0.0                             0.0   \n",
       "1                               0.0                             0.0   \n",
       "2                               0.0                             0.0   \n",
       "3                               0.0                             0.0   \n",
       "4                               0.0                             0.0   \n",
       "\n",
       "   k_actividades_financieras_y_de_seguros  l_actividades_inmobiliarias  \\\n",
       "0                                     0.0                          0.0   \n",
       "1                                     0.0                          0.0   \n",
       "2                                     0.0                          0.0   \n",
       "3                                     0.0                          0.0   \n",
       "4                                     0.0                          0.0   \n",
       "\n",
       "   actividades_profesionales_y_tecnicas  \\\n",
       "0                                   0.0   \n",
       "1                                   0.0   \n",
       "2                                   0.0   \n",
       "3                                   0.0   \n",
       "4                                   0.0   \n",
       "\n",
       "   educacion_sanidad_y_servicios_sociales  otros_servicios_personales  \\\n",
       "0                                     0.0                         0.0   \n",
       "1                                     0.0                         0.0   \n",
       "2                                     0.0                         0.0   \n",
       "3                                     0.0                         0.0   \n",
       "4                                     0.0                         0.0   \n",
       "\n",
       "   total_servicios  prov_pib  \n",
       "0              0.0  11983377  \n",
       "1              0.0  11983377  \n",
       "2              0.0  11983377  \n",
       "3              0.0  11983377  \n",
       "4              0.0  11983377  \n",
       "\n",
       "[5 rows x 22 columns]"
      ]
     },
     "execution_count": 24,
     "metadata": {},
     "output_type": "execute_result"
    }
   ],
   "source": [
    "sandra.head()"
   ]
  },
  {
   "cell_type": "code",
   "execution_count": 25,
   "metadata": {},
   "outputs": [
    {
     "data": {
      "text/plain": [
       "Index(['cities_es', 'cities', 'province_es', 'province', 'ccaa_es', 'ccaa',\n",
       "       'cities_es/province', 'provincia_original', 'municipio_original',\n",
       "       'muni_agrup', 'total_comercios', 'b_e_industria', 'f_construccion',\n",
       "       'comercio_transporte_y_hosteleria', 'j_informacion_y_comunicaciones',\n",
       "       'k_actividades_financieras_y_de_seguros', 'l_actividades_inmobiliarias',\n",
       "       'actividades_profesionales_y_tecnicas',\n",
       "       'educacion_sanidad_y_servicios_sociales', 'otros_servicios_personales',\n",
       "       'total_servicios', 'prov_pib'],\n",
       "      dtype='object')"
      ]
     },
     "execution_count": 25,
     "metadata": {},
     "output_type": "execute_result"
    }
   ],
   "source": [
    "sandra.columns"
   ]
  },
  {
   "cell_type": "code",
   "execution_count": 26,
   "metadata": {},
   "outputs": [],
   "source": [
    "sandra.drop(columns=['cities_es', 'cities', 'province_es', 'province', 'ccaa_es', 'ccaa',\n",
    "       'provincia_original', 'municipio_original', 'muni_agrup'], inplace=True)"
   ]
  },
  {
   "cell_type": "code",
   "execution_count": 27,
   "metadata": {},
   "outputs": [
    {
     "data": {
      "text/plain": [
       "(6066, 151)"
      ]
     },
     "execution_count": 27,
     "metadata": {},
     "output_type": "execute_result"
    }
   ],
   "source": [
    "union = pd.merge(union, sandra, left_on='cities_es/province', right_on='cities_es/province', how='left')\n",
    "union.shape"
   ]
  },
  {
   "cell_type": "code",
   "execution_count": 28,
   "metadata": {},
   "outputs": [],
   "source": [
    "union.fillna(-1, inplace=True)"
   ]
  },
  {
   "cell_type": "code",
   "execution_count": 29,
   "metadata": {},
   "outputs": [
    {
     "data": {
      "text/html": [
       "<div>\n",
       "<style scoped>\n",
       "    .dataframe tbody tr th:only-of-type {\n",
       "        vertical-align: middle;\n",
       "    }\n",
       "\n",
       "    .dataframe tbody tr th {\n",
       "        vertical-align: top;\n",
       "    }\n",
       "\n",
       "    .dataframe thead th {\n",
       "        text-align: right;\n",
       "    }\n",
       "</style>\n",
       "<table border=\"1\" class=\"dataframe\">\n",
       "  <thead>\n",
       "    <tr style=\"text-align: right;\">\n",
       "      <th></th>\n",
       "      <th>cities_es</th>\n",
       "      <th>cities</th>\n",
       "      <th>province_es</th>\n",
       "      <th>province</th>\n",
       "      <th>ccaa_es</th>\n",
       "      <th>ccaa</th>\n",
       "      <th>cities_es/province</th>\n",
       "      <th>provincia_original</th>\n",
       "      <th>municipio_original</th>\n",
       "      <th>num_bibliotecas</th>\n",
       "      <th>...</th>\n",
       "      <th>f_construccion</th>\n",
       "      <th>comercio_transporte_y_hosteleria</th>\n",
       "      <th>j_informacion_y_comunicaciones</th>\n",
       "      <th>k_actividades_financieras_y_de_seguros</th>\n",
       "      <th>l_actividades_inmobiliarias</th>\n",
       "      <th>actividades_profesionales_y_tecnicas</th>\n",
       "      <th>educacion_sanidad_y_servicios_sociales</th>\n",
       "      <th>otros_servicios_personales</th>\n",
       "      <th>total_servicios</th>\n",
       "      <th>prov_pib</th>\n",
       "    </tr>\n",
       "  </thead>\n",
       "  <tbody>\n",
       "    <tr>\n",
       "      <th>0</th>\n",
       "      <td>alegria_dulantzi</td>\n",
       "      <td>alegria_dulantzi</td>\n",
       "      <td>alava</td>\n",
       "      <td>araba</td>\n",
       "      <td>pais_vasco</td>\n",
       "      <td>pais_vasco</td>\n",
       "      <td>alegria_dulantzi/araba</td>\n",
       "      <td>Araba/Álava</td>\n",
       "      <td>Alegría-Dulantzi</td>\n",
       "      <td>1.0</td>\n",
       "      <td>...</td>\n",
       "      <td>0.0</td>\n",
       "      <td>0.0</td>\n",
       "      <td>0.0</td>\n",
       "      <td>0.0</td>\n",
       "      <td>0.0</td>\n",
       "      <td>0.0</td>\n",
       "      <td>0.0</td>\n",
       "      <td>0.0</td>\n",
       "      <td>0.0</td>\n",
       "      <td>11983377</td>\n",
       "    </tr>\n",
       "    <tr>\n",
       "      <th>1</th>\n",
       "      <td>amurrio</td>\n",
       "      <td>amurrio</td>\n",
       "      <td>alava</td>\n",
       "      <td>araba</td>\n",
       "      <td>pais_vasco</td>\n",
       "      <td>pais_vasco</td>\n",
       "      <td>amurrio/araba</td>\n",
       "      <td>Araba/Álava</td>\n",
       "      <td>Amurrio</td>\n",
       "      <td>1.0</td>\n",
       "      <td>...</td>\n",
       "      <td>0.0</td>\n",
       "      <td>0.0</td>\n",
       "      <td>0.0</td>\n",
       "      <td>0.0</td>\n",
       "      <td>0.0</td>\n",
       "      <td>0.0</td>\n",
       "      <td>0.0</td>\n",
       "      <td>0.0</td>\n",
       "      <td>0.0</td>\n",
       "      <td>11983377</td>\n",
       "    </tr>\n",
       "    <tr>\n",
       "      <th>2</th>\n",
       "      <td>aramaio</td>\n",
       "      <td>aramaio</td>\n",
       "      <td>alava</td>\n",
       "      <td>araba</td>\n",
       "      <td>pais_vasco</td>\n",
       "      <td>pais_vasco</td>\n",
       "      <td>aramaio/araba</td>\n",
       "      <td>Araba/Álava</td>\n",
       "      <td>Aramaio</td>\n",
       "      <td>1.0</td>\n",
       "      <td>...</td>\n",
       "      <td>0.0</td>\n",
       "      <td>0.0</td>\n",
       "      <td>0.0</td>\n",
       "      <td>0.0</td>\n",
       "      <td>0.0</td>\n",
       "      <td>0.0</td>\n",
       "      <td>0.0</td>\n",
       "      <td>0.0</td>\n",
       "      <td>0.0</td>\n",
       "      <td>11983377</td>\n",
       "    </tr>\n",
       "    <tr>\n",
       "      <th>3</th>\n",
       "      <td>artziniega</td>\n",
       "      <td>artziniega</td>\n",
       "      <td>alava</td>\n",
       "      <td>araba</td>\n",
       "      <td>pais_vasco</td>\n",
       "      <td>pais_vasco</td>\n",
       "      <td>artziniega/araba</td>\n",
       "      <td>Araba/Álava</td>\n",
       "      <td>Artziniega</td>\n",
       "      <td>1.0</td>\n",
       "      <td>...</td>\n",
       "      <td>0.0</td>\n",
       "      <td>0.0</td>\n",
       "      <td>0.0</td>\n",
       "      <td>0.0</td>\n",
       "      <td>0.0</td>\n",
       "      <td>0.0</td>\n",
       "      <td>0.0</td>\n",
       "      <td>0.0</td>\n",
       "      <td>0.0</td>\n",
       "      <td>11983377</td>\n",
       "    </tr>\n",
       "    <tr>\n",
       "      <th>4</th>\n",
       "      <td>arminon</td>\n",
       "      <td>arminon</td>\n",
       "      <td>alava</td>\n",
       "      <td>araba</td>\n",
       "      <td>pais_vasco</td>\n",
       "      <td>pais_vasco</td>\n",
       "      <td>arminon/araba</td>\n",
       "      <td>Araba/Álava</td>\n",
       "      <td>Armiñón</td>\n",
       "      <td>-1.0</td>\n",
       "      <td>...</td>\n",
       "      <td>0.0</td>\n",
       "      <td>0.0</td>\n",
       "      <td>0.0</td>\n",
       "      <td>0.0</td>\n",
       "      <td>0.0</td>\n",
       "      <td>0.0</td>\n",
       "      <td>0.0</td>\n",
       "      <td>0.0</td>\n",
       "      <td>0.0</td>\n",
       "      <td>11983377</td>\n",
       "    </tr>\n",
       "  </tbody>\n",
       "</table>\n",
       "<p>5 rows × 151 columns</p>\n",
       "</div>"
      ],
      "text/plain": [
       "          cities_es            cities province_es province     ccaa_es  \\\n",
       "0  alegria_dulantzi  alegria_dulantzi       alava    araba  pais_vasco   \n",
       "1           amurrio           amurrio       alava    araba  pais_vasco   \n",
       "2           aramaio           aramaio       alava    araba  pais_vasco   \n",
       "3        artziniega        artziniega       alava    araba  pais_vasco   \n",
       "4           arminon           arminon       alava    araba  pais_vasco   \n",
       "\n",
       "         ccaa      cities_es/province provincia_original municipio_original  \\\n",
       "0  pais_vasco  alegria_dulantzi/araba        Araba/Álava   Alegría-Dulantzi   \n",
       "1  pais_vasco           amurrio/araba        Araba/Álava            Amurrio   \n",
       "2  pais_vasco           aramaio/araba        Araba/Álava            Aramaio   \n",
       "3  pais_vasco        artziniega/araba        Araba/Álava         Artziniega   \n",
       "4  pais_vasco           arminon/araba        Araba/Álava            Armiñón   \n",
       "\n",
       "   num_bibliotecas  ...  f_construccion  comercio_transporte_y_hosteleria  \\\n",
       "0              1.0  ...             0.0                               0.0   \n",
       "1              1.0  ...             0.0                               0.0   \n",
       "2              1.0  ...             0.0                               0.0   \n",
       "3              1.0  ...             0.0                               0.0   \n",
       "4             -1.0  ...             0.0                               0.0   \n",
       "\n",
       "   j_informacion_y_comunicaciones  k_actividades_financieras_y_de_seguros  \\\n",
       "0                             0.0                                     0.0   \n",
       "1                             0.0                                     0.0   \n",
       "2                             0.0                                     0.0   \n",
       "3                             0.0                                     0.0   \n",
       "4                             0.0                                     0.0   \n",
       "\n",
       "   l_actividades_inmobiliarias  actividades_profesionales_y_tecnicas  \\\n",
       "0                          0.0                                   0.0   \n",
       "1                          0.0                                   0.0   \n",
       "2                          0.0                                   0.0   \n",
       "3                          0.0                                   0.0   \n",
       "4                          0.0                                   0.0   \n",
       "\n",
       "   educacion_sanidad_y_servicios_sociales  otros_servicios_personales  \\\n",
       "0                                     0.0                         0.0   \n",
       "1                                     0.0                         0.0   \n",
       "2                                     0.0                         0.0   \n",
       "3                                     0.0                         0.0   \n",
       "4                                     0.0                         0.0   \n",
       "\n",
       "   total_servicios  prov_pib  \n",
       "0              0.0  11983377  \n",
       "1              0.0  11983377  \n",
       "2              0.0  11983377  \n",
       "3              0.0  11983377  \n",
       "4              0.0  11983377  \n",
       "\n",
       "[5 rows x 151 columns]"
      ]
     },
     "execution_count": 29,
     "metadata": {},
     "output_type": "execute_result"
    }
   ],
   "source": [
    "union.head()"
   ]
  },
  {
   "cell_type": "markdown",
   "metadata": {},
   "source": [
    "## Exportar fichero union"
   ]
  },
  {
   "cell_type": "code",
   "execution_count": 30,
   "metadata": {},
   "outputs": [],
   "source": [
    "union.to_csv(\"union_todo.csv\")"
   ]
  },
  {
   "cell_type": "code",
   "execution_count": null,
   "metadata": {},
   "outputs": [],
   "source": []
  }
 ],
 "metadata": {
  "kernelspec": {
   "display_name": "Python 3",
   "language": "python",
   "name": "python3"
  },
  "language_info": {
   "codemirror_mode": {
    "name": "ipython",
    "version": 3
   },
   "file_extension": ".py",
   "mimetype": "text/x-python",
   "name": "python",
   "nbconvert_exporter": "python",
   "pygments_lexer": "ipython3",
   "version": "3.8.2"
  }
 },
 "nbformat": 4,
 "nbformat_minor": 4
}
