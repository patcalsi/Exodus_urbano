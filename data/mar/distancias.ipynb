{
 "cells": [
  {
   "cell_type": "markdown",
   "metadata": {},
   "source": [
    "# Función que calcula distancia entre dos puntos"
   ]
  },
  {
   "cell_type": "code",
   "execution_count": 1,
   "metadata": {},
   "outputs": [],
   "source": [
    "def distance(x_latitude1,y_longitude1,x_latitude2,y_longitude2):\n",
    "    R = 6373.0\n",
    "    a = 0\n",
    "    c = 0\n",
    "\n",
    "    a = sin(abs(radians(x_latitude1)-radians(x_latitude2))/ 2)**2 + cos(radians(x_latitude1)) * cos(radians(x_latitude2)) * sin(abs(radians(y_longitude1)-radians(y_longitude2))/ 2)**2\n",
    "    c = 2 * atan2(sqrt(a), sqrt(1 - a))\n",
    "\n",
    "    return R * c  "
   ]
  }
 ],
 "metadata": {
  "kernelspec": {
   "display_name": "Python 3",
   "language": "python",
   "name": "python3"
  },
  "language_info": {
   "codemirror_mode": {
    "name": "ipython",
    "version": 3
   },
   "file_extension": ".py",
   "mimetype": "text/x-python",
   "name": "python",
   "nbconvert_exporter": "python",
   "pygments_lexer": "ipython3",
   "version": "3.7.4"
  }
 },
 "nbformat": 4,
 "nbformat_minor": 2
}
