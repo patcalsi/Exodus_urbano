{
 "cells": [
  {
   "cell_type": "code",
   "execution_count": 1,
   "metadata": {},
   "outputs": [],
   "source": [
    "import pandas as pd\n",
    "import matplotlib.pyplot as plt\n",
    "import numpy as np\n",
    "import re\n",
    "import unidecode\n",
    "import os"
   ]
  },
  {
   "cell_type": "code",
   "execution_count": 2,
   "metadata": {},
   "outputs": [],
   "source": [
    "from fuzzywuzzy import fuzz\n",
    "from fuzzywuzzy import process"
   ]
  },
  {
   "cell_type": "markdown",
   "metadata": {},
   "source": [
    "#### Funciones"
   ]
  },
  {
   "cell_type": "code",
   "execution_count": 3,
   "metadata": {},
   "outputs": [],
   "source": [
    "def doClean(a):   \n",
    "    a = str(a)\n",
    "    # Quitar las expresiones tras la barra /\n",
    "    a = re.sub('\\/.*', '', a)\n",
    "    # Quitar las aclaraciones entre paréntesis\n",
    "    a = re.sub('\\(.*\\)', '', a)\n",
    "    # Quitar acentos \n",
    "    a = unidecode.unidecode(a)\n",
    "    # Quitar aquello que no sean palabras o cosa que se le parezca\n",
    "    a = re.sub('\\W', ' ', a) \n",
    "    # Quitar espacios extra en caso de haber\n",
    "    a = re.sub('\\s+', ' ', a)\n",
    "    # Pasar el texto a minúsulas\n",
    "    a = a.lower() \n",
    "    a = a.lstrip()\n",
    "    # Quitar espacio derecha\n",
    "    a = a.rstrip()\n",
    "    a = re.sub(' ', '_', a)\n",
    "    #a = a.strip() \n",
    "    \n",
    "    return a"
   ]
  },
  {
   "cell_type": "code",
   "execution_count": 4,
   "metadata": {},
   "outputs": [],
   "source": [
    "def fuzzy_merge(df_1, df_2, key1, key2, threshold=90, limit=1):\n",
    "    \"\"\"\n",
    "    df_1 is the left table to join\n",
    "    df_2 is the right table to join\n",
    "    key1 is the key column of the left table\n",
    "    key2 is the key column of the right table\n",
    "    threshold is how close the matches should be to return a match, based on Levenshtein distance\n",
    "    limit is the amount of matches that will get returned, these are sorted high to low\n",
    "    \"\"\"\n",
    "    s = df_2[key2].tolist()\n",
    "\n",
    "    m = df_1[key1].apply(lambda x: process.extract(x, s, limit=limit))    \n",
    "    df_1['matches'] = m\n",
    "\n",
    "    m2 = df_1['matches'].apply(lambda x: ', '.join([i[0] for i in x if i[1] >= threshold]))\n",
    "    df_1['matches'] = m2\n",
    "\n",
    "    return df_1"
   ]
  },
  {
   "cell_type": "code",
   "execution_count": 138,
   "metadata": {},
   "outputs": [],
   "source": [
    "def union_muni(df_maestro, df_union, muni_maestro, agrup_maestro, muni_union, agrup_union, threshold=85, threshold_mun=90):\n",
    "    \n",
    "    count_maestro = df_maestro.shape[0]\n",
    "    count_union = df_union.shape[0]\n",
    "    print('num registros maestro: {}'.format(count_maestro))\n",
    "    print('num registros fichero para unir: {}'.format(count_union))\n",
    "    \n",
    "    #fuzzy por prov/ccaa\n",
    "    maestro_agrup = pd.DataFrame(df_maestro[agrup_maestro].drop_duplicates())\n",
    "    print('num agrupaciones maestro: {}'.format(maestro_agrup.shape))\n",
    "    union_agrup = pd.DataFrame(df_union[agrup_union].drop_duplicates())\n",
    "    print('num agrupaciones union: {}'.format(union_agrup.shape))\n",
    "\n",
    "    agrup_match = fuzzy_merge(maestro_agrup, union_agrup, agrup_maestro, agrup_union, threshold=threshold)\n",
    "    print('num agrupaciones tras match: {}'.format(agrup_match.shape))\n",
    "    num_matches = (agrup_match[agrup_match['matches']!='']['matches'].nunique())\n",
    "    if (num_matches != agrup_match[agrup_maestro].nunique()):\n",
    "        print('no se han cruzado todos los valores:')\n",
    "        print(agrup_match[agrup_match['matches']==''])\n",
    "\n",
    "        #se genera un nuevo df con el match y el fichero de union\n",
    "    df_union_agrup_match = pd.merge(df_union, agrup_match, left_on=agrup_union, right_on='matches', how='left')\n",
    "    if (count_union != df_union_agrup_match.shape[0]):\n",
    "        print('el fichero de union no dispone de todos los valores para cruzar')    \n",
    "\n",
    "    df_union_agrup_match.drop(columns=['matches'], inplace=True)\n",
    "    \n",
    "    #fuzzy por municipio\n",
    "    df_maestro['muni_agrup'] = df_maestro[muni_maestro]+\"/\"+df_maestro[agrup_maestro]\n",
    "    df_union_agrup_match['muni_agrup'] = df_union_agrup_match[muni_union]+\"/\"+df_union_agrup_match[agrup_maestro]\n",
    "   \n",
    "    muni_match = pd.DataFrame()\n",
    "    maestro_count = 0\n",
    "    for agrup in list(maestro_agrup[agrup_maestro]):\n",
    "        print(agrup)\n",
    "        maestro_agrup_sel = df_maestro[df_maestro[agrup_maestro] == agrup].copy()\n",
    "        maestro_count = maestro_agrup_sel.shape[0] + maestro_count\n",
    "        union_agrup_sel = df_union_agrup_match[df_union_agrup_match[agrup_maestro] == agrup].copy()\n",
    "        if union_agrup_sel.empty == True:\n",
    "            print(f'no existe para {agrup}')\n",
    "        \n",
    "        else:\n",
    "            aux = fuzzy_merge(maestro_agrup_sel, union_agrup_sel, 'muni_agrup', 'muni_agrup', threshold=threshold_mun)\n",
    "            num_matches = (aux[aux['matches']!='']['matches'].nunique())\n",
    "            if (num_matches != aux[muni_maestro].nunique()):\n",
    "                print('no se han cruzado todos los valores:')\n",
    "                #print(aux[aux['matches'].isnull()]) \n",
    "            muni_match = pd.concat([muni_match, aux])\n",
    "        \n",
    "        #comprobacion registros    \n",
    "    print('num muni maestro: {}'.format(maestro_count))\n",
    "    if maestro_count != muni_match.shape[0]:\n",
    "        print(\"se han perdido registros\")       \n",
    "        \n",
    "    muni_match.drop(columns='muni_agrup', inplace=True)\n",
    "    df_union_agrup_match.drop(columns=[agrup_maestro], inplace=True)\n",
    "\n",
    "        #se genera un nuevo df con el match y el fichero de union\n",
    "    df_union_muni_match = pd.merge(muni_match, df_union_agrup_match, left_on='matches', right_on='muni_agrup', how='left')\n",
    "    if (count_union != df_union_muni_match.shape[0]):\n",
    "        print('el fichero de union no dispone de todos los valores para cruzar por municipio')        \n",
    "\n",
    "    #merge maestro con fichero union\n",
    "    #df_tras_union = pd.merge(df_maestro, df_union_muni_match, left_on=muni_maestro, right_on='matches', how='left')\n",
    "    \n",
    "    print('columnas final: {}'.format(df_union_muni_match.columns))\n",
    "        #borramos columnas que sobran\n",
    "    if muni_maestro != muni_union:\n",
    "        df_union_muni_match.drop(columns=muni_union, inplace=True)\n",
    "    if agrup_maestro != agrup_union:\n",
    "        df_union_muni_match.drop(columns=agrup_union, inplace=True)\n",
    "    df_union_muni_match.drop(columns=['matches', 'muni_agrup'], inplace=True)\n",
    "    print('num registros tras union: {}'.format(df_union_muni_match.shape))\n",
    "    \n",
    "    return df_union_muni_match"
   ]
  },
  {
   "cell_type": "markdown",
   "metadata": {},
   "source": [
    "#### Carga y union de ficheros"
   ]
  },
  {
   "cell_type": "code",
   "execution_count": 6,
   "metadata": {},
   "outputs": [
    {
     "data": {
      "text/plain": [
       "'/home/patcalsi/projects/Exodus_urbano/data/patri'"
      ]
     },
     "execution_count": 6,
     "metadata": {},
     "output_type": "execute_result"
    }
   ],
   "source": [
    "os.getcwd()"
   ]
  },
  {
   "cell_type": "code",
   "execution_count": 7,
   "metadata": {},
   "outputs": [
    {
     "data": {
      "text/plain": [
       "['sociedad_seguridad_guardia_civil_2019_limpio.csv',\n",
       " 'maestro_nivel_municipio_ori.csv',\n",
       " 'union_ficheros.ipynb',\n",
       " 'sociedad_educacion_universidad_2018_limpio.csv',\n",
       " 'maestro_nivel_cod_postal.csv',\n",
       " 'union_ficheros2.ipynb',\n",
       " 'sociedad_sanidad_hospitales_2019_limpio.csv',\n",
       " 'union_patri.csv',\n",
       " 'sociedad_educacion_colegios_2020_limpio.csv',\n",
       " 'sociedad_sanidad_centros_salud_2019_limpio.csv',\n",
       " 'maestro_nuevo.csv',\n",
       " 'maestro_nivel_municipio.csv',\n",
       " '.ipynb_checkpoints',\n",
       " '.~lock.Empresas-SICTED2.xls#',\n",
       " 'economia_turismo_establecimientos_20XX_limpio.csv',\n",
       " '.~lock.union_patri.csv#',\n",
       " 'tratamiento',\n",
       " 'sociedad_usos_suelo_2019_limpio.csv',\n",
       " 'manual.txt',\n",
       " 'aaaa.csv',\n",
       " 'sociedad_cultura_bibliotecas_2017_limipio.csv',\n",
       " 'listado-codigos-postales-con-LatyLon.csv',\n",
       " 'sociedad_educacion_nivel_formacion_ccaa_2018.csv']"
      ]
     },
     "execution_count": 7,
     "metadata": {},
     "output_type": "execute_result"
    }
   ],
   "source": [
    "os.listdir()"
   ]
  },
  {
   "cell_type": "markdown",
   "metadata": {},
   "source": [
    "## Fichero maestro"
   ]
  },
  {
   "cell_type": "code",
   "execution_count": 173,
   "metadata": {},
   "outputs": [
    {
     "data": {
      "text/plain": [
       "(14729, 17)"
      ]
     },
     "execution_count": 173,
     "metadata": {},
     "output_type": "execute_result"
    }
   ],
   "source": [
    "maestro_municipios = pd.read_csv(\"../maestro_idiomas_ine.csv\", index_col=0, dtype={'postal_code': object, 'ine_code':object})\n",
    "maestro_municipios.shape"
   ]
  },
  {
   "cell_type": "code",
   "execution_count": 174,
   "metadata": {},
   "outputs": [],
   "source": [
    "#correcciones\n",
    "maestro_municipios['province'].replace(\"islas_baleares\", \"illes_balears\", inplace=True )\n",
    "maestro_municipios['cities_es/province'].replace(\"islas_baleares\", \"illes_balears\", inplace=True, regex=True)\n",
    "maestro_municipios['ccaa'].replace(\"islas_baleares\", \"illes_balears\", inplace=True, regex=True)\n",
    "maestro_municipios['ccaa'].replace(\"comunidad_valenciana\", \"comunitat_valenciana\", inplace=True, regex=True)\n",
    "maestro_municipios['province'].replace(\"guipuzcoa\", \"gipuzkoa\", inplace=True )\n",
    "#maestro_municipios['cities_es/province'].replace(\"guipuzcoa\", \"gipuzkoa\", inplace=True, regex=True)\n",
    "\n",
    "#eliminacion nans\n",
    "maestro_municipios = maestro_municipios[~maestro_municipios['province'].isnull()]"
   ]
  },
  {
   "cell_type": "code",
   "execution_count": 175,
   "metadata": {
    "scrolled": false
   },
   "outputs": [
    {
     "data": {
      "text/html": [
       "<div>\n",
       "<style scoped>\n",
       "    .dataframe tbody tr th:only-of-type {\n",
       "        vertical-align: middle;\n",
       "    }\n",
       "\n",
       "    .dataframe tbody tr th {\n",
       "        vertical-align: top;\n",
       "    }\n",
       "\n",
       "    .dataframe thead th {\n",
       "        text-align: right;\n",
       "    }\n",
       "</style>\n",
       "<table border=\"1\" class=\"dataframe\">\n",
       "  <thead>\n",
       "    <tr style=\"text-align: right;\">\n",
       "      <th></th>\n",
       "      <th>ine_code</th>\n",
       "      <th>postal_code</th>\n",
       "      <th>cities_es</th>\n",
       "      <th>cities</th>\n",
       "      <th>province_es</th>\n",
       "      <th>province</th>\n",
       "      <th>ccaa_es</th>\n",
       "      <th>ccaa</th>\n",
       "      <th>cities_es/province_es</th>\n",
       "      <th>cities_es/province</th>\n",
       "      <th>cities_es/ccaa_es</th>\n",
       "      <th>cities_es/ccaa</th>\n",
       "      <th>cities/province_es</th>\n",
       "      <th>province_es/ccaa_es</th>\n",
       "      <th>province_es/ccaa</th>\n",
       "      <th>province/ccaa_es</th>\n",
       "      <th>province/ccaa</th>\n",
       "    </tr>\n",
       "  </thead>\n",
       "  <tbody>\n",
       "    <tr>\n",
       "      <th>0</th>\n",
       "      <td>01001</td>\n",
       "      <td>01240</td>\n",
       "      <td>alegria_dulantzi</td>\n",
       "      <td>alegria_dulantzi</td>\n",
       "      <td>alava</td>\n",
       "      <td>araba</td>\n",
       "      <td>pais_vasco</td>\n",
       "      <td>pais_vasco</td>\n",
       "      <td>alegria_dulantzi/alava</td>\n",
       "      <td>alegria_dulantzi/araba</td>\n",
       "      <td>alegria_dulantzi/pais_vasco</td>\n",
       "      <td>alegria_dulantzi/pais_vasco</td>\n",
       "      <td>alegria_dulantzi/alava</td>\n",
       "      <td>alava/pais_vasco</td>\n",
       "      <td>alava/pais_vasco</td>\n",
       "      <td>araba/pais_vasco</td>\n",
       "      <td>araba/pais_vasco</td>\n",
       "    </tr>\n",
       "    <tr>\n",
       "      <th>1</th>\n",
       "      <td>01001</td>\n",
       "      <td>01193</td>\n",
       "      <td>alegria_dulantzi</td>\n",
       "      <td>alegria_dulantzi</td>\n",
       "      <td>alava</td>\n",
       "      <td>araba</td>\n",
       "      <td>pais_vasco</td>\n",
       "      <td>pais_vasco</td>\n",
       "      <td>alegria_dulantzi/alava</td>\n",
       "      <td>alegria_dulantzi/araba</td>\n",
       "      <td>alegria_dulantzi/pais_vasco</td>\n",
       "      <td>alegria_dulantzi/pais_vasco</td>\n",
       "      <td>alegria_dulantzi/alava</td>\n",
       "      <td>alava/pais_vasco</td>\n",
       "      <td>alava/pais_vasco</td>\n",
       "      <td>araba/pais_vasco</td>\n",
       "      <td>araba/pais_vasco</td>\n",
       "    </tr>\n",
       "  </tbody>\n",
       "</table>\n",
       "</div>"
      ],
      "text/plain": [
       "  ine_code postal_code         cities_es            cities province_es  \\\n",
       "0    01001       01240  alegria_dulantzi  alegria_dulantzi       alava   \n",
       "1    01001       01193  alegria_dulantzi  alegria_dulantzi       alava   \n",
       "\n",
       "  province     ccaa_es        ccaa   cities_es/province_es  \\\n",
       "0    araba  pais_vasco  pais_vasco  alegria_dulantzi/alava   \n",
       "1    araba  pais_vasco  pais_vasco  alegria_dulantzi/alava   \n",
       "\n",
       "       cities_es/province            cities_es/ccaa_es  \\\n",
       "0  alegria_dulantzi/araba  alegria_dulantzi/pais_vasco   \n",
       "1  alegria_dulantzi/araba  alegria_dulantzi/pais_vasco   \n",
       "\n",
       "                cities_es/ccaa      cities/province_es province_es/ccaa_es  \\\n",
       "0  alegria_dulantzi/pais_vasco  alegria_dulantzi/alava    alava/pais_vasco   \n",
       "1  alegria_dulantzi/pais_vasco  alegria_dulantzi/alava    alava/pais_vasco   \n",
       "\n",
       "   province_es/ccaa  province/ccaa_es     province/ccaa  \n",
       "0  alava/pais_vasco  araba/pais_vasco  araba/pais_vasco  \n",
       "1  alava/pais_vasco  araba/pais_vasco  araba/pais_vasco  "
      ]
     },
     "execution_count": 175,
     "metadata": {},
     "output_type": "execute_result"
    }
   ],
   "source": [
    "maestro_municipios.head(2)"
   ]
  },
  {
   "cell_type": "code",
   "execution_count": 176,
   "metadata": {},
   "outputs": [
    {
     "data": {
      "text/plain": [
       "(14288, 17)"
      ]
     },
     "execution_count": 176,
     "metadata": {},
     "output_type": "execute_result"
    }
   ],
   "source": [
    "maestro_municipios.shape"
   ]
  },
  {
   "cell_type": "code",
   "execution_count": 180,
   "metadata": {},
   "outputs": [],
   "source": [
    "maestro_municipios.to_csv(\"maestro_nivel_todo.csv\")"
   ]
  },
  {
   "cell_type": "markdown",
   "metadata": {},
   "source": [
    "### Creacion maestro nivel cod postal"
   ]
  },
  {
   "cell_type": "code",
   "execution_count": 12,
   "metadata": {
    "scrolled": true
   },
   "outputs": [
    {
     "data": {
      "text/plain": [
       "(10672, 2)"
      ]
     },
     "execution_count": 12,
     "metadata": {},
     "output_type": "execute_result"
    }
   ],
   "source": [
    "# se eliminan el ine y cod postal\n",
    "maestro_nivel_cod_postal = maestro_municipios.drop(columns=['ine_code','cities_es/province_es',\n",
    "       'cities_es/ccaa_es', 'cities_es/ccaa', 'cities_es', 'cities', 'province_es', 'province',\n",
    "       'ccaa_es', 'ccaa', 'cities/province_es', 'province_es/ccaa_es', \n",
    "        'province_es/ccaa', 'province/ccaa_es', 'province/ccaa'])\n",
    "maestro_nivel_cod_postal.drop_duplicates(inplace=True)\n",
    "maestro_nivel_cod_postal.shape"
   ]
  },
  {
   "cell_type": "code",
   "execution_count": 13,
   "metadata": {
    "scrolled": true
   },
   "outputs": [
    {
     "data": {
      "text/plain": [
       "Index(['postal_code', 'cities_es/province'], dtype='object')"
      ]
     },
     "execution_count": 13,
     "metadata": {},
     "output_type": "execute_result"
    }
   ],
   "source": [
    "maestro_nivel_cod_postal.columns"
   ]
  },
  {
   "cell_type": "code",
   "execution_count": 14,
   "metadata": {},
   "outputs": [],
   "source": [
    "maestro_nivel_cod_postal.to_csv(\"maestro_nivel_cod_postal.csv\")"
   ]
  },
  {
   "cell_type": "markdown",
   "metadata": {},
   "source": [
    "### Creacion maestro nivel municipio"
   ]
  },
  {
   "cell_type": "code",
   "execution_count": 15,
   "metadata": {
    "scrolled": true
   },
   "outputs": [
    {
     "data": {
      "text/plain": [
       "(6067, 7)"
      ]
     },
     "execution_count": 15,
     "metadata": {},
     "output_type": "execute_result"
    }
   ],
   "source": [
    "# se eliminan el ine y cod postal\n",
    "maestro_nivel_municipio = maestro_municipios.drop(columns=['ine_code','postal_code', 'cities_es/province_es', 'cities_es/ccaa_es',\n",
    "       'cities_es/ccaa', 'cities/province_es', 'province_es/ccaa_es',\n",
    "       'province_es/ccaa', 'province/ccaa_es', 'province/ccaa'])\n",
    "maestro_nivel_municipio.drop_duplicates(inplace=True)\n",
    "maestro_nivel_municipio.shape"
   ]
  },
  {
   "cell_type": "code",
   "execution_count": 16,
   "metadata": {},
   "outputs": [
    {
     "data": {
      "text/plain": [
       "Index(['cities_es', 'cities', 'province_es', 'province', 'ccaa_es', 'ccaa',\n",
       "       'cities_es/province'],\n",
       "      dtype='object')"
      ]
     },
     "execution_count": 16,
     "metadata": {},
     "output_type": "execute_result"
    }
   ],
   "source": [
    "maestro_nivel_municipio.columns"
   ]
  },
  {
   "cell_type": "code",
   "execution_count": 17,
   "metadata": {},
   "outputs": [],
   "source": [
    "maestro_nivel_municipio.to_csv(\"maestro_nivel_municipio.csv\")"
   ]
  },
  {
   "cell_type": "markdown",
   "metadata": {},
   "source": [
    "### Fichero nombres originales"
   ]
  },
  {
   "cell_type": "raw",
   "metadata": {},
   "source": [
    "municipios = pd.read_csv(\"listado-codigos-postales-con-LatyLon.csv\", sep=';', dtype={'codigopostalid': object})\n",
    "municipios.shape"
   ]
  },
  {
   "cell_type": "raw",
   "metadata": {
    "scrolled": true
   },
   "source": [
    "municipios.head(2)"
   ]
  },
  {
   "cell_type": "raw",
   "metadata": {},
   "source": [
    "municipios.drop(columns=['codigopostalid','lat','lon'], inplace=True)\n",
    "municipios.drop_duplicates(subset=['poblacion','provincia'], inplace=True)\n",
    "municipios['provincia_limpio'] = municipios['provincia'].apply(doClean)\n",
    "municipios['municipio_limpio'] = municipios['poblacion'].apply(doClean)\n",
    "municipios.rename(columns={'provincia': 'provincia_original', 'poblacion': 'municipio_original'}, inplace=True)\n",
    "municipios.shape"
   ]
  },
  {
   "cell_type": "raw",
   "metadata": {
    "scrolled": true
   },
   "source": [
    "maestro_nivel_municipio_ori = union_muni(maestro_nivel_municipio, municipios, 'cities', 'province', 'municipio_limpio', 'provincia_limpio', threshold=85)"
   ]
  },
  {
   "cell_type": "raw",
   "metadata": {
    "scrolled": true
   },
   "source": [
    "maestro_nivel_municipio_ori.head()"
   ]
  },
  {
   "cell_type": "raw",
   "metadata": {},
   "source": [
    "maestro_nivel_municipio_ori.shape"
   ]
  },
  {
   "cell_type": "raw",
   "metadata": {},
   "source": [
    "maestro_nivel_municipio_ori.to_csv(\"maestro_nivel_municipio_ori.csv\")"
   ]
  },
  {
   "cell_type": "markdown",
   "metadata": {},
   "source": [
    "### Creacion maestro nivel cod INE"
   ]
  },
  {
   "cell_type": "code",
   "execution_count": 181,
   "metadata": {
    "scrolled": true
   },
   "outputs": [
    {
     "data": {
      "text/plain": [
       "(9511, 2)"
      ]
     },
     "execution_count": 181,
     "metadata": {},
     "output_type": "execute_result"
    }
   ],
   "source": [
    "# se eliminan el ine y cod postal\n",
    "maestro_nivel_ine = maestro_municipios.drop(columns=['postal_code','cities_es/province_es',\n",
    "       'cities_es/ccaa_es', 'cities_es/ccaa', 'cities_es', 'cities', 'province_es', 'province',\n",
    "       'ccaa_es', 'ccaa', 'cities/province_es', 'province_es/ccaa_es', \n",
    "        'province_es/ccaa', 'province/ccaa_es', 'province/ccaa'])\n",
    "maestro_nivel_ine.drop_duplicates(inplace=True)\n",
    "maestro_nivel_ine.shape"
   ]
  },
  {
   "cell_type": "code",
   "execution_count": 182,
   "metadata": {
    "scrolled": true
   },
   "outputs": [
    {
     "data": {
      "text/plain": [
       "Index(['ine_code', 'cities_es/province'], dtype='object')"
      ]
     },
     "execution_count": 182,
     "metadata": {},
     "output_type": "execute_result"
    }
   ],
   "source": [
    "maestro_nivel_ine.columns"
   ]
  },
  {
   "cell_type": "code",
   "execution_count": 185,
   "metadata": {},
   "outputs": [
    {
     "data": {
      "text/html": [
       "<div>\n",
       "<style scoped>\n",
       "    .dataframe tbody tr th:only-of-type {\n",
       "        vertical-align: middle;\n",
       "    }\n",
       "\n",
       "    .dataframe tbody tr th {\n",
       "        vertical-align: top;\n",
       "    }\n",
       "\n",
       "    .dataframe thead th {\n",
       "        text-align: right;\n",
       "    }\n",
       "</style>\n",
       "<table border=\"1\" class=\"dataframe\">\n",
       "  <thead>\n",
       "    <tr style=\"text-align: right;\">\n",
       "      <th></th>\n",
       "      <th>ine_code</th>\n",
       "      <th>cities_es/province</th>\n",
       "    </tr>\n",
       "  </thead>\n",
       "  <tbody>\n",
       "  </tbody>\n",
       "</table>\n",
       "</div>"
      ],
      "text/plain": [
       "Empty DataFrame\n",
       "Columns: [ine_code, cities_es/province]\n",
       "Index: []"
      ]
     },
     "execution_count": 185,
     "metadata": {},
     "output_type": "execute_result"
    }
   ],
   "source": [
    "maestro_nivel_ine[maestro_nivel_ine.duplicated()]"
   ]
  },
  {
   "cell_type": "code",
   "execution_count": 186,
   "metadata": {},
   "outputs": [],
   "source": [
    "maestro_nivel_ine.to_csv(\"maestro_nivel_ine.csv\")"
   ]
  }
 ],
 "metadata": {
  "kernelspec": {
   "display_name": "Python 3",
   "language": "python",
   "name": "python3"
  },
  "language_info": {
   "codemirror_mode": {
    "name": "ipython",
    "version": 3
   },
   "file_extension": ".py",
   "mimetype": "text/x-python",
   "name": "python",
   "nbconvert_exporter": "python",
   "pygments_lexer": "ipython3",
   "version": "3.8.2"
  }
 },
 "nbformat": 4,
 "nbformat_minor": 4
}
