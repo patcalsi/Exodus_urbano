{
 "cells": [
  {
   "cell_type": "code",
   "execution_count": 1,
   "metadata": {},
   "outputs": [],
   "source": [
    "import os"
   ]
  },
  {
   "cell_type": "code",
   "execution_count": 8,
   "metadata": {},
   "outputs": [
    {
     "data": {
      "text/plain": [
       "'/home/patcalsi/miniconda/envs/camara/bin:/home/patcalsi/miniconda/condabin:/usr/local/sbin:/usr/local/bin:/usr/sbin:/usr/bin:/sbin:/bin:/usr/games:/usr/local/games:/snap/bin:/home/patcalsi/miniconda/bin'"
      ]
     },
     "execution_count": 8,
     "metadata": {},
     "output_type": "execute_result"
    }
   ],
   "source": [
    "os.environ['PATH']"
   ]
  },
  {
   "cell_type": "code",
   "execution_count": 4,
   "metadata": {},
   "outputs": [],
   "source": [
    "from selenium import webdriver\n",
    "import re\n",
    "import pandas as pd\n",
    "import numpy as np"
   ]
  },
  {
   "cell_type": "code",
   "execution_count": 5,
   "metadata": {},
   "outputs": [],
   "source": [
    "from selenium.webdriver.common.keys import Keys\n",
    "from selenium.webdriver.common.by import By\n",
    "from selenium.webdriver.support.ui import WebDriverWait\n",
    "from selenium.webdriver.support import expected_conditions as EC\n",
    "import time\n",
    "import requests"
   ]
  },
  {
   "cell_type": "code",
   "execution_count": 13,
   "metadata": {},
   "outputs": [],
   "source": [
    "import datetime\n",
    "\n",
    "ORIGIN = 'MADRID'\n",
    "DESTINATION = 'VALENCIA'\n",
    "\n",
    "# tickets for tomorrow\n",
    "DATE = (datetime.date.today() + datetime.timedelta(days=1)).strftime('%d/%m/%Y')"
   ]
  },
  {
   "cell_type": "code",
   "execution_count": 14,
   "metadata": {},
   "outputs": [
    {
     "name": "stdout",
     "output_type": "stream",
     "text": [
      "https://venta.renfe.com/vol/search.do?c=_canr\n"
     ]
    }
   ],
   "source": [
    "browser = webdriver.Chrome(executable_path='/usr/local/bin/chromedriver')\n",
    "browser.get('http://www.renfe.com/')\n",
    "\n",
    "\n",
    "origin = browser.find_element_by_name('desOrigen')\n",
    "origin.send_keys(ORIGIN)\n",
    "origin.send_keys(Keys.ARROW_DOWN)\n",
    "origin.send_keys(Keys.ENTER)\n",
    "\n",
    "destination = browser.find_element_by_name('desDestino')\n",
    "destination.send_keys(DESTINATION)\n",
    "destination.send_keys(Keys.ARROW_DOWN)\n",
    "destination.send_keys(Keys.ENTER)\n",
    "\n",
    "date = browser.find_element_by_name('__fechaIdaVisual')\n",
    "date.send_keys(Keys.BACK_SPACE * 10)\n",
    "date.send_keys(DATE)\n",
    "\n",
    "destination.send_keys(Keys.ENTER)\n",
    "\n",
    "element = WebDriverWait(browser, 60).until(EC.presence_of_element_located((By.ID, \"listaTrenesTBodyIda\")))\n",
    "new_url = browser.current_url\n",
    "print(new_url)\n",
    "#html = requests.get(new_url).content\n",
    "#soup = BeautifulSoup(html, \"lxml\")\n",
    "#table_id = browser.find_element(By.ID, 'listaTrenesTBodyIda')\n",
    "target_table = browser.find_element_by_xpath(\"//*[@id='listaTrenesTBodyIda']\")\n",
    "time.sleep(4)\n",
    "#rows = target_table.find_elements(By.TAG_NAME, 'tr')\n",
    "rows_trains = target_table.find_elements_by_xpath(\"//*[contains(@id,'tren')]\")\n",
    "rows_parsed = [i.get_attribute('innerHTML') for i in rows_trains]\n",
    "#for i in rows_trains:\n",
    "    #rows_parsed.append(i.get_attribute('innerHTML'))\n",
    "    \n",
    "browser.close()\n"
   ]
  },
  {
   "cell_type": "code",
   "execution_count": 16,
   "metadata": {},
   "outputs": [],
   "source": [
    "browser = webdriver.Chrome(executable_path='/usr/local/bin/chromedriver')\n",
    "browser.get('https://www.educacion.gob.es/centros/')\n",
    "\n",
    "origin =browser.find_element_by_xpath('//*[@title=\"Valencia\"]').click()\n",
    "#new_url = browser.current_url\n",
    "origin2 =browser.find_element_by_xpath('//*[@title=\"Castellón\"]').click()\n",
    "    \n",
    "browser.close()\n"
   ]
  },
  {
   "cell_type": "code",
   "execution_count": null,
   "metadata": {},
   "outputs": [],
   "source": [
    "title=\"Valencia\""
   ]
  }
 ],
 "metadata": {
  "kernelspec": {
   "display_name": "Python 3",
   "language": "python",
   "name": "python3"
  },
  "language_info": {
   "codemirror_mode": {
    "name": "ipython",
    "version": 3
   },
   "file_extension": ".py",
   "mimetype": "text/x-python",
   "name": "python",
   "nbconvert_exporter": "python",
   "pygments_lexer": "ipython3",
   "version": "3.8.2"
  }
 },
 "nbformat": 4,
 "nbformat_minor": 4
}
